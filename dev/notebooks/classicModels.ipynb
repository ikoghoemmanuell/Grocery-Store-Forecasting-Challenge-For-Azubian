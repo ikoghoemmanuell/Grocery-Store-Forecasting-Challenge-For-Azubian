{
 "cells": [
  {
   "cell_type": "markdown",
   "metadata": {},
   "source": [
    "# Title\n",
    "Regression Project (Store Sales -- Time Series Forecasting)"
   ]
  },
  {
   "attachments": {},
   "cell_type": "markdown",
   "metadata": {},
   "source": [
    "# Project Description\n",
    "In this project, we will predict store sales on data from Corporation Favorita, a large Ecuadorian-based grocery retailer. This is a time series forecasting problem.\n",
    "\n",
    "Specifically, we are to build a model that more accurately predicts the unit sales for thousands of items sold at different Favorita stores.\n",
    "\n",
    "The training data includes dates, store, and product information, whether that item was being promoted, as well as the sales numbers. Additional files include supplementary information that may be useful in building your models"
   ]
  },
  {
   "cell_type": "markdown",
   "metadata": {},
   "source": [
    "# Hypothesis\n",
    "## Null Hypothesis, HO\n",
    "Series is non-stationary\n",
    "## AlternativeHypothesis, H1\n",
    "Series is stationary\n",
    "# Questions\n",
    "1. Is the train dataset complete (has all the required dates)?\n",
    "\n",
    "2. Which dates have the lowest and highest sales for each year?\n",
    "\n",
    "3. Did the earthquake impact sales?\n",
    "\n",
    "4. Are certain groups of stores selling more products? (Cluster, city, state, type)\n",
    "\n",
    "5. Are sales affected by promotions, oil prices and holidays?\n",
    "\n",
    "6. What analysis can we get from the date and its extractable features?\n",
    "\n",
    "7. What is the difference between RMSLE, RMSE, MSE (or why is the MAE greater than all of them?)\n",
    "\n",
    "ADDITIONAL QUESTIONS\n",
    "\n",
    "8. What is the trend of sales over time?\n",
    "9. What is the trend of transactions over time?\n",
    "10. Highest and lowest performing stores in terms of sales\n",
    "11. Highest performing family of products\n"
   ]
  },
  {
   "cell_type": "markdown",
   "metadata": {},
   "source": [
    "# Importation"
   ]
  },
  {
   "cell_type": "code",
   "execution_count": 1,
   "metadata": {},
   "outputs": [],
   "source": [
    "import pandas as pd\n",
    "import numpy as np\n",
    "import matplotlib.pyplot as plt\n",
    "import seaborn as sns\n",
    "import plotly.express as px\n",
    "import plotly.graph_objects as go\n",
    "\n",
    "import matplotlib.dates as mdates\n",
    "from pandas_profiling import ProfileReport\n",
    "%matplotlib inline\n",
    "\n",
    "from statsmodels.tsa.stattools import adfuller\n",
    "from statsmodels.tsa.stattools import kpss\n",
    "\n",
    "from sklearn.impute import SimpleImputer\n",
    "from sklearn.preprocessing import OneHotEncoder, LabelEncoder\n",
    "\n",
    "from sklearn.metrics import mean_squared_error\n",
    "from sklearn.metrics import mean_squared_log_error\n",
    "\n",
    "import warnings\n",
    "warnings.filterwarnings(\"ignore\")"
   ]
  },
  {
   "cell_type": "markdown",
   "metadata": {},
   "source": [
    "# Data Loading"
   ]
  },
  {
   "cell_type": "code",
   "execution_count": 2,
   "metadata": {},
   "outputs": [],
   "source": [
    "holidays=pd.read_csv(\"store-sales-time-series-forecasting/holidays_events.csv\")\n",
    "oil=pd.read_csv(\"store-sales-time-series-forecasting/oil.csv\")\n",
    "sample=pd.read_csv(\"store-sales-time-series-forecasting/sample_submission.csv\")\n",
    "stores=pd.read_csv(\"store-sales-time-series-forecasting/stores.csv\")\n",
    "test=pd.read_csv(\"store-sales-time-series-forecasting/test.csv\")\n",
    "train=pd.read_csv(\"store-sales-time-series-forecasting/train.csv\", parse_dates =['date'])\n",
    "transactions=pd.read_csv(\"store-sales-time-series-forecasting/transactions.csv\")"
   ]
  },
  {
   "cell_type": "markdown",
   "metadata": {},
   "source": [
    "# Exploratory Data Analysis: EDA\n",
    "# Dataset overview"
   ]
  },
  {
   "cell_type": "code",
   "execution_count": 3,
   "metadata": {},
   "outputs": [],
   "source": [
    "# profile_data = ProfileReport(train, title =\"train Profiling Report\")\n",
    "# profile_data"
   ]
  },
  {
   "attachments": {},
   "cell_type": "markdown",
   "metadata": {},
   "source": [
    "Our date starts from January 2013 till October 2017 in our train data\n",
    "\n",
    "Also in our train dataset, Sales has a strong positive correlation with onpromotion, so we'll focus on sales and onpromotion\n",
    "\n",
    "since they correlate with one another the most\n",
    "\n",
    "No missing values in both our train and test data"
   ]
  },
  {
   "cell_type": "code",
   "execution_count": 4,
   "metadata": {},
   "outputs": [
    {
     "name": "stdout",
     "output_type": "stream",
     "text": [
      "<class 'pandas.core.frame.DataFrame'>\n",
      "RangeIndex: 28512 entries, 0 to 28511\n",
      "Data columns (total 5 columns):\n",
      " #   Column       Non-Null Count  Dtype \n",
      "---  ------       --------------  ----- \n",
      " 0   id           28512 non-null  int64 \n",
      " 1   date         28512 non-null  object\n",
      " 2   store_nbr    28512 non-null  int64 \n",
      " 3   family       28512 non-null  object\n",
      " 4   onpromotion  28512 non-null  int64 \n",
      "dtypes: int64(3), object(2)\n",
      "memory usage: 1.1+ MB\n"
     ]
    }
   ],
   "source": [
    "test.info()"
   ]
  },
  {
   "cell_type": "code",
   "execution_count": 5,
   "metadata": {},
   "outputs": [
    {
     "name": "stdout",
     "output_type": "stream",
     "text": [
      "<class 'pandas.core.frame.DataFrame'>\n",
      "RangeIndex: 83488 entries, 0 to 83487\n",
      "Data columns (total 3 columns):\n",
      " #   Column        Non-Null Count  Dtype \n",
      "---  ------        --------------  ----- \n",
      " 0   date          83488 non-null  object\n",
      " 1   store_nbr     83488 non-null  int64 \n",
      " 2   transactions  83488 non-null  int64 \n",
      "dtypes: int64(2), object(1)\n",
      "memory usage: 1.9+ MB\n"
     ]
    }
   ],
   "source": [
    "transactions.info()"
   ]
  },
  {
   "attachments": {},
   "cell_type": "markdown",
   "metadata": {},
   "source": [
    "we can see that the date column is in object instead of datetime\n",
    "\n",
    "so we will convert the datatypes"
   ]
  },
  {
   "attachments": {},
   "cell_type": "markdown",
   "metadata": {},
   "source": [
    "# Data Preparation and Processing"
   ]
  },
  {
   "attachments": {},
   "cell_type": "markdown",
   "metadata": {},
   "source": [
    "converting date columns to datetime"
   ]
  },
  {
   "cell_type": "code",
   "execution_count": 6,
   "metadata": {},
   "outputs": [],
   "source": [
    "#converting date columns to datetime\n",
    "def to_dateTime(df):\n",
    "    df['date'] = pd.to_datetime(df['date'])\n",
    "\n",
    "to_dateTime(transactions)\n",
    "to_dateTime(test)\n",
    "to_dateTime(oil)\n",
    "to_dateTime(holidays)"
   ]
  },
  {
   "attachments": {},
   "cell_type": "markdown",
   "metadata": {},
   "source": [
    "### check for missing dates"
   ]
  },
  {
   "cell_type": "code",
   "execution_count": 7,
   "metadata": {},
   "outputs": [
    {
     "data": {
      "text/plain": [
       "DatetimeIndex(['2013-12-25', '2014-12-25', '2015-12-25', '2016-01-01',\n",
       "               '2016-01-03', '2016-12-25'],\n",
       "              dtype='datetime64[ns]', freq=None)"
      ]
     },
     "execution_count": 7,
     "metadata": {},
     "output_type": "execute_result"
    }
   ],
   "source": [
    "missing_transaction_dates = (pd.date_range(\n",
    "    start=transactions.date.min(),\n",
    "    end=transactions.date.max())\n",
    "    .difference(transactions.date)\n",
    ")\n",
    "missing_transaction_dates"
   ]
  },
  {
   "attachments": {},
   "cell_type": "markdown",
   "metadata": {},
   "source": [
    "transactions has missing dates, so we first check the transactions data to see how best to fill them"
   ]
  },
  {
   "cell_type": "code",
   "execution_count": 8,
   "metadata": {},
   "outputs": [
    {
     "data": {
      "text/html": [
       "<div>\n",
       "<style scoped>\n",
       "    .dataframe tbody tr th:only-of-type {\n",
       "        vertical-align: middle;\n",
       "    }\n",
       "\n",
       "    .dataframe tbody tr th {\n",
       "        vertical-align: top;\n",
       "    }\n",
       "\n",
       "    .dataframe thead th {\n",
       "        text-align: right;\n",
       "    }\n",
       "</style>\n",
       "<table border=\"1\" class=\"dataframe\">\n",
       "  <thead>\n",
       "    <tr style=\"text-align: right;\">\n",
       "      <th></th>\n",
       "      <th>date</th>\n",
       "      <th>store_nbr</th>\n",
       "      <th>transactions</th>\n",
       "    </tr>\n",
       "  </thead>\n",
       "  <tbody>\n",
       "    <tr>\n",
       "      <th>0</th>\n",
       "      <td>2013-01-01</td>\n",
       "      <td>25</td>\n",
       "      <td>770</td>\n",
       "    </tr>\n",
       "    <tr>\n",
       "      <th>1</th>\n",
       "      <td>2013-01-02</td>\n",
       "      <td>1</td>\n",
       "      <td>2111</td>\n",
       "    </tr>\n",
       "    <tr>\n",
       "      <th>2</th>\n",
       "      <td>2013-01-02</td>\n",
       "      <td>2</td>\n",
       "      <td>2358</td>\n",
       "    </tr>\n",
       "    <tr>\n",
       "      <th>3</th>\n",
       "      <td>2013-01-02</td>\n",
       "      <td>3</td>\n",
       "      <td>3487</td>\n",
       "    </tr>\n",
       "    <tr>\n",
       "      <th>4</th>\n",
       "      <td>2013-01-02</td>\n",
       "      <td>4</td>\n",
       "      <td>1922</td>\n",
       "    </tr>\n",
       "    <tr>\n",
       "      <th>...</th>\n",
       "      <td>...</td>\n",
       "      <td>...</td>\n",
       "      <td>...</td>\n",
       "    </tr>\n",
       "    <tr>\n",
       "      <th>83483</th>\n",
       "      <td>2017-08-15</td>\n",
       "      <td>50</td>\n",
       "      <td>2804</td>\n",
       "    </tr>\n",
       "    <tr>\n",
       "      <th>83484</th>\n",
       "      <td>2017-08-15</td>\n",
       "      <td>51</td>\n",
       "      <td>1573</td>\n",
       "    </tr>\n",
       "    <tr>\n",
       "      <th>83485</th>\n",
       "      <td>2017-08-15</td>\n",
       "      <td>52</td>\n",
       "      <td>2255</td>\n",
       "    </tr>\n",
       "    <tr>\n",
       "      <th>83486</th>\n",
       "      <td>2017-08-15</td>\n",
       "      <td>53</td>\n",
       "      <td>932</td>\n",
       "    </tr>\n",
       "    <tr>\n",
       "      <th>83487</th>\n",
       "      <td>2017-08-15</td>\n",
       "      <td>54</td>\n",
       "      <td>802</td>\n",
       "    </tr>\n",
       "  </tbody>\n",
       "</table>\n",
       "<p>83488 rows × 3 columns</p>\n",
       "</div>"
      ],
      "text/plain": [
       "            date  store_nbr  transactions\n",
       "0     2013-01-01         25           770\n",
       "1     2013-01-02          1          2111\n",
       "2     2013-01-02          2          2358\n",
       "3     2013-01-02          3          3487\n",
       "4     2013-01-02          4          1922\n",
       "...          ...        ...           ...\n",
       "83483 2017-08-15         50          2804\n",
       "83484 2017-08-15         51          1573\n",
       "83485 2017-08-15         52          2255\n",
       "83486 2017-08-15         53           932\n",
       "83487 2017-08-15         54           802\n",
       "\n",
       "[83488 rows x 3 columns]"
      ]
     },
     "execution_count": 8,
     "metadata": {},
     "output_type": "execute_result"
    }
   ],
   "source": [
    "transactions"
   ]
  },
  {
   "attachments": {},
   "cell_type": "markdown",
   "metadata": {},
   "source": [
    "each date in transactions is iterated with each store_nbr, so we'll use itertools.product() function\n",
    "\n",
    "transactions on missing dates will be zero"
   ]
  },
  {
   "cell_type": "code",
   "execution_count": 9,
   "metadata": {},
   "outputs": [],
   "source": [
    "from itertools import product\n",
    "missing_transactions = list(product(missing_transaction_dates, transactions.store_nbr.unique()))\n",
    "transactions_extra = pd.DataFrame(missing_transactions, columns=['date', 'store_nbr'])"
   ]
  },
  {
   "attachments": {},
   "cell_type": "markdown",
   "metadata": {},
   "source": [
    "merge transactions with missing ones and fill missing transactions with 0"
   ]
  },
  {
   "cell_type": "code",
   "execution_count": 10,
   "metadata": {},
   "outputs": [],
   "source": [
    "transactions = pd.concat([transactions, transactions_extra], ignore_index=True)\n",
    "transactions.transactions.fillna(0, inplace=True)"
   ]
  },
  {
   "attachments": {},
   "cell_type": "markdown",
   "metadata": {},
   "source": [
    "## 1. Is the train dataset complete (has all the required dates)?\n",
    "\n",
    "From the information below you can see the train dataset has missing dates"
   ]
  },
  {
   "cell_type": "code",
   "execution_count": 11,
   "metadata": {},
   "outputs": [
    {
     "data": {
      "text/plain": [
       "DatetimeIndex(['2013-12-25', '2014-12-25', '2015-12-25', '2016-12-25'], dtype='datetime64[ns]', freq=None)"
      ]
     },
     "execution_count": 11,
     "metadata": {},
     "output_type": "execute_result"
    }
   ],
   "source": [
    "missing_train_dates = (pd.date_range(\n",
    "    start=train.date.min(),\n",
    "    end=train.date.max())\n",
    "    .difference(train.date)\n",
    ")\n",
    "missing_train_dates"
   ]
  },
  {
   "cell_type": "code",
   "execution_count": 12,
   "metadata": {},
   "outputs": [
    {
     "data": {
      "text/html": [
       "<div>\n",
       "<style scoped>\n",
       "    .dataframe tbody tr th:only-of-type {\n",
       "        vertical-align: middle;\n",
       "    }\n",
       "\n",
       "    .dataframe tbody tr th {\n",
       "        vertical-align: top;\n",
       "    }\n",
       "\n",
       "    .dataframe thead th {\n",
       "        text-align: right;\n",
       "    }\n",
       "</style>\n",
       "<table border=\"1\" class=\"dataframe\">\n",
       "  <thead>\n",
       "    <tr style=\"text-align: right;\">\n",
       "      <th></th>\n",
       "      <th>id</th>\n",
       "      <th>date</th>\n",
       "      <th>store_nbr</th>\n",
       "      <th>family</th>\n",
       "      <th>sales</th>\n",
       "      <th>onpromotion</th>\n",
       "    </tr>\n",
       "  </thead>\n",
       "  <tbody>\n",
       "    <tr>\n",
       "      <th>0</th>\n",
       "      <td>0</td>\n",
       "      <td>2013-01-01</td>\n",
       "      <td>1</td>\n",
       "      <td>AUTOMOTIVE</td>\n",
       "      <td>0.000</td>\n",
       "      <td>0</td>\n",
       "    </tr>\n",
       "    <tr>\n",
       "      <th>1</th>\n",
       "      <td>1</td>\n",
       "      <td>2013-01-01</td>\n",
       "      <td>1</td>\n",
       "      <td>BABY CARE</td>\n",
       "      <td>0.000</td>\n",
       "      <td>0</td>\n",
       "    </tr>\n",
       "    <tr>\n",
       "      <th>2</th>\n",
       "      <td>2</td>\n",
       "      <td>2013-01-01</td>\n",
       "      <td>1</td>\n",
       "      <td>BEAUTY</td>\n",
       "      <td>0.000</td>\n",
       "      <td>0</td>\n",
       "    </tr>\n",
       "    <tr>\n",
       "      <th>3</th>\n",
       "      <td>3</td>\n",
       "      <td>2013-01-01</td>\n",
       "      <td>1</td>\n",
       "      <td>BEVERAGES</td>\n",
       "      <td>0.000</td>\n",
       "      <td>0</td>\n",
       "    </tr>\n",
       "    <tr>\n",
       "      <th>4</th>\n",
       "      <td>4</td>\n",
       "      <td>2013-01-01</td>\n",
       "      <td>1</td>\n",
       "      <td>BOOKS</td>\n",
       "      <td>0.000</td>\n",
       "      <td>0</td>\n",
       "    </tr>\n",
       "    <tr>\n",
       "      <th>...</th>\n",
       "      <td>...</td>\n",
       "      <td>...</td>\n",
       "      <td>...</td>\n",
       "      <td>...</td>\n",
       "      <td>...</td>\n",
       "      <td>...</td>\n",
       "    </tr>\n",
       "    <tr>\n",
       "      <th>3000883</th>\n",
       "      <td>3000883</td>\n",
       "      <td>2017-08-15</td>\n",
       "      <td>9</td>\n",
       "      <td>POULTRY</td>\n",
       "      <td>438.133</td>\n",
       "      <td>0</td>\n",
       "    </tr>\n",
       "    <tr>\n",
       "      <th>3000884</th>\n",
       "      <td>3000884</td>\n",
       "      <td>2017-08-15</td>\n",
       "      <td>9</td>\n",
       "      <td>PREPARED FOODS</td>\n",
       "      <td>154.553</td>\n",
       "      <td>1</td>\n",
       "    </tr>\n",
       "    <tr>\n",
       "      <th>3000885</th>\n",
       "      <td>3000885</td>\n",
       "      <td>2017-08-15</td>\n",
       "      <td>9</td>\n",
       "      <td>PRODUCE</td>\n",
       "      <td>2419.729</td>\n",
       "      <td>148</td>\n",
       "    </tr>\n",
       "    <tr>\n",
       "      <th>3000886</th>\n",
       "      <td>3000886</td>\n",
       "      <td>2017-08-15</td>\n",
       "      <td>9</td>\n",
       "      <td>SCHOOL AND OFFICE SUPPLIES</td>\n",
       "      <td>121.000</td>\n",
       "      <td>8</td>\n",
       "    </tr>\n",
       "    <tr>\n",
       "      <th>3000887</th>\n",
       "      <td>3000887</td>\n",
       "      <td>2017-08-15</td>\n",
       "      <td>9</td>\n",
       "      <td>SEAFOOD</td>\n",
       "      <td>16.000</td>\n",
       "      <td>0</td>\n",
       "    </tr>\n",
       "  </tbody>\n",
       "</table>\n",
       "<p>3000888 rows × 6 columns</p>\n",
       "</div>"
      ],
      "text/plain": [
       "              id       date  store_nbr                      family     sales  \\\n",
       "0              0 2013-01-01          1                  AUTOMOTIVE     0.000   \n",
       "1              1 2013-01-01          1                   BABY CARE     0.000   \n",
       "2              2 2013-01-01          1                      BEAUTY     0.000   \n",
       "3              3 2013-01-01          1                   BEVERAGES     0.000   \n",
       "4              4 2013-01-01          1                       BOOKS     0.000   \n",
       "...          ...        ...        ...                         ...       ...   \n",
       "3000883  3000883 2017-08-15          9                     POULTRY   438.133   \n",
       "3000884  3000884 2017-08-15          9              PREPARED FOODS   154.553   \n",
       "3000885  3000885 2017-08-15          9                     PRODUCE  2419.729   \n",
       "3000886  3000886 2017-08-15          9  SCHOOL AND OFFICE SUPPLIES   121.000   \n",
       "3000887  3000887 2017-08-15          9                     SEAFOOD    16.000   \n",
       "\n",
       "         onpromotion  \n",
       "0                  0  \n",
       "1                  0  \n",
       "2                  0  \n",
       "3                  0  \n",
       "4                  0  \n",
       "...              ...  \n",
       "3000883            0  \n",
       "3000884            1  \n",
       "3000885          148  \n",
       "3000886            8  \n",
       "3000887            0  \n",
       "\n",
       "[3000888 rows x 6 columns]"
      ]
     },
     "execution_count": 12,
     "metadata": {},
     "output_type": "execute_result"
    }
   ],
   "source": [
    "train"
   ]
  },
  {
   "attachments": {},
   "cell_type": "markdown",
   "metadata": {},
   "source": [
    "each date iterates across each unique store_nbr\n",
    "\n",
    "each store_nbr also iterates across every family, so we use itertools.product() function again"
   ]
  },
  {
   "cell_type": "code",
   "execution_count": 13,
   "metadata": {},
   "outputs": [],
   "source": [
    "from itertools import product\n",
    "missing_train = list(product(missing_train_dates, train.store_nbr.unique(), train.family.unique()))\n",
    "train_extra = pd.DataFrame(missing_train, columns=['date', 'store_nbr', 'family'])"
   ]
  },
  {
   "attachments": {},
   "cell_type": "markdown",
   "metadata": {},
   "source": [
    "# more stuff"
   ]
  },
  {
   "cell_type": "code",
   "execution_count": 14,
   "metadata": {},
   "outputs": [],
   "source": [
    "train_dates = (pd.date_range(\n",
    "    start=train.date.min(),\n",
    "    end=train.date.max())\n",
    ")\n",
    "from itertools import product\n",
    "missing_trainn = list(product(train_dates, train.store_nbr.unique(), train.family.unique()))\n",
    "train_extra1 = pd.DataFrame(missing_train, columns=['date', 'store_nbr', 'family'])"
   ]
  },
  {
   "cell_type": "code",
   "execution_count": 15,
   "metadata": {},
   "outputs": [],
   "source": [
    "# adding missing dates to train\n",
    "train = pd.concat([train, train_extra1], ignore_index=True)\n",
    "# fill missing sales and onpromotion with zero, just like with train\n",
    "train.sales.fillna(0, inplace=True)\n",
    "train.onpromotion.fillna(0, inplace=True)"
   ]
  },
  {
   "cell_type": "code",
   "execution_count": 16,
   "metadata": {},
   "outputs": [
    {
     "data": {
      "text/plain": [
       "DatetimeIndex([], dtype='datetime64[ns]', freq=None)"
      ]
     },
     "execution_count": 16,
     "metadata": {},
     "output_type": "execute_result"
    }
   ],
   "source": [
    "missing_test_dates = (pd.date_range(\n",
    "    start=test.date.min(),\n",
    "    end=test.date.max())\n",
    "    .difference(test.date)\n",
    ")\n",
    "missing_test_dates"
   ]
  },
  {
   "attachments": {},
   "cell_type": "markdown",
   "metadata": {},
   "source": [
    "test data has no missing dates"
   ]
  },
  {
   "cell_type": "code",
   "execution_count": 17,
   "metadata": {},
   "outputs": [
    {
     "data": {
      "text/html": [
       "<div>\n",
       "<style scoped>\n",
       "    .dataframe tbody tr th:only-of-type {\n",
       "        vertical-align: middle;\n",
       "    }\n",
       "\n",
       "    .dataframe tbody tr th {\n",
       "        vertical-align: top;\n",
       "    }\n",
       "\n",
       "    .dataframe thead th {\n",
       "        text-align: right;\n",
       "    }\n",
       "</style>\n",
       "<table border=\"1\" class=\"dataframe\">\n",
       "  <thead>\n",
       "    <tr style=\"text-align: right;\">\n",
       "      <th></th>\n",
       "      <th>date</th>\n",
       "    </tr>\n",
       "  </thead>\n",
       "  <tbody>\n",
       "    <tr>\n",
       "      <th>0</th>\n",
       "      <td>2013-01-05</td>\n",
       "    </tr>\n",
       "    <tr>\n",
       "      <th>1</th>\n",
       "      <td>2013-01-06</td>\n",
       "    </tr>\n",
       "    <tr>\n",
       "      <th>2</th>\n",
       "      <td>2013-01-12</td>\n",
       "    </tr>\n",
       "    <tr>\n",
       "      <th>3</th>\n",
       "      <td>2013-01-13</td>\n",
       "    </tr>\n",
       "    <tr>\n",
       "      <th>4</th>\n",
       "      <td>2013-01-19</td>\n",
       "    </tr>\n",
       "    <tr>\n",
       "      <th>...</th>\n",
       "      <td>...</td>\n",
       "    </tr>\n",
       "    <tr>\n",
       "      <th>481</th>\n",
       "      <td>2017-08-13</td>\n",
       "    </tr>\n",
       "    <tr>\n",
       "      <th>482</th>\n",
       "      <td>2017-08-19</td>\n",
       "    </tr>\n",
       "    <tr>\n",
       "      <th>483</th>\n",
       "      <td>2017-08-20</td>\n",
       "    </tr>\n",
       "    <tr>\n",
       "      <th>484</th>\n",
       "      <td>2017-08-26</td>\n",
       "    </tr>\n",
       "    <tr>\n",
       "      <th>485</th>\n",
       "      <td>2017-08-27</td>\n",
       "    </tr>\n",
       "  </tbody>\n",
       "</table>\n",
       "<p>486 rows × 1 columns</p>\n",
       "</div>"
      ],
      "text/plain": [
       "          date\n",
       "0   2013-01-05\n",
       "1   2013-01-06\n",
       "2   2013-01-12\n",
       "3   2013-01-13\n",
       "4   2013-01-19\n",
       "..         ...\n",
       "481 2017-08-13\n",
       "482 2017-08-19\n",
       "483 2017-08-20\n",
       "484 2017-08-26\n",
       "485 2017-08-27\n",
       "\n",
       "[486 rows x 1 columns]"
      ]
     },
     "execution_count": 17,
     "metadata": {},
     "output_type": "execute_result"
    }
   ],
   "source": [
    "missing_oil_dates = (pd.DataFrame(\n",
    "    pd.date_range(\n",
    "    start=oil.date.min(),\n",
    "    end=oil.date.max())\n",
    "    .difference(oil.date)\n",
    ", columns=['date']))\n",
    "\n",
    "missing_oil_dates"
   ]
  },
  {
   "cell_type": "code",
   "execution_count": 18,
   "metadata": {},
   "outputs": [
    {
     "data": {
      "text/html": [
       "<div>\n",
       "<style scoped>\n",
       "    .dataframe tbody tr th:only-of-type {\n",
       "        vertical-align: middle;\n",
       "    }\n",
       "\n",
       "    .dataframe tbody tr th {\n",
       "        vertical-align: top;\n",
       "    }\n",
       "\n",
       "    .dataframe thead th {\n",
       "        text-align: right;\n",
       "    }\n",
       "</style>\n",
       "<table border=\"1\" class=\"dataframe\">\n",
       "  <thead>\n",
       "    <tr style=\"text-align: right;\">\n",
       "      <th></th>\n",
       "      <th>date</th>\n",
       "      <th>dcoilwtico</th>\n",
       "    </tr>\n",
       "  </thead>\n",
       "  <tbody>\n",
       "    <tr>\n",
       "      <th>0</th>\n",
       "      <td>2013-01-01</td>\n",
       "      <td>NaN</td>\n",
       "    </tr>\n",
       "    <tr>\n",
       "      <th>1</th>\n",
       "      <td>2013-01-02</td>\n",
       "      <td>93.14</td>\n",
       "    </tr>\n",
       "    <tr>\n",
       "      <th>2</th>\n",
       "      <td>2013-01-03</td>\n",
       "      <td>92.97</td>\n",
       "    </tr>\n",
       "    <tr>\n",
       "      <th>3</th>\n",
       "      <td>2013-01-04</td>\n",
       "      <td>93.12</td>\n",
       "    </tr>\n",
       "    <tr>\n",
       "      <th>4</th>\n",
       "      <td>2013-01-07</td>\n",
       "      <td>93.20</td>\n",
       "    </tr>\n",
       "    <tr>\n",
       "      <th>...</th>\n",
       "      <td>...</td>\n",
       "      <td>...</td>\n",
       "    </tr>\n",
       "    <tr>\n",
       "      <th>1213</th>\n",
       "      <td>2017-08-25</td>\n",
       "      <td>47.65</td>\n",
       "    </tr>\n",
       "    <tr>\n",
       "      <th>1214</th>\n",
       "      <td>2017-08-28</td>\n",
       "      <td>46.40</td>\n",
       "    </tr>\n",
       "    <tr>\n",
       "      <th>1215</th>\n",
       "      <td>2017-08-29</td>\n",
       "      <td>46.46</td>\n",
       "    </tr>\n",
       "    <tr>\n",
       "      <th>1216</th>\n",
       "      <td>2017-08-30</td>\n",
       "      <td>45.96</td>\n",
       "    </tr>\n",
       "    <tr>\n",
       "      <th>1217</th>\n",
       "      <td>2017-08-31</td>\n",
       "      <td>47.26</td>\n",
       "    </tr>\n",
       "  </tbody>\n",
       "</table>\n",
       "<p>1218 rows × 2 columns</p>\n",
       "</div>"
      ],
      "text/plain": [
       "           date  dcoilwtico\n",
       "0    2013-01-01         NaN\n",
       "1    2013-01-02       93.14\n",
       "2    2013-01-03       92.97\n",
       "3    2013-01-04       93.12\n",
       "4    2013-01-07       93.20\n",
       "...         ...         ...\n",
       "1213 2017-08-25       47.65\n",
       "1214 2017-08-28       46.40\n",
       "1215 2017-08-29       46.46\n",
       "1216 2017-08-30       45.96\n",
       "1217 2017-08-31       47.26\n",
       "\n",
       "[1218 rows x 2 columns]"
      ]
     },
     "execution_count": 18,
     "metadata": {},
     "output_type": "execute_result"
    }
   ],
   "source": [
    "oil"
   ]
  },
  {
   "attachments": {},
   "cell_type": "markdown",
   "metadata": {},
   "source": [
    "for our oil data, we'll first fill missing dates, then we'll interpplate and bfill to fix missing oil prices"
   ]
  },
  {
   "cell_type": "code",
   "execution_count": 19,
   "metadata": {},
   "outputs": [],
   "source": [
    "#add missing oil dates\n",
    "oil = pd.concat([oil, missing_oil_dates], ignore_index=True)\n",
    "\n",
    "#filling missing oil values\n",
    "oil['dcoilwtico'] = oil['dcoilwtico'].interpolate(method='linear').ffill().bfill()"
   ]
  },
  {
   "cell_type": "code",
   "execution_count": 20,
   "metadata": {},
   "outputs": [
    {
     "data": {
      "text/html": [
       "<div>\n",
       "<style scoped>\n",
       "    .dataframe tbody tr th:only-of-type {\n",
       "        vertical-align: middle;\n",
       "    }\n",
       "\n",
       "    .dataframe tbody tr th {\n",
       "        vertical-align: top;\n",
       "    }\n",
       "\n",
       "    .dataframe thead th {\n",
       "        text-align: right;\n",
       "    }\n",
       "</style>\n",
       "<table border=\"1\" class=\"dataframe\">\n",
       "  <thead>\n",
       "    <tr style=\"text-align: right;\">\n",
       "      <th></th>\n",
       "      <th>date</th>\n",
       "    </tr>\n",
       "  </thead>\n",
       "  <tbody>\n",
       "    <tr>\n",
       "      <th>0</th>\n",
       "      <td>2012-03-03</td>\n",
       "    </tr>\n",
       "    <tr>\n",
       "      <th>1</th>\n",
       "      <td>2012-03-04</td>\n",
       "    </tr>\n",
       "    <tr>\n",
       "      <th>2</th>\n",
       "      <td>2012-03-05</td>\n",
       "    </tr>\n",
       "    <tr>\n",
       "      <th>3</th>\n",
       "      <td>2012-03-06</td>\n",
       "    </tr>\n",
       "    <tr>\n",
       "      <th>4</th>\n",
       "      <td>2012-03-07</td>\n",
       "    </tr>\n",
       "    <tr>\n",
       "      <th>...</th>\n",
       "      <td>...</td>\n",
       "    </tr>\n",
       "    <tr>\n",
       "      <th>1809</th>\n",
       "      <td>2017-12-16</td>\n",
       "    </tr>\n",
       "    <tr>\n",
       "      <th>1810</th>\n",
       "      <td>2017-12-17</td>\n",
       "    </tr>\n",
       "    <tr>\n",
       "      <th>1811</th>\n",
       "      <td>2017-12-18</td>\n",
       "    </tr>\n",
       "    <tr>\n",
       "      <th>1812</th>\n",
       "      <td>2017-12-19</td>\n",
       "    </tr>\n",
       "    <tr>\n",
       "      <th>1813</th>\n",
       "      <td>2017-12-20</td>\n",
       "    </tr>\n",
       "  </tbody>\n",
       "</table>\n",
       "<p>1814 rows × 1 columns</p>\n",
       "</div>"
      ],
      "text/plain": [
       "           date\n",
       "0    2012-03-03\n",
       "1    2012-03-04\n",
       "2    2012-03-05\n",
       "3    2012-03-06\n",
       "4    2012-03-07\n",
       "...         ...\n",
       "1809 2017-12-16\n",
       "1810 2017-12-17\n",
       "1811 2017-12-18\n",
       "1812 2017-12-19\n",
       "1813 2017-12-20\n",
       "\n",
       "[1814 rows x 1 columns]"
      ]
     },
     "execution_count": 20,
     "metadata": {},
     "output_type": "execute_result"
    }
   ],
   "source": [
    "missing_holiday_dates = (pd.DataFrame(\n",
    "    pd.date_range(\n",
    "    start=holidays.date.min(),\n",
    "    end=holidays.date.max())\n",
    "    .difference(holidays.date)\n",
    ", columns=['date']))\n",
    "\n",
    "missing_holiday_dates"
   ]
  },
  {
   "cell_type": "code",
   "execution_count": 21,
   "metadata": {},
   "outputs": [],
   "source": [
    "holidays = pd.concat([holidays, missing_holiday_dates], ignore_index=True)"
   ]
  },
  {
   "cell_type": "code",
   "execution_count": 22,
   "metadata": {},
   "outputs": [
    {
     "data": {
      "text/plain": [
       "array(['AUTOMOTIVE', 'BABY CARE', 'BEAUTY', 'BEVERAGES', 'BOOKS',\n",
       "       'BREAD/BAKERY', 'CELEBRATION', 'CLEANING', 'DAIRY', 'DELI', 'EGGS',\n",
       "       'FROZEN FOODS', 'GROCERY I', 'GROCERY II', 'HARDWARE',\n",
       "       'HOME AND KITCHEN I', 'HOME AND KITCHEN II', 'HOME APPLIANCES',\n",
       "       'HOME CARE', 'LADIESWEAR', 'LAWN AND GARDEN', 'LINGERIE',\n",
       "       'LIQUOR,WINE,BEER', 'MAGAZINES', 'MEATS', 'PERSONAL CARE',\n",
       "       'PET SUPPLIES', 'PLAYERS AND ELECTRONICS', 'POULTRY',\n",
       "       'PREPARED FOODS', 'PRODUCE', 'SCHOOL AND OFFICE SUPPLIES',\n",
       "       'SEAFOOD'], dtype=object)"
      ]
     },
     "execution_count": 22,
     "metadata": {},
     "output_type": "execute_result"
    }
   ],
   "source": [
    "train['family'].unique()"
   ]
  },
  {
   "attachments": {},
   "cell_type": "markdown",
   "metadata": {},
   "source": [
    "the family column has too many categories. This could complicate our machine learning model later on\n",
    "\n",
    "so we'll group them into smaller categories later"
   ]
  },
  {
   "cell_type": "code",
   "execution_count": 23,
   "metadata": {},
   "outputs": [
    {
     "data": {
      "text/plain": [
       "(           date type locale locale_name description transferred\n",
       " 2159 2017-12-16  NaN    NaN         NaN         NaN         NaN\n",
       " 2160 2017-12-17  NaN    NaN         NaN         NaN         NaN\n",
       " 2161 2017-12-18  NaN    NaN         NaN         NaN         NaN\n",
       " 2162 2017-12-19  NaN    NaN         NaN         NaN         NaN\n",
       " 2163 2017-12-20  NaN    NaN         NaN         NaN         NaN,\n",
       " (2164, 6))"
      ]
     },
     "execution_count": 23,
     "metadata": {},
     "output_type": "execute_result"
    }
   ],
   "source": [
    "holidays.tail(),holidays.shape"
   ]
  },
  {
   "attachments": {},
   "cell_type": "markdown",
   "metadata": {},
   "source": [
    "if the holiday was transferred, then its no longer an holiday\n",
    "\n",
    "so we'll delete the rows with transferred as true"
   ]
  },
  {
   "cell_type": "code",
   "execution_count": 24,
   "metadata": {},
   "outputs": [],
   "source": [
    "# delete rows with transferred as true\n",
    "transferred_true = holidays[ (holidays['transferred'] == True)].index\n",
    "holidays.drop(transferred_true , inplace=True)"
   ]
  },
  {
   "cell_type": "code",
   "execution_count": 25,
   "metadata": {},
   "outputs": [],
   "source": [
    "#drop unnecessary columns in holidays\n",
    "holidays.drop(\n",
    "    columns=['locale', 'locale_name', 'description', 'transferred'],\n",
    "    inplace=True\n",
    "    )"
   ]
  },
  {
   "cell_type": "code",
   "execution_count": 26,
   "metadata": {},
   "outputs": [],
   "source": [
    "#the id column doesn't give additional info, so we drop it\n",
    "train.drop(columns=['id'], inplace=True)\n",
    "test.drop(columns=['id'], inplace=True)"
   ]
  },
  {
   "cell_type": "code",
   "execution_count": 27,
   "metadata": {},
   "outputs": [
    {
     "data": {
      "text/html": [
       "<div>\n",
       "<style scoped>\n",
       "    .dataframe tbody tr th:only-of-type {\n",
       "        vertical-align: middle;\n",
       "    }\n",
       "\n",
       "    .dataframe tbody tr th {\n",
       "        vertical-align: top;\n",
       "    }\n",
       "\n",
       "    .dataframe thead th {\n",
       "        text-align: right;\n",
       "    }\n",
       "</style>\n",
       "<table border=\"1\" class=\"dataframe\">\n",
       "  <thead>\n",
       "    <tr style=\"text-align: right;\">\n",
       "      <th></th>\n",
       "      <th>date</th>\n",
       "      <th>dcoilwtico</th>\n",
       "    </tr>\n",
       "  </thead>\n",
       "  <tbody>\n",
       "    <tr>\n",
       "      <th>0</th>\n",
       "      <td>2013-01-01</td>\n",
       "      <td>93.14</td>\n",
       "    </tr>\n",
       "    <tr>\n",
       "      <th>1</th>\n",
       "      <td>2013-01-02</td>\n",
       "      <td>93.14</td>\n",
       "    </tr>\n",
       "    <tr>\n",
       "      <th>2</th>\n",
       "      <td>2013-01-03</td>\n",
       "      <td>92.97</td>\n",
       "    </tr>\n",
       "    <tr>\n",
       "      <th>3</th>\n",
       "      <td>2013-01-04</td>\n",
       "      <td>93.12</td>\n",
       "    </tr>\n",
       "    <tr>\n",
       "      <th>4</th>\n",
       "      <td>2013-01-07</td>\n",
       "      <td>93.20</td>\n",
       "    </tr>\n",
       "  </tbody>\n",
       "</table>\n",
       "</div>"
      ],
      "text/plain": [
       "        date  dcoilwtico\n",
       "0 2013-01-01       93.14\n",
       "1 2013-01-02       93.14\n",
       "2 2013-01-03       92.97\n",
       "3 2013-01-04       93.12\n",
       "4 2013-01-07       93.20"
      ]
     },
     "execution_count": 27,
     "metadata": {},
     "output_type": "execute_result"
    }
   ],
   "source": [
    "oil.head()"
   ]
  },
  {
   "cell_type": "code",
   "execution_count": 28,
   "metadata": {},
   "outputs": [],
   "source": [
    "# renaming our dcoilwtico column in oil data\n",
    "oil.rename(\n",
    "    columns = {'dcoilwtico':'oil_price'}, \n",
    "    inplace = True\n",
    "    )"
   ]
  },
  {
   "cell_type": "code",
   "execution_count": 29,
   "metadata": {},
   "outputs": [
    {
     "data": {
      "text/html": [
       "<div>\n",
       "<style scoped>\n",
       "    .dataframe tbody tr th:only-of-type {\n",
       "        vertical-align: middle;\n",
       "    }\n",
       "\n",
       "    .dataframe tbody tr th {\n",
       "        vertical-align: top;\n",
       "    }\n",
       "\n",
       "    .dataframe thead th {\n",
       "        text-align: right;\n",
       "    }\n",
       "</style>\n",
       "<table border=\"1\" class=\"dataframe\">\n",
       "  <thead>\n",
       "    <tr style=\"text-align: right;\">\n",
       "      <th></th>\n",
       "      <th>store_nbr</th>\n",
       "      <th>city</th>\n",
       "      <th>state</th>\n",
       "      <th>type</th>\n",
       "      <th>cluster</th>\n",
       "    </tr>\n",
       "  </thead>\n",
       "  <tbody>\n",
       "    <tr>\n",
       "      <th>0</th>\n",
       "      <td>1</td>\n",
       "      <td>Quito</td>\n",
       "      <td>Pichincha</td>\n",
       "      <td>D</td>\n",
       "      <td>13</td>\n",
       "    </tr>\n",
       "    <tr>\n",
       "      <th>1</th>\n",
       "      <td>2</td>\n",
       "      <td>Quito</td>\n",
       "      <td>Pichincha</td>\n",
       "      <td>D</td>\n",
       "      <td>13</td>\n",
       "    </tr>\n",
       "    <tr>\n",
       "      <th>2</th>\n",
       "      <td>3</td>\n",
       "      <td>Quito</td>\n",
       "      <td>Pichincha</td>\n",
       "      <td>D</td>\n",
       "      <td>8</td>\n",
       "    </tr>\n",
       "    <tr>\n",
       "      <th>3</th>\n",
       "      <td>4</td>\n",
       "      <td>Quito</td>\n",
       "      <td>Pichincha</td>\n",
       "      <td>D</td>\n",
       "      <td>9</td>\n",
       "    </tr>\n",
       "    <tr>\n",
       "      <th>4</th>\n",
       "      <td>5</td>\n",
       "      <td>Santo Domingo</td>\n",
       "      <td>Santo Domingo de los Tsachilas</td>\n",
       "      <td>D</td>\n",
       "      <td>4</td>\n",
       "    </tr>\n",
       "  </tbody>\n",
       "</table>\n",
       "</div>"
      ],
      "text/plain": [
       "   store_nbr           city                           state type  cluster\n",
       "0          1          Quito                       Pichincha    D       13\n",
       "1          2          Quito                       Pichincha    D       13\n",
       "2          3          Quito                       Pichincha    D        8\n",
       "3          4          Quito                       Pichincha    D        9\n",
       "4          5  Santo Domingo  Santo Domingo de los Tsachilas    D        4"
      ]
     },
     "execution_count": 29,
     "metadata": {},
     "output_type": "execute_result"
    }
   ],
   "source": [
    "stores.head()"
   ]
  },
  {
   "cell_type": "code",
   "execution_count": 30,
   "metadata": {},
   "outputs": [],
   "source": [
    "\n",
    "mer = train.merge(\n",
    "    stores, \n",
    "    how='left', \n",
    "    on=['store_nbr'])\n",
    "\n",
    "merged=mer.merge(\n",
    "    transactions, \n",
    "    how='left', \n",
    "    on=['date', 'store_nbr'])"
   ]
  },
  {
   "cell_type": "code",
   "execution_count": 31,
   "metadata": {},
   "outputs": [
    {
     "data": {
      "text/html": [
       "<div>\n",
       "<style scoped>\n",
       "    .dataframe tbody tr th:only-of-type {\n",
       "        vertical-align: middle;\n",
       "    }\n",
       "\n",
       "    .dataframe tbody tr th {\n",
       "        vertical-align: top;\n",
       "    }\n",
       "\n",
       "    .dataframe thead th {\n",
       "        text-align: right;\n",
       "    }\n",
       "</style>\n",
       "<table border=\"1\" class=\"dataframe\">\n",
       "  <thead>\n",
       "    <tr style=\"text-align: right;\">\n",
       "      <th></th>\n",
       "      <th>date</th>\n",
       "      <th>store_nbr</th>\n",
       "      <th>family</th>\n",
       "      <th>sales</th>\n",
       "      <th>onpromotion</th>\n",
       "      <th>city</th>\n",
       "      <th>state</th>\n",
       "      <th>type</th>\n",
       "      <th>cluster</th>\n",
       "      <th>oil_price</th>\n",
       "    </tr>\n",
       "  </thead>\n",
       "  <tbody>\n",
       "    <tr>\n",
       "      <th>0</th>\n",
       "      <td>2013-01-01</td>\n",
       "      <td>1</td>\n",
       "      <td>AUTOMOTIVE</td>\n",
       "      <td>0.0</td>\n",
       "      <td>0.0</td>\n",
       "      <td>Quito</td>\n",
       "      <td>Pichincha</td>\n",
       "      <td>D</td>\n",
       "      <td>13</td>\n",
       "      <td>93.14</td>\n",
       "    </tr>\n",
       "    <tr>\n",
       "      <th>1</th>\n",
       "      <td>2013-01-01</td>\n",
       "      <td>1</td>\n",
       "      <td>BABY CARE</td>\n",
       "      <td>0.0</td>\n",
       "      <td>0.0</td>\n",
       "      <td>Quito</td>\n",
       "      <td>Pichincha</td>\n",
       "      <td>D</td>\n",
       "      <td>13</td>\n",
       "      <td>93.14</td>\n",
       "    </tr>\n",
       "    <tr>\n",
       "      <th>2</th>\n",
       "      <td>2013-01-01</td>\n",
       "      <td>1</td>\n",
       "      <td>BEAUTY</td>\n",
       "      <td>0.0</td>\n",
       "      <td>0.0</td>\n",
       "      <td>Quito</td>\n",
       "      <td>Pichincha</td>\n",
       "      <td>D</td>\n",
       "      <td>13</td>\n",
       "      <td>93.14</td>\n",
       "    </tr>\n",
       "    <tr>\n",
       "      <th>3</th>\n",
       "      <td>2013-01-01</td>\n",
       "      <td>1</td>\n",
       "      <td>BEVERAGES</td>\n",
       "      <td>0.0</td>\n",
       "      <td>0.0</td>\n",
       "      <td>Quito</td>\n",
       "      <td>Pichincha</td>\n",
       "      <td>D</td>\n",
       "      <td>13</td>\n",
       "      <td>93.14</td>\n",
       "    </tr>\n",
       "    <tr>\n",
       "      <th>4</th>\n",
       "      <td>2013-01-01</td>\n",
       "      <td>1</td>\n",
       "      <td>BOOKS</td>\n",
       "      <td>0.0</td>\n",
       "      <td>0.0</td>\n",
       "      <td>Quito</td>\n",
       "      <td>Pichincha</td>\n",
       "      <td>D</td>\n",
       "      <td>13</td>\n",
       "      <td>93.14</td>\n",
       "    </tr>\n",
       "  </tbody>\n",
       "</table>\n",
       "</div>"
      ],
      "text/plain": [
       "        date  store_nbr      family  sales  onpromotion   city      state  \\\n",
       "0 2013-01-01          1  AUTOMOTIVE    0.0          0.0  Quito  Pichincha   \n",
       "1 2013-01-01          1   BABY CARE    0.0          0.0  Quito  Pichincha   \n",
       "2 2013-01-01          1      BEAUTY    0.0          0.0  Quito  Pichincha   \n",
       "3 2013-01-01          1   BEVERAGES    0.0          0.0  Quito  Pichincha   \n",
       "4 2013-01-01          1       BOOKS    0.0          0.0  Quito  Pichincha   \n",
       "\n",
       "  type  cluster  oil_price  \n",
       "0    D       13      93.14  \n",
       "1    D       13      93.14  \n",
       "2    D       13      93.14  \n",
       "3    D       13      93.14  \n",
       "4    D       13      93.14  "
      ]
     },
     "execution_count": 31,
     "metadata": {},
     "output_type": "execute_result"
    }
   ],
   "source": [
    "#merging merged with oil data\n",
    "merged2=mer.merge(\n",
    "    oil,\n",
    "    how='left', \n",
    "    on=['date'])\n",
    "\n",
    "\n",
    "merged2.head()"
   ]
  },
  {
   "cell_type": "code",
   "execution_count": 32,
   "metadata": {},
   "outputs": [
    {
     "name": "stdout",
     "output_type": "stream",
     "text": [
      "(3061476, 11)\n"
     ]
    },
    {
     "data": {
      "text/html": [
       "<div>\n",
       "<style scoped>\n",
       "    .dataframe tbody tr th:only-of-type {\n",
       "        vertical-align: middle;\n",
       "    }\n",
       "\n",
       "    .dataframe tbody tr th {\n",
       "        vertical-align: top;\n",
       "    }\n",
       "\n",
       "    .dataframe thead th {\n",
       "        text-align: right;\n",
       "    }\n",
       "</style>\n",
       "<table border=\"1\" class=\"dataframe\">\n",
       "  <thead>\n",
       "    <tr style=\"text-align: right;\">\n",
       "      <th></th>\n",
       "      <th>date</th>\n",
       "      <th>store_nbr</th>\n",
       "      <th>family</th>\n",
       "      <th>sales</th>\n",
       "      <th>onpromotion</th>\n",
       "      <th>city</th>\n",
       "      <th>state</th>\n",
       "      <th>type_x</th>\n",
       "      <th>cluster</th>\n",
       "      <th>oil_price</th>\n",
       "      <th>type_y</th>\n",
       "    </tr>\n",
       "  </thead>\n",
       "  <tbody>\n",
       "    <tr>\n",
       "      <th>0</th>\n",
       "      <td>2013-01-01</td>\n",
       "      <td>1</td>\n",
       "      <td>AUTOMOTIVE</td>\n",
       "      <td>0.0</td>\n",
       "      <td>0.0</td>\n",
       "      <td>Quito</td>\n",
       "      <td>Pichincha</td>\n",
       "      <td>D</td>\n",
       "      <td>13</td>\n",
       "      <td>93.14</td>\n",
       "      <td>Holiday</td>\n",
       "    </tr>\n",
       "    <tr>\n",
       "      <th>1</th>\n",
       "      <td>2013-01-01</td>\n",
       "      <td>1</td>\n",
       "      <td>BABY CARE</td>\n",
       "      <td>0.0</td>\n",
       "      <td>0.0</td>\n",
       "      <td>Quito</td>\n",
       "      <td>Pichincha</td>\n",
       "      <td>D</td>\n",
       "      <td>13</td>\n",
       "      <td>93.14</td>\n",
       "      <td>Holiday</td>\n",
       "    </tr>\n",
       "    <tr>\n",
       "      <th>2</th>\n",
       "      <td>2013-01-01</td>\n",
       "      <td>1</td>\n",
       "      <td>BEAUTY</td>\n",
       "      <td>0.0</td>\n",
       "      <td>0.0</td>\n",
       "      <td>Quito</td>\n",
       "      <td>Pichincha</td>\n",
       "      <td>D</td>\n",
       "      <td>13</td>\n",
       "      <td>93.14</td>\n",
       "      <td>Holiday</td>\n",
       "    </tr>\n",
       "    <tr>\n",
       "      <th>3</th>\n",
       "      <td>2013-01-01</td>\n",
       "      <td>1</td>\n",
       "      <td>BEVERAGES</td>\n",
       "      <td>0.0</td>\n",
       "      <td>0.0</td>\n",
       "      <td>Quito</td>\n",
       "      <td>Pichincha</td>\n",
       "      <td>D</td>\n",
       "      <td>13</td>\n",
       "      <td>93.14</td>\n",
       "      <td>Holiday</td>\n",
       "    </tr>\n",
       "    <tr>\n",
       "      <th>4</th>\n",
       "      <td>2013-01-01</td>\n",
       "      <td>1</td>\n",
       "      <td>BOOKS</td>\n",
       "      <td>0.0</td>\n",
       "      <td>0.0</td>\n",
       "      <td>Quito</td>\n",
       "      <td>Pichincha</td>\n",
       "      <td>D</td>\n",
       "      <td>13</td>\n",
       "      <td>93.14</td>\n",
       "      <td>Holiday</td>\n",
       "    </tr>\n",
       "  </tbody>\n",
       "</table>\n",
       "</div>"
      ],
      "text/plain": [
       "        date  store_nbr      family  sales  onpromotion   city      state  \\\n",
       "0 2013-01-01          1  AUTOMOTIVE    0.0          0.0  Quito  Pichincha   \n",
       "1 2013-01-01          1   BABY CARE    0.0          0.0  Quito  Pichincha   \n",
       "2 2013-01-01          1      BEAUTY    0.0          0.0  Quito  Pichincha   \n",
       "3 2013-01-01          1   BEVERAGES    0.0          0.0  Quito  Pichincha   \n",
       "4 2013-01-01          1       BOOKS    0.0          0.0  Quito  Pichincha   \n",
       "\n",
       "  type_x  cluster  oil_price   type_y  \n",
       "0      D       13      93.14  Holiday  \n",
       "1      D       13      93.14  Holiday  \n",
       "2      D       13      93.14  Holiday  \n",
       "3      D       13      93.14  Holiday  \n",
       "4      D       13      93.14  Holiday  "
      ]
     },
     "execution_count": 32,
     "metadata": {},
     "output_type": "execute_result"
    }
   ],
   "source": [
    "#merging merged2 with holidays\n",
    "merged3=merged2.merge(holidays,\n",
    "    how='left', \n",
    "    on=['date'])\n",
    "\n",
    "print(merged3.shape)\n",
    "merged3.head()"
   ]
  },
  {
   "attachments": {},
   "cell_type": "markdown",
   "metadata": {},
   "source": [
    "## 6.What analysis can we get from the date and its extractable features?"
   ]
  },
  {
   "cell_type": "code",
   "execution_count": 33,
   "metadata": {},
   "outputs": [],
   "source": [
    "def getDateFeatures(df):\n",
    "    \n",
    "    df['month'] = df['date'].dt.month\n",
    "    df['day_of_month'] = df['date'].dt.day\n",
    "    df['day_of_year'] = df['date'].dt.dayofyear\n",
    "    df['week_of_year'] = df['date'].dt.isocalendar().week\n",
    "    df['week_of_year'] = df['week_of_year'].astype(float)\n",
    "    df['day_of_week'] = df['date'].dt.dayofweek\n",
    "    df['year'] = df['date'].dt.year\n",
    "    df[\"is_weekend\"] = np.where(df['day_of_week'] > 4, 1, 0)\n",
    "    df['is_month_start'] = df['date'].dt.is_month_start.astype(int)\n",
    "    df['quarter'] = df['date'].dt.quarter\n",
    "    df['is_month_end'] = df['date'].dt.is_month_end.astype(int)\n",
    "    df['is_quarter_start'] = df['date'].dt.is_quarter_start.astype(int)\n",
    "    df['is_quarter_end'] = df['date'].dt.is_quarter_end.astype(int)\n",
    "    df['is_year_start'] = df['date'].dt.is_year_start.astype(int)\n",
    "    df['is_year_end'] = df['date'].dt.is_year_end.astype(int)\n",
    "\n",
    "    df[\"season\"] = np.where(df.month.isin([12,1,2]), 0, 1)\n",
    "    df[\"season\"] = np.where(df.month.isin([6,7,8]), 2, df[\"season\"])\n",
    "    df[\"season\"] = pd.Series(np.where(df.month.isin([9, 10, 11]), 3, df[\"season\"])).astype(\"int8\")\n",
    "    df['pay_day'] = np.where((df['day_of_month']==15) | (df['is_month_end']==1), 1, 0)\n",
    "    df['earthquake_impact'] = np.where(df['date'].isin(\n",
    "        pd.date_range(start='2016-04-16', end='2016-12-31', freq='D')), 1, 0)\n",
    "\n",
    "    return df"
   ]
  },
  {
   "cell_type": "code",
   "execution_count": 34,
   "metadata": {},
   "outputs": [
    {
     "data": {
      "text/plain": [
       "date                 0\n",
       "store_nbr            0\n",
       "family               0\n",
       "sales                0\n",
       "onpromotion          0\n",
       "city                 0\n",
       "state                0\n",
       "type_x               0\n",
       "cluster              0\n",
       "oil_price            0\n",
       "type_y         2567862\n",
       "dtype: int64"
      ]
     },
     "execution_count": 34,
     "metadata": {},
     "output_type": "execute_result"
    }
   ],
   "source": [
    "merged3.isnull().sum()"
   ]
  },
  {
   "attachments": {},
   "cell_type": "markdown",
   "metadata": {},
   "source": [
    "since non-holidays are work days, let's impute the last column"
   ]
  },
  {
   "cell_type": "code",
   "execution_count": 35,
   "metadata": {},
   "outputs": [
    {
     "data": {
      "text/plain": [
       "array(['Holiday', nan, 'Work Day', 'Additional', 'Event', 'Transfer',\n",
       "       'Bridge'], dtype=object)"
      ]
     },
     "execution_count": 35,
     "metadata": {},
     "output_type": "execute_result"
    }
   ],
   "source": [
    "merged3['type_y'].unique()"
   ]
  },
  {
   "cell_type": "code",
   "execution_count": 36,
   "metadata": {},
   "outputs": [
    {
     "name": "stdout",
     "output_type": "stream",
     "text": [
      "date              5\n",
      "store_nbr        54\n",
      "family           33\n",
      "sales          2524\n",
      "onpromotion      91\n",
      "city             22\n",
      "state            16\n",
      "type_x            5\n",
      "cluster          17\n",
      "oil_price         1\n",
      "type_y            1\n",
      "dtype: int64\n"
     ]
    },
    {
     "data": {
      "text/html": [
       "<div>\n",
       "<style scoped>\n",
       "    .dataframe tbody tr th:only-of-type {\n",
       "        vertical-align: middle;\n",
       "    }\n",
       "\n",
       "    .dataframe tbody tr th {\n",
       "        vertical-align: top;\n",
       "    }\n",
       "\n",
       "    .dataframe thead th {\n",
       "        text-align: right;\n",
       "    }\n",
       "</style>\n",
       "<table border=\"1\" class=\"dataframe\">\n",
       "  <thead>\n",
       "    <tr style=\"text-align: right;\">\n",
       "      <th></th>\n",
       "      <th>date</th>\n",
       "      <th>store_nbr</th>\n",
       "      <th>family</th>\n",
       "      <th>sales</th>\n",
       "      <th>onpromotion</th>\n",
       "      <th>city</th>\n",
       "      <th>state</th>\n",
       "      <th>type_x</th>\n",
       "      <th>cluster</th>\n",
       "      <th>oil_price</th>\n",
       "      <th>type_y</th>\n",
       "    </tr>\n",
       "  </thead>\n",
       "  <tbody>\n",
       "    <tr>\n",
       "      <th>7128</th>\n",
       "      <td>2013-01-05</td>\n",
       "      <td>1</td>\n",
       "      <td>AUTOMOTIVE</td>\n",
       "      <td>5.000</td>\n",
       "      <td>0.0</td>\n",
       "      <td>Quito</td>\n",
       "      <td>Pichincha</td>\n",
       "      <td>D</td>\n",
       "      <td>13</td>\n",
       "      <td>47.26</td>\n",
       "      <td>Work Day</td>\n",
       "    </tr>\n",
       "    <tr>\n",
       "      <th>7129</th>\n",
       "      <td>2013-01-05</td>\n",
       "      <td>1</td>\n",
       "      <td>BABY CARE</td>\n",
       "      <td>0.000</td>\n",
       "      <td>0.0</td>\n",
       "      <td>Quito</td>\n",
       "      <td>Pichincha</td>\n",
       "      <td>D</td>\n",
       "      <td>13</td>\n",
       "      <td>47.26</td>\n",
       "      <td>Work Day</td>\n",
       "    </tr>\n",
       "    <tr>\n",
       "      <th>7130</th>\n",
       "      <td>2013-01-05</td>\n",
       "      <td>1</td>\n",
       "      <td>BEAUTY</td>\n",
       "      <td>3.000</td>\n",
       "      <td>0.0</td>\n",
       "      <td>Quito</td>\n",
       "      <td>Pichincha</td>\n",
       "      <td>D</td>\n",
       "      <td>13</td>\n",
       "      <td>47.26</td>\n",
       "      <td>Work Day</td>\n",
       "    </tr>\n",
       "    <tr>\n",
       "      <th>7131</th>\n",
       "      <td>2013-01-05</td>\n",
       "      <td>1</td>\n",
       "      <td>BEVERAGES</td>\n",
       "      <td>1160.000</td>\n",
       "      <td>0.0</td>\n",
       "      <td>Quito</td>\n",
       "      <td>Pichincha</td>\n",
       "      <td>D</td>\n",
       "      <td>13</td>\n",
       "      <td>47.26</td>\n",
       "      <td>Work Day</td>\n",
       "    </tr>\n",
       "    <tr>\n",
       "      <th>7132</th>\n",
       "      <td>2013-01-05</td>\n",
       "      <td>1</td>\n",
       "      <td>BOOKS</td>\n",
       "      <td>0.000</td>\n",
       "      <td>0.0</td>\n",
       "      <td>Quito</td>\n",
       "      <td>Pichincha</td>\n",
       "      <td>D</td>\n",
       "      <td>13</td>\n",
       "      <td>47.26</td>\n",
       "      <td>Work Day</td>\n",
       "    </tr>\n",
       "    <tr>\n",
       "      <th>...</th>\n",
       "      <td>...</td>\n",
       "      <td>...</td>\n",
       "      <td>...</td>\n",
       "      <td>...</td>\n",
       "      <td>...</td>\n",
       "      <td>...</td>\n",
       "      <td>...</td>\n",
       "      <td>...</td>\n",
       "      <td>...</td>\n",
       "      <td>...</td>\n",
       "      <td>...</td>\n",
       "    </tr>\n",
       "    <tr>\n",
       "      <th>2555379</th>\n",
       "      <td>2016-11-12</td>\n",
       "      <td>9</td>\n",
       "      <td>POULTRY</td>\n",
       "      <td>529.684</td>\n",
       "      <td>1.0</td>\n",
       "      <td>Quito</td>\n",
       "      <td>Pichincha</td>\n",
       "      <td>B</td>\n",
       "      <td>6</td>\n",
       "      <td>47.26</td>\n",
       "      <td>Work Day</td>\n",
       "    </tr>\n",
       "    <tr>\n",
       "      <th>2555381</th>\n",
       "      <td>2016-11-12</td>\n",
       "      <td>9</td>\n",
       "      <td>PREPARED FOODS</td>\n",
       "      <td>158.774</td>\n",
       "      <td>2.0</td>\n",
       "      <td>Quito</td>\n",
       "      <td>Pichincha</td>\n",
       "      <td>B</td>\n",
       "      <td>6</td>\n",
       "      <td>47.26</td>\n",
       "      <td>Work Day</td>\n",
       "    </tr>\n",
       "    <tr>\n",
       "      <th>2555383</th>\n",
       "      <td>2016-11-12</td>\n",
       "      <td>9</td>\n",
       "      <td>PRODUCE</td>\n",
       "      <td>1618.001</td>\n",
       "      <td>2.0</td>\n",
       "      <td>Quito</td>\n",
       "      <td>Pichincha</td>\n",
       "      <td>B</td>\n",
       "      <td>6</td>\n",
       "      <td>47.26</td>\n",
       "      <td>Work Day</td>\n",
       "    </tr>\n",
       "    <tr>\n",
       "      <th>2555385</th>\n",
       "      <td>2016-11-12</td>\n",
       "      <td>9</td>\n",
       "      <td>SCHOOL AND OFFICE SUPPLIES</td>\n",
       "      <td>3.000</td>\n",
       "      <td>0.0</td>\n",
       "      <td>Quito</td>\n",
       "      <td>Pichincha</td>\n",
       "      <td>B</td>\n",
       "      <td>6</td>\n",
       "      <td>47.26</td>\n",
       "      <td>Work Day</td>\n",
       "    </tr>\n",
       "    <tr>\n",
       "      <th>2555387</th>\n",
       "      <td>2016-11-12</td>\n",
       "      <td>9</td>\n",
       "      <td>SEAFOOD</td>\n",
       "      <td>18.678</td>\n",
       "      <td>3.0</td>\n",
       "      <td>Quito</td>\n",
       "      <td>Pichincha</td>\n",
       "      <td>B</td>\n",
       "      <td>6</td>\n",
       "      <td>47.26</td>\n",
       "      <td>Work Day</td>\n",
       "    </tr>\n",
       "  </tbody>\n",
       "</table>\n",
       "<p>8910 rows × 11 columns</p>\n",
       "</div>"
      ],
      "text/plain": [
       "              date  store_nbr                      family     sales  \\\n",
       "7128    2013-01-05          1                  AUTOMOTIVE     5.000   \n",
       "7129    2013-01-05          1                   BABY CARE     0.000   \n",
       "7130    2013-01-05          1                      BEAUTY     3.000   \n",
       "7131    2013-01-05          1                   BEVERAGES  1160.000   \n",
       "7132    2013-01-05          1                       BOOKS     0.000   \n",
       "...            ...        ...                         ...       ...   \n",
       "2555379 2016-11-12          9                     POULTRY   529.684   \n",
       "2555381 2016-11-12          9              PREPARED FOODS   158.774   \n",
       "2555383 2016-11-12          9                     PRODUCE  1618.001   \n",
       "2555385 2016-11-12          9  SCHOOL AND OFFICE SUPPLIES     3.000   \n",
       "2555387 2016-11-12          9                     SEAFOOD    18.678   \n",
       "\n",
       "         onpromotion   city      state type_x  cluster  oil_price    type_y  \n",
       "7128             0.0  Quito  Pichincha      D       13      47.26  Work Day  \n",
       "7129             0.0  Quito  Pichincha      D       13      47.26  Work Day  \n",
       "7130             0.0  Quito  Pichincha      D       13      47.26  Work Day  \n",
       "7131             0.0  Quito  Pichincha      D       13      47.26  Work Day  \n",
       "7132             0.0  Quito  Pichincha      D       13      47.26  Work Day  \n",
       "...              ...    ...        ...    ...      ...        ...       ...  \n",
       "2555379          1.0  Quito  Pichincha      B        6      47.26  Work Day  \n",
       "2555381          2.0  Quito  Pichincha      B        6      47.26  Work Day  \n",
       "2555383          2.0  Quito  Pichincha      B        6      47.26  Work Day  \n",
       "2555385          0.0  Quito  Pichincha      B        6      47.26  Work Day  \n",
       "2555387          3.0  Quito  Pichincha      B        6      47.26  Work Day  \n",
       "\n",
       "[8910 rows x 11 columns]"
      ]
     },
     "execution_count": 36,
     "metadata": {},
     "output_type": "execute_result"
    }
   ],
   "source": [
    "work_days = merged3[merged3['type_y'] == 'Work Day']\n",
    "print(work_days.nunique())\n",
    "work_days"
   ]
  },
  {
   "cell_type": "code",
   "execution_count": 37,
   "metadata": {},
   "outputs": [],
   "source": [
    "# Fill missing holiday rows with work days\n",
    "imputer = SimpleImputer(missing_values=np.NaN, strategy='constant', fill_value='Work Day')\n",
    "merged3['type_y'] = imputer.fit_transform(merged3[['type_y']])"
   ]
  },
  {
   "cell_type": "code",
   "execution_count": 38,
   "metadata": {},
   "outputs": [
    {
     "data": {
      "text/plain": [
       "date           0\n",
       "store_nbr      0\n",
       "family         0\n",
       "sales          0\n",
       "onpromotion    0\n",
       "city           0\n",
       "state          0\n",
       "type_x         0\n",
       "cluster        0\n",
       "oil_price      0\n",
       "type_y         0\n",
       "dtype: int64"
      ]
     },
     "execution_count": 38,
     "metadata": {},
     "output_type": "execute_result"
    }
   ],
   "source": [
    "merged3.isna().sum()"
   ]
  },
  {
   "cell_type": "markdown",
   "metadata": {},
   "source": [
    "## New Features Creation"
   ]
  },
  {
   "cell_type": "code",
   "execution_count": 39,
   "metadata": {},
   "outputs": [],
   "source": [
    "merged3 = getDateFeatures(merged3)"
   ]
  },
  {
   "attachments": {},
   "cell_type": "markdown",
   "metadata": {},
   "source": [
    "let's make the date column the index"
   ]
  },
  {
   "cell_type": "code",
   "execution_count": 40,
   "metadata": {},
   "outputs": [],
   "source": [
    "merged3=merged3.set_index(['date'])"
   ]
  },
  {
   "attachments": {},
   "cell_type": "markdown",
   "metadata": {},
   "source": [
    "## Features Encoding & scaling"
   ]
  },
  {
   "cell_type": "code",
   "execution_count": 41,
   "metadata": {},
   "outputs": [
    {
     "data": {
      "text/html": [
       "<div>\n",
       "<style scoped>\n",
       "    .dataframe tbody tr th:only-of-type {\n",
       "        vertical-align: middle;\n",
       "    }\n",
       "\n",
       "    .dataframe tbody tr th {\n",
       "        vertical-align: top;\n",
       "    }\n",
       "\n",
       "    .dataframe thead th {\n",
       "        text-align: right;\n",
       "    }\n",
       "</style>\n",
       "<table border=\"1\" class=\"dataframe\">\n",
       "  <thead>\n",
       "    <tr style=\"text-align: right;\">\n",
       "      <th></th>\n",
       "      <th>store_nbr</th>\n",
       "      <th>family</th>\n",
       "      <th>sales</th>\n",
       "      <th>onpromotion</th>\n",
       "      <th>city</th>\n",
       "      <th>state</th>\n",
       "      <th>type_x</th>\n",
       "      <th>cluster</th>\n",
       "      <th>oil_price</th>\n",
       "      <th>type_y</th>\n",
       "      <th>...</th>\n",
       "      <th>is_month_start</th>\n",
       "      <th>quarter</th>\n",
       "      <th>is_month_end</th>\n",
       "      <th>is_quarter_start</th>\n",
       "      <th>is_quarter_end</th>\n",
       "      <th>is_year_start</th>\n",
       "      <th>is_year_end</th>\n",
       "      <th>season</th>\n",
       "      <th>pay_day</th>\n",
       "      <th>earthquake_impact</th>\n",
       "    </tr>\n",
       "    <tr>\n",
       "      <th>date</th>\n",
       "      <th></th>\n",
       "      <th></th>\n",
       "      <th></th>\n",
       "      <th></th>\n",
       "      <th></th>\n",
       "      <th></th>\n",
       "      <th></th>\n",
       "      <th></th>\n",
       "      <th></th>\n",
       "      <th></th>\n",
       "      <th></th>\n",
       "      <th></th>\n",
       "      <th></th>\n",
       "      <th></th>\n",
       "      <th></th>\n",
       "      <th></th>\n",
       "      <th></th>\n",
       "      <th></th>\n",
       "      <th></th>\n",
       "      <th></th>\n",
       "      <th></th>\n",
       "    </tr>\n",
       "  </thead>\n",
       "  <tbody>\n",
       "    <tr>\n",
       "      <th>2013-01-01</th>\n",
       "      <td>1</td>\n",
       "      <td>AUTOMOTIVE</td>\n",
       "      <td>0.0</td>\n",
       "      <td>0.0</td>\n",
       "      <td>Quito</td>\n",
       "      <td>Pichincha</td>\n",
       "      <td>D</td>\n",
       "      <td>13</td>\n",
       "      <td>93.14</td>\n",
       "      <td>Holiday</td>\n",
       "      <td>...</td>\n",
       "      <td>1</td>\n",
       "      <td>1</td>\n",
       "      <td>0</td>\n",
       "      <td>1</td>\n",
       "      <td>0</td>\n",
       "      <td>1</td>\n",
       "      <td>0</td>\n",
       "      <td>0</td>\n",
       "      <td>0</td>\n",
       "      <td>0</td>\n",
       "    </tr>\n",
       "    <tr>\n",
       "      <th>2013-01-01</th>\n",
       "      <td>1</td>\n",
       "      <td>BABY CARE</td>\n",
       "      <td>0.0</td>\n",
       "      <td>0.0</td>\n",
       "      <td>Quito</td>\n",
       "      <td>Pichincha</td>\n",
       "      <td>D</td>\n",
       "      <td>13</td>\n",
       "      <td>93.14</td>\n",
       "      <td>Holiday</td>\n",
       "      <td>...</td>\n",
       "      <td>1</td>\n",
       "      <td>1</td>\n",
       "      <td>0</td>\n",
       "      <td>1</td>\n",
       "      <td>0</td>\n",
       "      <td>1</td>\n",
       "      <td>0</td>\n",
       "      <td>0</td>\n",
       "      <td>0</td>\n",
       "      <td>0</td>\n",
       "    </tr>\n",
       "  </tbody>\n",
       "</table>\n",
       "<p>2 rows × 27 columns</p>\n",
       "</div>"
      ],
      "text/plain": [
       "            store_nbr      family  sales  onpromotion   city      state  \\\n",
       "date                                                                      \n",
       "2013-01-01          1  AUTOMOTIVE    0.0          0.0  Quito  Pichincha   \n",
       "2013-01-01          1   BABY CARE    0.0          0.0  Quito  Pichincha   \n",
       "\n",
       "           type_x  cluster  oil_price   type_y  ...  is_month_start  quarter  \\\n",
       "date                                            ...                            \n",
       "2013-01-01      D       13      93.14  Holiday  ...               1        1   \n",
       "2013-01-01      D       13      93.14  Holiday  ...               1        1   \n",
       "\n",
       "            is_month_end  is_quarter_start  is_quarter_end  is_year_start  \\\n",
       "date                                                                        \n",
       "2013-01-01             0                 1               0              1   \n",
       "2013-01-01             0                 1               0              1   \n",
       "\n",
       "            is_year_end  season  pay_day  earthquake_impact  \n",
       "date                                                         \n",
       "2013-01-01            0       0        0                  0  \n",
       "2013-01-01            0       0        0                  0  \n",
       "\n",
       "[2 rows x 27 columns]"
      ]
     },
     "execution_count": 41,
     "metadata": {},
     "output_type": "execute_result"
    }
   ],
   "source": [
    "merged3.head(2)"
   ]
  },
  {
   "cell_type": "code",
   "execution_count": 42,
   "metadata": {},
   "outputs": [],
   "source": [
    "cols = ['family', 'city', 'state', 'cluster', 'type_y', 'type_x']\n",
    "for col in cols:\n",
    "  merged3[col] = LabelEncoder().fit_transform(merged3[col])"
   ]
  },
  {
   "cell_type": "code",
   "execution_count": 43,
   "metadata": {},
   "outputs": [
    {
     "name": "stdout",
     "output_type": "stream",
     "text": [
      "(1688, 3)\n"
     ]
    },
    {
     "data": {
      "text/html": [
       "<div>\n",
       "<style scoped>\n",
       "    .dataframe tbody tr th:only-of-type {\n",
       "        vertical-align: middle;\n",
       "    }\n",
       "\n",
       "    .dataframe tbody tr th {\n",
       "        vertical-align: top;\n",
       "    }\n",
       "\n",
       "    .dataframe thead th {\n",
       "        text-align: right;\n",
       "    }\n",
       "</style>\n",
       "<table border=\"1\" class=\"dataframe\">\n",
       "  <thead>\n",
       "    <tr style=\"text-align: right;\">\n",
       "      <th></th>\n",
       "      <th>store_nbr</th>\n",
       "      <th>sales</th>\n",
       "      <th>onpromotion</th>\n",
       "    </tr>\n",
       "    <tr>\n",
       "      <th>date</th>\n",
       "      <th></th>\n",
       "      <th></th>\n",
       "      <th></th>\n",
       "    </tr>\n",
       "  </thead>\n",
       "  <tbody>\n",
       "    <tr>\n",
       "      <th>2013-01-01</th>\n",
       "      <td>27.5</td>\n",
       "      <td>1.409438</td>\n",
       "      <td>0.0</td>\n",
       "    </tr>\n",
       "    <tr>\n",
       "      <th>2013-01-02</th>\n",
       "      <td>27.5</td>\n",
       "      <td>278.390807</td>\n",
       "      <td>0.0</td>\n",
       "    </tr>\n",
       "    <tr>\n",
       "      <th>2013-01-03</th>\n",
       "      <td>27.5</td>\n",
       "      <td>202.840197</td>\n",
       "      <td>0.0</td>\n",
       "    </tr>\n",
       "  </tbody>\n",
       "</table>\n",
       "</div>"
      ],
      "text/plain": [
       "            store_nbr       sales  onpromotion\n",
       "date                                          \n",
       "2013-01-01       27.5    1.409438          0.0\n",
       "2013-01-02       27.5  278.390807          0.0\n",
       "2013-01-03       27.5  202.840197          0.0"
      ]
     },
     "execution_count": 43,
     "metadata": {},
     "output_type": "execute_result"
    }
   ],
   "source": [
    "merged3_daily_mean = train.set_index('date').resample('D').mean()\n",
    "print(merged3_daily_mean.shape)\n",
    "merged3_daily_mean.head(3)"
   ]
  },
  {
   "cell_type": "code",
   "execution_count": 44,
   "metadata": {},
   "outputs": [],
   "source": [
    "train1=merged3_daily_mean"
   ]
  },
  {
   "cell_type": "code",
   "execution_count": 45,
   "metadata": {},
   "outputs": [],
   "source": [
    "trainn, evall = merged3[30000:], merged3[:30000]"
   ]
  },
  {
   "cell_type": "code",
   "execution_count": 46,
   "metadata": {},
   "outputs": [],
   "source": [
    "# Split data into parts\n",
    "x = trainn.drop(['sales'], axis = 1)\n",
    "y = trainn['sales']"
   ]
  },
  {
   "cell_type": "code",
   "execution_count": 47,
   "metadata": {},
   "outputs": [],
   "source": [
    "# Split data into Train Test\n",
    "X_train, X_test, y_train, y_test = x[200:], x[:200], y[200:], y[:200]"
   ]
  },
  {
   "cell_type": "markdown",
   "metadata": {},
   "source": [
    "# Machine Learning Modeling "
   ]
  },
  {
   "attachments": {},
   "cell_type": "markdown",
   "metadata": {},
   "source": [
    "# Traditional Machine Learning Models"
   ]
  },
  {
   "attachments": {},
   "cell_type": "markdown",
   "metadata": {},
   "source": [
    "### Linear Regression"
   ]
  },
  {
   "cell_type": "code",
   "execution_count": 48,
   "metadata": {},
   "outputs": [],
   "source": [
    "from sklearn.linear_model import LinearRegression\n",
    "lin_model = LinearRegression()\n",
    "model_lin = lin_model.fit(X_train, y_train)\n",
    "\n",
    "# Make prediction on X_test\n",
    "lin_pred = model_lin.predict(X_test)"
   ]
  },
  {
   "cell_type": "code",
   "execution_count": 49,
   "metadata": {},
   "outputs": [
    {
     "data": {
      "image/png": "[encoded data removed]",
      "text/plain": [
       "<Figure size 800x400 with 1 Axes>"
      ]
     },
     "metadata": {},
     "output_type": "display_data"
    }
   ],
   "source": [
    "plt.figure(figsize=(8,4))\n",
    "plt.plot(y_test, label ='Actual Sales')\n",
    "plt.plot(lin_pred, label='Linear Regression')\n",
    "plt.legend(loc='best')\n",
    "plt.title('Linear Regression Prediction')\n",
    "plt.show()"
   ]
  },
  {
   "cell_type": "code",
   "execution_count": 50,
   "metadata": {},
   "outputs": [
    {
     "data": {
      "text/html": [
       "<div>\n",
       "<style scoped>\n",
       "    .dataframe tbody tr th:only-of-type {\n",
       "        vertical-align: middle;\n",
       "    }\n",
       "\n",
       "    .dataframe tbody tr th {\n",
       "        vertical-align: top;\n",
       "    }\n",
       "\n",
       "    .dataframe thead th {\n",
       "        text-align: right;\n",
       "    }\n",
       "</style>\n",
       "<table border=\"1\" class=\"dataframe\">\n",
       "  <thead>\n",
       "    <tr style=\"text-align: right;\">\n",
       "      <th></th>\n",
       "      <th>Model</th>\n",
       "      <th>MSE</th>\n",
       "      <th>RMSE</th>\n",
       "    </tr>\n",
       "  </thead>\n",
       "  <tbody>\n",
       "    <tr>\n",
       "      <th>0</th>\n",
       "      <td>Linear</td>\n",
       "      <td>230030.436642</td>\n",
       "      <td>479.61</td>\n",
       "    </tr>\n",
       "  </tbody>\n",
       "</table>\n",
       "</div>"
      ],
      "text/plain": [
       "    Model            MSE    RMSE\n",
       "0  Linear  230030.436642  479.61"
      ]
     },
     "execution_count": 50,
     "metadata": {},
     "output_type": "execute_result"
    }
   ],
   "source": [
    "mse = mean_squared_error(y_test, lin_pred )\n",
    "rmse = np.sqrt(mean_squared_error(y_test, lin_pred )).round(2)\n",
    "\n",
    "results = pd.DataFrame([['Linear', mse, rmse]], columns = ['Model', 'MSE', 'RMSE'])\n",
    "results"
   ]
  },
  {
   "attachments": {},
   "cell_type": "markdown",
   "metadata": {},
   "source": [
    "## AR"
   ]
  },
  {
   "cell_type": "code",
   "execution_count": 51,
   "metadata": {},
   "outputs": [
    {
     "name": "stdout",
     "output_type": "stream",
     "text": [
      "1673 15\n",
      "1688 1688\n"
     ]
    }
   ],
   "source": [
    "x=train1['sales']\n",
    "X_train, X_test = x[:1673], x[1673:]\n",
    "print(len(X_train), len(X_test))\n",
    "print(len(x), len(X_train)+len(X_test))"
   ]
  },
  {
   "cell_type": "code",
   "execution_count": 52,
   "metadata": {},
   "outputs": [
    {
     "data": {
      "image/png": "[encoded data removed]",
      "text/plain": [
       "<Figure size 640x480 with 1 Axes>"
      ]
     },
     "metadata": {},
     "output_type": "display_data"
    }
   ],
   "source": [
    "from statsmodels.graphics.tsaplots import plot_pacf\n",
    "pacf = plot_pacf(X_train,lags = 25)"
   ]
  },
  {
   "cell_type": "code",
   "execution_count": 53,
   "metadata": {},
   "outputs": [],
   "source": [
    "from statsmodels.tsa.ar_model import AutoReg\n",
    "armodel = AutoReg(X_train, lags = 9).fit()"
   ]
  },
  {
   "cell_type": "code",
   "execution_count": 54,
   "metadata": {},
   "outputs": [
    {
     "data": {
      "text/plain": [
       "2017-08-01    430.265045\n",
       "2017-08-02    427.312872\n",
       "2017-08-03    401.198627\n",
       "2017-08-04    462.388781\n",
       "2017-08-05    555.825688\n",
       "2017-08-06    579.965121\n",
       "2017-08-07    484.206751\n",
       "2017-08-08    426.489922\n",
       "2017-08-09    422.410429\n",
       "2017-08-10    410.512726\n",
       "2017-08-11    454.029225\n",
       "2017-08-12    528.444708\n",
       "2017-08-13    540.988688\n",
       "2017-08-14    469.514329\n",
       "2017-08-15    422.532846\n",
       "Freq: D, dtype: float64"
      ]
     },
     "execution_count": 54,
     "metadata": {},
     "output_type": "execute_result"
    }
   ],
   "source": [
    "pred = armodel.predict(\n",
    "    start=len(X_train),\n",
    "    end=len(x)-1,\n",
    "    dynamic=False\n",
    ")\n",
    "pred"
   ]
  },
  {
   "cell_type": "code",
   "execution_count": 55,
   "metadata": {},
   "outputs": [
    {
     "data": {
      "text/plain": [
       "[<matplotlib.lines.Line2D at 0x15b05d70100>]"
      ]
     },
     "execution_count": 55,
     "metadata": {},
     "output_type": "execute_result"
    },
    {
     "data": {
      "image/png": "[encoded data removed]",
      "text/plain": [
       "<Figure size 640x480 with 1 Axes>"
      ]
     },
     "metadata": {},
     "output_type": "display_data"
    }
   ],
   "source": [
    "from matplotlib import pyplot\n",
    "pyplot.plot(pred)\n",
    "pyplot.plot(X_test, color='red')"
   ]
  },
  {
   "cell_type": "code",
   "execution_count": 56,
   "metadata": {},
   "outputs": [
    {
     "data": {
      "text/html": [
       "<div>\n",
       "<style scoped>\n",
       "    .dataframe tbody tr th:only-of-type {\n",
       "        vertical-align: middle;\n",
       "    }\n",
       "\n",
       "    .dataframe tbody tr th {\n",
       "        vertical-align: top;\n",
       "    }\n",
       "\n",
       "    .dataframe thead th {\n",
       "        text-align: right;\n",
       "    }\n",
       "</style>\n",
       "<table border=\"1\" class=\"dataframe\">\n",
       "  <thead>\n",
       "    <tr style=\"text-align: right;\">\n",
       "      <th></th>\n",
       "      <th>Model</th>\n",
       "      <th>MSE</th>\n",
       "      <th>RMSE</th>\n",
       "      <th>MSLE</th>\n",
       "      <th>RMSLE</th>\n",
       "    </tr>\n",
       "  </thead>\n",
       "  <tbody>\n",
       "    <tr>\n",
       "      <th>0</th>\n",
       "      <td>Linear</td>\n",
       "      <td>230030.436642</td>\n",
       "      <td>479.61</td>\n",
       "      <td>NaN</td>\n",
       "      <td>NaN</td>\n",
       "    </tr>\n",
       "    <tr>\n",
       "      <th>1</th>\n",
       "      <td>AR</td>\n",
       "      <td>2989.986841</td>\n",
       "      <td>54.68</td>\n",
       "      <td>0.013027</td>\n",
       "      <td>0.11414</td>\n",
       "    </tr>\n",
       "  </tbody>\n",
       "</table>\n",
       "</div>"
      ],
      "text/plain": [
       "    Model            MSE    RMSE      MSLE    RMSLE\n",
       "0  Linear  230030.436642  479.61       NaN      NaN\n",
       "1      AR    2989.986841   54.68  0.013027  0.11414"
      ]
     },
     "execution_count": 56,
     "metadata": {},
     "output_type": "execute_result"
    }
   ],
   "source": [
    "mse = mean_squared_error(X_test, pred )\n",
    "msle = mean_squared_log_error(X_test, pred)\n",
    "rmse = np.sqrt(mean_squared_error(X_test, pred )).round(2)\n",
    "rmsle = np.sqrt(mean_squared_log_error(X_test, pred)).round(5)\n",
    "\n",
    "# model_results = pd.DataFrame([['lightGBM', mse, rmse]], columns = ['Model', 'MSE', 'RMSE'])\n",
    "model_results = pd.DataFrame([['AR', mse, msle, rmse, rmsle]], columns = ['Model', 'MSE', 'MSLE', 'RMSE', 'RMSLE'])\n",
    "results = results.append(model_results, ignore_index = True)\n",
    "results"
   ]
  },
  {
   "attachments": {},
   "cell_type": "markdown",
   "metadata": {},
   "source": [
    "## ARIMA"
   ]
  },
  {
   "cell_type": "code",
   "execution_count": 57,
   "metadata": {},
   "outputs": [],
   "source": [
    "# We use pmdarima to determine the best parameter for our ARIMA model.\n",
    "from pmdarima import auto_arima"
   ]
  },
  {
   "cell_type": "code",
   "execution_count": 58,
   "metadata": {},
   "outputs": [
    {
     "name": "stdout",
     "output_type": "stream",
     "text": [
      "Performing stepwise search to minimize aic\n",
      " ARIMA(2,1,2)(0,0,0)[0] intercept   : AIC=19330.671, Time=2.56 sec\n",
      " ARIMA(0,1,0)(0,0,0)[0] intercept   : AIC=20037.705, Time=0.07 sec\n",
      " ARIMA(1,1,0)(0,0,0)[0] intercept   : AIC=20012.898, Time=0.19 sec\n",
      " ARIMA(0,1,1)(0,0,0)[0] intercept   : AIC=19724.002, Time=0.42 sec\n",
      " ARIMA(0,1,0)(0,0,0)[0]             : AIC=20035.721, Time=0.05 sec\n",
      " ARIMA(1,1,2)(0,0,0)[0] intercept   : AIC=19390.563, Time=1.49 sec\n",
      " ARIMA(2,1,1)(0,0,0)[0] intercept   : AIC=19364.535, Time=2.23 sec\n",
      " ARIMA(3,1,2)(0,0,0)[0] intercept   : AIC=19344.068, Time=5.00 sec\n",
      " ARIMA(2,1,3)(0,0,0)[0] intercept   : AIC=19033.305, Time=5.02 sec\n",
      " ARIMA(1,1,3)(0,0,0)[0] intercept   : AIC=19392.779, Time=1.92 sec\n",
      " ARIMA(3,1,3)(0,0,0)[0] intercept   : AIC=19189.649, Time=5.15 sec\n",
      " ARIMA(2,1,4)(0,0,0)[0] intercept   : AIC=19232.069, Time=4.62 sec\n",
      " ARIMA(1,1,4)(0,0,0)[0] intercept   : AIC=19348.289, Time=3.60 sec\n",
      " ARIMA(3,1,4)(0,0,0)[0] intercept   : AIC=18903.217, Time=6.41 sec\n",
      " ARIMA(4,1,4)(0,0,0)[0] intercept   : AIC=18788.687, Time=7.28 sec\n",
      " ARIMA(4,1,3)(0,0,0)[0] intercept   : AIC=inf, Time=5.56 sec\n",
      " ARIMA(5,1,4)(0,0,0)[0] intercept   : AIC=18659.328, Time=6.56 sec\n",
      " ARIMA(5,1,3)(0,0,0)[0] intercept   : AIC=18757.490, Time=4.37 sec\n"
     ]
    }
   ],
   "source": [
    "stepwise_fit = auto_arima(X_train, trace = True, suppress_warnings = True)\n",
    "stepwise_fit.summary()"
   ]
  },
  {
   "cell_type": "code",
   "execution_count": null,
   "metadata": {},
   "outputs": [],
   "source": [
    "from statsmodels.tsa.arima.model import ARIMA"
   ]
  },
  {
   "cell_type": "code",
   "execution_count": null,
   "metadata": {},
   "outputs": [
    {
     "data": {
      "text/html": [
       "<table class=\"simpletable\">\n",
       "<caption>SARIMAX Results</caption>\n",
       "<tr>\n",
       "  <th>Dep. Variable:</th>         <td>sales</td>      <th>  No. Observations:  </th>   <td>1673</td>   \n",
       "</tr>\n",
       "<tr>\n",
       "  <th>Model:</th>            <td>ARIMA(3, 0, 3)</td>  <th>  Log Likelihood     </th> <td>-7755.814</td>\n",
       "</tr>\n",
       "<tr>\n",
       "  <th>Date:</th>            <td>Tue, 21 Feb 2023</td> <th>  AIC                </th> <td>15527.628</td>\n",
       "</tr>\n",
       "<tr>\n",
       "  <th>Time:</th>                <td>11:16:37</td>     <th>  BIC                </th> <td>15571.007</td>\n",
       "</tr>\n",
       "<tr>\n",
       "  <th>Sample:</th>                  <td>0</td>        <th>  HQIC               </th> <td>15543.700</td>\n",
       "</tr>\n",
       "<tr>\n",
       "  <th></th>                      <td> - 1673</td>     <th>                     </th>     <td> </td>    \n",
       "</tr>\n",
       "<tr>\n",
       "  <th>Covariance Type:</th>        <td>opg</td>       <th>                     </th>     <td> </td>    \n",
       "</tr>\n",
       "</table>\n",
       "<table class=\"simpletable\">\n",
       "<tr>\n",
       "     <td></td>       <th>coef</th>     <th>std err</th>      <th>z</th>      <th>P>|z|</th>  <th>[0.025</th>    <th>0.975]</th>  \n",
       "</tr>\n",
       "<tr>\n",
       "  <th>const</th>  <td>    1.4926</td> <td>   14.152</td> <td>    0.105</td> <td> 0.916</td> <td>  -26.245</td> <td>   29.230</td>\n",
       "</tr>\n",
       "<tr>\n",
       "  <th>ar.L1</th>  <td>   -0.4956</td> <td>    0.020</td> <td>  -24.497</td> <td> 0.000</td> <td>   -0.535</td> <td>   -0.456</td>\n",
       "</tr>\n",
       "<tr>\n",
       "  <th>ar.L2</th>  <td>    0.5579</td> <td>    0.017</td> <td>   33.426</td> <td> 0.000</td> <td>    0.525</td> <td>    0.591</td>\n",
       "</tr>\n",
       "<tr>\n",
       "  <th>ar.L3</th>  <td>    0.7577</td> <td>    0.011</td> <td>   71.522</td> <td> 0.000</td> <td>    0.737</td> <td>    0.778</td>\n",
       "</tr>\n",
       "<tr>\n",
       "  <th>ma.L1</th>  <td>    0.6457</td> <td>    0.020</td> <td>   32.045</td> <td> 0.000</td> <td>    0.606</td> <td>    0.685</td>\n",
       "</tr>\n",
       "<tr>\n",
       "  <th>ma.L2</th>  <td>   -0.3100</td> <td>    0.022</td> <td>  -14.371</td> <td> 0.000</td> <td>   -0.352</td> <td>   -0.268</td>\n",
       "</tr>\n",
       "<tr>\n",
       "  <th>ma.L3</th>  <td>   -0.8355</td> <td>    0.014</td> <td>  -60.260</td> <td> 0.000</td> <td>   -0.863</td> <td>   -0.808</td>\n",
       "</tr>\n",
       "<tr>\n",
       "  <th>sigma2</th> <td>  621.3061</td> <td>    7.863</td> <td>   79.015</td> <td> 0.000</td> <td>  605.895</td> <td>  636.718</td>\n",
       "</tr>\n",
       "</table>\n",
       "<table class=\"simpletable\">\n",
       "<tr>\n",
       "  <th>Ljung-Box (L1) (Q):</th>     <td>7.67</td> <th>  Jarque-Bera (JB):  </th> <td>40162352.72</td>\n",
       "</tr>\n",
       "<tr>\n",
       "  <th>Prob(Q):</th>                <td>0.01</td> <th>  Prob(JB):          </th>    <td>0.00</td>    \n",
       "</tr>\n",
       "<tr>\n",
       "  <th>Heteroskedasticity (H):</th> <td>0.96</td> <th>  Skew:              </th>    <td>25.30</td>   \n",
       "</tr>\n",
       "<tr>\n",
       "  <th>Prob(H) (two-sided):</th>    <td>0.64</td> <th>  Kurtosis:          </th>   <td>760.36</td>   \n",
       "</tr>\n",
       "</table><br/><br/>Warnings:<br/>[1] Covariance matrix calculated using the outer product of gradients (complex-step)."
      ],
      "text/plain": [
       "<class 'statsmodels.iolib.summary.Summary'>\n",
       "\"\"\"\n",
       "                               SARIMAX Results                                \n",
       "==============================================================================\n",
       "Dep. Variable:                  sales   No. Observations:                 1673\n",
       "Model:                 ARIMA(3, 0, 3)   Log Likelihood               -7755.814\n",
       "Date:                Tue, 21 Feb 2023   AIC                          15527.628\n",
       "Time:                        11:16:37   BIC                          15571.007\n",
       "Sample:                             0   HQIC                         15543.700\n",
       "                               - 1673                                         \n",
       "Covariance Type:                  opg                                         \n",
       "==============================================================================\n",
       "                 coef    std err          z      P>|z|      [0.025      0.975]\n",
       "------------------------------------------------------------------------------\n",
       "const          1.4926     14.152      0.105      0.916     -26.245      29.230\n",
       "ar.L1         -0.4956      0.020    -24.497      0.000      -0.535      -0.456\n",
       "ar.L2          0.5579      0.017     33.426      0.000       0.525       0.591\n",
       "ar.L3          0.7577      0.011     71.522      0.000       0.737       0.778\n",
       "ma.L1          0.6457      0.020     32.045      0.000       0.606       0.685\n",
       "ma.L2         -0.3100      0.022    -14.371      0.000      -0.352      -0.268\n",
       "ma.L3         -0.8355      0.014    -60.260      0.000      -0.863      -0.808\n",
       "sigma2       621.3061      7.863     79.015      0.000     605.895     636.718\n",
       "===================================================================================\n",
       "Ljung-Box (L1) (Q):                   7.67   Jarque-Bera (JB):          40162352.72\n",
       "Prob(Q):                              0.01   Prob(JB):                         0.00\n",
       "Heteroskedasticity (H):               0.96   Skew:                            25.30\n",
       "Prob(H) (two-sided):                  0.64   Kurtosis:                       760.36\n",
       "===================================================================================\n",
       "\n",
       "Warnings:\n",
       "[1] Covariance matrix calculated using the outer product of gradients (complex-step).\n",
       "\"\"\""
      ]
     },
     "execution_count": 91,
     "metadata": {},
     "output_type": "execute_result"
    }
   ],
   "source": [
    "model = ARIMA(X_train, order=(5,1,4))\n",
    "model_fit = model.fit()\n",
    "model_fit.summary()"
   ]
  },
  {
   "cell_type": "code",
   "execution_count": null,
   "metadata": {},
   "outputs": [
    {
     "ename": "KeyboardInterrupt",
     "evalue": "",
     "output_type": "error",
     "traceback": [
      "\u001b[1;31m---------------------------------------------------------------------------\u001b[0m",
      "\u001b[1;31mKeyboardInterrupt\u001b[0m                         Traceback (most recent call last)",
      "\u001b[1;32m~\\AppData\\Local\\Temp\\ipykernel_13116\\2328871202.py\u001b[0m in \u001b[0;36m<module>\u001b[1;34m\u001b[0m\n\u001b[0;32m      1\u001b[0m \u001b[1;31m# Make predictions on the test data\u001b[0m\u001b[1;33m\u001b[0m\u001b[1;33m\u001b[0m\u001b[0m\n\u001b[1;32m----> 2\u001b[1;33m ARIMA_pred = model_fit.predict(\n\u001b[0m\u001b[0;32m      3\u001b[0m     \u001b[0mstart\u001b[0m\u001b[1;33m=\u001b[0m\u001b[0mlen\u001b[0m\u001b[1;33m(\u001b[0m\u001b[0mX_train\u001b[0m\u001b[1;33m)\u001b[0m\u001b[1;33m,\u001b[0m\u001b[1;33m\u001b[0m\u001b[1;33m\u001b[0m\u001b[0m\n\u001b[0;32m      4\u001b[0m     \u001b[0mend\u001b[0m\u001b[1;33m=\u001b[0m\u001b[0mlen\u001b[0m\u001b[1;33m(\u001b[0m\u001b[0mx\u001b[0m\u001b[1;33m)\u001b[0m\u001b[1;33m-\u001b[0m\u001b[1;36m1\u001b[0m\u001b[1;33m,\u001b[0m\u001b[1;33m\u001b[0m\u001b[1;33m\u001b[0m\u001b[0m\n\u001b[0;32m      5\u001b[0m     typ=\"levels\")\n",
      "\u001b[1;32mc:\\Users\\LENOVO\\anaconda3\\lib\\site-packages\\statsmodels\\base\\wrapper.py\u001b[0m in \u001b[0;36mwrapper\u001b[1;34m(self, *args, **kwargs)\u001b[0m\n\u001b[0;32m    111\u001b[0m             \u001b[0mobj\u001b[0m \u001b[1;33m=\u001b[0m \u001b[0mdata\u001b[0m\u001b[1;33m.\u001b[0m\u001b[0mwrap_output\u001b[0m\u001b[1;33m(\u001b[0m\u001b[0mfunc\u001b[0m\u001b[1;33m(\u001b[0m\u001b[0mresults\u001b[0m\u001b[1;33m,\u001b[0m \u001b[1;33m*\u001b[0m\u001b[0margs\u001b[0m\u001b[1;33m,\u001b[0m \u001b[1;33m**\u001b[0m\u001b[0mkwargs\u001b[0m\u001b[1;33m)\u001b[0m\u001b[1;33m,\u001b[0m \u001b[0mhow\u001b[0m\u001b[1;33m[\u001b[0m\u001b[1;36m0\u001b[0m\u001b[1;33m]\u001b[0m\u001b[1;33m,\u001b[0m \u001b[0mhow\u001b[0m\u001b[1;33m[\u001b[0m\u001b[1;36m1\u001b[0m\u001b[1;33m:\u001b[0m\u001b[1;33m]\u001b[0m\u001b[1;33m)\u001b[0m\u001b[1;33m\u001b[0m\u001b[1;33m\u001b[0m\u001b[0m\n\u001b[0;32m    112\u001b[0m         \u001b[1;32melif\u001b[0m \u001b[0mhow\u001b[0m\u001b[1;33m:\u001b[0m\u001b[1;33m\u001b[0m\u001b[1;33m\u001b[0m\u001b[0m\n\u001b[1;32m--> 113\u001b[1;33m             \u001b[0mobj\u001b[0m \u001b[1;33m=\u001b[0m \u001b[0mdata\u001b[0m\u001b[1;33m.\u001b[0m\u001b[0mwrap_output\u001b[0m\u001b[1;33m(\u001b[0m\u001b[0mfunc\u001b[0m\u001b[1;33m(\u001b[0m\u001b[0mresults\u001b[0m\u001b[1;33m,\u001b[0m \u001b[1;33m*\u001b[0m\u001b[0margs\u001b[0m\u001b[1;33m,\u001b[0m \u001b[1;33m**\u001b[0m\u001b[0mkwargs\u001b[0m\u001b[1;33m)\u001b[0m\u001b[1;33m,\u001b[0m \u001b[0mhow\u001b[0m\u001b[1;33m)\u001b[0m\u001b[1;33m\u001b[0m\u001b[1;33m\u001b[0m\u001b[0m\n\u001b[0m\u001b[0;32m    114\u001b[0m         \u001b[1;32mreturn\u001b[0m \u001b[0mobj\u001b[0m\u001b[1;33m\u001b[0m\u001b[1;33m\u001b[0m\u001b[0m\n\u001b[0;32m    115\u001b[0m \u001b[1;33m\u001b[0m\u001b[0m\n",
      "\u001b[1;32mc:\\Users\\LENOVO\\anaconda3\\lib\\site-packages\\statsmodels\\tsa\\statespace\\mlemodel.py\u001b[0m in \u001b[0;36mpredict\u001b[1;34m(self, start, end, dynamic, **kwargs)\u001b[0m\n\u001b[0;32m   3401\u001b[0m         \"\"\"\n\u001b[0;32m   3402\u001b[0m         \u001b[1;31m# Perform the prediction\u001b[0m\u001b[1;33m\u001b[0m\u001b[1;33m\u001b[0m\u001b[0m\n\u001b[1;32m-> 3403\u001b[1;33m         \u001b[0mprediction_results\u001b[0m \u001b[1;33m=\u001b[0m \u001b[0mself\u001b[0m\u001b[1;33m.\u001b[0m\u001b[0mget_prediction\u001b[0m\u001b[1;33m(\u001b[0m\u001b[0mstart\u001b[0m\u001b[1;33m,\u001b[0m \u001b[0mend\u001b[0m\u001b[1;33m,\u001b[0m \u001b[0mdynamic\u001b[0m\u001b[1;33m,\u001b[0m \u001b[1;33m**\u001b[0m\u001b[0mkwargs\u001b[0m\u001b[1;33m)\u001b[0m\u001b[1;33m\u001b[0m\u001b[1;33m\u001b[0m\u001b[0m\n\u001b[0m\u001b[0;32m   3404\u001b[0m         \u001b[1;32mreturn\u001b[0m \u001b[0mprediction_results\u001b[0m\u001b[1;33m.\u001b[0m\u001b[0mpredicted_mean\u001b[0m\u001b[1;33m\u001b[0m\u001b[1;33m\u001b[0m\u001b[0m\n\u001b[0;32m   3405\u001b[0m \u001b[1;33m\u001b[0m\u001b[0m\n",
      "\u001b[1;32mc:\\Users\\LENOVO\\anaconda3\\lib\\site-packages\\statsmodels\\tsa\\statespace\\mlemodel.py\u001b[0m in \u001b[0;36mget_prediction\u001b[1;34m(self, start, end, dynamic, index, exog, extend_model, extend_kwargs, **kwargs)\u001b[0m\n\u001b[0;32m   3310\u001b[0m         \u001b[1;31m# This is a (k_endog x npredictions) array; do not want to squeeze in\u001b[0m\u001b[1;33m\u001b[0m\u001b[1;33m\u001b[0m\u001b[0m\n\u001b[0;32m   3311\u001b[0m         \u001b[1;31m# case of npredictions = 1\u001b[0m\u001b[1;33m\u001b[0m\u001b[1;33m\u001b[0m\u001b[0m\n\u001b[1;32m-> 3312\u001b[1;33m         prediction_results = self.filter_results.predict(\n\u001b[0m\u001b[0;32m   3313\u001b[0m             start, end + out_of_sample + 1, dynamic, **kwargs)\n\u001b[0;32m   3314\u001b[0m \u001b[1;33m\u001b[0m\u001b[0m\n",
      "\u001b[1;32mc:\\Users\\LENOVO\\anaconda3\\lib\\site-packages\\statsmodels\\tsa\\statespace\\kalman_filter.py\u001b[0m in \u001b[0;36mpredict\u001b[1;34m(self, start, end, dynamic, **kwargs)\u001b[0m\n\u001b[0;32m   2092\u001b[0m \u001b[1;33m\u001b[0m\u001b[0m\n\u001b[0;32m   2093\u001b[0m             \u001b[1;32mwith\u001b[0m \u001b[0mmodel\u001b[0m\u001b[1;33m.\u001b[0m\u001b[0mfixed_scale\u001b[0m\u001b[1;33m(\u001b[0m\u001b[0mself\u001b[0m\u001b[1;33m.\u001b[0m\u001b[0mscale\u001b[0m\u001b[1;33m)\u001b[0m\u001b[1;33m:\u001b[0m\u001b[1;33m\u001b[0m\u001b[1;33m\u001b[0m\u001b[0m\n\u001b[1;32m-> 2094\u001b[1;33m                 \u001b[0mresults\u001b[0m \u001b[1;33m=\u001b[0m \u001b[0mmodel\u001b[0m\u001b[1;33m.\u001b[0m\u001b[0mfilter\u001b[0m\u001b[1;33m(\u001b[0m\u001b[1;33m)\u001b[0m\u001b[1;33m\u001b[0m\u001b[1;33m\u001b[0m\u001b[0m\n\u001b[0m\u001b[0;32m   2095\u001b[0m \u001b[1;33m\u001b[0m\u001b[0m\n\u001b[0;32m   2096\u001b[0m         return PredictionResults(results, start, end, nstatic, ndynamic,\n",
      "\u001b[1;32mc:\\Users\\LENOVO\\anaconda3\\lib\\site-packages\\statsmodels\\tsa\\statespace\\kalman_filter.py\u001b[0m in \u001b[0;36mfilter\u001b[1;34m(self, filter_method, inversion_method, stability_method, conserve_memory, filter_timing, tolerance, loglikelihood_burn, complex_step)\u001b[0m\n\u001b[0;32m    957\u001b[0m         \u001b[0mresults\u001b[0m \u001b[1;33m=\u001b[0m \u001b[0mself\u001b[0m\u001b[1;33m.\u001b[0m\u001b[0mresults_class\u001b[0m\u001b[1;33m(\u001b[0m\u001b[0mself\u001b[0m\u001b[1;33m)\u001b[0m\u001b[1;33m\u001b[0m\u001b[1;33m\u001b[0m\u001b[0m\n\u001b[0;32m    958\u001b[0m         \u001b[0mresults\u001b[0m\u001b[1;33m.\u001b[0m\u001b[0mupdate_representation\u001b[0m\u001b[1;33m(\u001b[0m\u001b[0mself\u001b[0m\u001b[1;33m)\u001b[0m\u001b[1;33m\u001b[0m\u001b[1;33m\u001b[0m\u001b[0m\n\u001b[1;32m--> 959\u001b[1;33m         \u001b[0mresults\u001b[0m\u001b[1;33m.\u001b[0m\u001b[0mupdate_filter\u001b[0m\u001b[1;33m(\u001b[0m\u001b[0mkfilter\u001b[0m\u001b[1;33m)\u001b[0m\u001b[1;33m\u001b[0m\u001b[1;33m\u001b[0m\u001b[0m\n\u001b[0m\u001b[0;32m    960\u001b[0m \u001b[1;33m\u001b[0m\u001b[0m\n\u001b[0;32m    961\u001b[0m         \u001b[1;31m# Resent memory conservation\u001b[0m\u001b[1;33m\u001b[0m\u001b[1;33m\u001b[0m\u001b[0m\n",
      "\u001b[1;32mc:\\Users\\LENOVO\\anaconda3\\lib\\site-packages\\statsmodels\\tsa\\statespace\\kalman_filter.py\u001b[0m in \u001b[0;36mupdate_filter\u001b[1;34m(self, kalman_filter)\u001b[0m\n\u001b[0;32m   1723\u001b[0m                     \u001b[1;32mif\u001b[0m \u001b[0mcan_compute_cov\u001b[0m\u001b[1;33m:\u001b[0m\u001b[1;33m\u001b[0m\u001b[1;33m\u001b[0m\u001b[0m\n\u001b[0;32m   1724\u001b[0m                         self.forecasts_error_cov[:, :, t] = np.dot(\n\u001b[1;32m-> 1725\u001b[1;33m                             np.dot(self.design[:, :, design_t],\n\u001b[0m\u001b[0;32m   1726\u001b[0m                                    self.predicted_state_cov[:, :, t]),\n\u001b[0;32m   1727\u001b[0m                             \u001b[0mself\u001b[0m\u001b[1;33m.\u001b[0m\u001b[0mdesign\u001b[0m\u001b[1;33m[\u001b[0m\u001b[1;33m:\u001b[0m\u001b[1;33m,\u001b[0m \u001b[1;33m:\u001b[0m\u001b[1;33m,\u001b[0m \u001b[0mdesign_t\u001b[0m\u001b[1;33m]\u001b[0m\u001b[1;33m.\u001b[0m\u001b[0mT\u001b[0m\u001b[1;33m\u001b[0m\u001b[1;33m\u001b[0m\u001b[0m\n",
      "\u001b[1;32m<__array_function__ internals>\u001b[0m in \u001b[0;36mdot\u001b[1;34m(*args, **kwargs)\u001b[0m\n",
      "\u001b[1;31mKeyboardInterrupt\u001b[0m: "
     ]
    }
   ],
   "source": [
    "# Make predictions on the test data\n",
    "ARIMA_pred = model_fit.predict(\n",
    "    start=len(X_train),\n",
    "    end=len(x)-1,\n",
    "    typ=\"levels\")\n",
    "ARIMA_pred"
   ]
  },
  {
   "cell_type": "code",
   "execution_count": null,
   "metadata": {},
   "outputs": [
    {
     "data": {
      "text/plain": [
       "[<matplotlib.lines.Line2D at 0x2b5299116d0>]"
      ]
     },
     "execution_count": 62,
     "metadata": {},
     "output_type": "execute_result"
    },
    {
     "data": {
      "image/png": "[encoded data removed]",
      "text/plain": [
       "<Figure size 640x480 with 1 Axes>"
      ]
     },
     "metadata": {},
     "output_type": "display_data"
    }
   ],
   "source": [
    "pyplot.plot(ARIMA_pred)\n",
    "pyplot.plot(X_test, color='red')"
   ]
  },
  {
   "cell_type": "code",
   "execution_count": null,
   "metadata": {},
   "outputs": [
    {
     "data": {
      "text/html": [
       "<div>\n",
       "<style scoped>\n",
       "    .dataframe tbody tr th:only-of-type {\n",
       "        vertical-align: middle;\n",
       "    }\n",
       "\n",
       "    .dataframe tbody tr th {\n",
       "        vertical-align: top;\n",
       "    }\n",
       "\n",
       "    .dataframe thead th {\n",
       "        text-align: right;\n",
       "    }\n",
       "</style>\n",
       "<table border=\"1\" class=\"dataframe\">\n",
       "  <thead>\n",
       "    <tr style=\"text-align: right;\">\n",
       "      <th></th>\n",
       "      <th>Model</th>\n",
       "      <th>MSE</th>\n",
       "      <th>RMSE</th>\n",
       "      <th>MSLE</th>\n",
       "      <th>RMSLE</th>\n",
       "    </tr>\n",
       "  </thead>\n",
       "  <tbody>\n",
       "    <tr>\n",
       "      <th>0</th>\n",
       "      <td>Linear</td>\n",
       "      <td>230030.436642</td>\n",
       "      <td>479.61</td>\n",
       "      <td>NaN</td>\n",
       "      <td>NaN</td>\n",
       "    </tr>\n",
       "    <tr>\n",
       "      <th>1</th>\n",
       "      <td>AR</td>\n",
       "      <td>2989.986841</td>\n",
       "      <td>54.68</td>\n",
       "      <td>0.013027</td>\n",
       "      <td>0.11414</td>\n",
       "    </tr>\n",
       "    <tr>\n",
       "      <th>2</th>\n",
       "      <td>ARIMA</td>\n",
       "      <td>4950.767314</td>\n",
       "      <td>70.36</td>\n",
       "      <td>0.020324</td>\n",
       "      <td>0.14000</td>\n",
       "    </tr>\n",
       "  </tbody>\n",
       "</table>\n",
       "</div>"
      ],
      "text/plain": [
       "    Model            MSE    RMSE      MSLE    RMSLE\n",
       "0  Linear  230030.436642  479.61       NaN      NaN\n",
       "1      AR    2989.986841   54.68  0.013027  0.11414\n",
       "2   ARIMA    4950.767314   70.36  0.020324  0.14000"
      ]
     },
     "execution_count": 63,
     "metadata": {},
     "output_type": "execute_result"
    }
   ],
   "source": [
    "# Evaluate our models\n",
    "mse = mean_squared_error(X_test, ARIMA_pred)\n",
    "msle = mean_squared_log_error(X_test, ARIMA_pred)\n",
    "rmse = np.sqrt(mean_squared_error(X_test, ARIMA_pred )).round(2)\n",
    "rmsle = np.sqrt(mean_squared_log_error(X_test, ARIMA_pred)).round(2)\n",
    "\n",
    "model_results = pd.DataFrame([['ARIMA', mse, msle, rmse, rmsle]], columns = ['Model', 'MSE', 'MSLE', 'RMSE', 'RMSLE'])\n",
    "results = results.append(model_results, ignore_index = True)\n",
    "results"
   ]
  },
  {
   "attachments": {},
   "cell_type": "markdown",
   "metadata": {},
   "source": [
    "## SARIMA"
   ]
  },
  {
   "cell_type": "code",
   "execution_count": null,
   "metadata": {},
   "outputs": [
    {
     "data": {
      "text/html": [
       "<table class=\"simpletable\">\n",
       "<caption>SARIMAX Results</caption>\n",
       "<tr>\n",
       "  <th>Dep. Variable:</th>         <td>sales</td>      <th>  No. Observations:  </th>   <td>1673</td>   \n",
       "</tr>\n",
       "<tr>\n",
       "  <th>Model:</th>           <td>SARIMAX(5, 1, 5)</td> <th>  Log Likelihood     </th> <td>-9254.450</td>\n",
       "</tr>\n",
       "<tr>\n",
       "  <th>Date:</th>            <td>Tue, 21 Feb 2023</td> <th>  AIC                </th> <td>18530.900</td>\n",
       "</tr>\n",
       "<tr>\n",
       "  <th>Time:</th>                <td>11:11:55</td>     <th>  BIC                </th> <td>18590.540</td>\n",
       "</tr>\n",
       "<tr>\n",
       "  <th>Sample:</th>             <td>01-01-2013</td>    <th>  HQIC               </th> <td>18552.997</td>\n",
       "</tr>\n",
       "<tr>\n",
       "  <th></th>                   <td>- 07-31-2017</td>   <th>                     </th>     <td> </td>    \n",
       "</tr>\n",
       "<tr>\n",
       "  <th>Covariance Type:</th>        <td>opg</td>       <th>                     </th>     <td> </td>    \n",
       "</tr>\n",
       "</table>\n",
       "<table class=\"simpletable\">\n",
       "<tr>\n",
       "     <td></td>       <th>coef</th>     <th>std err</th>      <th>z</th>      <th>P>|z|</th>  <th>[0.025</th>    <th>0.975]</th>  \n",
       "</tr>\n",
       "<tr>\n",
       "  <th>ar.L1</th>  <td>    1.0509</td> <td>    0.030</td> <td>   34.815</td> <td> 0.000</td> <td>    0.992</td> <td>    1.110</td>\n",
       "</tr>\n",
       "<tr>\n",
       "  <th>ar.L2</th>  <td>   -1.6375</td> <td>    0.024</td> <td>  -67.179</td> <td> 0.000</td> <td>   -1.685</td> <td>   -1.590</td>\n",
       "</tr>\n",
       "<tr>\n",
       "  <th>ar.L3</th>  <td>    1.1528</td> <td>    0.042</td> <td>   27.537</td> <td> 0.000</td> <td>    1.071</td> <td>    1.235</td>\n",
       "</tr>\n",
       "<tr>\n",
       "  <th>ar.L4</th>  <td>   -1.1901</td> <td>    0.023</td> <td>  -52.334</td> <td> 0.000</td> <td>   -1.235</td> <td>   -1.146</td>\n",
       "</tr>\n",
       "<tr>\n",
       "  <th>ar.L5</th>  <td>    0.2479</td> <td>    0.028</td> <td>    8.698</td> <td> 0.000</td> <td>    0.192</td> <td>    0.304</td>\n",
       "</tr>\n",
       "<tr>\n",
       "  <th>ma.L1</th>  <td>   -1.6740</td> <td>    0.022</td> <td>  -75.373</td> <td> 0.000</td> <td>   -1.718</td> <td>   -1.630</td>\n",
       "</tr>\n",
       "<tr>\n",
       "  <th>ma.L2</th>  <td>    2.0933</td> <td>    0.029</td> <td>   72.631</td> <td> 0.000</td> <td>    2.037</td> <td>    2.150</td>\n",
       "</tr>\n",
       "<tr>\n",
       "  <th>ma.L3</th>  <td>   -1.9605</td> <td>    0.034</td> <td>  -56.931</td> <td> 0.000</td> <td>   -2.028</td> <td>   -1.893</td>\n",
       "</tr>\n",
       "<tr>\n",
       "  <th>ma.L4</th>  <td>    1.5751</td> <td>    0.021</td> <td>   73.631</td> <td> 0.000</td> <td>    1.533</td> <td>    1.617</td>\n",
       "</tr>\n",
       "<tr>\n",
       "  <th>ma.L5</th>  <td>   -0.8221</td> <td>    0.015</td> <td>  -53.202</td> <td> 0.000</td> <td>   -0.852</td> <td>   -0.792</td>\n",
       "</tr>\n",
       "<tr>\n",
       "  <th>sigma2</th> <td> 5140.1920</td> <td>  122.086</td> <td>   42.103</td> <td> 0.000</td> <td> 4900.908</td> <td> 5379.476</td>\n",
       "</tr>\n",
       "</table>\n",
       "<table class=\"simpletable\">\n",
       "<tr>\n",
       "  <th>Ljung-Box (L1) (Q):</th>     <td>0.56</td> <th>  Jarque-Bera (JB):  </th> <td>72510.79</td>\n",
       "</tr>\n",
       "<tr>\n",
       "  <th>Prob(Q):</th>                <td>0.45</td> <th>  Prob(JB):          </th>   <td>0.00</td>  \n",
       "</tr>\n",
       "<tr>\n",
       "  <th>Heteroskedasticity (H):</th> <td>3.04</td> <th>  Skew:              </th>   <td>-1.98</td> \n",
       "</tr>\n",
       "<tr>\n",
       "  <th>Prob(H) (two-sided):</th>    <td>0.00</td> <th>  Kurtosis:          </th>   <td>35.02</td> \n",
       "</tr>\n",
       "</table><br/><br/>Warnings:<br/>[1] Covariance matrix calculated using the outer product of gradients (complex-step)."
      ],
      "text/plain": [
       "<class 'statsmodels.iolib.summary.Summary'>\n",
       "\"\"\"\n",
       "                               SARIMAX Results                                \n",
       "==============================================================================\n",
       "Dep. Variable:                  sales   No. Observations:                 1673\n",
       "Model:               SARIMAX(5, 1, 5)   Log Likelihood               -9254.450\n",
       "Date:                Tue, 21 Feb 2023   AIC                          18530.900\n",
       "Time:                        11:11:55   BIC                          18590.540\n",
       "Sample:                    01-01-2013   HQIC                         18552.997\n",
       "                         - 07-31-2017                                         \n",
       "Covariance Type:                  opg                                         \n",
       "==============================================================================\n",
       "                 coef    std err          z      P>|z|      [0.025      0.975]\n",
       "------------------------------------------------------------------------------\n",
       "ar.L1          1.0509      0.030     34.815      0.000       0.992       1.110\n",
       "ar.L2         -1.6375      0.024    -67.179      0.000      -1.685      -1.590\n",
       "ar.L3          1.1528      0.042     27.537      0.000       1.071       1.235\n",
       "ar.L4         -1.1901      0.023    -52.334      0.000      -1.235      -1.146\n",
       "ar.L5          0.2479      0.028      8.698      0.000       0.192       0.304\n",
       "ma.L1         -1.6740      0.022    -75.373      0.000      -1.718      -1.630\n",
       "ma.L2          2.0933      0.029     72.631      0.000       2.037       2.150\n",
       "ma.L3         -1.9605      0.034    -56.931      0.000      -2.028      -1.893\n",
       "ma.L4          1.5751      0.021     73.631      0.000       1.533       1.617\n",
       "ma.L5         -0.8221      0.015    -53.202      0.000      -0.852      -0.792\n",
       "sigma2      5140.1920    122.086     42.103      0.000    4900.908    5379.476\n",
       "===================================================================================\n",
       "Ljung-Box (L1) (Q):                   0.56   Jarque-Bera (JB):             72510.79\n",
       "Prob(Q):                              0.45   Prob(JB):                         0.00\n",
       "Heteroskedasticity (H):               3.04   Skew:                            -1.98\n",
       "Prob(H) (two-sided):                  0.00   Kurtosis:                        35.02\n",
       "===================================================================================\n",
       "\n",
       "Warnings:\n",
       "[1] Covariance matrix calculated using the outer product of gradients (complex-step).\n",
       "\"\"\""
      ]
     },
     "execution_count": 64,
     "metadata": {},
     "output_type": "execute_result"
    }
   ],
   "source": [
    "from statsmodels.tsa.statespace.sarimax import SARIMAX\n",
    "\n",
    "model = SARIMAX(X_train, order=(5, 1, 5), seasonal_order=(0,0,0,0)) \n",
    "model_fit = model.fit()\n",
    "model_fit.summary()"
   ]
  },
  {
   "cell_type": "code",
   "execution_count": null,
   "metadata": {},
   "outputs": [
    {
     "data": {
      "text/plain": [
       "2017-08-01    441.747273\n",
       "2017-08-02    438.810218\n",
       "2017-08-03    391.630153\n",
       "2017-08-04    429.266462\n",
       "2017-08-05    570.520176\n",
       "2017-08-06    592.722347\n",
       "2017-08-07    483.565495\n",
       "2017-08-08    438.849555\n",
       "2017-08-09    437.414804\n",
       "2017-08-10    391.876605\n",
       "2017-08-11    430.228987\n",
       "2017-08-12    569.609911\n",
       "2017-08-13    591.416156\n",
       "2017-08-14    484.153761\n",
       "2017-08-15    439.472838\n",
       "Freq: D, Name: predicted_mean, dtype: float64"
      ]
     },
     "execution_count": 65,
     "metadata": {},
     "output_type": "execute_result"
    }
   ],
   "source": [
    "# Make predictions on the test data\n",
    "SARIMA_pred = model_fit.predict(\n",
    "    start=len(X_train),\n",
    "    end=len(x)-1,\n",
    "    typ=\"levels\")\n",
    "SARIMA_pred"
   ]
  },
  {
   "cell_type": "code",
   "execution_count": null,
   "metadata": {},
   "outputs": [
    {
     "data": {
      "text/plain": [
       "[<matplotlib.lines.Line2D at 0x2b529880b20>]"
      ]
     },
     "execution_count": 66,
     "metadata": {},
     "output_type": "execute_result"
    },
    {
     "data": {
      "image/png": "[encoded data removed]",
      "text/plain": [
       "<Figure size 640x480 with 1 Axes>"
      ]
     },
     "metadata": {},
     "output_type": "display_data"
    }
   ],
   "source": [
    "pyplot.plot(SARIMA_pred)\n",
    "pyplot.plot(X_test, color='red')"
   ]
  },
  {
   "cell_type": "code",
   "execution_count": null,
   "metadata": {},
   "outputs": [
    {
     "data": {
      "text/html": [
       "<div>\n",
       "<style scoped>\n",
       "    .dataframe tbody tr th:only-of-type {\n",
       "        vertical-align: middle;\n",
       "    }\n",
       "\n",
       "    .dataframe tbody tr th {\n",
       "        vertical-align: top;\n",
       "    }\n",
       "\n",
       "    .dataframe thead th {\n",
       "        text-align: right;\n",
       "    }\n",
       "</style>\n",
       "<table border=\"1\" class=\"dataframe\">\n",
       "  <thead>\n",
       "    <tr style=\"text-align: right;\">\n",
       "      <th></th>\n",
       "      <th>Model</th>\n",
       "      <th>MSE</th>\n",
       "      <th>RMSE</th>\n",
       "      <th>MSLE</th>\n",
       "      <th>RMSLE</th>\n",
       "    </tr>\n",
       "  </thead>\n",
       "  <tbody>\n",
       "    <tr>\n",
       "      <th>0</th>\n",
       "      <td>Linear</td>\n",
       "      <td>230030.436642</td>\n",
       "      <td>479.61</td>\n",
       "      <td>NaN</td>\n",
       "      <td>NaN</td>\n",
       "    </tr>\n",
       "    <tr>\n",
       "      <th>1</th>\n",
       "      <td>AR</td>\n",
       "      <td>2989.986841</td>\n",
       "      <td>54.68</td>\n",
       "      <td>0.013027</td>\n",
       "      <td>0.11414</td>\n",
       "    </tr>\n",
       "    <tr>\n",
       "      <th>2</th>\n",
       "      <td>ARIMA</td>\n",
       "      <td>4950.767314</td>\n",
       "      <td>70.36</td>\n",
       "      <td>0.020324</td>\n",
       "      <td>0.14000</td>\n",
       "    </tr>\n",
       "    <tr>\n",
       "      <th>3</th>\n",
       "      <td>SARIMA</td>\n",
       "      <td>4056.383823</td>\n",
       "      <td>63.69</td>\n",
       "      <td>0.016630</td>\n",
       "      <td>0.13000</td>\n",
       "    </tr>\n",
       "  </tbody>\n",
       "</table>\n",
       "</div>"
      ],
      "text/plain": [
       "    Model            MSE    RMSE      MSLE    RMSLE\n",
       "0  Linear  230030.436642  479.61       NaN      NaN\n",
       "1      AR    2989.986841   54.68  0.013027  0.11414\n",
       "2   ARIMA    4950.767314   70.36  0.020324  0.14000\n",
       "3  SARIMA    4056.383823   63.69  0.016630  0.13000"
      ]
     },
     "execution_count": 67,
     "metadata": {},
     "output_type": "execute_result"
    }
   ],
   "source": [
    "# Evaluate our models\n",
    "mse = mean_squared_error(X_test, SARIMA_pred)\n",
    "msle = mean_squared_log_error(X_test, SARIMA_pred)\n",
    "rmse = np.sqrt(mean_squared_error(X_test, SARIMA_pred )).round(2)\n",
    "rmsle = np.sqrt(mean_squared_log_error(X_test, SARIMA_pred)).round(2)\n",
    "\n",
    "model_results = pd.DataFrame([['SARIMA', mse, msle, rmse, rmsle]], columns = ['Model', 'MSE', 'MSLE', 'RMSE', 'RMSLE'])\n",
    "results = results.append(model_results, ignore_index = True)\n",
    "results"
   ]
  },
  {
   "attachments": {},
   "cell_type": "markdown",
   "metadata": {},
   "source": [
    "## Backtest for Classical Models"
   ]
  },
  {
   "cell_type": "code",
   "execution_count": null,
   "metadata": {},
   "outputs": [],
   "source": [
    "backtests = {\n",
    "    1: ('2017-07-01', '2017-07-15'),\n",
    "    2: ('2017-07-15', '2017-07-30'),\n",
    "    3: ('2017-08-01', '2017-08-15')\n",
    "}"
   ]
  },
  {
   "cell_type": "code",
   "execution_count": null,
   "metadata": {},
   "outputs": [
    {
     "name": "stdout",
     "output_type": "stream",
     "text": [
      "{1: 0.08814305148228443, 2: 0.05823873002032175, 3: 0.11413615974869869}\n"
     ]
    }
   ],
   "source": [
    "# Backtests with AR Model\n",
    "scores = {}\n",
    "\n",
    "for idx, period in enumerate(backtests):\n",
    "\n",
    "    _train = train1.reset_index()[train1.reset_index()['date'] < backtests[period][0]]\n",
    "    _test = train1.reset_index()[(train1.reset_index()['date'] >= backtests[period][0]) & (train1.reset_index()['date'] <= backtests[period][1])]\n",
    "    \n",
    "    Xtrain = _train.sales.values\n",
    "    Xtest = _test.sales.values\n",
    "    \n",
    "    model = AutoReg(X_train, lags = 9).fit()\n",
    "    ypred = model.predict(\n",
    "    start=len(_train),\n",
    "    end=len(_train) + len(_test) -1,\n",
    "    dynamic=False\n",
    "    )\n",
    "    \n",
    "    scores[period] = np.sqrt(mean_squared_log_error(Xtest, ypred))\n",
    "\n",
    "print(scores)"
   ]
  },
  {
   "cell_type": "code",
   "execution_count": null,
   "metadata": {},
   "outputs": [],
   "source": [
    "eval1=x[1658:]"
   ]
  },
  {
   "cell_type": "code",
   "execution_count": null,
   "metadata": {},
   "outputs": [
    {
     "data": {
      "text/plain": [
       "(30, 1688)"
      ]
     },
     "execution_count": 71,
     "metadata": {},
     "output_type": "execute_result"
    }
   ],
   "source": [
    "len(eval1), len(x)"
   ]
  },
  {
   "cell_type": "code",
   "execution_count": null,
   "metadata": {},
   "outputs": [
    {
     "data": {
      "text/plain": [
       "2017-07-17    474.308343\n",
       "2017-07-18    412.468765\n",
       "2017-07-19    417.333988\n",
       "2017-07-20    383.641525\n",
       "2017-07-21    428.487445\n",
       "2017-07-22    532.953331\n",
       "2017-07-23    562.719185\n",
       "2017-07-24    460.934773\n",
       "2017-07-25    409.035204\n",
       "2017-07-26    419.053773\n",
       "2017-07-27    395.931681\n",
       "2017-07-28    416.943116\n",
       "2017-07-29    522.116799\n",
       "2017-07-30    565.256132\n",
       "2017-07-31    499.328401\n",
       "2017-08-01    430.265045\n",
       "2017-08-02    427.312872\n",
       "2017-08-03    401.198627\n",
       "2017-08-04    462.388781\n",
       "2017-08-05    555.825688\n",
       "2017-08-06    579.965121\n",
       "2017-08-07    484.206751\n",
       "2017-08-08    426.489922\n",
       "2017-08-09    422.410429\n",
       "2017-08-10    410.512726\n",
       "2017-08-11    454.029225\n",
       "2017-08-12    528.444708\n",
       "2017-08-13    540.988688\n",
       "2017-08-14    469.514329\n",
       "2017-08-15    422.532846\n",
       "Freq: D, dtype: float64"
      ]
     },
     "execution_count": 72,
     "metadata": {},
     "output_type": "execute_result"
    }
   ],
   "source": [
    "pred = armodel.predict(\n",
    "    start=len(x)-len(eval1),\n",
    "    end=len(x)-1,\n",
    "    dynamic=False\n",
    ")\n",
    "pred[np.isnan(pred)] = 0\n",
    "pred"
   ]
  },
  {
   "cell_type": "code",
   "execution_count": null,
   "metadata": {},
   "outputs": [
    {
     "name": "stdout",
     "output_type": "stream",
     "text": [
      "0.0894882744359352\n"
     ]
    }
   ],
   "source": [
    "print(np.sqrt(mean_squared_log_error(eval1, pred)))"
   ]
  },
  {
   "cell_type": "code",
   "execution_count": null,
   "metadata": {},
   "outputs": [],
   "source": []
  }
 ],
 "metadata": {
  "kernelspec": {
   "display_name": "base",
   "language": "python",
   "name": "python3"
  },
  "language_info": {
   "codemirror_mode": {
    "name": "ipython",
    "version": 3
   },
   "file_extension": ".py",
   "mimetype": "text/x-python",
   "name": "python",
   "nbconvert_exporter": "python",
   "pygments_lexer": "ipython3",
   "version": "3.9.13"
  },
  "vscode": {
   "interpreter": {
    "hash": "7679c2132d3f6ce38c9df14d554b39c06862b36a4e6689c81f9ae15bd0911d7d"
   }
  }
 },
 "nbformat": 4,
 "nbformat_minor": 2
}
