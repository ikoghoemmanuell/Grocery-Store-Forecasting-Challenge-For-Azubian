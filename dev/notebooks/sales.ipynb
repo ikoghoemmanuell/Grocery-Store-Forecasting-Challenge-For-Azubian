{
  "cells": [
    {
      "cell_type": "markdown",
      "metadata": {
        "id": "view-in-github",
        "colab_type": "text"
      },
      "source": [
        "<a href=\"https://colab.research.google.com/github/ikoghoemmanuell/Grocery-Store-Forecasting-Challenge-For-Azubian/blob/main/dev/notebooks/sales.ipynb\" target=\"_parent\"><img src=\"https://colab.research.google.com/assets/colab-badge.svg\" alt=\"Open In Colab\"/></a>"
      ]
    },
    {
      "cell_type": "markdown",
      "metadata": {
        "id": "G0W08xH04Nzv"
      },
      "source": [
        "# Title"
      ]
    },
    {
      "cell_type": "markdown",
      "metadata": {
        "id": "jLTuR-lo4Nzx"
      },
      "source": [
        "# Description"
      ]
    },
    {
      "cell_type": "code",
      "source": [
        "pip install category_encoders"
      ],
      "metadata": {
        "id": "Qmbb_sngwF8q",
        "outputId": "b104a771-372c-4d38-b05b-5d0018be1922",
        "colab": {
          "base_uri": "https://localhost:8080/"
        }
      },
      "execution_count": 1,
      "outputs": [
        {
          "output_type": "stream",
          "name": "stdout",
          "text": [
            "Looking in indexes: https://pypi.org/simple, https://us-python.pkg.dev/colab-wheels/public/simple/\n",
            "Requirement already satisfied: category_encoders in /usr/local/lib/python3.10/dist-packages (2.6.1)\n",
            "Requirement already satisfied: numpy>=1.14.0 in /usr/local/lib/python3.10/dist-packages (from category_encoders) (1.22.4)\n",
            "Requirement already satisfied: scikit-learn>=0.20.0 in /usr/local/lib/python3.10/dist-packages (from category_encoders) (1.2.2)\n",
            "Requirement already satisfied: scipy>=1.0.0 in /usr/local/lib/python3.10/dist-packages (from category_encoders) (1.10.1)\n",
            "Requirement already satisfied: statsmodels>=0.9.0 in /usr/local/lib/python3.10/dist-packages (from category_encoders) (0.13.5)\n",
            "Requirement already satisfied: pandas>=1.0.5 in /usr/local/lib/python3.10/dist-packages (from category_encoders) (1.5.3)\n",
            "Requirement already satisfied: patsy>=0.5.1 in /usr/local/lib/python3.10/dist-packages (from category_encoders) (0.5.3)\n",
            "Requirement already satisfied: python-dateutil>=2.8.1 in /usr/local/lib/python3.10/dist-packages (from pandas>=1.0.5->category_encoders) (2.8.2)\n",
            "Requirement already satisfied: pytz>=2020.1 in /usr/local/lib/python3.10/dist-packages (from pandas>=1.0.5->category_encoders) (2022.7.1)\n",
            "Requirement already satisfied: six in /usr/local/lib/python3.10/dist-packages (from patsy>=0.5.1->category_encoders) (1.16.0)\n",
            "Requirement already satisfied: joblib>=1.1.1 in /usr/local/lib/python3.10/dist-packages (from scikit-learn>=0.20.0->category_encoders) (1.2.0)\n",
            "Requirement already satisfied: threadpoolctl>=2.0.0 in /usr/local/lib/python3.10/dist-packages (from scikit-learn>=0.20.0->category_encoders) (3.1.0)\n",
            "Requirement already satisfied: packaging>=21.3 in /usr/local/lib/python3.10/dist-packages (from statsmodels>=0.9.0->category_encoders) (23.1)\n"
          ]
        }
      ]
    },
    {
      "cell_type": "code",
      "source": [
        "!pip install pmdarima"
      ],
      "metadata": {
        "id": "tjMy6CatwySH",
        "outputId": "08623641-c1a0-4e70-d98b-5668980fd75e",
        "colab": {
          "base_uri": "https://localhost:8080/"
        }
      },
      "execution_count": 2,
      "outputs": [
        {
          "output_type": "stream",
          "name": "stdout",
          "text": [
            "Looking in indexes: https://pypi.org/simple, https://us-python.pkg.dev/colab-wheels/public/simple/\n",
            "Requirement already satisfied: pmdarima in /usr/local/lib/python3.10/dist-packages (2.0.3)\n",
            "Requirement already satisfied: joblib>=0.11 in /usr/local/lib/python3.10/dist-packages (from pmdarima) (1.2.0)\n",
            "Requirement already satisfied: Cython!=0.29.18,!=0.29.31,>=0.29 in /usr/local/lib/python3.10/dist-packages (from pmdarima) (0.29.34)\n",
            "Requirement already satisfied: numpy>=1.21.2 in /usr/local/lib/python3.10/dist-packages (from pmdarima) (1.22.4)\n",
            "Requirement already satisfied: pandas>=0.19 in /usr/local/lib/python3.10/dist-packages (from pmdarima) (1.5.3)\n",
            "Requirement already satisfied: scikit-learn>=0.22 in /usr/local/lib/python3.10/dist-packages (from pmdarima) (1.2.2)\n",
            "Requirement already satisfied: scipy>=1.3.2 in /usr/local/lib/python3.10/dist-packages (from pmdarima) (1.10.1)\n",
            "Requirement already satisfied: statsmodels>=0.13.2 in /usr/local/lib/python3.10/dist-packages (from pmdarima) (0.13.5)\n",
            "Requirement already satisfied: urllib3 in /usr/local/lib/python3.10/dist-packages (from pmdarima) (1.26.15)\n",
            "Requirement already satisfied: setuptools!=50.0.0,>=38.6.0 in /usr/local/lib/python3.10/dist-packages (from pmdarima) (67.7.2)\n",
            "Requirement already satisfied: python-dateutil>=2.8.1 in /usr/local/lib/python3.10/dist-packages (from pandas>=0.19->pmdarima) (2.8.2)\n",
            "Requirement already satisfied: pytz>=2020.1 in /usr/local/lib/python3.10/dist-packages (from pandas>=0.19->pmdarima) (2022.7.1)\n",
            "Requirement already satisfied: threadpoolctl>=2.0.0 in /usr/local/lib/python3.10/dist-packages (from scikit-learn>=0.22->pmdarima) (3.1.0)\n",
            "Requirement already satisfied: patsy>=0.5.2 in /usr/local/lib/python3.10/dist-packages (from statsmodels>=0.13.2->pmdarima) (0.5.3)\n",
            "Requirement already satisfied: packaging>=21.3 in /usr/local/lib/python3.10/dist-packages (from statsmodels>=0.13.2->pmdarima) (23.1)\n",
            "Requirement already satisfied: six in /usr/local/lib/python3.10/dist-packages (from patsy>=0.5.2->statsmodels>=0.13.2->pmdarima) (1.16.0)\n"
          ]
        }
      ]
    },
    {
      "cell_type": "markdown",
      "metadata": {
        "id": "h76n_a9e4Nzy"
      },
      "source": [
        "# Importation"
      ]
    },
    {
      "cell_type": "code",
      "execution_count": 3,
      "metadata": {
        "id": "h9KtdvmP4Nzz"
      },
      "outputs": [],
      "source": [
        "import pandas as pd\n",
        "import numpy as np\n",
        "import matplotlib.pyplot as plt\n",
        "import seaborn as sns\n",
        "import plotly.express as px\n",
        "import plotly.graph_objects as go\n",
        "\n",
        "import matplotlib.dates as mdates\n",
        "%matplotlib inline\n",
        "from itertools import product\n",
        "\n",
        "from statsmodels.tsa.stattools import adfuller\n",
        "from statsmodels.tsa.stattools import kpss\n",
        "from statsmodels.graphics.tsaplots import plot_acf, plot_pacf\n",
        "\n",
        "from sklearn.impute import SimpleImputer\n",
        "from sklearn.preprocessing import OneHotEncoder, LabelEncoder\n",
        "from category_encoders.binary import BinaryEncoder\n",
        "from sklearn.preprocessing import StandardScaler\n",
        "\n",
        "from sklearn.metrics import mean_squared_error\n",
        "from sklearn.metrics import mean_squared_log_error\n",
        "\n",
        "from statsmodels.tsa.seasonal import seasonal_decompose\n",
        "from statsmodels.tsa.api import AutoReg\n",
        "from pmdarima import auto_arima\n",
        "from statsmodels.tsa.arima.model import ARIMA\n",
        "from statsmodels.tsa.statespace.sarimax import SARIMAX\n",
        "\n",
        "import warnings\n",
        "import os\n",
        "warnings.filterwarnings(\"ignore\")\n",
        "from google.colab import drive"
      ]
    },
    {
      "cell_type": "markdown",
      "metadata": {
        "id": "3kfbniiz4Nz0"
      },
      "source": [
        "# Data Loading"
      ]
    },
    {
      "cell_type": "code",
      "execution_count": 4,
      "metadata": {
        "colab": {
          "base_uri": "https://localhost:8080/"
        },
        "id": "p3HFblb7_vMc",
        "outputId": "f3019146-d033-4fcb-a4a7-c560dccd31c7"
      },
      "outputs": [
        {
          "output_type": "stream",
          "name": "stdout",
          "text": [
            "Drive already mounted at /content/drive; to attempt to forcibly remount, call drive.mount(\"/content/drive\", force_remount=True).\n"
          ]
        }
      ],
      "source": [
        "# Mount Google Drive\n",
        "drive.mount('/content/drive')\n",
        "\n",
        "# Define the folder path in Google Drive where your CSV files are located\n",
        "folder_path = \"/content/drive/MyDrive/Colab Notebooks/datasets/grocery store azubian\"\n",
        "\n",
        "# Load the CSV files into DataFrames\n",
        "data = {}\n",
        "\n",
        "# Iterate over the files in the folder\n",
        "for file_name in os.listdir(folder_path):\n",
        "    if file_name.endswith(\".csv\"):\n",
        "        # Remove the file extension to get the variable name\n",
        "        variable_name = file_name.replace(\".csv\", \"\")\n",
        "\n",
        "        # Construct the file path\n",
        "        file_path = os.path.join(folder_path, file_name)\n",
        "\n",
        "        # Read the CSV file content into a DataFrame\n",
        "        data[variable_name] = pd.read_csv(file_path)\n",
        "\n",
        "# Access the data using dictionary keysdri\n",
        "holidays = data[\"holidays\"]\n",
        "dates = data[\"dates\"]\n",
        "sample = data[\"SampleSubmission\"]\n",
        "stores = data[\"stores\"]\n",
        "test = data[\"test\"]\n",
        "train = data[\"train\"]"
      ]
    },
    {
      "cell_type": "code",
      "execution_count": 5,
      "metadata": {
        "id": "MhVvJ2liwCwN"
      },
      "outputs": [],
      "source": [
        "# train = pd.read_csv(\"C:/Users/LENOVO/Music/Grocery-Store-Forecasting-Challenge-For-Azubian/assets/grocery store azubian/train.csv\")\n",
        "# test = pd.read_csv(\"C:/Users/LENOVO/Music/Grocery-Store-Forecasting-Challenge-For-Azubian/assets/grocery store azubian/test.csv\")\n",
        "# stores = pd.read_csv(\"C:/Users/LENOVO/Music/Grocery-Store-Forecasting-Challenge-For-Azubian/assets/grocery store azubian/stores.csv\")\n",
        "# sample = pd.read_csv(\"C:/Users/LENOVO/Music/Grocery-Store-Forecasting-Challenge-For-Azubian/assets/grocery store azubian/SampleSubmission.csv\")\n",
        "# dates = pd.read_csv(\"C:/Users/LENOVO/Music/Grocery-Store-Forecasting-Challenge-For-Azubian/assets/grocery store azubian/dates.csv\")\n",
        "# holidays = pd.read_csv(\"C:/Users/LENOVO/Music/Grocery-Store-Forecasting-Challenge-For-Azubian/assets/grocery store azubian/holidays.csv\")"
      ]
    },
    {
      "cell_type": "markdown",
      "metadata": {
        "id": "Mz9VjJVx4Nz3"
      },
      "source": [
        "# Dataset overview"
      ]
    },
    {
      "cell_type": "code",
      "execution_count": 6,
      "metadata": {
        "colab": {
          "base_uri": "https://localhost:8080/",
          "height": 206
        },
        "id": "kajd5nDC490n",
        "outputId": "36a0478f-25d8-4b57-d0cd-545d3d7cf59f"
      },
      "outputs": [
        {
          "output_type": "execute_result",
          "data": {
            "text/plain": [
              "   date store_id  category_id  target  onpromotion  nbr_of_transactions\n",
              "0   365  store_1  category_24     0.0            0                  0.0\n",
              "1   365  store_1  category_21     0.0            0                  0.0\n",
              "2   365  store_1  category_32     0.0            0                  0.0\n",
              "3   365  store_1  category_18     0.0            0                  0.0\n",
              "4   365  store_1  category_26     0.0            0                  0.0"
            ],
            "text/html": [
              "\n",
              "  <div id=\"df-464a2484-5e89-49ee-9fdd-87c44550ab92\">\n",
              "    <div class=\"colab-df-container\">\n",
              "      <div>\n",
              "<style scoped>\n",
              "    .dataframe tbody tr th:only-of-type {\n",
              "        vertical-align: middle;\n",
              "    }\n",
              "\n",
              "    .dataframe tbody tr th {\n",
              "        vertical-align: top;\n",
              "    }\n",
              "\n",
              "    .dataframe thead th {\n",
              "        text-align: right;\n",
              "    }\n",
              "</style>\n",
              "<table border=\"1\" class=\"dataframe\">\n",
              "  <thead>\n",
              "    <tr style=\"text-align: right;\">\n",
              "      <th></th>\n",
              "      <th>date</th>\n",
              "      <th>store_id</th>\n",
              "      <th>category_id</th>\n",
              "      <th>target</th>\n",
              "      <th>onpromotion</th>\n",
              "      <th>nbr_of_transactions</th>\n",
              "    </tr>\n",
              "  </thead>\n",
              "  <tbody>\n",
              "    <tr>\n",
              "      <th>0</th>\n",
              "      <td>365</td>\n",
              "      <td>store_1</td>\n",
              "      <td>category_24</td>\n",
              "      <td>0.0</td>\n",
              "      <td>0</td>\n",
              "      <td>0.0</td>\n",
              "    </tr>\n",
              "    <tr>\n",
              "      <th>1</th>\n",
              "      <td>365</td>\n",
              "      <td>store_1</td>\n",
              "      <td>category_21</td>\n",
              "      <td>0.0</td>\n",
              "      <td>0</td>\n",
              "      <td>0.0</td>\n",
              "    </tr>\n",
              "    <tr>\n",
              "      <th>2</th>\n",
              "      <td>365</td>\n",
              "      <td>store_1</td>\n",
              "      <td>category_32</td>\n",
              "      <td>0.0</td>\n",
              "      <td>0</td>\n",
              "      <td>0.0</td>\n",
              "    </tr>\n",
              "    <tr>\n",
              "      <th>3</th>\n",
              "      <td>365</td>\n",
              "      <td>store_1</td>\n",
              "      <td>category_18</td>\n",
              "      <td>0.0</td>\n",
              "      <td>0</td>\n",
              "      <td>0.0</td>\n",
              "    </tr>\n",
              "    <tr>\n",
              "      <th>4</th>\n",
              "      <td>365</td>\n",
              "      <td>store_1</td>\n",
              "      <td>category_26</td>\n",
              "      <td>0.0</td>\n",
              "      <td>0</td>\n",
              "      <td>0.0</td>\n",
              "    </tr>\n",
              "  </tbody>\n",
              "</table>\n",
              "</div>\n",
              "      <button class=\"colab-df-convert\" onclick=\"convertToInteractive('df-464a2484-5e89-49ee-9fdd-87c44550ab92')\"\n",
              "              title=\"Convert this dataframe to an interactive table.\"\n",
              "              style=\"display:none;\">\n",
              "        \n",
              "  <svg xmlns=\"http://www.w3.org/2000/svg\" height=\"24px\"viewBox=\"0 0 24 24\"\n",
              "       width=\"24px\">\n",
              "    <path d=\"M0 0h24v24H0V0z\" fill=\"none\"/>\n",
              "    <path d=\"M18.56 5.44l.94 2.06.94-2.06 2.06-.94-2.06-.94-.94-2.06-.94 2.06-2.06.94zm-11 1L8.5 8.5l.94-2.06 2.06-.94-2.06-.94L8.5 2.5l-.94 2.06-2.06.94zm10 10l.94 2.06.94-2.06 2.06-.94-2.06-.94-.94-2.06-.94 2.06-2.06.94z\"/><path d=\"M17.41 7.96l-1.37-1.37c-.4-.4-.92-.59-1.43-.59-.52 0-1.04.2-1.43.59L10.3 9.45l-7.72 7.72c-.78.78-.78 2.05 0 2.83L4 21.41c.39.39.9.59 1.41.59.51 0 1.02-.2 1.41-.59l7.78-7.78 2.81-2.81c.8-.78.8-2.07 0-2.86zM5.41 20L4 18.59l7.72-7.72 1.47 1.35L5.41 20z\"/>\n",
              "  </svg>\n",
              "      </button>\n",
              "      \n",
              "  <style>\n",
              "    .colab-df-container {\n",
              "      display:flex;\n",
              "      flex-wrap:wrap;\n",
              "      gap: 12px;\n",
              "    }\n",
              "\n",
              "    .colab-df-convert {\n",
              "      background-color: #E8F0FE;\n",
              "      border: none;\n",
              "      border-radius: 50%;\n",
              "      cursor: pointer;\n",
              "      display: none;\n",
              "      fill: #1967D2;\n",
              "      height: 32px;\n",
              "      padding: 0 0 0 0;\n",
              "      width: 32px;\n",
              "    }\n",
              "\n",
              "    .colab-df-convert:hover {\n",
              "      background-color: #E2EBFA;\n",
              "      box-shadow: 0px 1px 2px rgba(60, 64, 67, 0.3), 0px 1px 3px 1px rgba(60, 64, 67, 0.15);\n",
              "      fill: #174EA6;\n",
              "    }\n",
              "\n",
              "    [theme=dark] .colab-df-convert {\n",
              "      background-color: #3B4455;\n",
              "      fill: #D2E3FC;\n",
              "    }\n",
              "\n",
              "    [theme=dark] .colab-df-convert:hover {\n",
              "      background-color: #434B5C;\n",
              "      box-shadow: 0px 1px 3px 1px rgba(0, 0, 0, 0.15);\n",
              "      filter: drop-shadow(0px 1px 2px rgba(0, 0, 0, 0.3));\n",
              "      fill: #FFFFFF;\n",
              "    }\n",
              "  </style>\n",
              "\n",
              "      <script>\n",
              "        const buttonEl =\n",
              "          document.querySelector('#df-464a2484-5e89-49ee-9fdd-87c44550ab92 button.colab-df-convert');\n",
              "        buttonEl.style.display =\n",
              "          google.colab.kernel.accessAllowed ? 'block' : 'none';\n",
              "\n",
              "        async function convertToInteractive(key) {\n",
              "          const element = document.querySelector('#df-464a2484-5e89-49ee-9fdd-87c44550ab92');\n",
              "          const dataTable =\n",
              "            await google.colab.kernel.invokeFunction('convertToInteractive',\n",
              "                                                     [key], {});\n",
              "          if (!dataTable) return;\n",
              "\n",
              "          const docLinkHtml = 'Like what you see? Visit the ' +\n",
              "            '<a target=\"_blank\" href=https://colab.research.google.com/notebooks/data_table.ipynb>data table notebook</a>'\n",
              "            + ' to learn more about interactive tables.';\n",
              "          element.innerHTML = '';\n",
              "          dataTable['output_type'] = 'display_data';\n",
              "          await google.colab.output.renderOutput(dataTable, element);\n",
              "          const docLink = document.createElement('div');\n",
              "          docLink.innerHTML = docLinkHtml;\n",
              "          element.appendChild(docLink);\n",
              "        }\n",
              "      </script>\n",
              "    </div>\n",
              "  </div>\n",
              "  "
            ]
          },
          "metadata": {},
          "execution_count": 6
        }
      ],
      "source": [
        "train.head()"
      ]
    },
    {
      "cell_type": "markdown",
      "metadata": {
        "id": "UKsCG3Cr5058"
      },
      "source": [
        "train date is in numerical format. We'll have to convert it to Datetime format later"
      ]
    },
    {
      "cell_type": "code",
      "execution_count": 7,
      "metadata": {
        "colab": {
          "base_uri": "https://localhost:8080/",
          "height": 206
        },
        "id": "BBssAeqaAYbs",
        "outputId": "2e737a2b-9ec6-42af-8067-790b1a5c304d"
      },
      "outputs": [
        {
          "output_type": "execute_result",
          "data": {
            "text/plain": [
              "   date store_id  category_id  onpromotion\n",
              "0  1627  store_1  category_24            0\n",
              "1  1627  store_1  category_21            0\n",
              "2  1627  store_1  category_32            0\n",
              "3  1627  store_1  category_18           16\n",
              "4  1627  store_1  category_26            0"
            ],
            "text/html": [
              "\n",
              "  <div id=\"df-02110273-8f33-40e4-acc9-c2d24e966029\">\n",
              "    <div class=\"colab-df-container\">\n",
              "      <div>\n",
              "<style scoped>\n",
              "    .dataframe tbody tr th:only-of-type {\n",
              "        vertical-align: middle;\n",
              "    }\n",
              "\n",
              "    .dataframe tbody tr th {\n",
              "        vertical-align: top;\n",
              "    }\n",
              "\n",
              "    .dataframe thead th {\n",
              "        text-align: right;\n",
              "    }\n",
              "</style>\n",
              "<table border=\"1\" class=\"dataframe\">\n",
              "  <thead>\n",
              "    <tr style=\"text-align: right;\">\n",
              "      <th></th>\n",
              "      <th>date</th>\n",
              "      <th>store_id</th>\n",
              "      <th>category_id</th>\n",
              "      <th>onpromotion</th>\n",
              "    </tr>\n",
              "  </thead>\n",
              "  <tbody>\n",
              "    <tr>\n",
              "      <th>0</th>\n",
              "      <td>1627</td>\n",
              "      <td>store_1</td>\n",
              "      <td>category_24</td>\n",
              "      <td>0</td>\n",
              "    </tr>\n",
              "    <tr>\n",
              "      <th>1</th>\n",
              "      <td>1627</td>\n",
              "      <td>store_1</td>\n",
              "      <td>category_21</td>\n",
              "      <td>0</td>\n",
              "    </tr>\n",
              "    <tr>\n",
              "      <th>2</th>\n",
              "      <td>1627</td>\n",
              "      <td>store_1</td>\n",
              "      <td>category_32</td>\n",
              "      <td>0</td>\n",
              "    </tr>\n",
              "    <tr>\n",
              "      <th>3</th>\n",
              "      <td>1627</td>\n",
              "      <td>store_1</td>\n",
              "      <td>category_18</td>\n",
              "      <td>16</td>\n",
              "    </tr>\n",
              "    <tr>\n",
              "      <th>4</th>\n",
              "      <td>1627</td>\n",
              "      <td>store_1</td>\n",
              "      <td>category_26</td>\n",
              "      <td>0</td>\n",
              "    </tr>\n",
              "  </tbody>\n",
              "</table>\n",
              "</div>\n",
              "      <button class=\"colab-df-convert\" onclick=\"convertToInteractive('df-02110273-8f33-40e4-acc9-c2d24e966029')\"\n",
              "              title=\"Convert this dataframe to an interactive table.\"\n",
              "              style=\"display:none;\">\n",
              "        \n",
              "  <svg xmlns=\"http://www.w3.org/2000/svg\" height=\"24px\"viewBox=\"0 0 24 24\"\n",
              "       width=\"24px\">\n",
              "    <path d=\"M0 0h24v24H0V0z\" fill=\"none\"/>\n",
              "    <path d=\"M18.56 5.44l.94 2.06.94-2.06 2.06-.94-2.06-.94-.94-2.06-.94 2.06-2.06.94zm-11 1L8.5 8.5l.94-2.06 2.06-.94-2.06-.94L8.5 2.5l-.94 2.06-2.06.94zm10 10l.94 2.06.94-2.06 2.06-.94-2.06-.94-.94-2.06-.94 2.06-2.06.94z\"/><path d=\"M17.41 7.96l-1.37-1.37c-.4-.4-.92-.59-1.43-.59-.52 0-1.04.2-1.43.59L10.3 9.45l-7.72 7.72c-.78.78-.78 2.05 0 2.83L4 21.41c.39.39.9.59 1.41.59.51 0 1.02-.2 1.41-.59l7.78-7.78 2.81-2.81c.8-.78.8-2.07 0-2.86zM5.41 20L4 18.59l7.72-7.72 1.47 1.35L5.41 20z\"/>\n",
              "  </svg>\n",
              "      </button>\n",
              "      \n",
              "  <style>\n",
              "    .colab-df-container {\n",
              "      display:flex;\n",
              "      flex-wrap:wrap;\n",
              "      gap: 12px;\n",
              "    }\n",
              "\n",
              "    .colab-df-convert {\n",
              "      background-color: #E8F0FE;\n",
              "      border: none;\n",
              "      border-radius: 50%;\n",
              "      cursor: pointer;\n",
              "      display: none;\n",
              "      fill: #1967D2;\n",
              "      height: 32px;\n",
              "      padding: 0 0 0 0;\n",
              "      width: 32px;\n",
              "    }\n",
              "\n",
              "    .colab-df-convert:hover {\n",
              "      background-color: #E2EBFA;\n",
              "      box-shadow: 0px 1px 2px rgba(60, 64, 67, 0.3), 0px 1px 3px 1px rgba(60, 64, 67, 0.15);\n",
              "      fill: #174EA6;\n",
              "    }\n",
              "\n",
              "    [theme=dark] .colab-df-convert {\n",
              "      background-color: #3B4455;\n",
              "      fill: #D2E3FC;\n",
              "    }\n",
              "\n",
              "    [theme=dark] .colab-df-convert:hover {\n",
              "      background-color: #434B5C;\n",
              "      box-shadow: 0px 1px 3px 1px rgba(0, 0, 0, 0.15);\n",
              "      filter: drop-shadow(0px 1px 2px rgba(0, 0, 0, 0.3));\n",
              "      fill: #FFFFFF;\n",
              "    }\n",
              "  </style>\n",
              "\n",
              "      <script>\n",
              "        const buttonEl =\n",
              "          document.querySelector('#df-02110273-8f33-40e4-acc9-c2d24e966029 button.colab-df-convert');\n",
              "        buttonEl.style.display =\n",
              "          google.colab.kernel.accessAllowed ? 'block' : 'none';\n",
              "\n",
              "        async function convertToInteractive(key) {\n",
              "          const element = document.querySelector('#df-02110273-8f33-40e4-acc9-c2d24e966029');\n",
              "          const dataTable =\n",
              "            await google.colab.kernel.invokeFunction('convertToInteractive',\n",
              "                                                     [key], {});\n",
              "          if (!dataTable) return;\n",
              "\n",
              "          const docLinkHtml = 'Like what you see? Visit the ' +\n",
              "            '<a target=\"_blank\" href=https://colab.research.google.com/notebooks/data_table.ipynb>data table notebook</a>'\n",
              "            + ' to learn more about interactive tables.';\n",
              "          element.innerHTML = '';\n",
              "          dataTable['output_type'] = 'display_data';\n",
              "          await google.colab.output.renderOutput(dataTable, element);\n",
              "          const docLink = document.createElement('div');\n",
              "          docLink.innerHTML = docLinkHtml;\n",
              "          element.appendChild(docLink);\n",
              "        }\n",
              "      </script>\n",
              "    </div>\n",
              "  </div>\n",
              "  "
            ]
          },
          "metadata": {},
          "execution_count": 7
        }
      ],
      "source": [
        "test.head()"
      ]
    },
    {
      "cell_type": "code",
      "execution_count": 8,
      "metadata": {
        "colab": {
          "base_uri": "https://localhost:8080/"
        },
        "id": "wuTqIthgAuqV",
        "outputId": "83458864-66bd-4540-fe2e-780c48b1c00a"
      },
      "outputs": [
        {
          "output_type": "stream",
          "name": "stdout",
          "text": [
            "<class 'pandas.core.frame.DataFrame'>\n",
            "RangeIndex: 99792 entries, 0 to 99791\n",
            "Data columns (total 4 columns):\n",
            " #   Column       Non-Null Count  Dtype \n",
            "---  ------       --------------  ----- \n",
            " 0   date         99792 non-null  int64 \n",
            " 1   store_id     99792 non-null  object\n",
            " 2   category_id  99792 non-null  object\n",
            " 3   onpromotion  99792 non-null  int64 \n",
            "dtypes: int64(2), object(2)\n",
            "memory usage: 3.0+ MB\n"
          ]
        }
      ],
      "source": [
        "test.info()"
      ]
    },
    {
      "cell_type": "code",
      "execution_count": 9,
      "metadata": {
        "colab": {
          "base_uri": "https://localhost:8080/",
          "height": 206
        },
        "id": "M0DDPOuEBLHK",
        "outputId": "6129a060-f074-49ad-a955-95ba7117c2dd"
      },
      "outputs": [
        {
          "output_type": "execute_result",
          "data": {
            "text/plain": [
              "  store_id  city  type  cluster\n",
              "0  store_1     0     0        0\n",
              "1  store_2     0     0        0\n",
              "2  store_3     0     0        1\n",
              "3  store_4     0     0        2\n",
              "4  store_5     1     0        3"
            ],
            "text/html": [
              "\n",
              "  <div id=\"df-02d86261-c6a9-4c8c-aa4f-3348075e90a6\">\n",
              "    <div class=\"colab-df-container\">\n",
              "      <div>\n",
              "<style scoped>\n",
              "    .dataframe tbody tr th:only-of-type {\n",
              "        vertical-align: middle;\n",
              "    }\n",
              "\n",
              "    .dataframe tbody tr th {\n",
              "        vertical-align: top;\n",
              "    }\n",
              "\n",
              "    .dataframe thead th {\n",
              "        text-align: right;\n",
              "    }\n",
              "</style>\n",
              "<table border=\"1\" class=\"dataframe\">\n",
              "  <thead>\n",
              "    <tr style=\"text-align: right;\">\n",
              "      <th></th>\n",
              "      <th>store_id</th>\n",
              "      <th>city</th>\n",
              "      <th>type</th>\n",
              "      <th>cluster</th>\n",
              "    </tr>\n",
              "  </thead>\n",
              "  <tbody>\n",
              "    <tr>\n",
              "      <th>0</th>\n",
              "      <td>store_1</td>\n",
              "      <td>0</td>\n",
              "      <td>0</td>\n",
              "      <td>0</td>\n",
              "    </tr>\n",
              "    <tr>\n",
              "      <th>1</th>\n",
              "      <td>store_2</td>\n",
              "      <td>0</td>\n",
              "      <td>0</td>\n",
              "      <td>0</td>\n",
              "    </tr>\n",
              "    <tr>\n",
              "      <th>2</th>\n",
              "      <td>store_3</td>\n",
              "      <td>0</td>\n",
              "      <td>0</td>\n",
              "      <td>1</td>\n",
              "    </tr>\n",
              "    <tr>\n",
              "      <th>3</th>\n",
              "      <td>store_4</td>\n",
              "      <td>0</td>\n",
              "      <td>0</td>\n",
              "      <td>2</td>\n",
              "    </tr>\n",
              "    <tr>\n",
              "      <th>4</th>\n",
              "      <td>store_5</td>\n",
              "      <td>1</td>\n",
              "      <td>0</td>\n",
              "      <td>3</td>\n",
              "    </tr>\n",
              "  </tbody>\n",
              "</table>\n",
              "</div>\n",
              "      <button class=\"colab-df-convert\" onclick=\"convertToInteractive('df-02d86261-c6a9-4c8c-aa4f-3348075e90a6')\"\n",
              "              title=\"Convert this dataframe to an interactive table.\"\n",
              "              style=\"display:none;\">\n",
              "        \n",
              "  <svg xmlns=\"http://www.w3.org/2000/svg\" height=\"24px\"viewBox=\"0 0 24 24\"\n",
              "       width=\"24px\">\n",
              "    <path d=\"M0 0h24v24H0V0z\" fill=\"none\"/>\n",
              "    <path d=\"M18.56 5.44l.94 2.06.94-2.06 2.06-.94-2.06-.94-.94-2.06-.94 2.06-2.06.94zm-11 1L8.5 8.5l.94-2.06 2.06-.94-2.06-.94L8.5 2.5l-.94 2.06-2.06.94zm10 10l.94 2.06.94-2.06 2.06-.94-2.06-.94-.94-2.06-.94 2.06-2.06.94z\"/><path d=\"M17.41 7.96l-1.37-1.37c-.4-.4-.92-.59-1.43-.59-.52 0-1.04.2-1.43.59L10.3 9.45l-7.72 7.72c-.78.78-.78 2.05 0 2.83L4 21.41c.39.39.9.59 1.41.59.51 0 1.02-.2 1.41-.59l7.78-7.78 2.81-2.81c.8-.78.8-2.07 0-2.86zM5.41 20L4 18.59l7.72-7.72 1.47 1.35L5.41 20z\"/>\n",
              "  </svg>\n",
              "      </button>\n",
              "      \n",
              "  <style>\n",
              "    .colab-df-container {\n",
              "      display:flex;\n",
              "      flex-wrap:wrap;\n",
              "      gap: 12px;\n",
              "    }\n",
              "\n",
              "    .colab-df-convert {\n",
              "      background-color: #E8F0FE;\n",
              "      border: none;\n",
              "      border-radius: 50%;\n",
              "      cursor: pointer;\n",
              "      display: none;\n",
              "      fill: #1967D2;\n",
              "      height: 32px;\n",
              "      padding: 0 0 0 0;\n",
              "      width: 32px;\n",
              "    }\n",
              "\n",
              "    .colab-df-convert:hover {\n",
              "      background-color: #E2EBFA;\n",
              "      box-shadow: 0px 1px 2px rgba(60, 64, 67, 0.3), 0px 1px 3px 1px rgba(60, 64, 67, 0.15);\n",
              "      fill: #174EA6;\n",
              "    }\n",
              "\n",
              "    [theme=dark] .colab-df-convert {\n",
              "      background-color: #3B4455;\n",
              "      fill: #D2E3FC;\n",
              "    }\n",
              "\n",
              "    [theme=dark] .colab-df-convert:hover {\n",
              "      background-color: #434B5C;\n",
              "      box-shadow: 0px 1px 3px 1px rgba(0, 0, 0, 0.15);\n",
              "      filter: drop-shadow(0px 1px 2px rgba(0, 0, 0, 0.3));\n",
              "      fill: #FFFFFF;\n",
              "    }\n",
              "  </style>\n",
              "\n",
              "      <script>\n",
              "        const buttonEl =\n",
              "          document.querySelector('#df-02d86261-c6a9-4c8c-aa4f-3348075e90a6 button.colab-df-convert');\n",
              "        buttonEl.style.display =\n",
              "          google.colab.kernel.accessAllowed ? 'block' : 'none';\n",
              "\n",
              "        async function convertToInteractive(key) {\n",
              "          const element = document.querySelector('#df-02d86261-c6a9-4c8c-aa4f-3348075e90a6');\n",
              "          const dataTable =\n",
              "            await google.colab.kernel.invokeFunction('convertToInteractive',\n",
              "                                                     [key], {});\n",
              "          if (!dataTable) return;\n",
              "\n",
              "          const docLinkHtml = 'Like what you see? Visit the ' +\n",
              "            '<a target=\"_blank\" href=https://colab.research.google.com/notebooks/data_table.ipynb>data table notebook</a>'\n",
              "            + ' to learn more about interactive tables.';\n",
              "          element.innerHTML = '';\n",
              "          dataTable['output_type'] = 'display_data';\n",
              "          await google.colab.output.renderOutput(dataTable, element);\n",
              "          const docLink = document.createElement('div');\n",
              "          docLink.innerHTML = docLinkHtml;\n",
              "          element.appendChild(docLink);\n",
              "        }\n",
              "      </script>\n",
              "    </div>\n",
              "  </div>\n",
              "  "
            ]
          },
          "metadata": {},
          "execution_count": 9
        }
      ],
      "source": [
        "stores.head()"
      ]
    },
    {
      "cell_type": "code",
      "execution_count": 10,
      "metadata": {
        "colab": {
          "base_uri": "https://localhost:8080/"
        },
        "id": "_Z_M2UuaBE_P",
        "outputId": "45636aef-0e66-42c7-a19a-1b70b814d8ac"
      },
      "outputs": [
        {
          "output_type": "stream",
          "name": "stdout",
          "text": [
            "<class 'pandas.core.frame.DataFrame'>\n",
            "RangeIndex: 54 entries, 0 to 53\n",
            "Data columns (total 4 columns):\n",
            " #   Column    Non-Null Count  Dtype \n",
            "---  ------    --------------  ----- \n",
            " 0   store_id  54 non-null     object\n",
            " 1   city      54 non-null     int64 \n",
            " 2   type      54 non-null     int64 \n",
            " 3   cluster   54 non-null     int64 \n",
            "dtypes: int64(3), object(1)\n",
            "memory usage: 1.8+ KB\n"
          ]
        }
      ],
      "source": [
        "stores.info()"
      ]
    },
    {
      "cell_type": "markdown",
      "metadata": {
        "id": "ZJ_K9MGkLqCH"
      },
      "source": [
        "city, type & cluster are categoric variables, so they are not supposed to be in number datatype(int64)\n",
        "\n",
        "furthermore, cities do not have an ordinal relationship with one another. Ordinal variables have a natural order. Just like \"good-better-best\" or \"positive-neutral-negative\". Nominal variables don't.\n",
        "\n",
        "We don't want our machine learning models to think that one city-0 comes before city-1, which is before city-3.\n",
        "\n",
        "Therefore, we'll have to change the datatypes to obect or string to make it more descriptive, for example: 'London', 'Tokyo', 'Rome' and so on.\n",
        "\n",
        "Same goes for type and cluster."
      ]
    },
    {
      "cell_type": "code",
      "execution_count": 11,
      "metadata": {
        "colab": {
          "base_uri": "https://localhost:8080/"
        },
        "id": "YAL7k5ynBny8",
        "outputId": "e601c2bd-8b9c-4a83-dcde-d09a85dbe137"
      },
      "outputs": [
        {
          "output_type": "execute_result",
          "data": {
            "text/plain": [
              "array([ 365,  366,  367, ..., 1682, 1683, 1684])"
            ]
          },
          "metadata": {},
          "execution_count": 11
        }
      ],
      "source": [
        "dates['date'].unique()"
      ]
    },
    {
      "cell_type": "markdown",
      "metadata": {
        "id": "G77f6HeABrDe"
      },
      "source": [
        "This dataset contains dates and the features that have already been extracted from it"
      ]
    },
    {
      "cell_type": "code",
      "execution_count": 12,
      "metadata": {
        "colab": {
          "base_uri": "https://localhost:8080/"
        },
        "id": "ZR8aIxjxB26C",
        "outputId": "002e938c-57a4-4c89-829b-fd2b76bcbabc"
      },
      "outputs": [
        {
          "output_type": "stream",
          "name": "stdout",
          "text": [
            "<class 'pandas.core.frame.DataFrame'>\n",
            "RangeIndex: 1320 entries, 0 to 1319\n",
            "Data columns (total 15 columns):\n",
            " #   Column            Non-Null Count  Dtype\n",
            "---  ------            --------------  -----\n",
            " 0   date              1320 non-null   int64\n",
            " 1   year              1320 non-null   int64\n",
            " 2   month             1320 non-null   int64\n",
            " 3   dayofmonth        1320 non-null   int64\n",
            " 4   dayofweek         1320 non-null   int64\n",
            " 5   dayofyear         1320 non-null   int64\n",
            " 6   weekofyear        1320 non-null   int64\n",
            " 7   quarter           1320 non-null   int64\n",
            " 8   is_month_start    1320 non-null   bool \n",
            " 9   is_month_end      1320 non-null   bool \n",
            " 10  is_quarter_start  1320 non-null   bool \n",
            " 11  is_quarter_end    1320 non-null   bool \n",
            " 12  is_year_start     1320 non-null   bool \n",
            " 13  is_year_end       1320 non-null   bool \n",
            " 14  year_weekofyear   1320 non-null   int64\n",
            "dtypes: bool(6), int64(9)\n",
            "memory usage: 100.7 KB\n"
          ]
        }
      ],
      "source": [
        "dates.info()"
      ]
    },
    {
      "cell_type": "markdown",
      "metadata": {
        "id": "MWWEGqOHPmeh"
      },
      "source": [
        "in this case, these categories have an ordinal relationship with one another, meaning one date naturally comes before the other,\n",
        "\n",
        "so we can leave them as they are."
      ]
    },
    {
      "cell_type": "code",
      "execution_count": 13,
      "metadata": {
        "colab": {
          "base_uri": "https://localhost:8080/"
        },
        "id": "Db9Zn7fVQUI7",
        "outputId": "c00d9fa6-aa11-4587-8b4e-240975570a32"
      },
      "outputs": [
        {
          "output_type": "execute_result",
          "data": {
            "text/plain": [
              "array([  1,   2,   3,   4,   5,   6,   7,   8,   9,  10,  11,  12,  13,\n",
              "        14,  15,  16,  17,  18,  19,  20,  21,  22,  23,  24,  25,  26,\n",
              "        27,  28,  29,  30,  31,  32,  33,  34,  35,  36,  37,  38,  39,\n",
              "        40,  41,  42,  43,  44,  45,  46,  47,  48,  49,  50,  51,  52,\n",
              "        53,  54,  55,  56,  57,  58,  59,  60,  61,  62,  63,  64,  65,\n",
              "        66,  67,  68,  69,  70,  71,  72,  73,  74,  75,  76,  77,  78,\n",
              "        79,  80,  81,  82,  83,  84,  85,  86,  87,  88,  89,  90,  91,\n",
              "        92,  93,  94,  95,  96,  97,  98,  99, 100, 101, 102, 103, 104,\n",
              "       105, 106, 107, 108, 109, 110, 111, 112, 113, 114, 115, 116, 117,\n",
              "       118, 119, 120, 121, 122, 123, 124, 125, 126, 127, 128, 129, 130,\n",
              "       131, 132, 133, 134, 135, 136, 137, 138, 139, 140, 141, 142, 143,\n",
              "       144, 145, 146, 147, 148, 149, 150, 151, 152, 153, 154, 155, 156,\n",
              "       157, 158, 159, 160, 161, 162, 163, 164, 165, 166, 167, 168, 169,\n",
              "       170, 171, 172, 173, 174, 175, 176, 177, 178, 179, 180, 181, 182,\n",
              "       183, 184, 185, 186, 187, 188, 189, 190, 191, 192, 193, 194, 195,\n",
              "       196, 197, 198, 199, 200, 201, 202, 203, 204, 205, 206, 207, 208,\n",
              "       209, 210, 211, 212, 213, 214, 215, 216, 217, 218, 219, 220, 221,\n",
              "       222, 223, 224, 225, 226, 227, 228, 229, 230, 231, 232, 233, 234,\n",
              "       235, 236, 237, 238, 239, 240, 241, 242, 243, 244, 245, 246, 247,\n",
              "       248, 249, 250, 251, 252, 253, 254, 255, 256, 257, 258, 259, 260,\n",
              "       261, 262, 263, 264, 265, 266, 267, 268, 269, 270, 271, 272, 273,\n",
              "       274, 275, 276, 277, 278, 279, 280, 281, 282, 283, 284, 285, 286,\n",
              "       287, 288, 289, 290, 291, 292, 293, 294, 295, 296, 297, 298, 299,\n",
              "       300, 301, 302, 303, 304, 305, 306, 307, 308, 309, 310, 311, 312,\n",
              "       313, 314, 315, 316, 317, 318, 319, 320, 321, 322, 323, 324, 325,\n",
              "       326, 327, 328, 329, 330, 331, 332, 333, 334, 335, 336, 337, 338,\n",
              "       339, 340, 341, 342, 343, 344, 345, 346, 347, 348, 349, 350, 351,\n",
              "       352, 353, 354, 355, 356, 357, 358, 360, 361, 362, 363, 364, 365,\n",
              "       359, 366])"
            ]
          },
          "metadata": {},
          "execution_count": 13
        }
      ],
      "source": [
        "dates.dayofyear.unique()"
      ]
    },
    {
      "cell_type": "markdown",
      "metadata": {
        "id": "pOXxqaXsRn5M"
      },
      "source": [
        "we have 365 days in a year, 366 days is for a loop year. This is a problem for us. Let me explain why.\n",
        "\n",
        "**Problem**:\n",
        "When you have a loop year, then new year's eve would fall on day 366\n",
        "\n",
        "otherwise, it would fall on day 365. So everyday might not fall on the appropriate number for each year.\n",
        "\n",
        "**Solution**:\n",
        "we will later convert two new columns called \"sin(dayofyear)\" & \"cos(dayofyear)\". These new columns will help our machine learning models to understand the cyclic nature of a year.\n",
        "\n",
        "Cyclic means that a year usually starts and ends in a similar way."
      ]
    },
    {
      "cell_type": "code",
      "execution_count": 14,
      "metadata": {
        "colab": {
          "base_uri": "https://localhost:8080/",
          "height": 206
        },
        "id": "UoPNhzliCQmv",
        "outputId": "8d091fa6-f780-48cf-ec51-a43ddbbaea06"
      },
      "outputs": [
        {
          "output_type": "execute_result",
          "data": {
            "text/plain": [
              "   date  type\n",
              "0     1     0\n",
              "1     5     4\n",
              "2    12     4\n",
              "3    42     0\n",
              "4    43     0"
            ],
            "text/html": [
              "\n",
              "  <div id=\"df-e4d65297-7c03-4653-939c-4b0de82afbfd\">\n",
              "    <div class=\"colab-df-container\">\n",
              "      <div>\n",
              "<style scoped>\n",
              "    .dataframe tbody tr th:only-of-type {\n",
              "        vertical-align: middle;\n",
              "    }\n",
              "\n",
              "    .dataframe tbody tr th {\n",
              "        vertical-align: top;\n",
              "    }\n",
              "\n",
              "    .dataframe thead th {\n",
              "        text-align: right;\n",
              "    }\n",
              "</style>\n",
              "<table border=\"1\" class=\"dataframe\">\n",
              "  <thead>\n",
              "    <tr style=\"text-align: right;\">\n",
              "      <th></th>\n",
              "      <th>date</th>\n",
              "      <th>type</th>\n",
              "    </tr>\n",
              "  </thead>\n",
              "  <tbody>\n",
              "    <tr>\n",
              "      <th>0</th>\n",
              "      <td>1</td>\n",
              "      <td>0</td>\n",
              "    </tr>\n",
              "    <tr>\n",
              "      <th>1</th>\n",
              "      <td>5</td>\n",
              "      <td>4</td>\n",
              "    </tr>\n",
              "    <tr>\n",
              "      <th>2</th>\n",
              "      <td>12</td>\n",
              "      <td>4</td>\n",
              "    </tr>\n",
              "    <tr>\n",
              "      <th>3</th>\n",
              "      <td>42</td>\n",
              "      <td>0</td>\n",
              "    </tr>\n",
              "    <tr>\n",
              "      <th>4</th>\n",
              "      <td>43</td>\n",
              "      <td>0</td>\n",
              "    </tr>\n",
              "  </tbody>\n",
              "</table>\n",
              "</div>\n",
              "      <button class=\"colab-df-convert\" onclick=\"convertToInteractive('df-e4d65297-7c03-4653-939c-4b0de82afbfd')\"\n",
              "              title=\"Convert this dataframe to an interactive table.\"\n",
              "              style=\"display:none;\">\n",
              "        \n",
              "  <svg xmlns=\"http://www.w3.org/2000/svg\" height=\"24px\"viewBox=\"0 0 24 24\"\n",
              "       width=\"24px\">\n",
              "    <path d=\"M0 0h24v24H0V0z\" fill=\"none\"/>\n",
              "    <path d=\"M18.56 5.44l.94 2.06.94-2.06 2.06-.94-2.06-.94-.94-2.06-.94 2.06-2.06.94zm-11 1L8.5 8.5l.94-2.06 2.06-.94-2.06-.94L8.5 2.5l-.94 2.06-2.06.94zm10 10l.94 2.06.94-2.06 2.06-.94-2.06-.94-.94-2.06-.94 2.06-2.06.94z\"/><path d=\"M17.41 7.96l-1.37-1.37c-.4-.4-.92-.59-1.43-.59-.52 0-1.04.2-1.43.59L10.3 9.45l-7.72 7.72c-.78.78-.78 2.05 0 2.83L4 21.41c.39.39.9.59 1.41.59.51 0 1.02-.2 1.41-.59l7.78-7.78 2.81-2.81c.8-.78.8-2.07 0-2.86zM5.41 20L4 18.59l7.72-7.72 1.47 1.35L5.41 20z\"/>\n",
              "  </svg>\n",
              "      </button>\n",
              "      \n",
              "  <style>\n",
              "    .colab-df-container {\n",
              "      display:flex;\n",
              "      flex-wrap:wrap;\n",
              "      gap: 12px;\n",
              "    }\n",
              "\n",
              "    .colab-df-convert {\n",
              "      background-color: #E8F0FE;\n",
              "      border: none;\n",
              "      border-radius: 50%;\n",
              "      cursor: pointer;\n",
              "      display: none;\n",
              "      fill: #1967D2;\n",
              "      height: 32px;\n",
              "      padding: 0 0 0 0;\n",
              "      width: 32px;\n",
              "    }\n",
              "\n",
              "    .colab-df-convert:hover {\n",
              "      background-color: #E2EBFA;\n",
              "      box-shadow: 0px 1px 2px rgba(60, 64, 67, 0.3), 0px 1px 3px 1px rgba(60, 64, 67, 0.15);\n",
              "      fill: #174EA6;\n",
              "    }\n",
              "\n",
              "    [theme=dark] .colab-df-convert {\n",
              "      background-color: #3B4455;\n",
              "      fill: #D2E3FC;\n",
              "    }\n",
              "\n",
              "    [theme=dark] .colab-df-convert:hover {\n",
              "      background-color: #434B5C;\n",
              "      box-shadow: 0px 1px 3px 1px rgba(0, 0, 0, 0.15);\n",
              "      filter: drop-shadow(0px 1px 2px rgba(0, 0, 0, 0.3));\n",
              "      fill: #FFFFFF;\n",
              "    }\n",
              "  </style>\n",
              "\n",
              "      <script>\n",
              "        const buttonEl =\n",
              "          document.querySelector('#df-e4d65297-7c03-4653-939c-4b0de82afbfd button.colab-df-convert');\n",
              "        buttonEl.style.display =\n",
              "          google.colab.kernel.accessAllowed ? 'block' : 'none';\n",
              "\n",
              "        async function convertToInteractive(key) {\n",
              "          const element = document.querySelector('#df-e4d65297-7c03-4653-939c-4b0de82afbfd');\n",
              "          const dataTable =\n",
              "            await google.colab.kernel.invokeFunction('convertToInteractive',\n",
              "                                                     [key], {});\n",
              "          if (!dataTable) return;\n",
              "\n",
              "          const docLinkHtml = 'Like what you see? Visit the ' +\n",
              "            '<a target=\"_blank\" href=https://colab.research.google.com/notebooks/data_table.ipynb>data table notebook</a>'\n",
              "            + ' to learn more about interactive tables.';\n",
              "          element.innerHTML = '';\n",
              "          dataTable['output_type'] = 'display_data';\n",
              "          await google.colab.output.renderOutput(dataTable, element);\n",
              "          const docLink = document.createElement('div');\n",
              "          docLink.innerHTML = docLinkHtml;\n",
              "          element.appendChild(docLink);\n",
              "        }\n",
              "      </script>\n",
              "    </div>\n",
              "  </div>\n",
              "  "
            ]
          },
          "metadata": {},
          "execution_count": 14
        }
      ],
      "source": [
        "holidays.head()"
      ]
    },
    {
      "cell_type": "code",
      "execution_count": 15,
      "metadata": {
        "colab": {
          "base_uri": "https://localhost:8080/"
        },
        "id": "aWuH4aYBCX5s",
        "outputId": "3be624f4-6f01-492f-9333-09cfe67d4fa0"
      },
      "outputs": [
        {
          "output_type": "stream",
          "name": "stdout",
          "text": [
            "<class 'pandas.core.frame.DataFrame'>\n",
            "RangeIndex: 281 entries, 0 to 280\n",
            "Data columns (total 2 columns):\n",
            " #   Column  Non-Null Count  Dtype\n",
            "---  ------  --------------  -----\n",
            " 0   date    281 non-null    int64\n",
            " 1   type    281 non-null    int64\n",
            "dtypes: int64(2)\n",
            "memory usage: 4.5 KB\n"
          ]
        }
      ],
      "source": [
        "holidays.info()"
      ]
    },
    {
      "cell_type": "code",
      "execution_count": 16,
      "metadata": {
        "colab": {
          "base_uri": "https://localhost:8080/"
        },
        "id": "cPnRlmkEdYHz",
        "outputId": "dce9bdfc-7e6b-4b3e-f30b-1cc44bff4570"
      },
      "outputs": [
        {
          "output_type": "execute_result",
          "data": {
            "text/plain": [
              "array([0, 4, 2, 5, 1, 3])"
            ]
          },
          "metadata": {},
          "execution_count": 16
        }
      ],
      "source": [
        "holidays.type.unique()"
      ]
    },
    {
      "cell_type": "markdown",
      "metadata": {
        "id": "iv1aEjzVc3Th"
      },
      "source": [
        "The type column is a categoric variable, and each type of holiday does not have an ordinal relationship, since a holiday like new year is not higher or better than Christmas for example.\n",
        "\n",
        "so we'll later convert them to string type to make it more descriptive"
      ]
    },
    {
      "cell_type": "code",
      "execution_count": 17,
      "metadata": {
        "colab": {
          "base_uri": "https://localhost:8080/",
          "height": 300
        },
        "id": "Slj_ROrsD0V4",
        "outputId": "36e5a2ef-3933-4403-df9b-1d4e5e113547"
      },
      "outputs": [
        {
          "output_type": "execute_result",
          "data": {
            "text/plain": [
              "               date        target   onpromotion  nbr_of_transactions\n",
              "count  2.248884e+06  2.248884e+06  2.248884e+06         2.248884e+06\n",
              "mean   9.955000e+02  3.932649e+02  3.142002e+00         1.573591e+03\n",
              "std    3.643080e+02  1.174938e+03  1.343616e+01         1.027832e+03\n",
              "min    3.650000e+02  0.000000e+00  0.000000e+00         0.000000e+00\n",
              "25%    6.800000e+02  0.000000e+00  0.000000e+00         9.440000e+02\n",
              "50%    9.955000e+02  1.500000e+01  0.000000e+00         1.338000e+03\n",
              "75%    1.311000e+03  2.230000e+02  1.000000e+00         1.979000e+03\n",
              "max    1.626000e+03  1.247170e+05  7.410000e+02         8.359000e+03"
            ],
            "text/html": [
              "\n",
              "  <div id=\"df-01760e9e-04c3-4b8d-b2e3-ace5c37e1dd7\">\n",
              "    <div class=\"colab-df-container\">\n",
              "      <div>\n",
              "<style scoped>\n",
              "    .dataframe tbody tr th:only-of-type {\n",
              "        vertical-align: middle;\n",
              "    }\n",
              "\n",
              "    .dataframe tbody tr th {\n",
              "        vertical-align: top;\n",
              "    }\n",
              "\n",
              "    .dataframe thead th {\n",
              "        text-align: right;\n",
              "    }\n",
              "</style>\n",
              "<table border=\"1\" class=\"dataframe\">\n",
              "  <thead>\n",
              "    <tr style=\"text-align: right;\">\n",
              "      <th></th>\n",
              "      <th>date</th>\n",
              "      <th>target</th>\n",
              "      <th>onpromotion</th>\n",
              "      <th>nbr_of_transactions</th>\n",
              "    </tr>\n",
              "  </thead>\n",
              "  <tbody>\n",
              "    <tr>\n",
              "      <th>count</th>\n",
              "      <td>2.248884e+06</td>\n",
              "      <td>2.248884e+06</td>\n",
              "      <td>2.248884e+06</td>\n",
              "      <td>2.248884e+06</td>\n",
              "    </tr>\n",
              "    <tr>\n",
              "      <th>mean</th>\n",
              "      <td>9.955000e+02</td>\n",
              "      <td>3.932649e+02</td>\n",
              "      <td>3.142002e+00</td>\n",
              "      <td>1.573591e+03</td>\n",
              "    </tr>\n",
              "    <tr>\n",
              "      <th>std</th>\n",
              "      <td>3.643080e+02</td>\n",
              "      <td>1.174938e+03</td>\n",
              "      <td>1.343616e+01</td>\n",
              "      <td>1.027832e+03</td>\n",
              "    </tr>\n",
              "    <tr>\n",
              "      <th>min</th>\n",
              "      <td>3.650000e+02</td>\n",
              "      <td>0.000000e+00</td>\n",
              "      <td>0.000000e+00</td>\n",
              "      <td>0.000000e+00</td>\n",
              "    </tr>\n",
              "    <tr>\n",
              "      <th>25%</th>\n",
              "      <td>6.800000e+02</td>\n",
              "      <td>0.000000e+00</td>\n",
              "      <td>0.000000e+00</td>\n",
              "      <td>9.440000e+02</td>\n",
              "    </tr>\n",
              "    <tr>\n",
              "      <th>50%</th>\n",
              "      <td>9.955000e+02</td>\n",
              "      <td>1.500000e+01</td>\n",
              "      <td>0.000000e+00</td>\n",
              "      <td>1.338000e+03</td>\n",
              "    </tr>\n",
              "    <tr>\n",
              "      <th>75%</th>\n",
              "      <td>1.311000e+03</td>\n",
              "      <td>2.230000e+02</td>\n",
              "      <td>1.000000e+00</td>\n",
              "      <td>1.979000e+03</td>\n",
              "    </tr>\n",
              "    <tr>\n",
              "      <th>max</th>\n",
              "      <td>1.626000e+03</td>\n",
              "      <td>1.247170e+05</td>\n",
              "      <td>7.410000e+02</td>\n",
              "      <td>8.359000e+03</td>\n",
              "    </tr>\n",
              "  </tbody>\n",
              "</table>\n",
              "</div>\n",
              "      <button class=\"colab-df-convert\" onclick=\"convertToInteractive('df-01760e9e-04c3-4b8d-b2e3-ace5c37e1dd7')\"\n",
              "              title=\"Convert this dataframe to an interactive table.\"\n",
              "              style=\"display:none;\">\n",
              "        \n",
              "  <svg xmlns=\"http://www.w3.org/2000/svg\" height=\"24px\"viewBox=\"0 0 24 24\"\n",
              "       width=\"24px\">\n",
              "    <path d=\"M0 0h24v24H0V0z\" fill=\"none\"/>\n",
              "    <path d=\"M18.56 5.44l.94 2.06.94-2.06 2.06-.94-2.06-.94-.94-2.06-.94 2.06-2.06.94zm-11 1L8.5 8.5l.94-2.06 2.06-.94-2.06-.94L8.5 2.5l-.94 2.06-2.06.94zm10 10l.94 2.06.94-2.06 2.06-.94-2.06-.94-.94-2.06-.94 2.06-2.06.94z\"/><path d=\"M17.41 7.96l-1.37-1.37c-.4-.4-.92-.59-1.43-.59-.52 0-1.04.2-1.43.59L10.3 9.45l-7.72 7.72c-.78.78-.78 2.05 0 2.83L4 21.41c.39.39.9.59 1.41.59.51 0 1.02-.2 1.41-.59l7.78-7.78 2.81-2.81c.8-.78.8-2.07 0-2.86zM5.41 20L4 18.59l7.72-7.72 1.47 1.35L5.41 20z\"/>\n",
              "  </svg>\n",
              "      </button>\n",
              "      \n",
              "  <style>\n",
              "    .colab-df-container {\n",
              "      display:flex;\n",
              "      flex-wrap:wrap;\n",
              "      gap: 12px;\n",
              "    }\n",
              "\n",
              "    .colab-df-convert {\n",
              "      background-color: #E8F0FE;\n",
              "      border: none;\n",
              "      border-radius: 50%;\n",
              "      cursor: pointer;\n",
              "      display: none;\n",
              "      fill: #1967D2;\n",
              "      height: 32px;\n",
              "      padding: 0 0 0 0;\n",
              "      width: 32px;\n",
              "    }\n",
              "\n",
              "    .colab-df-convert:hover {\n",
              "      background-color: #E2EBFA;\n",
              "      box-shadow: 0px 1px 2px rgba(60, 64, 67, 0.3), 0px 1px 3px 1px rgba(60, 64, 67, 0.15);\n",
              "      fill: #174EA6;\n",
              "    }\n",
              "\n",
              "    [theme=dark] .colab-df-convert {\n",
              "      background-color: #3B4455;\n",
              "      fill: #D2E3FC;\n",
              "    }\n",
              "\n",
              "    [theme=dark] .colab-df-convert:hover {\n",
              "      background-color: #434B5C;\n",
              "      box-shadow: 0px 1px 3px 1px rgba(0, 0, 0, 0.15);\n",
              "      filter: drop-shadow(0px 1px 2px rgba(0, 0, 0, 0.3));\n",
              "      fill: #FFFFFF;\n",
              "    }\n",
              "  </style>\n",
              "\n",
              "      <script>\n",
              "        const buttonEl =\n",
              "          document.querySelector('#df-01760e9e-04c3-4b8d-b2e3-ace5c37e1dd7 button.colab-df-convert');\n",
              "        buttonEl.style.display =\n",
              "          google.colab.kernel.accessAllowed ? 'block' : 'none';\n",
              "\n",
              "        async function convertToInteractive(key) {\n",
              "          const element = document.querySelector('#df-01760e9e-04c3-4b8d-b2e3-ace5c37e1dd7');\n",
              "          const dataTable =\n",
              "            await google.colab.kernel.invokeFunction('convertToInteractive',\n",
              "                                                     [key], {});\n",
              "          if (!dataTable) return;\n",
              "\n",
              "          const docLinkHtml = 'Like what you see? Visit the ' +\n",
              "            '<a target=\"_blank\" href=https://colab.research.google.com/notebooks/data_table.ipynb>data table notebook</a>'\n",
              "            + ' to learn more about interactive tables.';\n",
              "          element.innerHTML = '';\n",
              "          dataTable['output_type'] = 'display_data';\n",
              "          await google.colab.output.renderOutput(dataTable, element);\n",
              "          const docLink = document.createElement('div');\n",
              "          docLink.innerHTML = docLinkHtml;\n",
              "          element.appendChild(docLink);\n",
              "        }\n",
              "      </script>\n",
              "    </div>\n",
              "  </div>\n",
              "  "
            ]
          },
          "metadata": {},
          "execution_count": 17
        }
      ],
      "source": [
        "train.describe()"
      ]
    },
    {
      "cell_type": "markdown",
      "metadata": {
        "id": "-8ol2MBtEDkc"
      },
      "source": [
        "train dates range from **365** to **1626**"
      ]
    },
    {
      "cell_type": "code",
      "execution_count": 18,
      "metadata": {
        "colab": {
          "base_uri": "https://localhost:8080/",
          "height": 300
        },
        "id": "gefkrStbD9sK",
        "outputId": "c32f56aa-a536-46fb-bce0-7cf52092d6a1"
      },
      "outputs": [
        {
          "output_type": "execute_result",
          "data": {
            "text/plain": [
              "               date   onpromotion\n",
              "count  99792.000000  99792.000000\n",
              "mean    1654.500000      7.274892\n",
              "std       16.163311     18.504041\n",
              "min     1627.000000      0.000000\n",
              "25%     1640.750000      0.000000\n",
              "50%     1654.500000      0.000000\n",
              "75%     1668.250000      6.000000\n",
              "max     1682.000000    591.000000"
            ],
            "text/html": [
              "\n",
              "  <div id=\"df-49f4858e-2398-4981-a1f1-24fd6804630f\">\n",
              "    <div class=\"colab-df-container\">\n",
              "      <div>\n",
              "<style scoped>\n",
              "    .dataframe tbody tr th:only-of-type {\n",
              "        vertical-align: middle;\n",
              "    }\n",
              "\n",
              "    .dataframe tbody tr th {\n",
              "        vertical-align: top;\n",
              "    }\n",
              "\n",
              "    .dataframe thead th {\n",
              "        text-align: right;\n",
              "    }\n",
              "</style>\n",
              "<table border=\"1\" class=\"dataframe\">\n",
              "  <thead>\n",
              "    <tr style=\"text-align: right;\">\n",
              "      <th></th>\n",
              "      <th>date</th>\n",
              "      <th>onpromotion</th>\n",
              "    </tr>\n",
              "  </thead>\n",
              "  <tbody>\n",
              "    <tr>\n",
              "      <th>count</th>\n",
              "      <td>99792.000000</td>\n",
              "      <td>99792.000000</td>\n",
              "    </tr>\n",
              "    <tr>\n",
              "      <th>mean</th>\n",
              "      <td>1654.500000</td>\n",
              "      <td>7.274892</td>\n",
              "    </tr>\n",
              "    <tr>\n",
              "      <th>std</th>\n",
              "      <td>16.163311</td>\n",
              "      <td>18.504041</td>\n",
              "    </tr>\n",
              "    <tr>\n",
              "      <th>min</th>\n",
              "      <td>1627.000000</td>\n",
              "      <td>0.000000</td>\n",
              "    </tr>\n",
              "    <tr>\n",
              "      <th>25%</th>\n",
              "      <td>1640.750000</td>\n",
              "      <td>0.000000</td>\n",
              "    </tr>\n",
              "    <tr>\n",
              "      <th>50%</th>\n",
              "      <td>1654.500000</td>\n",
              "      <td>0.000000</td>\n",
              "    </tr>\n",
              "    <tr>\n",
              "      <th>75%</th>\n",
              "      <td>1668.250000</td>\n",
              "      <td>6.000000</td>\n",
              "    </tr>\n",
              "    <tr>\n",
              "      <th>max</th>\n",
              "      <td>1682.000000</td>\n",
              "      <td>591.000000</td>\n",
              "    </tr>\n",
              "  </tbody>\n",
              "</table>\n",
              "</div>\n",
              "      <button class=\"colab-df-convert\" onclick=\"convertToInteractive('df-49f4858e-2398-4981-a1f1-24fd6804630f')\"\n",
              "              title=\"Convert this dataframe to an interactive table.\"\n",
              "              style=\"display:none;\">\n",
              "        \n",
              "  <svg xmlns=\"http://www.w3.org/2000/svg\" height=\"24px\"viewBox=\"0 0 24 24\"\n",
              "       width=\"24px\">\n",
              "    <path d=\"M0 0h24v24H0V0z\" fill=\"none\"/>\n",
              "    <path d=\"M18.56 5.44l.94 2.06.94-2.06 2.06-.94-2.06-.94-.94-2.06-.94 2.06-2.06.94zm-11 1L8.5 8.5l.94-2.06 2.06-.94-2.06-.94L8.5 2.5l-.94 2.06-2.06.94zm10 10l.94 2.06.94-2.06 2.06-.94-2.06-.94-.94-2.06-.94 2.06-2.06.94z\"/><path d=\"M17.41 7.96l-1.37-1.37c-.4-.4-.92-.59-1.43-.59-.52 0-1.04.2-1.43.59L10.3 9.45l-7.72 7.72c-.78.78-.78 2.05 0 2.83L4 21.41c.39.39.9.59 1.41.59.51 0 1.02-.2 1.41-.59l7.78-7.78 2.81-2.81c.8-.78.8-2.07 0-2.86zM5.41 20L4 18.59l7.72-7.72 1.47 1.35L5.41 20z\"/>\n",
              "  </svg>\n",
              "      </button>\n",
              "      \n",
              "  <style>\n",
              "    .colab-df-container {\n",
              "      display:flex;\n",
              "      flex-wrap:wrap;\n",
              "      gap: 12px;\n",
              "    }\n",
              "\n",
              "    .colab-df-convert {\n",
              "      background-color: #E8F0FE;\n",
              "      border: none;\n",
              "      border-radius: 50%;\n",
              "      cursor: pointer;\n",
              "      display: none;\n",
              "      fill: #1967D2;\n",
              "      height: 32px;\n",
              "      padding: 0 0 0 0;\n",
              "      width: 32px;\n",
              "    }\n",
              "\n",
              "    .colab-df-convert:hover {\n",
              "      background-color: #E2EBFA;\n",
              "      box-shadow: 0px 1px 2px rgba(60, 64, 67, 0.3), 0px 1px 3px 1px rgba(60, 64, 67, 0.15);\n",
              "      fill: #174EA6;\n",
              "    }\n",
              "\n",
              "    [theme=dark] .colab-df-convert {\n",
              "      background-color: #3B4455;\n",
              "      fill: #D2E3FC;\n",
              "    }\n",
              "\n",
              "    [theme=dark] .colab-df-convert:hover {\n",
              "      background-color: #434B5C;\n",
              "      box-shadow: 0px 1px 3px 1px rgba(0, 0, 0, 0.15);\n",
              "      filter: drop-shadow(0px 1px 2px rgba(0, 0, 0, 0.3));\n",
              "      fill: #FFFFFF;\n",
              "    }\n",
              "  </style>\n",
              "\n",
              "      <script>\n",
              "        const buttonEl =\n",
              "          document.querySelector('#df-49f4858e-2398-4981-a1f1-24fd6804630f button.colab-df-convert');\n",
              "        buttonEl.style.display =\n",
              "          google.colab.kernel.accessAllowed ? 'block' : 'none';\n",
              "\n",
              "        async function convertToInteractive(key) {\n",
              "          const element = document.querySelector('#df-49f4858e-2398-4981-a1f1-24fd6804630f');\n",
              "          const dataTable =\n",
              "            await google.colab.kernel.invokeFunction('convertToInteractive',\n",
              "                                                     [key], {});\n",
              "          if (!dataTable) return;\n",
              "\n",
              "          const docLinkHtml = 'Like what you see? Visit the ' +\n",
              "            '<a target=\"_blank\" href=https://colab.research.google.com/notebooks/data_table.ipynb>data table notebook</a>'\n",
              "            + ' to learn more about interactive tables.';\n",
              "          element.innerHTML = '';\n",
              "          dataTable['output_type'] = 'display_data';\n",
              "          await google.colab.output.renderOutput(dataTable, element);\n",
              "          const docLink = document.createElement('div');\n",
              "          docLink.innerHTML = docLinkHtml;\n",
              "          element.appendChild(docLink);\n",
              "        }\n",
              "      </script>\n",
              "    </div>\n",
              "  </div>\n",
              "  "
            ]
          },
          "metadata": {},
          "execution_count": 18
        }
      ],
      "source": [
        "test.describe()"
      ]
    },
    {
      "cell_type": "markdown",
      "metadata": {
        "id": "3NOEaiGeFM5f"
      },
      "source": [
        "test dates range from **1627** to **1682**\n",
        "\n",
        "this is a continuation from train. This makes sense since we are to predict future transactions based on past data\n",
        "\n",
        "**note**: we will not be using transaction data to train our models, since transaction data was not provided for our test data."
      ]
    },
    {
      "cell_type": "code",
      "execution_count": 19,
      "metadata": {
        "colab": {
          "base_uri": "https://localhost:8080/"
        },
        "id": "Z1dIXNBJF2vX",
        "outputId": "ae7d8d82-a8e2-4030-cf82-65a0b5a383dc"
      },
      "outputs": [
        {
          "output_type": "execute_result",
          "data": {
            "text/plain": [
              "(              date         year        month   dayofmonth    dayofweek  \\\n",
              " count  1320.000000  1320.000000  1320.000000  1320.000000  1320.000000   \n",
              " mean   1024.500000     2.344697     6.124242    15.612121     2.996970   \n",
              " std     381.195488     1.059333     3.366835     8.798020     2.001135   \n",
              " min     365.000000     1.000000     1.000000     1.000000     0.000000   \n",
              " 25%     694.750000     1.000000     3.000000     8.000000     1.000000   \n",
              " 50%    1024.500000     2.000000     6.000000    15.500000     3.000000   \n",
              " 75%    1354.250000     3.000000     9.000000    23.000000     5.000000   \n",
              " max    1684.000000     4.000000    12.000000    31.000000     6.000000   \n",
              " \n",
              "          dayofyear   weekofyear      quarter  year_weekofyear  \n",
              " count  1320.000000  1320.000000  1320.000000      1320.000000  \n",
              " mean    170.871970    24.934848     2.384091       259.101515  \n",
              " std     102.870939    14.726066     1.094568       104.162039  \n",
              " min       1.000000     1.000000     1.000000       101.000000  \n",
              " 25%      83.000000    12.000000     1.000000       147.750000  \n",
              " 50%     165.500000    24.000000     2.000000       243.000000  \n",
              " 75%     255.000000    37.000000     3.000000       337.250000  \n",
              " max     366.000000    53.000000     4.000000       433.000000  ,)"
            ]
          },
          "metadata": {},
          "execution_count": 19
        }
      ],
      "source": [
        "dates.describe(),"
      ]
    },
    {
      "cell_type": "markdown",
      "metadata": {
        "id": "nJq6eM6nGE8f"
      },
      "source": [
        "dates are from **365** till **1684** which covers the train and test dates\n",
        "\n",
        "so, we'll be able to add the features from here to both the train and test data based on the date"
      ]
    },
    {
      "cell_type": "code",
      "execution_count": 20,
      "metadata": {
        "colab": {
          "base_uri": "https://localhost:8080/",
          "height": 300
        },
        "id": "8QPbCGdGGlIZ",
        "outputId": "21439aae-f62b-4769-d330-936e01ee34ea"
      },
      "outputs": [
        {
          "output_type": "execute_result",
          "data": {
            "text/plain": [
              "              date        type\n",
              "count   281.000000  281.000000\n",
              "mean    901.896797    1.402135\n",
              "std     461.359327    1.996031\n",
              "min       1.000000    0.000000\n",
              "25%     540.000000    0.000000\n",
              "50%     934.000000    0.000000\n",
              "75%    1237.000000    2.000000\n",
              "max    1684.000000    5.000000"
            ],
            "text/html": [
              "\n",
              "  <div id=\"df-9a626a3a-799b-4895-b51d-d7d2dc5e8175\">\n",
              "    <div class=\"colab-df-container\">\n",
              "      <div>\n",
              "<style scoped>\n",
              "    .dataframe tbody tr th:only-of-type {\n",
              "        vertical-align: middle;\n",
              "    }\n",
              "\n",
              "    .dataframe tbody tr th {\n",
              "        vertical-align: top;\n",
              "    }\n",
              "\n",
              "    .dataframe thead th {\n",
              "        text-align: right;\n",
              "    }\n",
              "</style>\n",
              "<table border=\"1\" class=\"dataframe\">\n",
              "  <thead>\n",
              "    <tr style=\"text-align: right;\">\n",
              "      <th></th>\n",
              "      <th>date</th>\n",
              "      <th>type</th>\n",
              "    </tr>\n",
              "  </thead>\n",
              "  <tbody>\n",
              "    <tr>\n",
              "      <th>count</th>\n",
              "      <td>281.000000</td>\n",
              "      <td>281.000000</td>\n",
              "    </tr>\n",
              "    <tr>\n",
              "      <th>mean</th>\n",
              "      <td>901.896797</td>\n",
              "      <td>1.402135</td>\n",
              "    </tr>\n",
              "    <tr>\n",
              "      <th>std</th>\n",
              "      <td>461.359327</td>\n",
              "      <td>1.996031</td>\n",
              "    </tr>\n",
              "    <tr>\n",
              "      <th>min</th>\n",
              "      <td>1.000000</td>\n",
              "      <td>0.000000</td>\n",
              "    </tr>\n",
              "    <tr>\n",
              "      <th>25%</th>\n",
              "      <td>540.000000</td>\n",
              "      <td>0.000000</td>\n",
              "    </tr>\n",
              "    <tr>\n",
              "      <th>50%</th>\n",
              "      <td>934.000000</td>\n",
              "      <td>0.000000</td>\n",
              "    </tr>\n",
              "    <tr>\n",
              "      <th>75%</th>\n",
              "      <td>1237.000000</td>\n",
              "      <td>2.000000</td>\n",
              "    </tr>\n",
              "    <tr>\n",
              "      <th>max</th>\n",
              "      <td>1684.000000</td>\n",
              "      <td>5.000000</td>\n",
              "    </tr>\n",
              "  </tbody>\n",
              "</table>\n",
              "</div>\n",
              "      <button class=\"colab-df-convert\" onclick=\"convertToInteractive('df-9a626a3a-799b-4895-b51d-d7d2dc5e8175')\"\n",
              "              title=\"Convert this dataframe to an interactive table.\"\n",
              "              style=\"display:none;\">\n",
              "        \n",
              "  <svg xmlns=\"http://www.w3.org/2000/svg\" height=\"24px\"viewBox=\"0 0 24 24\"\n",
              "       width=\"24px\">\n",
              "    <path d=\"M0 0h24v24H0V0z\" fill=\"none\"/>\n",
              "    <path d=\"M18.56 5.44l.94 2.06.94-2.06 2.06-.94-2.06-.94-.94-2.06-.94 2.06-2.06.94zm-11 1L8.5 8.5l.94-2.06 2.06-.94-2.06-.94L8.5 2.5l-.94 2.06-2.06.94zm10 10l.94 2.06.94-2.06 2.06-.94-2.06-.94-.94-2.06-.94 2.06-2.06.94z\"/><path d=\"M17.41 7.96l-1.37-1.37c-.4-.4-.92-.59-1.43-.59-.52 0-1.04.2-1.43.59L10.3 9.45l-7.72 7.72c-.78.78-.78 2.05 0 2.83L4 21.41c.39.39.9.59 1.41.59.51 0 1.02-.2 1.41-.59l7.78-7.78 2.81-2.81c.8-.78.8-2.07 0-2.86zM5.41 20L4 18.59l7.72-7.72 1.47 1.35L5.41 20z\"/>\n",
              "  </svg>\n",
              "      </button>\n",
              "      \n",
              "  <style>\n",
              "    .colab-df-container {\n",
              "      display:flex;\n",
              "      flex-wrap:wrap;\n",
              "      gap: 12px;\n",
              "    }\n",
              "\n",
              "    .colab-df-convert {\n",
              "      background-color: #E8F0FE;\n",
              "      border: none;\n",
              "      border-radius: 50%;\n",
              "      cursor: pointer;\n",
              "      display: none;\n",
              "      fill: #1967D2;\n",
              "      height: 32px;\n",
              "      padding: 0 0 0 0;\n",
              "      width: 32px;\n",
              "    }\n",
              "\n",
              "    .colab-df-convert:hover {\n",
              "      background-color: #E2EBFA;\n",
              "      box-shadow: 0px 1px 2px rgba(60, 64, 67, 0.3), 0px 1px 3px 1px rgba(60, 64, 67, 0.15);\n",
              "      fill: #174EA6;\n",
              "    }\n",
              "\n",
              "    [theme=dark] .colab-df-convert {\n",
              "      background-color: #3B4455;\n",
              "      fill: #D2E3FC;\n",
              "    }\n",
              "\n",
              "    [theme=dark] .colab-df-convert:hover {\n",
              "      background-color: #434B5C;\n",
              "      box-shadow: 0px 1px 3px 1px rgba(0, 0, 0, 0.15);\n",
              "      filter: drop-shadow(0px 1px 2px rgba(0, 0, 0, 0.3));\n",
              "      fill: #FFFFFF;\n",
              "    }\n",
              "  </style>\n",
              "\n",
              "      <script>\n",
              "        const buttonEl =\n",
              "          document.querySelector('#df-9a626a3a-799b-4895-b51d-d7d2dc5e8175 button.colab-df-convert');\n",
              "        buttonEl.style.display =\n",
              "          google.colab.kernel.accessAllowed ? 'block' : 'none';\n",
              "\n",
              "        async function convertToInteractive(key) {\n",
              "          const element = document.querySelector('#df-9a626a3a-799b-4895-b51d-d7d2dc5e8175');\n",
              "          const dataTable =\n",
              "            await google.colab.kernel.invokeFunction('convertToInteractive',\n",
              "                                                     [key], {});\n",
              "          if (!dataTable) return;\n",
              "\n",
              "          const docLinkHtml = 'Like what you see? Visit the ' +\n",
              "            '<a target=\"_blank\" href=https://colab.research.google.com/notebooks/data_table.ipynb>data table notebook</a>'\n",
              "            + ' to learn more about interactive tables.';\n",
              "          element.innerHTML = '';\n",
              "          dataTable['output_type'] = 'display_data';\n",
              "          await google.colab.output.renderOutput(dataTable, element);\n",
              "          const docLink = document.createElement('div');\n",
              "          docLink.innerHTML = docLinkHtml;\n",
              "          element.appendChild(docLink);\n",
              "        }\n",
              "      </script>\n",
              "    </div>\n",
              "  </div>\n",
              "  "
            ]
          },
          "metadata": {},
          "execution_count": 20
        }
      ],
      "source": [
        " holidays.describe()"
      ]
    },
    {
      "cell_type": "code",
      "execution_count": 21,
      "metadata": {
        "colab": {
          "base_uri": "https://localhost:8080/"
        },
        "id": "IjD4RclhaNLn",
        "outputId": "7d87692f-c4c2-4a4f-ecd3-9ec6b5efa36d"
      },
      "outputs": [
        {
          "output_type": "execute_result",
          "data": {
            "text/plain": [
              "251"
            ]
          },
          "metadata": {},
          "execution_count": 21
        }
      ],
      "source": [
        "# count the number of dates in the holidays dataset\n",
        "holidays.date.nunique()"
      ]
    },
    {
      "cell_type": "markdown",
      "metadata": {
        "id": "0vzexdncCW7J"
      },
      "source": [
        "notice that the dates in the holiday dataset are not complete\n",
        "\n",
        "so, we will later create a column for holidays in our train and test dataset based on the following logic:\n",
        "\n",
        "if a date is in the holidays table, then its a holiday, else that date is not a holiday"
      ]
    },
    {
      "cell_type": "markdown",
      "metadata": {
        "id": "0PSAf8TQ4Nz6"
      },
      "source": [
        "## Hypothesis\n",
        "**H0**: holidays have a big effect on sales, hence the sales data is seasonal.\n",
        "\n",
        "**H1**: holidays don't affect sales, hence sales data is stationary."
      ]
    },
    {
      "cell_type": "markdown",
      "metadata": {
        "id": "9m8lZeet4Nz6"
      },
      "source": [
        "## Questions\n",
        "\n",
        "1. Is the train data complete?\n",
        "2. Do we have seasonality in our sales?\n",
        "3. Are there outliers in our dataset?\n",
        "4. What is the difference between RMSLE, RMSE and MSE?"
      ]
    },
    {
      "cell_type": "markdown",
      "metadata": {
        "id": "hqYE8pYDyiT5"
      },
      "source": [
        "| Issues                                  | how we intend to solve them                                                                                                   |\n",
        "|----------------------------------------|------------------------------------------------------------------------------------------------------------|\n",
        "| 1. City, type & cluster in our stores dataset are mumerical | convert to string and make the categories more descriptive.                                            |\n",
        "| 2. The dayofyear column in our dates dataset ranges from 1 to 366. This will make some days fall on the wrong number | find the sine and cosine of this column to represent the cyclic nature of a year. | We can also include weather conditions, holidays and events to this.                        |\n"
      ]
    },
    {
      "cell_type": "markdown",
      "metadata": {
        "id": "KZnWtLbK4Nz7"
      },
      "source": [
        "# Data Cleaning\n",
        "\n",
        "Here, we will prepare our data for Univariate and Bivariate analysis."
      ]
    },
    {
      "cell_type": "markdown",
      "metadata": {
        "id": "VND4jVpS4Nz7"
      },
      "source": [
        "## Fixing our issues"
      ]
    },
    {
      "cell_type": "markdown",
      "metadata": {
        "id": "nCQignpE4a_O"
      },
      "source": [
        "1. City, type & cluster in our stores dataset are mumerical\n",
        "\n",
        "Solution: convert to string and make the categories more descriptive."
      ]
    },
    {
      "cell_type": "markdown",
      "metadata": {
        "id": "0qEJuYQI-q2Q"
      },
      "source": [
        "**city**"
      ]
    },
    {
      "cell_type": "code",
      "execution_count": 22,
      "metadata": {
        "colab": {
          "base_uri": "https://localhost:8080/"
        },
        "id": "ORS8-rnS4hSA",
        "outputId": "4f356ed5-7053-4414-92ea-e28623588d2f"
      },
      "outputs": [
        {
          "output_type": "execute_result",
          "data": {
            "text/plain": [
              "array([ 0,  1,  2,  3,  4,  5,  6,  7,  8,  9, 10, 11, 12, 13, 14, 15, 16,\n",
              "       17, 18, 19, 20, 21])"
            ]
          },
          "metadata": {},
          "execution_count": 22
        }
      ],
      "source": [
        "stores.city.unique()"
      ]
    },
    {
      "cell_type": "code",
      "execution_count": 23,
      "metadata": {
        "id": "NNBx10S-5XiM"
      },
      "outputs": [],
      "source": [
        "# using each city number as index,\n",
        "# convert each city number to the corresponding city from a list of us_cities\n",
        "stores.city = stores.city.apply(lambda x: 'city_'+ str(x))"
      ]
    },
    {
      "cell_type": "code",
      "execution_count": 24,
      "metadata": {
        "colab": {
          "base_uri": "https://localhost:8080/"
        },
        "id": "_K5CD29G-mip",
        "outputId": "d414cf33-97fd-48c3-d597-d8c6de6e4a97"
      },
      "outputs": [
        {
          "output_type": "execute_result",
          "data": {
            "text/plain": [
              "array(['city_0', 'city_1', 'city_2', 'city_3', 'city_4', 'city_5',\n",
              "       'city_6', 'city_7', 'city_8', 'city_9', 'city_10', 'city_11',\n",
              "       'city_12', 'city_13', 'city_14', 'city_15', 'city_16', 'city_17',\n",
              "       'city_18', 'city_19', 'city_20', 'city_21'], dtype=object)"
            ]
          },
          "metadata": {},
          "execution_count": 24
        }
      ],
      "source": [
        "stores.city.unique()"
      ]
    },
    {
      "cell_type": "markdown",
      "metadata": {
        "id": "0qIQ4Vcm-8yF"
      },
      "source": [
        "**type**"
      ]
    },
    {
      "cell_type": "code",
      "execution_count": 25,
      "metadata": {
        "colab": {
          "base_uri": "https://localhost:8080/"
        },
        "id": "mkHa2RMC--vR",
        "outputId": "91195ae8-8649-45e5-8d34-89515905cca8"
      },
      "outputs": [
        {
          "output_type": "execute_result",
          "data": {
            "text/plain": [
              "array([0, 1, 2, 3, 4])"
            ]
          },
          "metadata": {},
          "execution_count": 25
        }
      ],
      "source": [
        "stores.type.unique()"
      ]
    },
    {
      "cell_type": "code",
      "execution_count": 26,
      "metadata": {
        "id": "COckj6Bd_h0e"
      },
      "outputs": [],
      "source": [
        "# convert each store_type number to the corresponding store_type from a list of grocery_store_types\n",
        "stores.type = stores.type.apply(lambda x: 'store_'+ str(x))"
      ]
    },
    {
      "cell_type": "code",
      "execution_count": 27,
      "metadata": {
        "colab": {
          "base_uri": "https://localhost:8080/"
        },
        "id": "JDtCVODkAEkP",
        "outputId": "074dbc57-c29b-4de8-a092-fccd6cc82d87"
      },
      "outputs": [
        {
          "output_type": "execute_result",
          "data": {
            "text/plain": [
              "array(['store_0', 'store_1', 'store_2', 'store_3', 'store_4'],\n",
              "      dtype=object)"
            ]
          },
          "metadata": {},
          "execution_count": 27
        }
      ],
      "source": [
        "stores.type.unique()"
      ]
    },
    {
      "cell_type": "markdown",
      "metadata": {
        "id": "D5TqopxkAf1r"
      },
      "source": [
        "**cluster**"
      ]
    },
    {
      "cell_type": "code",
      "execution_count": 28,
      "metadata": {
        "colab": {
          "base_uri": "https://localhost:8080/"
        },
        "id": "9dH8INMmAiBC",
        "outputId": "7daf2fb5-e229-4268-9901-f454b745f93b"
      },
      "outputs": [
        {
          "output_type": "execute_result",
          "data": {
            "text/plain": [
              "array([ 0,  1,  2,  3,  4,  5,  6,  7,  8,  9, 10, 11, 12, 13, 14, 15, 16])"
            ]
          },
          "metadata": {},
          "execution_count": 28
        }
      ],
      "source": [
        "stores.cluster.unique()"
      ]
    },
    {
      "cell_type": "code",
      "execution_count": 29,
      "metadata": {
        "id": "1OM3bwR6BOyF"
      },
      "outputs": [],
      "source": [
        "# convert each cluster number to the corresponding cluster from a list of us_cities\n",
        "stores.cluster = stores.cluster.apply(lambda x: 'cluster_'+ str(x))"
      ]
    },
    {
      "cell_type": "code",
      "execution_count": 30,
      "metadata": {
        "colab": {
          "base_uri": "https://localhost:8080/"
        },
        "id": "kwik8MGXBuFp",
        "outputId": "bbc459f2-530a-48af-acc5-759f3e11299d"
      },
      "outputs": [
        {
          "output_type": "execute_result",
          "data": {
            "text/plain": [
              "array(['cluster_0', 'cluster_1', 'cluster_2', 'cluster_3', 'cluster_4',\n",
              "       'cluster_5', 'cluster_6', 'cluster_7', 'cluster_8', 'cluster_9',\n",
              "       'cluster_10', 'cluster_11', 'cluster_12', 'cluster_13',\n",
              "       'cluster_14', 'cluster_15', 'cluster_16'], dtype=object)"
            ]
          },
          "metadata": {},
          "execution_count": 30
        }
      ],
      "source": [
        "stores.cluster.unique()"
      ]
    },
    {
      "cell_type": "code",
      "execution_count": 31,
      "metadata": {
        "colab": {
          "base_uri": "https://localhost:8080/"
        },
        "id": "r5we9TFqwQel",
        "outputId": "e4b6cdec-2bc9-4def-d88d-da4e35896fa3"
      },
      "outputs": [
        {
          "output_type": "execute_result",
          "data": {
            "text/plain": [
              "array([0, 4, 2, 5, 1, 3])"
            ]
          },
          "metadata": {},
          "execution_count": 31
        }
      ],
      "source": [
        "holidays.type.unique()"
      ]
    },
    {
      "cell_type": "markdown",
      "metadata": {
        "id": "TSbfsjQKByfc"
      },
      "source": [
        "2. The dayofyear column in our dates dataset ranges from 1 to 366. This will make some days fall on the wrong number\n",
        "\n",
        "Solution: find the sine and cosine of this column to represent the cyclic nature of a year. We can also include weather conditions, holidays and events to this."
      ]
    },
    {
      "cell_type": "code",
      "execution_count": 32,
      "metadata": {
        "colab": {
          "base_uri": "https://localhost:8080/"
        },
        "id": "05Z73hvCC2FN",
        "outputId": "104b525e-72cf-4383-dce5-302fe04d9897"
      },
      "outputs": [
        {
          "output_type": "stream",
          "name": "stdout",
          "text": [
            "<class 'pandas.core.frame.DataFrame'>\n",
            "RangeIndex: 1320 entries, 0 to 1319\n",
            "Data columns (total 15 columns):\n",
            " #   Column            Non-Null Count  Dtype\n",
            "---  ------            --------------  -----\n",
            " 0   date              1320 non-null   int64\n",
            " 1   year              1320 non-null   int64\n",
            " 2   month             1320 non-null   int64\n",
            " 3   dayofmonth        1320 non-null   int64\n",
            " 4   dayofweek         1320 non-null   int64\n",
            " 5   dayofyear         1320 non-null   int64\n",
            " 6   weekofyear        1320 non-null   int64\n",
            " 7   quarter           1320 non-null   int64\n",
            " 8   is_month_start    1320 non-null   bool \n",
            " 9   is_month_end      1320 non-null   bool \n",
            " 10  is_quarter_start  1320 non-null   bool \n",
            " 11  is_quarter_end    1320 non-null   bool \n",
            " 12  is_year_start     1320 non-null   bool \n",
            " 13  is_year_end       1320 non-null   bool \n",
            " 14  year_weekofyear   1320 non-null   int64\n",
            "dtypes: bool(6), int64(9)\n",
            "memory usage: 100.7 KB\n"
          ]
        }
      ],
      "source": [
        "dates.info()"
      ]
    },
    {
      "cell_type": "code",
      "execution_count": 33,
      "metadata": {
        "id": "AJFpNxN1B5xJ"
      },
      "outputs": [],
      "source": [
        "# create new coolumns to represent the cyclic nature of a year\n",
        "dates[\"sin(dayofyear)\"] = np.sin(dates[\"dayofyear\"])\n",
        "dates[\"cos(dayofyear)\"] = np.cos(dates[\"dayofyear\"])"
      ]
    },
    {
      "cell_type": "code",
      "execution_count": 34,
      "metadata": {
        "id": "sm0iN8DiwCxC"
      },
      "outputs": [],
      "source": [
        "def get_datetime(df):\n",
        "  # Create a new column combining the year, month, and day of the month in the desired format\n",
        "  df['date_extracted'] = (\n",
        "      dates['year'].astype(int).add(2000).astype(str) + '-' +\n",
        "      dates['month'].astype(str).str.zfill(2) + '-' +\n",
        "      dates['dayofmonth'].astype(str).str.zfill(2)\n",
        "  )\n",
        "\n",
        "get_datetime(dates)"
      ]
    },
    {
      "cell_type": "markdown",
      "metadata": {
        "id": "vjFCEucJjUnj"
      },
      "source": [
        "### merging our data"
      ]
    },
    {
      "cell_type": "code",
      "execution_count": 35,
      "metadata": {
        "id": "nM3GgvlRwCxE"
      },
      "outputs": [],
      "source": [
        "stores.rename(  # rename type to store_type to make it more descriptive\n",
        "      columns={'type': 'store_type'},\n",
        "      inplace=True)\n",
        "holidays.rename(  # rename type to holiday_type to make it more descriptive\n",
        "      columns={'type': 'holiday_type'},\n",
        "      inplace=True)\n",
        "# make each holiday type a string\n",
        "holidays['holiday_type'] = holidays['holiday_type'].apply(lambda x: 'holiday_' + str(x))"
      ]
    },
    {
      "cell_type": "code",
      "execution_count": 36,
      "metadata": {
        "id": "TKmk7PvkwCxE"
      },
      "outputs": [],
      "source": [
        "#merging train and test with stores dataset\n",
        "\n",
        "def merge(df1, df2):\n",
        "    merged_df = df1.merge(df2, how='left', on='date')\n",
        "\n",
        "    return merged_df\n",
        "\n",
        "def merge_stores(df1, df2):\n",
        "    merged_df = df1.merge(df2, how='left', on='store_id')\n",
        "\n",
        "    return merged_df"
      ]
    },
    {
      "cell_type": "code",
      "execution_count": 37,
      "metadata": {
        "id": "nzLXDzmswCxH"
      },
      "outputs": [],
      "source": [
        "def get_is_holiday_column(df):\n",
        "  df['holiday_type'] = df['holiday_type'].fillna('Workday')\n",
        "\n",
        "  # create column to show if its a holiday or not (non-holidays are zeros)\n",
        "  df['is_holiday'] = df['holiday_type'].apply(\n",
        "      lambda x: False if x=='Workday'\n",
        "      else True)"
      ]
    },
    {
      "cell_type": "markdown",
      "metadata": {
        "id": "3Ua6F_k68ZzQ"
      },
      "source": [
        "we did this so our non-holidays can be zeros"
      ]
    },
    {
      "cell_type": "markdown",
      "metadata": {
        "id": "rEWAGxsV10J1"
      },
      "source": [
        "now we must merge holidays with the merged data"
      ]
    },
    {
      "cell_type": "markdown",
      "metadata": {
        "id": "UNnEVhP063uD"
      },
      "source": [
        "since non-holidays are zeros, we don't want our ML Models to think that non-holidays(zeros) have an ordinal relationship with other holidays(1,2,3,4,)\n",
        "\n",
        "in other words, non-holidays(zeros) don't always come before holidays(1,2,3,4,)\n",
        "\n",
        "so, we must create a new column to show whether or not."
      ]
    },
    {
      "cell_type": "code",
      "execution_count": 38,
      "metadata": {
        "id": "WH3san4RwCxK"
      },
      "outputs": [],
      "source": [
        "train_merged = merge_stores(train, stores)\n",
        "train_merged1 = merge(train_merged, holidays)\n",
        "get_is_holiday_column(train_merged1)\n",
        "train_merged2 = merge(train_merged1, dates)\n",
        "\n",
        "test_merged = merge_stores(test, stores)\n",
        "test_merged1 = merge(test_merged, holidays)\n",
        "get_is_holiday_column(test_merged1)\n",
        "test_merged2 = merge(test_merged1, dates)"
      ]
    },
    {
      "cell_type": "code",
      "execution_count": 39,
      "metadata": {
        "id": "SQ5tljFiwCxK",
        "outputId": "89971a18-a527-49d9-fb69-96787bfb5766",
        "colab": {
          "base_uri": "https://localhost:8080/"
        }
      },
      "outputs": [
        {
          "output_type": "execute_result",
          "data": {
            "text/plain": [
              "array(['holiday_0', 'Workday', 'holiday_2', 'holiday_5', 'holiday_1',\n",
              "       'holiday_4', 'holiday_3'], dtype=object)"
            ]
          },
          "metadata": {},
          "execution_count": 39
        }
      ],
      "source": [
        "train_merged2['holiday_type'].unique()"
      ]
    },
    {
      "cell_type": "code",
      "execution_count": 40,
      "metadata": {
        "id": "IEguTT36wCxM",
        "outputId": "da8b3dd5-367d-4fd3-f831-07d83744ac5d",
        "colab": {
          "base_uri": "https://localhost:8080/"
        }
      },
      "outputs": [
        {
          "output_type": "stream",
          "name": "stdout",
          "text": [
            "['2003-02-29', '2003-02-29', '2003-02-29', '2003-02-29', '2003-02-29', '2003-02-29', '2003-02-29', '2003-02-29', '2003-02-29', '2003-02-29', '2003-02-29', '2003-02-29', '2003-02-29', '2003-02-29', '2003-02-29', '2003-02-29', '2003-02-29', '2003-02-29', '2003-02-29', '2003-02-29', '2003-02-29', '2003-02-29', '2003-02-29', '2003-02-29', '2003-02-29', '2003-02-29', '2003-02-29', '2003-02-29', '2003-02-29', '2003-02-29', '2003-02-29', '2003-02-29', '2003-02-29', '2003-02-29', '2003-02-29', '2003-02-29', '2003-02-29', '2003-02-29', '2003-02-29', '2003-02-29', '2003-02-29', '2003-02-29', '2003-02-29', '2003-02-29', '2003-02-29', '2003-02-29', '2003-02-29', '2003-02-29', '2003-02-29', '2003-02-29', '2003-02-29', '2003-02-29', '2003-02-29', '2003-02-29', '2003-02-29', '2003-02-29', '2003-02-29', '2003-02-29', '2003-02-29', '2003-02-29', '2003-02-29', '2003-02-29', '2003-02-29', '2003-02-29', '2003-02-29', '2003-02-29', '2003-02-29', '2003-02-29', '2003-02-29', '2003-02-29', '2003-02-29', '2003-02-29', '2003-02-29', '2003-02-29', '2003-02-29', '2003-02-29', '2003-02-29', '2003-02-29', '2003-02-29', '2003-02-29', '2003-02-29', '2003-02-29', '2003-02-29', '2003-02-29', '2003-02-29', '2003-02-29', '2003-02-29', '2003-02-29', '2003-02-29', '2003-02-29', '2003-02-29', '2003-02-29', '2003-02-29', '2003-02-29', '2003-02-29', '2003-02-29', '2003-02-29', '2003-02-29', '2003-02-29', '2003-02-29', '2003-02-29', '2003-02-29', '2003-02-29', '2003-02-29', '2003-02-29', '2003-02-29', '2003-02-29', '2003-02-29', '2003-02-29', '2003-02-29', '2003-02-29', '2003-02-29', '2003-02-29', '2003-02-29', '2003-02-29', '2003-02-29', '2003-02-29', '2003-02-29', '2003-02-29', '2003-02-29', '2003-02-29', '2003-02-29', '2003-02-29', '2003-02-29', '2003-02-29', '2003-02-29', '2003-02-29', '2003-02-29', '2003-02-29', '2003-02-29', '2003-02-29', '2003-02-29', '2003-02-29', '2003-02-29', '2003-02-29', '2003-02-29', '2003-02-29', '2003-02-29', '2003-02-29', '2003-02-29', '2003-02-29', '2003-02-29', '2003-02-29', '2003-02-29', '2003-02-29', '2003-02-29', '2003-02-29', '2003-02-29', '2003-02-29', '2003-02-29', '2003-02-29', '2003-02-29', '2003-02-29', '2003-02-29', '2003-02-29', '2003-02-29', '2003-02-29', '2003-02-29', '2003-02-29', '2003-02-29', '2003-02-29', '2003-02-29', '2003-02-29', '2003-02-29', '2003-02-29', '2003-02-29', '2003-02-29', '2003-02-29', '2003-02-29', '2003-02-29', '2003-02-29', '2003-02-29', '2003-02-29', '2003-02-29', '2003-02-29', '2003-02-29', '2003-02-29', '2003-02-29', '2003-02-29', '2003-02-29', '2003-02-29', '2003-02-29', '2003-02-29', '2003-02-29', '2003-02-29', '2003-02-29', '2003-02-29', '2003-02-29', '2003-02-29', '2003-02-29', '2003-02-29', '2003-02-29', '2003-02-29', '2003-02-29', '2003-02-29', '2003-02-29', '2003-02-29', '2003-02-29', '2003-02-29', '2003-02-29', '2003-02-29', '2003-02-29', '2003-02-29', '2003-02-29', '2003-02-29', '2003-02-29', '2003-02-29', '2003-02-29', '2003-02-29', '2003-02-29', '2003-02-29', '2003-02-29', '2003-02-29', '2003-02-29', '2003-02-29', '2003-02-29', '2003-02-29', '2003-02-29', '2003-02-29', '2003-02-29', '2003-02-29', '2003-02-29', '2003-02-29', '2003-02-29', '2003-02-29', '2003-02-29', '2003-02-29', '2003-02-29', '2003-02-29', '2003-02-29', '2003-02-29', '2003-02-29', '2003-02-29', '2003-02-29', '2003-02-29', '2003-02-29', '2003-02-29', '2003-02-29', '2003-02-29', '2003-02-29', '2003-02-29', '2003-02-29', '2003-02-29', '2003-02-29', '2003-02-29', '2003-02-29', '2003-02-29', '2003-02-29', '2003-02-29', '2003-02-29', '2003-02-29', '2003-02-29', '2003-02-29', '2003-02-29', '2003-02-29', '2003-02-29', '2003-02-29', '2003-02-29', '2003-02-29', '2003-02-29', '2003-02-29', '2003-02-29', '2003-02-29', '2003-02-29', '2003-02-29', '2003-02-29', '2003-02-29', '2003-02-29', '2003-02-29', '2003-02-29', '2003-02-29', '2003-02-29', '2003-02-29', '2003-02-29', '2003-02-29', '2003-02-29', '2003-02-29', '2003-02-29', '2003-02-29', '2003-02-29', '2003-02-29', '2003-02-29', '2003-02-29', '2003-02-29', '2003-02-29', '2003-02-29', '2003-02-29', '2003-02-29', '2003-02-29', '2003-02-29', '2003-02-29', '2003-02-29', '2003-02-29', '2003-02-29', '2003-02-29', '2003-02-29', '2003-02-29', '2003-02-29', '2003-02-29', '2003-02-29', '2003-02-29', '2003-02-29', '2003-02-29', '2003-02-29', '2003-02-29', '2003-02-29', '2003-02-29', '2003-02-29', '2003-02-29', '2003-02-29', '2003-02-29', '2003-02-29', '2003-02-29', '2003-02-29', '2003-02-29', '2003-02-29', '2003-02-29', '2003-02-29', '2003-02-29', '2003-02-29', '2003-02-29', '2003-02-29', '2003-02-29', '2003-02-29', '2003-02-29', '2003-02-29', '2003-02-29', '2003-02-29', '2003-02-29', '2003-02-29', '2003-02-29', '2003-02-29', '2003-02-29', '2003-02-29', '2003-02-29', '2003-02-29', '2003-02-29', '2003-02-29', '2003-02-29', '2003-02-29', '2003-02-29', '2003-02-29', '2003-02-29', '2003-02-29', '2003-02-29', '2003-02-29', '2003-02-29', '2003-02-29', '2003-02-29', '2003-02-29', '2003-02-29', '2003-02-29', '2003-02-29', '2003-02-29', '2003-02-29', '2003-02-29', '2003-02-29', '2003-02-29', '2003-02-29', '2003-02-29', '2003-02-29', '2003-02-29', '2003-02-29', '2003-02-29', '2003-02-29', '2003-02-29', '2003-02-29', '2003-02-29', '2003-02-29', '2003-02-29', '2003-02-29', '2003-02-29', '2003-02-29', '2003-02-29', '2003-02-29', '2003-02-29', '2003-02-29', '2003-02-29', '2003-02-29', '2003-02-29', '2003-02-29', '2003-02-29', '2003-02-29', '2003-02-29', '2003-02-29', '2003-02-29', '2003-02-29', '2003-02-29', '2003-02-29', '2003-02-29', '2003-02-29', '2003-02-29', '2003-02-29', '2003-02-29', '2003-02-29', '2003-02-29', '2003-02-29', '2003-02-29', '2003-02-29', '2003-02-29', '2003-02-29', '2003-02-29', '2003-02-29', '2003-02-29', '2003-02-29', '2003-02-29', '2003-02-29', '2003-02-29', '2003-02-29', '2003-02-29', '2003-02-29', '2003-02-29', '2003-02-29', '2003-02-29', '2003-02-29', '2003-02-29', '2003-02-29', '2003-02-29', '2003-02-29', '2003-02-29', '2003-02-29', '2003-02-29', '2003-02-29', '2003-02-29', '2003-02-29', '2003-02-29', '2003-02-29', '2003-02-29', '2003-02-29', '2003-02-29', '2003-02-29', '2003-02-29', '2003-02-29', '2003-02-29', '2003-02-29', '2003-02-29', '2003-02-29', '2003-02-29', '2003-02-29', '2003-02-29', '2003-02-29', '2003-02-29', '2003-02-29', '2003-02-29', '2003-02-29', '2003-02-29', '2003-02-29', '2003-02-29', '2003-02-29', '2003-02-29', '2003-02-29', '2003-02-29', '2003-02-29', '2003-02-29', '2003-02-29', '2003-02-29', '2003-02-29', '2003-02-29', '2003-02-29', '2003-02-29', '2003-02-29', '2003-02-29', '2003-02-29', '2003-02-29', '2003-02-29', '2003-02-29', '2003-02-29', '2003-02-29', '2003-02-29', '2003-02-29', '2003-02-29', '2003-02-29', '2003-02-29', '2003-02-29', '2003-02-29', '2003-02-29', '2003-02-29', '2003-02-29', '2003-02-29', '2003-02-29', '2003-02-29', '2003-02-29', '2003-02-29', '2003-02-29', '2003-02-29', '2003-02-29', '2003-02-29', '2003-02-29', '2003-02-29', '2003-02-29', '2003-02-29', '2003-02-29', '2003-02-29', '2003-02-29', '2003-02-29', '2003-02-29', '2003-02-29', '2003-02-29', '2003-02-29', '2003-02-29', '2003-02-29', '2003-02-29', '2003-02-29', '2003-02-29', '2003-02-29', '2003-02-29', '2003-02-29', '2003-02-29', '2003-02-29', '2003-02-29', '2003-02-29', '2003-02-29', '2003-02-29', '2003-02-29', '2003-02-29', '2003-02-29', '2003-02-29', '2003-02-29', '2003-02-29', '2003-02-29', '2003-02-29', '2003-02-29', '2003-02-29', '2003-02-29', '2003-02-29', '2003-02-29', '2003-02-29', '2003-02-29', '2003-02-29', '2003-02-29', '2003-02-29', '2003-02-29', '2003-02-29', '2003-02-29', '2003-02-29', '2003-02-29', '2003-02-29', '2003-02-29', '2003-02-29', '2003-02-29', '2003-02-29', '2003-02-29', '2003-02-29', '2003-02-29', '2003-02-29', '2003-02-29', '2003-02-29', '2003-02-29', '2003-02-29', '2003-02-29', '2003-02-29', '2003-02-29', '2003-02-29', '2003-02-29', '2003-02-29', '2003-02-29', '2003-02-29', '2003-02-29', '2003-02-29', '2003-02-29', '2003-02-29', '2003-02-29', '2003-02-29', '2003-02-29', '2003-02-29', '2003-02-29', '2003-02-29', '2003-02-29', '2003-02-29', '2003-02-29', '2003-02-29', '2003-02-29', '2003-02-29', '2003-02-29', '2003-02-29', '2003-02-29', '2003-02-29', '2003-02-29', '2003-02-29', '2003-02-29', '2003-02-29', '2003-02-29', '2003-02-29', '2003-02-29', '2003-02-29', '2003-02-29', '2003-02-29', '2003-02-29', '2003-02-29', '2003-02-29', '2003-02-29', '2003-02-29', '2003-02-29', '2003-02-29', '2003-02-29', '2003-02-29', '2003-02-29', '2003-02-29', '2003-02-29', '2003-02-29', '2003-02-29', '2003-02-29', '2003-02-29', '2003-02-29', '2003-02-29', '2003-02-29', '2003-02-29', '2003-02-29', '2003-02-29', '2003-02-29', '2003-02-29', '2003-02-29', '2003-02-29', '2003-02-29', '2003-02-29', '2003-02-29', '2003-02-29', '2003-02-29', '2003-02-29', '2003-02-29', '2003-02-29', '2003-02-29', '2003-02-29', '2003-02-29', '2003-02-29', '2003-02-29', '2003-02-29', '2003-02-29', '2003-02-29', '2003-02-29', '2003-02-29', '2003-02-29', '2003-02-29', '2003-02-29', '2003-02-29', '2003-02-29', '2003-02-29', '2003-02-29', '2003-02-29', '2003-02-29', '2003-02-29', '2003-02-29', '2003-02-29', '2003-02-29', '2003-02-29', '2003-02-29', '2003-02-29', '2003-02-29', '2003-02-29', '2003-02-29', '2003-02-29', '2003-02-29', '2003-02-29', '2003-02-29', '2003-02-29', '2003-02-29', '2003-02-29', '2003-02-29', '2003-02-29', '2003-02-29', '2003-02-29', '2003-02-29', '2003-02-29', '2003-02-29', '2003-02-29', '2003-02-29', '2003-02-29', '2003-02-29', '2003-02-29', '2003-02-29', '2003-02-29', '2003-02-29', '2003-02-29', '2003-02-29', '2003-02-29', '2003-02-29', '2003-02-29', '2003-02-29', '2003-02-29', '2003-02-29', '2003-02-29', '2003-02-29', '2003-02-29', '2003-02-29', '2003-02-29', '2003-02-29', '2003-02-29', '2003-02-29', '2003-02-29', '2003-02-29', '2003-02-29', '2003-02-29', '2003-02-29', '2003-02-29', '2003-02-29', '2003-02-29', '2003-02-29', '2003-02-29', '2003-02-29', '2003-02-29', '2003-02-29', '2003-02-29', '2003-02-29', '2003-02-29', '2003-02-29', '2003-02-29', '2003-02-29', '2003-02-29', '2003-02-29', '2003-02-29', '2003-02-29', '2003-02-29', '2003-02-29', '2003-02-29', '2003-02-29', '2003-02-29', '2003-02-29', '2003-02-29', '2003-02-29', '2003-02-29', '2003-02-29', '2003-02-29', '2003-02-29', '2003-02-29', '2003-02-29', '2003-02-29', '2003-02-29', '2003-02-29', '2003-02-29', '2003-02-29', '2003-02-29', '2003-02-29', '2003-02-29', '2003-02-29', '2003-02-29', '2003-02-29', '2003-02-29', '2003-02-29', '2003-02-29', '2003-02-29', '2003-02-29', '2003-02-29', '2003-02-29', '2003-02-29', '2003-02-29', '2003-02-29', '2003-02-29', '2003-02-29', '2003-02-29', '2003-02-29', '2003-02-29', '2003-02-29', '2003-02-29', '2003-02-29', '2003-02-29', '2003-02-29', '2003-02-29', '2003-02-29', '2003-02-29', '2003-02-29', '2003-02-29', '2003-02-29', '2003-02-29', '2003-02-29', '2003-02-29', '2003-02-29', '2003-02-29', '2003-02-29', '2003-02-29', '2003-02-29', '2003-02-29', '2003-02-29', '2003-02-29', '2003-02-29', '2003-02-29', '2003-02-29', '2003-02-29', '2003-02-29', '2003-02-29', '2003-02-29', '2003-02-29', '2003-02-29', '2003-02-29', '2003-02-29', '2003-02-29', '2003-02-29', '2003-02-29', '2003-02-29', '2003-02-29', '2003-02-29', '2003-02-29', '2003-02-29', '2003-02-29', '2003-02-29', '2003-02-29', '2003-02-29', '2003-02-29', '2003-02-29', '2003-02-29', '2003-02-29', '2003-02-29', '2003-02-29', '2003-02-29', '2003-02-29', '2003-02-29', '2003-02-29', '2003-02-29', '2003-02-29', '2003-02-29', '2003-02-29', '2003-02-29', '2003-02-29', '2003-02-29', '2003-02-29', '2003-02-29', '2003-02-29', '2003-02-29', '2003-02-29', '2003-02-29', '2003-02-29', '2003-02-29', '2003-02-29', '2003-02-29', '2003-02-29', '2003-02-29', '2003-02-29', '2003-02-29', '2003-02-29', '2003-02-29', '2003-02-29', '2003-02-29', '2003-02-29', '2003-02-29', '2003-02-29', '2003-02-29', '2003-02-29', '2003-02-29', '2003-02-29', '2003-02-29', '2003-02-29', '2003-02-29', '2003-02-29', '2003-02-29', '2003-02-29', '2003-02-29', '2003-02-29', '2003-02-29', '2003-02-29', '2003-02-29', '2003-02-29', '2003-02-29', '2003-02-29', '2003-02-29', '2003-02-29', '2003-02-29', '2003-02-29', '2003-02-29', '2003-02-29', '2003-02-29', '2003-02-29', '2003-02-29', '2003-02-29', '2003-02-29', '2003-02-29', '2003-02-29', '2003-02-29', '2003-02-29', '2003-02-29', '2003-02-29', '2003-02-29', '2003-02-29', '2003-02-29', '2003-02-29', '2003-02-29', '2003-02-29', '2003-02-29', '2003-02-29', '2003-02-29', '2003-02-29', '2003-02-29', '2003-02-29', '2003-02-29', '2003-02-29', '2003-02-29', '2003-02-29', '2003-02-29', '2003-02-29', '2003-02-29', '2003-02-29', '2003-02-29', '2003-02-29', '2003-02-29', '2003-02-29', '2003-02-29', '2003-02-29', '2003-02-29', '2003-02-29', '2003-02-29', '2003-02-29', '2003-02-29', '2003-02-29', '2003-02-29', '2003-02-29', '2003-02-29', '2003-02-29', '2003-02-29', '2003-02-29', '2003-02-29', '2003-02-29', '2003-02-29', '2003-02-29', '2003-02-29', '2003-02-29', '2003-02-29', '2003-02-29', '2003-02-29', '2003-02-29', '2003-02-29', '2003-02-29', '2003-02-29', '2003-02-29', '2003-02-29', '2003-02-29', '2003-02-29', '2003-02-29', '2003-02-29', '2003-02-29', '2003-02-29', '2003-02-29', '2003-02-29', '2003-02-29', '2003-02-29', '2003-02-29', '2003-02-29', '2003-02-29', '2003-02-29', '2003-02-29', '2003-02-29', '2003-02-29', '2003-02-29', '2003-02-29', '2003-02-29', '2003-02-29', '2003-02-29', '2003-02-29', '2003-02-29', '2003-02-29', '2003-02-29', '2003-02-29', '2003-02-29', '2003-02-29', '2003-02-29', '2003-02-29', '2003-02-29', '2003-02-29', '2003-02-29', '2003-02-29', '2003-02-29', '2003-02-29', '2003-02-29', '2003-02-29', '2003-02-29', '2003-02-29', '2003-02-29', '2003-02-29', '2003-02-29', '2003-02-29', '2003-02-29', '2003-02-29', '2003-02-29', '2003-02-29', '2003-02-29', '2003-02-29', '2003-02-29', '2003-02-29', '2003-02-29', '2003-02-29', '2003-02-29', '2003-02-29', '2003-02-29', '2003-02-29', '2003-02-29', '2003-02-29', '2003-02-29', '2003-02-29', '2003-02-29', '2003-02-29', '2003-02-29', '2003-02-29', '2003-02-29', '2003-02-29', '2003-02-29', '2003-02-29', '2003-02-29', '2003-02-29', '2003-02-29', '2003-02-29', '2003-02-29', '2003-02-29', '2003-02-29', '2003-02-29', '2003-02-29', '2003-02-29', '2003-02-29', '2003-02-29', '2003-02-29', '2003-02-29', '2003-02-29', '2003-02-29', '2003-02-29', '2003-02-29', '2003-02-29', '2003-02-29', '2003-02-29', '2003-02-29', '2003-02-29', '2003-02-29', '2003-02-29', '2003-02-29', '2003-02-29', '2003-02-29', '2003-02-29', '2003-02-29', '2003-02-29', '2003-02-29', '2003-02-29', '2003-02-29', '2003-02-29', '2003-02-29', '2003-02-29', '2003-02-29', '2003-02-29', '2003-02-29', '2003-02-29', '2003-02-29', '2003-02-29', '2003-02-29', '2003-02-29', '2003-02-29', '2003-02-29', '2003-02-29', '2003-02-29', '2003-02-29', '2003-02-29', '2003-02-29', '2003-02-29', '2003-02-29', '2003-02-29', '2003-02-29', '2003-02-29', '2003-02-29', '2003-02-29', '2003-02-29', '2003-02-29', '2003-02-29', '2003-02-29', '2003-02-29', '2003-02-29', '2003-02-29', '2003-02-29', '2003-02-29', '2003-02-29', '2003-02-29', '2003-02-29', '2003-02-29', '2003-02-29', '2003-02-29', '2003-02-29', '2003-02-29', '2003-02-29', '2003-02-29', '2003-02-29', '2003-02-29', '2003-02-29', '2003-02-29', '2003-02-29', '2003-02-29', '2003-02-29', '2003-02-29', '2003-02-29', '2003-02-29', '2003-02-29', '2003-02-29', '2003-02-29', '2003-02-29', '2003-02-29', '2003-02-29', '2003-02-29', '2003-02-29', '2003-02-29', '2003-02-29', '2003-02-29', '2003-02-29', '2003-02-29', '2003-02-29', '2003-02-29', '2003-02-29', '2003-02-29', '2003-02-29', '2003-02-29', '2003-02-29', '2003-02-29', '2003-02-29', '2003-02-29', '2003-02-29', '2003-02-29', '2003-02-29', '2003-02-29', '2003-02-29', '2003-02-29', '2003-02-29', '2003-02-29', '2003-02-29', '2003-02-29', '2003-02-29', '2003-02-29', '2003-02-29', '2003-02-29', '2003-02-29', '2003-02-29', '2003-02-29', '2003-02-29', '2003-02-29', '2003-02-29', '2003-02-29', '2003-02-29', '2003-02-29', '2003-02-29', '2003-02-29', '2003-02-29', '2003-02-29', '2003-02-29', '2003-02-29', '2003-02-29', '2003-02-29', '2003-02-29', '2003-02-29', '2003-02-29', '2003-02-29', '2003-02-29', '2003-02-29', '2003-02-29', '2003-02-29', '2003-02-29', '2003-02-29', '2003-02-29', '2003-02-29', '2003-02-29', '2003-02-29', '2003-02-29', '2003-02-29', '2003-02-29', '2003-02-29', '2003-02-29', '2003-02-29', '2003-02-29', '2003-02-29', '2003-02-29', '2003-02-29', '2003-02-29', '2003-02-29', '2003-02-29', '2003-02-29', '2003-02-29', '2003-02-29', '2003-02-29', '2003-02-29', '2003-02-29', '2003-02-29', '2003-02-29', '2003-02-29', '2003-02-29', '2003-02-29', '2003-02-29', '2003-02-29', '2003-02-29', '2003-02-29', '2003-02-29', '2003-02-29', '2003-02-29', '2003-02-29', '2003-02-29', '2003-02-29', '2003-02-29', '2003-02-29', '2003-02-29', '2003-02-29', '2003-02-29', '2003-02-29', '2003-02-29', '2003-02-29', '2003-02-29', '2003-02-29', '2003-02-29', '2003-02-29', '2003-02-29', '2003-02-29', '2003-02-29', '2003-02-29', '2003-02-29', '2003-02-29', '2003-02-29', '2003-02-29', '2003-02-29', '2003-02-29', '2003-02-29', '2003-02-29', '2003-02-29', '2003-02-29', '2003-02-29', '2003-02-29', '2003-02-29', '2003-02-29', '2003-02-29', '2003-02-29', '2003-02-29', '2003-02-29', '2003-02-29', '2003-02-29', '2003-02-29', '2003-02-29', '2003-02-29', '2003-02-29', '2003-02-29', '2003-02-29', '2003-02-29', '2003-02-29', '2003-02-29', '2003-02-29', '2003-02-29', '2003-02-29', '2003-02-29', '2003-02-29', '2003-02-29', '2003-02-29', '2003-02-29', '2003-02-29', '2003-02-29', '2003-02-29', '2003-02-29', '2003-02-29', '2003-02-29', '2003-02-29', '2003-02-29', '2003-02-29', '2003-02-29', '2003-02-29', '2003-02-29', '2003-02-29', '2003-02-29', '2003-02-29', '2003-02-29', '2003-02-29', '2003-02-29', '2003-02-29', '2003-02-29', '2003-02-29', '2003-02-29', '2003-02-29', '2003-02-29', '2003-02-29', '2003-02-29', '2003-02-29', '2003-02-29', '2003-02-29', '2003-02-29', '2003-02-29', '2003-02-29', '2003-02-29', '2003-02-29', '2003-02-29', '2003-02-29', '2003-02-29', '2003-02-29', '2003-02-29', '2003-02-29', '2003-02-29', '2003-02-29', '2003-02-29', '2003-02-29', '2003-02-29', '2003-02-29', '2003-02-29', '2003-02-29', '2003-02-29', '2003-02-29', '2003-02-29', '2003-02-29', '2003-02-29', '2003-02-29', '2003-02-29', '2003-02-29', '2003-02-29', '2003-02-29', '2003-02-29', '2003-02-29', '2003-02-29', '2003-02-29', '2003-02-29', '2003-02-29', '2003-02-29', '2003-02-29', '2003-02-29', '2003-02-29', '2003-02-29', '2003-02-29', '2003-02-29', '2003-02-29', '2003-02-29', '2003-02-29', '2003-02-29', '2003-02-29', '2003-02-29', '2003-02-29', '2003-02-29', '2003-02-29', '2003-02-29', '2003-02-29', '2003-02-29', '2003-02-29', '2003-02-29', '2003-02-29', '2003-02-29', '2003-02-29', '2003-02-29', '2003-02-29', '2003-02-29', '2003-02-29', '2003-02-29', '2003-02-29', '2003-02-29', '2003-02-29', '2003-02-29', '2003-02-29', '2003-02-29', '2003-02-29', '2003-02-29', '2003-02-29', '2003-02-29', '2003-02-29', '2003-02-29', '2003-02-29', '2003-02-29', '2003-02-29', '2003-02-29', '2003-02-29', '2003-02-29', '2003-02-29', '2003-02-29', '2003-02-29', '2003-02-29', '2003-02-29', '2003-02-29', '2003-02-29', '2003-02-29', '2003-02-29', '2003-02-29', '2003-02-29', '2003-02-29', '2003-02-29', '2003-02-29', '2003-02-29', '2003-02-29', '2003-02-29', '2003-02-29', '2003-02-29', '2003-02-29', '2003-02-29', '2003-02-29', '2003-02-29', '2003-02-29', '2003-02-29', '2003-02-29', '2003-02-29', '2003-02-29', '2003-02-29', '2003-02-29', '2003-02-29', '2003-02-29', '2003-02-29', '2003-02-29', '2003-02-29', '2003-02-29', '2003-02-29', '2003-02-29', '2003-02-29', '2003-02-29', '2003-02-29', '2003-02-29', '2003-02-29', '2003-02-29', '2003-02-29', '2003-02-29', '2003-02-29', '2003-02-29', '2003-02-29', '2003-02-29', '2003-02-29', '2003-02-29', '2003-02-29', '2003-02-29', '2003-02-29', '2003-02-29', '2003-02-29', '2003-02-29', '2003-02-29', '2003-02-29', '2003-02-29', '2003-02-29', '2003-02-29', '2003-02-29', '2003-02-29', '2003-02-29', '2003-02-29', '2003-02-29', '2003-02-29', '2003-02-29', '2003-02-29', '2003-02-29', '2003-02-29', '2003-02-29', '2003-02-29', '2003-02-29', '2003-02-29', '2003-02-29', '2003-02-29', '2003-02-29', '2003-02-29', '2003-02-29', '2003-02-29', '2003-02-29', '2003-02-29', '2003-02-29', '2003-02-29', '2003-02-29', '2003-02-29', '2003-02-29', '2003-02-29', '2003-02-29', '2003-02-29', '2003-02-29', '2003-02-29', '2003-02-29', '2003-02-29', '2003-02-29', '2003-02-29', '2003-02-29', '2003-02-29', '2003-02-29', '2003-02-29', '2003-02-29', '2003-02-29', '2003-02-29', '2003-02-29', '2003-02-29', '2003-02-29', '2003-02-29', '2003-02-29', '2003-02-29', '2003-02-29', '2003-02-29', '2003-02-29', '2003-02-29', '2003-02-29', '2003-02-29', '2003-02-29', '2003-02-29', '2003-02-29', '2003-02-29', '2003-02-29', '2003-02-29', '2003-02-29', '2003-02-29', '2003-02-29', '2003-02-29', '2003-02-29', '2003-02-29', '2003-02-29', '2003-02-29', '2003-02-29', '2003-02-29', '2003-02-29', '2003-02-29', '2003-02-29', '2003-02-29', '2003-02-29', '2003-02-29', '2003-02-29', '2003-02-29', '2003-02-29', '2003-02-29', '2003-02-29', '2003-02-29', '2003-02-29', '2003-02-29', '2003-02-29', '2003-02-29', '2003-02-29', '2003-02-29', '2003-02-29', '2003-02-29', '2003-02-29', '2003-02-29', '2003-02-29', '2003-02-29', '2003-02-29', '2003-02-29', '2003-02-29', '2003-02-29', '2003-02-29', '2003-02-29', '2003-02-29', '2003-02-29', '2003-02-29', '2003-02-29', '2003-02-29', '2003-02-29', '2003-02-29', '2003-02-29', '2003-02-29', '2003-02-29', '2003-02-29', '2003-02-29', '2003-02-29', '2003-02-29', '2003-02-29', '2003-02-29', '2003-02-29', '2003-02-29', '2003-02-29', '2003-02-29', '2003-02-29', '2003-02-29', '2003-02-29', '2003-02-29', '2003-02-29', '2003-02-29', '2003-02-29', '2003-02-29', '2003-02-29', '2003-02-29', '2003-02-29', '2003-02-29', '2003-02-29', '2003-02-29', '2003-02-29', '2003-02-29', '2003-02-29', '2003-02-29', '2003-02-29', '2003-02-29', '2003-02-29', '2003-02-29', '2003-02-29', '2003-02-29', '2003-02-29', '2003-02-29', '2003-02-29', '2003-02-29', '2003-02-29', '2003-02-29', '2003-02-29', '2003-02-29', '2003-02-29', '2003-02-29', '2003-02-29', '2003-02-29', '2003-02-29', '2003-02-29', '2003-02-29', '2003-02-29', '2003-02-29', '2003-02-29', '2003-02-29', '2003-02-29', '2003-02-29', '2003-02-29', '2003-02-29', '2003-02-29', '2003-02-29', '2003-02-29', '2003-02-29', '2003-02-29', '2003-02-29', '2003-02-29', '2003-02-29', '2003-02-29', '2003-02-29', '2003-02-29', '2003-02-29', '2003-02-29', '2003-02-29', '2003-02-29', '2003-02-29', '2003-02-29', '2003-02-29', '2003-02-29', '2003-02-29', '2003-02-29', '2003-02-29', '2003-02-29', '2003-02-29', '2003-02-29', '2003-02-29', '2003-02-29', '2003-02-29', '2003-02-29', '2003-02-29', '2003-02-29', '2003-02-29', '2003-02-29', '2003-02-29', '2003-02-29', '2003-02-29', '2003-02-29', '2003-02-29', '2003-02-29', '2003-02-29', '2003-02-29', '2003-02-29', '2003-02-29', '2003-02-29', '2003-02-29', '2003-02-29', '2003-02-29', '2003-02-29', '2003-02-29', '2003-02-29', '2003-02-29', '2003-02-29', '2003-02-29', '2003-02-29', '2003-02-29', '2003-02-29', '2003-02-29', '2003-02-29', '2003-02-29', '2003-02-29', '2003-02-29', '2003-02-29', '2003-02-29', '2003-02-29', '2003-02-29', '2003-02-29', '2003-02-29', '2003-02-29', '2003-02-29', '2003-02-29', '2003-02-29', '2003-02-29', '2003-02-29', '2003-02-29', '2003-02-29', '2003-02-29', '2003-02-29', '2003-02-29', '2003-02-29', '2003-02-29', '2003-02-29', '2003-02-29', '2003-02-29', '2003-02-29', '2003-02-29', '2003-02-29', '2003-02-29', '2003-02-29', '2003-02-29', '2003-02-29', '2003-02-29', '2003-02-29', '2003-02-29', '2003-02-29', '2003-02-29', '2003-02-29', '2003-02-29', '2003-02-29', '2003-02-29', '2003-02-29', '2003-02-29', '2003-02-29', '2003-02-29', '2003-02-29', '2003-02-29', '2003-02-29', '2003-02-29', '2003-02-29', '2003-02-29', '2003-02-29', '2003-02-29', '2003-02-29', '2003-02-29', '2003-02-29', '2003-02-29', '2003-02-29', '2003-02-29', '2003-02-29', '2003-02-29', '2003-02-29', '2003-02-29', '2003-02-29', '2003-02-29', '2003-02-29', '2003-02-29', '2003-02-29', '2003-02-29', '2003-02-29', '2003-02-29', '2003-02-29', '2003-02-29', '2003-02-29', '2003-02-29', '2003-02-29', '2003-02-29', '2003-02-29', '2003-02-29', '2003-02-29', '2003-02-29', '2003-02-29', '2003-02-29', '2003-02-29', '2003-02-29', '2003-02-29', '2003-02-29', '2003-02-29', '2003-02-29', '2003-02-29', '2003-02-29', '2003-02-29', '2003-02-29', '2003-02-29', '2003-02-29', '2003-02-29', '2003-02-29', '2003-02-29', '2003-02-29', '2003-02-29', '2003-02-29', '2003-02-29', '2003-02-29', '2003-02-29', '2003-02-29', '2003-02-29', '2003-02-29', '2003-02-29', '2003-02-29', '2003-02-29', '2003-02-29', '2003-02-29', '2003-02-29', '2003-02-29', '2003-02-29', '2003-02-29', '2003-02-29', '2003-02-29', '2003-02-29', '2003-02-29', '2003-02-29', '2003-02-29', '2003-02-29', '2003-02-29', '2003-02-29', '2003-02-29', '2003-02-29', '2003-02-29', '2003-02-29', '2003-02-29', '2003-02-29', '2003-02-29', '2003-02-29', '2003-02-29', '2003-02-29', '2003-02-29', '2003-02-29', '2003-02-29', '2003-02-29', '2003-02-29', '2003-02-29', '2003-02-29', '2003-02-29', '2003-02-29', '2003-02-29', '2003-02-29']\n",
            "['2003-02-29']\n"
          ]
        }
      ],
      "source": [
        "# Convert the column to datetime with errors='coerce'\n",
        "train_merged2['date_ext'] = pd.to_datetime(train_merged2['date_extracted'], errors='coerce')\n",
        "\n",
        "# Filter rows with NaT values and convert them to a list\n",
        "invalid_dates = train_merged2.loc[train_merged2['date_ext'].isna(), 'date_extracted'].tolist()\n",
        "\n",
        "print(invalid_dates) #get a list of invalid dates\n",
        "print(list(set(invalid_dates))) #unique invalid dates\n",
        "train_merged2.drop('date_ext', axis=1, inplace=True)"
      ]
    },
    {
      "cell_type": "markdown",
      "metadata": {
        "id": "r5j9W2IvwCxM"
      },
      "source": [
        "since the only invalid date is 2003-02-29, then when converting to datetime,\n",
        "\n",
        "we will first set invalid dates to NaT\n",
        "\n",
        "then fill them with 2003-02-29"
      ]
    },
    {
      "cell_type": "code",
      "execution_count": 41,
      "metadata": {
        "id": "Lh9FOdxZwCxN",
        "outputId": "3227896e-638b-443c-e80d-125b7f7aa308",
        "colab": {
          "base_uri": "https://localhost:8080/"
        }
      },
      "outputs": [
        {
          "output_type": "execute_result",
          "data": {
            "text/plain": [
              "0          2001-01-01 00:00:00\n",
              "1          2001-01-01 00:00:00\n",
              "2          2001-01-01 00:00:00\n",
              "3          2001-01-01 00:00:00\n",
              "4          2001-01-01 00:00:00\n",
              "                  ...         \n",
              "2288083    2004-06-18 00:00:00\n",
              "2288084    2004-06-18 00:00:00\n",
              "2288085    2004-06-18 00:00:00\n",
              "2288086    2004-06-18 00:00:00\n",
              "2288087    2004-06-18 00:00:00\n",
              "Name: date_extracted, Length: 2288088, dtype: object"
            ]
          },
          "metadata": {},
          "execution_count": 41
        }
      ],
      "source": [
        "train_merged2['date_extracted'] = pd.to_datetime(train_merged2['date_extracted'], errors='coerce')\n",
        "test_merged2['date_extracted'] = pd.to_datetime(test_merged2['date_extracted'])\n",
        "train_merged2['date_extracted'].fillna('2003-02-29')"
      ]
    },
    {
      "cell_type": "code",
      "execution_count": 42,
      "metadata": {
        "id": "s2V51TaZwCxO"
      },
      "outputs": [],
      "source": [
        "def set_index(df):\n",
        "  df.drop('date', inplace=True, axis=1)\n",
        "  df.set_index('date_extracted', inplace=True)\n",
        "set_index(train_merged2)\n",
        "set_index(test_merged2)"
      ]
    },
    {
      "cell_type": "markdown",
      "metadata": {
        "id": "nmZ1QBT54N0P"
      },
      "source": [
        "## Drop Duplicates"
      ]
    },
    {
      "cell_type": "code",
      "execution_count": 43,
      "metadata": {
        "id": "f_muKXb1DvRi"
      },
      "outputs": [],
      "source": [
        "train_merged2.drop_duplicates(inplace=True)\n",
        "test_merged2.drop_duplicates(inplace=True)"
      ]
    },
    {
      "cell_type": "code",
      "execution_count": 44,
      "metadata": {
        "id": "nsHWAQ6lwCxR"
      },
      "outputs": [],
      "source": [
        "train = train_merged2\n",
        "test = test_merged2"
      ]
    },
    {
      "cell_type": "markdown",
      "metadata": {
        "id": "AGnoifAP4N0P"
      },
      "source": [
        "## Impute Missing Values"
      ]
    },
    {
      "cell_type": "code",
      "execution_count": 45,
      "metadata": {
        "colab": {
          "base_uri": "https://localhost:8080/"
        },
        "id": "d57DfF5_Jhaw",
        "outputId": "29a2358c-b71a-4190-d617-33f38c8f8b4b"
      },
      "outputs": [
        {
          "output_type": "stream",
          "name": "stdout",
          "text": [
            "store_id               0\n",
            "category_id            0\n",
            "target                 0\n",
            "onpromotion            0\n",
            "nbr_of_transactions    0\n",
            "city                   0\n",
            "store_type             0\n",
            "cluster                0\n",
            "holiday_type           0\n",
            "is_holiday             0\n",
            "year                   0\n",
            "month                  0\n",
            "dayofmonth             0\n",
            "dayofweek              0\n",
            "dayofyear              0\n",
            "weekofyear             0\n",
            "quarter                0\n",
            "is_month_start         0\n",
            "is_month_end           0\n",
            "is_quarter_start       0\n",
            "is_quarter_end         0\n",
            "is_year_start          0\n",
            "is_year_end            0\n",
            "year_weekofyear        0\n",
            "sin(dayofyear)         0\n",
            "cos(dayofyear)         0\n",
            "dtype: int64\n",
            "store_id            0\n",
            "category_id         0\n",
            "onpromotion         0\n",
            "city                0\n",
            "store_type          0\n",
            "cluster             0\n",
            "holiday_type        0\n",
            "is_holiday          0\n",
            "year                0\n",
            "month               0\n",
            "dayofmonth          0\n",
            "dayofweek           0\n",
            "dayofyear           0\n",
            "weekofyear          0\n",
            "quarter             0\n",
            "is_month_start      0\n",
            "is_month_end        0\n",
            "is_quarter_start    0\n",
            "is_quarter_end      0\n",
            "is_year_start       0\n",
            "is_year_end         0\n",
            "year_weekofyear     0\n",
            "sin(dayofyear)      0\n",
            "cos(dayofyear)      0\n",
            "dtype: int64\n"
          ]
        }
      ],
      "source": [
        "print(train.isnull().sum())\n",
        "print(test.isnull().sum())"
      ]
    },
    {
      "cell_type": "markdown",
      "metadata": {
        "id": "sIWpPR144N0Q"
      },
      "source": [
        "# Exploratory Data Analysis: EDA"
      ]
    },
    {
      "cell_type": "markdown",
      "metadata": {
        "id": "RD0uSjg0Mcck"
      },
      "source": [
        "## Hypothesis Validation\n",
        "**H0**: holidays have a big effect on sales, hence the sales data is seasonal.\n",
        "\n",
        "**H1**: holidays don't affect sales, hence sales data is stationary."
      ]
    },
    {
      "cell_type": "code",
      "execution_count": 46,
      "metadata": {
        "colab": {
          "base_uri": "https://localhost:8080/",
          "height": 524
        },
        "id": "NeviX6Jfsd1o",
        "outputId": "c2326a52-5c2b-4468-d252-cc1732a24503"
      },
      "outputs": [
        {
          "output_type": "display_data",
          "data": {
            "text/plain": [
              "<Figure size 640x480 with 1 Axes>"
            ],
            "image/png": "[encoded data removed]"
          },
          "metadata": {}
        }
      ],
      "source": [
        "# Bar chart of sales by holiday type\n",
        "train.groupby('holiday_type')['target'].sum().plot(kind='bar')\n",
        "plt.xlabel('Holiday Type')\n",
        "plt.ylabel('Sales')\n",
        "plt.title('Total Sales by Holiday Type')\n",
        "plt.show()"
      ]
    },
    {
      "cell_type": "code",
      "execution_count": 47,
      "metadata": {
        "colab": {
          "base_uri": "https://localhost:8080/",
          "height": 552
        },
        "id": "ntlxx3X58KbB",
        "outputId": "7cebd60c-8ed5-4c27-9db6-61b9e392edc1"
      },
      "outputs": [
        {
          "output_type": "display_data",
          "data": {
            "text/plain": [
              "<Figure size 800x600 with 1 Axes>"
            ],
            "image/png": "[encoded data removed]"
          },
          "metadata": {}
        }
      ],
      "source": [
        "# Box plot of sales during holidays vs non-holidays\n",
        "train.boxplot(column='target', by='is_holiday', figsize=(8, 6))\n",
        "plt.xlabel('is_it_a_Holiday')\n",
        "plt.ylabel('Sales')\n",
        "plt.title('Sales During Holidays vs Non-Holidays')\n",
        "plt.suptitle('')\n",
        "plt.show()"
      ]
    },
    {
      "cell_type": "markdown",
      "metadata": {
        "id": "z6nLfhO94N0Q"
      },
      "source": [
        "## Answering Questions"
      ]
    },
    {
      "cell_type": "markdown",
      "metadata": {
        "id": "_6tpLgwhK20R"
      },
      "source": [
        "1. Is the train data complete?"
      ]
    },
    {
      "cell_type": "markdown",
      "metadata": {
        "id": "7Kf4QrNjLFSj"
      },
      "source": [
        "Yes. The output below shows that our train data is incomplete."
      ]
    },
    {
      "cell_type": "code",
      "execution_count": 48,
      "metadata": {
        "id": "ANRYdnp8wCxV"
      },
      "outputs": [],
      "source": [
        "# create a function to check for missing extracted dates\n",
        "def get_missing_dates(df):\n",
        "  col = df.index\n",
        "  missing_dates = (pd.date_range(\n",
        "\n",
        "      start=col.min(), #start date\n",
        "      end=col.max())   #end_date\n",
        "      .difference(col))\n",
        "  print(f\"we have {len(missing_dates)} dates missing out of {len(col)}\")\n",
        "  return missing_dates"
      ]
    },
    {
      "cell_type": "code",
      "execution_count": 49,
      "metadata": {
        "colab": {
          "base_uri": "https://localhost:8080/"
        },
        "id": "JTdaJT8wK4gb",
        "outputId": "c4939d69-2d8b-4348-9853-44306204c28b"
      },
      "outputs": [
        {
          "output_type": "stream",
          "name": "stdout",
          "text": [
            "we have 4 dates missing out of 2268486\n"
          ]
        },
        {
          "output_type": "execute_result",
          "data": {
            "text/plain": [
              "DatetimeIndex(['2001-12-25', '2002-12-25', '2003-12-25', '2004-02-29'], dtype='datetime64[ns]', freq=None)"
            ]
          },
          "metadata": {},
          "execution_count": 49
        }
      ],
      "source": [
        "get_missing_dates(train)"
      ]
    },
    {
      "cell_type": "code",
      "execution_count": 50,
      "metadata": {
        "id": "PoPh2HC1wCxY",
        "outputId": "fe1e9cf3-ca1a-452b-fb6d-1308177c8e04",
        "colab": {
          "base_uri": "https://localhost:8080/"
        }
      },
      "outputs": [
        {
          "output_type": "stream",
          "name": "stdout",
          "text": [
            "we have 0 dates missing out of 99792\n"
          ]
        },
        {
          "output_type": "execute_result",
          "data": {
            "text/plain": [
              "DatetimeIndex([], dtype='datetime64[ns]', freq=None)"
            ]
          },
          "metadata": {},
          "execution_count": 50
        }
      ],
      "source": [
        "get_missing_dates(test)"
      ]
    },
    {
      "cell_type": "markdown",
      "metadata": {
        "id": "ua7G3f6VK1hu"
      },
      "source": [
        "2. Do we have seasonality in our sales?"
      ]
    },
    {
      "cell_type": "code",
      "execution_count": 51,
      "metadata": {
        "id": "jNTmmpjQC9d2"
      },
      "outputs": [],
      "source": [
        "# Assuming your time series data is stored in the variable 'sales_data'\n",
        "sales_data = train['target']"
      ]
    },
    {
      "cell_type": "code",
      "execution_count": 52,
      "metadata": {
        "id": "7udcLL2CDLjy"
      },
      "outputs": [],
      "source": [
        "# Perform KPSS test\n",
        "kpss_result = kpss(sales_data)\n",
        "kpss_statistic = kpss_result[0]\n",
        "kpss_pvalue = kpss_result[1]\n",
        "kpss_critical_values = kpss_result[3]"
      ]
    },
    {
      "cell_type": "code",
      "execution_count": 53,
      "metadata": {
        "id": "OD16D9Ka_1DZ",
        "outputId": "1ba16f6c-c9e7-438e-e678-54dba2c61bd1",
        "colab": {
          "base_uri": "https://localhost:8080/"
        }
      },
      "outputs": [
        {
          "output_type": "stream",
          "name": "stdout",
          "text": [
            "\n",
            "KPSS Test:\n",
            "KPSS Statistic: 64.852344099289\n",
            "p-value: 0.01\n"
          ]
        }
      ],
      "source": [
        "print(\"\\nKPSS Test:\")\n",
        "print(\"KPSS Statistic:\", kpss_statistic)\n",
        "print(\"p-value:\", kpss_pvalue)"
      ]
    },
    {
      "cell_type": "markdown",
      "metadata": {
        "id": "_tP01NM6wCxb"
      },
      "source": [
        "stationary if p-value > 0.05\n",
        "\n",
        "series is stationary since 0.01 < 0.05"
      ]
    },
    {
      "cell_type": "code",
      "execution_count": null,
      "metadata": {
        "id": "C-k2e6-gDEZP"
      },
      "outputs": [],
      "source": [
        "def check_stationarity(df, date_col, target_col, window=12):\n",
        "    # Calculate rolling statistics\n",
        "    rolling_std = df[target_col].rolling(window=window).std()\n",
        "    rolling_mean = df[target_col].rolling(window=window).mean()\n",
        "\n",
        "    # Plot original series and rolling statistics\n",
        "    plt.figure(figsize=(10, 6))\n",
        "    plt.plot(df.index, df[target_col], color='blue', label='Original Series')\n",
        "    plt.plot(df.index, rolling_std, color='green', label='Rolling Std')\n",
        "    plt.plot(df.index, rolling_mean, color='red', label='Rolling Mean')\n",
        "    plt.legend()\n",
        "    plt.title('Rolling Statistics')\n",
        "    plt.xlabel('Date')\n",
        "    plt.ylabel('Target(sales)')\n",
        "    plt.tight_layout()  # Adjusts plot spacing\n",
        "    plt.show()\n",
        "\n",
        "# Example usage\n",
        "df = sales_data  # Assuming the sales data is stored in a dataframe called sales_data\n",
        "target_col = 'sales'  # Column containing the sales data\n",
        "\n",
        "check_stationarity(train, 'date_extracted', 'target')"
      ]
    },
    {
      "cell_type": "markdown",
      "metadata": {
        "id": "Va6nmkLbwCxc"
      },
      "source": [
        "### Checking for Stationarity of the Train Dataset"
      ]
    },
    {
      "cell_type": "code",
      "execution_count": null,
      "metadata": {
        "id": "NxunYNWbwCxc"
      },
      "outputs": [],
      "source": [
        "# Perform seasonal decomposition\n",
        "result = seasonal_decompose(train['target'], model='additive', period=12)  # Adjust the period as needed\n",
        "\n",
        "# Plot the decomposed components\n",
        "fig, (ax1, ax2, ax3, ax4) = plt.subplots(4, 1, figsize=(10, 8))\n",
        "result.observed.plot(ax=ax1)\n",
        "ax1.set_ylabel('Observed')\n",
        "result.trend.plot(ax=ax2)\n",
        "ax2.set_ylabel('Trend')\n",
        "result.seasonal.plot(ax=ax3)\n",
        "ax3.set_ylabel('Seasonal')\n",
        "result.resid.plot(ax=ax4)\n",
        "ax4.set_ylabel('Residual')\n",
        "plt.tight_layout()\n",
        "plt.show()"
      ]
    },
    {
      "cell_type": "markdown",
      "metadata": {
        "id": "3CmklbPFwCxc"
      },
      "source": [
        "Observed values: These are the actual values of the time series. They represent the data points that are observed or recorded over a period of time. In the context of sales data, the observed values would be the actual sales figures recorded at different time intervals.\n",
        "\n",
        "Trend: The trend component represents the long-term pattern or direction of the time series. It captures the underlying growth or decline in the data over an extended period. The trend component helps identify whether the series is increasing, decreasing, or remaining relatively stable over time.\n",
        "\n",
        "Seasonal: The seasonal component represents the periodic patterns or fluctuations that occur within a time series. It captures the regular and repetitive variations that happen within specific time periods, such as daily, weekly, monthly, or yearly cycles. In sales data, seasonal patterns may include higher sales during holiday seasons or lower sales during certain months of the year.\n",
        "\n",
        "Residual: The residual component, also known as the irregular or random component, represents the remaining variation in the time series after removing the trend and seasonal components. It includes any unpredictable or random fluctuations that are not accounted for by the trend or seasonal patterns. The residual component is often assumed to be noise or measurement error."
      ]
    },
    {
      "cell_type": "code",
      "execution_count": null,
      "metadata": {
        "id": "h53wr-0FwCxd"
      },
      "outputs": [],
      "source": [
        "def time_plot(data, y_col, title):\n",
        "    fig, ax = plt.subplots(figsize=(15,5))\n",
        "    data.resample('M')[y_col].sum().plot(ax=ax, color='mediumblue', label='Total Sales')\n",
        "    data.resample('M')[y_col].mean().plot(ax=ax, color='red', label='Mean Sales')\n",
        "\n",
        "    ax.set(xlabel=\"Date\",\n",
        "           ylabel=\"Sales\",\n",
        "           title=title)\n",
        "\n",
        "    ax.legend()\n",
        "    sns.despine()\n",
        "\n",
        "# Example usage with your specific details\n",
        "time_plot(train, 'target', 'Monthly Sales Over the Years')"
      ]
    },
    {
      "cell_type": "markdown",
      "metadata": {
        "id": "BRYQFGKGK0Ny"
      },
      "source": [
        "3. Are there outliers in our dataset?"
      ]
    },
    {
      "cell_type": "markdown",
      "metadata": {
        "id": "DO8E9bunKxvg"
      },
      "source": [
        "4. What is the difference between RMSLE, RMSE and MSE?"
      ]
    },
    {
      "cell_type": "markdown",
      "metadata": {
        "id": "S0ASY2Id4N0T"
      },
      "source": [
        "## Univariate Analysis"
      ]
    },
    {
      "cell_type": "markdown",
      "metadata": {
        "id": "lycj1Mjo4N0U"
      },
      "source": [
        "## Bivariate Analysis"
      ]
    },
    {
      "cell_type": "code",
      "execution_count": null,
      "metadata": {
        "id": "wPK3gua_wCxe"
      },
      "outputs": [],
      "source": [
        "# Calculate the correlation matrix\n",
        "correlation_matrix = train.corr()\n",
        "\n",
        "# Find the moderately correlated variables\n",
        "moderate_correlation = (correlation_matrix.abs() > 0.5) & (correlation_matrix != 1) & (correlation_matrix <0.8)\n",
        "\n",
        "# Get the variable pairs with moderate correlation\n",
        "moderate_correlation_pairs = [(i, j) for i in moderate_correlation.columns for j in moderate_correlation.columns if moderate_correlation.loc[i, j]]\n",
        "\n",
        "# Print the moderately correlated variables\n",
        "for pair in moderate_correlation_pairs:\n",
        "    var1, var2 = pair\n",
        "    correlation_value = correlation_matrix.loc[var1, var2]\n",
        "    print(f\"{var1} and {var2} are moderately correlated (correlation value: {correlation_value})\")"
      ]
    },
    {
      "cell_type": "markdown",
      "metadata": {
        "id": "tJyHn-cowCxe"
      },
      "source": [
        "These columns are all boolean, so let's look at others"
      ]
    },
    {
      "cell_type": "code",
      "execution_count": null,
      "metadata": {
        "id": "mRiodUOBwCxf"
      },
      "outputs": [],
      "source": [
        "# Set the threshold for high correlation\n",
        "threshold = 0.8\n",
        "\n",
        "# Find the highly correlated variables\n",
        "high_correlation = (correlation_matrix.abs() > threshold) & (correlation_matrix != 1)\n",
        "\n",
        "# Get the variable pairs with high correlation\n",
        "high_correlation_pairs = [(i, j) for i in high_correlation.columns for j in high_correlation.columns if high_correlation.loc[i, j]]\n",
        "\n",
        "# Print the highly correlated variables\n",
        "for pair in high_correlation_pairs:\n",
        "    var1, var2 = pair\n",
        "    correlation_value = correlation_matrix.loc[var1, var2]\n",
        "    print(f\"{var1} and {var2} are highly correlated (correlation value: {correlation_value})\")"
      ]
    },
    {
      "cell_type": "code",
      "execution_count": null,
      "metadata": {
        "id": "x6mAGzOQwCxf"
      },
      "outputs": [],
      "source": [
        "# Specify the column pairs and their correlation values\n",
        "column_pairs = [('year', 'year_weekofyear', 0.9884229388238451),\n",
        "                ('month', 'dayofyear', 0.9964919406599103),\n",
        "                ('month', 'weekofyear', 0.9658303008707717),\n",
        "                ('month', 'quarter', 0.9713815220940318),\n",
        "                ('dayofyear', 'month', 0.9964919406599103),\n",
        "                ('dayofyear', 'weekofyear', 0.9669203951023091),\n",
        "                ('dayofyear', 'quarter', 0.9685365398989686),\n",
        "                ('weekofyear', 'month', 0.9658303008707717),\n",
        "                ('weekofyear', 'dayofyear', 0.9669203951023091),\n",
        "                ('weekofyear', 'quarter', 0.9426460215490194),\n",
        "                ('quarter', 'month', 0.9713815220940318),\n",
        "                ('quarter', 'dayofyear', 0.9685365398989686),\n",
        "                ('quarter', 'weekofyear', 0.9426460215490194),\n",
        "                ('year_weekofyear', 'year', 0.9884229388238451)]\n",
        "\n",
        "# Create a grid layout for the scatter plots\n",
        "num_pairs = len(column_pairs)\n",
        "num_cols = 3  # Number of columns in the grid layout\n",
        "num_rows = (num_pairs + num_cols - 1) // num_cols  # Number of rows in the grid layout\n",
        "\n",
        "fig, axes = plt.subplots(num_rows, num_cols, figsize=(12, 12))\n",
        "\n",
        "# Create scatter plots for each column pair\n",
        "for i, pair in enumerate(column_pairs):\n",
        "    x_col, y_col, correlation_value = pair\n",
        "    row = i // num_cols\n",
        "    col = i % num_cols\n",
        "\n",
        "    # Select the appropriate subplot for the scatter plot\n",
        "    ax = axes[row, col] if num_rows > 1 else axes[col]\n",
        "\n",
        "    # Create the scatter plot\n",
        "    ax.scatter(train[x_col], train[y_col], alpha=0.5)\n",
        "    ax.set_xlabel(x_col)\n",
        "    ax.set_ylabel(y_col)\n",
        "    ax.set_title(f\"Scatter plot: {x_col} vs {y_col}\\nCorrelation value: {correlation_value:.4f}\")\n",
        "\n",
        "# Adjust the spacing between subplots\n",
        "fig.tight_layout()\n",
        "\n",
        "# Display the grid of scatter plots\n",
        "plt.show()"
      ]
    },
    {
      "cell_type": "markdown",
      "metadata": {
        "id": "4REztMBZwCxg"
      },
      "source": [
        "Let's leave these because more date_features will help our ML models accuracy in this case"
      ]
    },
    {
      "cell_type": "code",
      "execution_count": null,
      "metadata": {
        "id": "hj467jzvwCxg"
      },
      "outputs": [],
      "source": [
        "# First format how figures apper in the notebook\n",
        "pd.options.display.float_format = '{:.2f}'.format"
      ]
    },
    {
      "cell_type": "markdown",
      "metadata": {
        "id": "zw7mk8XZwCxg"
      },
      "source": [
        "**Summary of Our Sales and Number of Transactions**"
      ]
    },
    {
      "cell_type": "code",
      "execution_count": null,
      "metadata": {
        "id": "-7impM6twCxg"
      },
      "outputs": [],
      "source": [
        "# Calculate summary statistics\n",
        "summary_stats = train[['target', 'nbr_of_transactions']].describe()\n",
        "print(summary_stats)"
      ]
    },
    {
      "cell_type": "markdown",
      "metadata": {
        "id": "mK0Iv_5ewCxh"
      },
      "source": [
        "**Histogram of Sales**"
      ]
    },
    {
      "cell_type": "code",
      "execution_count": null,
      "metadata": {
        "id": "mJehPW97wCxh"
      },
      "outputs": [],
      "source": [
        "# Histogram of 'target'\n",
        "train['target'].plot(kind='hist')\n",
        "plt.xlabel('Target')\n",
        "plt.ylabel('Frequency')\n",
        "plt.title('Distribution of Target')\n",
        "plt.show()"
      ]
    },
    {
      "cell_type": "markdown",
      "metadata": {
        "id": "WfeEDlkgwCxh"
      },
      "source": [
        "**Correlation Between Sales and number of Transactions**"
      ]
    },
    {
      "cell_type": "code",
      "execution_count": null,
      "metadata": {
        "id": "W3CGx0_MwCxi"
      },
      "outputs": [],
      "source": [
        "# Correlation matrix\n",
        "corr_matrix = train[['target', 'nbr_of_transactions']].corr()\n",
        "print(corr_matrix)\n",
        "\n",
        "# Scatter plot\n",
        "plt.scatter(train['target'], train['nbr_of_transactions'])\n",
        "plt.xlabel('Target')\n",
        "plt.ylabel('Number of Transactions')\n",
        "plt.title('Scatter Plot of Target vs Number of Transactions')\n",
        "plt.show()"
      ]
    },
    {
      "cell_type": "markdown",
      "metadata": {
        "id": "Z_mRNrS7wCxi"
      },
      "source": [
        "The correlation coefficient between 'target' and 'nbr_of_transactions' is 0.24. This indicates a positive correlation between the two variables, but the correlation is relatively weak.\n",
        "\n",
        "It suggests that there is a weak tendency for the 'target' and 'nbr_of_transactions' to increase together, but the relationship is not very strong.\n",
        "\n",
        "Therefore, based on the correlation coefficient of 0.24, there is a weak positive correlation between the 'target' and 'nbr_of_transactions' columns in our dataset."
      ]
    },
    {
      "cell_type": "markdown",
      "metadata": {
        "id": "sDrRFyICwCxi"
      },
      "source": [
        "**Observing Sales over time**"
      ]
    },
    {
      "cell_type": "code",
      "execution_count": null,
      "metadata": {
        "id": "k4tXhgijwCxi"
      },
      "outputs": [],
      "source": [
        "# Line plot of sales over time\n",
        "train['target'].plot()\n",
        "plt.xlabel('Date')\n",
        "plt.ylabel('Sales')\n",
        "plt.title('Sales Over Time')\n",
        "plt.show()"
      ]
    },
    {
      "cell_type": "code",
      "execution_count": null,
      "metadata": {
        "id": "oosP2Ux-wCxj"
      },
      "outputs": [],
      "source": [
        "# Resample the data by day and calculate the total sales for each day\n",
        "sales_daily = train['target'].resample('D').sum()\n",
        "\n",
        "# Create a line plot of the \"sales\" column\n",
        "plt.plot(sales_daily.index, sales_daily)\n",
        "\n",
        "# Set the title and axis labels\n",
        "plt.title(\"Total Sales by Day\")\n",
        "plt.xlabel(\"Date\")\n",
        "plt.ylabel(\"Total Sales\")\n",
        "\n",
        "# Display the plot\n",
        "plt.show()"
      ]
    },
    {
      "cell_type": "markdown",
      "metadata": {
        "id": "7E5g5gBkwCxj"
      },
      "source": [
        "**Holiday Impact on Sales**"
      ]
    },
    {
      "cell_type": "code",
      "execution_count": null,
      "metadata": {
        "id": "-8IfA3j-wCxj"
      },
      "outputs": [],
      "source": [
        "# Bar chart of sales by holiday type\n",
        "train.groupby('holiday_type')['target'].sum().plot(kind='bar')\n",
        "plt.xlabel('Holiday Type')\n",
        "plt.ylabel('Sales')\n",
        "plt.title('Total Sales by Holiday Type')\n",
        "plt.show()"
      ]
    },
    {
      "cell_type": "code",
      "execution_count": null,
      "metadata": {
        "id": "3VV6Ls5owCxk"
      },
      "outputs": [],
      "source": [
        "# Box plot of sales during holidays vs non-holidays\n",
        "train.boxplot(column='target', by='is_holiday', figsize=(8, 6))\n",
        "plt.xlabel('is_it_a_Holiday')\n",
        "plt.ylabel('Sales')\n",
        "plt.title('Sales During Holidays vs Non-Holidays')\n",
        "plt.suptitle('')\n",
        "plt.show()"
      ]
    },
    {
      "cell_type": "markdown",
      "metadata": {
        "id": "K6EspfyVwCxk"
      },
      "source": [
        "**Stores Performance**"
      ]
    },
    {
      "cell_type": "code",
      "execution_count": null,
      "metadata": {
        "id": "wIZaL7XjwCxk"
      },
      "outputs": [],
      "source": [
        "# Bar chart of sales by store\n",
        "train.groupby('store_id')['target'].sum().plot(kind='bar')\n",
        "plt.xlabel('Store ID')\n",
        "plt.ylabel('Sales')\n",
        "plt.title('Total Sales by Store')\n",
        "plt.show()"
      ]
    },
    {
      "cell_type": "code",
      "execution_count": null,
      "metadata": {
        "id": "qCT_aXEmwCxl"
      },
      "outputs": [],
      "source": [
        "# Bar chart of sales by category\n",
        "train.groupby('category_id')['target'].sum().plot(kind='bar')\n",
        "plt.xlabel('Category ID')\n",
        "plt.ylabel('Sales')\n",
        "plt.title('Total Sales by Category')\n",
        "plt.show()"
      ]
    },
    {
      "cell_type": "markdown",
      "metadata": {
        "id": "xRCbIXRWwCxl"
      },
      "source": [
        "**Promotion Analysis**"
      ]
    },
    {
      "cell_type": "code",
      "execution_count": null,
      "metadata": {
        "id": "Fumn6KKwwCxl"
      },
      "outputs": [],
      "source": [
        "# Separate data for promotion and non-promotion\n",
        "promotion_data = train[train['onpromotion'] == 1]\n",
        "non_promotion_data = train[train['onpromotion'] == 0]\n",
        "\n",
        "# Calculate average sales per day for promotion and non-promotion\n",
        "promotion_avg_sales = promotion_data.groupby(promotion_data.index)['target'].mean()\n",
        "non_promotion_avg_sales = non_promotion_data.groupby(non_promotion_data.index)['target'].mean()\n",
        "\n",
        "# Line plot of average sales with and without promotion\n",
        "plt.plot(promotion_avg_sales.index, promotion_avg_sales, label='Promotion', color='blue')\n",
        "plt.plot(non_promotion_avg_sales.index, non_promotion_avg_sales, label='No Promotion', color='red')\n",
        "plt.xlabel('Date')\n",
        "plt.ylabel('Average Sales')\n",
        "plt.title('Average Sales with and without Promotion Over Time')\n",
        "plt.legend()\n",
        "plt.show()"
      ]
    },
    {
      "cell_type": "markdown",
      "metadata": {
        "id": "gCloBhx4wCxm"
      },
      "source": [
        "**Monthly Statistics**"
      ]
    },
    {
      "cell_type": "code",
      "execution_count": null,
      "metadata": {
        "id": "NRbIqlhlwCxm"
      },
      "outputs": [],
      "source": [
        "# Filter data for the period from 2001 to 2003\n",
        "# sales_2001_to_2003 = train['2001':'2003']\n",
        "\n",
        "# Group by month and calculate sum of sales\n",
        "monthly_sales = train.groupby(train.index.month)['target'].sum()\n",
        "\n",
        "# Find the month with the highest sales\n",
        "highest_sales_month = monthly_sales.idxmax()\n",
        "\n",
        "# Print the month with the highest sales\n",
        "print(\"The month with the highest sales is:\", highest_sales_month)"
      ]
    },
    {
      "cell_type": "code",
      "execution_count": null,
      "metadata": {
        "id": "O06vOQhfwCxo"
      },
      "outputs": [],
      "source": [
        "# Filter data for the period from 2001 to 2003\n",
        "# sales_2001_to_2003 = train['2001':'2003']\n",
        "\n",
        "# Group by month and calculate sum of sales\n",
        "monthly_sales = train.groupby(train.index.month)['target'].sum()\n",
        "\n",
        "# Find the month with the lowest sales\n",
        "lowest_sales_month = monthly_sales.idxmin()\n",
        "\n",
        "# Print the month with the lowest sales\n",
        "print(\"The month with the lowest sales is:\", lowest_sales_month)"
      ]
    },
    {
      "cell_type": "code",
      "execution_count": null,
      "metadata": {
        "id": "jJBqCoOcwCxp"
      },
      "outputs": [],
      "source": [
        "# Resample to monthly frequency and calculate sum of sales\n",
        "monthly_sales = train['target'].resample('M').sum()\n",
        "\n",
        "# Plot the monthly sales data\n",
        "monthly_sales.plot()\n",
        "plt.xlabel('Date')\n",
        "plt.ylabel('Sales')\n",
        "plt.title('Monthly Sales Over the Years')\n",
        "plt.show()"
      ]
    },
    {
      "cell_type": "markdown",
      "metadata": {
        "id": "lQyOpX6dM6Ig"
      },
      "source": [
        "## Multivariate Analysis"
      ]
    },
    {
      "cell_type": "markdown",
      "metadata": {
        "id": "6GmpRhjT4N0V"
      },
      "source": [
        "# Feature Engineering"
      ]
    },
    {
      "cell_type": "markdown",
      "metadata": {
        "id": "nDXigCJl4N0V"
      },
      "source": [
        "## Creating New Features"
      ]
    },
    {
      "cell_type": "code",
      "execution_count": null,
      "metadata": {
        "id": "ZnnEQBN9HfL3"
      },
      "outputs": [],
      "source": [
        "def getDateFeatures(df):\n",
        "\n",
        "    df[\"is_weekend\"] = df[\"dayofweek\"] > 4\n",
        "\n",
        "    # Define the criteria for each season\n",
        "    seasons = {'Winter': [12, 1, 2], 'Spring': [3, 4, 5], 'Summer': [6, 7, 8], 'Autumn': [9, 10, 11]}\n",
        "\n",
        "    # Create the 'season' column based on the 'date' column\n",
        "    df['season'] = df[\"month\"].map({month: season for season, months in seasons.items() for month in months})\n",
        "\n",
        "    return df"
      ]
    },
    {
      "cell_type": "code",
      "execution_count": null,
      "metadata": {
        "id": "qBC3kYEiHkEA"
      },
      "outputs": [],
      "source": [
        "getDateFeatures(train)\n",
        "getDateFeatures(test)"
      ]
    },
    {
      "cell_type": "markdown",
      "metadata": {
        "id": "3FVGY23N4N0c"
      },
      "source": [
        "## Features Encoding & scaling"
      ]
    },
    {
      "cell_type": "code",
      "execution_count": null,
      "metadata": {
        "id": "Ub1-OAYM4N0d"
      },
      "outputs": [],
      "source": [
        "numeric_columns = train.select_dtypes(include=['int64', 'float64']).columns.tolist()\n",
        "categoric_columns = train.select_dtypes(include=['object', 'category']).columns.tolist()"
      ]
    },
    {
      "cell_type": "code",
      "execution_count": null,
      "metadata": {
        "id": "_Tv6yroc4N0d"
      },
      "outputs": [],
      "source": [
        "numeric_columns.remove('target')\n",
        "numeric_columns.remove('nbr_of_transactions')\n",
        "print(numeric_columns)"
      ]
    },
    {
      "cell_type": "code",
      "execution_count": null,
      "metadata": {
        "id": "VYA-XIKY4N0d"
      },
      "outputs": [],
      "source": [
        "encoder = BinaryEncoder(drop_invariant=False, return_df=True,)\n",
        "encoder.fit(train[categoric_columns])"
      ]
    },
    {
      "cell_type": "code",
      "execution_count": null,
      "metadata": {
        "id": "SisH2rrw4N0e"
      },
      "outputs": [],
      "source": [
        "scaler = StandardScaler()\n",
        "scaler.set_output(transform=\"pandas\")\n",
        "scaler.fit(train[numeric_columns])"
      ]
    },
    {
      "cell_type": "code",
      "execution_count": null,
      "metadata": {
        "id": "kM4aITtn4N0e"
      },
      "outputs": [],
      "source": [
        "# import pickle\n",
        "\n",
        "# with open('encoder.pkl', 'wb') as f:\n",
        "#     pickle.dump(encoder, f)\n",
        "\n",
        "# with open('scaler.pkl', 'wb') as f:\n",
        "#     pickle.dump(scaler, f)"
      ]
    },
    {
      "cell_type": "code",
      "execution_count": null,
      "metadata": {
        "id": "tVyirQUMwCxz"
      },
      "outputs": [],
      "source": [
        "scaled_num = scaler.transform(train[numeric_columns])\n",
        "scaled_num_test = scaler.transform(test[numeric_columns])"
      ]
    },
    {
      "cell_type": "code",
      "execution_count": null,
      "metadata": {
        "id": "esOeOTQ1wCx0"
      },
      "outputs": [],
      "source": [
        "encoded_cat = encoder.transform(train[categoric_columns])\n",
        "encoded_cat_test = encoder.transform(test[categoric_columns])"
      ]
    },
    {
      "cell_type": "code",
      "execution_count": null,
      "metadata": {
        "id": "6C2kf5Zs4N0f"
      },
      "outputs": [],
      "source": [
        "train = pd.concat([scaled_num, encoded_cat, train['target']], axis=1)\n",
        "test = pd.concat([scaled_num_test, encoded_cat_test], axis=1)"
      ]
    },
    {
      "cell_type": "markdown",
      "metadata": {
        "id": "Gxw32giCwCxt"
      },
      "source": [
        "## Resampling"
      ]
    },
    {
      "cell_type": "code",
      "execution_count": null,
      "metadata": {
        "id": "G80z4W0iwCxu"
      },
      "outputs": [],
      "source": [
        "resampled = train.resample('W').sum()\n",
        "resampled_test = test.resample('W').sum()\n",
        "train = resampled\n",
        "test = resampled_test"
      ]
    },
    {
      "cell_type": "markdown",
      "metadata": {
        "id": "aSoVN4uPwCxr"
      },
      "source": [
        "**dataframe for the traditional time series models**"
      ]
    },
    {
      "cell_type": "code",
      "execution_count": null,
      "metadata": {
        "id": "47I8fEFFwCxr"
      },
      "outputs": [],
      "source": [
        "train1 = train[['target']].copy()"
      ]
    },
    {
      "cell_type": "code",
      "execution_count": null,
      "metadata": {
        "id": "r2vwMRYgwCxs"
      },
      "outputs": [],
      "source": [
        "train1.head()"
      ]
    },
    {
      "cell_type": "code",
      "execution_count": null,
      "metadata": {
        "id": "VbKNe5Cg4N0g"
      },
      "outputs": [],
      "source": [
        "# trainn, evall = train[172:], train[:172]"
      ]
    },
    {
      "cell_type": "code",
      "execution_count": null,
      "metadata": {
        "id": "7fMYBWHB4N0g"
      },
      "outputs": [],
      "source": [
        "# Split data into parts\n",
        "x = train.drop(['target'], axis = 1)\n",
        "y = train['target']"
      ]
    },
    {
      "cell_type": "code",
      "execution_count": null,
      "metadata": {
        "id": "JWK1I8PBwCx2"
      },
      "outputs": [],
      "source": [
        "len(train)-len(test)"
      ]
    },
    {
      "cell_type": "code",
      "execution_count": null,
      "metadata": {
        "id": "oeHRmt8n4N0h"
      },
      "outputs": [],
      "source": [
        "# Split data into Train Test\n",
        "X_train, X_test, y_train, y_test = x[172:], x[:172], y[172:], y[:172]"
      ]
    },
    {
      "cell_type": "code",
      "source": [
        "x.columns"
      ],
      "metadata": {
        "id": "3tmxV0h25psb"
      },
      "execution_count": null,
      "outputs": []
    },
    {
      "cell_type": "markdown",
      "metadata": {
        "id": "kpll6xDz4N0h"
      },
      "source": [
        "# Machine Learning Modeling"
      ]
    },
    {
      "cell_type": "markdown",
      "metadata": {
        "id": "f7ET9HZfwCx7"
      },
      "source": [
        "# Traditional Machine Learning Models"
      ]
    },
    {
      "cell_type": "markdown",
      "metadata": {
        "id": "n5MMmgT3wCx8"
      },
      "source": [
        "## AR"
      ]
    },
    {
      "cell_type": "code",
      "execution_count": null,
      "metadata": {
        "id": "IpCYWK32wCx9"
      },
      "outputs": [],
      "source": [
        "xx=train1['target']\n",
        "x_train, x_test = xx[:172], xx[172:]\n",
        "print(f'train len: {len(x_train)}, test len: {len(x_test)}')"
      ]
    },
    {
      "cell_type": "code",
      "execution_count": null,
      "metadata": {
        "id": "hgnwDqnSwCyF"
      },
      "outputs": [],
      "source": [
        "pacf = plot_pacf(x_train,lags = 20)"
      ]
    },
    {
      "cell_type": "code",
      "execution_count": null,
      "metadata": {
        "id": "Ya0A53ZJwCyG"
      },
      "outputs": [],
      "source": [
        "armodel = AutoReg(x_train, lags = 3).fit()"
      ]
    },
    {
      "cell_type": "code",
      "execution_count": null,
      "metadata": {
        "id": "Aiyc-EjywCyG"
      },
      "outputs": [],
      "source": [
        "pred = armodel.predict(\n",
        "    start=len(x_train),\n",
        "    end=len(x)-1,\n",
        "    dynamic = False\n",
        ")\n",
        "pred"
      ]
    },
    {
      "cell_type": "code",
      "execution_count": null,
      "metadata": {
        "id": "TNVas53mwCyH"
      },
      "outputs": [],
      "source": [
        "plt.plot(pred)\n",
        "plt.plot(x_test, color='red')"
      ]
    },
    {
      "cell_type": "code",
      "execution_count": null,
      "metadata": {
        "id": "akwiYH2LwCyH"
      },
      "outputs": [],
      "source": [
        "mse = mean_squared_error(x_test, pred )\n",
        "msle = mean_squared_log_error(x_test, pred)\n",
        "rmse = np.sqrt(mean_squared_error(x_test, pred )).round(2)\n",
        "rmsle = np.sqrt(mean_squared_log_error(x_test, pred)).round(5)\n",
        "\n",
        "# model_results = pd.DataFrame([['lightGBM', mse, rmse]], columns = ['Model', 'MSE', 'RMSE'])\n",
        "results = pd.DataFrame([['AR', mse, msle, rmse, rmsle]], columns = ['Model', 'MSE', 'MSLE', 'RMSE', 'RMSLE'])\n",
        "# results = results.append(model_results, ignore_index = True)\n",
        "results"
      ]
    },
    {
      "cell_type": "markdown",
      "metadata": {
        "id": "cYNtBVQewCyJ"
      },
      "source": [
        "## ARIMA"
      ]
    },
    {
      "cell_type": "code",
      "execution_count": null,
      "metadata": {
        "id": "tfa_qfkewCyK"
      },
      "outputs": [],
      "source": [
        "stepwise_fit = auto_arima(x_train, trace = True, suppress_warnings = True)\n",
        "stepwise_fit.summary()"
      ]
    },
    {
      "cell_type": "code",
      "execution_count": null,
      "metadata": {
        "id": "baZ88R8LwCyL"
      },
      "outputs": [],
      "source": [
        "model = ARIMA(x_train, order=(2,1,2))\n",
        "model_fit = model.fit()\n",
        "model_fit.summary()"
      ]
    },
    {
      "cell_type": "code",
      "execution_count": null,
      "metadata": {
        "id": "sX6m5p1NwCyL"
      },
      "outputs": [],
      "source": [
        "# Make predictions on the test data\n",
        "ARIMA_pred = model_fit.predict(\n",
        "    start=len(x_train),\n",
        "    end=len(x)-1,\n",
        "    typ=\"levels\")\n",
        "ARIMA_pred"
      ]
    },
    {
      "cell_type": "code",
      "execution_count": null,
      "metadata": {
        "id": "EJ7ZNQBZwCyL"
      },
      "outputs": [],
      "source": [
        "plt.plot(ARIMA_pred)\n",
        "plt.plot(x_test, color='red')"
      ]
    },
    {
      "cell_type": "code",
      "execution_count": null,
      "metadata": {
        "id": "EuW1MiDXwCyM"
      },
      "outputs": [],
      "source": [
        "# Evaluate our models\n",
        "mse = mean_squared_error(x_test, ARIMA_pred)\n",
        "msle = mean_squared_log_error(x_test, ARIMA_pred)\n",
        "rmse = np.sqrt(mean_squared_error(x_test, ARIMA_pred )).round(2)\n",
        "rmsle = np.sqrt(mean_squared_log_error(x_test, ARIMA_pred)).round(2)\n",
        "\n",
        "model_results = pd.DataFrame([['ARIMA', mse, msle, rmse, rmsle]], columns = ['Model', 'MSE', 'MSLE', 'RMSE', 'RMSLE'])\n",
        "results = results.append(model_results, ignore_index = True)\n",
        "results"
      ]
    },
    {
      "cell_type": "markdown",
      "metadata": {
        "id": "UBI6QpaawCyM"
      },
      "source": [
        "## SARIMA"
      ]
    },
    {
      "cell_type": "code",
      "execution_count": null,
      "metadata": {
        "id": "f76Wa5sMwCyM"
      },
      "outputs": [],
      "source": [
        "model = SARIMAX(x_train, order=(2, 1, 2), seasonal_order=(0,0,0,0))\n",
        "model_fit = model.fit()\n",
        "model_fit.summary()"
      ]
    },
    {
      "cell_type": "code",
      "execution_count": null,
      "metadata": {
        "id": "pbBg_qhAwCyM"
      },
      "outputs": [],
      "source": [
        "# Make predictions on the test data\n",
        "SARIMA_pred = model_fit.predict(\n",
        "    start=len(x_train),\n",
        "    end=len(x)-1,\n",
        "    typ=\"levels\")\n",
        "SARIMA_pred"
      ]
    },
    {
      "cell_type": "code",
      "execution_count": null,
      "metadata": {
        "id": "07ZspNbkwCyN"
      },
      "outputs": [],
      "source": [
        "plt.plot(SARIMA_pred)\n",
        "plt.plot(x_test, color='red')"
      ]
    },
    {
      "cell_type": "code",
      "execution_count": null,
      "metadata": {
        "id": "Veomuk1UwCyN"
      },
      "outputs": [],
      "source": [
        "# Evaluate our models\n",
        "mse = mean_squared_error(x_test, SARIMA_pred)\n",
        "msle = mean_squared_log_error(x_test, SARIMA_pred)\n",
        "rmse = np.sqrt(mean_squared_error(x_test, SARIMA_pred )).round(2)\n",
        "rmsle = np.sqrt(mean_squared_log_error(x_test, SARIMA_pred)).round(2)\n",
        "\n",
        "model_results = pd.DataFrame([['SARIMA', mse, msle, rmse, rmsle]], columns = ['Model', 'MSE', 'MSLE', 'RMSE', 'RMSLE'])\n",
        "results = results.append(model_results, ignore_index = True)\n",
        "results"
      ]
    },
    {
      "cell_type": "markdown",
      "metadata": {
        "id": "3twW92LiwCyO"
      },
      "source": [
        "## Backtest for Classical Models"
      ]
    },
    {
      "cell_type": "code",
      "execution_count": null,
      "metadata": {
        "id": "nsvzOr8WwCyO"
      },
      "outputs": [],
      "source": [
        "backtests = {\n",
        "    1: ('2004-04-17', '2004-06-05'),\n",
        "    2: ('2004-04-24', '2004-06-12'),\n",
        "    3: ('2004-05-01', '2004-06-19')\n",
        "}"
      ]
    },
    {
      "cell_type": "code",
      "execution_count": null,
      "metadata": {
        "id": "Np9tCa1WwCyO"
      },
      "outputs": [],
      "source": [
        "scores = {}\n",
        "\n",
        "for idx, period in enumerate(backtests):\n",
        "    _train = train1.reset_index()[train1.reset_index()['date_extracted'] < backtests[period][0]]\n",
        "    _test = train1.reset_index()[(train1.reset_index()['date_extracted'] >= backtests[period][0]) & (train1.reset_index()['date_extracted'] <= backtests[period][1])]\n",
        "\n",
        "    Xtrain = _train.target.values\n",
        "    Xtest = _test.target.values\n",
        "\n",
        "    model = ARIMA(Xtrain, order=(2, 1, 2))\n",
        "    model_fit = model.fit()  # Fit the ARIMA model to the training data\n",
        "    ypred = model_fit.predict(start=len(_train), end=len(_train) + len(_test) - 1, typ=\"levels\")\n",
        "\n",
        "    scores[period] = np.sqrt(mean_squared_error(Xtest, ypred))\n",
        "\n",
        "print(scores)\n"
      ]
    },
    {
      "cell_type": "markdown",
      "metadata": {
        "id": "--b5dI1L4N0h"
      },
      "source": [
        "# Non-Traditional Time Series Models"
      ]
    },
    {
      "cell_type": "markdown",
      "metadata": {
        "id": "p-MG5g2V4N0h"
      },
      "source": [
        "### DecisionTreeRegressor"
      ]
    },
    {
      "cell_type": "code",
      "execution_count": null,
      "metadata": {
        "id": "7jV3ZqL64N0i"
      },
      "outputs": [],
      "source": [
        "from sklearn.tree import DecisionTreeRegressor\n",
        "tree = DecisionTreeRegressor()\n",
        "model_tree = tree.fit(X_train, y_train)\n",
        "\n",
        "# Make prediction on X_test\n",
        "tree_pred = model_tree.predict(X_test)"
      ]
    },
    {
      "cell_type": "code",
      "execution_count": null,
      "metadata": {
        "id": "Hk1yTop04N0i"
      },
      "outputs": [],
      "source": [
        "# feature importance for decision tree\n",
        "plt.figure(figsize=(12,7))\n",
        "plt.barh(X_train.columns, model_tree.feature_importances_)"
      ]
    },
    {
      "cell_type": "code",
      "execution_count": null,
      "metadata": {
        "id": "FGVD4sAy4N0i"
      },
      "outputs": [],
      "source": [
        "plt.figure(figsize=(8,4))\n",
        "plt.plot(y_test, label ='Actual Sales')\n",
        "plt.plot(tree_pred, label='DecisionTreeRegressor')\n",
        "plt.legend(loc='best')\n",
        "plt.title('DecisionTreeRegressor Prediction')\n",
        "plt.show()"
      ]
    },
    {
      "cell_type": "code",
      "execution_count": null,
      "metadata": {
        "id": "yRIq48Od4N0j"
      },
      "outputs": [],
      "source": [
        "mse = mean_squared_error(y_test, tree_pred )\n",
        "rmse = np.sqrt(mean_squared_error(y_test, tree_pred )).round(2)\n",
        "rmsle = np.sqrt(mean_squared_log_error(y_test, tree_pred)).round(2)\n",
        "msle = mean_squared_log_error(y_test, tree_pred).round(2)\n",
        "\n",
        "\n",
        "results = pd.DataFrame([['DecisionTree', mse, msle, rmse, rmsle]], columns = ['Model', 'MSE', 'MSLE', 'RMSE', 'RMSLE'])\n",
        "# results = results.append(model_results, ignore_index = True)\n",
        "results"
      ]
    },
    {
      "cell_type": "markdown",
      "metadata": {
        "id": "M_f0-Hnr4N0j"
      },
      "source": [
        "### KNN"
      ]
    },
    {
      "cell_type": "code",
      "execution_count": null,
      "metadata": {
        "id": "03R8eIEg4N0k"
      },
      "outputs": [],
      "source": [
        "from sklearn.neighbors import KNeighborsRegressor\n",
        "neigh = KNeighborsRegressor(n_neighbors=1)\n",
        "# fit model no training data\n",
        "neigh.fit(X_train, y_train)\n",
        "\n",
        "# make predictions for test data\n",
        "neigh_pred = neigh.predict(X_test)"
      ]
    },
    {
      "cell_type": "code",
      "execution_count": null,
      "metadata": {
        "id": "ORSI8VNk4N0k"
      },
      "outputs": [],
      "source": [
        "mse = mean_squared_error(y_test, neigh_pred )\n",
        "msle = mean_squared_log_error(y_test, neigh_pred)\n",
        "rmse = np.sqrt(mean_squared_error(y_test, neigh_pred )).round(2)\n",
        "rmsle = np.sqrt(mean_squared_log_error(y_test, neigh_pred)).round(5)\n",
        "\n",
        "# model_results = pd.DataFrame([['lightGBM', mse, rmse]], columns = ['Model', 'MSE', 'RMSE'])\n",
        "model_results = pd.DataFrame([['KNN', mse, msle, rmse, rmsle]], columns = ['Model', 'MSE', 'MSLE', 'RMSE', 'RMSLE'])\n",
        "results = results.append(model_results, ignore_index = True)\n",
        "results"
      ]
    },
    {
      "cell_type": "markdown",
      "metadata": {
        "id": "px5fQiLs4N0k"
      },
      "source": [
        "# Models Comparison"
      ]
    },
    {
      "cell_type": "markdown",
      "metadata": {
        "id": "pqIJI8kx4N0l"
      },
      "source": [
        "# Model Evaluation (Backtests)"
      ]
    },
    {
      "cell_type": "code",
      "execution_count": null,
      "metadata": {
        "id": "llWmEqcz4N0l"
      },
      "outputs": [],
      "source": [
        "backtests = {m\n",
        "    1: ('2017-07-01', '2017-07-15'),\n",
        "    2: ('2017-07-15', '2017-07-30'),\n",
        "    3: ('2017-08-01', '2017-08-15')\n",
        "}"
      ]
    },
    {
      "cell_type": "code",
      "execution_count": null,
      "metadata": {
        "id": "bJzyU-dP4N0l"
      },
      "outputs": [],
      "source": [
        "# Backtests with Decision Tree\n",
        "scores = {}\n",
        "\n",
        "for idx, period in enumerate(backtests):\n",
        "\n",
        "    _train = trainn.reset_index()[trainn.reset_index()['date'] < backtests[period][0]]\n",
        "    _test = trainn.reset_index()[(trainn.reset_index()['date'] >= backtests[period][0]) & (trainn.reset_index()['date'] <= backtests[period][1])]\n",
        "\n",
        "    Xtrain, ytrain = _train.set_index(['date']).drop(columns=['sales']).values, _train.sales.values\n",
        "    Xtest, ytest = _test.set_index(['date']).drop(columns=['sales']).values, _test.sales.values\n",
        "\n",
        "    lgbm_model = DecisionTreeRegressor().fit(Xtrain, ytrain)\n",
        "\n",
        "    ypred = lgbm_model.predict(Xtest)\n",
        "\n",
        "    scores[period] = np.sqrt(mean_squared_log_error(ytest, ypred))\n",
        "\n",
        "print(scores)"
      ]
    },
    {
      "cell_type": "code",
      "execution_count": null,
      "metadata": {
        "id": "m2xkF2LZ4N0l"
      },
      "outputs": [],
      "source": [
        "# Split data into parts\n",
        "x = evall.drop(['sales'], axis = 1)\n",
        "y = evall['sales']"
      ]
    },
    {
      "cell_type": "code",
      "execution_count": null,
      "metadata": {
        "id": "O420mntK4N0m"
      },
      "outputs": [],
      "source": [
        "# Make prediction on X_test\n",
        "tree_pred = neigh.predict(x)"
      ]
    },
    {
      "cell_type": "code",
      "execution_count": null,
      "metadata": {
        "id": "WmJ-YyPA4N0m"
      },
      "outputs": [],
      "source": [
        "mse = mean_squared_error(y, tree_pred )\n",
        "rmse = np.sqrt(mean_squared_error(y, tree_pred )).round(2)\n",
        "rmsle = np.sqrt(mean_squared_log_error(y, tree_pred)).round(6)\n",
        "msle = mean_squared_log_error(y, tree_pred).round(2)\n",
        "\n",
        "\n",
        "results = pd.DataFrame([['DecisionTree', mse, msle, rmse, rmsle]], columns = ['Model', 'MSE', 'MSLE', 'RMSE', 'RMSLE'])\n",
        "results"
      ]
    },
    {
      "cell_type": "markdown",
      "metadata": {
        "id": "lfuyZwMQ4N0p"
      },
      "source": [
        "### predicting sales in our test"
      ]
    },
    {
      "cell_type": "code",
      "execution_count": null,
      "metadata": {
        "id": "VdiY19CV4N0q"
      },
      "outputs": [],
      "source": [
        "# test_pred = armodel.predict(merged3_test_resampled)\n",
        "test_pred = armodel.predict(\n",
        "    start=len(x),\n",
        "    end=len(x)+ len(test_date) -1,\n",
        "    dynamic=False\n",
        ")\n",
        "test_pred[np.isnan(test_pred)] = 0\n",
        "test_pred"
      ]
    },
    {
      "cell_type": "code",
      "execution_count": null,
      "metadata": {
        "id": "ITLT-LuC4N0r"
      },
      "outputs": [],
      "source": [
        "test_sales = pd.DataFrame(test_pred, columns=['sales'])\n",
        "test_sales.head(30)"
      ]
    },
    {
      "cell_type": "code",
      "execution_count": null,
      "metadata": {
        "id": "_9M_q1aq4N0r"
      },
      "outputs": [],
      "source": [
        "# Save sample submission\n",
        "# test_sales[[ 'sales']].to_csv('submission.csv', index=False)"
      ]
    },
    {
      "cell_type": "code",
      "execution_count": null,
      "metadata": {
        "id": "7JtHj2gv4N0s"
      },
      "outputs": [],
      "source": []
    }
  ],
  "metadata": {
    "accelerator": "GPU",
    "colab": {
      "gpuType": "T4",
      "provenance": [],
      "toc_visible": true,
      "include_colab_link": true
    },
    "kernelspec": {
      "display_name": "Python 3",
      "name": "python3"
    },
    "language_info": {
      "codemirror_mode": {
        "name": "ipython",
        "version": 3
      },
      "file_extension": ".py",
      "mimetype": "text/x-python",
      "name": "python",
      "nbconvert_exporter": "python",
      "pygments_lexer": "ipython3",
      "version": "3.9.13"
    },
    "vscode": {
      "interpreter": {
        "hash": "7679c2132d3f6ce38c9df14d554b39c06862b36a4e6689c81f9ae15bd0911d7d"
      }
    }
  },
  "nbformat": 4,
  "nbformat_minor": 0
}