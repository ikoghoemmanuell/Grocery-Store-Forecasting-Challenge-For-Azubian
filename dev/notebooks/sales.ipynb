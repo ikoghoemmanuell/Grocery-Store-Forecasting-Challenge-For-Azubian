{
  "cells": [
    {
      "attachments": {},
      "cell_type": "markdown",
      "metadata": {
        "id": "G0W08xH04Nzv"
      },
      "source": [
        "# Title"
      ]
    },
    {
      "attachments": {},
      "cell_type": "markdown",
      "metadata": {
        "id": "jLTuR-lo4Nzx"
      },
      "source": [
        "# Description"
      ]
    },
    {
      "attachments": {},
      "cell_type": "markdown",
      "metadata": {
        "id": "h76n_a9e4Nzy"
      },
      "source": [
        "# Importation"
      ]
    },
    {
      "cell_type": "code",
      "execution_count": 1,
      "metadata": {
        "colab": {
          "base_uri": "https://localhost:8080/"
        },
        "id": "ckd2Odbb5pVh",
        "outputId": "e25d1ccc-7c60-4637-ccad-123b04171a19"
      },
      "outputs": [],
      "source": [
        "# pip install category_encoders"
      ]
    },
    {
      "cell_type": "code",
      "execution_count": 2,
      "metadata": {
        "id": "h9KtdvmP4Nzz"
      },
      "outputs": [],
      "source": [
        "import pandas as pd\n",
        "import numpy as np\n",
        "import matplotlib.pyplot as plt\n",
        "import seaborn as sns\n",
        "import plotly.express as px\n",
        "import plotly.graph_objects as go\n",
        "\n",
        "import matplotlib.dates as mdates\n",
        "%matplotlib inline\n",
        "from itertools import product\n",
        "\n",
        "from statsmodels.tsa.stattools import adfuller\n",
        "from statsmodels.tsa.stattools import kpss\n",
        "from statsmodels.graphics.tsaplots import plot_acf, plot_pacf\n",
        "\n",
        "from sklearn.impute import SimpleImputer\n",
        "from sklearn.preprocessing import OneHotEncoder, LabelEncoder\n",
        "from category_encoders.binary import BinaryEncoder\n",
        "from sklearn.preprocessing import StandardScaler\n",
        "\n",
        "from sklearn.metrics import mean_squared_error\n",
        "from sklearn.metrics import mean_squared_log_error\n",
        "\n",
        "import warnings\n",
        "import os\n",
        "warnings.filterwarnings(\"ignore\")\n",
        "# from google.colab import drive"
      ]
    },
    {
      "attachments": {},
      "cell_type": "markdown",
      "metadata": {
        "id": "3kfbniiz4Nz0"
      },
      "source": [
        "# Data Loading"
      ]
    },
    {
      "cell_type": "code",
      "execution_count": 3,
      "metadata": {
        "colab": {
          "base_uri": "https://localhost:8080/"
        },
        "id": "p3HFblb7_vMc",
        "outputId": "507f245b-6992-4c9c-c05b-1853afc64c8a"
      },
      "outputs": [],
      "source": [
        "# # Mount Google Drive\n",
        "# drive.mount('/content/drive')\n",
        "\n",
        "# # Define the folder path in Google Drive where your CSV files are located\n",
        "# folder_path = \"/content/drive/MyDrive/Colab Notebooks/datasets/grocery store azubian\"\n",
        "\n",
        "# # Load the CSV files into DataFrames\n",
        "# data = {}\n",
        "\n",
        "# # Iterate over the files in the folder\n",
        "# for file_name in os.listdir(folder_path):\n",
        "#     if file_name.endswith(\".csv\"):\n",
        "#         # Remove the file extension to get the variable name\n",
        "#         variable_name = file_name.replace(\".csv\", \"\")\n",
        "        \n",
        "#         # Construct the file path\n",
        "#         file_path = os.path.join(folder_path, file_name)\n",
        "        \n",
        "#         # Read the CSV file content into a DataFrame\n",
        "#         data[variable_name] = pd.read_csv(file_path)\n",
        "\n",
        "# # Access the data using dictionary keys\n",
        "# holidays = data[\"holidays\"]\n",
        "# dates = data[\"dates\"]\n",
        "# sample = data[\"SampleSubmission\"]\n",
        "# stores = data[\"stores\"]\n",
        "# test = data[\"test\"]\n",
        "# train = data[\"train\"]\n",
        "\n"
      ]
    },
    {
      "cell_type": "code",
      "execution_count": 4,
      "metadata": {},
      "outputs": [],
      "source": [
        "train = pd.read_csv(\"C:/Users/LENOVO/Music/Grocery-Store-Forecasting-Challenge-For-Azubian/assets/grocery store azubian/train.csv\")\n",
        "test = pd.read_csv(\"C:/Users/LENOVO/Music/Grocery-Store-Forecasting-Challenge-For-Azubian/assets/grocery store azubian/test.csv\")\n",
        "stores = pd.read_csv(\"C:/Users/LENOVO/Music/Grocery-Store-Forecasting-Challenge-For-Azubian/assets/grocery store azubian/stores.csv\")\n",
        "sample = pd.read_csv(\"C:/Users/LENOVO/Music/Grocery-Store-Forecasting-Challenge-For-Azubian/assets/grocery store azubian/SampleSubmission.csv\")\n",
        "dates = pd.read_csv(\"C:/Users/LENOVO/Music/Grocery-Store-Forecasting-Challenge-For-Azubian/assets/grocery store azubian/dates.csv\")\n",
        "holidays = pd.read_csv(\"C:/Users/LENOVO/Music/Grocery-Store-Forecasting-Challenge-For-Azubian/assets/grocery store azubian/holidays.csv\")"
      ]
    },
    {
      "attachments": {},
      "cell_type": "markdown",
      "metadata": {
        "id": "Mz9VjJVx4Nz3"
      },
      "source": [
        "# Dataset overview"
      ]
    },
    {
      "cell_type": "code",
      "execution_count": 5,
      "metadata": {
        "colab": {
          "base_uri": "https://localhost:8080/",
          "height": 206
        },
        "id": "kajd5nDC490n",
        "outputId": "cd29b6bf-255a-4239-8ac6-5a6895e4ffaa"
      },
      "outputs": [
        {
          "data": {
            "text/html": [
              "<div>\n",
              "<style scoped>\n",
              "    .dataframe tbody tr th:only-of-type {\n",
              "        vertical-align: middle;\n",
              "    }\n",
              "\n",
              "    .dataframe tbody tr th {\n",
              "        vertical-align: top;\n",
              "    }\n",
              "\n",
              "    .dataframe thead th {\n",
              "        text-align: right;\n",
              "    }\n",
              "</style>\n",
              "<table border=\"1\" class=\"dataframe\">\n",
              "  <thead>\n",
              "    <tr style=\"text-align: right;\">\n",
              "      <th></th>\n",
              "      <th>date</th>\n",
              "      <th>store_id</th>\n",
              "      <th>category_id</th>\n",
              "      <th>target</th>\n",
              "      <th>onpromotion</th>\n",
              "      <th>nbr_of_transactions</th>\n",
              "    </tr>\n",
              "  </thead>\n",
              "  <tbody>\n",
              "    <tr>\n",
              "      <th>0</th>\n",
              "      <td>365</td>\n",
              "      <td>store_1</td>\n",
              "      <td>category_24</td>\n",
              "      <td>0.0</td>\n",
              "      <td>0</td>\n",
              "      <td>0.0</td>\n",
              "    </tr>\n",
              "    <tr>\n",
              "      <th>1</th>\n",
              "      <td>365</td>\n",
              "      <td>store_1</td>\n",
              "      <td>category_21</td>\n",
              "      <td>0.0</td>\n",
              "      <td>0</td>\n",
              "      <td>0.0</td>\n",
              "    </tr>\n",
              "    <tr>\n",
              "      <th>2</th>\n",
              "      <td>365</td>\n",
              "      <td>store_1</td>\n",
              "      <td>category_32</td>\n",
              "      <td>0.0</td>\n",
              "      <td>0</td>\n",
              "      <td>0.0</td>\n",
              "    </tr>\n",
              "    <tr>\n",
              "      <th>3</th>\n",
              "      <td>365</td>\n",
              "      <td>store_1</td>\n",
              "      <td>category_18</td>\n",
              "      <td>0.0</td>\n",
              "      <td>0</td>\n",
              "      <td>0.0</td>\n",
              "    </tr>\n",
              "    <tr>\n",
              "      <th>4</th>\n",
              "      <td>365</td>\n",
              "      <td>store_1</td>\n",
              "      <td>category_26</td>\n",
              "      <td>0.0</td>\n",
              "      <td>0</td>\n",
              "      <td>0.0</td>\n",
              "    </tr>\n",
              "  </tbody>\n",
              "</table>\n",
              "</div>"
            ],
            "text/plain": [
              "   date store_id  category_id  target  onpromotion  nbr_of_transactions\n",
              "0   365  store_1  category_24     0.0            0                  0.0\n",
              "1   365  store_1  category_21     0.0            0                  0.0\n",
              "2   365  store_1  category_32     0.0            0                  0.0\n",
              "3   365  store_1  category_18     0.0            0                  0.0\n",
              "4   365  store_1  category_26     0.0            0                  0.0"
            ]
          },
          "execution_count": 5,
          "metadata": {},
          "output_type": "execute_result"
        }
      ],
      "source": [
        "train.head()"
      ]
    },
    {
      "attachments": {},
      "cell_type": "markdown",
      "metadata": {
        "id": "UKsCG3Cr5058"
      },
      "source": [
        "train date is in numerical format. We'll have to convert it to Datetime format later"
      ]
    },
    {
      "cell_type": "code",
      "execution_count": 6,
      "metadata": {
        "colab": {
          "base_uri": "https://localhost:8080/",
          "height": 206
        },
        "id": "BBssAeqaAYbs",
        "outputId": "1d68da9e-99e8-4285-fceb-c8eee188820d"
      },
      "outputs": [
        {
          "data": {
            "text/html": [
              "<div>\n",
              "<style scoped>\n",
              "    .dataframe tbody tr th:only-of-type {\n",
              "        vertical-align: middle;\n",
              "    }\n",
              "\n",
              "    .dataframe tbody tr th {\n",
              "        vertical-align: top;\n",
              "    }\n",
              "\n",
              "    .dataframe thead th {\n",
              "        text-align: right;\n",
              "    }\n",
              "</style>\n",
              "<table border=\"1\" class=\"dataframe\">\n",
              "  <thead>\n",
              "    <tr style=\"text-align: right;\">\n",
              "      <th></th>\n",
              "      <th>date</th>\n",
              "      <th>store_id</th>\n",
              "      <th>category_id</th>\n",
              "      <th>onpromotion</th>\n",
              "    </tr>\n",
              "  </thead>\n",
              "  <tbody>\n",
              "    <tr>\n",
              "      <th>0</th>\n",
              "      <td>1627</td>\n",
              "      <td>store_1</td>\n",
              "      <td>category_24</td>\n",
              "      <td>0</td>\n",
              "    </tr>\n",
              "    <tr>\n",
              "      <th>1</th>\n",
              "      <td>1627</td>\n",
              "      <td>store_1</td>\n",
              "      <td>category_21</td>\n",
              "      <td>0</td>\n",
              "    </tr>\n",
              "    <tr>\n",
              "      <th>2</th>\n",
              "      <td>1627</td>\n",
              "      <td>store_1</td>\n",
              "      <td>category_32</td>\n",
              "      <td>0</td>\n",
              "    </tr>\n",
              "    <tr>\n",
              "      <th>3</th>\n",
              "      <td>1627</td>\n",
              "      <td>store_1</td>\n",
              "      <td>category_18</td>\n",
              "      <td>16</td>\n",
              "    </tr>\n",
              "    <tr>\n",
              "      <th>4</th>\n",
              "      <td>1627</td>\n",
              "      <td>store_1</td>\n",
              "      <td>category_26</td>\n",
              "      <td>0</td>\n",
              "    </tr>\n",
              "  </tbody>\n",
              "</table>\n",
              "</div>"
            ],
            "text/plain": [
              "   date store_id  category_id  onpromotion\n",
              "0  1627  store_1  category_24            0\n",
              "1  1627  store_1  category_21            0\n",
              "2  1627  store_1  category_32            0\n",
              "3  1627  store_1  category_18           16\n",
              "4  1627  store_1  category_26            0"
            ]
          },
          "execution_count": 6,
          "metadata": {},
          "output_type": "execute_result"
        }
      ],
      "source": [
        "test.head()"
      ]
    },
    {
      "cell_type": "code",
      "execution_count": 7,
      "metadata": {
        "colab": {
          "base_uri": "https://localhost:8080/"
        },
        "id": "wuTqIthgAuqV",
        "outputId": "5e422566-f838-406f-9b22-a1e8eee6444e"
      },
      "outputs": [
        {
          "name": "stdout",
          "output_type": "stream",
          "text": [
            "<class 'pandas.core.frame.DataFrame'>\n",
            "RangeIndex: 99792 entries, 0 to 99791\n",
            "Data columns (total 4 columns):\n",
            " #   Column       Non-Null Count  Dtype \n",
            "---  ------       --------------  ----- \n",
            " 0   date         99792 non-null  int64 \n",
            " 1   store_id     99792 non-null  object\n",
            " 2   category_id  99792 non-null  object\n",
            " 3   onpromotion  99792 non-null  int64 \n",
            "dtypes: int64(2), object(2)\n",
            "memory usage: 3.0+ MB\n"
          ]
        }
      ],
      "source": [
        "test.info()"
      ]
    },
    {
      "cell_type": "code",
      "execution_count": 8,
      "metadata": {
        "colab": {
          "base_uri": "https://localhost:8080/",
          "height": 206
        },
        "id": "M0DDPOuEBLHK",
        "outputId": "9b6bff8b-55d1-4d95-97d1-421fafc3b049"
      },
      "outputs": [
        {
          "data": {
            "text/html": [
              "<div>\n",
              "<style scoped>\n",
              "    .dataframe tbody tr th:only-of-type {\n",
              "        vertical-align: middle;\n",
              "    }\n",
              "\n",
              "    .dataframe tbody tr th {\n",
              "        vertical-align: top;\n",
              "    }\n",
              "\n",
              "    .dataframe thead th {\n",
              "        text-align: right;\n",
              "    }\n",
              "</style>\n",
              "<table border=\"1\" class=\"dataframe\">\n",
              "  <thead>\n",
              "    <tr style=\"text-align: right;\">\n",
              "      <th></th>\n",
              "      <th>store_id</th>\n",
              "      <th>city</th>\n",
              "      <th>type</th>\n",
              "      <th>cluster</th>\n",
              "    </tr>\n",
              "  </thead>\n",
              "  <tbody>\n",
              "    <tr>\n",
              "      <th>0</th>\n",
              "      <td>store_1</td>\n",
              "      <td>0</td>\n",
              "      <td>0</td>\n",
              "      <td>0</td>\n",
              "    </tr>\n",
              "    <tr>\n",
              "      <th>1</th>\n",
              "      <td>store_2</td>\n",
              "      <td>0</td>\n",
              "      <td>0</td>\n",
              "      <td>0</td>\n",
              "    </tr>\n",
              "    <tr>\n",
              "      <th>2</th>\n",
              "      <td>store_3</td>\n",
              "      <td>0</td>\n",
              "      <td>0</td>\n",
              "      <td>1</td>\n",
              "    </tr>\n",
              "    <tr>\n",
              "      <th>3</th>\n",
              "      <td>store_4</td>\n",
              "      <td>0</td>\n",
              "      <td>0</td>\n",
              "      <td>2</td>\n",
              "    </tr>\n",
              "    <tr>\n",
              "      <th>4</th>\n",
              "      <td>store_5</td>\n",
              "      <td>1</td>\n",
              "      <td>0</td>\n",
              "      <td>3</td>\n",
              "    </tr>\n",
              "  </tbody>\n",
              "</table>\n",
              "</div>"
            ],
            "text/plain": [
              "  store_id  city  type  cluster\n",
              "0  store_1     0     0        0\n",
              "1  store_2     0     0        0\n",
              "2  store_3     0     0        1\n",
              "3  store_4     0     0        2\n",
              "4  store_5     1     0        3"
            ]
          },
          "execution_count": 8,
          "metadata": {},
          "output_type": "execute_result"
        }
      ],
      "source": [
        "stores.head()"
      ]
    },
    {
      "cell_type": "code",
      "execution_count": 9,
      "metadata": {
        "colab": {
          "base_uri": "https://localhost:8080/"
        },
        "id": "S5QQd5WeKBfK",
        "outputId": "b25022d8-c467-45e4-ff8a-2e873e511953"
      },
      "outputs": [
        {
          "data": {
            "text/plain": [
              "array([ 0,  1,  2,  3,  4,  5,  6,  7,  8,  9, 10, 11, 12, 13, 14, 15, 16,\n",
              "       17, 18, 19, 20, 21], dtype=int64)"
            ]
          },
          "execution_count": 9,
          "metadata": {},
          "output_type": "execute_result"
        }
      ],
      "source": [
        "stores.city.unique()"
      ]
    },
    {
      "cell_type": "code",
      "execution_count": 10,
      "metadata": {
        "colab": {
          "base_uri": "https://localhost:8080/"
        },
        "id": "gabPr-lxKQ6Y",
        "outputId": "49e5571f-ae8f-44d7-aa78-d1ae17df3d42"
      },
      "outputs": [
        {
          "data": {
            "text/plain": [
              "array([0, 1, 2, 3, 4], dtype=int64)"
            ]
          },
          "execution_count": 10,
          "metadata": {},
          "output_type": "execute_result"
        }
      ],
      "source": [
        "stores.type.unique()"
      ]
    },
    {
      "cell_type": "code",
      "execution_count": 11,
      "metadata": {
        "colab": {
          "base_uri": "https://localhost:8080/"
        },
        "id": "YHDEnCEAKUPZ",
        "outputId": "613c0166-6422-4c7e-f1c6-6c35fbc2272c"
      },
      "outputs": [
        {
          "data": {
            "text/plain": [
              "array([ 0,  1,  2,  3,  4,  5,  6,  7,  8,  9, 10, 11, 12, 13, 14, 15, 16],\n",
              "      dtype=int64)"
            ]
          },
          "execution_count": 11,
          "metadata": {},
          "output_type": "execute_result"
        }
      ],
      "source": [
        "stores.cluster.unique()"
      ]
    },
    {
      "cell_type": "code",
      "execution_count": 12,
      "metadata": {
        "colab": {
          "base_uri": "https://localhost:8080/"
        },
        "id": "_Z_M2UuaBE_P",
        "outputId": "4957b5b7-616b-4a79-f44c-a36ab35a0bb3"
      },
      "outputs": [
        {
          "name": "stdout",
          "output_type": "stream",
          "text": [
            "<class 'pandas.core.frame.DataFrame'>\n",
            "RangeIndex: 54 entries, 0 to 53\n",
            "Data columns (total 4 columns):\n",
            " #   Column    Non-Null Count  Dtype \n",
            "---  ------    --------------  ----- \n",
            " 0   store_id  54 non-null     object\n",
            " 1   city      54 non-null     int64 \n",
            " 2   type      54 non-null     int64 \n",
            " 3   cluster   54 non-null     int64 \n",
            "dtypes: int64(3), object(1)\n",
            "memory usage: 1.8+ KB\n"
          ]
        }
      ],
      "source": [
        "stores.info()"
      ]
    },
    {
      "attachments": {},
      "cell_type": "markdown",
      "metadata": {
        "id": "ZJ_K9MGkLqCH"
      },
      "source": [
        "city, type & cluster are categoric variables, so they are not supposed to be in number datatype(int64) \n",
        "\n",
        "furthermore, cities do not have an ordinal relationship with one another. Ordinal variables have a natural order. Just like \"good-better-best\" or \"positive-neutral-negative\". Nominal variables don't.\n",
        "\n",
        "We don't want our machine learning models to think that one city-0 comes before city-1, which is before city-3. \n",
        "\n",
        "Therefore, we'll have to change the datatypes to obect or string to make it more descriptive, for example: 'London', 'Tokyo', 'Rome' and so on.\n",
        "\n",
        "Same goes for type and cluster."
      ]
    },
    {
      "cell_type": "code",
      "execution_count": 13,
      "metadata": {
        "colab": {
          "base_uri": "https://localhost:8080/",
          "height": 270
        },
        "id": "YAL7k5ynBny8",
        "outputId": "c7dc4fd2-898d-45c5-edfe-824225e845da"
      },
      "outputs": [
        {
          "data": {
            "text/plain": [
              "array([ 365,  366,  367, ..., 1682, 1683, 1684], dtype=int64)"
            ]
          },
          "execution_count": 13,
          "metadata": {},
          "output_type": "execute_result"
        }
      ],
      "source": [
        "dates['date'].unique()"
      ]
    },
    {
      "attachments": {},
      "cell_type": "markdown",
      "metadata": {
        "id": "G77f6HeABrDe"
      },
      "source": [
        "This dataset contains dates and the features that have already been extracted from it"
      ]
    },
    {
      "cell_type": "code",
      "execution_count": 14,
      "metadata": {
        "colab": {
          "base_uri": "https://localhost:8080/"
        },
        "id": "ZR8aIxjxB26C",
        "outputId": "ff20e3fc-1c99-45f1-a917-5cd201954c18"
      },
      "outputs": [
        {
          "name": "stdout",
          "output_type": "stream",
          "text": [
            "<class 'pandas.core.frame.DataFrame'>\n",
            "RangeIndex: 1320 entries, 0 to 1319\n",
            "Data columns (total 15 columns):\n",
            " #   Column            Non-Null Count  Dtype\n",
            "---  ------            --------------  -----\n",
            " 0   date              1320 non-null   int64\n",
            " 1   year              1320 non-null   int64\n",
            " 2   month             1320 non-null   int64\n",
            " 3   dayofmonth        1320 non-null   int64\n",
            " 4   dayofweek         1320 non-null   int64\n",
            " 5   dayofyear         1320 non-null   int64\n",
            " 6   weekofyear        1320 non-null   int64\n",
            " 7   quarter           1320 non-null   int64\n",
            " 8   is_month_start    1320 non-null   bool \n",
            " 9   is_month_end      1320 non-null   bool \n",
            " 10  is_quarter_start  1320 non-null   bool \n",
            " 11  is_quarter_end    1320 non-null   bool \n",
            " 12  is_year_start     1320 non-null   bool \n",
            " 13  is_year_end       1320 non-null   bool \n",
            " 14  year_weekofyear   1320 non-null   int64\n",
            "dtypes: bool(6), int64(9)\n",
            "memory usage: 100.7 KB\n"
          ]
        }
      ],
      "source": [
        "dates.info()"
      ]
    },
    {
      "attachments": {},
      "cell_type": "markdown",
      "metadata": {
        "id": "MWWEGqOHPmeh"
      },
      "source": [
        "in this case, these categories have an ordinal relationship with one another, meaning one date naturally comes before the other, \n",
        "\n",
        "so we can leave them as they are."
      ]
    },
    {
      "cell_type": "code",
      "execution_count": 15,
      "metadata": {
        "colab": {
          "base_uri": "https://localhost:8080/"
        },
        "id": "fab3r315PSsW",
        "outputId": "3d2f7a3b-0741-498f-de4b-198967beb699"
      },
      "outputs": [
        {
          "data": {
            "text/plain": [
              "array([2, 3, 4, 5, 6, 0, 1], dtype=int64)"
            ]
          },
          "execution_count": 15,
          "metadata": {},
          "output_type": "execute_result"
        }
      ],
      "source": [
        "dates.dayofweek.unique()"
      ]
    },
    {
      "attachments": {},
      "cell_type": "markdown",
      "metadata": {
        "id": "shOHh6jYPfbs"
      },
      "source": [
        "there are 7days in a week, so this is fine."
      ]
    },
    {
      "cell_type": "code",
      "execution_count": 16,
      "metadata": {
        "colab": {
          "base_uri": "https://localhost:8080/"
        },
        "id": "Db9Zn7fVQUI7",
        "outputId": "4473a63c-6d30-4b65-90ab-296f1e4abf15"
      },
      "outputs": [
        {
          "data": {
            "text/plain": [
              "array([  1,   2,   3,   4,   5,   6,   7,   8,   9,  10,  11,  12,  13,\n",
              "        14,  15,  16,  17,  18,  19,  20,  21,  22,  23,  24,  25,  26,\n",
              "        27,  28,  29,  30,  31,  32,  33,  34,  35,  36,  37,  38,  39,\n",
              "        40,  41,  42,  43,  44,  45,  46,  47,  48,  49,  50,  51,  52,\n",
              "        53,  54,  55,  56,  57,  58,  59,  60,  61,  62,  63,  64,  65,\n",
              "        66,  67,  68,  69,  70,  71,  72,  73,  74,  75,  76,  77,  78,\n",
              "        79,  80,  81,  82,  83,  84,  85,  86,  87,  88,  89,  90,  91,\n",
              "        92,  93,  94,  95,  96,  97,  98,  99, 100, 101, 102, 103, 104,\n",
              "       105, 106, 107, 108, 109, 110, 111, 112, 113, 114, 115, 116, 117,\n",
              "       118, 119, 120, 121, 122, 123, 124, 125, 126, 127, 128, 129, 130,\n",
              "       131, 132, 133, 134, 135, 136, 137, 138, 139, 140, 141, 142, 143,\n",
              "       144, 145, 146, 147, 148, 149, 150, 151, 152, 153, 154, 155, 156,\n",
              "       157, 158, 159, 160, 161, 162, 163, 164, 165, 166, 167, 168, 169,\n",
              "       170, 171, 172, 173, 174, 175, 176, 177, 178, 179, 180, 181, 182,\n",
              "       183, 184, 185, 186, 187, 188, 189, 190, 191, 192, 193, 194, 195,\n",
              "       196, 197, 198, 199, 200, 201, 202, 203, 204, 205, 206, 207, 208,\n",
              "       209, 210, 211, 212, 213, 214, 215, 216, 217, 218, 219, 220, 221,\n",
              "       222, 223, 224, 225, 226, 227, 228, 229, 230, 231, 232, 233, 234,\n",
              "       235, 236, 237, 238, 239, 240, 241, 242, 243, 244, 245, 246, 247,\n",
              "       248, 249, 250, 251, 252, 253, 254, 255, 256, 257, 258, 259, 260,\n",
              "       261, 262, 263, 264, 265, 266, 267, 268, 269, 270, 271, 272, 273,\n",
              "       274, 275, 276, 277, 278, 279, 280, 281, 282, 283, 284, 285, 286,\n",
              "       287, 288, 289, 290, 291, 292, 293, 294, 295, 296, 297, 298, 299,\n",
              "       300, 301, 302, 303, 304, 305, 306, 307, 308, 309, 310, 311, 312,\n",
              "       313, 314, 315, 316, 317, 318, 319, 320, 321, 322, 323, 324, 325,\n",
              "       326, 327, 328, 329, 330, 331, 332, 333, 334, 335, 336, 337, 338,\n",
              "       339, 340, 341, 342, 343, 344, 345, 346, 347, 348, 349, 350, 351,\n",
              "       352, 353, 354, 355, 356, 357, 358, 360, 361, 362, 363, 364, 365,\n",
              "       359, 366], dtype=int64)"
            ]
          },
          "execution_count": 16,
          "metadata": {},
          "output_type": "execute_result"
        }
      ],
      "source": [
        "dates.dayofyear.unique()"
      ]
    },
    {
      "attachments": {},
      "cell_type": "markdown",
      "metadata": {
        "id": "pOXxqaXsRn5M"
      },
      "source": [
        "we have 365 days in a year, 366 days is for a loop year. This is a problem for us. Let me explain why.\n",
        "\n",
        "**Problem**:\n",
        "When you have a loop year, then new year's eve would fall on day 366\n",
        "\n",
        "otherwise, it would fall on day 365. So everyday might not fall on the appropriate number for each year.\n",
        "\n",
        "**Solution**:\n",
        "we will later convert two new columns called \"sin(dayofyear)\" & \"cos(dayofyear)\". These new columns will help our machine learning models to understand the cyclic nature of a year. \n",
        "\n",
        "Cyclic means that a year usually starts and ends in a similar way."
      ]
    },
    {
      "cell_type": "code",
      "execution_count": 17,
      "metadata": {
        "colab": {
          "base_uri": "https://localhost:8080/",
          "height": 206
        },
        "id": "UoPNhzliCQmv",
        "outputId": "f8029396-21c2-4c1c-f24c-2c2a52c37617"
      },
      "outputs": [
        {
          "data": {
            "text/html": [
              "<div>\n",
              "<style scoped>\n",
              "    .dataframe tbody tr th:only-of-type {\n",
              "        vertical-align: middle;\n",
              "    }\n",
              "\n",
              "    .dataframe tbody tr th {\n",
              "        vertical-align: top;\n",
              "    }\n",
              "\n",
              "    .dataframe thead th {\n",
              "        text-align: right;\n",
              "    }\n",
              "</style>\n",
              "<table border=\"1\" class=\"dataframe\">\n",
              "  <thead>\n",
              "    <tr style=\"text-align: right;\">\n",
              "      <th></th>\n",
              "      <th>date</th>\n",
              "      <th>type</th>\n",
              "    </tr>\n",
              "  </thead>\n",
              "  <tbody>\n",
              "    <tr>\n",
              "      <th>0</th>\n",
              "      <td>1</td>\n",
              "      <td>0</td>\n",
              "    </tr>\n",
              "    <tr>\n",
              "      <th>1</th>\n",
              "      <td>5</td>\n",
              "      <td>4</td>\n",
              "    </tr>\n",
              "    <tr>\n",
              "      <th>2</th>\n",
              "      <td>12</td>\n",
              "      <td>4</td>\n",
              "    </tr>\n",
              "    <tr>\n",
              "      <th>3</th>\n",
              "      <td>42</td>\n",
              "      <td>0</td>\n",
              "    </tr>\n",
              "    <tr>\n",
              "      <th>4</th>\n",
              "      <td>43</td>\n",
              "      <td>0</td>\n",
              "    </tr>\n",
              "  </tbody>\n",
              "</table>\n",
              "</div>"
            ],
            "text/plain": [
              "   date  type\n",
              "0     1     0\n",
              "1     5     4\n",
              "2    12     4\n",
              "3    42     0\n",
              "4    43     0"
            ]
          },
          "execution_count": 17,
          "metadata": {},
          "output_type": "execute_result"
        }
      ],
      "source": [
        "holidays.head()"
      ]
    },
    {
      "cell_type": "code",
      "execution_count": 18,
      "metadata": {
        "colab": {
          "base_uri": "https://localhost:8080/"
        },
        "id": "aWuH4aYBCX5s",
        "outputId": "a24bb057-5fc9-4234-9e14-9e15cdc171a5"
      },
      "outputs": [
        {
          "name": "stdout",
          "output_type": "stream",
          "text": [
            "<class 'pandas.core.frame.DataFrame'>\n",
            "RangeIndex: 281 entries, 0 to 280\n",
            "Data columns (total 2 columns):\n",
            " #   Column  Non-Null Count  Dtype\n",
            "---  ------  --------------  -----\n",
            " 0   date    281 non-null    int64\n",
            " 1   type    281 non-null    int64\n",
            "dtypes: int64(2)\n",
            "memory usage: 4.5 KB\n"
          ]
        }
      ],
      "source": [
        "holidays.info()"
      ]
    },
    {
      "cell_type": "code",
      "execution_count": 19,
      "metadata": {
        "colab": {
          "base_uri": "https://localhost:8080/"
        },
        "id": "cPnRlmkEdYHz",
        "outputId": "4c59ecfc-5199-4364-c783-8e8ffc7dcaae"
      },
      "outputs": [
        {
          "data": {
            "text/plain": [
              "array([0, 4, 2, 5, 1, 3], dtype=int64)"
            ]
          },
          "execution_count": 19,
          "metadata": {},
          "output_type": "execute_result"
        }
      ],
      "source": [
        "holidays.type.unique()"
      ]
    },
    {
      "attachments": {},
      "cell_type": "markdown",
      "metadata": {
        "id": "iv1aEjzVc3Th"
      },
      "source": [
        "The type column is a categoric variable, and each type of holiday does not have an ordinal relationship, since a holiday like new year is not higher or better than Christmas for example.\n",
        "\n",
        "so we'll later convert them to string type to make it more descriptive"
      ]
    },
    {
      "cell_type": "code",
      "execution_count": 20,
      "metadata": {
        "colab": {
          "base_uri": "https://localhost:8080/",
          "height": 300
        },
        "id": "Slj_ROrsD0V4",
        "outputId": "e1daf29e-e7c8-4982-9e1f-66652e89aeb5"
      },
      "outputs": [
        {
          "data": {
            "text/html": [
              "<div>\n",
              "<style scoped>\n",
              "    .dataframe tbody tr th:only-of-type {\n",
              "        vertical-align: middle;\n",
              "    }\n",
              "\n",
              "    .dataframe tbody tr th {\n",
              "        vertical-align: top;\n",
              "    }\n",
              "\n",
              "    .dataframe thead th {\n",
              "        text-align: right;\n",
              "    }\n",
              "</style>\n",
              "<table border=\"1\" class=\"dataframe\">\n",
              "  <thead>\n",
              "    <tr style=\"text-align: right;\">\n",
              "      <th></th>\n",
              "      <th>date</th>\n",
              "      <th>target</th>\n",
              "      <th>onpromotion</th>\n",
              "      <th>nbr_of_transactions</th>\n",
              "    </tr>\n",
              "  </thead>\n",
              "  <tbody>\n",
              "    <tr>\n",
              "      <th>count</th>\n",
              "      <td>2.248884e+06</td>\n",
              "      <td>2.248884e+06</td>\n",
              "      <td>2.248884e+06</td>\n",
              "      <td>2.248884e+06</td>\n",
              "    </tr>\n",
              "    <tr>\n",
              "      <th>mean</th>\n",
              "      <td>9.955000e+02</td>\n",
              "      <td>3.932649e+02</td>\n",
              "      <td>3.142002e+00</td>\n",
              "      <td>1.573591e+03</td>\n",
              "    </tr>\n",
              "    <tr>\n",
              "      <th>std</th>\n",
              "      <td>3.643080e+02</td>\n",
              "      <td>1.174938e+03</td>\n",
              "      <td>1.343616e+01</td>\n",
              "      <td>1.027832e+03</td>\n",
              "    </tr>\n",
              "    <tr>\n",
              "      <th>min</th>\n",
              "      <td>3.650000e+02</td>\n",
              "      <td>0.000000e+00</td>\n",
              "      <td>0.000000e+00</td>\n",
              "      <td>0.000000e+00</td>\n",
              "    </tr>\n",
              "    <tr>\n",
              "      <th>25%</th>\n",
              "      <td>6.800000e+02</td>\n",
              "      <td>0.000000e+00</td>\n",
              "      <td>0.000000e+00</td>\n",
              "      <td>9.440000e+02</td>\n",
              "    </tr>\n",
              "    <tr>\n",
              "      <th>50%</th>\n",
              "      <td>9.955000e+02</td>\n",
              "      <td>1.500000e+01</td>\n",
              "      <td>0.000000e+00</td>\n",
              "      <td>1.338000e+03</td>\n",
              "    </tr>\n",
              "    <tr>\n",
              "      <th>75%</th>\n",
              "      <td>1.311000e+03</td>\n",
              "      <td>2.230000e+02</td>\n",
              "      <td>1.000000e+00</td>\n",
              "      <td>1.979000e+03</td>\n",
              "    </tr>\n",
              "    <tr>\n",
              "      <th>max</th>\n",
              "      <td>1.626000e+03</td>\n",
              "      <td>1.247170e+05</td>\n",
              "      <td>7.410000e+02</td>\n",
              "      <td>8.359000e+03</td>\n",
              "    </tr>\n",
              "  </tbody>\n",
              "</table>\n",
              "</div>"
            ],
            "text/plain": [
              "               date        target   onpromotion  nbr_of_transactions\n",
              "count  2.248884e+06  2.248884e+06  2.248884e+06         2.248884e+06\n",
              "mean   9.955000e+02  3.932649e+02  3.142002e+00         1.573591e+03\n",
              "std    3.643080e+02  1.174938e+03  1.343616e+01         1.027832e+03\n",
              "min    3.650000e+02  0.000000e+00  0.000000e+00         0.000000e+00\n",
              "25%    6.800000e+02  0.000000e+00  0.000000e+00         9.440000e+02\n",
              "50%    9.955000e+02  1.500000e+01  0.000000e+00         1.338000e+03\n",
              "75%    1.311000e+03  2.230000e+02  1.000000e+00         1.979000e+03\n",
              "max    1.626000e+03  1.247170e+05  7.410000e+02         8.359000e+03"
            ]
          },
          "execution_count": 20,
          "metadata": {},
          "output_type": "execute_result"
        }
      ],
      "source": [
        "train.describe()"
      ]
    },
    {
      "attachments": {},
      "cell_type": "markdown",
      "metadata": {
        "id": "-8ol2MBtEDkc"
      },
      "source": [
        "train dates range from **365** to **1626**"
      ]
    },
    {
      "cell_type": "code",
      "execution_count": 21,
      "metadata": {
        "colab": {
          "base_uri": "https://localhost:8080/",
          "height": 300
        },
        "id": "gefkrStbD9sK",
        "outputId": "08b74638-ee0b-4923-f979-0f07c21754b5"
      },
      "outputs": [
        {
          "data": {
            "text/html": [
              "<div>\n",
              "<style scoped>\n",
              "    .dataframe tbody tr th:only-of-type {\n",
              "        vertical-align: middle;\n",
              "    }\n",
              "\n",
              "    .dataframe tbody tr th {\n",
              "        vertical-align: top;\n",
              "    }\n",
              "\n",
              "    .dataframe thead th {\n",
              "        text-align: right;\n",
              "    }\n",
              "</style>\n",
              "<table border=\"1\" class=\"dataframe\">\n",
              "  <thead>\n",
              "    <tr style=\"text-align: right;\">\n",
              "      <th></th>\n",
              "      <th>date</th>\n",
              "      <th>onpromotion</th>\n",
              "    </tr>\n",
              "  </thead>\n",
              "  <tbody>\n",
              "    <tr>\n",
              "      <th>count</th>\n",
              "      <td>99792.000000</td>\n",
              "      <td>99792.000000</td>\n",
              "    </tr>\n",
              "    <tr>\n",
              "      <th>mean</th>\n",
              "      <td>1654.500000</td>\n",
              "      <td>7.274892</td>\n",
              "    </tr>\n",
              "    <tr>\n",
              "      <th>std</th>\n",
              "      <td>16.163311</td>\n",
              "      <td>18.504041</td>\n",
              "    </tr>\n",
              "    <tr>\n",
              "      <th>min</th>\n",
              "      <td>1627.000000</td>\n",
              "      <td>0.000000</td>\n",
              "    </tr>\n",
              "    <tr>\n",
              "      <th>25%</th>\n",
              "      <td>1640.750000</td>\n",
              "      <td>0.000000</td>\n",
              "    </tr>\n",
              "    <tr>\n",
              "      <th>50%</th>\n",
              "      <td>1654.500000</td>\n",
              "      <td>0.000000</td>\n",
              "    </tr>\n",
              "    <tr>\n",
              "      <th>75%</th>\n",
              "      <td>1668.250000</td>\n",
              "      <td>6.000000</td>\n",
              "    </tr>\n",
              "    <tr>\n",
              "      <th>max</th>\n",
              "      <td>1682.000000</td>\n",
              "      <td>591.000000</td>\n",
              "    </tr>\n",
              "  </tbody>\n",
              "</table>\n",
              "</div>"
            ],
            "text/plain": [
              "               date   onpromotion\n",
              "count  99792.000000  99792.000000\n",
              "mean    1654.500000      7.274892\n",
              "std       16.163311     18.504041\n",
              "min     1627.000000      0.000000\n",
              "25%     1640.750000      0.000000\n",
              "50%     1654.500000      0.000000\n",
              "75%     1668.250000      6.000000\n",
              "max     1682.000000    591.000000"
            ]
          },
          "execution_count": 21,
          "metadata": {},
          "output_type": "execute_result"
        }
      ],
      "source": [
        "test.describe()"
      ]
    },
    {
      "attachments": {},
      "cell_type": "markdown",
      "metadata": {
        "id": "3NOEaiGeFM5f"
      },
      "source": [
        "test dates range from **1627** to **1682**\n",
        "\n",
        "this is a continuation from train. This makes sense since we are to predict future transactions based on past data\n",
        "\n",
        "**note**: we will not be using transaction data to train our models, since transaction data was not provided for our test data."
      ]
    },
    {
      "cell_type": "code",
      "execution_count": 22,
      "metadata": {
        "colab": {
          "base_uri": "https://localhost:8080/"
        },
        "id": "Z1dIXNBJF2vX",
        "outputId": "bbf6dc8f-8114-4bca-b499-e7a79e41cb94"
      },
      "outputs": [
        {
          "data": {
            "text/plain": [
              "(              date         year        month   dayofmonth    dayofweek  \\\n",
              " count  1320.000000  1320.000000  1320.000000  1320.000000  1320.000000   \n",
              " mean   1024.500000     2.344697     6.124242    15.612121     2.996970   \n",
              " std     381.195488     1.059333     3.366835     8.798020     2.001135   \n",
              " min     365.000000     1.000000     1.000000     1.000000     0.000000   \n",
              " 25%     694.750000     1.000000     3.000000     8.000000     1.000000   \n",
              " 50%    1024.500000     2.000000     6.000000    15.500000     3.000000   \n",
              " 75%    1354.250000     3.000000     9.000000    23.000000     5.000000   \n",
              " max    1684.000000     4.000000    12.000000    31.000000     6.000000   \n",
              " \n",
              "          dayofyear   weekofyear      quarter  year_weekofyear  \n",
              " count  1320.000000  1320.000000  1320.000000      1320.000000  \n",
              " mean    170.871970    24.934848     2.384091       259.101515  \n",
              " std     102.870939    14.726066     1.094568       104.162039  \n",
              " min       1.000000     1.000000     1.000000       101.000000  \n",
              " 25%      83.000000    12.000000     1.000000       147.750000  \n",
              " 50%     165.500000    24.000000     2.000000       243.000000  \n",
              " 75%     255.000000    37.000000     3.000000       337.250000  \n",
              " max     366.000000    53.000000     4.000000       433.000000  ,)"
            ]
          },
          "execution_count": 22,
          "metadata": {},
          "output_type": "execute_result"
        }
      ],
      "source": [
        "dates.describe(),"
      ]
    },
    {
      "attachments": {},
      "cell_type": "markdown",
      "metadata": {
        "id": "nJq6eM6nGE8f"
      },
      "source": [
        "dates are from **365** till **1684** which covers the train and test dates\n",
        "\n",
        "so, we'll be able to add the features from here to both the train and test data based on the date"
      ]
    },
    {
      "cell_type": "code",
      "execution_count": 23,
      "metadata": {
        "colab": {
          "base_uri": "https://localhost:8080/",
          "height": 300
        },
        "id": "8QPbCGdGGlIZ",
        "outputId": "71cf8644-76ba-4370-d559-db54fc1b1fc7"
      },
      "outputs": [
        {
          "data": {
            "text/html": [
              "<div>\n",
              "<style scoped>\n",
              "    .dataframe tbody tr th:only-of-type {\n",
              "        vertical-align: middle;\n",
              "    }\n",
              "\n",
              "    .dataframe tbody tr th {\n",
              "        vertical-align: top;\n",
              "    }\n",
              "\n",
              "    .dataframe thead th {\n",
              "        text-align: right;\n",
              "    }\n",
              "</style>\n",
              "<table border=\"1\" class=\"dataframe\">\n",
              "  <thead>\n",
              "    <tr style=\"text-align: right;\">\n",
              "      <th></th>\n",
              "      <th>date</th>\n",
              "      <th>type</th>\n",
              "    </tr>\n",
              "  </thead>\n",
              "  <tbody>\n",
              "    <tr>\n",
              "      <th>count</th>\n",
              "      <td>281.000000</td>\n",
              "      <td>281.000000</td>\n",
              "    </tr>\n",
              "    <tr>\n",
              "      <th>mean</th>\n",
              "      <td>901.896797</td>\n",
              "      <td>1.402135</td>\n",
              "    </tr>\n",
              "    <tr>\n",
              "      <th>std</th>\n",
              "      <td>461.359327</td>\n",
              "      <td>1.996031</td>\n",
              "    </tr>\n",
              "    <tr>\n",
              "      <th>min</th>\n",
              "      <td>1.000000</td>\n",
              "      <td>0.000000</td>\n",
              "    </tr>\n",
              "    <tr>\n",
              "      <th>25%</th>\n",
              "      <td>540.000000</td>\n",
              "      <td>0.000000</td>\n",
              "    </tr>\n",
              "    <tr>\n",
              "      <th>50%</th>\n",
              "      <td>934.000000</td>\n",
              "      <td>0.000000</td>\n",
              "    </tr>\n",
              "    <tr>\n",
              "      <th>75%</th>\n",
              "      <td>1237.000000</td>\n",
              "      <td>2.000000</td>\n",
              "    </tr>\n",
              "    <tr>\n",
              "      <th>max</th>\n",
              "      <td>1684.000000</td>\n",
              "      <td>5.000000</td>\n",
              "    </tr>\n",
              "  </tbody>\n",
              "</table>\n",
              "</div>"
            ],
            "text/plain": [
              "              date        type\n",
              "count   281.000000  281.000000\n",
              "mean    901.896797    1.402135\n",
              "std     461.359327    1.996031\n",
              "min       1.000000    0.000000\n",
              "25%     540.000000    0.000000\n",
              "50%     934.000000    0.000000\n",
              "75%    1237.000000    2.000000\n",
              "max    1684.000000    5.000000"
            ]
          },
          "execution_count": 23,
          "metadata": {},
          "output_type": "execute_result"
        }
      ],
      "source": [
        " holidays.describe()"
      ]
    },
    {
      "cell_type": "code",
      "execution_count": 24,
      "metadata": {
        "colab": {
          "base_uri": "https://localhost:8080/"
        },
        "id": "IjD4RclhaNLn",
        "outputId": "f02a734b-0b79-42f7-9afc-7ea84284eeec"
      },
      "outputs": [
        {
          "data": {
            "text/plain": [
              "251"
            ]
          },
          "execution_count": 24,
          "metadata": {},
          "output_type": "execute_result"
        }
      ],
      "source": [
        "# count the number of dates in the holidays dataset\n",
        "holidays.date.nunique()"
      ]
    },
    {
      "attachments": {},
      "cell_type": "markdown",
      "metadata": {
        "id": "0vzexdncCW7J"
      },
      "source": [
        "notice that the dates in the holiday dataset are not complete\n",
        "\n",
        "so, we will later create a column for holidays in our train and test dataset based on the following logic:\n",
        "\n",
        "if a date is in the holidays table, then its a holiday, else that date is not a holiday"
      ]
    },
    {
      "attachments": {},
      "cell_type": "markdown",
      "metadata": {
        "id": "0PSAf8TQ4Nz6"
      },
      "source": [
        "## Hypothesis\n",
        "**H0**: holidays have a big effect on sales, hence the sales data is seasonal.\n",
        "\n",
        "**H1**: holidays don't affect sales, hence sales data is stationary."
      ]
    },
    {
      "attachments": {},
      "cell_type": "markdown",
      "metadata": {
        "id": "9m8lZeet4Nz6"
      },
      "source": [
        "## Questions\n",
        "\n",
        "1. Is the train data complete?\n",
        "2. Do we have seasonality in our sales?\n",
        "3. Are there outliers in our dataset?\n",
        "4. What is the difference between RMSLE, RMSE and MSE?"
      ]
    },
    {
      "attachments": {},
      "cell_type": "markdown",
      "metadata": {
        "id": "hqYE8pYDyiT5"
      },
      "source": [
        "| Issues                                  | how we intend to solve them                                                                                                   |\n",
        "|----------------------------------------|------------------------------------------------------------------------------------------------------------|\n",
        "| 1. City, type & cluster in our stores dataset are mumerical | convert to string and make the categories more descriptive.                                            |\n",
        "| 2. The dayofyear column in our dates dataset ranges from 1 to 366. This will make some days fall on the wrong number | find the sine and cosine of this column to represent the cyclic nature of a year. | We can also include weather conditions, holidays and events to this.                        |\n"
      ]
    },
    {
      "attachments": {},
      "cell_type": "markdown",
      "metadata": {
        "id": "KZnWtLbK4Nz7"
      },
      "source": [
        "# Data Cleaning\n",
        "\n",
        "Here, we will prepare our data for Univariate and Bivariate analysis. "
      ]
    },
    {
      "attachments": {},
      "cell_type": "markdown",
      "metadata": {
        "id": "VND4jVpS4Nz7"
      },
      "source": [
        "## Fixing our issues"
      ]
    },
    {
      "attachments": {},
      "cell_type": "markdown",
      "metadata": {
        "id": "nCQignpE4a_O"
      },
      "source": [
        "1. City, type & cluster in our stores dataset are mumerical \n",
        "\n",
        "Solution: convert to string and make the categories more descriptive."
      ]
    },
    {
      "attachments": {},
      "cell_type": "markdown",
      "metadata": {
        "id": "0qEJuYQI-q2Q"
      },
      "source": [
        "**city**"
      ]
    },
    {
      "cell_type": "code",
      "execution_count": 25,
      "metadata": {
        "colab": {
          "base_uri": "https://localhost:8080/"
        },
        "id": "ORS8-rnS4hSA",
        "outputId": "14e1f3bc-4f4e-46e7-d9d6-6c9add50353d"
      },
      "outputs": [
        {
          "data": {
            "text/plain": [
              "array([ 0,  1,  2,  3,  4,  5,  6,  7,  8,  9, 10, 11, 12, 13, 14, 15, 16,\n",
              "       17, 18, 19, 20, 21], dtype=int64)"
            ]
          },
          "execution_count": 25,
          "metadata": {},
          "output_type": "execute_result"
        }
      ],
      "source": [
        "stores.city.unique()"
      ]
    },
    {
      "cell_type": "code",
      "execution_count": 26,
      "metadata": {
        "id": "NNBx10S-5XiM"
      },
      "outputs": [],
      "source": [
        "# using each city number as index, \n",
        "# convert each city number to the corresponding city from a list of us_cities\n",
        "stores.city = stores.city.apply(lambda x: 'city_'+ str(x))"
      ]
    },
    {
      "cell_type": "code",
      "execution_count": 27,
      "metadata": {
        "colab": {
          "base_uri": "https://localhost:8080/"
        },
        "id": "_K5CD29G-mip",
        "outputId": "6bda12f0-3480-4dcc-dd77-9eb258701b0e"
      },
      "outputs": [
        {
          "data": {
            "text/plain": [
              "array(['city_0', 'city_1', 'city_2', 'city_3', 'city_4', 'city_5',\n",
              "       'city_6', 'city_7', 'city_8', 'city_9', 'city_10', 'city_11',\n",
              "       'city_12', 'city_13', 'city_14', 'city_15', 'city_16', 'city_17',\n",
              "       'city_18', 'city_19', 'city_20', 'city_21'], dtype=object)"
            ]
          },
          "execution_count": 27,
          "metadata": {},
          "output_type": "execute_result"
        }
      ],
      "source": [
        "stores.city.unique()"
      ]
    },
    {
      "attachments": {},
      "cell_type": "markdown",
      "metadata": {
        "id": "0qIQ4Vcm-8yF"
      },
      "source": [
        "**type**"
      ]
    },
    {
      "cell_type": "code",
      "execution_count": 28,
      "metadata": {
        "colab": {
          "base_uri": "https://localhost:8080/"
        },
        "id": "mkHa2RMC--vR",
        "outputId": "f7f2f127-bb3c-496c-eb7c-e6481bf5c4e5"
      },
      "outputs": [
        {
          "data": {
            "text/plain": [
              "array([0, 1, 2, 3, 4], dtype=int64)"
            ]
          },
          "execution_count": 28,
          "metadata": {},
          "output_type": "execute_result"
        }
      ],
      "source": [
        "stores.type.unique()"
      ]
    },
    {
      "cell_type": "code",
      "execution_count": 29,
      "metadata": {
        "id": "COckj6Bd_h0e"
      },
      "outputs": [],
      "source": [
        "# convert each store_type number to the corresponding store_type from a list of grocery_store_types\n",
        "stores.type = stores.type.apply(lambda x: 'store_'+ str(x))"
      ]
    },
    {
      "cell_type": "code",
      "execution_count": 30,
      "metadata": {
        "colab": {
          "base_uri": "https://localhost:8080/"
        },
        "id": "JDtCVODkAEkP",
        "outputId": "e5ebf335-399c-40de-d265-8866ebeb0d44"
      },
      "outputs": [
        {
          "data": {
            "text/plain": [
              "array(['store_0', 'store_1', 'store_2', 'store_3', 'store_4'],\n",
              "      dtype=object)"
            ]
          },
          "execution_count": 30,
          "metadata": {},
          "output_type": "execute_result"
        }
      ],
      "source": [
        "stores.type.unique()"
      ]
    },
    {
      "attachments": {},
      "cell_type": "markdown",
      "metadata": {
        "id": "D5TqopxkAf1r"
      },
      "source": [
        "**cluster**"
      ]
    },
    {
      "cell_type": "code",
      "execution_count": 31,
      "metadata": {
        "colab": {
          "base_uri": "https://localhost:8080/"
        },
        "id": "9dH8INMmAiBC",
        "outputId": "c6ae0316-2df6-4259-e3b8-4a59c3f988f2"
      },
      "outputs": [
        {
          "data": {
            "text/plain": [
              "array([ 0,  1,  2,  3,  4,  5,  6,  7,  8,  9, 10, 11, 12, 13, 14, 15, 16],\n",
              "      dtype=int64)"
            ]
          },
          "execution_count": 31,
          "metadata": {},
          "output_type": "execute_result"
        }
      ],
      "source": [
        "stores.cluster.unique()"
      ]
    },
    {
      "cell_type": "code",
      "execution_count": 32,
      "metadata": {
        "id": "1OM3bwR6BOyF"
      },
      "outputs": [],
      "source": [
        "# convert each cluster number to the corresponding cluster from a list of us_cities\n",
        "stores.cluster = stores.cluster.apply(lambda x: 'cluster_'+ str(x))"
      ]
    },
    {
      "cell_type": "code",
      "execution_count": 33,
      "metadata": {
        "colab": {
          "base_uri": "https://localhost:8080/"
        },
        "id": "kwik8MGXBuFp",
        "outputId": "b84a5c50-fbe3-4db7-9957-1e56c28da50b"
      },
      "outputs": [
        {
          "data": {
            "text/plain": [
              "array(['cluster_0', 'cluster_1', 'cluster_2', 'cluster_3', 'cluster_4',\n",
              "       'cluster_5', 'cluster_6', 'cluster_7', 'cluster_8', 'cluster_9',\n",
              "       'cluster_10', 'cluster_11', 'cluster_12', 'cluster_13',\n",
              "       'cluster_14', 'cluster_15', 'cluster_16'], dtype=object)"
            ]
          },
          "execution_count": 33,
          "metadata": {},
          "output_type": "execute_result"
        }
      ],
      "source": [
        "stores.cluster.unique()"
      ]
    },
    {
      "cell_type": "code",
      "execution_count": 34,
      "metadata": {
        "colab": {
          "base_uri": "https://localhost:8080/"
        },
        "id": "r5we9TFqwQel",
        "outputId": "066196f5-8c48-4de4-d1cf-e014f0d44dee"
      },
      "outputs": [
        {
          "data": {
            "text/plain": [
              "array([0, 4, 2, 5, 1, 3], dtype=int64)"
            ]
          },
          "execution_count": 34,
          "metadata": {},
          "output_type": "execute_result"
        }
      ],
      "source": [
        "holidays.type.unique()"
      ]
    },
    {
      "attachments": {},
      "cell_type": "markdown",
      "metadata": {
        "id": "TSbfsjQKByfc"
      },
      "source": [
        "2. The dayofyear column in our dates dataset ranges from 1 to 366. This will make some days fall on the wrong number \n",
        "\n",
        "Solution: find the sine and cosine of this column to represent the cyclic nature of a year. We can also include weather conditions, holidays and events to this."
      ]
    },
    {
      "cell_type": "code",
      "execution_count": 35,
      "metadata": {
        "colab": {
          "base_uri": "https://localhost:8080/"
        },
        "id": "05Z73hvCC2FN",
        "outputId": "c74e3b86-935c-4044-d9b8-a88ba23e6cd1"
      },
      "outputs": [
        {
          "name": "stdout",
          "output_type": "stream",
          "text": [
            "<class 'pandas.core.frame.DataFrame'>\n",
            "RangeIndex: 1320 entries, 0 to 1319\n",
            "Data columns (total 15 columns):\n",
            " #   Column            Non-Null Count  Dtype\n",
            "---  ------            --------------  -----\n",
            " 0   date              1320 non-null   int64\n",
            " 1   year              1320 non-null   int64\n",
            " 2   month             1320 non-null   int64\n",
            " 3   dayofmonth        1320 non-null   int64\n",
            " 4   dayofweek         1320 non-null   int64\n",
            " 5   dayofyear         1320 non-null   int64\n",
            " 6   weekofyear        1320 non-null   int64\n",
            " 7   quarter           1320 non-null   int64\n",
            " 8   is_month_start    1320 non-null   bool \n",
            " 9   is_month_end      1320 non-null   bool \n",
            " 10  is_quarter_start  1320 non-null   bool \n",
            " 11  is_quarter_end    1320 non-null   bool \n",
            " 12  is_year_start     1320 non-null   bool \n",
            " 13  is_year_end       1320 non-null   bool \n",
            " 14  year_weekofyear   1320 non-null   int64\n",
            "dtypes: bool(6), int64(9)\n",
            "memory usage: 100.7 KB\n"
          ]
        }
      ],
      "source": [
        "dates.info()"
      ]
    },
    {
      "cell_type": "code",
      "execution_count": 36,
      "metadata": {
        "id": "AJFpNxN1B5xJ"
      },
      "outputs": [],
      "source": [
        "# create new coolumns to represent the cyclic nature of a year\n",
        "dates[\"sin(dayofyear)\"] = np.sin(dates[\"dayofyear\"])\n",
        "dates[\"cos(dayofyear)\"] = np.cos(dates[\"dayofyear\"])"
      ]
    },
    {
      "attachments": {},
      "cell_type": "markdown",
      "metadata": {
        "id": "vjFCEucJjUnj"
      },
      "source": [
        "### merging our data"
      ]
    },
    {
      "attachments": {},
      "cell_type": "markdown",
      "metadata": {
        "id": "Hf2j2PJ-jnRX"
      },
      "source": [
        "first, we will get the date column for the dates dataset"
      ]
    },
    {
      "cell_type": "code",
      "execution_count": 37,
      "metadata": {},
      "outputs": [],
      "source": [
        "# Create a new column combining the year, month, and day of the month in the desired format\n",
        "dates['date_extracted'] = (\n",
        "    dates['year'].astype(int).add(2000).astype(str) + '-' +\n",
        "    dates['month'].astype(str).str.zfill(2) + '-' +\n",
        "    dates['dayofmonth'].astype(str).str.zfill(2)\n",
        ")"
      ]
    },
    {
      "cell_type": "code",
      "execution_count": 38,
      "metadata": {},
      "outputs": [
        {
          "name": "stdout",
          "output_type": "stream",
          "text": [
            "new date: 1320 old date: 1320\n"
          ]
        }
      ],
      "source": [
        "print(f\"new date: {dates['date_extracted'].nunique()} old date: {dates['date'].nunique()}\")"
      ]
    },
    {
      "cell_type": "code",
      "execution_count": 39,
      "metadata": {},
      "outputs": [],
      "source": [
        "dates.set_index('date', inplace=True)"
      ]
    },
    {
      "cell_type": "code",
      "execution_count": 40,
      "metadata": {},
      "outputs": [
        {
          "data": {
            "text/plain": [
              "array([   1,    5,   12,   42,   43,   61,   91,  102,  104,  111,  119,\n",
              "        121,  131,  132,  144,  174,  176,  184,  204,  205,  206,  217,\n",
              "        222,  227,  236,  271,  280,  282,  284,  306,  307,  310,  311,\n",
              "        314,  315,  316,  339,  340,  342,  355,  356,  357,  358,  359,\n",
              "        364,  365,  425,  426,  427,  455,  466,  468,  472,  475,  485,\n",
              "        494,  495,  496,  508,  527,  530,  535,  538,  540,  543,  544,\n",
              "        545,  546,  548,  549,  550,  553,  554,  557,  558,  568,  569,\n",
              "        570,  581,  586,  591,  600,  635,  644,  646,  647,  670,  671,\n",
              "        674,  675,  678,  679,  680,  696,  699,  703,  704,  706,  718,\n",
              "        719,  720,  721,  722,  723,  728,  729,  730,  738,  775,  776,\n",
              "        789,  819,  821,  830,  832,  839,  849,  857,  858,  860,  872,\n",
              "        902,  904,  912,  932,  933,  934,  945,  950,  955,  964,  999,\n",
              "       1008, 1010, 1034, 1035, 1038, 1039, 1042, 1043, 1044, 1059, 1062,\n",
              "       1067, 1068, 1070, 1083, 1084, 1085, 1086, 1087, 1092, 1131, 1132,\n",
              "       1154, 1177, 1184, 1195, 1197, 1199, 1200, 1201, 1202, 1203, 1204,\n",
              "       1205, 1206, 1207, 1208, 1209, 1210, 1211, 1212, 1213, 1214, 1215,\n",
              "       1216, 1217, 1218, 1219, 1220, 1221, 1222, 1223, 1224, 1225, 1226,\n",
              "       1227, 1228, 1229, 1237, 1240, 1267, 1269, 1277, 1297, 1298, 1299,\n",
              "       1310, 1315, 1317, 1320, 1329, 1364, 1373, 1375, 1399, 1400, 1401,\n",
              "       1403, 1404, 1407, 1408, 1409, 1422, 1425, 1432, 1433, 1435, 1448,\n",
              "       1449, 1450, 1451, 1452, 1457, 1458, 1459, 1515, 1516, 1518, 1548,\n",
              "       1559, 1560, 1561, 1568, 1578, 1589, 1590, 1591, 1601, 1603, 1631,\n",
              "       1633, 1641, 1661, 1662, 1663, 1674, 1679, 1680, 1684], dtype=int64)"
            ]
          },
          "execution_count": 40,
          "metadata": {},
          "output_type": "execute_result"
        }
      ],
      "source": [
        "holidays['date'].unique()"
      ]
    },
    {
      "cell_type": "code",
      "execution_count": 41,
      "metadata": {},
      "outputs": [
        {
          "data": {
            "text/plain": [
              "array(['2001-01-01', '2001-01-02', '2001-01-03', ..., '2004-08-13',\n",
              "       '2004-08-14', '2004-08-15'], dtype=object)"
            ]
          },
          "execution_count": 41,
          "metadata": {},
          "output_type": "execute_result"
        }
      ],
      "source": [
        "dates['date_extracted'].unique()"
      ]
    },
    {
      "cell_type": "code",
      "execution_count": 42,
      "metadata": {},
      "outputs": [],
      "source": [
        "holidays.rename(columns={'type':'holiday_type'}, inplace=True)"
      ]
    },
    {
      "cell_type": "code",
      "execution_count": 43,
      "metadata": {
        "id": "9Plu4afabTz2"
      },
      "outputs": [],
      "source": [
        "col='date_extracted'\n",
        "train[col] = train['date'].map(dates[col])\n",
        "test[col] = test['date'].map(dates[col])\n",
        "holidays[col] = holidays['date'].map(dates[col])"
      ]
    },
    {
      "cell_type": "code",
      "execution_count": 44,
      "metadata": {},
      "outputs": [
        {
          "data": {
            "text/html": [
              "<div>\n",
              "<style scoped>\n",
              "    .dataframe tbody tr th:only-of-type {\n",
              "        vertical-align: middle;\n",
              "    }\n",
              "\n",
              "    .dataframe tbody tr th {\n",
              "        vertical-align: top;\n",
              "    }\n",
              "\n",
              "    .dataframe thead th {\n",
              "        text-align: right;\n",
              "    }\n",
              "</style>\n",
              "<table border=\"1\" class=\"dataframe\">\n",
              "  <thead>\n",
              "    <tr style=\"text-align: right;\">\n",
              "      <th></th>\n",
              "      <th>date</th>\n",
              "      <th>holiday_type</th>\n",
              "      <th>date_extracted</th>\n",
              "    </tr>\n",
              "  </thead>\n",
              "  <tbody>\n",
              "    <tr>\n",
              "      <th>0</th>\n",
              "      <td>1</td>\n",
              "      <td>0</td>\n",
              "      <td>NaN</td>\n",
              "    </tr>\n",
              "    <tr>\n",
              "      <th>1</th>\n",
              "      <td>5</td>\n",
              "      <td>4</td>\n",
              "      <td>NaN</td>\n",
              "    </tr>\n",
              "    <tr>\n",
              "      <th>2</th>\n",
              "      <td>12</td>\n",
              "      <td>4</td>\n",
              "      <td>NaN</td>\n",
              "    </tr>\n",
              "    <tr>\n",
              "      <th>3</th>\n",
              "      <td>42</td>\n",
              "      <td>0</td>\n",
              "      <td>NaN</td>\n",
              "    </tr>\n",
              "    <tr>\n",
              "      <th>4</th>\n",
              "      <td>43</td>\n",
              "      <td>0</td>\n",
              "      <td>NaN</td>\n",
              "    </tr>\n",
              "    <tr>\n",
              "      <th>...</th>\n",
              "      <td>...</td>\n",
              "      <td>...</td>\n",
              "      <td>...</td>\n",
              "    </tr>\n",
              "    <tr>\n",
              "      <th>276</th>\n",
              "      <td>1663</td>\n",
              "      <td>2</td>\n",
              "      <td>2004-07-25</td>\n",
              "    </tr>\n",
              "    <tr>\n",
              "      <th>277</th>\n",
              "      <td>1674</td>\n",
              "      <td>0</td>\n",
              "      <td>2004-08-05</td>\n",
              "    </tr>\n",
              "    <tr>\n",
              "      <th>278</th>\n",
              "      <td>1679</td>\n",
              "      <td>0</td>\n",
              "      <td>2004-08-10</td>\n",
              "    </tr>\n",
              "    <tr>\n",
              "      <th>279</th>\n",
              "      <td>1680</td>\n",
              "      <td>1</td>\n",
              "      <td>2004-08-11</td>\n",
              "    </tr>\n",
              "    <tr>\n",
              "      <th>280</th>\n",
              "      <td>1684</td>\n",
              "      <td>0</td>\n",
              "      <td>2004-08-15</td>\n",
              "    </tr>\n",
              "  </tbody>\n",
              "</table>\n",
              "<p>281 rows × 3 columns</p>\n",
              "</div>"
            ],
            "text/plain": [
              "     date  holiday_type date_extracted\n",
              "0       1             0            NaN\n",
              "1       5             4            NaN\n",
              "2      12             4            NaN\n",
              "3      42             0            NaN\n",
              "4      43             0            NaN\n",
              "..    ...           ...            ...\n",
              "276  1663             2     2004-07-25\n",
              "277  1674             0     2004-08-05\n",
              "278  1679             0     2004-08-10\n",
              "279  1680             1     2004-08-11\n",
              "280  1684             0     2004-08-15\n",
              "\n",
              "[281 rows x 3 columns]"
            ]
          },
          "execution_count": 44,
          "metadata": {},
          "output_type": "execute_result"
        }
      ],
      "source": [
        "holidays"
      ]
    },
    {
      "cell_type": "code",
      "execution_count": 45,
      "metadata": {
        "colab": {
          "base_uri": "https://localhost:8080/"
        },
        "id": "IMCiD-4akF7C",
        "outputId": "86851a4d-0c10-4b5d-df95-b581d629f335"
      },
      "outputs": [
        {
          "data": {
            "text/plain": [
              "date                   0\n",
              "store_id               0\n",
              "category_id            0\n",
              "target                 0\n",
              "onpromotion            0\n",
              "nbr_of_transactions    0\n",
              "date_extracted         0\n",
              "dtype: int64"
            ]
          },
          "execution_count": 45,
          "metadata": {},
          "output_type": "execute_result"
        }
      ],
      "source": [
        "train.isna().sum()"
      ]
    },
    {
      "cell_type": "code",
      "execution_count": 46,
      "metadata": {},
      "outputs": [],
      "source": [
        "# drop unnecessary columns\n",
        "train.drop(columns=['date'], \n",
        "           inplace=True,\n",
        "           axis=1)\n",
        "test.drop(columns=['date'], \n",
        "           inplace=True,\n",
        "           axis=1)"
      ]
    },
    {
      "attachments": {},
      "cell_type": "markdown",
      "metadata": {},
      "source": [
        "### fill all missing dates"
      ]
    },
    {
      "cell_type": "code",
      "execution_count": 47,
      "metadata": {},
      "outputs": [],
      "source": [
        "# create a function to check for missing extracted dates\n",
        "def get_missing_dates(df):\n",
        "  col = df[\"date_extracted\"]\n",
        "  missing_dates = (pd.date_range(\n",
        "      \n",
        "      start=col.min(), #start date\n",
        "      end=col.max())   #end_date\n",
        "      .difference(col))\n",
        "  print(f\"we have {len(missing_dates)} dates missing out of {len(col)}\")\n",
        "  return missing_dates"
      ]
    },
    {
      "cell_type": "code",
      "execution_count": 48,
      "metadata": {},
      "outputs": [
        {
          "name": "stdout",
          "output_type": "stream",
          "text": [
            "we have 56 dates missing out of 99792\n"
          ]
        },
        {
          "data": {
            "text/plain": [
              "DatetimeIndex(['2004-06-19', '2004-06-20', '2004-06-21', '2004-06-22',\n",
              "               '2004-06-23', '2004-06-24', '2004-06-25', '2004-06-26',\n",
              "               '2004-06-27', '2004-06-28', '2004-06-29', '2004-06-30',\n",
              "               '2004-07-01', '2004-07-02', '2004-07-03', '2004-07-04',\n",
              "               '2004-07-05', '2004-07-06', '2004-07-07', '2004-07-08',\n",
              "               '2004-07-09', '2004-07-10', '2004-07-11', '2004-07-12',\n",
              "               '2004-07-13', '2004-07-14', '2004-07-15', '2004-07-16',\n",
              "               '2004-07-17', '2004-07-18', '2004-07-19', '2004-07-20',\n",
              "               '2004-07-21', '2004-07-22', '2004-07-23', '2004-07-24',\n",
              "               '2004-07-25', '2004-07-26', '2004-07-27', '2004-07-28',\n",
              "               '2004-07-29', '2004-07-30', '2004-07-31', '2004-08-01',\n",
              "               '2004-08-02', '2004-08-03', '2004-08-04', '2004-08-05',\n",
              "               '2004-08-06', '2004-08-07', '2004-08-08', '2004-08-09',\n",
              "               '2004-08-10', '2004-08-11', '2004-08-12', '2004-08-13'],\n",
              "              dtype='datetime64[ns]', freq=None)"
            ]
          },
          "execution_count": 48,
          "metadata": {},
          "output_type": "execute_result"
        }
      ],
      "source": [
        "get_missing_dates(test)"
      ]
    },
    {
      "cell_type": "code",
      "execution_count": 49,
      "metadata": {},
      "outputs": [
        {
          "name": "stdout",
          "output_type": "stream",
          "text": [
            "we have 1265 dates missing out of 2248884\n"
          ]
        },
        {
          "data": {
            "text/plain": [
              "DatetimeIndex(['2001-01-01', '2001-01-02', '2001-01-03', '2001-01-04',\n",
              "               '2001-01-05', '2001-01-06', '2001-01-07', '2001-01-08',\n",
              "               '2001-01-09', '2001-01-10',\n",
              "               ...\n",
              "               '2004-06-09', '2004-06-10', '2004-06-11', '2004-06-12',\n",
              "               '2004-06-13', '2004-06-14', '2004-06-15', '2004-06-16',\n",
              "               '2004-06-17', '2004-06-18'],\n",
              "              dtype='datetime64[ns]', length=1265, freq=None)"
            ]
          },
          "execution_count": 49,
          "metadata": {},
          "output_type": "execute_result"
        }
      ],
      "source": [
        "get_missing_dates(train)"
      ]
    },
    {
      "attachments": {},
      "cell_type": "markdown",
      "metadata": {},
      "source": [
        "**train**"
      ]
    },
    {
      "cell_type": "code",
      "execution_count": 50,
      "metadata": {},
      "outputs": [
        {
          "data": {
            "text/html": [
              "<div>\n",
              "<style scoped>\n",
              "    .dataframe tbody tr th:only-of-type {\n",
              "        vertical-align: middle;\n",
              "    }\n",
              "\n",
              "    .dataframe tbody tr th {\n",
              "        vertical-align: top;\n",
              "    }\n",
              "\n",
              "    .dataframe thead th {\n",
              "        text-align: right;\n",
              "    }\n",
              "</style>\n",
              "<table border=\"1\" class=\"dataframe\">\n",
              "  <thead>\n",
              "    <tr style=\"text-align: right;\">\n",
              "      <th></th>\n",
              "      <th>store_id</th>\n",
              "      <th>category_id</th>\n",
              "      <th>target</th>\n",
              "      <th>onpromotion</th>\n",
              "      <th>nbr_of_transactions</th>\n",
              "      <th>date_extracted</th>\n",
              "    </tr>\n",
              "  </thead>\n",
              "  <tbody>\n",
              "    <tr>\n",
              "      <th>0</th>\n",
              "      <td>store_1</td>\n",
              "      <td>category_24</td>\n",
              "      <td>0.0</td>\n",
              "      <td>0</td>\n",
              "      <td>0.0</td>\n",
              "      <td>2001-01-01</td>\n",
              "    </tr>\n",
              "    <tr>\n",
              "      <th>1</th>\n",
              "      <td>store_1</td>\n",
              "      <td>category_21</td>\n",
              "      <td>0.0</td>\n",
              "      <td>0</td>\n",
              "      <td>0.0</td>\n",
              "      <td>2001-01-01</td>\n",
              "    </tr>\n",
              "    <tr>\n",
              "      <th>2</th>\n",
              "      <td>store_1</td>\n",
              "      <td>category_32</td>\n",
              "      <td>0.0</td>\n",
              "      <td>0</td>\n",
              "      <td>0.0</td>\n",
              "      <td>2001-01-01</td>\n",
              "    </tr>\n",
              "    <tr>\n",
              "      <th>3</th>\n",
              "      <td>store_1</td>\n",
              "      <td>category_18</td>\n",
              "      <td>0.0</td>\n",
              "      <td>0</td>\n",
              "      <td>0.0</td>\n",
              "      <td>2001-01-01</td>\n",
              "    </tr>\n",
              "    <tr>\n",
              "      <th>4</th>\n",
              "      <td>store_1</td>\n",
              "      <td>category_26</td>\n",
              "      <td>0.0</td>\n",
              "      <td>0</td>\n",
              "      <td>0.0</td>\n",
              "      <td>2001-01-01</td>\n",
              "    </tr>\n",
              "  </tbody>\n",
              "</table>\n",
              "</div>"
            ],
            "text/plain": [
              "  store_id  category_id  target  onpromotion  nbr_of_transactions  \\\n",
              "0  store_1  category_24     0.0            0                  0.0   \n",
              "1  store_1  category_21     0.0            0                  0.0   \n",
              "2  store_1  category_32     0.0            0                  0.0   \n",
              "3  store_1  category_18     0.0            0                  0.0   \n",
              "4  store_1  category_26     0.0            0                  0.0   \n",
              "\n",
              "  date_extracted  \n",
              "0     2001-01-01  \n",
              "1     2001-01-01  \n",
              "2     2001-01-01  \n",
              "3     2001-01-01  \n",
              "4     2001-01-01  "
            ]
          },
          "execution_count": 50,
          "metadata": {},
          "output_type": "execute_result"
        }
      ],
      "source": [
        "train.head()"
      ]
    },
    {
      "cell_type": "markdown",
      "metadata": {},
      "source": [
        "every date iterates or loops over every unique store_id\n",
        "\n",
        "every store_id also iterates or loops over every unique category_id, so we will use itertools.product() function to get all missing dates from our train dataset\n",
        "\n",
        "Why this function? We must get every possible combination of 3 columns: date, store_id & category_id. This function does that for us. \n",
        "\n",
        "Read more about it [here](https://www.educative.io/answers/what-is-the-itertoolsproduct-method-in-python)"
      ]
    },
    {
      "cell_type": "code",
      "execution_count": 51,
      "metadata": {},
      "outputs": [],
      "source": [
        "# getting all train dates\n",
        "all_train_dates = (pd.date_range(\n",
        "    start=train['date_extracted'].min(),\n",
        "    end=train['date_extracted'].max())\n",
        "    .strftime('%Y-%m-%d')\n",
        "    )\n",
        "\n",
        "# get a list of all possible combinations of (date, store_id, category_id) for all_train_dates\n",
        "all_train_combinations = list(\n",
        "    product(\n",
        "        all_train_dates, \n",
        "        train.store_id.unique(), \n",
        "        train.category_id.unique()))\n",
        "\n",
        "# convert to a dataframe\n",
        "all_train_combinations_df = pd.DataFrame(\n",
        "    all_train_combinations, \n",
        "    columns=['date_extracted', 'store_id', 'category_id'])"
      ]
    },
    {
      "cell_type": "code",
      "execution_count": 52,
      "metadata": {},
      "outputs": [],
      "source": [
        "# adding all dates to train\n",
        "train_with_all_dates = pd.concat(\n",
        "    [train, all_train_combinations_df], \n",
        "    ignore_index=True)"
      ]
    },
    {
      "cell_type": "code",
      "execution_count": 53,
      "metadata": {},
      "outputs": [
        {
          "data": {
            "text/html": [
              "<div>\n",
              "<style scoped>\n",
              "    .dataframe tbody tr th:only-of-type {\n",
              "        vertical-align: middle;\n",
              "    }\n",
              "\n",
              "    .dataframe tbody tr th {\n",
              "        vertical-align: top;\n",
              "    }\n",
              "\n",
              "    .dataframe thead th {\n",
              "        text-align: right;\n",
              "    }\n",
              "</style>\n",
              "<table border=\"1\" class=\"dataframe\">\n",
              "  <thead>\n",
              "    <tr style=\"text-align: right;\">\n",
              "      <th></th>\n",
              "      <th>store_id</th>\n",
              "      <th>category_id</th>\n",
              "      <th>target</th>\n",
              "      <th>onpromotion</th>\n",
              "      <th>nbr_of_transactions</th>\n",
              "      <th>date_extracted</th>\n",
              "    </tr>\n",
              "  </thead>\n",
              "  <tbody>\n",
              "    <tr>\n",
              "      <th>0</th>\n",
              "      <td>store_1</td>\n",
              "      <td>category_24</td>\n",
              "      <td>0.0</td>\n",
              "      <td>0.0</td>\n",
              "      <td>0.0</td>\n",
              "      <td>2001-01-01</td>\n",
              "    </tr>\n",
              "    <tr>\n",
              "      <th>1</th>\n",
              "      <td>store_1</td>\n",
              "      <td>category_21</td>\n",
              "      <td>0.0</td>\n",
              "      <td>0.0</td>\n",
              "      <td>0.0</td>\n",
              "      <td>2001-01-01</td>\n",
              "    </tr>\n",
              "    <tr>\n",
              "      <th>2</th>\n",
              "      <td>store_1</td>\n",
              "      <td>category_32</td>\n",
              "      <td>0.0</td>\n",
              "      <td>0.0</td>\n",
              "      <td>0.0</td>\n",
              "      <td>2001-01-01</td>\n",
              "    </tr>\n",
              "    <tr>\n",
              "      <th>3</th>\n",
              "      <td>store_1</td>\n",
              "      <td>category_18</td>\n",
              "      <td>0.0</td>\n",
              "      <td>0.0</td>\n",
              "      <td>0.0</td>\n",
              "      <td>2001-01-01</td>\n",
              "    </tr>\n",
              "    <tr>\n",
              "      <th>4</th>\n",
              "      <td>store_1</td>\n",
              "      <td>category_26</td>\n",
              "      <td>0.0</td>\n",
              "      <td>0.0</td>\n",
              "      <td>0.0</td>\n",
              "      <td>2001-01-01</td>\n",
              "    </tr>\n",
              "    <tr>\n",
              "      <th>...</th>\n",
              "      <td>...</td>\n",
              "      <td>...</td>\n",
              "      <td>...</td>\n",
              "      <td>...</td>\n",
              "      <td>...</td>\n",
              "      <td>...</td>\n",
              "    </tr>\n",
              "    <tr>\n",
              "      <th>4503109</th>\n",
              "      <td>store_9</td>\n",
              "      <td>category_23</td>\n",
              "      <td>NaN</td>\n",
              "      <td>NaN</td>\n",
              "      <td>NaN</td>\n",
              "      <td>2004-06-18</td>\n",
              "    </tr>\n",
              "    <tr>\n",
              "      <th>4503110</th>\n",
              "      <td>store_9</td>\n",
              "      <td>category_20</td>\n",
              "      <td>NaN</td>\n",
              "      <td>NaN</td>\n",
              "      <td>NaN</td>\n",
              "      <td>2004-06-18</td>\n",
              "    </tr>\n",
              "    <tr>\n",
              "      <th>4503111</th>\n",
              "      <td>store_9</td>\n",
              "      <td>category_15</td>\n",
              "      <td>NaN</td>\n",
              "      <td>NaN</td>\n",
              "      <td>NaN</td>\n",
              "      <td>2004-06-18</td>\n",
              "    </tr>\n",
              "    <tr>\n",
              "      <th>4503112</th>\n",
              "      <td>store_9</td>\n",
              "      <td>category_29</td>\n",
              "      <td>NaN</td>\n",
              "      <td>NaN</td>\n",
              "      <td>NaN</td>\n",
              "      <td>2004-06-18</td>\n",
              "    </tr>\n",
              "    <tr>\n",
              "      <th>4503113</th>\n",
              "      <td>store_9</td>\n",
              "      <td>category_10</td>\n",
              "      <td>NaN</td>\n",
              "      <td>NaN</td>\n",
              "      <td>NaN</td>\n",
              "      <td>2004-06-18</td>\n",
              "    </tr>\n",
              "  </tbody>\n",
              "</table>\n",
              "<p>4503114 rows × 6 columns</p>\n",
              "</div>"
            ],
            "text/plain": [
              "        store_id  category_id  target  onpromotion  nbr_of_transactions  \\\n",
              "0        store_1  category_24     0.0          0.0                  0.0   \n",
              "1        store_1  category_21     0.0          0.0                  0.0   \n",
              "2        store_1  category_32     0.0          0.0                  0.0   \n",
              "3        store_1  category_18     0.0          0.0                  0.0   \n",
              "4        store_1  category_26     0.0          0.0                  0.0   \n",
              "...          ...          ...     ...          ...                  ...   \n",
              "4503109  store_9  category_23     NaN          NaN                  NaN   \n",
              "4503110  store_9  category_20     NaN          NaN                  NaN   \n",
              "4503111  store_9  category_15     NaN          NaN                  NaN   \n",
              "4503112  store_9  category_29     NaN          NaN                  NaN   \n",
              "4503113  store_9  category_10     NaN          NaN                  NaN   \n",
              "\n",
              "        date_extracted  \n",
              "0           2001-01-01  \n",
              "1           2001-01-01  \n",
              "2           2001-01-01  \n",
              "3           2001-01-01  \n",
              "4           2001-01-01  \n",
              "...                ...  \n",
              "4503109     2004-06-18  \n",
              "4503110     2004-06-18  \n",
              "4503111     2004-06-18  \n",
              "4503112     2004-06-18  \n",
              "4503113     2004-06-18  \n",
              "\n",
              "[4503114 rows x 6 columns]"
            ]
          },
          "execution_count": 53,
          "metadata": {},
          "output_type": "execute_result"
        }
      ],
      "source": [
        "train_with_all_dates"
      ]
    },
    {
      "cell_type": "code",
      "execution_count": 54,
      "metadata": {},
      "outputs": [],
      "source": [
        "# fill missing sales, onpromotion and nbr_of_transactions with zero\n",
        "train_with_all_dates['target'].fillna(0, inplace=True)\n",
        "train_with_all_dates['onpromotion'].fillna(0, inplace=True)\n",
        "train_with_all_dates['nbr_of_transactions'].fillna(0, inplace=True)"
      ]
    },
    {
      "cell_type": "code",
      "execution_count": 55,
      "metadata": {},
      "outputs": [],
      "source": [
        "def get_missing_dates(df):\n",
        "    df['date1'] = pd.to_datetime(df['date_extracted'], errors='coerce')\n",
        "    col = df['date1'].dropna()\n",
        "    missing_dates = (\n",
        "        pd.date_range(start=col.min(), end=col.max())\n",
        "        .difference(col)\n",
        "    )\n",
        "    df.drop(columns=['date1'], axis=1, inplace=True)\n",
        "    return missing_dates"
      ]
    },
    {
      "cell_type": "code",
      "execution_count": 56,
      "metadata": {},
      "outputs": [
        {
          "data": {
            "text/plain": [
              "DatetimeIndex([], dtype='datetime64[ns]', freq=None)"
            ]
          },
          "execution_count": 56,
          "metadata": {},
          "output_type": "execute_result"
        }
      ],
      "source": [
        "# assign it back to train\n",
        "train = train_with_all_dates\n",
        "get_missing_dates(train)"
      ]
    },
    {
      "cell_type": "code",
      "execution_count": 57,
      "metadata": {},
      "outputs": [
        {
          "data": {
            "text/plain": [
              "store_id               0\n",
              "category_id            0\n",
              "target                 0\n",
              "onpromotion            0\n",
              "nbr_of_transactions    0\n",
              "date_extracted         0\n",
              "dtype: int64"
            ]
          },
          "execution_count": 57,
          "metadata": {},
          "output_type": "execute_result"
        }
      ],
      "source": [
        "train.isnull().sum()"
      ]
    },
    {
      "attachments": {},
      "cell_type": "markdown",
      "metadata": {},
      "source": [
        "**test**"
      ]
    },
    {
      "cell_type": "code",
      "execution_count": 58,
      "metadata": {},
      "outputs": [],
      "source": [
        "# getting all test dates\n",
        "all_test_dates = (pd.date_range(\n",
        "    start=test['date_extracted'].min(),\n",
        "    end=test['date_extracted'].max())\n",
        "    .strftime('%Y-%m-%d')\n",
        "    )\n",
        "\n",
        "# get a list of all possible combinations of (date, store_id, category_id) for all_test_dates\n",
        "all_test_combinations = list(\n",
        "    product(\n",
        "        all_test_dates, \n",
        "        test.store_id.unique(), \n",
        "        test.category_id.unique()))\n",
        "\n",
        "# convert to a dataframe\n",
        "all_test_combinations_df = pd.DataFrame(\n",
        "    all_test_combinations, \n",
        "    columns=['date_extracted', 'store_id', 'category_id'])"
      ]
    },
    {
      "cell_type": "code",
      "execution_count": 59,
      "metadata": {},
      "outputs": [],
      "source": [
        "# adding all dates to test\n",
        "test_with_all_dates = pd.concat(\n",
        "    [test, all_test_combinations_df], \n",
        "    ignore_index=True)\n",
        "\n",
        "# fill missing sales, onpromotion and nbr_of_transactions with zero\n",
        "test_with_all_dates['onpromotion'].fillna(0, inplace=True)"
      ]
    },
    {
      "cell_type": "code",
      "execution_count": 60,
      "metadata": {},
      "outputs": [
        {
          "data": {
            "text/plain": [
              "DatetimeIndex([], dtype='datetime64[ns]', freq=None)"
            ]
          },
          "execution_count": 60,
          "metadata": {},
          "output_type": "execute_result"
        }
      ],
      "source": [
        "# assign it back to test\n",
        "test = test_with_all_dates\n",
        "get_missing_dates(test)"
      ]
    },
    {
      "cell_type": "code",
      "execution_count": 61,
      "metadata": {},
      "outputs": [
        {
          "data": {
            "text/plain": [
              "store_id          0\n",
              "category_id       0\n",
              "onpromotion       0\n",
              "date_extracted    0\n",
              "dtype: int64"
            ]
          },
          "execution_count": 61,
          "metadata": {},
          "output_type": "execute_result"
        }
      ],
      "source": [
        "test.isnull().sum()"
      ]
    },
    {
      "attachments": {},
      "cell_type": "markdown",
      "metadata": {
        "id": "N-sbv4RU4N0M"
      },
      "source": [
        "we want to merge the train & test data with the stores dataset\n",
        "\n",
        "we will use left join. Read about it [here](https://www.stratascratch.com/blog/types-of-pandas-joins-and-how-to-use-them-in-python/)"
      ]
    },
    {
      "cell_type": "code",
      "execution_count": 62,
      "metadata": {
        "id": "EHZ9UERz4N0N"
      },
      "outputs": [],
      "source": [
        "#merging train and test with stores dataset\n",
        "\n",
        "def merge_stores(df):\n",
        "\n",
        "  stores.rename(  # rename type to store_type to make it more descriptive\n",
        "      columns={'type': 'store_type'}, \n",
        "      inplace=True) \n",
        "  \n",
        "  merged_df = pd.merge( #left join with stores as 2nd df\n",
        "      df,\n",
        "      stores,\n",
        "      how='left', \n",
        "      on=['store_id'])\n",
        "  return merged_df\n",
        "\n",
        "train_with_stores = merge_stores(train)\n",
        "test_with_stores = merge_stores(test)"
      ]
    },
    {
      "cell_type": "code",
      "execution_count": 63,
      "metadata": {},
      "outputs": [
        {
          "data": {
            "text/plain": [
              "store_id               0\n",
              "category_id            0\n",
              "target                 0\n",
              "onpromotion            0\n",
              "nbr_of_transactions    0\n",
              "date_extracted         0\n",
              "city                   0\n",
              "store_type             0\n",
              "cluster                0\n",
              "dtype: int64"
            ]
          },
          "execution_count": 63,
          "metadata": {},
          "output_type": "execute_result"
        }
      ],
      "source": [
        "train_with_stores.isnull().sum()"
      ]
    },
    {
      "cell_type": "code",
      "execution_count": 64,
      "metadata": {
        "colab": {
          "base_uri": "https://localhost:8080/"
        },
        "id": "prJiAyx7UYvW",
        "outputId": "65dc88ea-d29b-4213-fcc5-e554908c93d9"
      },
      "outputs": [
        {
          "name": "stdout",
          "output_type": "stream",
          "text": [
            "(4503114, 9) (4503114, 6)\n"
          ]
        }
      ],
      "source": [
        "print(train_with_stores.shape, train.shape)"
      ]
    },
    {
      "cell_type": "code",
      "execution_count": 65,
      "metadata": {
        "colab": {
          "base_uri": "https://localhost:8080/"
        },
        "id": "hfkVDInlVmY2",
        "outputId": "92e91328-261a-4757-f5ac-ba433f2e8f8b"
      },
      "outputs": [
        {
          "name": "stdout",
          "output_type": "stream",
          "text": [
            "(199584, 7) (199584, 4)\n"
          ]
        }
      ],
      "source": [
        "print(test_with_stores.shape, test.shape)"
      ]
    },
    {
      "attachments": {},
      "cell_type": "markdown",
      "metadata": {
        "id": "WpurAp7K30NU"
      },
      "source": [
        "from the above, we can see that our left join has worked\n",
        "\n",
        "it joins everything from the left df with corresponding rows in the right df"
      ]
    },
    {
      "cell_type": "code",
      "execution_count": 66,
      "metadata": {
        "colab": {
          "base_uri": "https://localhost:8080/"
        },
        "id": "7I4iMHs7W6TZ",
        "outputId": "9d567e1e-ac13-452f-c5df-e4f9bf328d32"
      },
      "outputs": [
        {
          "data": {
            "text/plain": [
              "array([0, 4, 2, 5, 1, 3], dtype=int64)"
            ]
          },
          "execution_count": 66,
          "metadata": {},
          "output_type": "execute_result"
        }
      ],
      "source": [
        "holidays['holiday_type'].unique()"
      ]
    },
    {
      "attachments": {},
      "cell_type": "markdown",
      "metadata": {
        "id": "NlJuHK3-786Z"
      },
      "source": [
        "we want to add one to every holiday_type:\n",
        "\n",
        "new_column = holiday_type + 1"
      ]
    },
    {
      "cell_type": "code",
      "execution_count": 67,
      "metadata": {
        "colab": {
          "base_uri": "https://localhost:8080/",
          "height": 424
        },
        "id": "uTuT8kPAR4lB",
        "outputId": "bbdfd29f-f185-4fed-e69a-5e037fdde919"
      },
      "outputs": [
        {
          "data": {
            "text/html": [
              "<div>\n",
              "<style scoped>\n",
              "    .dataframe tbody tr th:only-of-type {\n",
              "        vertical-align: middle;\n",
              "    }\n",
              "\n",
              "    .dataframe tbody tr th {\n",
              "        vertical-align: top;\n",
              "    }\n",
              "\n",
              "    .dataframe thead th {\n",
              "        text-align: right;\n",
              "    }\n",
              "</style>\n",
              "<table border=\"1\" class=\"dataframe\">\n",
              "  <thead>\n",
              "    <tr style=\"text-align: right;\">\n",
              "      <th></th>\n",
              "      <th>date</th>\n",
              "      <th>holiday_type</th>\n",
              "      <th>date_extracted</th>\n",
              "    </tr>\n",
              "  </thead>\n",
              "  <tbody>\n",
              "    <tr>\n",
              "      <th>0</th>\n",
              "      <td>1</td>\n",
              "      <td>0</td>\n",
              "      <td>NaN</td>\n",
              "    </tr>\n",
              "    <tr>\n",
              "      <th>1</th>\n",
              "      <td>5</td>\n",
              "      <td>4</td>\n",
              "      <td>NaN</td>\n",
              "    </tr>\n",
              "    <tr>\n",
              "      <th>2</th>\n",
              "      <td>12</td>\n",
              "      <td>4</td>\n",
              "      <td>NaN</td>\n",
              "    </tr>\n",
              "    <tr>\n",
              "      <th>3</th>\n",
              "      <td>42</td>\n",
              "      <td>0</td>\n",
              "      <td>NaN</td>\n",
              "    </tr>\n",
              "    <tr>\n",
              "      <th>4</th>\n",
              "      <td>43</td>\n",
              "      <td>0</td>\n",
              "      <td>NaN</td>\n",
              "    </tr>\n",
              "    <tr>\n",
              "      <th>...</th>\n",
              "      <td>...</td>\n",
              "      <td>...</td>\n",
              "      <td>...</td>\n",
              "    </tr>\n",
              "    <tr>\n",
              "      <th>276</th>\n",
              "      <td>1663</td>\n",
              "      <td>2</td>\n",
              "      <td>2004-07-25</td>\n",
              "    </tr>\n",
              "    <tr>\n",
              "      <th>277</th>\n",
              "      <td>1674</td>\n",
              "      <td>0</td>\n",
              "      <td>2004-08-05</td>\n",
              "    </tr>\n",
              "    <tr>\n",
              "      <th>278</th>\n",
              "      <td>1679</td>\n",
              "      <td>0</td>\n",
              "      <td>2004-08-10</td>\n",
              "    </tr>\n",
              "    <tr>\n",
              "      <th>279</th>\n",
              "      <td>1680</td>\n",
              "      <td>1</td>\n",
              "      <td>2004-08-11</td>\n",
              "    </tr>\n",
              "    <tr>\n",
              "      <th>280</th>\n",
              "      <td>1684</td>\n",
              "      <td>0</td>\n",
              "      <td>2004-08-15</td>\n",
              "    </tr>\n",
              "  </tbody>\n",
              "</table>\n",
              "<p>281 rows × 3 columns</p>\n",
              "</div>"
            ],
            "text/plain": [
              "     date  holiday_type date_extracted\n",
              "0       1             0            NaN\n",
              "1       5             4            NaN\n",
              "2      12             4            NaN\n",
              "3      42             0            NaN\n",
              "4      43             0            NaN\n",
              "..    ...           ...            ...\n",
              "276  1663             2     2004-07-25\n",
              "277  1674             0     2004-08-05\n",
              "278  1679             0     2004-08-10\n",
              "279  1680             1     2004-08-11\n",
              "280  1684             0     2004-08-15\n",
              "\n",
              "[281 rows x 3 columns]"
            ]
          },
          "execution_count": 67,
          "metadata": {},
          "output_type": "execute_result"
        }
      ],
      "source": [
        "holidays"
      ]
    },
    {
      "cell_type": "code",
      "execution_count": 68,
      "metadata": {
        "colab": {
          "base_uri": "https://localhost:8080/"
        },
        "id": "HbKwntRr7zDa",
        "outputId": "68836a0f-c81f-4b30-a5a6-73f3db463749"
      },
      "outputs": [
        {
          "data": {
            "text/plain": [
              "array([1, 5, 3, 6, 2, 4], dtype=int64)"
            ]
          },
          "execution_count": 68,
          "metadata": {},
          "output_type": "execute_result"
        }
      ],
      "source": [
        "# add one to every holiday type\n",
        "holidays['holiday_type'] = holidays['holiday_type'].apply(lambda x: x + 1)\n",
        "\n",
        "holidays['holiday_type'].unique()"
      ]
    },
    {
      "attachments": {},
      "cell_type": "markdown",
      "metadata": {
        "id": "3Ua6F_k68ZzQ"
      },
      "source": [
        "we did this so our non-holidays can be zeros"
      ]
    },
    {
      "attachments": {},
      "cell_type": "markdown",
      "metadata": {
        "id": "rEWAGxsV10J1"
      },
      "source": [
        "now we must merge holidays with the merged data"
      ]
    },
    {
      "attachments": {},
      "cell_type": "markdown",
      "metadata": {
        "id": "UNnEVhP063uD"
      },
      "source": [
        "since non-holidays are zeros, we don't want our ML Models to think that non-holidays(zeros) have an ordinal relationship with other holidays(1,2,3,4,) \n",
        "\n",
        "in other words, non-holidays(zeros) don't always come before holidays(1,2,3,4,)\n",
        "\n",
        "so, we must create a new column to show whether or not."
      ]
    },
    {
      "cell_type": "code",
      "execution_count": 69,
      "metadata": {
        "colab": {
          "base_uri": "https://localhost:8080/",
          "height": 661
        },
        "id": "lExaoF2fUD6m",
        "outputId": "7d347cf9-def5-434a-955c-13935ed72c78"
      },
      "outputs": [
        {
          "data": {
            "text/html": [
              "<div>\n",
              "<style scoped>\n",
              "    .dataframe tbody tr th:only-of-type {\n",
              "        vertical-align: middle;\n",
              "    }\n",
              "\n",
              "    .dataframe tbody tr th {\n",
              "        vertical-align: top;\n",
              "    }\n",
              "\n",
              "    .dataframe thead th {\n",
              "        text-align: right;\n",
              "    }\n",
              "</style>\n",
              "<table border=\"1\" class=\"dataframe\">\n",
              "  <thead>\n",
              "    <tr style=\"text-align: right;\">\n",
              "      <th></th>\n",
              "      <th>store_id</th>\n",
              "      <th>category_id</th>\n",
              "      <th>target</th>\n",
              "      <th>onpromotion</th>\n",
              "      <th>nbr_of_transactions</th>\n",
              "      <th>date_extracted</th>\n",
              "      <th>city</th>\n",
              "      <th>store_type</th>\n",
              "      <th>cluster</th>\n",
              "    </tr>\n",
              "  </thead>\n",
              "  <tbody>\n",
              "    <tr>\n",
              "      <th>0</th>\n",
              "      <td>store_1</td>\n",
              "      <td>category_24</td>\n",
              "      <td>0.0</td>\n",
              "      <td>0.0</td>\n",
              "      <td>0.0</td>\n",
              "      <td>2001-01-01</td>\n",
              "      <td>city_0</td>\n",
              "      <td>store_0</td>\n",
              "      <td>cluster_0</td>\n",
              "    </tr>\n",
              "    <tr>\n",
              "      <th>1</th>\n",
              "      <td>store_1</td>\n",
              "      <td>category_21</td>\n",
              "      <td>0.0</td>\n",
              "      <td>0.0</td>\n",
              "      <td>0.0</td>\n",
              "      <td>2001-01-01</td>\n",
              "      <td>city_0</td>\n",
              "      <td>store_0</td>\n",
              "      <td>cluster_0</td>\n",
              "    </tr>\n",
              "    <tr>\n",
              "      <th>2</th>\n",
              "      <td>store_1</td>\n",
              "      <td>category_32</td>\n",
              "      <td>0.0</td>\n",
              "      <td>0.0</td>\n",
              "      <td>0.0</td>\n",
              "      <td>2001-01-01</td>\n",
              "      <td>city_0</td>\n",
              "      <td>store_0</td>\n",
              "      <td>cluster_0</td>\n",
              "    </tr>\n",
              "    <tr>\n",
              "      <th>3</th>\n",
              "      <td>store_1</td>\n",
              "      <td>category_18</td>\n",
              "      <td>0.0</td>\n",
              "      <td>0.0</td>\n",
              "      <td>0.0</td>\n",
              "      <td>2001-01-01</td>\n",
              "      <td>city_0</td>\n",
              "      <td>store_0</td>\n",
              "      <td>cluster_0</td>\n",
              "    </tr>\n",
              "    <tr>\n",
              "      <th>4</th>\n",
              "      <td>store_1</td>\n",
              "      <td>category_26</td>\n",
              "      <td>0.0</td>\n",
              "      <td>0.0</td>\n",
              "      <td>0.0</td>\n",
              "      <td>2001-01-01</td>\n",
              "      <td>city_0</td>\n",
              "      <td>store_0</td>\n",
              "      <td>cluster_0</td>\n",
              "    </tr>\n",
              "  </tbody>\n",
              "</table>\n",
              "</div>"
            ],
            "text/plain": [
              "  store_id  category_id  target  onpromotion  nbr_of_transactions  \\\n",
              "0  store_1  category_24     0.0          0.0                  0.0   \n",
              "1  store_1  category_21     0.0          0.0                  0.0   \n",
              "2  store_1  category_32     0.0          0.0                  0.0   \n",
              "3  store_1  category_18     0.0          0.0                  0.0   \n",
              "4  store_1  category_26     0.0          0.0                  0.0   \n",
              "\n",
              "  date_extracted    city store_type    cluster  \n",
              "0     2001-01-01  city_0    store_0  cluster_0  \n",
              "1     2001-01-01  city_0    store_0  cluster_0  \n",
              "2     2001-01-01  city_0    store_0  cluster_0  \n",
              "3     2001-01-01  city_0    store_0  cluster_0  \n",
              "4     2001-01-01  city_0    store_0  cluster_0  "
            ]
          },
          "execution_count": 69,
          "metadata": {},
          "output_type": "execute_result"
        }
      ],
      "source": [
        "train_with_stores.head()"
      ]
    },
    {
      "cell_type": "code",
      "execution_count": 70,
      "metadata": {},
      "outputs": [
        {
          "data": {
            "text/html": [
              "<div>\n",
              "<style scoped>\n",
              "    .dataframe tbody tr th:only-of-type {\n",
              "        vertical-align: middle;\n",
              "    }\n",
              "\n",
              "    .dataframe tbody tr th {\n",
              "        vertical-align: top;\n",
              "    }\n",
              "\n",
              "    .dataframe thead th {\n",
              "        text-align: right;\n",
              "    }\n",
              "</style>\n",
              "<table border=\"1\" class=\"dataframe\">\n",
              "  <thead>\n",
              "    <tr style=\"text-align: right;\">\n",
              "      <th></th>\n",
              "      <th>date</th>\n",
              "      <th>holiday_type</th>\n",
              "      <th>date_extracted</th>\n",
              "    </tr>\n",
              "  </thead>\n",
              "  <tbody>\n",
              "    <tr>\n",
              "      <th>0</th>\n",
              "      <td>1</td>\n",
              "      <td>1</td>\n",
              "      <td>NaN</td>\n",
              "    </tr>\n",
              "    <tr>\n",
              "      <th>1</th>\n",
              "      <td>5</td>\n",
              "      <td>5</td>\n",
              "      <td>NaN</td>\n",
              "    </tr>\n",
              "    <tr>\n",
              "      <th>2</th>\n",
              "      <td>12</td>\n",
              "      <td>5</td>\n",
              "      <td>NaN</td>\n",
              "    </tr>\n",
              "    <tr>\n",
              "      <th>3</th>\n",
              "      <td>42</td>\n",
              "      <td>1</td>\n",
              "      <td>NaN</td>\n",
              "    </tr>\n",
              "    <tr>\n",
              "      <th>4</th>\n",
              "      <td>43</td>\n",
              "      <td>1</td>\n",
              "      <td>NaN</td>\n",
              "    </tr>\n",
              "    <tr>\n",
              "      <th>...</th>\n",
              "      <td>...</td>\n",
              "      <td>...</td>\n",
              "      <td>...</td>\n",
              "    </tr>\n",
              "    <tr>\n",
              "      <th>276</th>\n",
              "      <td>1663</td>\n",
              "      <td>3</td>\n",
              "      <td>2004-07-25</td>\n",
              "    </tr>\n",
              "    <tr>\n",
              "      <th>277</th>\n",
              "      <td>1674</td>\n",
              "      <td>1</td>\n",
              "      <td>2004-08-05</td>\n",
              "    </tr>\n",
              "    <tr>\n",
              "      <th>278</th>\n",
              "      <td>1679</td>\n",
              "      <td>1</td>\n",
              "      <td>2004-08-10</td>\n",
              "    </tr>\n",
              "    <tr>\n",
              "      <th>279</th>\n",
              "      <td>1680</td>\n",
              "      <td>2</td>\n",
              "      <td>2004-08-11</td>\n",
              "    </tr>\n",
              "    <tr>\n",
              "      <th>280</th>\n",
              "      <td>1684</td>\n",
              "      <td>1</td>\n",
              "      <td>2004-08-15</td>\n",
              "    </tr>\n",
              "  </tbody>\n",
              "</table>\n",
              "<p>281 rows × 3 columns</p>\n",
              "</div>"
            ],
            "text/plain": [
              "     date  holiday_type date_extracted\n",
              "0       1             1            NaN\n",
              "1       5             5            NaN\n",
              "2      12             5            NaN\n",
              "3      42             1            NaN\n",
              "4      43             1            NaN\n",
              "..    ...           ...            ...\n",
              "276  1663             3     2004-07-25\n",
              "277  1674             1     2004-08-05\n",
              "278  1679             1     2004-08-10\n",
              "279  1680             2     2004-08-11\n",
              "280  1684             1     2004-08-15\n",
              "\n",
              "[281 rows x 3 columns]"
            ]
          },
          "execution_count": 70,
          "metadata": {},
          "output_type": "execute_result"
        }
      ],
      "source": [
        "holidays"
      ]
    },
    {
      "cell_type": "code",
      "execution_count": 71,
      "metadata": {},
      "outputs": [],
      "source": [
        "holidays.drop('date', axis=1, inplace=True)"
      ]
    },
    {
      "cell_type": "code",
      "execution_count": 72,
      "metadata": {
        "id": "g-wRO2msZfTJ"
      },
      "outputs": [],
      "source": [
        "def merge_with_holidays(df):\n",
        "  \n",
        "  # Merge df and holidays DataFrames on \"date\"\n",
        "  merged_df = pd.merge(\n",
        "      df, \n",
        "      holidays.set_index('date_extracted'), \n",
        "      left_on='date_extracted', \n",
        "      right_on='date_extracted', \n",
        "      how='left')\n",
        "\n",
        "  # Assign holiday type based on matching dates\n",
        "  merged_df['holiday_type'] = merged_df['holiday_type'].fillna(0)\n",
        "\n",
        "  # create column to show if its a holiday or not (non-holidays are zeros)\n",
        "  merged_df['is_holiday'] = merged_df['holiday_type'].apply(\n",
        "      lambda x: False if x==0 \n",
        "      else True)\n",
        "\n",
        "  return merged_df\n",
        "\n",
        "# apply to test and train\n",
        "train_with_stores_holidays = merge_with_holidays(train_with_stores)\n",
        "test_with_stores_holidays = merge_with_holidays(test_with_stores)"
      ]
    },
    {
      "cell_type": "code",
      "execution_count": 73,
      "metadata": {},
      "outputs": [
        {
          "data": {
            "text/html": [
              "<div>\n",
              "<style scoped>\n",
              "    .dataframe tbody tr th:only-of-type {\n",
              "        vertical-align: middle;\n",
              "    }\n",
              "\n",
              "    .dataframe tbody tr th {\n",
              "        vertical-align: top;\n",
              "    }\n",
              "\n",
              "    .dataframe thead th {\n",
              "        text-align: right;\n",
              "    }\n",
              "</style>\n",
              "<table border=\"1\" class=\"dataframe\">\n",
              "  <thead>\n",
              "    <tr style=\"text-align: right;\">\n",
              "      <th></th>\n",
              "      <th>store_id</th>\n",
              "      <th>category_id</th>\n",
              "      <th>target</th>\n",
              "      <th>onpromotion</th>\n",
              "      <th>nbr_of_transactions</th>\n",
              "      <th>date_extracted</th>\n",
              "      <th>city</th>\n",
              "      <th>store_type</th>\n",
              "      <th>cluster</th>\n",
              "      <th>holiday_type</th>\n",
              "      <th>is_holiday</th>\n",
              "    </tr>\n",
              "  </thead>\n",
              "  <tbody>\n",
              "    <tr>\n",
              "      <th>0</th>\n",
              "      <td>store_1</td>\n",
              "      <td>category_24</td>\n",
              "      <td>0.0</td>\n",
              "      <td>0.0</td>\n",
              "      <td>0.0</td>\n",
              "      <td>2001-01-01</td>\n",
              "      <td>city_0</td>\n",
              "      <td>store_0</td>\n",
              "      <td>cluster_0</td>\n",
              "      <td>1.0</td>\n",
              "      <td>True</td>\n",
              "    </tr>\n",
              "    <tr>\n",
              "      <th>1</th>\n",
              "      <td>store_1</td>\n",
              "      <td>category_21</td>\n",
              "      <td>0.0</td>\n",
              "      <td>0.0</td>\n",
              "      <td>0.0</td>\n",
              "      <td>2001-01-01</td>\n",
              "      <td>city_0</td>\n",
              "      <td>store_0</td>\n",
              "      <td>cluster_0</td>\n",
              "      <td>1.0</td>\n",
              "      <td>True</td>\n",
              "    </tr>\n",
              "    <tr>\n",
              "      <th>2</th>\n",
              "      <td>store_1</td>\n",
              "      <td>category_32</td>\n",
              "      <td>0.0</td>\n",
              "      <td>0.0</td>\n",
              "      <td>0.0</td>\n",
              "      <td>2001-01-01</td>\n",
              "      <td>city_0</td>\n",
              "      <td>store_0</td>\n",
              "      <td>cluster_0</td>\n",
              "      <td>1.0</td>\n",
              "      <td>True</td>\n",
              "    </tr>\n",
              "    <tr>\n",
              "      <th>3</th>\n",
              "      <td>store_1</td>\n",
              "      <td>category_18</td>\n",
              "      <td>0.0</td>\n",
              "      <td>0.0</td>\n",
              "      <td>0.0</td>\n",
              "      <td>2001-01-01</td>\n",
              "      <td>city_0</td>\n",
              "      <td>store_0</td>\n",
              "      <td>cluster_0</td>\n",
              "      <td>1.0</td>\n",
              "      <td>True</td>\n",
              "    </tr>\n",
              "    <tr>\n",
              "      <th>4</th>\n",
              "      <td>store_1</td>\n",
              "      <td>category_26</td>\n",
              "      <td>0.0</td>\n",
              "      <td>0.0</td>\n",
              "      <td>0.0</td>\n",
              "      <td>2001-01-01</td>\n",
              "      <td>city_0</td>\n",
              "      <td>store_0</td>\n",
              "      <td>cluster_0</td>\n",
              "      <td>1.0</td>\n",
              "      <td>True</td>\n",
              "    </tr>\n",
              "    <tr>\n",
              "      <th>...</th>\n",
              "      <td>...</td>\n",
              "      <td>...</td>\n",
              "      <td>...</td>\n",
              "      <td>...</td>\n",
              "      <td>...</td>\n",
              "      <td>...</td>\n",
              "      <td>...</td>\n",
              "      <td>...</td>\n",
              "      <td>...</td>\n",
              "      <td>...</td>\n",
              "      <td>...</td>\n",
              "    </tr>\n",
              "    <tr>\n",
              "      <th>4581517</th>\n",
              "      <td>store_9</td>\n",
              "      <td>category_23</td>\n",
              "      <td>0.0</td>\n",
              "      <td>0.0</td>\n",
              "      <td>0.0</td>\n",
              "      <td>2004-06-18</td>\n",
              "      <td>city_0</td>\n",
              "      <td>store_1</td>\n",
              "      <td>cluster_4</td>\n",
              "      <td>0.0</td>\n",
              "      <td>False</td>\n",
              "    </tr>\n",
              "    <tr>\n",
              "      <th>4581518</th>\n",
              "      <td>store_9</td>\n",
              "      <td>category_20</td>\n",
              "      <td>0.0</td>\n",
              "      <td>0.0</td>\n",
              "      <td>0.0</td>\n",
              "      <td>2004-06-18</td>\n",
              "      <td>city_0</td>\n",
              "      <td>store_1</td>\n",
              "      <td>cluster_4</td>\n",
              "      <td>0.0</td>\n",
              "      <td>False</td>\n",
              "    </tr>\n",
              "    <tr>\n",
              "      <th>4581519</th>\n",
              "      <td>store_9</td>\n",
              "      <td>category_15</td>\n",
              "      <td>0.0</td>\n",
              "      <td>0.0</td>\n",
              "      <td>0.0</td>\n",
              "      <td>2004-06-18</td>\n",
              "      <td>city_0</td>\n",
              "      <td>store_1</td>\n",
              "      <td>cluster_4</td>\n",
              "      <td>0.0</td>\n",
              "      <td>False</td>\n",
              "    </tr>\n",
              "    <tr>\n",
              "      <th>4581520</th>\n",
              "      <td>store_9</td>\n",
              "      <td>category_29</td>\n",
              "      <td>0.0</td>\n",
              "      <td>0.0</td>\n",
              "      <td>0.0</td>\n",
              "      <td>2004-06-18</td>\n",
              "      <td>city_0</td>\n",
              "      <td>store_1</td>\n",
              "      <td>cluster_4</td>\n",
              "      <td>0.0</td>\n",
              "      <td>False</td>\n",
              "    </tr>\n",
              "    <tr>\n",
              "      <th>4581521</th>\n",
              "      <td>store_9</td>\n",
              "      <td>category_10</td>\n",
              "      <td>0.0</td>\n",
              "      <td>0.0</td>\n",
              "      <td>0.0</td>\n",
              "      <td>2004-06-18</td>\n",
              "      <td>city_0</td>\n",
              "      <td>store_1</td>\n",
              "      <td>cluster_4</td>\n",
              "      <td>0.0</td>\n",
              "      <td>False</td>\n",
              "    </tr>\n",
              "  </tbody>\n",
              "</table>\n",
              "<p>4581522 rows × 11 columns</p>\n",
              "</div>"
            ],
            "text/plain": [
              "        store_id  category_id  target  onpromotion  nbr_of_transactions  \\\n",
              "0        store_1  category_24     0.0          0.0                  0.0   \n",
              "1        store_1  category_21     0.0          0.0                  0.0   \n",
              "2        store_1  category_32     0.0          0.0                  0.0   \n",
              "3        store_1  category_18     0.0          0.0                  0.0   \n",
              "4        store_1  category_26     0.0          0.0                  0.0   \n",
              "...          ...          ...     ...          ...                  ...   \n",
              "4581517  store_9  category_23     0.0          0.0                  0.0   \n",
              "4581518  store_9  category_20     0.0          0.0                  0.0   \n",
              "4581519  store_9  category_15     0.0          0.0                  0.0   \n",
              "4581520  store_9  category_29     0.0          0.0                  0.0   \n",
              "4581521  store_9  category_10     0.0          0.0                  0.0   \n",
              "\n",
              "        date_extracted    city store_type    cluster  holiday_type  is_holiday  \n",
              "0           2001-01-01  city_0    store_0  cluster_0           1.0        True  \n",
              "1           2001-01-01  city_0    store_0  cluster_0           1.0        True  \n",
              "2           2001-01-01  city_0    store_0  cluster_0           1.0        True  \n",
              "3           2001-01-01  city_0    store_0  cluster_0           1.0        True  \n",
              "4           2001-01-01  city_0    store_0  cluster_0           1.0        True  \n",
              "...                ...     ...        ...        ...           ...         ...  \n",
              "4581517     2004-06-18  city_0    store_1  cluster_4           0.0       False  \n",
              "4581518     2004-06-18  city_0    store_1  cluster_4           0.0       False  \n",
              "4581519     2004-06-18  city_0    store_1  cluster_4           0.0       False  \n",
              "4581520     2004-06-18  city_0    store_1  cluster_4           0.0       False  \n",
              "4581521     2004-06-18  city_0    store_1  cluster_4           0.0       False  \n",
              "\n",
              "[4581522 rows x 11 columns]"
            ]
          },
          "execution_count": 73,
          "metadata": {},
          "output_type": "execute_result"
        }
      ],
      "source": [
        "train_with_stores_holidays"
      ]
    },
    {
      "cell_type": "code",
      "execution_count": 74,
      "metadata": {
        "colab": {
          "base_uri": "https://localhost:8080/"
        },
        "id": "SoGANMhuViws",
        "outputId": "b611be04-445c-498c-8028-df6b37cbe190"
      },
      "outputs": [
        {
          "name": "stdout",
          "output_type": "stream",
          "text": [
            "[1. 0. 3. 6. 2. 5. 4.] [0. 1. 3. 2.]\n",
            "[ True False] [False  True]\n"
          ]
        }
      ],
      "source": [
        "# check if merge_with_holidays has worked\n",
        "print(train_with_stores_holidays['holiday_type'].unique(), test_with_stores_holidays['holiday_type'].unique())\n",
        "print(train_with_stores_holidays['is_holiday'].unique(), test_with_stores_holidays['is_holiday'].unique())"
      ]
    },
    {
      "cell_type": "code",
      "execution_count": 75,
      "metadata": {
        "colab": {
          "base_uri": "https://localhost:8080/"
        },
        "id": "J_Oi-GTD3Zer",
        "outputId": "3acc8f3b-0e43-478d-cd07-57de09d06b17"
      },
      "outputs": [
        {
          "name": "stdout",
          "output_type": "stream",
          "text": [
            "(210276, 9) (199584, 7)\n"
          ]
        }
      ],
      "source": [
        "print(test_with_stores_holidays.shape, test_with_stores.shape)"
      ]
    },
    {
      "cell_type": "code",
      "execution_count": 76,
      "metadata": {
        "colab": {
          "base_uri": "https://localhost:8080/"
        },
        "id": "kUZN9Ygp8p62",
        "outputId": "522eb7fe-523d-4329-f3bf-e98f26d2f34d"
      },
      "outputs": [
        {
          "data": {
            "text/plain": [
              "array([0., 1., 3., 2.])"
            ]
          },
          "execution_count": 76,
          "metadata": {},
          "output_type": "execute_result"
        }
      ],
      "source": [
        "test_with_stores_holidays.holiday_type.unique()"
      ]
    },
    {
      "attachments": {},
      "cell_type": "markdown",
      "metadata": {},
      "source": [
        "now we get the date features from the dates dataset"
      ]
    },
    {
      "cell_type": "code",
      "execution_count": 77,
      "metadata": {},
      "outputs": [],
      "source": [
        "def get_date_features_from_dates_dataset(df):\n",
        "  merged_df = pd.merge( #left join with stores as 2nd df\n",
        "        df,\n",
        "        dates,\n",
        "        how='left', \n",
        "        on=['date_extracted'])\n",
        "  return merged_df\n",
        "\n",
        "train_with_stores_holidays = get_date_features_from_dates_dataset(train_with_stores_holidays)\n",
        "test_with_stores_holidays = get_date_features_from_dates_dataset(test_with_stores_holidays)"
      ]
    },
    {
      "cell_type": "code",
      "execution_count": 78,
      "metadata": {},
      "outputs": [
        {
          "data": {
            "text/html": [
              "<div>\n",
              "<style scoped>\n",
              "    .dataframe tbody tr th:only-of-type {\n",
              "        vertical-align: middle;\n",
              "    }\n",
              "\n",
              "    .dataframe tbody tr th {\n",
              "        vertical-align: top;\n",
              "    }\n",
              "\n",
              "    .dataframe thead th {\n",
              "        text-align: right;\n",
              "    }\n",
              "</style>\n",
              "<table border=\"1\" class=\"dataframe\">\n",
              "  <thead>\n",
              "    <tr style=\"text-align: right;\">\n",
              "      <th></th>\n",
              "      <th>store_id</th>\n",
              "      <th>category_id</th>\n",
              "      <th>target</th>\n",
              "      <th>onpromotion</th>\n",
              "      <th>nbr_of_transactions</th>\n",
              "      <th>date_extracted</th>\n",
              "      <th>city</th>\n",
              "      <th>store_type</th>\n",
              "      <th>cluster</th>\n",
              "      <th>holiday_type</th>\n",
              "      <th>...</th>\n",
              "      <th>quarter</th>\n",
              "      <th>is_month_start</th>\n",
              "      <th>is_month_end</th>\n",
              "      <th>is_quarter_start</th>\n",
              "      <th>is_quarter_end</th>\n",
              "      <th>is_year_start</th>\n",
              "      <th>is_year_end</th>\n",
              "      <th>year_weekofyear</th>\n",
              "      <th>sin(dayofyear)</th>\n",
              "      <th>cos(dayofyear)</th>\n",
              "    </tr>\n",
              "  </thead>\n",
              "  <tbody>\n",
              "    <tr>\n",
              "      <th>0</th>\n",
              "      <td>store_1</td>\n",
              "      <td>category_24</td>\n",
              "      <td>0.0</td>\n",
              "      <td>0.0</td>\n",
              "      <td>0.0</td>\n",
              "      <td>2001-01-01</td>\n",
              "      <td>city_0</td>\n",
              "      <td>store_0</td>\n",
              "      <td>cluster_0</td>\n",
              "      <td>1.0</td>\n",
              "      <td>...</td>\n",
              "      <td>1.0</td>\n",
              "      <td>True</td>\n",
              "      <td>False</td>\n",
              "      <td>True</td>\n",
              "      <td>False</td>\n",
              "      <td>True</td>\n",
              "      <td>False</td>\n",
              "      <td>101.0</td>\n",
              "      <td>0.841471</td>\n",
              "      <td>0.540302</td>\n",
              "    </tr>\n",
              "    <tr>\n",
              "      <th>1</th>\n",
              "      <td>store_1</td>\n",
              "      <td>category_21</td>\n",
              "      <td>0.0</td>\n",
              "      <td>0.0</td>\n",
              "      <td>0.0</td>\n",
              "      <td>2001-01-01</td>\n",
              "      <td>city_0</td>\n",
              "      <td>store_0</td>\n",
              "      <td>cluster_0</td>\n",
              "      <td>1.0</td>\n",
              "      <td>...</td>\n",
              "      <td>1.0</td>\n",
              "      <td>True</td>\n",
              "      <td>False</td>\n",
              "      <td>True</td>\n",
              "      <td>False</td>\n",
              "      <td>True</td>\n",
              "      <td>False</td>\n",
              "      <td>101.0</td>\n",
              "      <td>0.841471</td>\n",
              "      <td>0.540302</td>\n",
              "    </tr>\n",
              "    <tr>\n",
              "      <th>2</th>\n",
              "      <td>store_1</td>\n",
              "      <td>category_32</td>\n",
              "      <td>0.0</td>\n",
              "      <td>0.0</td>\n",
              "      <td>0.0</td>\n",
              "      <td>2001-01-01</td>\n",
              "      <td>city_0</td>\n",
              "      <td>store_0</td>\n",
              "      <td>cluster_0</td>\n",
              "      <td>1.0</td>\n",
              "      <td>...</td>\n",
              "      <td>1.0</td>\n",
              "      <td>True</td>\n",
              "      <td>False</td>\n",
              "      <td>True</td>\n",
              "      <td>False</td>\n",
              "      <td>True</td>\n",
              "      <td>False</td>\n",
              "      <td>101.0</td>\n",
              "      <td>0.841471</td>\n",
              "      <td>0.540302</td>\n",
              "    </tr>\n",
              "    <tr>\n",
              "      <th>3</th>\n",
              "      <td>store_1</td>\n",
              "      <td>category_18</td>\n",
              "      <td>0.0</td>\n",
              "      <td>0.0</td>\n",
              "      <td>0.0</td>\n",
              "      <td>2001-01-01</td>\n",
              "      <td>city_0</td>\n",
              "      <td>store_0</td>\n",
              "      <td>cluster_0</td>\n",
              "      <td>1.0</td>\n",
              "      <td>...</td>\n",
              "      <td>1.0</td>\n",
              "      <td>True</td>\n",
              "      <td>False</td>\n",
              "      <td>True</td>\n",
              "      <td>False</td>\n",
              "      <td>True</td>\n",
              "      <td>False</td>\n",
              "      <td>101.0</td>\n",
              "      <td>0.841471</td>\n",
              "      <td>0.540302</td>\n",
              "    </tr>\n",
              "    <tr>\n",
              "      <th>4</th>\n",
              "      <td>store_1</td>\n",
              "      <td>category_26</td>\n",
              "      <td>0.0</td>\n",
              "      <td>0.0</td>\n",
              "      <td>0.0</td>\n",
              "      <td>2001-01-01</td>\n",
              "      <td>city_0</td>\n",
              "      <td>store_0</td>\n",
              "      <td>cluster_0</td>\n",
              "      <td>1.0</td>\n",
              "      <td>...</td>\n",
              "      <td>1.0</td>\n",
              "      <td>True</td>\n",
              "      <td>False</td>\n",
              "      <td>True</td>\n",
              "      <td>False</td>\n",
              "      <td>True</td>\n",
              "      <td>False</td>\n",
              "      <td>101.0</td>\n",
              "      <td>0.841471</td>\n",
              "      <td>0.540302</td>\n",
              "    </tr>\n",
              "  </tbody>\n",
              "</table>\n",
              "<p>5 rows × 27 columns</p>\n",
              "</div>"
            ],
            "text/plain": [
              "  store_id  category_id  target  onpromotion  nbr_of_transactions  \\\n",
              "0  store_1  category_24     0.0          0.0                  0.0   \n",
              "1  store_1  category_21     0.0          0.0                  0.0   \n",
              "2  store_1  category_32     0.0          0.0                  0.0   \n",
              "3  store_1  category_18     0.0          0.0                  0.0   \n",
              "4  store_1  category_26     0.0          0.0                  0.0   \n",
              "\n",
              "  date_extracted    city store_type    cluster  holiday_type  ...  quarter  \\\n",
              "0     2001-01-01  city_0    store_0  cluster_0           1.0  ...      1.0   \n",
              "1     2001-01-01  city_0    store_0  cluster_0           1.0  ...      1.0   \n",
              "2     2001-01-01  city_0    store_0  cluster_0           1.0  ...      1.0   \n",
              "3     2001-01-01  city_0    store_0  cluster_0           1.0  ...      1.0   \n",
              "4     2001-01-01  city_0    store_0  cluster_0           1.0  ...      1.0   \n",
              "\n",
              "   is_month_start  is_month_end  is_quarter_start  is_quarter_end  \\\n",
              "0            True         False              True           False   \n",
              "1            True         False              True           False   \n",
              "2            True         False              True           False   \n",
              "3            True         False              True           False   \n",
              "4            True         False              True           False   \n",
              "\n",
              "   is_year_start  is_year_end  year_weekofyear sin(dayofyear) cos(dayofyear)  \n",
              "0           True        False            101.0       0.841471       0.540302  \n",
              "1           True        False            101.0       0.841471       0.540302  \n",
              "2           True        False            101.0       0.841471       0.540302  \n",
              "3           True        False            101.0       0.841471       0.540302  \n",
              "4           True        False            101.0       0.841471       0.540302  \n",
              "\n",
              "[5 rows x 27 columns]"
            ]
          },
          "execution_count": 78,
          "metadata": {},
          "output_type": "execute_result"
        }
      ],
      "source": [
        "train_with_stores_holidays.head()"
      ]
    },
    {
      "cell_type": "code",
      "execution_count": 79,
      "metadata": {},
      "outputs": [
        {
          "data": {
            "text/html": [
              "<div>\n",
              "<style scoped>\n",
              "    .dataframe tbody tr th:only-of-type {\n",
              "        vertical-align: middle;\n",
              "    }\n",
              "\n",
              "    .dataframe tbody tr th {\n",
              "        vertical-align: top;\n",
              "    }\n",
              "\n",
              "    .dataframe thead th {\n",
              "        text-align: right;\n",
              "    }\n",
              "</style>\n",
              "<table border=\"1\" class=\"dataframe\">\n",
              "  <thead>\n",
              "    <tr style=\"text-align: right;\">\n",
              "      <th></th>\n",
              "      <th>store_id</th>\n",
              "      <th>category_id</th>\n",
              "      <th>onpromotion</th>\n",
              "      <th>date_extracted</th>\n",
              "      <th>city</th>\n",
              "      <th>store_type</th>\n",
              "      <th>cluster</th>\n",
              "      <th>holiday_type</th>\n",
              "      <th>is_holiday</th>\n",
              "      <th>year</th>\n",
              "      <th>...</th>\n",
              "      <th>quarter</th>\n",
              "      <th>is_month_start</th>\n",
              "      <th>is_month_end</th>\n",
              "      <th>is_quarter_start</th>\n",
              "      <th>is_quarter_end</th>\n",
              "      <th>is_year_start</th>\n",
              "      <th>is_year_end</th>\n",
              "      <th>year_weekofyear</th>\n",
              "      <th>sin(dayofyear)</th>\n",
              "      <th>cos(dayofyear)</th>\n",
              "    </tr>\n",
              "  </thead>\n",
              "  <tbody>\n",
              "    <tr>\n",
              "      <th>0</th>\n",
              "      <td>store_1</td>\n",
              "      <td>category_24</td>\n",
              "      <td>0.0</td>\n",
              "      <td>2004-06-19</td>\n",
              "      <td>city_0</td>\n",
              "      <td>store_0</td>\n",
              "      <td>cluster_0</td>\n",
              "      <td>0.0</td>\n",
              "      <td>False</td>\n",
              "      <td>4</td>\n",
              "      <td>...</td>\n",
              "      <td>2</td>\n",
              "      <td>False</td>\n",
              "      <td>False</td>\n",
              "      <td>False</td>\n",
              "      <td>False</td>\n",
              "      <td>False</td>\n",
              "      <td>False</td>\n",
              "      <td>425</td>\n",
              "      <td>0.346649</td>\n",
              "      <td>0.937995</td>\n",
              "    </tr>\n",
              "    <tr>\n",
              "      <th>1</th>\n",
              "      <td>store_1</td>\n",
              "      <td>category_21</td>\n",
              "      <td>0.0</td>\n",
              "      <td>2004-06-19</td>\n",
              "      <td>city_0</td>\n",
              "      <td>store_0</td>\n",
              "      <td>cluster_0</td>\n",
              "      <td>0.0</td>\n",
              "      <td>False</td>\n",
              "      <td>4</td>\n",
              "      <td>...</td>\n",
              "      <td>2</td>\n",
              "      <td>False</td>\n",
              "      <td>False</td>\n",
              "      <td>False</td>\n",
              "      <td>False</td>\n",
              "      <td>False</td>\n",
              "      <td>False</td>\n",
              "      <td>425</td>\n",
              "      <td>0.346649</td>\n",
              "      <td>0.937995</td>\n",
              "    </tr>\n",
              "    <tr>\n",
              "      <th>2</th>\n",
              "      <td>store_1</td>\n",
              "      <td>category_32</td>\n",
              "      <td>0.0</td>\n",
              "      <td>2004-06-19</td>\n",
              "      <td>city_0</td>\n",
              "      <td>store_0</td>\n",
              "      <td>cluster_0</td>\n",
              "      <td>0.0</td>\n",
              "      <td>False</td>\n",
              "      <td>4</td>\n",
              "      <td>...</td>\n",
              "      <td>2</td>\n",
              "      <td>False</td>\n",
              "      <td>False</td>\n",
              "      <td>False</td>\n",
              "      <td>False</td>\n",
              "      <td>False</td>\n",
              "      <td>False</td>\n",
              "      <td>425</td>\n",
              "      <td>0.346649</td>\n",
              "      <td>0.937995</td>\n",
              "    </tr>\n",
              "    <tr>\n",
              "      <th>3</th>\n",
              "      <td>store_1</td>\n",
              "      <td>category_18</td>\n",
              "      <td>16.0</td>\n",
              "      <td>2004-06-19</td>\n",
              "      <td>city_0</td>\n",
              "      <td>store_0</td>\n",
              "      <td>cluster_0</td>\n",
              "      <td>0.0</td>\n",
              "      <td>False</td>\n",
              "      <td>4</td>\n",
              "      <td>...</td>\n",
              "      <td>2</td>\n",
              "      <td>False</td>\n",
              "      <td>False</td>\n",
              "      <td>False</td>\n",
              "      <td>False</td>\n",
              "      <td>False</td>\n",
              "      <td>False</td>\n",
              "      <td>425</td>\n",
              "      <td>0.346649</td>\n",
              "      <td>0.937995</td>\n",
              "    </tr>\n",
              "    <tr>\n",
              "      <th>4</th>\n",
              "      <td>store_1</td>\n",
              "      <td>category_26</td>\n",
              "      <td>0.0</td>\n",
              "      <td>2004-06-19</td>\n",
              "      <td>city_0</td>\n",
              "      <td>store_0</td>\n",
              "      <td>cluster_0</td>\n",
              "      <td>0.0</td>\n",
              "      <td>False</td>\n",
              "      <td>4</td>\n",
              "      <td>...</td>\n",
              "      <td>2</td>\n",
              "      <td>False</td>\n",
              "      <td>False</td>\n",
              "      <td>False</td>\n",
              "      <td>False</td>\n",
              "      <td>False</td>\n",
              "      <td>False</td>\n",
              "      <td>425</td>\n",
              "      <td>0.346649</td>\n",
              "      <td>0.937995</td>\n",
              "    </tr>\n",
              "  </tbody>\n",
              "</table>\n",
              "<p>5 rows × 25 columns</p>\n",
              "</div>"
            ],
            "text/plain": [
              "  store_id  category_id  onpromotion date_extracted    city store_type  \\\n",
              "0  store_1  category_24          0.0     2004-06-19  city_0    store_0   \n",
              "1  store_1  category_21          0.0     2004-06-19  city_0    store_0   \n",
              "2  store_1  category_32          0.0     2004-06-19  city_0    store_0   \n",
              "3  store_1  category_18         16.0     2004-06-19  city_0    store_0   \n",
              "4  store_1  category_26          0.0     2004-06-19  city_0    store_0   \n",
              "\n",
              "     cluster  holiday_type  is_holiday  year  ...  quarter  is_month_start  \\\n",
              "0  cluster_0           0.0       False     4  ...        2           False   \n",
              "1  cluster_0           0.0       False     4  ...        2           False   \n",
              "2  cluster_0           0.0       False     4  ...        2           False   \n",
              "3  cluster_0           0.0       False     4  ...        2           False   \n",
              "4  cluster_0           0.0       False     4  ...        2           False   \n",
              "\n",
              "   is_month_end  is_quarter_start  is_quarter_end  is_year_start  is_year_end  \\\n",
              "0         False             False           False          False        False   \n",
              "1         False             False           False          False        False   \n",
              "2         False             False           False          False        False   \n",
              "3         False             False           False          False        False   \n",
              "4         False             False           False          False        False   \n",
              "\n",
              "   year_weekofyear  sin(dayofyear)  cos(dayofyear)  \n",
              "0              425        0.346649        0.937995  \n",
              "1              425        0.346649        0.937995  \n",
              "2              425        0.346649        0.937995  \n",
              "3              425        0.346649        0.937995  \n",
              "4              425        0.346649        0.937995  \n",
              "\n",
              "[5 rows x 25 columns]"
            ]
          },
          "execution_count": 79,
          "metadata": {},
          "output_type": "execute_result"
        }
      ],
      "source": [
        "test_with_stores_holidays.head()"
      ]
    },
    {
      "attachments": {},
      "cell_type": "markdown",
      "metadata": {
        "id": "nmZ1QBT54N0P"
      },
      "source": [
        "## Drop Duplicates"
      ]
    },
    {
      "cell_type": "code",
      "execution_count": 80,
      "metadata": {
        "id": "f_muKXb1DvRi"
      },
      "outputs": [],
      "source": [
        "train_with_stores_holidays.drop_duplicates(inplace=True)\n",
        "test_with_stores_holidays.drop_duplicates(inplace=True)"
      ]
    },
    {
      "attachments": {},
      "cell_type": "markdown",
      "metadata": {
        "id": "AGnoifAP4N0P"
      },
      "source": [
        "## Impute Missing Values"
      ]
    },
    {
      "cell_type": "code",
      "execution_count": 81,
      "metadata": {
        "colab": {
          "base_uri": "https://localhost:8080/"
        },
        "id": "d57DfF5_Jhaw",
        "outputId": "b13a20ff-902c-4a93-f925-18023dd58541"
      },
      "outputs": [
        {
          "name": "stdout",
          "output_type": "stream",
          "text": [
            "store_id                  0\n",
            "category_id               0\n",
            "target                    0\n",
            "onpromotion               0\n",
            "nbr_of_transactions       0\n",
            "date_extracted            0\n",
            "city                      0\n",
            "store_type                0\n",
            "cluster                   0\n",
            "holiday_type              0\n",
            "is_holiday                0\n",
            "year                   7128\n",
            "month                  7128\n",
            "dayofmonth             7128\n",
            "dayofweek              7128\n",
            "dayofyear              7128\n",
            "weekofyear             7128\n",
            "quarter                7128\n",
            "is_month_start         7128\n",
            "is_month_end           7128\n",
            "is_quarter_start       7128\n",
            "is_quarter_end         7128\n",
            "is_year_start          7128\n",
            "is_year_end            7128\n",
            "year_weekofyear        7128\n",
            "sin(dayofyear)         7128\n",
            "cos(dayofyear)         7128\n",
            "dtype: int64\n",
            "store_id            0\n",
            "category_id         0\n",
            "onpromotion         0\n",
            "date_extracted      0\n",
            "city                0\n",
            "store_type          0\n",
            "cluster             0\n",
            "holiday_type        0\n",
            "is_holiday          0\n",
            "year                0\n",
            "month               0\n",
            "dayofmonth          0\n",
            "dayofweek           0\n",
            "dayofyear           0\n",
            "weekofyear          0\n",
            "quarter             0\n",
            "is_month_start      0\n",
            "is_month_end        0\n",
            "is_quarter_start    0\n",
            "is_quarter_end      0\n",
            "is_year_start       0\n",
            "is_year_end         0\n",
            "year_weekofyear     0\n",
            "sin(dayofyear)      0\n",
            "cos(dayofyear)      0\n",
            "dtype: int64\n"
          ]
        }
      ],
      "source": [
        "print(train_with_stores_holidays.isnull().sum())\n",
        "print(test_with_stores_holidays.isnull().sum())"
      ]
    },
    {
      "attachments": {},
      "cell_type": "markdown",
      "metadata": {
        "id": "sIWpPR144N0Q"
      },
      "source": [
        "# Exploratory Data Analysis: EDA"
      ]
    },
    {
      "attachments": {},
      "cell_type": "markdown",
      "metadata": {
        "id": "RD0uSjg0Mcck"
      },
      "source": [
        "## Hypothesis Validation\n",
        "**H0**: holidays have a big effect on sales, hence the sales data is seasonal.\n",
        "\n",
        "**H1**: holidays don't affect sales, hence sales data is stationary."
      ]
    },
    {
      "cell_type": "code",
      "execution_count": 82,
      "metadata": {
        "colab": {
          "base_uri": "https://localhost:8080/",
          "height": 661
        },
        "id": "NeviX6Jfsd1o",
        "outputId": "e624e6c9-7e1f-48df-857f-6d9529cf70b6"
      },
      "outputs": [
        {
          "data": {
            "text/html": [
              "<div>\n",
              "<style scoped>\n",
              "    .dataframe tbody tr th:only-of-type {\n",
              "        vertical-align: middle;\n",
              "    }\n",
              "\n",
              "    .dataframe tbody tr th {\n",
              "        vertical-align: top;\n",
              "    }\n",
              "\n",
              "    .dataframe thead th {\n",
              "        text-align: right;\n",
              "    }\n",
              "</style>\n",
              "<table border=\"1\" class=\"dataframe\">\n",
              "  <thead>\n",
              "    <tr style=\"text-align: right;\">\n",
              "      <th></th>\n",
              "      <th>store_id</th>\n",
              "      <th>category_id</th>\n",
              "      <th>target</th>\n",
              "      <th>onpromotion</th>\n",
              "      <th>nbr_of_transactions</th>\n",
              "      <th>date_extracted</th>\n",
              "      <th>city</th>\n",
              "      <th>store_type</th>\n",
              "      <th>cluster</th>\n",
              "      <th>holiday_type</th>\n",
              "      <th>...</th>\n",
              "      <th>quarter</th>\n",
              "      <th>is_month_start</th>\n",
              "      <th>is_month_end</th>\n",
              "      <th>is_quarter_start</th>\n",
              "      <th>is_quarter_end</th>\n",
              "      <th>is_year_start</th>\n",
              "      <th>is_year_end</th>\n",
              "      <th>year_weekofyear</th>\n",
              "      <th>sin(dayofyear)</th>\n",
              "      <th>cos(dayofyear)</th>\n",
              "    </tr>\n",
              "  </thead>\n",
              "  <tbody>\n",
              "    <tr>\n",
              "      <th>4581517</th>\n",
              "      <td>store_9</td>\n",
              "      <td>category_23</td>\n",
              "      <td>0.0</td>\n",
              "      <td>0.0</td>\n",
              "      <td>0.0</td>\n",
              "      <td>2004-06-18</td>\n",
              "      <td>city_0</td>\n",
              "      <td>store_1</td>\n",
              "      <td>cluster_4</td>\n",
              "      <td>0.0</td>\n",
              "      <td>...</td>\n",
              "      <td>2.0</td>\n",
              "      <td>False</td>\n",
              "      <td>False</td>\n",
              "      <td>False</td>\n",
              "      <td>False</td>\n",
              "      <td>False</td>\n",
              "      <td>False</td>\n",
              "      <td>424.0</td>\n",
              "      <td>-0.602</td>\n",
              "      <td>0.798496</td>\n",
              "    </tr>\n",
              "    <tr>\n",
              "      <th>4581518</th>\n",
              "      <td>store_9</td>\n",
              "      <td>category_20</td>\n",
              "      <td>0.0</td>\n",
              "      <td>0.0</td>\n",
              "      <td>0.0</td>\n",
              "      <td>2004-06-18</td>\n",
              "      <td>city_0</td>\n",
              "      <td>store_1</td>\n",
              "      <td>cluster_4</td>\n",
              "      <td>0.0</td>\n",
              "      <td>...</td>\n",
              "      <td>2.0</td>\n",
              "      <td>False</td>\n",
              "      <td>False</td>\n",
              "      <td>False</td>\n",
              "      <td>False</td>\n",
              "      <td>False</td>\n",
              "      <td>False</td>\n",
              "      <td>424.0</td>\n",
              "      <td>-0.602</td>\n",
              "      <td>0.798496</td>\n",
              "    </tr>\n",
              "    <tr>\n",
              "      <th>4581519</th>\n",
              "      <td>store_9</td>\n",
              "      <td>category_15</td>\n",
              "      <td>0.0</td>\n",
              "      <td>0.0</td>\n",
              "      <td>0.0</td>\n",
              "      <td>2004-06-18</td>\n",
              "      <td>city_0</td>\n",
              "      <td>store_1</td>\n",
              "      <td>cluster_4</td>\n",
              "      <td>0.0</td>\n",
              "      <td>...</td>\n",
              "      <td>2.0</td>\n",
              "      <td>False</td>\n",
              "      <td>False</td>\n",
              "      <td>False</td>\n",
              "      <td>False</td>\n",
              "      <td>False</td>\n",
              "      <td>False</td>\n",
              "      <td>424.0</td>\n",
              "      <td>-0.602</td>\n",
              "      <td>0.798496</td>\n",
              "    </tr>\n",
              "    <tr>\n",
              "      <th>4581520</th>\n",
              "      <td>store_9</td>\n",
              "      <td>category_29</td>\n",
              "      <td>0.0</td>\n",
              "      <td>0.0</td>\n",
              "      <td>0.0</td>\n",
              "      <td>2004-06-18</td>\n",
              "      <td>city_0</td>\n",
              "      <td>store_1</td>\n",
              "      <td>cluster_4</td>\n",
              "      <td>0.0</td>\n",
              "      <td>...</td>\n",
              "      <td>2.0</td>\n",
              "      <td>False</td>\n",
              "      <td>False</td>\n",
              "      <td>False</td>\n",
              "      <td>False</td>\n",
              "      <td>False</td>\n",
              "      <td>False</td>\n",
              "      <td>424.0</td>\n",
              "      <td>-0.602</td>\n",
              "      <td>0.798496</td>\n",
              "    </tr>\n",
              "    <tr>\n",
              "      <th>4581521</th>\n",
              "      <td>store_9</td>\n",
              "      <td>category_10</td>\n",
              "      <td>0.0</td>\n",
              "      <td>0.0</td>\n",
              "      <td>0.0</td>\n",
              "      <td>2004-06-18</td>\n",
              "      <td>city_0</td>\n",
              "      <td>store_1</td>\n",
              "      <td>cluster_4</td>\n",
              "      <td>0.0</td>\n",
              "      <td>...</td>\n",
              "      <td>2.0</td>\n",
              "      <td>False</td>\n",
              "      <td>False</td>\n",
              "      <td>False</td>\n",
              "      <td>False</td>\n",
              "      <td>False</td>\n",
              "      <td>False</td>\n",
              "      <td>424.0</td>\n",
              "      <td>-0.602</td>\n",
              "      <td>0.798496</td>\n",
              "    </tr>\n",
              "  </tbody>\n",
              "</table>\n",
              "<p>5 rows × 27 columns</p>\n",
              "</div>"
            ],
            "text/plain": [
              "        store_id  category_id  target  onpromotion  nbr_of_transactions  \\\n",
              "4581517  store_9  category_23     0.0          0.0                  0.0   \n",
              "4581518  store_9  category_20     0.0          0.0                  0.0   \n",
              "4581519  store_9  category_15     0.0          0.0                  0.0   \n",
              "4581520  store_9  category_29     0.0          0.0                  0.0   \n",
              "4581521  store_9  category_10     0.0          0.0                  0.0   \n",
              "\n",
              "        date_extracted    city store_type    cluster  holiday_type  ...  \\\n",
              "4581517     2004-06-18  city_0    store_1  cluster_4           0.0  ...   \n",
              "4581518     2004-06-18  city_0    store_1  cluster_4           0.0  ...   \n",
              "4581519     2004-06-18  city_0    store_1  cluster_4           0.0  ...   \n",
              "4581520     2004-06-18  city_0    store_1  cluster_4           0.0  ...   \n",
              "4581521     2004-06-18  city_0    store_1  cluster_4           0.0  ...   \n",
              "\n",
              "         quarter  is_month_start  is_month_end  is_quarter_start  \\\n",
              "4581517      2.0           False         False             False   \n",
              "4581518      2.0           False         False             False   \n",
              "4581519      2.0           False         False             False   \n",
              "4581520      2.0           False         False             False   \n",
              "4581521      2.0           False         False             False   \n",
              "\n",
              "         is_quarter_end  is_year_start  is_year_end  year_weekofyear  \\\n",
              "4581517           False          False        False            424.0   \n",
              "4581518           False          False        False            424.0   \n",
              "4581519           False          False        False            424.0   \n",
              "4581520           False          False        False            424.0   \n",
              "4581521           False          False        False            424.0   \n",
              "\n",
              "        sin(dayofyear) cos(dayofyear)  \n",
              "4581517         -0.602       0.798496  \n",
              "4581518         -0.602       0.798496  \n",
              "4581519         -0.602       0.798496  \n",
              "4581520         -0.602       0.798496  \n",
              "4581521         -0.602       0.798496  \n",
              "\n",
              "[5 rows x 27 columns]"
            ]
          },
          "execution_count": 82,
          "metadata": {},
          "output_type": "execute_result"
        }
      ],
      "source": [
        "train_with_stores_holidays.tail()"
      ]
    },
    {
      "cell_type": "code",
      "execution_count": 83,
      "metadata": {
        "colab": {
          "base_uri": "https://localhost:8080/"
        },
        "id": "ntlxx3X58KbB",
        "outputId": "300c84f6-9a13-492a-ae43-664105b20bd9"
      },
      "outputs": [
        {
          "data": {
            "text/plain": [
              "Index(['store_id', 'category_id', 'target', 'onpromotion',\n",
              "       'nbr_of_transactions', 'date_extracted', 'city', 'store_type',\n",
              "       'cluster', 'holiday_type', 'is_holiday', 'year', 'month', 'dayofmonth',\n",
              "       'dayofweek', 'dayofyear', 'weekofyear', 'quarter', 'is_month_start',\n",
              "       'is_month_end', 'is_quarter_start', 'is_quarter_end', 'is_year_start',\n",
              "       'is_year_end', 'year_weekofyear', 'sin(dayofyear)', 'cos(dayofyear)'],\n",
              "      dtype='object')"
            ]
          },
          "execution_count": 83,
          "metadata": {},
          "output_type": "execute_result"
        }
      ],
      "source": [
        "train_with_stores_holidays.columns"
      ]
    },
    {
      "attachments": {},
      "cell_type": "markdown",
      "metadata": {
        "id": "z6nLfhO94N0Q"
      },
      "source": [
        "## Answering Questions"
      ]
    },
    {
      "attachments": {},
      "cell_type": "markdown",
      "metadata": {
        "id": "_6tpLgwhK20R"
      },
      "source": [
        "1. Is the train data complete?"
      ]
    },
    {
      "attachments": {},
      "cell_type": "markdown",
      "metadata": {
        "id": "7Kf4QrNjLFSj"
      },
      "source": [
        "Yes. The output below shows that our train data is complete."
      ]
    },
    {
      "cell_type": "code",
      "execution_count": 84,
      "metadata": {
        "colab": {
          "base_uri": "https://localhost:8080/"
        },
        "id": "JTdaJT8wK4gb",
        "outputId": "98ebcc6e-72c2-4c57-b9ff-31db1579f2b4"
      },
      "outputs": [
        {
          "data": {
            "text/plain": [
              "DatetimeIndex([], dtype='datetime64[ns]', freq=None)"
            ]
          },
          "execution_count": 84,
          "metadata": {},
          "output_type": "execute_result"
        }
      ],
      "source": [
        "get_missing_dates(train_with_stores_holidays)"
      ]
    },
    {
      "attachments": {},
      "cell_type": "markdown",
      "metadata": {
        "id": "ua7G3f6VK1hu"
      },
      "source": [
        "2. Do we have seasonality in our sales?"
      ]
    },
    {
      "cell_type": "code",
      "execution_count": 85,
      "metadata": {
        "id": "jNTmmpjQC9d2"
      },
      "outputs": [],
      "source": [
        "# Assuming your time series data is stored in the variable 'sales_data'\n",
        "sales_data = train_with_stores_holidays['target']"
      ]
    },
    {
      "cell_type": "code",
      "execution_count": 86,
      "metadata": {
        "id": "7udcLL2CDLjy"
      },
      "outputs": [],
      "source": [
        "# Perform KPSS test\n",
        "kpss_result = kpss(sales_data)\n",
        "kpss_statistic = kpss_result[0]\n",
        "kpss_pvalue = kpss_result[1]\n",
        "kpss_critical_values = kpss_result[3]"
      ]
    },
    {
      "cell_type": "code",
      "execution_count": 87,
      "metadata": {
        "id": "OD16D9Ka_1DZ"
      },
      "outputs": [
        {
          "name": "stdout",
          "output_type": "stream",
          "text": [
            "\n",
            "KPSS Test:\n",
            "KPSS Statistic: 244.78169974352693\n",
            "p-value: 0.01\n"
          ]
        }
      ],
      "source": [
        "print(\"\\nKPSS Test:\")\n",
        "print(\"KPSS Statistic:\", kpss_statistic)\n",
        "print(\"p-value:\", kpss_pvalue)"
      ]
    },
    {
      "attachments": {},
      "cell_type": "markdown",
      "metadata": {},
      "source": [
        "stationary if p-value > 0.05\n",
        "\n",
        "series is stationary since 0.01 < 0.05"
      ]
    },
    {
      "cell_type": "code",
      "execution_count": 88,
      "metadata": {
        "id": "C-k2e6-gDEZP"
      },
      "outputs": [
        {
          "data": {
            "image/png": "[encoded data removed]",
            "text/plain": [
              "<Figure size 1000x600 with 1 Axes>"
            ]
          },
          "metadata": {},
          "output_type": "display_data"
        }
      ],
      "source": [
        "def check_stationarity(df, date_col, target_col, window=12):\n",
        "    # Calculate rolling statistics\n",
        "    rolling_std = df[target_col].rolling(window=window).std()\n",
        "    rolling_mean = df[target_col].rolling(window=window).mean()\n",
        "\n",
        "    # Plot original series and rolling statistics\n",
        "    plt.figure(figsize=(10, 6))\n",
        "    plt.plot(df[date_col], df[target_col], color='blue', label='Original Series')\n",
        "    plt.plot(df[date_col], rolling_std, color='green', label='Rolling Std')\n",
        "    plt.plot(df[date_col], rolling_mean, color='red', label='Rolling Mean')\n",
        "    plt.legend()\n",
        "    plt.title('Rolling Statistics')\n",
        "    plt.xlabel('Date')\n",
        "    plt.ylabel('Target(sales)')\n",
        "    plt.tight_layout()  # Adjusts plot spacing\n",
        "    plt.show()\n",
        "\n",
        "# Example usage\n",
        "df = sales_data  # Assuming the sales data is stored in a dataframe called sales_data\n",
        "date_col = 'date_extracted'  # Column containing the date information\n",
        "target_col = 'sales'  # Column containing the sales data\n",
        "\n",
        "check_stationarity(train_with_stores_holidays, 'date_extracted', 'target')"
      ]
    },
    {
      "attachments": {},
      "cell_type": "markdown",
      "metadata": {},
      "source": [
        "series is stationary from the above plot, since the statistic(standard deviation) remains similar to the original series"
      ]
    },
    {
      "cell_type": "code",
      "execution_count": 89,
      "metadata": {},
      "outputs": [],
      "source": [
        "# pacf = plot_pacf(series,lags = 10)"
      ]
    },
    {
      "attachments": {},
      "cell_type": "markdown",
      "metadata": {
        "id": "BRYQFGKGK0Ny"
      },
      "source": [
        "3. Are there outliers in our dataset?"
      ]
    },
    {
      "attachments": {},
      "cell_type": "markdown",
      "metadata": {
        "id": "DO8E9bunKxvg"
      },
      "source": [
        "4. What is the difference between RMSLE, RMSE and MSE?"
      ]
    },
    {
      "attachments": {},
      "cell_type": "markdown",
      "metadata": {
        "id": "S0ASY2Id4N0T"
      },
      "source": [
        "## Univariate Analysis"
      ]
    },
    {
      "attachments": {},
      "cell_type": "markdown",
      "metadata": {
        "id": "lycj1Mjo4N0U"
      },
      "source": [
        "## Bivariate Analysis"
      ]
    },
    {
      "attachments": {},
      "cell_type": "markdown",
      "metadata": {
        "id": "lQyOpX6dM6Ig"
      },
      "source": [
        "## Multivariate Analysis"
      ]
    },
    {
      "attachments": {},
      "cell_type": "markdown",
      "metadata": {
        "id": "6GmpRhjT4N0V"
      },
      "source": [
        "# Feature Engineering"
      ]
    },
    {
      "attachments": {},
      "cell_type": "markdown",
      "metadata": {
        "id": "nDXigCJl4N0V"
      },
      "source": [
        "## Creating New Features"
      ]
    },
    {
      "cell_type": "code",
      "execution_count": null,
      "metadata": {
        "id": "ZnnEQBN9HfL3"
      },
      "outputs": [],
      "source": [
        "def getDateFeatures(df):\n",
        "    \n",
        "    df[\"is_weekend\"] = np.where(df['dayofweek'] > 4, 1, 0)\n",
        "\n",
        "    # Define the criteria for each season\n",
        "    seasons = {'Winter': [12, 1, 2], 'Spring': [3, 4, 5], 'Summer': [6, 7, 8], 'Autumn': [9, 10, 11]}\n",
        "\n",
        "    # Create the 'season' column based on the 'date' column\n",
        "    df['season'] = df[\"month\"].map({month: season for season, months in seasons.items() for month in months})\n",
        "\n",
        "    return df"
      ]
    },
    {
      "cell_type": "code",
      "execution_count": null,
      "metadata": {
        "id": "qBC3kYEiHkEA"
      },
      "outputs": [
        {
          "ename": "AttributeError",
          "evalue": "Can only use .dt accessor with datetimelike values",
          "output_type": "error",
          "traceback": [
            "\u001b[1;31m---------------------------------------------------------------------------\u001b[0m",
            "\u001b[1;31mAttributeError\u001b[0m                            Traceback (most recent call last)",
            "\u001b[1;32m~\\AppData\\Local\\Temp\\ipykernel_14268\\1563915398.py\u001b[0m in \u001b[0;36m<module>\u001b[1;34m\u001b[0m\n\u001b[1;32m----> 1\u001b[1;33m \u001b[0mgetDateFeatures\u001b[0m\u001b[1;33m(\u001b[0m\u001b[0mtrain_with_stores_holidays\u001b[0m\u001b[1;33m)\u001b[0m\u001b[1;33m\u001b[0m\u001b[1;33m\u001b[0m\u001b[0m\n\u001b[0m\u001b[0;32m      2\u001b[0m \u001b[0mgetDateFeatures\u001b[0m\u001b[1;33m(\u001b[0m\u001b[0mtest_with_stores_holidays\u001b[0m\u001b[1;33m)\u001b[0m\u001b[1;33m\u001b[0m\u001b[1;33m\u001b[0m\u001b[0m\n",
            "\u001b[1;32m~\\AppData\\Local\\Temp\\ipykernel_14268\\1987358104.py\u001b[0m in \u001b[0;36mgetDateFeatures\u001b[1;34m(df)\u001b[0m\n\u001b[0;32m      1\u001b[0m \u001b[1;32mdef\u001b[0m \u001b[0mgetDateFeatures\u001b[0m\u001b[1;33m(\u001b[0m\u001b[0mdf\u001b[0m\u001b[1;33m)\u001b[0m\u001b[1;33m:\u001b[0m\u001b[1;33m\u001b[0m\u001b[1;33m\u001b[0m\u001b[0m\n\u001b[0;32m      2\u001b[0m \u001b[1;33m\u001b[0m\u001b[0m\n\u001b[1;32m----> 3\u001b[1;33m     \u001b[0mdf\u001b[0m\u001b[1;33m[\u001b[0m\u001b[1;34m'year'\u001b[0m\u001b[1;33m]\u001b[0m \u001b[1;33m=\u001b[0m \u001b[0mdf\u001b[0m\u001b[1;33m[\u001b[0m\u001b[1;34m'date_extracted'\u001b[0m\u001b[1;33m]\u001b[0m\u001b[1;33m.\u001b[0m\u001b[0mdt\u001b[0m\u001b[1;33m.\u001b[0m\u001b[0myear\u001b[0m\u001b[1;33m\u001b[0m\u001b[1;33m\u001b[0m\u001b[0m\n\u001b[0m\u001b[0;32m      4\u001b[0m     \u001b[0mdf\u001b[0m\u001b[1;33m[\u001b[0m\u001b[1;34m'month'\u001b[0m\u001b[1;33m]\u001b[0m \u001b[1;33m=\u001b[0m \u001b[0mdf\u001b[0m\u001b[1;33m[\u001b[0m\u001b[1;34m'date_extracted'\u001b[0m\u001b[1;33m]\u001b[0m\u001b[1;33m.\u001b[0m\u001b[0mdt\u001b[0m\u001b[1;33m.\u001b[0m\u001b[0mmonth\u001b[0m\u001b[1;33m\u001b[0m\u001b[1;33m\u001b[0m\u001b[0m\n\u001b[0;32m      5\u001b[0m     \u001b[0mdf\u001b[0m\u001b[1;33m[\u001b[0m\u001b[1;34m'dayofmonth'\u001b[0m\u001b[1;33m]\u001b[0m \u001b[1;33m=\u001b[0m \u001b[0mdf\u001b[0m\u001b[1;33m[\u001b[0m\u001b[1;34m'date_extracted'\u001b[0m\u001b[1;33m]\u001b[0m\u001b[1;33m.\u001b[0m\u001b[0mdt\u001b[0m\u001b[1;33m.\u001b[0m\u001b[0mday\u001b[0m\u001b[1;33m\u001b[0m\u001b[1;33m\u001b[0m\u001b[0m\n",
            "\u001b[1;32mc:\\Users\\LENOVO\\anaconda3\\lib\\site-packages\\pandas\\core\\generic.py\u001b[0m in \u001b[0;36m__getattr__\u001b[1;34m(self, name)\u001b[0m\n\u001b[0;32m   5476\u001b[0m         ):\n\u001b[0;32m   5477\u001b[0m             \u001b[1;32mreturn\u001b[0m \u001b[0mself\u001b[0m\u001b[1;33m[\u001b[0m\u001b[0mname\u001b[0m\u001b[1;33m]\u001b[0m\u001b[1;33m\u001b[0m\u001b[1;33m\u001b[0m\u001b[0m\n\u001b[1;32m-> 5478\u001b[1;33m         \u001b[1;32mreturn\u001b[0m \u001b[0mobject\u001b[0m\u001b[1;33m.\u001b[0m\u001b[0m__getattribute__\u001b[0m\u001b[1;33m(\u001b[0m\u001b[0mself\u001b[0m\u001b[1;33m,\u001b[0m \u001b[0mname\u001b[0m\u001b[1;33m)\u001b[0m\u001b[1;33m\u001b[0m\u001b[1;33m\u001b[0m\u001b[0m\n\u001b[0m\u001b[0;32m   5479\u001b[0m \u001b[1;33m\u001b[0m\u001b[0m\n\u001b[0;32m   5480\u001b[0m     \u001b[1;32mdef\u001b[0m \u001b[0m__setattr__\u001b[0m\u001b[1;33m(\u001b[0m\u001b[0mself\u001b[0m\u001b[1;33m,\u001b[0m \u001b[0mname\u001b[0m\u001b[1;33m:\u001b[0m \u001b[0mstr\u001b[0m\u001b[1;33m,\u001b[0m \u001b[0mvalue\u001b[0m\u001b[1;33m)\u001b[0m \u001b[1;33m->\u001b[0m \u001b[1;32mNone\u001b[0m\u001b[1;33m:\u001b[0m\u001b[1;33m\u001b[0m\u001b[1;33m\u001b[0m\u001b[0m\n",
            "\u001b[1;32mc:\\Users\\LENOVO\\anaconda3\\lib\\site-packages\\pandas\\core\\accessor.py\u001b[0m in \u001b[0;36m__get__\u001b[1;34m(self, obj, cls)\u001b[0m\n\u001b[0;32m    179\u001b[0m             \u001b[1;31m# we're accessing the attribute of the class, i.e., Dataset.geo\u001b[0m\u001b[1;33m\u001b[0m\u001b[1;33m\u001b[0m\u001b[0m\n\u001b[0;32m    180\u001b[0m             \u001b[1;32mreturn\u001b[0m \u001b[0mself\u001b[0m\u001b[1;33m.\u001b[0m\u001b[0m_accessor\u001b[0m\u001b[1;33m\u001b[0m\u001b[1;33m\u001b[0m\u001b[0m\n\u001b[1;32m--> 181\u001b[1;33m         \u001b[0maccessor_obj\u001b[0m \u001b[1;33m=\u001b[0m \u001b[0mself\u001b[0m\u001b[1;33m.\u001b[0m\u001b[0m_accessor\u001b[0m\u001b[1;33m(\u001b[0m\u001b[0mobj\u001b[0m\u001b[1;33m)\u001b[0m\u001b[1;33m\u001b[0m\u001b[1;33m\u001b[0m\u001b[0m\n\u001b[0m\u001b[0;32m    182\u001b[0m         \u001b[1;31m# Replace the property with the accessor object. Inspired by:\u001b[0m\u001b[1;33m\u001b[0m\u001b[1;33m\u001b[0m\u001b[0m\n\u001b[0;32m    183\u001b[0m         \u001b[1;31m# https://www.pydanny.com/cached-property.html\u001b[0m\u001b[1;33m\u001b[0m\u001b[1;33m\u001b[0m\u001b[0m\n",
            "\u001b[1;32mc:\\Users\\LENOVO\\anaconda3\\lib\\site-packages\\pandas\\core\\indexes\\accessors.py\u001b[0m in \u001b[0;36m__new__\u001b[1;34m(cls, data)\u001b[0m\n\u001b[0;32m    504\u001b[0m             \u001b[1;32mreturn\u001b[0m \u001b[0mPeriodProperties\u001b[0m\u001b[1;33m(\u001b[0m\u001b[0mdata\u001b[0m\u001b[1;33m,\u001b[0m \u001b[0morig\u001b[0m\u001b[1;33m)\u001b[0m\u001b[1;33m\u001b[0m\u001b[1;33m\u001b[0m\u001b[0m\n\u001b[0;32m    505\u001b[0m \u001b[1;33m\u001b[0m\u001b[0m\n\u001b[1;32m--> 506\u001b[1;33m         \u001b[1;32mraise\u001b[0m \u001b[0mAttributeError\u001b[0m\u001b[1;33m(\u001b[0m\u001b[1;34m\"Can only use .dt accessor with datetimelike values\"\u001b[0m\u001b[1;33m)\u001b[0m\u001b[1;33m\u001b[0m\u001b[1;33m\u001b[0m\u001b[0m\n\u001b[0m",
            "\u001b[1;31mAttributeError\u001b[0m: Can only use .dt accessor with datetimelike values"
          ]
        }
      ],
      "source": [
        "getDateFeatures(train_with_stores_holidays)\n",
        "getDateFeatures(test_with_stores_holidays)"
      ]
    },
    {
      "attachments": {},
      "cell_type": "markdown",
      "metadata": {
        "id": "6yAl29rO4N0b"
      },
      "source": [
        "let's make the date column the index"
      ]
    },
    {
      "cell_type": "code",
      "execution_count": null,
      "metadata": {},
      "outputs": [],
      "source": [
        "merged3 = train_with_stores_holidays\n",
        "merged3_test = test_with_stores_holidays"
      ]
    },
    {
      "cell_type": "code",
      "execution_count": null,
      "metadata": {},
      "outputs": [],
      "source": [
        "merged3.rename(columns={'date_extracted':'date'}, inplace=True)\n",
        "merged3_test.rename(columns={'date_extracted':'date'}, inplace=True)"
      ]
    },
    {
      "cell_type": "code",
      "execution_count": null,
      "metadata": {
        "id": "gt9GgyhZ4N0b"
      },
      "outputs": [],
      "source": [
        "merged3.set_index('date', inplace=True)\n",
        "merged3_test.set_index('date', inplace=True)"
      ]
    },
    {
      "cell_type": "code",
      "execution_count": null,
      "metadata": {},
      "outputs": [
        {
          "data": {
            "text/html": [
              "<div>\n",
              "<style scoped>\n",
              "    .dataframe tbody tr th:only-of-type {\n",
              "        vertical-align: middle;\n",
              "    }\n",
              "\n",
              "    .dataframe tbody tr th {\n",
              "        vertical-align: top;\n",
              "    }\n",
              "\n",
              "    .dataframe thead th {\n",
              "        text-align: right;\n",
              "    }\n",
              "</style>\n",
              "<table border=\"1\" class=\"dataframe\">\n",
              "  <thead>\n",
              "    <tr style=\"text-align: right;\">\n",
              "      <th></th>\n",
              "      <th>store_id</th>\n",
              "      <th>category_id</th>\n",
              "      <th>sales</th>\n",
              "      <th>onpromotion</th>\n",
              "      <th>nbr_of_transactions</th>\n",
              "      <th>city</th>\n",
              "      <th>store_type</th>\n",
              "      <th>cluster</th>\n",
              "      <th>holiday_type</th>\n",
              "      <th>is_holiday</th>\n",
              "      <th>...</th>\n",
              "      <th>is_quarter_start</th>\n",
              "      <th>is_quarter_end</th>\n",
              "      <th>is_year_start</th>\n",
              "      <th>is_year_end</th>\n",
              "      <th>year_weekofyear</th>\n",
              "      <th>dayofyear</th>\n",
              "      <th>sin(dayofyear)</th>\n",
              "      <th>cos(dayofyear)</th>\n",
              "      <th>is_weekend</th>\n",
              "      <th>season</th>\n",
              "    </tr>\n",
              "    <tr>\n",
              "      <th>date</th>\n",
              "      <th></th>\n",
              "      <th></th>\n",
              "      <th></th>\n",
              "      <th></th>\n",
              "      <th></th>\n",
              "      <th></th>\n",
              "      <th></th>\n",
              "      <th></th>\n",
              "      <th></th>\n",
              "      <th></th>\n",
              "      <th></th>\n",
              "      <th></th>\n",
              "      <th></th>\n",
              "      <th></th>\n",
              "      <th></th>\n",
              "      <th></th>\n",
              "      <th></th>\n",
              "      <th></th>\n",
              "      <th></th>\n",
              "      <th></th>\n",
              "      <th></th>\n",
              "    </tr>\n",
              "  </thead>\n",
              "  <tbody>\n",
              "    <tr>\n",
              "      <th>2001-01-01</th>\n",
              "      <td>store_1</td>\n",
              "      <td>category_24</td>\n",
              "      <td>0.0</td>\n",
              "      <td>0.0</td>\n",
              "      <td>0.0</td>\n",
              "      <td>New York</td>\n",
              "      <td>Supermarket</td>\n",
              "      <td>Urban</td>\n",
              "      <td>0.0</td>\n",
              "      <td>False</td>\n",
              "      <td>...</td>\n",
              "      <td>1</td>\n",
              "      <td>0</td>\n",
              "      <td>1</td>\n",
              "      <td>0</td>\n",
              "      <td>200101</td>\n",
              "      <td>1</td>\n",
              "      <td>0.841471</td>\n",
              "      <td>0.540302</td>\n",
              "      <td>0</td>\n",
              "      <td>Winter</td>\n",
              "    </tr>\n",
              "    <tr>\n",
              "      <th>2001-01-01</th>\n",
              "      <td>store_1</td>\n",
              "      <td>category_21</td>\n",
              "      <td>0.0</td>\n",
              "      <td>0.0</td>\n",
              "      <td>0.0</td>\n",
              "      <td>New York</td>\n",
              "      <td>Supermarket</td>\n",
              "      <td>Urban</td>\n",
              "      <td>0.0</td>\n",
              "      <td>False</td>\n",
              "      <td>...</td>\n",
              "      <td>1</td>\n",
              "      <td>0</td>\n",
              "      <td>1</td>\n",
              "      <td>0</td>\n",
              "      <td>200101</td>\n",
              "      <td>1</td>\n",
              "      <td>0.841471</td>\n",
              "      <td>0.540302</td>\n",
              "      <td>0</td>\n",
              "      <td>Winter</td>\n",
              "    </tr>\n",
              "    <tr>\n",
              "      <th>2001-01-01</th>\n",
              "      <td>store_1</td>\n",
              "      <td>category_32</td>\n",
              "      <td>0.0</td>\n",
              "      <td>0.0</td>\n",
              "      <td>0.0</td>\n",
              "      <td>New York</td>\n",
              "      <td>Supermarket</td>\n",
              "      <td>Urban</td>\n",
              "      <td>0.0</td>\n",
              "      <td>False</td>\n",
              "      <td>...</td>\n",
              "      <td>1</td>\n",
              "      <td>0</td>\n",
              "      <td>1</td>\n",
              "      <td>0</td>\n",
              "      <td>200101</td>\n",
              "      <td>1</td>\n",
              "      <td>0.841471</td>\n",
              "      <td>0.540302</td>\n",
              "      <td>0</td>\n",
              "      <td>Winter</td>\n",
              "    </tr>\n",
              "    <tr>\n",
              "      <th>2001-01-01</th>\n",
              "      <td>store_1</td>\n",
              "      <td>category_18</td>\n",
              "      <td>0.0</td>\n",
              "      <td>0.0</td>\n",
              "      <td>0.0</td>\n",
              "      <td>New York</td>\n",
              "      <td>Supermarket</td>\n",
              "      <td>Urban</td>\n",
              "      <td>0.0</td>\n",
              "      <td>False</td>\n",
              "      <td>...</td>\n",
              "      <td>1</td>\n",
              "      <td>0</td>\n",
              "      <td>1</td>\n",
              "      <td>0</td>\n",
              "      <td>200101</td>\n",
              "      <td>1</td>\n",
              "      <td>0.841471</td>\n",
              "      <td>0.540302</td>\n",
              "      <td>0</td>\n",
              "      <td>Winter</td>\n",
              "    </tr>\n",
              "    <tr>\n",
              "      <th>2001-01-01</th>\n",
              "      <td>store_1</td>\n",
              "      <td>category_26</td>\n",
              "      <td>0.0</td>\n",
              "      <td>0.0</td>\n",
              "      <td>0.0</td>\n",
              "      <td>New York</td>\n",
              "      <td>Supermarket</td>\n",
              "      <td>Urban</td>\n",
              "      <td>0.0</td>\n",
              "      <td>False</td>\n",
              "      <td>...</td>\n",
              "      <td>1</td>\n",
              "      <td>0</td>\n",
              "      <td>1</td>\n",
              "      <td>0</td>\n",
              "      <td>200101</td>\n",
              "      <td>1</td>\n",
              "      <td>0.841471</td>\n",
              "      <td>0.540302</td>\n",
              "      <td>0</td>\n",
              "      <td>Winter</td>\n",
              "    </tr>\n",
              "    <tr>\n",
              "      <th>...</th>\n",
              "      <td>...</td>\n",
              "      <td>...</td>\n",
              "      <td>...</td>\n",
              "      <td>...</td>\n",
              "      <td>...</td>\n",
              "      <td>...</td>\n",
              "      <td>...</td>\n",
              "      <td>...</td>\n",
              "      <td>...</td>\n",
              "      <td>...</td>\n",
              "      <td>...</td>\n",
              "      <td>...</td>\n",
              "      <td>...</td>\n",
              "      <td>...</td>\n",
              "      <td>...</td>\n",
              "      <td>...</td>\n",
              "      <td>...</td>\n",
              "      <td>...</td>\n",
              "      <td>...</td>\n",
              "      <td>...</td>\n",
              "      <td>...</td>\n",
              "    </tr>\n",
              "    <tr>\n",
              "      <th>2004-12-09</th>\n",
              "      <td>store_9</td>\n",
              "      <td>category_23</td>\n",
              "      <td>0.0</td>\n",
              "      <td>0.0</td>\n",
              "      <td>0.0</td>\n",
              "      <td>New York</td>\n",
              "      <td>Hypermarket</td>\n",
              "      <td>Downtown</td>\n",
              "      <td>0.0</td>\n",
              "      <td>False</td>\n",
              "      <td>...</td>\n",
              "      <td>0</td>\n",
              "      <td>0</td>\n",
              "      <td>0</td>\n",
              "      <td>0</td>\n",
              "      <td>200450</td>\n",
              "      <td>344</td>\n",
              "      <td>-0.999990</td>\n",
              "      <td>-0.004396</td>\n",
              "      <td>0</td>\n",
              "      <td>Winter</td>\n",
              "    </tr>\n",
              "    <tr>\n",
              "      <th>2004-12-09</th>\n",
              "      <td>store_9</td>\n",
              "      <td>category_20</td>\n",
              "      <td>0.0</td>\n",
              "      <td>0.0</td>\n",
              "      <td>0.0</td>\n",
              "      <td>New York</td>\n",
              "      <td>Hypermarket</td>\n",
              "      <td>Downtown</td>\n",
              "      <td>0.0</td>\n",
              "      <td>False</td>\n",
              "      <td>...</td>\n",
              "      <td>0</td>\n",
              "      <td>0</td>\n",
              "      <td>0</td>\n",
              "      <td>0</td>\n",
              "      <td>200450</td>\n",
              "      <td>344</td>\n",
              "      <td>-0.999990</td>\n",
              "      <td>-0.004396</td>\n",
              "      <td>0</td>\n",
              "      <td>Winter</td>\n",
              "    </tr>\n",
              "    <tr>\n",
              "      <th>2004-12-09</th>\n",
              "      <td>store_9</td>\n",
              "      <td>category_15</td>\n",
              "      <td>0.0</td>\n",
              "      <td>0.0</td>\n",
              "      <td>0.0</td>\n",
              "      <td>New York</td>\n",
              "      <td>Hypermarket</td>\n",
              "      <td>Downtown</td>\n",
              "      <td>0.0</td>\n",
              "      <td>False</td>\n",
              "      <td>...</td>\n",
              "      <td>0</td>\n",
              "      <td>0</td>\n",
              "      <td>0</td>\n",
              "      <td>0</td>\n",
              "      <td>200450</td>\n",
              "      <td>344</td>\n",
              "      <td>-0.999990</td>\n",
              "      <td>-0.004396</td>\n",
              "      <td>0</td>\n",
              "      <td>Winter</td>\n",
              "    </tr>\n",
              "    <tr>\n",
              "      <th>2004-12-09</th>\n",
              "      <td>store_9</td>\n",
              "      <td>category_29</td>\n",
              "      <td>0.0</td>\n",
              "      <td>0.0</td>\n",
              "      <td>0.0</td>\n",
              "      <td>New York</td>\n",
              "      <td>Hypermarket</td>\n",
              "      <td>Downtown</td>\n",
              "      <td>0.0</td>\n",
              "      <td>False</td>\n",
              "      <td>...</td>\n",
              "      <td>0</td>\n",
              "      <td>0</td>\n",
              "      <td>0</td>\n",
              "      <td>0</td>\n",
              "      <td>200450</td>\n",
              "      <td>344</td>\n",
              "      <td>-0.999990</td>\n",
              "      <td>-0.004396</td>\n",
              "      <td>0</td>\n",
              "      <td>Winter</td>\n",
              "    </tr>\n",
              "    <tr>\n",
              "      <th>2004-12-09</th>\n",
              "      <td>store_9</td>\n",
              "      <td>category_10</td>\n",
              "      <td>0.0</td>\n",
              "      <td>0.0</td>\n",
              "      <td>0.0</td>\n",
              "      <td>New York</td>\n",
              "      <td>Hypermarket</td>\n",
              "      <td>Downtown</td>\n",
              "      <td>0.0</td>\n",
              "      <td>False</td>\n",
              "      <td>...</td>\n",
              "      <td>0</td>\n",
              "      <td>0</td>\n",
              "      <td>0</td>\n",
              "      <td>0</td>\n",
              "      <td>200450</td>\n",
              "      <td>344</td>\n",
              "      <td>-0.999990</td>\n",
              "      <td>-0.004396</td>\n",
              "      <td>0</td>\n",
              "      <td>Winter</td>\n",
              "    </tr>\n",
              "  </tbody>\n",
              "</table>\n",
              "<p>4668381 rows × 28 columns</p>\n",
              "</div>"
            ],
            "text/plain": [
              "           store_id  category_id  sales  onpromotion  nbr_of_transactions  \\\n",
              "date                                                                        \n",
              "2001-01-01  store_1  category_24    0.0          0.0                  0.0   \n",
              "2001-01-01  store_1  category_21    0.0          0.0                  0.0   \n",
              "2001-01-01  store_1  category_32    0.0          0.0                  0.0   \n",
              "2001-01-01  store_1  category_18    0.0          0.0                  0.0   \n",
              "2001-01-01  store_1  category_26    0.0          0.0                  0.0   \n",
              "...             ...          ...    ...          ...                  ...   \n",
              "2004-12-09  store_9  category_23    0.0          0.0                  0.0   \n",
              "2004-12-09  store_9  category_20    0.0          0.0                  0.0   \n",
              "2004-12-09  store_9  category_15    0.0          0.0                  0.0   \n",
              "2004-12-09  store_9  category_29    0.0          0.0                  0.0   \n",
              "2004-12-09  store_9  category_10    0.0          0.0                  0.0   \n",
              "\n",
              "                city   store_type   cluster  holiday_type  is_holiday  ...  \\\n",
              "date                                                                   ...   \n",
              "2001-01-01  New York  Supermarket     Urban           0.0       False  ...   \n",
              "2001-01-01  New York  Supermarket     Urban           0.0       False  ...   \n",
              "2001-01-01  New York  Supermarket     Urban           0.0       False  ...   \n",
              "2001-01-01  New York  Supermarket     Urban           0.0       False  ...   \n",
              "2001-01-01  New York  Supermarket     Urban           0.0       False  ...   \n",
              "...              ...          ...       ...           ...         ...  ...   \n",
              "2004-12-09  New York  Hypermarket  Downtown           0.0       False  ...   \n",
              "2004-12-09  New York  Hypermarket  Downtown           0.0       False  ...   \n",
              "2004-12-09  New York  Hypermarket  Downtown           0.0       False  ...   \n",
              "2004-12-09  New York  Hypermarket  Downtown           0.0       False  ...   \n",
              "2004-12-09  New York  Hypermarket  Downtown           0.0       False  ...   \n",
              "\n",
              "            is_quarter_start  is_quarter_end  is_year_start  is_year_end  \\\n",
              "date                                                                       \n",
              "2001-01-01                 1               0              1            0   \n",
              "2001-01-01                 1               0              1            0   \n",
              "2001-01-01                 1               0              1            0   \n",
              "2001-01-01                 1               0              1            0   \n",
              "2001-01-01                 1               0              1            0   \n",
              "...                      ...             ...            ...          ...   \n",
              "2004-12-09                 0               0              0            0   \n",
              "2004-12-09                 0               0              0            0   \n",
              "2004-12-09                 0               0              0            0   \n",
              "2004-12-09                 0               0              0            0   \n",
              "2004-12-09                 0               0              0            0   \n",
              "\n",
              "            year_weekofyear  dayofyear  sin(dayofyear)  cos(dayofyear)  \\\n",
              "date                                                                     \n",
              "2001-01-01           200101          1        0.841471        0.540302   \n",
              "2001-01-01           200101          1        0.841471        0.540302   \n",
              "2001-01-01           200101          1        0.841471        0.540302   \n",
              "2001-01-01           200101          1        0.841471        0.540302   \n",
              "2001-01-01           200101          1        0.841471        0.540302   \n",
              "...                     ...        ...             ...             ...   \n",
              "2004-12-09           200450        344       -0.999990       -0.004396   \n",
              "2004-12-09           200450        344       -0.999990       -0.004396   \n",
              "2004-12-09           200450        344       -0.999990       -0.004396   \n",
              "2004-12-09           200450        344       -0.999990       -0.004396   \n",
              "2004-12-09           200450        344       -0.999990       -0.004396   \n",
              "\n",
              "            is_weekend  season  \n",
              "date                            \n",
              "2001-01-01           0  Winter  \n",
              "2001-01-01           0  Winter  \n",
              "2001-01-01           0  Winter  \n",
              "2001-01-01           0  Winter  \n",
              "2001-01-01           0  Winter  \n",
              "...                ...     ...  \n",
              "2004-12-09           0  Winter  \n",
              "2004-12-09           0  Winter  \n",
              "2004-12-09           0  Winter  \n",
              "2004-12-09           0  Winter  \n",
              "2004-12-09           0  Winter  \n",
              "\n",
              "[4668381 rows x 28 columns]"
            ]
          },
          "execution_count": 185,
          "metadata": {},
          "output_type": "execute_result"
        }
      ],
      "source": [
        "merged3"
      ]
    },
    {
      "attachments": {},
      "cell_type": "markdown",
      "metadata": {
        "id": "zaBT4ZJG4N0f"
      },
      "source": [
        "## Resampling"
      ]
    },
    {
      "attachments": {},
      "cell_type": "markdown",
      "metadata": {
        "id": "3FVGY23N4N0c"
      },
      "source": [
        "## Features Encoding & scaling"
      ]
    },
    {
      "cell_type": "code",
      "execution_count": null,
      "metadata": {
        "id": "Ub1-OAYM4N0d"
      },
      "outputs": [],
      "source": [
        "numeric_columns = merged3.select_dtypes(include=['int64', 'float64']).columns.tolist()\n",
        "categoric_columns = merged3.select_dtypes(include=['object', 'category']).columns.tolist()"
      ]
    },
    {
      "cell_type": "code",
      "execution_count": null,
      "metadata": {
        "id": "_Tv6yroc4N0d"
      },
      "outputs": [
        {
          "name": "stdout",
          "output_type": "stream",
          "text": [
            "['onpromotion', 'holiday_type', 'year', 'month', 'dayofmonth', 'dayofweek', 'quarter', 'year_weekofyear', 'dayofyear', 'sin(dayofyear)', 'cos(dayofyear)']\n"
          ]
        }
      ],
      "source": [
        "numeric_columns.remove('sales')\n",
        "numeric_columns.remove('nbr_of_transactions')\n",
        "print(numeric_columns)"
      ]
    },
    {
      "cell_type": "code",
      "execution_count": null,
      "metadata": {
        "id": "VYA-XIKY4N0d"
      },
      "outputs": [
        {
          "ename": "MemoryError",
          "evalue": "Unable to allocate 214. MiB for an array with shape (4668381, 6) and data type int64",
          "output_type": "error",
          "traceback": [
            "\u001b[1;31m---------------------------------------------------------------------------\u001b[0m",
            "\u001b[1;31mMemoryError\u001b[0m                               Traceback (most recent call last)",
            "\u001b[1;32m~\\AppData\\Local\\Temp\\ipykernel_10592\\4180190465.py\u001b[0m in \u001b[0;36m<module>\u001b[1;34m\u001b[0m\n\u001b[0;32m      1\u001b[0m \u001b[0mencoder\u001b[0m \u001b[1;33m=\u001b[0m \u001b[0mBinaryEncoder\u001b[0m\u001b[1;33m(\u001b[0m\u001b[0mdrop_invariant\u001b[0m\u001b[1;33m=\u001b[0m\u001b[1;32mFalse\u001b[0m\u001b[1;33m,\u001b[0m \u001b[0mreturn_df\u001b[0m\u001b[1;33m=\u001b[0m\u001b[1;32mTrue\u001b[0m\u001b[1;33m,\u001b[0m\u001b[1;33m)\u001b[0m\u001b[1;33m\u001b[0m\u001b[1;33m\u001b[0m\u001b[0m\n\u001b[1;32m----> 2\u001b[1;33m \u001b[0mencoder\u001b[0m\u001b[1;33m.\u001b[0m\u001b[0mfit\u001b[0m\u001b[1;33m(\u001b[0m\u001b[0mmerged3\u001b[0m\u001b[1;33m[\u001b[0m\u001b[0mcategoric_columns\u001b[0m\u001b[1;33m]\u001b[0m\u001b[1;33m)\u001b[0m\u001b[1;33m\u001b[0m\u001b[1;33m\u001b[0m\u001b[0m\n\u001b[0m",
            "\u001b[1;32mc:\\Users\\LENOVO\\anaconda3\\lib\\site-packages\\category_encoders\\utils.py\u001b[0m in \u001b[0;36mfit\u001b[1;34m(self, X, y, **kwargs)\u001b[0m\n\u001b[0;32m    307\u001b[0m \u001b[1;33m\u001b[0m\u001b[0m\n\u001b[0;32m    308\u001b[0m         \u001b[1;31m# for finding invariant columns transform without y (as is done on the test set)\u001b[0m\u001b[1;33m\u001b[0m\u001b[1;33m\u001b[0m\u001b[0m\n\u001b[1;32m--> 309\u001b[1;33m         \u001b[0mX_transformed\u001b[0m \u001b[1;33m=\u001b[0m \u001b[0mself\u001b[0m\u001b[1;33m.\u001b[0m\u001b[0mtransform\u001b[0m\u001b[1;33m(\u001b[0m\u001b[0mX\u001b[0m\u001b[1;33m,\u001b[0m \u001b[0moverride_return_df\u001b[0m\u001b[1;33m=\u001b[0m\u001b[1;32mTrue\u001b[0m\u001b[1;33m)\u001b[0m\u001b[1;33m\u001b[0m\u001b[1;33m\u001b[0m\u001b[0m\n\u001b[0m\u001b[0;32m    310\u001b[0m         \u001b[0mself\u001b[0m\u001b[1;33m.\u001b[0m\u001b[0mfeature_names_out_\u001b[0m \u001b[1;33m=\u001b[0m \u001b[0mX_transformed\u001b[0m\u001b[1;33m.\u001b[0m\u001b[0mcolumns\u001b[0m\u001b[1;33m.\u001b[0m\u001b[0mtolist\u001b[0m\u001b[1;33m(\u001b[0m\u001b[1;33m)\u001b[0m\u001b[1;33m\u001b[0m\u001b[1;33m\u001b[0m\u001b[0m\n\u001b[0;32m    311\u001b[0m \u001b[1;33m\u001b[0m\u001b[0m\n",
            "\u001b[1;32mc:\\Users\\LENOVO\\anaconda3\\lib\\site-packages\\sklearn\\utils\\_set_output.py\u001b[0m in \u001b[0;36mwrapped\u001b[1;34m(self, X, *args, **kwargs)\u001b[0m\n\u001b[0;32m    140\u001b[0m     \u001b[1;33m@\u001b[0m\u001b[0mwraps\u001b[0m\u001b[1;33m(\u001b[0m\u001b[0mf\u001b[0m\u001b[1;33m)\u001b[0m\u001b[1;33m\u001b[0m\u001b[1;33m\u001b[0m\u001b[0m\n\u001b[0;32m    141\u001b[0m     \u001b[1;32mdef\u001b[0m \u001b[0mwrapped\u001b[0m\u001b[1;33m(\u001b[0m\u001b[0mself\u001b[0m\u001b[1;33m,\u001b[0m \u001b[0mX\u001b[0m\u001b[1;33m,\u001b[0m \u001b[1;33m*\u001b[0m\u001b[0margs\u001b[0m\u001b[1;33m,\u001b[0m \u001b[1;33m**\u001b[0m\u001b[0mkwargs\u001b[0m\u001b[1;33m)\u001b[0m\u001b[1;33m:\u001b[0m\u001b[1;33m\u001b[0m\u001b[1;33m\u001b[0m\u001b[0m\n\u001b[1;32m--> 142\u001b[1;33m         \u001b[0mdata_to_wrap\u001b[0m \u001b[1;33m=\u001b[0m \u001b[0mf\u001b[0m\u001b[1;33m(\u001b[0m\u001b[0mself\u001b[0m\u001b[1;33m,\u001b[0m \u001b[0mX\u001b[0m\u001b[1;33m,\u001b[0m \u001b[1;33m*\u001b[0m\u001b[0margs\u001b[0m\u001b[1;33m,\u001b[0m \u001b[1;33m**\u001b[0m\u001b[0mkwargs\u001b[0m\u001b[1;33m)\u001b[0m\u001b[1;33m\u001b[0m\u001b[1;33m\u001b[0m\u001b[0m\n\u001b[0m\u001b[0;32m    143\u001b[0m         \u001b[1;32mif\u001b[0m \u001b[0misinstance\u001b[0m\u001b[1;33m(\u001b[0m\u001b[0mdata_to_wrap\u001b[0m\u001b[1;33m,\u001b[0m \u001b[0mtuple\u001b[0m\u001b[1;33m)\u001b[0m\u001b[1;33m:\u001b[0m\u001b[1;33m\u001b[0m\u001b[1;33m\u001b[0m\u001b[0m\n\u001b[0;32m    144\u001b[0m             \u001b[1;31m# only wrap the first output for cross decomposition\u001b[0m\u001b[1;33m\u001b[0m\u001b[1;33m\u001b[0m\u001b[0m\n",
            "\u001b[1;32mc:\\Users\\LENOVO\\anaconda3\\lib\\site-packages\\category_encoders\\utils.py\u001b[0m in \u001b[0;36mtransform\u001b[1;34m(self, X, override_return_df)\u001b[0m\n\u001b[0;32m    473\u001b[0m             \u001b[1;32mreturn\u001b[0m \u001b[0mX\u001b[0m\u001b[1;33m\u001b[0m\u001b[1;33m\u001b[0m\u001b[0m\n\u001b[0;32m    474\u001b[0m \u001b[1;33m\u001b[0m\u001b[0m\n\u001b[1;32m--> 475\u001b[1;33m         \u001b[0mX\u001b[0m \u001b[1;33m=\u001b[0m \u001b[0mself\u001b[0m\u001b[1;33m.\u001b[0m\u001b[0m_transform\u001b[0m\u001b[1;33m(\u001b[0m\u001b[0mX\u001b[0m\u001b[1;33m)\u001b[0m\u001b[1;33m\u001b[0m\u001b[1;33m\u001b[0m\u001b[0m\n\u001b[0m\u001b[0;32m    476\u001b[0m         \u001b[1;32mreturn\u001b[0m \u001b[0mself\u001b[0m\u001b[1;33m.\u001b[0m\u001b[0m_drop_invariants\u001b[0m\u001b[1;33m(\u001b[0m\u001b[0mX\u001b[0m\u001b[1;33m,\u001b[0m \u001b[0moverride_return_df\u001b[0m\u001b[1;33m)\u001b[0m\u001b[1;33m\u001b[0m\u001b[1;33m\u001b[0m\u001b[0m\n\u001b[0;32m    477\u001b[0m \u001b[1;33m\u001b[0m\u001b[0m\n",
            "\u001b[1;32mc:\\Users\\LENOVO\\anaconda3\\lib\\site-packages\\category_encoders\\basen.py\u001b[0m in \u001b[0;36m_transform\u001b[1;34m(self, X)\u001b[0m\n\u001b[0;32m    154\u001b[0m                 \u001b[1;32mraise\u001b[0m \u001b[0mValueError\u001b[0m\u001b[1;33m(\u001b[0m\u001b[1;34m'Columns to be encoded can not contain new values'\u001b[0m\u001b[1;33m)\u001b[0m\u001b[1;33m\u001b[0m\u001b[1;33m\u001b[0m\u001b[0m\n\u001b[0;32m    155\u001b[0m \u001b[1;33m\u001b[0m\u001b[0m\n\u001b[1;32m--> 156\u001b[1;33m         \u001b[0mX_out\u001b[0m \u001b[1;33m=\u001b[0m \u001b[0mself\u001b[0m\u001b[1;33m.\u001b[0m\u001b[0mbasen_encode\u001b[0m\u001b[1;33m(\u001b[0m\u001b[0mX_out\u001b[0m\u001b[1;33m,\u001b[0m \u001b[0mcols\u001b[0m\u001b[1;33m=\u001b[0m\u001b[0mself\u001b[0m\u001b[1;33m.\u001b[0m\u001b[0mcols\u001b[0m\u001b[1;33m)\u001b[0m\u001b[1;33m\u001b[0m\u001b[1;33m\u001b[0m\u001b[0m\n\u001b[0m\u001b[0;32m    157\u001b[0m         \u001b[1;32mreturn\u001b[0m \u001b[0mX_out\u001b[0m\u001b[1;33m\u001b[0m\u001b[1;33m\u001b[0m\u001b[0m\n\u001b[0;32m    158\u001b[0m \u001b[1;33m\u001b[0m\u001b[0m\n",
            "\u001b[1;32mc:\\Users\\LENOVO\\anaconda3\\lib\\site-packages\\category_encoders\\basen.py\u001b[0m in \u001b[0;36mbasen_encode\u001b[1;34m(self, X_in, cols)\u001b[0m\n\u001b[0;32m    237\u001b[0m             \u001b[0mmod\u001b[0m \u001b[1;33m=\u001b[0m \u001b[0mswitch\u001b[0m\u001b[1;33m.\u001b[0m\u001b[0mget\u001b[0m\u001b[1;33m(\u001b[0m\u001b[1;34m'mapping'\u001b[0m\u001b[1;33m)\u001b[0m\u001b[1;33m\u001b[0m\u001b[1;33m\u001b[0m\u001b[0m\n\u001b[0;32m    238\u001b[0m \u001b[1;33m\u001b[0m\u001b[0m\n\u001b[1;32m--> 239\u001b[1;33m             \u001b[0mbase_df\u001b[0m \u001b[1;33m=\u001b[0m \u001b[0mmod\u001b[0m\u001b[1;33m.\u001b[0m\u001b[0mreindex\u001b[0m\u001b[1;33m(\u001b[0m\u001b[0mX\u001b[0m\u001b[1;33m[\u001b[0m\u001b[0mcol\u001b[0m\u001b[1;33m]\u001b[0m\u001b[1;33m)\u001b[0m\u001b[1;33m\u001b[0m\u001b[1;33m\u001b[0m\u001b[0m\n\u001b[0m\u001b[0;32m    240\u001b[0m             \u001b[0mbase_df\u001b[0m\u001b[1;33m.\u001b[0m\u001b[0mset_index\u001b[0m\u001b[1;33m(\u001b[0m\u001b[0mX\u001b[0m\u001b[1;33m.\u001b[0m\u001b[0mindex\u001b[0m\u001b[1;33m,\u001b[0m \u001b[0minplace\u001b[0m\u001b[1;33m=\u001b[0m\u001b[1;32mTrue\u001b[0m\u001b[1;33m)\u001b[0m\u001b[1;33m\u001b[0m\u001b[1;33m\u001b[0m\u001b[0m\n\u001b[0;32m    241\u001b[0m             \u001b[0mX\u001b[0m \u001b[1;33m=\u001b[0m \u001b[0mpd\u001b[0m\u001b[1;33m.\u001b[0m\u001b[0mconcat\u001b[0m\u001b[1;33m(\u001b[0m\u001b[1;33m[\u001b[0m\u001b[0mbase_df\u001b[0m\u001b[1;33m,\u001b[0m \u001b[0mX\u001b[0m\u001b[1;33m]\u001b[0m\u001b[1;33m,\u001b[0m \u001b[0maxis\u001b[0m\u001b[1;33m=\u001b[0m\u001b[1;36m1\u001b[0m\u001b[1;33m)\u001b[0m\u001b[1;33m\u001b[0m\u001b[1;33m\u001b[0m\u001b[0m\n",
            "\u001b[1;32mc:\\Users\\LENOVO\\anaconda3\\lib\\site-packages\\pandas\\util\\_decorators.py\u001b[0m in \u001b[0;36mwrapper\u001b[1;34m(*args, **kwargs)\u001b[0m\n\u001b[0;32m    322\u001b[0m         \u001b[1;33m@\u001b[0m\u001b[0mwraps\u001b[0m\u001b[1;33m(\u001b[0m\u001b[0mfunc\u001b[0m\u001b[1;33m)\u001b[0m\u001b[1;33m\u001b[0m\u001b[1;33m\u001b[0m\u001b[0m\n\u001b[0;32m    323\u001b[0m         \u001b[1;32mdef\u001b[0m \u001b[0mwrapper\u001b[0m\u001b[1;33m(\u001b[0m\u001b[1;33m*\u001b[0m\u001b[0margs\u001b[0m\u001b[1;33m,\u001b[0m \u001b[1;33m**\u001b[0m\u001b[0mkwargs\u001b[0m\u001b[1;33m)\u001b[0m \u001b[1;33m->\u001b[0m \u001b[0mCallable\u001b[0m\u001b[1;33m[\u001b[0m\u001b[1;33m...\u001b[0m\u001b[1;33m,\u001b[0m \u001b[0mAny\u001b[0m\u001b[1;33m]\u001b[0m\u001b[1;33m:\u001b[0m\u001b[1;33m\u001b[0m\u001b[1;33m\u001b[0m\u001b[0m\n\u001b[1;32m--> 324\u001b[1;33m             \u001b[1;32mreturn\u001b[0m \u001b[0mfunc\u001b[0m\u001b[1;33m(\u001b[0m\u001b[1;33m*\u001b[0m\u001b[0margs\u001b[0m\u001b[1;33m,\u001b[0m \u001b[1;33m**\u001b[0m\u001b[0mkwargs\u001b[0m\u001b[1;33m)\u001b[0m\u001b[1;33m\u001b[0m\u001b[1;33m\u001b[0m\u001b[0m\n\u001b[0m\u001b[0;32m    325\u001b[0m \u001b[1;33m\u001b[0m\u001b[0m\n\u001b[0;32m    326\u001b[0m         \u001b[0mkind\u001b[0m \u001b[1;33m=\u001b[0m \u001b[0minspect\u001b[0m\u001b[1;33m.\u001b[0m\u001b[0mParameter\u001b[0m\u001b[1;33m.\u001b[0m\u001b[0mPOSITIONAL_OR_KEYWORD\u001b[0m\u001b[1;33m\u001b[0m\u001b[1;33m\u001b[0m\u001b[0m\n",
            "\u001b[1;32mc:\\Users\\LENOVO\\anaconda3\\lib\\site-packages\\pandas\\core\\frame.py\u001b[0m in \u001b[0;36mreindex\u001b[1;34m(self, *args, **kwargs)\u001b[0m\n\u001b[0;32m   4765\u001b[0m         \u001b[0mkwargs\u001b[0m\u001b[1;33m.\u001b[0m\u001b[0mpop\u001b[0m\u001b[1;33m(\u001b[0m\u001b[1;34m\"axis\"\u001b[0m\u001b[1;33m,\u001b[0m \u001b[1;32mNone\u001b[0m\u001b[1;33m)\u001b[0m\u001b[1;33m\u001b[0m\u001b[1;33m\u001b[0m\u001b[0m\n\u001b[0;32m   4766\u001b[0m         \u001b[0mkwargs\u001b[0m\u001b[1;33m.\u001b[0m\u001b[0mpop\u001b[0m\u001b[1;33m(\u001b[0m\u001b[1;34m\"labels\"\u001b[0m\u001b[1;33m,\u001b[0m \u001b[1;32mNone\u001b[0m\u001b[1;33m)\u001b[0m\u001b[1;33m\u001b[0m\u001b[1;33m\u001b[0m\u001b[0m\n\u001b[1;32m-> 4767\u001b[1;33m         \u001b[1;32mreturn\u001b[0m \u001b[0msuper\u001b[0m\u001b[1;33m(\u001b[0m\u001b[1;33m)\u001b[0m\u001b[1;33m.\u001b[0m\u001b[0mreindex\u001b[0m\u001b[1;33m(\u001b[0m\u001b[1;33m**\u001b[0m\u001b[0mkwargs\u001b[0m\u001b[1;33m)\u001b[0m\u001b[1;33m\u001b[0m\u001b[1;33m\u001b[0m\u001b[0m\n\u001b[0m\u001b[0;32m   4768\u001b[0m \u001b[1;33m\u001b[0m\u001b[0m\n\u001b[0;32m   4769\u001b[0m     \u001b[1;33m@\u001b[0m\u001b[0mdeprecate_nonkeyword_arguments\u001b[0m\u001b[1;33m(\u001b[0m\u001b[0mversion\u001b[0m\u001b[1;33m=\u001b[0m\u001b[1;32mNone\u001b[0m\u001b[1;33m,\u001b[0m \u001b[0mallowed_args\u001b[0m\u001b[1;33m=\u001b[0m\u001b[1;33m[\u001b[0m\u001b[1;34m\"self\"\u001b[0m\u001b[1;33m,\u001b[0m \u001b[1;34m\"labels\"\u001b[0m\u001b[1;33m]\u001b[0m\u001b[1;33m)\u001b[0m\u001b[1;33m\u001b[0m\u001b[1;33m\u001b[0m\u001b[0m\n",
            "\u001b[1;32mc:\\Users\\LENOVO\\anaconda3\\lib\\site-packages\\pandas\\core\\generic.py\u001b[0m in \u001b[0;36mreindex\u001b[1;34m(self, *args, **kwargs)\u001b[0m\n\u001b[0;32m   4807\u001b[0m \u001b[1;33m\u001b[0m\u001b[0m\n\u001b[0;32m   4808\u001b[0m         \u001b[1;31m# perform the reindex on the axes\u001b[0m\u001b[1;33m\u001b[0m\u001b[1;33m\u001b[0m\u001b[0m\n\u001b[1;32m-> 4809\u001b[1;33m         return self._reindex_axes(\n\u001b[0m\u001b[0;32m   4810\u001b[0m             \u001b[0maxes\u001b[0m\u001b[1;33m,\u001b[0m \u001b[0mlevel\u001b[0m\u001b[1;33m,\u001b[0m \u001b[0mlimit\u001b[0m\u001b[1;33m,\u001b[0m \u001b[0mtolerance\u001b[0m\u001b[1;33m,\u001b[0m \u001b[0mmethod\u001b[0m\u001b[1;33m,\u001b[0m \u001b[0mfill_value\u001b[0m\u001b[1;33m,\u001b[0m \u001b[0mcopy\u001b[0m\u001b[1;33m\u001b[0m\u001b[1;33m\u001b[0m\u001b[0m\n\u001b[0;32m   4811\u001b[0m         ).__finalize__(self, method=\"reindex\")\n",
            "\u001b[1;32mc:\\Users\\LENOVO\\anaconda3\\lib\\site-packages\\pandas\\core\\frame.py\u001b[0m in \u001b[0;36m_reindex_axes\u001b[1;34m(self, axes, level, limit, tolerance, method, fill_value, copy)\u001b[0m\n\u001b[0;32m   4590\u001b[0m         \u001b[0mindex\u001b[0m \u001b[1;33m=\u001b[0m \u001b[0maxes\u001b[0m\u001b[1;33m[\u001b[0m\u001b[1;34m\"index\"\u001b[0m\u001b[1;33m]\u001b[0m\u001b[1;33m\u001b[0m\u001b[1;33m\u001b[0m\u001b[0m\n\u001b[0;32m   4591\u001b[0m         \u001b[1;32mif\u001b[0m \u001b[0mindex\u001b[0m \u001b[1;32mis\u001b[0m \u001b[1;32mnot\u001b[0m \u001b[1;32mNone\u001b[0m\u001b[1;33m:\u001b[0m\u001b[1;33m\u001b[0m\u001b[1;33m\u001b[0m\u001b[0m\n\u001b[1;32m-> 4592\u001b[1;33m             frame = frame._reindex_index(\n\u001b[0m\u001b[0;32m   4593\u001b[0m                 \u001b[0mindex\u001b[0m\u001b[1;33m,\u001b[0m \u001b[0mmethod\u001b[0m\u001b[1;33m,\u001b[0m \u001b[0mcopy\u001b[0m\u001b[1;33m,\u001b[0m \u001b[0mlevel\u001b[0m\u001b[1;33m,\u001b[0m \u001b[0mfill_value\u001b[0m\u001b[1;33m,\u001b[0m \u001b[0mlimit\u001b[0m\u001b[1;33m,\u001b[0m \u001b[0mtolerance\u001b[0m\u001b[1;33m\u001b[0m\u001b[1;33m\u001b[0m\u001b[0m\n\u001b[0;32m   4594\u001b[0m             )\n",
            "\u001b[1;32mc:\\Users\\LENOVO\\anaconda3\\lib\\site-packages\\pandas\\core\\frame.py\u001b[0m in \u001b[0;36m_reindex_index\u001b[1;34m(self, new_index, method, copy, level, fill_value, limit, tolerance)\u001b[0m\n\u001b[0;32m   4609\u001b[0m             \u001b[0mnew_index\u001b[0m\u001b[1;33m,\u001b[0m \u001b[0mmethod\u001b[0m\u001b[1;33m=\u001b[0m\u001b[0mmethod\u001b[0m\u001b[1;33m,\u001b[0m \u001b[0mlevel\u001b[0m\u001b[1;33m=\u001b[0m\u001b[0mlevel\u001b[0m\u001b[1;33m,\u001b[0m \u001b[0mlimit\u001b[0m\u001b[1;33m=\u001b[0m\u001b[0mlimit\u001b[0m\u001b[1;33m,\u001b[0m \u001b[0mtolerance\u001b[0m\u001b[1;33m=\u001b[0m\u001b[0mtolerance\u001b[0m\u001b[1;33m\u001b[0m\u001b[1;33m\u001b[0m\u001b[0m\n\u001b[0;32m   4610\u001b[0m         )\n\u001b[1;32m-> 4611\u001b[1;33m         return self._reindex_with_indexers(\n\u001b[0m\u001b[0;32m   4612\u001b[0m             \u001b[1;33m{\u001b[0m\u001b[1;36m0\u001b[0m\u001b[1;33m:\u001b[0m \u001b[1;33m[\u001b[0m\u001b[0mnew_index\u001b[0m\u001b[1;33m,\u001b[0m \u001b[0mindexer\u001b[0m\u001b[1;33m]\u001b[0m\u001b[1;33m}\u001b[0m\u001b[1;33m,\u001b[0m\u001b[1;33m\u001b[0m\u001b[1;33m\u001b[0m\u001b[0m\n\u001b[0;32m   4613\u001b[0m             \u001b[0mcopy\u001b[0m\u001b[1;33m=\u001b[0m\u001b[0mcopy\u001b[0m\u001b[1;33m,\u001b[0m\u001b[1;33m\u001b[0m\u001b[1;33m\u001b[0m\u001b[0m\n",
            "\u001b[1;32mc:\\Users\\LENOVO\\anaconda3\\lib\\site-packages\\pandas\\core\\generic.py\u001b[0m in \u001b[0;36m_reindex_with_indexers\u001b[1;34m(self, reindexers, fill_value, copy, allow_dups)\u001b[0m\n\u001b[0;32m   4872\u001b[0m \u001b[1;33m\u001b[0m\u001b[0m\n\u001b[0;32m   4873\u001b[0m             \u001b[1;31m# TODO: speed up on homogeneous DataFrame objects\u001b[0m\u001b[1;33m\u001b[0m\u001b[1;33m\u001b[0m\u001b[0m\n\u001b[1;32m-> 4874\u001b[1;33m             new_data = new_data.reindex_indexer(\n\u001b[0m\u001b[0;32m   4875\u001b[0m                 \u001b[0mindex\u001b[0m\u001b[1;33m,\u001b[0m\u001b[1;33m\u001b[0m\u001b[1;33m\u001b[0m\u001b[0m\n\u001b[0;32m   4876\u001b[0m                 \u001b[0mindexer\u001b[0m\u001b[1;33m,\u001b[0m\u001b[1;33m\u001b[0m\u001b[1;33m\u001b[0m\u001b[0m\n",
            "\u001b[1;32mc:\\Users\\LENOVO\\anaconda3\\lib\\site-packages\\pandas\\core\\internals\\managers.py\u001b[0m in \u001b[0;36mreindex_indexer\u001b[1;34m(self, new_axis, indexer, axis, fill_value, allow_dups, copy, consolidate, only_slice)\u001b[0m\n\u001b[0;32m    674\u001b[0m             )\n\u001b[0;32m    675\u001b[0m         \u001b[1;32melse\u001b[0m\u001b[1;33m:\u001b[0m\u001b[1;33m\u001b[0m\u001b[1;33m\u001b[0m\u001b[0m\n\u001b[1;32m--> 676\u001b[1;33m             new_blocks = [\n\u001b[0m\u001b[0;32m    677\u001b[0m                 blk.take_nd(\n\u001b[0;32m    678\u001b[0m                     \u001b[0mindexer\u001b[0m\u001b[1;33m,\u001b[0m\u001b[1;33m\u001b[0m\u001b[1;33m\u001b[0m\u001b[0m\n",
            "\u001b[1;32mc:\\Users\\LENOVO\\anaconda3\\lib\\site-packages\\pandas\\core\\internals\\managers.py\u001b[0m in \u001b[0;36m<listcomp>\u001b[1;34m(.0)\u001b[0m\n\u001b[0;32m    675\u001b[0m         \u001b[1;32melse\u001b[0m\u001b[1;33m:\u001b[0m\u001b[1;33m\u001b[0m\u001b[1;33m\u001b[0m\u001b[0m\n\u001b[0;32m    676\u001b[0m             new_blocks = [\n\u001b[1;32m--> 677\u001b[1;33m                 blk.take_nd(\n\u001b[0m\u001b[0;32m    678\u001b[0m                     \u001b[0mindexer\u001b[0m\u001b[1;33m,\u001b[0m\u001b[1;33m\u001b[0m\u001b[1;33m\u001b[0m\u001b[0m\n\u001b[0;32m    679\u001b[0m                     \u001b[0maxis\u001b[0m\u001b[1;33m=\u001b[0m\u001b[1;36m1\u001b[0m\u001b[1;33m,\u001b[0m\u001b[1;33m\u001b[0m\u001b[1;33m\u001b[0m\u001b[0m\n",
            "\u001b[1;32mc:\\Users\\LENOVO\\anaconda3\\lib\\site-packages\\pandas\\core\\internals\\blocks.py\u001b[0m in \u001b[0;36mtake_nd\u001b[1;34m(self, indexer, axis, new_mgr_locs, fill_value)\u001b[0m\n\u001b[0;32m   1143\u001b[0m             \u001b[0mallow_fill\u001b[0m \u001b[1;33m=\u001b[0m \u001b[1;32mTrue\u001b[0m\u001b[1;33m\u001b[0m\u001b[1;33m\u001b[0m\u001b[0m\n\u001b[0;32m   1144\u001b[0m \u001b[1;33m\u001b[0m\u001b[0m\n\u001b[1;32m-> 1145\u001b[1;33m         new_values = algos.take_nd(\n\u001b[0m\u001b[0;32m   1146\u001b[0m             \u001b[0mvalues\u001b[0m\u001b[1;33m,\u001b[0m \u001b[0mindexer\u001b[0m\u001b[1;33m,\u001b[0m \u001b[0maxis\u001b[0m\u001b[1;33m=\u001b[0m\u001b[0maxis\u001b[0m\u001b[1;33m,\u001b[0m \u001b[0mallow_fill\u001b[0m\u001b[1;33m=\u001b[0m\u001b[0mallow_fill\u001b[0m\u001b[1;33m,\u001b[0m \u001b[0mfill_value\u001b[0m\u001b[1;33m=\u001b[0m\u001b[0mfill_value\u001b[0m\u001b[1;33m\u001b[0m\u001b[1;33m\u001b[0m\u001b[0m\n\u001b[0;32m   1147\u001b[0m         )\n",
            "\u001b[1;32mc:\\Users\\LENOVO\\anaconda3\\lib\\site-packages\\pandas\\core\\array_algos\\take.py\u001b[0m in \u001b[0;36mtake_nd\u001b[1;34m(arr, indexer, axis, fill_value, allow_fill)\u001b[0m\n\u001b[0;32m    106\u001b[0m \u001b[1;33m\u001b[0m\u001b[0m\n\u001b[0;32m    107\u001b[0m     \u001b[0marr\u001b[0m \u001b[1;33m=\u001b[0m \u001b[0mnp\u001b[0m\u001b[1;33m.\u001b[0m\u001b[0masarray\u001b[0m\u001b[1;33m(\u001b[0m\u001b[0marr\u001b[0m\u001b[1;33m)\u001b[0m\u001b[1;33m\u001b[0m\u001b[1;33m\u001b[0m\u001b[0m\n\u001b[1;32m--> 108\u001b[1;33m     \u001b[1;32mreturn\u001b[0m \u001b[0m_take_nd_ndarray\u001b[0m\u001b[1;33m(\u001b[0m\u001b[0marr\u001b[0m\u001b[1;33m,\u001b[0m \u001b[0mindexer\u001b[0m\u001b[1;33m,\u001b[0m \u001b[0maxis\u001b[0m\u001b[1;33m,\u001b[0m \u001b[0mfill_value\u001b[0m\u001b[1;33m,\u001b[0m \u001b[0mallow_fill\u001b[0m\u001b[1;33m)\u001b[0m\u001b[1;33m\u001b[0m\u001b[1;33m\u001b[0m\u001b[0m\n\u001b[0m\u001b[0;32m    109\u001b[0m \u001b[1;33m\u001b[0m\u001b[0m\n\u001b[0;32m    110\u001b[0m \u001b[1;33m\u001b[0m\u001b[0m\n",
            "\u001b[1;32mc:\\Users\\LENOVO\\anaconda3\\lib\\site-packages\\pandas\\core\\array_algos\\take.py\u001b[0m in \u001b[0;36m_take_nd_ndarray\u001b[1;34m(arr, indexer, axis, fill_value, allow_fill)\u001b[0m\n\u001b[0;32m    147\u001b[0m         \u001b[0mout\u001b[0m \u001b[1;33m=\u001b[0m \u001b[0mnp\u001b[0m\u001b[1;33m.\u001b[0m\u001b[0mempty\u001b[0m\u001b[1;33m(\u001b[0m\u001b[0mout_shape\u001b[0m\u001b[1;33m,\u001b[0m \u001b[0mdtype\u001b[0m\u001b[1;33m=\u001b[0m\u001b[0mdtype\u001b[0m\u001b[1;33m,\u001b[0m \u001b[0morder\u001b[0m\u001b[1;33m=\u001b[0m\u001b[1;34m\"F\"\u001b[0m\u001b[1;33m)\u001b[0m\u001b[1;33m\u001b[0m\u001b[1;33m\u001b[0m\u001b[0m\n\u001b[0;32m    148\u001b[0m     \u001b[1;32melse\u001b[0m\u001b[1;33m:\u001b[0m\u001b[1;33m\u001b[0m\u001b[1;33m\u001b[0m\u001b[0m\n\u001b[1;32m--> 149\u001b[1;33m         \u001b[0mout\u001b[0m \u001b[1;33m=\u001b[0m \u001b[0mnp\u001b[0m\u001b[1;33m.\u001b[0m\u001b[0mempty\u001b[0m\u001b[1;33m(\u001b[0m\u001b[0mout_shape\u001b[0m\u001b[1;33m,\u001b[0m \u001b[0mdtype\u001b[0m\u001b[1;33m=\u001b[0m\u001b[0mdtype\u001b[0m\u001b[1;33m)\u001b[0m\u001b[1;33m\u001b[0m\u001b[1;33m\u001b[0m\u001b[0m\n\u001b[0m\u001b[0;32m    150\u001b[0m \u001b[1;33m\u001b[0m\u001b[0m\n\u001b[0;32m    151\u001b[0m     func = _get_take_nd_function(\n",
            "\u001b[1;31mMemoryError\u001b[0m: Unable to allocate 214. MiB for an array with shape (4668381, 6) and data type int64"
          ]
        }
      ],
      "source": [
        "encoder = BinaryEncoder(drop_invariant=False, return_df=True,)\n",
        "encoder.fit(merged3[categoric_columns])"
      ]
    },
    {
      "cell_type": "code",
      "execution_count": null,
      "metadata": {
        "id": "SisH2rrw4N0e"
      },
      "outputs": [
        {
          "data": {
            "text/html": [
              "<style>#sk-container-id-2 {color: black;background-color: white;}#sk-container-id-2 pre{padding: 0;}#sk-container-id-2 div.sk-toggleable {background-color: white;}#sk-container-id-2 label.sk-toggleable__label {cursor: pointer;display: block;width: 100%;margin-bottom: 0;padding: 0.3em;box-sizing: border-box;text-align: center;}#sk-container-id-2 label.sk-toggleable__label-arrow:before {content: \"▸\";float: left;margin-right: 0.25em;color: #696969;}#sk-container-id-2 label.sk-toggleable__label-arrow:hover:before {color: black;}#sk-container-id-2 div.sk-estimator:hover label.sk-toggleable__label-arrow:before {color: black;}#sk-container-id-2 div.sk-toggleable__content {max-height: 0;max-width: 0;overflow: hidden;text-align: left;background-color: #f0f8ff;}#sk-container-id-2 div.sk-toggleable__content pre {margin: 0.2em;color: black;border-radius: 0.25em;background-color: #f0f8ff;}#sk-container-id-2 input.sk-toggleable__control:checked~div.sk-toggleable__content {max-height: 200px;max-width: 100%;overflow: auto;}#sk-container-id-2 input.sk-toggleable__control:checked~label.sk-toggleable__label-arrow:before {content: \"▾\";}#sk-container-id-2 div.sk-estimator input.sk-toggleable__control:checked~label.sk-toggleable__label {background-color: #d4ebff;}#sk-container-id-2 div.sk-label input.sk-toggleable__control:checked~label.sk-toggleable__label {background-color: #d4ebff;}#sk-container-id-2 input.sk-hidden--visually {border: 0;clip: rect(1px 1px 1px 1px);clip: rect(1px, 1px, 1px, 1px);height: 1px;margin: -1px;overflow: hidden;padding: 0;position: absolute;width: 1px;}#sk-container-id-2 div.sk-estimator {font-family: monospace;background-color: #f0f8ff;border: 1px dotted black;border-radius: 0.25em;box-sizing: border-box;margin-bottom: 0.5em;}#sk-container-id-2 div.sk-estimator:hover {background-color: #d4ebff;}#sk-container-id-2 div.sk-parallel-item::after {content: \"\";width: 100%;border-bottom: 1px solid gray;flex-grow: 1;}#sk-container-id-2 div.sk-label:hover label.sk-toggleable__label {background-color: #d4ebff;}#sk-container-id-2 div.sk-serial::before {content: \"\";position: absolute;border-left: 1px solid gray;box-sizing: border-box;top: 0;bottom: 0;left: 50%;z-index: 0;}#sk-container-id-2 div.sk-serial {display: flex;flex-direction: column;align-items: center;background-color: white;padding-right: 0.2em;padding-left: 0.2em;position: relative;}#sk-container-id-2 div.sk-item {position: relative;z-index: 1;}#sk-container-id-2 div.sk-parallel {display: flex;align-items: stretch;justify-content: center;background-color: white;position: relative;}#sk-container-id-2 div.sk-item::before, #sk-container-id-2 div.sk-parallel-item::before {content: \"\";position: absolute;border-left: 1px solid gray;box-sizing: border-box;top: 0;bottom: 0;left: 50%;z-index: -1;}#sk-container-id-2 div.sk-parallel-item {display: flex;flex-direction: column;z-index: 1;position: relative;background-color: white;}#sk-container-id-2 div.sk-parallel-item:first-child::after {align-self: flex-end;width: 50%;}#sk-container-id-2 div.sk-parallel-item:last-child::after {align-self: flex-start;width: 50%;}#sk-container-id-2 div.sk-parallel-item:only-child::after {width: 0;}#sk-container-id-2 div.sk-dashed-wrapped {border: 1px dashed gray;margin: 0 0.4em 0.5em 0.4em;box-sizing: border-box;padding-bottom: 0.4em;background-color: white;}#sk-container-id-2 div.sk-label label {font-family: monospace;font-weight: bold;display: inline-block;line-height: 1.2em;}#sk-container-id-2 div.sk-label-container {text-align: center;}#sk-container-id-2 div.sk-container {/* jupyter's `normalize.less` sets `[hidden] { display: none; }` but bootstrap.min.css set `[hidden] { display: none !important; }` so we also need the `!important` here to be able to override the default hidden behavior on the sphinx rendered scikit-learn.org. See: https://github.com/scikit-learn/scikit-learn/issues/21755 */display: inline-block !important;position: relative;}#sk-container-id-2 div.sk-text-repr-fallback {display: none;}</style><div id=\"sk-container-id-2\" class=\"sk-top-container\"><div class=\"sk-text-repr-fallback\"><pre>StandardScaler()</pre><b>In a Jupyter environment, please rerun this cell to show the HTML representation or trust the notebook. <br />On GitHub, the HTML representation is unable to render, please try loading this page with nbviewer.org.</b></div><div class=\"sk-container\" hidden><div class=\"sk-item\"><div class=\"sk-estimator sk-toggleable\"><input class=\"sk-toggleable__control sk-hidden--visually\" id=\"sk-estimator-id-2\" type=\"checkbox\" checked><label for=\"sk-estimator-id-2\" class=\"sk-toggleable__label sk-toggleable__label-arrow\">StandardScaler</label><div class=\"sk-toggleable__content\"><pre>StandardScaler()</pre></div></div></div></div></div>"
            ],
            "text/plain": [
              "StandardScaler()"
            ]
          },
          "execution_count": 86,
          "metadata": {},
          "output_type": "execute_result"
        }
      ],
      "source": [
        "scaler = StandardScaler()\n",
        "scaler.set_output(transform=\"pandas\")\n",
        "scaler.fit(merged3[numeric_columns])"
      ]
    },
    {
      "cell_type": "code",
      "execution_count": null,
      "metadata": {
        "id": "kM4aITtn4N0e"
      },
      "outputs": [],
      "source": [
        "# import pickle\n",
        "\n",
        "# with open('encoder.pkl', 'wb') as f:\n",
        "#     pickle.dump(encoder, f)\n",
        "\n",
        "# with open('scaler.pkl', 'wb') as f:\n",
        "#     pickle.dump(scaler, f)"
      ]
    },
    {
      "cell_type": "code",
      "execution_count": null,
      "metadata": {},
      "outputs": [],
      "source": [
        "scaled_num = scaler.transform(merged3[numeric_columns])\n",
        "scaled_num_test = scaler.transform(merged3_test[numeric_columns])"
      ]
    },
    {
      "cell_type": "code",
      "execution_count": null,
      "metadata": {},
      "outputs": [],
      "source": [
        "encoded_cat = encoder.transform(merged3[categoric_columns])\n",
        "encoded_cat_test = encoder.transform(merged3_test[categoric_columns])"
      ]
    },
    {
      "cell_type": "code",
      "execution_count": null,
      "metadata": {
        "id": "6C2kf5Zs4N0f"
      },
      "outputs": [],
      "source": [
        "merged3 = pd.concat([scaled_num, encoded_cat], axis=1)\n",
        "merged3_test = pd.concat([scaled_num_test, encoded_cat_test], axis=1)"
      ]
    },
    {
      "cell_type": "code",
      "execution_count": null,
      "metadata": {
        "id": "iOGLpEva4N0f"
      },
      "outputs": [],
      "source": [
        "# sales_data = train_daily_mean.drop(columns=['store_nbr', 'onpromotion'])\n",
        "sales_data = train_daily_mean['sales']\n",
        "sales_data = sales_data.fillna(0)"
      ]
    },
    {
      "cell_type": "code",
      "execution_count": null,
      "metadata": {
        "id": "EjOd2BF24N0g"
      },
      "outputs": [],
      "source": [
        "train1=train_daily_mean"
      ]
    },
    {
      "cell_type": "code",
      "execution_count": null,
      "metadata": {
        "id": "VbKNe5Cg4N0g"
      },
      "outputs": [],
      "source": [
        "trainn, evall = merged3[30000:], merged3[:30000]"
      ]
    },
    {
      "cell_type": "code",
      "execution_count": null,
      "metadata": {
        "id": "7fMYBWHB4N0g"
      },
      "outputs": [],
      "source": [
        "# Split data into parts\n",
        "x = trainn.drop(['sales'], axis = 1)\n",
        "y = trainn['sales']"
      ]
    },
    {
      "cell_type": "code",
      "execution_count": null,
      "metadata": {
        "id": "oeHRmt8n4N0h"
      },
      "outputs": [],
      "source": [
        "# Split data into Train Test\n",
        "X_train, X_test, y_train, y_test = x[200:], x[:200], y[200:], y[:200]"
      ]
    },
    {
      "attachments": {},
      "cell_type": "markdown",
      "metadata": {
        "id": "kpll6xDz4N0h"
      },
      "source": [
        "# Machine Learning Modeling "
      ]
    },
    {
      "attachments": {},
      "cell_type": "markdown",
      "metadata": {
        "id": "--b5dI1L4N0h"
      },
      "source": [
        "# Traditional Machine Learning Models"
      ]
    },
    {
      "attachments": {},
      "cell_type": "markdown",
      "metadata": {
        "id": "p-MG5g2V4N0h"
      },
      "source": [
        "### DecisionTreeRegressor"
      ]
    },
    {
      "cell_type": "code",
      "execution_count": null,
      "metadata": {
        "id": "7jV3ZqL64N0i"
      },
      "outputs": [],
      "source": [
        "from sklearn.tree import DecisionTreeRegressor\n",
        "tree = DecisionTreeRegressor()\n",
        "model_tree = tree.fit(X_train, y_train)\n",
        "\n",
        "# Make prediction on X_test\n",
        "tree_pred = model_tree.predict(X_test)"
      ]
    },
    {
      "cell_type": "code",
      "execution_count": null,
      "metadata": {
        "id": "bLY7MAnI4N0i"
      },
      "outputs": [],
      "source": [
        "with open(\"model.pkl\", \"wb\") as f:\n",
        "    pickle.dump(model_tree, f)"
      ]
    },
    {
      "cell_type": "code",
      "execution_count": null,
      "metadata": {
        "id": "Hk1yTop04N0i"
      },
      "outputs": [],
      "source": [
        "# feature importance for decision tree\n",
        "plt.figure(figsize=(12,7))\n",
        "plt.barh(x.columns, model_tree.feature_importances_)"
      ]
    },
    {
      "cell_type": "code",
      "execution_count": null,
      "metadata": {
        "id": "FGVD4sAy4N0i"
      },
      "outputs": [],
      "source": [
        "plt.figure(figsize=(8,4))\n",
        "plt.plot(y_test, label ='Actual Sales')\n",
        "plt.plot(tree_pred, label='DecisionTreeRegressor')\n",
        "plt.legend(loc='best')\n",
        "plt.title('DecisionTreeRegressor Prediction')\n",
        "plt.show()"
      ]
    },
    {
      "cell_type": "code",
      "execution_count": null,
      "metadata": {
        "id": "yRIq48Od4N0j"
      },
      "outputs": [],
      "source": [
        "mse = mean_squared_error(y_test, tree_pred )\n",
        "rmse = np.sqrt(mean_squared_error(y_test, tree_pred )).round(2)\n",
        "rmsle = np.sqrt(mean_squared_log_error(y_test, tree_pred)).round(2)\n",
        "msle = mean_squared_log_error(y_test, tree_pred).round(2)\n",
        "\n",
        "\n",
        "results = pd.DataFrame([['DecisionTree', mse, msle, rmse, rmsle]], columns = ['Model', 'MSE', 'MSLE', 'RMSE', 'RMSLE'])\n",
        "# results = results.append(model_results, ignore_index = True)\n",
        "results"
      ]
    },
    {
      "attachments": {},
      "cell_type": "markdown",
      "metadata": {
        "id": "M_f0-Hnr4N0j"
      },
      "source": [
        "### KNN"
      ]
    },
    {
      "cell_type": "code",
      "execution_count": null,
      "metadata": {
        "id": "03R8eIEg4N0k"
      },
      "outputs": [],
      "source": [
        "from sklearn.neighbors import KNeighborsRegressor\n",
        "neigh = KNeighborsRegressor(n_neighbors=1)\n",
        "# fit model no training data\n",
        "neigh.fit(X_train, y_train)\n",
        "\n",
        "# make predictions for test data\n",
        "neigh_pred = neigh.predict(X_test)"
      ]
    },
    {
      "cell_type": "code",
      "execution_count": null,
      "metadata": {
        "id": "ORSI8VNk4N0k"
      },
      "outputs": [],
      "source": [
        "mse = mean_squared_error(y_test, neigh_pred )\n",
        "msle = mean_squared_log_error(y_test, neigh_pred)\n",
        "rmse = np.sqrt(mean_squared_error(y_test, neigh_pred )).round(2)\n",
        "rmsle = np.sqrt(mean_squared_log_error(y_test, neigh_pred)).round(5)\n",
        "\n",
        "# model_results = pd.DataFrame([['lightGBM', mse, rmse]], columns = ['Model', 'MSE', 'RMSE'])\n",
        "model_results = pd.DataFrame([['KNN', mse, msle, rmse, rmsle]], columns = ['Model', 'MSE', 'MSLE', 'RMSE', 'RMSLE'])\n",
        "results = results.append(model_results, ignore_index = True)\n",
        "results"
      ]
    },
    {
      "attachments": {},
      "cell_type": "markdown",
      "metadata": {
        "id": "px5fQiLs4N0k"
      },
      "source": [
        "# Models Comparison"
      ]
    },
    {
      "attachments": {},
      "cell_type": "markdown",
      "metadata": {
        "id": "pqIJI8kx4N0l"
      },
      "source": [
        "# Model Evaluation (Backtests)"
      ]
    },
    {
      "cell_type": "code",
      "execution_count": null,
      "metadata": {
        "id": "llWmEqcz4N0l"
      },
      "outputs": [],
      "source": [
        "backtests = {\n",
        "    1: ('2017-07-01', '2017-07-15'),\n",
        "    2: ('2017-07-15', '2017-07-30'),\n",
        "    3: ('2017-08-01', '2017-08-15')\n",
        "}"
      ]
    },
    {
      "cell_type": "code",
      "execution_count": null,
      "metadata": {
        "id": "bJzyU-dP4N0l"
      },
      "outputs": [],
      "source": [
        "# Backtests with Decision Tree\n",
        "scores = {}\n",
        "\n",
        "for idx, period in enumerate(backtests):\n",
        "    \n",
        "    _train = trainn.reset_index()[trainn.reset_index()['date'] < backtests[period][0]]\n",
        "    _test = trainn.reset_index()[(trainn.reset_index()['date'] >= backtests[period][0]) & (trainn.reset_index()['date'] <= backtests[period][1])]\n",
        "    \n",
        "    Xtrain, ytrain = _train.set_index(['date']).drop(columns=['sales']).values, _train.sales.values\n",
        "    Xtest, ytest = _test.set_index(['date']).drop(columns=['sales']).values, _test.sales.values\n",
        "    \n",
        "    lgbm_model = DecisionTreeRegressor().fit(Xtrain, ytrain)\n",
        "    \n",
        "    ypred = lgbm_model.predict(Xtest)\n",
        "    \n",
        "    scores[period] = np.sqrt(mean_squared_log_error(ytest, ypred))\n",
        "\n",
        "print(scores)"
      ]
    },
    {
      "cell_type": "code",
      "execution_count": null,
      "metadata": {
        "id": "m2xkF2LZ4N0l"
      },
      "outputs": [],
      "source": [
        "# Split data into parts\n",
        "x = evall.drop(['sales'], axis = 1)\n",
        "y = evall['sales']"
      ]
    },
    {
      "cell_type": "code",
      "execution_count": null,
      "metadata": {
        "id": "O420mntK4N0m"
      },
      "outputs": [],
      "source": [
        "# Make prediction on X_test\n",
        "tree_pred = neigh.predict(x)"
      ]
    },
    {
      "cell_type": "code",
      "execution_count": null,
      "metadata": {
        "id": "WmJ-YyPA4N0m"
      },
      "outputs": [],
      "source": [
        "mse = mean_squared_error(y, tree_pred )\n",
        "rmse = np.sqrt(mean_squared_error(y, tree_pred )).round(2)\n",
        "rmsle = np.sqrt(mean_squared_log_error(y, tree_pred)).round(6)\n",
        "msle = mean_squared_log_error(y, tree_pred).round(2)\n",
        "\n",
        "\n",
        "results = pd.DataFrame([['DecisionTree', mse, msle, rmse, rmsle]], columns = ['Model', 'MSE', 'MSLE', 'RMSE', 'RMSLE'])\n",
        "results"
      ]
    },
    {
      "attachments": {},
      "cell_type": "markdown",
      "metadata": {
        "id": "lfuyZwMQ4N0p"
      },
      "source": [
        "### predicting sales in our test"
      ]
    },
    {
      "cell_type": "code",
      "execution_count": null,
      "metadata": {
        "id": "VdiY19CV4N0q"
      },
      "outputs": [],
      "source": [
        "# test_pred = armodel.predict(merged3_test_resampled)\n",
        "test_pred = armodel.predict(\n",
        "    start=len(x),\n",
        "    end=len(x)+ len(test_date) -1,\n",
        "    dynamic=False\n",
        ")\n",
        "test_pred[np.isnan(test_pred)] = 0\n",
        "test_pred"
      ]
    },
    {
      "cell_type": "code",
      "execution_count": null,
      "metadata": {
        "id": "ITLT-LuC4N0r"
      },
      "outputs": [],
      "source": [
        "test_sales = pd.DataFrame(test_pred, columns=['sales'])\n",
        "test_sales.head(30)"
      ]
    },
    {
      "cell_type": "code",
      "execution_count": null,
      "metadata": {
        "id": "_9M_q1aq4N0r"
      },
      "outputs": [],
      "source": [
        "# Save sample submission\n",
        "# test_sales[[ 'sales']].to_csv('submission.csv', index=False)"
      ]
    },
    {
      "cell_type": "code",
      "execution_count": null,
      "metadata": {
        "id": "7JtHj2gv4N0s"
      },
      "outputs": [],
      "source": []
    }
  ],
  "metadata": {
    "accelerator": "GPU",
    "colab": {
      "gpuType": "T4",
      "provenance": [],
      "toc_visible": true
    },
    "kernelspec": {
      "display_name": "Python 3",
      "name": "python3"
    },
    "language_info": {
      "codemirror_mode": {
        "name": "ipython",
        "version": 3
      },
      "file_extension": ".py",
      "mimetype": "text/x-python",
      "name": "python",
      "nbconvert_exporter": "python",
      "pygments_lexer": "ipython3",
      "version": "3.9.13"
    },
    "vscode": {
      "interpreter": {
        "hash": "7679c2132d3f6ce38c9df14d554b39c06862b36a4e6689c81f9ae15bd0911d7d"
      }
    }
  },
  "nbformat": 4,
  "nbformat_minor": 0
}
