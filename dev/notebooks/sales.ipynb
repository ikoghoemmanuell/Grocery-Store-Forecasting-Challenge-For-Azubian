{
  "cells": [
    {
      "attachments": {},
      "cell_type": "markdown",
      "metadata": {
        "id": "G0W08xH04Nzv"
      },
      "source": [
        "# Title"
      ]
    },
    {
      "attachments": {},
      "cell_type": "markdown",
      "metadata": {
        "id": "jLTuR-lo4Nzx"
      },
      "source": [
        "# Description"
      ]
    },
    {
      "attachments": {},
      "cell_type": "markdown",
      "metadata": {
        "id": "h76n_a9e4Nzy"
      },
      "source": [
        "# Importation"
      ]
    },
    {
      "cell_type": "code",
      "execution_count": 1,
      "metadata": {
        "colab": {
          "base_uri": "https://localhost:8080/"
        },
        "id": "ckd2Odbb5pVh",
        "outputId": "e25d1ccc-7c60-4637-ccad-123b04171a19"
      },
      "outputs": [],
      "source": [
        "# pip install category_encoders"
      ]
    },
    {
      "cell_type": "code",
      "execution_count": 2,
      "metadata": {
        "id": "h9KtdvmP4Nzz"
      },
      "outputs": [],
      "source": [
        "import pandas as pd\n",
        "import numpy as np\n",
        "import matplotlib.pyplot as plt\n",
        "import seaborn as sns\n",
        "import plotly.express as px\n",
        "import plotly.graph_objects as go\n",
        "\n",
        "import matplotlib.dates as mdates\n",
        "%matplotlib inline\n",
        "from itertools import product\n",
        "\n",
        "from statsmodels.tsa.stattools import adfuller\n",
        "from statsmodels.tsa.stattools import kpss\n",
        "from statsmodels.graphics.tsaplots import plot_acf, plot_pacf\n",
        "\n",
        "from sklearn.impute import SimpleImputer\n",
        "from sklearn.preprocessing import OneHotEncoder, LabelEncoder\n",
        "from category_encoders.binary import BinaryEncoder\n",
        "from sklearn.preprocessing import StandardScaler\n",
        "\n",
        "from sklearn.metrics import mean_squared_error\n",
        "from sklearn.metrics import mean_squared_log_error\n",
        "\n",
        "import warnings\n",
        "import os\n",
        "warnings.filterwarnings(\"ignore\")\n",
        "# from google.colab import drive"
      ]
    },
    {
      "attachments": {},
      "cell_type": "markdown",
      "metadata": {
        "id": "3kfbniiz4Nz0"
      },
      "source": [
        "# Data Loading"
      ]
    },
    {
      "cell_type": "code",
      "execution_count": 3,
      "metadata": {
        "colab": {
          "base_uri": "https://localhost:8080/"
        },
        "id": "p3HFblb7_vMc",
        "outputId": "507f245b-6992-4c9c-c05b-1853afc64c8a"
      },
      "outputs": [],
      "source": [
        "# # Mount Google Drive\n",
        "# drive.mount('/content/drive')\n",
        "\n",
        "# # Define the folder path in Google Drive where your CSV files are located\n",
        "# folder_path = \"/content/drive/MyDrive/Colab Notebooks/datasets/grocery store azubian\"\n",
        "\n",
        "# # Load the CSV files into DataFrames\n",
        "# data = {}\n",
        "\n",
        "# # Iterate over the files in the folder\n",
        "# for file_name in os.listdir(folder_path):\n",
        "#     if file_name.endswith(\".csv\"):\n",
        "#         # Remove the file extension to get the variable name\n",
        "#         variable_name = file_name.replace(\".csv\", \"\")\n",
        "        \n",
        "#         # Construct the file path\n",
        "#         file_path = os.path.join(folder_path, file_name)\n",
        "        \n",
        "#         # Read the CSV file content into a DataFrame\n",
        "#         data[variable_name] = pd.read_csv(file_path)\n",
        "\n",
        "# # Access the data using dictionary keys\n",
        "# holidays = data[\"holidays\"]\n",
        "# dates = data[\"dates\"]\n",
        "# sample = data[\"SampleSubmission\"]\n",
        "# stores = data[\"stores\"]\n",
        "# test = data[\"test\"]\n",
        "# train = data[\"train\"]\n",
        "\n"
      ]
    },
    {
      "cell_type": "code",
      "execution_count": 4,
      "metadata": {},
      "outputs": [],
      "source": [
        "train = pd.read_csv(\"C:/Users/LENOVO/Music/Grocery-Store-Forecasting-Challenge-For-Azubian/assets/grocery store azubian/train.csv\")\n",
        "test = pd.read_csv(\"C:/Users/LENOVO/Music/Grocery-Store-Forecasting-Challenge-For-Azubian/assets/grocery store azubian/test.csv\")\n",
        "stores = pd.read_csv(\"C:/Users/LENOVO/Music/Grocery-Store-Forecasting-Challenge-For-Azubian/assets/grocery store azubian/stores.csv\")\n",
        "sample = pd.read_csv(\"C:/Users/LENOVO/Music/Grocery-Store-Forecasting-Challenge-For-Azubian/assets/grocery store azubian/SampleSubmission.csv\")\n",
        "dates = pd.read_csv(\"C:/Users/LENOVO/Music/Grocery-Store-Forecasting-Challenge-For-Azubian/assets/grocery store azubian/dates.csv\")\n",
        "holidays = pd.read_csv(\"C:/Users/LENOVO/Music/Grocery-Store-Forecasting-Challenge-For-Azubian/assets/grocery store azubian/holidays.csv\")"
      ]
    },
    {
      "attachments": {},
      "cell_type": "markdown",
      "metadata": {
        "id": "Mz9VjJVx4Nz3"
      },
      "source": [
        "# Dataset overview"
      ]
    },
    {
      "cell_type": "code",
      "execution_count": 5,
      "metadata": {
        "colab": {
          "base_uri": "https://localhost:8080/",
          "height": 206
        },
        "id": "kajd5nDC490n",
        "outputId": "cd29b6bf-255a-4239-8ac6-5a6895e4ffaa"
      },
      "outputs": [
        {
          "data": {
            "text/html": [
              "<div>\n",
              "<style scoped>\n",
              "    .dataframe tbody tr th:only-of-type {\n",
              "        vertical-align: middle;\n",
              "    }\n",
              "\n",
              "    .dataframe tbody tr th {\n",
              "        vertical-align: top;\n",
              "    }\n",
              "\n",
              "    .dataframe thead th {\n",
              "        text-align: right;\n",
              "    }\n",
              "</style>\n",
              "<table border=\"1\" class=\"dataframe\">\n",
              "  <thead>\n",
              "    <tr style=\"text-align: right;\">\n",
              "      <th></th>\n",
              "      <th>date</th>\n",
              "      <th>store_id</th>\n",
              "      <th>category_id</th>\n",
              "      <th>target</th>\n",
              "      <th>onpromotion</th>\n",
              "      <th>nbr_of_transactions</th>\n",
              "    </tr>\n",
              "  </thead>\n",
              "  <tbody>\n",
              "    <tr>\n",
              "      <th>0</th>\n",
              "      <td>365</td>\n",
              "      <td>store_1</td>\n",
              "      <td>category_24</td>\n",
              "      <td>0.0</td>\n",
              "      <td>0</td>\n",
              "      <td>0.0</td>\n",
              "    </tr>\n",
              "    <tr>\n",
              "      <th>1</th>\n",
              "      <td>365</td>\n",
              "      <td>store_1</td>\n",
              "      <td>category_21</td>\n",
              "      <td>0.0</td>\n",
              "      <td>0</td>\n",
              "      <td>0.0</td>\n",
              "    </tr>\n",
              "    <tr>\n",
              "      <th>2</th>\n",
              "      <td>365</td>\n",
              "      <td>store_1</td>\n",
              "      <td>category_32</td>\n",
              "      <td>0.0</td>\n",
              "      <td>0</td>\n",
              "      <td>0.0</td>\n",
              "    </tr>\n",
              "    <tr>\n",
              "      <th>3</th>\n",
              "      <td>365</td>\n",
              "      <td>store_1</td>\n",
              "      <td>category_18</td>\n",
              "      <td>0.0</td>\n",
              "      <td>0</td>\n",
              "      <td>0.0</td>\n",
              "    </tr>\n",
              "    <tr>\n",
              "      <th>4</th>\n",
              "      <td>365</td>\n",
              "      <td>store_1</td>\n",
              "      <td>category_26</td>\n",
              "      <td>0.0</td>\n",
              "      <td>0</td>\n",
              "      <td>0.0</td>\n",
              "    </tr>\n",
              "  </tbody>\n",
              "</table>\n",
              "</div>"
            ],
            "text/plain": [
              "   date store_id  category_id  target  onpromotion  nbr_of_transactions\n",
              "0   365  store_1  category_24     0.0            0                  0.0\n",
              "1   365  store_1  category_21     0.0            0                  0.0\n",
              "2   365  store_1  category_32     0.0            0                  0.0\n",
              "3   365  store_1  category_18     0.0            0                  0.0\n",
              "4   365  store_1  category_26     0.0            0                  0.0"
            ]
          },
          "execution_count": 5,
          "metadata": {},
          "output_type": "execute_result"
        }
      ],
      "source": [
        "train.head()"
      ]
    },
    {
      "attachments": {},
      "cell_type": "markdown",
      "metadata": {
        "id": "UKsCG3Cr5058"
      },
      "source": [
        "train date is in numerical format. We'll have to convert it to Datetime format later"
      ]
    },
    {
      "cell_type": "code",
      "execution_count": 6,
      "metadata": {
        "colab": {
          "base_uri": "https://localhost:8080/",
          "height": 206
        },
        "id": "BBssAeqaAYbs",
        "outputId": "1d68da9e-99e8-4285-fceb-c8eee188820d"
      },
      "outputs": [
        {
          "data": {
            "text/html": [
              "<div>\n",
              "<style scoped>\n",
              "    .dataframe tbody tr th:only-of-type {\n",
              "        vertical-align: middle;\n",
              "    }\n",
              "\n",
              "    .dataframe tbody tr th {\n",
              "        vertical-align: top;\n",
              "    }\n",
              "\n",
              "    .dataframe thead th {\n",
              "        text-align: right;\n",
              "    }\n",
              "</style>\n",
              "<table border=\"1\" class=\"dataframe\">\n",
              "  <thead>\n",
              "    <tr style=\"text-align: right;\">\n",
              "      <th></th>\n",
              "      <th>date</th>\n",
              "      <th>store_id</th>\n",
              "      <th>category_id</th>\n",
              "      <th>onpromotion</th>\n",
              "    </tr>\n",
              "  </thead>\n",
              "  <tbody>\n",
              "    <tr>\n",
              "      <th>0</th>\n",
              "      <td>1627</td>\n",
              "      <td>store_1</td>\n",
              "      <td>category_24</td>\n",
              "      <td>0</td>\n",
              "    </tr>\n",
              "    <tr>\n",
              "      <th>1</th>\n",
              "      <td>1627</td>\n",
              "      <td>store_1</td>\n",
              "      <td>category_21</td>\n",
              "      <td>0</td>\n",
              "    </tr>\n",
              "    <tr>\n",
              "      <th>2</th>\n",
              "      <td>1627</td>\n",
              "      <td>store_1</td>\n",
              "      <td>category_32</td>\n",
              "      <td>0</td>\n",
              "    </tr>\n",
              "    <tr>\n",
              "      <th>3</th>\n",
              "      <td>1627</td>\n",
              "      <td>store_1</td>\n",
              "      <td>category_18</td>\n",
              "      <td>16</td>\n",
              "    </tr>\n",
              "    <tr>\n",
              "      <th>4</th>\n",
              "      <td>1627</td>\n",
              "      <td>store_1</td>\n",
              "      <td>category_26</td>\n",
              "      <td>0</td>\n",
              "    </tr>\n",
              "  </tbody>\n",
              "</table>\n",
              "</div>"
            ],
            "text/plain": [
              "   date store_id  category_id  onpromotion\n",
              "0  1627  store_1  category_24            0\n",
              "1  1627  store_1  category_21            0\n",
              "2  1627  store_1  category_32            0\n",
              "3  1627  store_1  category_18           16\n",
              "4  1627  store_1  category_26            0"
            ]
          },
          "execution_count": 6,
          "metadata": {},
          "output_type": "execute_result"
        }
      ],
      "source": [
        "test.head()"
      ]
    },
    {
      "cell_type": "code",
      "execution_count": 7,
      "metadata": {
        "colab": {
          "base_uri": "https://localhost:8080/"
        },
        "id": "wuTqIthgAuqV",
        "outputId": "5e422566-f838-406f-9b22-a1e8eee6444e"
      },
      "outputs": [
        {
          "name": "stdout",
          "output_type": "stream",
          "text": [
            "<class 'pandas.core.frame.DataFrame'>\n",
            "RangeIndex: 99792 entries, 0 to 99791\n",
            "Data columns (total 4 columns):\n",
            " #   Column       Non-Null Count  Dtype \n",
            "---  ------       --------------  ----- \n",
            " 0   date         99792 non-null  int64 \n",
            " 1   store_id     99792 non-null  object\n",
            " 2   category_id  99792 non-null  object\n",
            " 3   onpromotion  99792 non-null  int64 \n",
            "dtypes: int64(2), object(2)\n",
            "memory usage: 3.0+ MB\n"
          ]
        }
      ],
      "source": [
        "test.info()"
      ]
    },
    {
      "cell_type": "code",
      "execution_count": 8,
      "metadata": {
        "colab": {
          "base_uri": "https://localhost:8080/",
          "height": 206
        },
        "id": "M0DDPOuEBLHK",
        "outputId": "9b6bff8b-55d1-4d95-97d1-421fafc3b049"
      },
      "outputs": [
        {
          "data": {
            "text/html": [
              "<div>\n",
              "<style scoped>\n",
              "    .dataframe tbody tr th:only-of-type {\n",
              "        vertical-align: middle;\n",
              "    }\n",
              "\n",
              "    .dataframe tbody tr th {\n",
              "        vertical-align: top;\n",
              "    }\n",
              "\n",
              "    .dataframe thead th {\n",
              "        text-align: right;\n",
              "    }\n",
              "</style>\n",
              "<table border=\"1\" class=\"dataframe\">\n",
              "  <thead>\n",
              "    <tr style=\"text-align: right;\">\n",
              "      <th></th>\n",
              "      <th>store_id</th>\n",
              "      <th>city</th>\n",
              "      <th>type</th>\n",
              "      <th>cluster</th>\n",
              "    </tr>\n",
              "  </thead>\n",
              "  <tbody>\n",
              "    <tr>\n",
              "      <th>0</th>\n",
              "      <td>store_1</td>\n",
              "      <td>0</td>\n",
              "      <td>0</td>\n",
              "      <td>0</td>\n",
              "    </tr>\n",
              "    <tr>\n",
              "      <th>1</th>\n",
              "      <td>store_2</td>\n",
              "      <td>0</td>\n",
              "      <td>0</td>\n",
              "      <td>0</td>\n",
              "    </tr>\n",
              "    <tr>\n",
              "      <th>2</th>\n",
              "      <td>store_3</td>\n",
              "      <td>0</td>\n",
              "      <td>0</td>\n",
              "      <td>1</td>\n",
              "    </tr>\n",
              "    <tr>\n",
              "      <th>3</th>\n",
              "      <td>store_4</td>\n",
              "      <td>0</td>\n",
              "      <td>0</td>\n",
              "      <td>2</td>\n",
              "    </tr>\n",
              "    <tr>\n",
              "      <th>4</th>\n",
              "      <td>store_5</td>\n",
              "      <td>1</td>\n",
              "      <td>0</td>\n",
              "      <td>3</td>\n",
              "    </tr>\n",
              "  </tbody>\n",
              "</table>\n",
              "</div>"
            ],
            "text/plain": [
              "  store_id  city  type  cluster\n",
              "0  store_1     0     0        0\n",
              "1  store_2     0     0        0\n",
              "2  store_3     0     0        1\n",
              "3  store_4     0     0        2\n",
              "4  store_5     1     0        3"
            ]
          },
          "execution_count": 8,
          "metadata": {},
          "output_type": "execute_result"
        }
      ],
      "source": [
        "stores.head()"
      ]
    },
    {
      "cell_type": "code",
      "execution_count": 9,
      "metadata": {
        "colab": {
          "base_uri": "https://localhost:8080/"
        },
        "id": "_Z_M2UuaBE_P",
        "outputId": "4957b5b7-616b-4a79-f44c-a36ab35a0bb3"
      },
      "outputs": [
        {
          "name": "stdout",
          "output_type": "stream",
          "text": [
            "<class 'pandas.core.frame.DataFrame'>\n",
            "RangeIndex: 54 entries, 0 to 53\n",
            "Data columns (total 4 columns):\n",
            " #   Column    Non-Null Count  Dtype \n",
            "---  ------    --------------  ----- \n",
            " 0   store_id  54 non-null     object\n",
            " 1   city      54 non-null     int64 \n",
            " 2   type      54 non-null     int64 \n",
            " 3   cluster   54 non-null     int64 \n",
            "dtypes: int64(3), object(1)\n",
            "memory usage: 1.8+ KB\n"
          ]
        }
      ],
      "source": [
        "stores.info()"
      ]
    },
    {
      "attachments": {},
      "cell_type": "markdown",
      "metadata": {
        "id": "ZJ_K9MGkLqCH"
      },
      "source": [
        "city, type & cluster are categoric variables, so they are not supposed to be in number datatype(int64) \n",
        "\n",
        "furthermore, cities do not have an ordinal relationship with one another. Ordinal variables have a natural order. Just like \"good-better-best\" or \"positive-neutral-negative\". Nominal variables don't.\n",
        "\n",
        "We don't want our machine learning models to think that one city-0 comes before city-1, which is before city-3. \n",
        "\n",
        "Therefore, we'll have to change the datatypes to obect or string to make it more descriptive, for example: 'London', 'Tokyo', 'Rome' and so on.\n",
        "\n",
        "Same goes for type and cluster."
      ]
    },
    {
      "cell_type": "code",
      "execution_count": 10,
      "metadata": {
        "colab": {
          "base_uri": "https://localhost:8080/",
          "height": 270
        },
        "id": "YAL7k5ynBny8",
        "outputId": "c7dc4fd2-898d-45c5-edfe-824225e845da"
      },
      "outputs": [
        {
          "data": {
            "text/plain": [
              "array([ 365,  366,  367, ..., 1682, 1683, 1684], dtype=int64)"
            ]
          },
          "execution_count": 10,
          "metadata": {},
          "output_type": "execute_result"
        }
      ],
      "source": [
        "dates['date'].unique()"
      ]
    },
    {
      "attachments": {},
      "cell_type": "markdown",
      "metadata": {
        "id": "G77f6HeABrDe"
      },
      "source": [
        "This dataset contains dates and the features that have already been extracted from it"
      ]
    },
    {
      "cell_type": "code",
      "execution_count": 11,
      "metadata": {
        "colab": {
          "base_uri": "https://localhost:8080/"
        },
        "id": "ZR8aIxjxB26C",
        "outputId": "ff20e3fc-1c99-45f1-a917-5cd201954c18"
      },
      "outputs": [
        {
          "name": "stdout",
          "output_type": "stream",
          "text": [
            "<class 'pandas.core.frame.DataFrame'>\n",
            "RangeIndex: 1320 entries, 0 to 1319\n",
            "Data columns (total 15 columns):\n",
            " #   Column            Non-Null Count  Dtype\n",
            "---  ------            --------------  -----\n",
            " 0   date              1320 non-null   int64\n",
            " 1   year              1320 non-null   int64\n",
            " 2   month             1320 non-null   int64\n",
            " 3   dayofmonth        1320 non-null   int64\n",
            " 4   dayofweek         1320 non-null   int64\n",
            " 5   dayofyear         1320 non-null   int64\n",
            " 6   weekofyear        1320 non-null   int64\n",
            " 7   quarter           1320 non-null   int64\n",
            " 8   is_month_start    1320 non-null   bool \n",
            " 9   is_month_end      1320 non-null   bool \n",
            " 10  is_quarter_start  1320 non-null   bool \n",
            " 11  is_quarter_end    1320 non-null   bool \n",
            " 12  is_year_start     1320 non-null   bool \n",
            " 13  is_year_end       1320 non-null   bool \n",
            " 14  year_weekofyear   1320 non-null   int64\n",
            "dtypes: bool(6), int64(9)\n",
            "memory usage: 100.7 KB\n"
          ]
        }
      ],
      "source": [
        "dates.info()"
      ]
    },
    {
      "attachments": {},
      "cell_type": "markdown",
      "metadata": {
        "id": "MWWEGqOHPmeh"
      },
      "source": [
        "in this case, these categories have an ordinal relationship with one another, meaning one date naturally comes before the other, \n",
        "\n",
        "so we can leave them as they are."
      ]
    },
    {
      "cell_type": "code",
      "execution_count": 12,
      "metadata": {
        "colab": {
          "base_uri": "https://localhost:8080/"
        },
        "id": "Db9Zn7fVQUI7",
        "outputId": "4473a63c-6d30-4b65-90ab-296f1e4abf15"
      },
      "outputs": [
        {
          "data": {
            "text/plain": [
              "array([  1,   2,   3,   4,   5,   6,   7,   8,   9,  10,  11,  12,  13,\n",
              "        14,  15,  16,  17,  18,  19,  20,  21,  22,  23,  24,  25,  26,\n",
              "        27,  28,  29,  30,  31,  32,  33,  34,  35,  36,  37,  38,  39,\n",
              "        40,  41,  42,  43,  44,  45,  46,  47,  48,  49,  50,  51,  52,\n",
              "        53,  54,  55,  56,  57,  58,  59,  60,  61,  62,  63,  64,  65,\n",
              "        66,  67,  68,  69,  70,  71,  72,  73,  74,  75,  76,  77,  78,\n",
              "        79,  80,  81,  82,  83,  84,  85,  86,  87,  88,  89,  90,  91,\n",
              "        92,  93,  94,  95,  96,  97,  98,  99, 100, 101, 102, 103, 104,\n",
              "       105, 106, 107, 108, 109, 110, 111, 112, 113, 114, 115, 116, 117,\n",
              "       118, 119, 120, 121, 122, 123, 124, 125, 126, 127, 128, 129, 130,\n",
              "       131, 132, 133, 134, 135, 136, 137, 138, 139, 140, 141, 142, 143,\n",
              "       144, 145, 146, 147, 148, 149, 150, 151, 152, 153, 154, 155, 156,\n",
              "       157, 158, 159, 160, 161, 162, 163, 164, 165, 166, 167, 168, 169,\n",
              "       170, 171, 172, 173, 174, 175, 176, 177, 178, 179, 180, 181, 182,\n",
              "       183, 184, 185, 186, 187, 188, 189, 190, 191, 192, 193, 194, 195,\n",
              "       196, 197, 198, 199, 200, 201, 202, 203, 204, 205, 206, 207, 208,\n",
              "       209, 210, 211, 212, 213, 214, 215, 216, 217, 218, 219, 220, 221,\n",
              "       222, 223, 224, 225, 226, 227, 228, 229, 230, 231, 232, 233, 234,\n",
              "       235, 236, 237, 238, 239, 240, 241, 242, 243, 244, 245, 246, 247,\n",
              "       248, 249, 250, 251, 252, 253, 254, 255, 256, 257, 258, 259, 260,\n",
              "       261, 262, 263, 264, 265, 266, 267, 268, 269, 270, 271, 272, 273,\n",
              "       274, 275, 276, 277, 278, 279, 280, 281, 282, 283, 284, 285, 286,\n",
              "       287, 288, 289, 290, 291, 292, 293, 294, 295, 296, 297, 298, 299,\n",
              "       300, 301, 302, 303, 304, 305, 306, 307, 308, 309, 310, 311, 312,\n",
              "       313, 314, 315, 316, 317, 318, 319, 320, 321, 322, 323, 324, 325,\n",
              "       326, 327, 328, 329, 330, 331, 332, 333, 334, 335, 336, 337, 338,\n",
              "       339, 340, 341, 342, 343, 344, 345, 346, 347, 348, 349, 350, 351,\n",
              "       352, 353, 354, 355, 356, 357, 358, 360, 361, 362, 363, 364, 365,\n",
              "       359, 366], dtype=int64)"
            ]
          },
          "execution_count": 12,
          "metadata": {},
          "output_type": "execute_result"
        }
      ],
      "source": [
        "dates.dayofyear.unique()"
      ]
    },
    {
      "attachments": {},
      "cell_type": "markdown",
      "metadata": {
        "id": "pOXxqaXsRn5M"
      },
      "source": [
        "we have 365 days in a year, 366 days is for a loop year. This is a problem for us. Let me explain why.\n",
        "\n",
        "**Problem**:\n",
        "When you have a loop year, then new year's eve would fall on day 366\n",
        "\n",
        "otherwise, it would fall on day 365. So everyday might not fall on the appropriate number for each year.\n",
        "\n",
        "**Solution**:\n",
        "we will later convert two new columns called \"sin(dayofyear)\" & \"cos(dayofyear)\". These new columns will help our machine learning models to understand the cyclic nature of a year. \n",
        "\n",
        "Cyclic means that a year usually starts and ends in a similar way."
      ]
    },
    {
      "cell_type": "code",
      "execution_count": 13,
      "metadata": {
        "colab": {
          "base_uri": "https://localhost:8080/",
          "height": 206
        },
        "id": "UoPNhzliCQmv",
        "outputId": "f8029396-21c2-4c1c-f24c-2c2a52c37617"
      },
      "outputs": [
        {
          "data": {
            "text/html": [
              "<div>\n",
              "<style scoped>\n",
              "    .dataframe tbody tr th:only-of-type {\n",
              "        vertical-align: middle;\n",
              "    }\n",
              "\n",
              "    .dataframe tbody tr th {\n",
              "        vertical-align: top;\n",
              "    }\n",
              "\n",
              "    .dataframe thead th {\n",
              "        text-align: right;\n",
              "    }\n",
              "</style>\n",
              "<table border=\"1\" class=\"dataframe\">\n",
              "  <thead>\n",
              "    <tr style=\"text-align: right;\">\n",
              "      <th></th>\n",
              "      <th>date</th>\n",
              "      <th>type</th>\n",
              "    </tr>\n",
              "  </thead>\n",
              "  <tbody>\n",
              "    <tr>\n",
              "      <th>0</th>\n",
              "      <td>1</td>\n",
              "      <td>0</td>\n",
              "    </tr>\n",
              "    <tr>\n",
              "      <th>1</th>\n",
              "      <td>5</td>\n",
              "      <td>4</td>\n",
              "    </tr>\n",
              "    <tr>\n",
              "      <th>2</th>\n",
              "      <td>12</td>\n",
              "      <td>4</td>\n",
              "    </tr>\n",
              "    <tr>\n",
              "      <th>3</th>\n",
              "      <td>42</td>\n",
              "      <td>0</td>\n",
              "    </tr>\n",
              "    <tr>\n",
              "      <th>4</th>\n",
              "      <td>43</td>\n",
              "      <td>0</td>\n",
              "    </tr>\n",
              "  </tbody>\n",
              "</table>\n",
              "</div>"
            ],
            "text/plain": [
              "   date  type\n",
              "0     1     0\n",
              "1     5     4\n",
              "2    12     4\n",
              "3    42     0\n",
              "4    43     0"
            ]
          },
          "execution_count": 13,
          "metadata": {},
          "output_type": "execute_result"
        }
      ],
      "source": [
        "holidays.head()"
      ]
    },
    {
      "cell_type": "code",
      "execution_count": 14,
      "metadata": {
        "colab": {
          "base_uri": "https://localhost:8080/"
        },
        "id": "aWuH4aYBCX5s",
        "outputId": "a24bb057-5fc9-4234-9e14-9e15cdc171a5"
      },
      "outputs": [
        {
          "name": "stdout",
          "output_type": "stream",
          "text": [
            "<class 'pandas.core.frame.DataFrame'>\n",
            "RangeIndex: 281 entries, 0 to 280\n",
            "Data columns (total 2 columns):\n",
            " #   Column  Non-Null Count  Dtype\n",
            "---  ------  --------------  -----\n",
            " 0   date    281 non-null    int64\n",
            " 1   type    281 non-null    int64\n",
            "dtypes: int64(2)\n",
            "memory usage: 4.5 KB\n"
          ]
        }
      ],
      "source": [
        "holidays.info()"
      ]
    },
    {
      "cell_type": "code",
      "execution_count": 15,
      "metadata": {
        "colab": {
          "base_uri": "https://localhost:8080/"
        },
        "id": "cPnRlmkEdYHz",
        "outputId": "4c59ecfc-5199-4364-c783-8e8ffc7dcaae"
      },
      "outputs": [
        {
          "data": {
            "text/plain": [
              "array([0, 4, 2, 5, 1, 3], dtype=int64)"
            ]
          },
          "execution_count": 15,
          "metadata": {},
          "output_type": "execute_result"
        }
      ],
      "source": [
        "holidays.type.unique()"
      ]
    },
    {
      "attachments": {},
      "cell_type": "markdown",
      "metadata": {
        "id": "iv1aEjzVc3Th"
      },
      "source": [
        "The type column is a categoric variable, and each type of holiday does not have an ordinal relationship, since a holiday like new year is not higher or better than Christmas for example.\n",
        "\n",
        "so we'll later convert them to string type to make it more descriptive"
      ]
    },
    {
      "cell_type": "code",
      "execution_count": 16,
      "metadata": {
        "colab": {
          "base_uri": "https://localhost:8080/",
          "height": 300
        },
        "id": "Slj_ROrsD0V4",
        "outputId": "e1daf29e-e7c8-4982-9e1f-66652e89aeb5"
      },
      "outputs": [
        {
          "data": {
            "text/html": [
              "<div>\n",
              "<style scoped>\n",
              "    .dataframe tbody tr th:only-of-type {\n",
              "        vertical-align: middle;\n",
              "    }\n",
              "\n",
              "    .dataframe tbody tr th {\n",
              "        vertical-align: top;\n",
              "    }\n",
              "\n",
              "    .dataframe thead th {\n",
              "        text-align: right;\n",
              "    }\n",
              "</style>\n",
              "<table border=\"1\" class=\"dataframe\">\n",
              "  <thead>\n",
              "    <tr style=\"text-align: right;\">\n",
              "      <th></th>\n",
              "      <th>date</th>\n",
              "      <th>target</th>\n",
              "      <th>onpromotion</th>\n",
              "      <th>nbr_of_transactions</th>\n",
              "    </tr>\n",
              "  </thead>\n",
              "  <tbody>\n",
              "    <tr>\n",
              "      <th>count</th>\n",
              "      <td>2.248884e+06</td>\n",
              "      <td>2.248884e+06</td>\n",
              "      <td>2.248884e+06</td>\n",
              "      <td>2.248884e+06</td>\n",
              "    </tr>\n",
              "    <tr>\n",
              "      <th>mean</th>\n",
              "      <td>9.955000e+02</td>\n",
              "      <td>3.932649e+02</td>\n",
              "      <td>3.142002e+00</td>\n",
              "      <td>1.573591e+03</td>\n",
              "    </tr>\n",
              "    <tr>\n",
              "      <th>std</th>\n",
              "      <td>3.643080e+02</td>\n",
              "      <td>1.174938e+03</td>\n",
              "      <td>1.343616e+01</td>\n",
              "      <td>1.027832e+03</td>\n",
              "    </tr>\n",
              "    <tr>\n",
              "      <th>min</th>\n",
              "      <td>3.650000e+02</td>\n",
              "      <td>0.000000e+00</td>\n",
              "      <td>0.000000e+00</td>\n",
              "      <td>0.000000e+00</td>\n",
              "    </tr>\n",
              "    <tr>\n",
              "      <th>25%</th>\n",
              "      <td>6.800000e+02</td>\n",
              "      <td>0.000000e+00</td>\n",
              "      <td>0.000000e+00</td>\n",
              "      <td>9.440000e+02</td>\n",
              "    </tr>\n",
              "    <tr>\n",
              "      <th>50%</th>\n",
              "      <td>9.955000e+02</td>\n",
              "      <td>1.500000e+01</td>\n",
              "      <td>0.000000e+00</td>\n",
              "      <td>1.338000e+03</td>\n",
              "    </tr>\n",
              "    <tr>\n",
              "      <th>75%</th>\n",
              "      <td>1.311000e+03</td>\n",
              "      <td>2.230000e+02</td>\n",
              "      <td>1.000000e+00</td>\n",
              "      <td>1.979000e+03</td>\n",
              "    </tr>\n",
              "    <tr>\n",
              "      <th>max</th>\n",
              "      <td>1.626000e+03</td>\n",
              "      <td>1.247170e+05</td>\n",
              "      <td>7.410000e+02</td>\n",
              "      <td>8.359000e+03</td>\n",
              "    </tr>\n",
              "  </tbody>\n",
              "</table>\n",
              "</div>"
            ],
            "text/plain": [
              "               date        target   onpromotion  nbr_of_transactions\n",
              "count  2.248884e+06  2.248884e+06  2.248884e+06         2.248884e+06\n",
              "mean   9.955000e+02  3.932649e+02  3.142002e+00         1.573591e+03\n",
              "std    3.643080e+02  1.174938e+03  1.343616e+01         1.027832e+03\n",
              "min    3.650000e+02  0.000000e+00  0.000000e+00         0.000000e+00\n",
              "25%    6.800000e+02  0.000000e+00  0.000000e+00         9.440000e+02\n",
              "50%    9.955000e+02  1.500000e+01  0.000000e+00         1.338000e+03\n",
              "75%    1.311000e+03  2.230000e+02  1.000000e+00         1.979000e+03\n",
              "max    1.626000e+03  1.247170e+05  7.410000e+02         8.359000e+03"
            ]
          },
          "execution_count": 16,
          "metadata": {},
          "output_type": "execute_result"
        }
      ],
      "source": [
        "train.describe()"
      ]
    },
    {
      "attachments": {},
      "cell_type": "markdown",
      "metadata": {
        "id": "-8ol2MBtEDkc"
      },
      "source": [
        "train dates range from **365** to **1626**"
      ]
    },
    {
      "cell_type": "code",
      "execution_count": 17,
      "metadata": {
        "colab": {
          "base_uri": "https://localhost:8080/",
          "height": 300
        },
        "id": "gefkrStbD9sK",
        "outputId": "08b74638-ee0b-4923-f979-0f07c21754b5"
      },
      "outputs": [
        {
          "data": {
            "text/html": [
              "<div>\n",
              "<style scoped>\n",
              "    .dataframe tbody tr th:only-of-type {\n",
              "        vertical-align: middle;\n",
              "    }\n",
              "\n",
              "    .dataframe tbody tr th {\n",
              "        vertical-align: top;\n",
              "    }\n",
              "\n",
              "    .dataframe thead th {\n",
              "        text-align: right;\n",
              "    }\n",
              "</style>\n",
              "<table border=\"1\" class=\"dataframe\">\n",
              "  <thead>\n",
              "    <tr style=\"text-align: right;\">\n",
              "      <th></th>\n",
              "      <th>date</th>\n",
              "      <th>onpromotion</th>\n",
              "    </tr>\n",
              "  </thead>\n",
              "  <tbody>\n",
              "    <tr>\n",
              "      <th>count</th>\n",
              "      <td>99792.000000</td>\n",
              "      <td>99792.000000</td>\n",
              "    </tr>\n",
              "    <tr>\n",
              "      <th>mean</th>\n",
              "      <td>1654.500000</td>\n",
              "      <td>7.274892</td>\n",
              "    </tr>\n",
              "    <tr>\n",
              "      <th>std</th>\n",
              "      <td>16.163311</td>\n",
              "      <td>18.504041</td>\n",
              "    </tr>\n",
              "    <tr>\n",
              "      <th>min</th>\n",
              "      <td>1627.000000</td>\n",
              "      <td>0.000000</td>\n",
              "    </tr>\n",
              "    <tr>\n",
              "      <th>25%</th>\n",
              "      <td>1640.750000</td>\n",
              "      <td>0.000000</td>\n",
              "    </tr>\n",
              "    <tr>\n",
              "      <th>50%</th>\n",
              "      <td>1654.500000</td>\n",
              "      <td>0.000000</td>\n",
              "    </tr>\n",
              "    <tr>\n",
              "      <th>75%</th>\n",
              "      <td>1668.250000</td>\n",
              "      <td>6.000000</td>\n",
              "    </tr>\n",
              "    <tr>\n",
              "      <th>max</th>\n",
              "      <td>1682.000000</td>\n",
              "      <td>591.000000</td>\n",
              "    </tr>\n",
              "  </tbody>\n",
              "</table>\n",
              "</div>"
            ],
            "text/plain": [
              "               date   onpromotion\n",
              "count  99792.000000  99792.000000\n",
              "mean    1654.500000      7.274892\n",
              "std       16.163311     18.504041\n",
              "min     1627.000000      0.000000\n",
              "25%     1640.750000      0.000000\n",
              "50%     1654.500000      0.000000\n",
              "75%     1668.250000      6.000000\n",
              "max     1682.000000    591.000000"
            ]
          },
          "execution_count": 17,
          "metadata": {},
          "output_type": "execute_result"
        }
      ],
      "source": [
        "test.describe()"
      ]
    },
    {
      "attachments": {},
      "cell_type": "markdown",
      "metadata": {
        "id": "3NOEaiGeFM5f"
      },
      "source": [
        "test dates range from **1627** to **1682**\n",
        "\n",
        "this is a continuation from train. This makes sense since we are to predict future transactions based on past data\n",
        "\n",
        "**note**: we will not be using transaction data to train our models, since transaction data was not provided for our test data."
      ]
    },
    {
      "cell_type": "code",
      "execution_count": 18,
      "metadata": {
        "colab": {
          "base_uri": "https://localhost:8080/"
        },
        "id": "Z1dIXNBJF2vX",
        "outputId": "bbf6dc8f-8114-4bca-b499-e7a79e41cb94"
      },
      "outputs": [
        {
          "data": {
            "text/plain": [
              "(              date         year        month   dayofmonth    dayofweek  \\\n",
              " count  1320.000000  1320.000000  1320.000000  1320.000000  1320.000000   \n",
              " mean   1024.500000     2.344697     6.124242    15.612121     2.996970   \n",
              " std     381.195488     1.059333     3.366835     8.798020     2.001135   \n",
              " min     365.000000     1.000000     1.000000     1.000000     0.000000   \n",
              " 25%     694.750000     1.000000     3.000000     8.000000     1.000000   \n",
              " 50%    1024.500000     2.000000     6.000000    15.500000     3.000000   \n",
              " 75%    1354.250000     3.000000     9.000000    23.000000     5.000000   \n",
              " max    1684.000000     4.000000    12.000000    31.000000     6.000000   \n",
              " \n",
              "          dayofyear   weekofyear      quarter  year_weekofyear  \n",
              " count  1320.000000  1320.000000  1320.000000      1320.000000  \n",
              " mean    170.871970    24.934848     2.384091       259.101515  \n",
              " std     102.870939    14.726066     1.094568       104.162039  \n",
              " min       1.000000     1.000000     1.000000       101.000000  \n",
              " 25%      83.000000    12.000000     1.000000       147.750000  \n",
              " 50%     165.500000    24.000000     2.000000       243.000000  \n",
              " 75%     255.000000    37.000000     3.000000       337.250000  \n",
              " max     366.000000    53.000000     4.000000       433.000000  ,)"
            ]
          },
          "execution_count": 18,
          "metadata": {},
          "output_type": "execute_result"
        }
      ],
      "source": [
        "dates.describe(),"
      ]
    },
    {
      "attachments": {},
      "cell_type": "markdown",
      "metadata": {
        "id": "nJq6eM6nGE8f"
      },
      "source": [
        "dates are from **365** till **1684** which covers the train and test dates\n",
        "\n",
        "so, we'll be able to add the features from here to both the train and test data based on the date"
      ]
    },
    {
      "cell_type": "code",
      "execution_count": 19,
      "metadata": {
        "colab": {
          "base_uri": "https://localhost:8080/",
          "height": 300
        },
        "id": "8QPbCGdGGlIZ",
        "outputId": "71cf8644-76ba-4370-d559-db54fc1b1fc7"
      },
      "outputs": [
        {
          "data": {
            "text/html": [
              "<div>\n",
              "<style scoped>\n",
              "    .dataframe tbody tr th:only-of-type {\n",
              "        vertical-align: middle;\n",
              "    }\n",
              "\n",
              "    .dataframe tbody tr th {\n",
              "        vertical-align: top;\n",
              "    }\n",
              "\n",
              "    .dataframe thead th {\n",
              "        text-align: right;\n",
              "    }\n",
              "</style>\n",
              "<table border=\"1\" class=\"dataframe\">\n",
              "  <thead>\n",
              "    <tr style=\"text-align: right;\">\n",
              "      <th></th>\n",
              "      <th>date</th>\n",
              "      <th>type</th>\n",
              "    </tr>\n",
              "  </thead>\n",
              "  <tbody>\n",
              "    <tr>\n",
              "      <th>count</th>\n",
              "      <td>281.000000</td>\n",
              "      <td>281.000000</td>\n",
              "    </tr>\n",
              "    <tr>\n",
              "      <th>mean</th>\n",
              "      <td>901.896797</td>\n",
              "      <td>1.402135</td>\n",
              "    </tr>\n",
              "    <tr>\n",
              "      <th>std</th>\n",
              "      <td>461.359327</td>\n",
              "      <td>1.996031</td>\n",
              "    </tr>\n",
              "    <tr>\n",
              "      <th>min</th>\n",
              "      <td>1.000000</td>\n",
              "      <td>0.000000</td>\n",
              "    </tr>\n",
              "    <tr>\n",
              "      <th>25%</th>\n",
              "      <td>540.000000</td>\n",
              "      <td>0.000000</td>\n",
              "    </tr>\n",
              "    <tr>\n",
              "      <th>50%</th>\n",
              "      <td>934.000000</td>\n",
              "      <td>0.000000</td>\n",
              "    </tr>\n",
              "    <tr>\n",
              "      <th>75%</th>\n",
              "      <td>1237.000000</td>\n",
              "      <td>2.000000</td>\n",
              "    </tr>\n",
              "    <tr>\n",
              "      <th>max</th>\n",
              "      <td>1684.000000</td>\n",
              "      <td>5.000000</td>\n",
              "    </tr>\n",
              "  </tbody>\n",
              "</table>\n",
              "</div>"
            ],
            "text/plain": [
              "              date        type\n",
              "count   281.000000  281.000000\n",
              "mean    901.896797    1.402135\n",
              "std     461.359327    1.996031\n",
              "min       1.000000    0.000000\n",
              "25%     540.000000    0.000000\n",
              "50%     934.000000    0.000000\n",
              "75%    1237.000000    2.000000\n",
              "max    1684.000000    5.000000"
            ]
          },
          "execution_count": 19,
          "metadata": {},
          "output_type": "execute_result"
        }
      ],
      "source": [
        " holidays.describe()"
      ]
    },
    {
      "cell_type": "code",
      "execution_count": 20,
      "metadata": {
        "colab": {
          "base_uri": "https://localhost:8080/"
        },
        "id": "IjD4RclhaNLn",
        "outputId": "f02a734b-0b79-42f7-9afc-7ea84284eeec"
      },
      "outputs": [
        {
          "data": {
            "text/plain": [
              "251"
            ]
          },
          "execution_count": 20,
          "metadata": {},
          "output_type": "execute_result"
        }
      ],
      "source": [
        "# count the number of dates in the holidays dataset\n",
        "holidays.date.nunique()"
      ]
    },
    {
      "attachments": {},
      "cell_type": "markdown",
      "metadata": {
        "id": "0vzexdncCW7J"
      },
      "source": [
        "notice that the dates in the holiday dataset are not complete\n",
        "\n",
        "so, we will later create a column for holidays in our train and test dataset based on the following logic:\n",
        "\n",
        "if a date is in the holidays table, then its a holiday, else that date is not a holiday"
      ]
    },
    {
      "attachments": {},
      "cell_type": "markdown",
      "metadata": {
        "id": "0PSAf8TQ4Nz6"
      },
      "source": [
        "## Hypothesis\n",
        "**H0**: holidays have a big effect on sales, hence the sales data is seasonal.\n",
        "\n",
        "**H1**: holidays don't affect sales, hence sales data is stationary."
      ]
    },
    {
      "attachments": {},
      "cell_type": "markdown",
      "metadata": {
        "id": "9m8lZeet4Nz6"
      },
      "source": [
        "## Questions\n",
        "\n",
        "1. Is the train data complete?\n",
        "2. Do we have seasonality in our sales?\n",
        "3. Are there outliers in our dataset?\n",
        "4. What is the difference between RMSLE, RMSE and MSE?"
      ]
    },
    {
      "attachments": {},
      "cell_type": "markdown",
      "metadata": {
        "id": "hqYE8pYDyiT5"
      },
      "source": [
        "| Issues                                  | how we intend to solve them                                                                                                   |\n",
        "|----------------------------------------|------------------------------------------------------------------------------------------------------------|\n",
        "| 1. City, type & cluster in our stores dataset are mumerical | convert to string and make the categories more descriptive.                                            |\n",
        "| 2. The dayofyear column in our dates dataset ranges from 1 to 366. This will make some days fall on the wrong number | find the sine and cosine of this column to represent the cyclic nature of a year. | We can also include weather conditions, holidays and events to this.                        |\n"
      ]
    },
    {
      "attachments": {},
      "cell_type": "markdown",
      "metadata": {
        "id": "KZnWtLbK4Nz7"
      },
      "source": [
        "# Data Cleaning\n",
        "\n",
        "Here, we will prepare our data for Univariate and Bivariate analysis. "
      ]
    },
    {
      "attachments": {},
      "cell_type": "markdown",
      "metadata": {
        "id": "VND4jVpS4Nz7"
      },
      "source": [
        "## Fixing our issues"
      ]
    },
    {
      "attachments": {},
      "cell_type": "markdown",
      "metadata": {
        "id": "nCQignpE4a_O"
      },
      "source": [
        "1. City, type & cluster in our stores dataset are mumerical \n",
        "\n",
        "Solution: convert to string and make the categories more descriptive."
      ]
    },
    {
      "attachments": {},
      "cell_type": "markdown",
      "metadata": {
        "id": "0qEJuYQI-q2Q"
      },
      "source": [
        "**city**"
      ]
    },
    {
      "cell_type": "code",
      "execution_count": 21,
      "metadata": {
        "colab": {
          "base_uri": "https://localhost:8080/"
        },
        "id": "ORS8-rnS4hSA",
        "outputId": "14e1f3bc-4f4e-46e7-d9d6-6c9add50353d"
      },
      "outputs": [
        {
          "data": {
            "text/plain": [
              "array([ 0,  1,  2,  3,  4,  5,  6,  7,  8,  9, 10, 11, 12, 13, 14, 15, 16,\n",
              "       17, 18, 19, 20, 21], dtype=int64)"
            ]
          },
          "execution_count": 21,
          "metadata": {},
          "output_type": "execute_result"
        }
      ],
      "source": [
        "stores.city.unique()"
      ]
    },
    {
      "cell_type": "code",
      "execution_count": 22,
      "metadata": {
        "id": "NNBx10S-5XiM"
      },
      "outputs": [],
      "source": [
        "# using each city number as index, \n",
        "# convert each city number to the corresponding city from a list of us_cities\n",
        "stores.city = stores.city.apply(lambda x: 'city_'+ str(x))"
      ]
    },
    {
      "cell_type": "code",
      "execution_count": 23,
      "metadata": {
        "colab": {
          "base_uri": "https://localhost:8080/"
        },
        "id": "_K5CD29G-mip",
        "outputId": "6bda12f0-3480-4dcc-dd77-9eb258701b0e"
      },
      "outputs": [
        {
          "data": {
            "text/plain": [
              "array(['city_0', 'city_1', 'city_2', 'city_3', 'city_4', 'city_5',\n",
              "       'city_6', 'city_7', 'city_8', 'city_9', 'city_10', 'city_11',\n",
              "       'city_12', 'city_13', 'city_14', 'city_15', 'city_16', 'city_17',\n",
              "       'city_18', 'city_19', 'city_20', 'city_21'], dtype=object)"
            ]
          },
          "execution_count": 23,
          "metadata": {},
          "output_type": "execute_result"
        }
      ],
      "source": [
        "stores.city.unique()"
      ]
    },
    {
      "attachments": {},
      "cell_type": "markdown",
      "metadata": {
        "id": "0qIQ4Vcm-8yF"
      },
      "source": [
        "**type**"
      ]
    },
    {
      "cell_type": "code",
      "execution_count": 24,
      "metadata": {
        "colab": {
          "base_uri": "https://localhost:8080/"
        },
        "id": "mkHa2RMC--vR",
        "outputId": "f7f2f127-bb3c-496c-eb7c-e6481bf5c4e5"
      },
      "outputs": [
        {
          "data": {
            "text/plain": [
              "array([0, 1, 2, 3, 4], dtype=int64)"
            ]
          },
          "execution_count": 24,
          "metadata": {},
          "output_type": "execute_result"
        }
      ],
      "source": [
        "stores.type.unique()"
      ]
    },
    {
      "cell_type": "code",
      "execution_count": 25,
      "metadata": {
        "id": "COckj6Bd_h0e"
      },
      "outputs": [],
      "source": [
        "# convert each store_type number to the corresponding store_type from a list of grocery_store_types\n",
        "stores.type = stores.type.apply(lambda x: 'store_'+ str(x))"
      ]
    },
    {
      "cell_type": "code",
      "execution_count": 26,
      "metadata": {
        "colab": {
          "base_uri": "https://localhost:8080/"
        },
        "id": "JDtCVODkAEkP",
        "outputId": "e5ebf335-399c-40de-d265-8866ebeb0d44"
      },
      "outputs": [
        {
          "data": {
            "text/plain": [
              "array(['store_0', 'store_1', 'store_2', 'store_3', 'store_4'],\n",
              "      dtype=object)"
            ]
          },
          "execution_count": 26,
          "metadata": {},
          "output_type": "execute_result"
        }
      ],
      "source": [
        "stores.type.unique()"
      ]
    },
    {
      "attachments": {},
      "cell_type": "markdown",
      "metadata": {
        "id": "D5TqopxkAf1r"
      },
      "source": [
        "**cluster**"
      ]
    },
    {
      "cell_type": "code",
      "execution_count": 27,
      "metadata": {
        "colab": {
          "base_uri": "https://localhost:8080/"
        },
        "id": "9dH8INMmAiBC",
        "outputId": "c6ae0316-2df6-4259-e3b8-4a59c3f988f2"
      },
      "outputs": [
        {
          "data": {
            "text/plain": [
              "array([ 0,  1,  2,  3,  4,  5,  6,  7,  8,  9, 10, 11, 12, 13, 14, 15, 16],\n",
              "      dtype=int64)"
            ]
          },
          "execution_count": 27,
          "metadata": {},
          "output_type": "execute_result"
        }
      ],
      "source": [
        "stores.cluster.unique()"
      ]
    },
    {
      "cell_type": "code",
      "execution_count": 28,
      "metadata": {
        "id": "1OM3bwR6BOyF"
      },
      "outputs": [],
      "source": [
        "# convert each cluster number to the corresponding cluster from a list of us_cities\n",
        "stores.cluster = stores.cluster.apply(lambda x: 'cluster_'+ str(x))"
      ]
    },
    {
      "cell_type": "code",
      "execution_count": 29,
      "metadata": {
        "colab": {
          "base_uri": "https://localhost:8080/"
        },
        "id": "kwik8MGXBuFp",
        "outputId": "b84a5c50-fbe3-4db7-9957-1e56c28da50b"
      },
      "outputs": [
        {
          "data": {
            "text/plain": [
              "array(['cluster_0', 'cluster_1', 'cluster_2', 'cluster_3', 'cluster_4',\n",
              "       'cluster_5', 'cluster_6', 'cluster_7', 'cluster_8', 'cluster_9',\n",
              "       'cluster_10', 'cluster_11', 'cluster_12', 'cluster_13',\n",
              "       'cluster_14', 'cluster_15', 'cluster_16'], dtype=object)"
            ]
          },
          "execution_count": 29,
          "metadata": {},
          "output_type": "execute_result"
        }
      ],
      "source": [
        "stores.cluster.unique()"
      ]
    },
    {
      "cell_type": "code",
      "execution_count": 30,
      "metadata": {
        "colab": {
          "base_uri": "https://localhost:8080/"
        },
        "id": "r5we9TFqwQel",
        "outputId": "066196f5-8c48-4de4-d1cf-e014f0d44dee"
      },
      "outputs": [
        {
          "data": {
            "text/plain": [
              "array([0, 4, 2, 5, 1, 3], dtype=int64)"
            ]
          },
          "execution_count": 30,
          "metadata": {},
          "output_type": "execute_result"
        }
      ],
      "source": [
        "holidays.type.unique()"
      ]
    },
    {
      "attachments": {},
      "cell_type": "markdown",
      "metadata": {
        "id": "TSbfsjQKByfc"
      },
      "source": [
        "2. The dayofyear column in our dates dataset ranges from 1 to 366. This will make some days fall on the wrong number \n",
        "\n",
        "Solution: find the sine and cosine of this column to represent the cyclic nature of a year. We can also include weather conditions, holidays and events to this."
      ]
    },
    {
      "cell_type": "code",
      "execution_count": 31,
      "metadata": {
        "colab": {
          "base_uri": "https://localhost:8080/"
        },
        "id": "05Z73hvCC2FN",
        "outputId": "c74e3b86-935c-4044-d9b8-a88ba23e6cd1"
      },
      "outputs": [
        {
          "name": "stdout",
          "output_type": "stream",
          "text": [
            "<class 'pandas.core.frame.DataFrame'>\n",
            "RangeIndex: 1320 entries, 0 to 1319\n",
            "Data columns (total 15 columns):\n",
            " #   Column            Non-Null Count  Dtype\n",
            "---  ------            --------------  -----\n",
            " 0   date              1320 non-null   int64\n",
            " 1   year              1320 non-null   int64\n",
            " 2   month             1320 non-null   int64\n",
            " 3   dayofmonth        1320 non-null   int64\n",
            " 4   dayofweek         1320 non-null   int64\n",
            " 5   dayofyear         1320 non-null   int64\n",
            " 6   weekofyear        1320 non-null   int64\n",
            " 7   quarter           1320 non-null   int64\n",
            " 8   is_month_start    1320 non-null   bool \n",
            " 9   is_month_end      1320 non-null   bool \n",
            " 10  is_quarter_start  1320 non-null   bool \n",
            " 11  is_quarter_end    1320 non-null   bool \n",
            " 12  is_year_start     1320 non-null   bool \n",
            " 13  is_year_end       1320 non-null   bool \n",
            " 14  year_weekofyear   1320 non-null   int64\n",
            "dtypes: bool(6), int64(9)\n",
            "memory usage: 100.7 KB\n"
          ]
        }
      ],
      "source": [
        "dates.info()"
      ]
    },
    {
      "cell_type": "code",
      "execution_count": 32,
      "metadata": {
        "id": "AJFpNxN1B5xJ"
      },
      "outputs": [],
      "source": [
        "# create new coolumns to represent the cyclic nature of a year\n",
        "dates[\"sin(dayofyear)\"] = np.sin(dates[\"dayofyear\"])\n",
        "dates[\"cos(dayofyear)\"] = np.cos(dates[\"dayofyear\"])"
      ]
    },
    {
      "cell_type": "code",
      "execution_count": 33,
      "metadata": {},
      "outputs": [],
      "source": [
        "def get_datetime(df):\n",
        "  # Create a new column combining the year, month, and day of the month in the desired format\n",
        "  df['date_extracted'] = (\n",
        "      dates['year'].astype(int).add(2000).astype(str) + '-' +\n",
        "      dates['month'].astype(str).str.zfill(2) + '-' +\n",
        "      dates['dayofmonth'].astype(str).str.zfill(2)\n",
        "  )\n",
        "\n",
        "get_datetime(dates)"
      ]
    },
    {
      "attachments": {},
      "cell_type": "markdown",
      "metadata": {
        "id": "vjFCEucJjUnj"
      },
      "source": [
        "### merging our data"
      ]
    },
    {
      "cell_type": "code",
      "execution_count": 34,
      "metadata": {},
      "outputs": [],
      "source": [
        "stores.rename(  # rename type to store_type to make it more descriptive\n",
        "      columns={'type': 'store_type'}, \n",
        "      inplace=True) \n",
        "holidays.rename(  # rename type to holiday_type to make it more descriptive\n",
        "      columns={'type': 'holiday_type'}, \n",
        "      inplace=True)\n",
        "# make each holiday type a string\n",
        "holidays['holiday_type'] = holidays['holiday_type'].apply(lambda x: 'holiday_' + str(x))"
      ]
    },
    {
      "cell_type": "code",
      "execution_count": 36,
      "metadata": {},
      "outputs": [],
      "source": [
        "#merging train and test with stores dataset\n",
        "\n",
        "def merge(df1, df2): \n",
        "    merged_df = df1.merge(df2, how='left', on='date')\n",
        "\n",
        "    return merged_df\n",
        "\n",
        "def merge_stores(df1, df2): \n",
        "    merged_df = df1.merge(df2, how='left', on='store_id')\n",
        "\n",
        "    return merged_df"
      ]
    },
    {
      "cell_type": "code",
      "execution_count": 37,
      "metadata": {},
      "outputs": [],
      "source": [
        "def get_is_holiday_column(df):\n",
        "  df['holiday_type'] = df['holiday_type'].fillna('Workday')\n",
        "\n",
        "  # create column to show if its a holiday or not (non-holidays are zeros)\n",
        "  df['is_holiday'] = df['holiday_type'].apply(\n",
        "      lambda x: False if x=='Workday'\n",
        "      else True)"
      ]
    },
    {
      "attachments": {},
      "cell_type": "markdown",
      "metadata": {
        "id": "3Ua6F_k68ZzQ"
      },
      "source": [
        "we did this so our non-holidays can be zeros"
      ]
    },
    {
      "attachments": {},
      "cell_type": "markdown",
      "metadata": {
        "id": "rEWAGxsV10J1"
      },
      "source": [
        "now we must merge holidays with the merged data"
      ]
    },
    {
      "attachments": {},
      "cell_type": "markdown",
      "metadata": {
        "id": "UNnEVhP063uD"
      },
      "source": [
        "since non-holidays are zeros, we don't want our ML Models to think that non-holidays(zeros) have an ordinal relationship with other holidays(1,2,3,4,) \n",
        "\n",
        "in other words, non-holidays(zeros) don't always come before holidays(1,2,3,4,)\n",
        "\n",
        "so, we must create a new column to show whether or not."
      ]
    },
    {
      "cell_type": "code",
      "execution_count": 38,
      "metadata": {},
      "outputs": [],
      "source": [
        "train_merged = merge_stores(train, stores)\n",
        "train_merged1 = merge(train_merged, holidays)\n",
        "get_is_holiday_column(train_merged1)\n",
        "train_merged2 = merge(train_merged1, dates)\n",
        "\n",
        "test_merged = merge_stores(test, stores)\n",
        "test_merged1 = merge(test_merged, holidays)\n",
        "get_is_holiday_column(test_merged1)\n",
        "test_merged2 = merge(test_merged1, dates)"
      ]
    },
    {
      "cell_type": "code",
      "execution_count": 39,
      "metadata": {},
      "outputs": [
        {
          "data": {
            "text/plain": [
              "array(['holiday_0', 'Workday', 'holiday_2', 'holiday_5', 'holiday_1',\n",
              "       'holiday_4', 'holiday_3'], dtype=object)"
            ]
          },
          "execution_count": 39,
          "metadata": {},
          "output_type": "execute_result"
        }
      ],
      "source": [
        "train_merged2['holiday_type'].unique()"
      ]
    },
    {
      "cell_type": "code",
      "execution_count": 40,
      "metadata": {},
      "outputs": [
        {
          "name": "stdout",
          "output_type": "stream",
          "text": [
            "['2003-02-29', '2003-02-29', '2003-02-29', '2003-02-29', '2003-02-29', '2003-02-29', '2003-02-29', '2003-02-29', '2003-02-29', '2003-02-29', '2003-02-29', '2003-02-29', '2003-02-29', '2003-02-29', '2003-02-29', '2003-02-29', '2003-02-29', '2003-02-29', '2003-02-29', '2003-02-29', '2003-02-29', '2003-02-29', '2003-02-29', '2003-02-29', '2003-02-29', '2003-02-29', '2003-02-29', '2003-02-29', '2003-02-29', '2003-02-29', '2003-02-29', '2003-02-29', '2003-02-29', '2003-02-29', '2003-02-29', '2003-02-29', '2003-02-29', '2003-02-29', '2003-02-29', '2003-02-29', '2003-02-29', '2003-02-29', '2003-02-29', '2003-02-29', '2003-02-29', '2003-02-29', '2003-02-29', '2003-02-29', '2003-02-29', '2003-02-29', '2003-02-29', '2003-02-29', '2003-02-29', '2003-02-29', '2003-02-29', '2003-02-29', '2003-02-29', '2003-02-29', '2003-02-29', '2003-02-29', '2003-02-29', '2003-02-29', '2003-02-29', '2003-02-29', '2003-02-29', '2003-02-29', '2003-02-29', '2003-02-29', '2003-02-29', '2003-02-29', '2003-02-29', '2003-02-29', '2003-02-29', '2003-02-29', '2003-02-29', '2003-02-29', '2003-02-29', '2003-02-29', '2003-02-29', '2003-02-29', '2003-02-29', '2003-02-29', '2003-02-29', '2003-02-29', '2003-02-29', '2003-02-29', '2003-02-29', '2003-02-29', '2003-02-29', '2003-02-29', '2003-02-29', '2003-02-29', '2003-02-29', '2003-02-29', '2003-02-29', '2003-02-29', '2003-02-29', '2003-02-29', '2003-02-29', '2003-02-29', '2003-02-29', '2003-02-29', '2003-02-29', '2003-02-29', '2003-02-29', '2003-02-29', '2003-02-29', '2003-02-29', '2003-02-29', '2003-02-29', '2003-02-29', '2003-02-29', '2003-02-29', '2003-02-29', '2003-02-29', '2003-02-29', '2003-02-29', '2003-02-29', '2003-02-29', '2003-02-29', '2003-02-29', '2003-02-29', '2003-02-29', '2003-02-29', '2003-02-29', '2003-02-29', '2003-02-29', '2003-02-29', '2003-02-29', '2003-02-29', '2003-02-29', '2003-02-29', '2003-02-29', '2003-02-29', '2003-02-29', '2003-02-29', '2003-02-29', '2003-02-29', '2003-02-29', '2003-02-29', '2003-02-29', '2003-02-29', '2003-02-29', '2003-02-29', '2003-02-29', '2003-02-29', '2003-02-29', '2003-02-29', '2003-02-29', '2003-02-29', '2003-02-29', '2003-02-29', '2003-02-29', '2003-02-29', '2003-02-29', '2003-02-29', '2003-02-29', '2003-02-29', '2003-02-29', '2003-02-29', '2003-02-29', '2003-02-29', '2003-02-29', '2003-02-29', '2003-02-29', '2003-02-29', '2003-02-29', '2003-02-29', '2003-02-29', '2003-02-29', '2003-02-29', '2003-02-29', '2003-02-29', '2003-02-29', '2003-02-29', '2003-02-29', '2003-02-29', '2003-02-29', '2003-02-29', '2003-02-29', '2003-02-29', '2003-02-29', '2003-02-29', '2003-02-29', '2003-02-29', '2003-02-29', '2003-02-29', '2003-02-29', '2003-02-29', '2003-02-29', '2003-02-29', '2003-02-29', '2003-02-29', '2003-02-29', '2003-02-29', '2003-02-29', '2003-02-29', '2003-02-29', '2003-02-29', '2003-02-29', '2003-02-29', '2003-02-29', '2003-02-29', '2003-02-29', '2003-02-29', '2003-02-29', '2003-02-29', '2003-02-29', '2003-02-29', '2003-02-29', '2003-02-29', '2003-02-29', '2003-02-29', '2003-02-29', '2003-02-29', '2003-02-29', '2003-02-29', '2003-02-29', '2003-02-29', '2003-02-29', '2003-02-29', '2003-02-29', '2003-02-29', '2003-02-29', '2003-02-29', '2003-02-29', '2003-02-29', '2003-02-29', '2003-02-29', '2003-02-29', '2003-02-29', '2003-02-29', '2003-02-29', '2003-02-29', '2003-02-29', '2003-02-29', '2003-02-29', '2003-02-29', '2003-02-29', '2003-02-29', '2003-02-29', '2003-02-29', '2003-02-29', '2003-02-29', '2003-02-29', '2003-02-29', '2003-02-29', '2003-02-29', '2003-02-29', '2003-02-29', '2003-02-29', '2003-02-29', '2003-02-29', '2003-02-29', '2003-02-29', '2003-02-29', '2003-02-29', '2003-02-29', '2003-02-29', '2003-02-29', '2003-02-29', '2003-02-29', '2003-02-29', '2003-02-29', '2003-02-29', '2003-02-29', '2003-02-29', '2003-02-29', '2003-02-29', '2003-02-29', '2003-02-29', '2003-02-29', '2003-02-29', '2003-02-29', '2003-02-29', '2003-02-29', '2003-02-29', '2003-02-29', '2003-02-29', '2003-02-29', '2003-02-29', '2003-02-29', '2003-02-29', '2003-02-29', '2003-02-29', '2003-02-29', '2003-02-29', '2003-02-29', '2003-02-29', '2003-02-29', '2003-02-29', '2003-02-29', '2003-02-29', '2003-02-29', '2003-02-29', '2003-02-29', '2003-02-29', '2003-02-29', '2003-02-29', '2003-02-29', '2003-02-29', '2003-02-29', '2003-02-29', '2003-02-29', '2003-02-29', '2003-02-29', '2003-02-29', '2003-02-29', '2003-02-29', '2003-02-29', '2003-02-29', '2003-02-29', '2003-02-29', '2003-02-29', '2003-02-29', '2003-02-29', '2003-02-29', '2003-02-29', '2003-02-29', '2003-02-29', '2003-02-29', '2003-02-29', '2003-02-29', '2003-02-29', '2003-02-29', '2003-02-29', '2003-02-29', '2003-02-29', '2003-02-29', '2003-02-29', '2003-02-29', '2003-02-29', '2003-02-29', '2003-02-29', '2003-02-29', '2003-02-29', '2003-02-29', '2003-02-29', '2003-02-29', '2003-02-29', '2003-02-29', '2003-02-29', '2003-02-29', '2003-02-29', '2003-02-29', '2003-02-29', '2003-02-29', '2003-02-29', '2003-02-29', '2003-02-29', '2003-02-29', '2003-02-29', '2003-02-29', '2003-02-29', '2003-02-29', '2003-02-29', '2003-02-29', '2003-02-29', '2003-02-29', '2003-02-29', '2003-02-29', '2003-02-29', '2003-02-29', '2003-02-29', '2003-02-29', '2003-02-29', '2003-02-29', '2003-02-29', '2003-02-29', '2003-02-29', '2003-02-29', '2003-02-29', '2003-02-29', '2003-02-29', '2003-02-29', '2003-02-29', '2003-02-29', '2003-02-29', '2003-02-29', '2003-02-29', '2003-02-29', '2003-02-29', '2003-02-29', '2003-02-29', '2003-02-29', '2003-02-29', '2003-02-29', '2003-02-29', '2003-02-29', '2003-02-29', '2003-02-29', '2003-02-29', '2003-02-29', '2003-02-29', '2003-02-29', '2003-02-29', '2003-02-29', '2003-02-29', '2003-02-29', '2003-02-29', '2003-02-29', '2003-02-29', '2003-02-29', '2003-02-29', '2003-02-29', '2003-02-29', '2003-02-29', '2003-02-29', '2003-02-29', '2003-02-29', '2003-02-29', '2003-02-29', '2003-02-29', '2003-02-29', '2003-02-29', '2003-02-29', '2003-02-29', '2003-02-29', '2003-02-29', '2003-02-29', '2003-02-29', '2003-02-29', '2003-02-29', '2003-02-29', '2003-02-29', '2003-02-29', '2003-02-29', '2003-02-29', '2003-02-29', '2003-02-29', '2003-02-29', '2003-02-29', '2003-02-29', '2003-02-29', '2003-02-29', '2003-02-29', '2003-02-29', '2003-02-29', '2003-02-29', '2003-02-29', '2003-02-29', '2003-02-29', '2003-02-29', '2003-02-29', '2003-02-29', '2003-02-29', '2003-02-29', '2003-02-29', '2003-02-29', '2003-02-29', '2003-02-29', '2003-02-29', '2003-02-29', '2003-02-29', '2003-02-29', '2003-02-29', '2003-02-29', '2003-02-29', '2003-02-29', '2003-02-29', '2003-02-29', '2003-02-29', '2003-02-29', '2003-02-29', '2003-02-29', '2003-02-29', '2003-02-29', '2003-02-29', '2003-02-29', '2003-02-29', '2003-02-29', '2003-02-29', '2003-02-29', '2003-02-29', '2003-02-29', '2003-02-29', '2003-02-29', '2003-02-29', '2003-02-29', '2003-02-29', '2003-02-29', '2003-02-29', '2003-02-29', '2003-02-29', '2003-02-29', '2003-02-29', '2003-02-29', '2003-02-29', '2003-02-29', '2003-02-29', '2003-02-29', '2003-02-29', '2003-02-29', '2003-02-29', '2003-02-29', '2003-02-29', '2003-02-29', '2003-02-29', '2003-02-29', '2003-02-29', '2003-02-29', '2003-02-29', '2003-02-29', '2003-02-29', '2003-02-29', '2003-02-29', '2003-02-29', '2003-02-29', '2003-02-29', '2003-02-29', '2003-02-29', '2003-02-29', '2003-02-29', '2003-02-29', '2003-02-29', '2003-02-29', '2003-02-29', '2003-02-29', '2003-02-29', '2003-02-29', '2003-02-29', '2003-02-29', '2003-02-29', '2003-02-29', '2003-02-29', '2003-02-29', '2003-02-29', '2003-02-29', '2003-02-29', '2003-02-29', '2003-02-29', '2003-02-29', '2003-02-29', '2003-02-29', '2003-02-29', '2003-02-29', '2003-02-29', '2003-02-29', '2003-02-29', '2003-02-29', '2003-02-29', '2003-02-29', '2003-02-29', '2003-02-29', '2003-02-29', '2003-02-29', '2003-02-29', '2003-02-29', '2003-02-29', '2003-02-29', '2003-02-29', '2003-02-29', '2003-02-29', '2003-02-29', '2003-02-29', '2003-02-29', '2003-02-29', '2003-02-29', '2003-02-29', '2003-02-29', '2003-02-29', '2003-02-29', '2003-02-29', '2003-02-29', '2003-02-29', '2003-02-29', '2003-02-29', '2003-02-29', '2003-02-29', '2003-02-29', '2003-02-29', '2003-02-29', '2003-02-29', '2003-02-29', '2003-02-29', '2003-02-29', '2003-02-29', '2003-02-29', '2003-02-29', '2003-02-29', '2003-02-29', '2003-02-29', '2003-02-29', '2003-02-29', '2003-02-29', '2003-02-29', '2003-02-29', '2003-02-29', '2003-02-29', '2003-02-29', '2003-02-29', '2003-02-29', '2003-02-29', '2003-02-29', '2003-02-29', '2003-02-29', '2003-02-29', '2003-02-29', '2003-02-29', '2003-02-29', '2003-02-29', '2003-02-29', '2003-02-29', '2003-02-29', '2003-02-29', '2003-02-29', '2003-02-29', '2003-02-29', '2003-02-29', '2003-02-29', '2003-02-29', '2003-02-29', '2003-02-29', '2003-02-29', '2003-02-29', '2003-02-29', '2003-02-29', '2003-02-29', '2003-02-29', '2003-02-29', '2003-02-29', '2003-02-29', '2003-02-29', '2003-02-29', '2003-02-29', '2003-02-29', '2003-02-29', '2003-02-29', '2003-02-29', '2003-02-29', '2003-02-29', '2003-02-29', '2003-02-29', '2003-02-29', '2003-02-29', '2003-02-29', '2003-02-29', '2003-02-29', '2003-02-29', '2003-02-29', '2003-02-29', '2003-02-29', '2003-02-29', '2003-02-29', '2003-02-29', '2003-02-29', '2003-02-29', '2003-02-29', '2003-02-29', '2003-02-29', '2003-02-29', '2003-02-29', '2003-02-29', '2003-02-29', '2003-02-29', '2003-02-29', '2003-02-29', '2003-02-29', '2003-02-29', '2003-02-29', '2003-02-29', '2003-02-29', '2003-02-29', '2003-02-29', '2003-02-29', '2003-02-29', '2003-02-29', '2003-02-29', '2003-02-29', '2003-02-29', '2003-02-29', '2003-02-29', '2003-02-29', '2003-02-29', '2003-02-29', '2003-02-29', '2003-02-29', '2003-02-29', '2003-02-29', '2003-02-29', '2003-02-29', '2003-02-29', '2003-02-29', '2003-02-29', '2003-02-29', '2003-02-29', '2003-02-29', '2003-02-29', '2003-02-29', '2003-02-29', '2003-02-29', '2003-02-29', '2003-02-29', '2003-02-29', '2003-02-29', '2003-02-29', '2003-02-29', '2003-02-29', '2003-02-29', '2003-02-29', '2003-02-29', '2003-02-29', '2003-02-29', '2003-02-29', '2003-02-29', '2003-02-29', '2003-02-29', '2003-02-29', '2003-02-29', '2003-02-29', '2003-02-29', '2003-02-29', '2003-02-29', '2003-02-29', '2003-02-29', '2003-02-29', '2003-02-29', '2003-02-29', '2003-02-29', '2003-02-29', '2003-02-29', '2003-02-29', '2003-02-29', '2003-02-29', '2003-02-29', '2003-02-29', '2003-02-29', '2003-02-29', '2003-02-29', '2003-02-29', '2003-02-29', '2003-02-29', '2003-02-29', '2003-02-29', '2003-02-29', '2003-02-29', '2003-02-29', '2003-02-29', '2003-02-29', '2003-02-29', '2003-02-29', '2003-02-29', '2003-02-29', '2003-02-29', '2003-02-29', '2003-02-29', '2003-02-29', '2003-02-29', '2003-02-29', '2003-02-29', '2003-02-29', '2003-02-29', '2003-02-29', '2003-02-29', '2003-02-29', '2003-02-29', '2003-02-29', '2003-02-29', '2003-02-29', '2003-02-29', '2003-02-29', '2003-02-29', '2003-02-29', '2003-02-29', '2003-02-29', '2003-02-29', '2003-02-29', '2003-02-29', '2003-02-29', '2003-02-29', '2003-02-29', '2003-02-29', '2003-02-29', '2003-02-29', '2003-02-29', '2003-02-29', '2003-02-29', '2003-02-29', '2003-02-29', '2003-02-29', '2003-02-29', '2003-02-29', '2003-02-29', '2003-02-29', '2003-02-29', '2003-02-29', '2003-02-29', '2003-02-29', '2003-02-29', '2003-02-29', '2003-02-29', '2003-02-29', '2003-02-29', '2003-02-29', '2003-02-29', '2003-02-29', '2003-02-29', '2003-02-29', '2003-02-29', '2003-02-29', '2003-02-29', '2003-02-29', '2003-02-29', '2003-02-29', '2003-02-29', '2003-02-29', '2003-02-29', '2003-02-29', '2003-02-29', '2003-02-29', '2003-02-29', '2003-02-29', '2003-02-29', '2003-02-29', '2003-02-29', '2003-02-29', '2003-02-29', '2003-02-29', '2003-02-29', '2003-02-29', '2003-02-29', '2003-02-29', '2003-02-29', '2003-02-29', '2003-02-29', '2003-02-29', '2003-02-29', '2003-02-29', '2003-02-29', '2003-02-29', '2003-02-29', '2003-02-29', '2003-02-29', '2003-02-29', '2003-02-29', '2003-02-29', '2003-02-29', '2003-02-29', '2003-02-29', '2003-02-29', '2003-02-29', '2003-02-29', '2003-02-29', '2003-02-29', '2003-02-29', '2003-02-29', '2003-02-29', '2003-02-29', '2003-02-29', '2003-02-29', '2003-02-29', '2003-02-29', '2003-02-29', '2003-02-29', '2003-02-29', '2003-02-29', '2003-02-29', '2003-02-29', '2003-02-29', '2003-02-29', '2003-02-29', '2003-02-29', '2003-02-29', '2003-02-29', '2003-02-29', '2003-02-29', '2003-02-29', '2003-02-29', '2003-02-29', '2003-02-29', '2003-02-29', '2003-02-29', '2003-02-29', '2003-02-29', '2003-02-29', '2003-02-29', '2003-02-29', '2003-02-29', '2003-02-29', '2003-02-29', '2003-02-29', '2003-02-29', '2003-02-29', '2003-02-29', '2003-02-29', '2003-02-29', '2003-02-29', '2003-02-29', '2003-02-29', '2003-02-29', '2003-02-29', '2003-02-29', '2003-02-29', '2003-02-29', '2003-02-29', '2003-02-29', '2003-02-29', '2003-02-29', '2003-02-29', '2003-02-29', '2003-02-29', '2003-02-29', '2003-02-29', '2003-02-29', '2003-02-29', '2003-02-29', '2003-02-29', '2003-02-29', '2003-02-29', '2003-02-29', '2003-02-29', '2003-02-29', '2003-02-29', '2003-02-29', '2003-02-29', '2003-02-29', '2003-02-29', '2003-02-29', '2003-02-29', '2003-02-29', '2003-02-29', '2003-02-29', '2003-02-29', '2003-02-29', '2003-02-29', '2003-02-29', '2003-02-29', '2003-02-29', '2003-02-29', '2003-02-29', '2003-02-29', '2003-02-29', '2003-02-29', '2003-02-29', '2003-02-29', '2003-02-29', '2003-02-29', '2003-02-29', '2003-02-29', '2003-02-29', '2003-02-29', '2003-02-29', '2003-02-29', '2003-02-29', '2003-02-29', '2003-02-29', '2003-02-29', '2003-02-29', '2003-02-29', '2003-02-29', '2003-02-29', '2003-02-29', '2003-02-29', '2003-02-29', '2003-02-29', '2003-02-29', '2003-02-29', '2003-02-29', '2003-02-29', '2003-02-29', '2003-02-29', '2003-02-29', '2003-02-29', '2003-02-29', '2003-02-29', '2003-02-29', '2003-02-29', '2003-02-29', '2003-02-29', '2003-02-29', '2003-02-29', '2003-02-29', '2003-02-29', '2003-02-29', '2003-02-29', '2003-02-29', '2003-02-29', '2003-02-29', '2003-02-29', '2003-02-29', '2003-02-29', '2003-02-29', '2003-02-29', '2003-02-29', '2003-02-29', '2003-02-29', '2003-02-29', '2003-02-29', '2003-02-29', '2003-02-29', '2003-02-29', '2003-02-29', '2003-02-29', '2003-02-29', '2003-02-29', '2003-02-29', '2003-02-29', '2003-02-29', '2003-02-29', '2003-02-29', '2003-02-29', '2003-02-29', '2003-02-29', '2003-02-29', '2003-02-29', '2003-02-29', '2003-02-29', '2003-02-29', '2003-02-29', '2003-02-29', '2003-02-29', '2003-02-29', '2003-02-29', '2003-02-29', '2003-02-29', '2003-02-29', '2003-02-29', '2003-02-29', '2003-02-29', '2003-02-29', '2003-02-29', '2003-02-29', '2003-02-29', '2003-02-29', '2003-02-29', '2003-02-29', '2003-02-29', '2003-02-29', '2003-02-29', '2003-02-29', '2003-02-29', '2003-02-29', '2003-02-29', '2003-02-29', '2003-02-29', '2003-02-29', '2003-02-29', '2003-02-29', '2003-02-29', '2003-02-29', '2003-02-29', '2003-02-29', '2003-02-29', '2003-02-29', '2003-02-29', '2003-02-29', '2003-02-29', '2003-02-29', '2003-02-29', '2003-02-29', '2003-02-29', '2003-02-29', '2003-02-29', '2003-02-29', '2003-02-29', '2003-02-29', '2003-02-29', '2003-02-29', '2003-02-29', '2003-02-29', '2003-02-29', '2003-02-29', '2003-02-29', '2003-02-29', '2003-02-29', '2003-02-29', '2003-02-29', '2003-02-29', '2003-02-29', '2003-02-29', '2003-02-29', '2003-02-29', '2003-02-29', '2003-02-29', '2003-02-29', '2003-02-29', '2003-02-29', '2003-02-29', '2003-02-29', '2003-02-29', '2003-02-29', '2003-02-29', '2003-02-29', '2003-02-29', '2003-02-29', '2003-02-29', '2003-02-29', '2003-02-29', '2003-02-29', '2003-02-29', '2003-02-29', '2003-02-29', '2003-02-29', '2003-02-29', '2003-02-29', '2003-02-29', '2003-02-29', '2003-02-29', '2003-02-29', '2003-02-29', '2003-02-29', '2003-02-29', '2003-02-29', '2003-02-29', '2003-02-29', '2003-02-29', '2003-02-29', '2003-02-29', '2003-02-29', '2003-02-29', '2003-02-29', '2003-02-29', '2003-02-29', '2003-02-29', '2003-02-29', '2003-02-29', '2003-02-29', '2003-02-29', '2003-02-29', '2003-02-29', '2003-02-29', '2003-02-29', '2003-02-29', '2003-02-29', '2003-02-29', '2003-02-29', '2003-02-29', '2003-02-29', '2003-02-29', '2003-02-29', '2003-02-29', '2003-02-29', '2003-02-29', '2003-02-29', '2003-02-29', '2003-02-29', '2003-02-29', '2003-02-29', '2003-02-29', '2003-02-29', '2003-02-29', '2003-02-29', '2003-02-29', '2003-02-29', '2003-02-29', '2003-02-29', '2003-02-29', '2003-02-29', '2003-02-29', '2003-02-29', '2003-02-29', '2003-02-29', '2003-02-29', '2003-02-29', '2003-02-29', '2003-02-29', '2003-02-29', '2003-02-29', '2003-02-29', '2003-02-29', '2003-02-29', '2003-02-29', '2003-02-29', '2003-02-29', '2003-02-29', '2003-02-29', '2003-02-29', '2003-02-29', '2003-02-29', '2003-02-29', '2003-02-29', '2003-02-29', '2003-02-29', '2003-02-29', '2003-02-29', '2003-02-29', '2003-02-29', '2003-02-29', '2003-02-29', '2003-02-29', '2003-02-29', '2003-02-29', '2003-02-29', '2003-02-29', '2003-02-29', '2003-02-29', '2003-02-29', '2003-02-29', '2003-02-29', '2003-02-29', '2003-02-29', '2003-02-29', '2003-02-29', '2003-02-29', '2003-02-29', '2003-02-29', '2003-02-29', '2003-02-29', '2003-02-29', '2003-02-29', '2003-02-29', '2003-02-29', '2003-02-29', '2003-02-29', '2003-02-29', '2003-02-29', '2003-02-29', '2003-02-29', '2003-02-29', '2003-02-29', '2003-02-29', '2003-02-29', '2003-02-29', '2003-02-29', '2003-02-29', '2003-02-29', '2003-02-29', '2003-02-29', '2003-02-29', '2003-02-29', '2003-02-29', '2003-02-29', '2003-02-29', '2003-02-29', '2003-02-29', '2003-02-29', '2003-02-29', '2003-02-29', '2003-02-29', '2003-02-29', '2003-02-29', '2003-02-29', '2003-02-29', '2003-02-29', '2003-02-29', '2003-02-29', '2003-02-29', '2003-02-29', '2003-02-29', '2003-02-29', '2003-02-29', '2003-02-29', '2003-02-29', '2003-02-29', '2003-02-29', '2003-02-29', '2003-02-29', '2003-02-29', '2003-02-29', '2003-02-29', '2003-02-29', '2003-02-29', '2003-02-29', '2003-02-29', '2003-02-29', '2003-02-29', '2003-02-29', '2003-02-29', '2003-02-29', '2003-02-29', '2003-02-29', '2003-02-29', '2003-02-29', '2003-02-29', '2003-02-29', '2003-02-29', '2003-02-29', '2003-02-29', '2003-02-29', '2003-02-29', '2003-02-29', '2003-02-29', '2003-02-29', '2003-02-29', '2003-02-29', '2003-02-29', '2003-02-29', '2003-02-29', '2003-02-29', '2003-02-29', '2003-02-29', '2003-02-29', '2003-02-29', '2003-02-29', '2003-02-29', '2003-02-29', '2003-02-29', '2003-02-29', '2003-02-29', '2003-02-29', '2003-02-29', '2003-02-29', '2003-02-29', '2003-02-29', '2003-02-29', '2003-02-29', '2003-02-29', '2003-02-29', '2003-02-29', '2003-02-29', '2003-02-29', '2003-02-29', '2003-02-29', '2003-02-29', '2003-02-29', '2003-02-29', '2003-02-29', '2003-02-29', '2003-02-29', '2003-02-29', '2003-02-29', '2003-02-29', '2003-02-29', '2003-02-29', '2003-02-29', '2003-02-29', '2003-02-29', '2003-02-29', '2003-02-29', '2003-02-29', '2003-02-29', '2003-02-29', '2003-02-29', '2003-02-29', '2003-02-29', '2003-02-29', '2003-02-29', '2003-02-29', '2003-02-29', '2003-02-29', '2003-02-29', '2003-02-29', '2003-02-29', '2003-02-29', '2003-02-29', '2003-02-29', '2003-02-29', '2003-02-29', '2003-02-29', '2003-02-29', '2003-02-29', '2003-02-29', '2003-02-29', '2003-02-29', '2003-02-29', '2003-02-29', '2003-02-29', '2003-02-29', '2003-02-29', '2003-02-29', '2003-02-29', '2003-02-29', '2003-02-29', '2003-02-29', '2003-02-29', '2003-02-29', '2003-02-29', '2003-02-29', '2003-02-29', '2003-02-29', '2003-02-29', '2003-02-29', '2003-02-29', '2003-02-29', '2003-02-29', '2003-02-29', '2003-02-29', '2003-02-29', '2003-02-29', '2003-02-29', '2003-02-29', '2003-02-29', '2003-02-29', '2003-02-29', '2003-02-29', '2003-02-29', '2003-02-29', '2003-02-29', '2003-02-29', '2003-02-29', '2003-02-29', '2003-02-29', '2003-02-29', '2003-02-29', '2003-02-29', '2003-02-29', '2003-02-29', '2003-02-29', '2003-02-29', '2003-02-29', '2003-02-29', '2003-02-29', '2003-02-29', '2003-02-29', '2003-02-29', '2003-02-29', '2003-02-29', '2003-02-29', '2003-02-29', '2003-02-29', '2003-02-29', '2003-02-29', '2003-02-29', '2003-02-29', '2003-02-29', '2003-02-29', '2003-02-29', '2003-02-29', '2003-02-29', '2003-02-29', '2003-02-29', '2003-02-29', '2003-02-29', '2003-02-29', '2003-02-29', '2003-02-29', '2003-02-29', '2003-02-29', '2003-02-29', '2003-02-29', '2003-02-29', '2003-02-29', '2003-02-29', '2003-02-29', '2003-02-29', '2003-02-29', '2003-02-29', '2003-02-29', '2003-02-29', '2003-02-29', '2003-02-29', '2003-02-29', '2003-02-29', '2003-02-29', '2003-02-29', '2003-02-29', '2003-02-29', '2003-02-29', '2003-02-29', '2003-02-29', '2003-02-29', '2003-02-29', '2003-02-29', '2003-02-29', '2003-02-29', '2003-02-29', '2003-02-29', '2003-02-29', '2003-02-29', '2003-02-29', '2003-02-29', '2003-02-29', '2003-02-29', '2003-02-29', '2003-02-29', '2003-02-29', '2003-02-29', '2003-02-29', '2003-02-29', '2003-02-29', '2003-02-29', '2003-02-29', '2003-02-29', '2003-02-29', '2003-02-29', '2003-02-29', '2003-02-29', '2003-02-29', '2003-02-29', '2003-02-29', '2003-02-29', '2003-02-29', '2003-02-29', '2003-02-29', '2003-02-29', '2003-02-29', '2003-02-29', '2003-02-29', '2003-02-29', '2003-02-29', '2003-02-29', '2003-02-29', '2003-02-29', '2003-02-29', '2003-02-29', '2003-02-29', '2003-02-29', '2003-02-29', '2003-02-29', '2003-02-29', '2003-02-29', '2003-02-29', '2003-02-29', '2003-02-29', '2003-02-29', '2003-02-29', '2003-02-29', '2003-02-29', '2003-02-29', '2003-02-29', '2003-02-29', '2003-02-29', '2003-02-29', '2003-02-29', '2003-02-29', '2003-02-29', '2003-02-29', '2003-02-29', '2003-02-29', '2003-02-29', '2003-02-29', '2003-02-29', '2003-02-29', '2003-02-29', '2003-02-29', '2003-02-29', '2003-02-29', '2003-02-29', '2003-02-29', '2003-02-29', '2003-02-29', '2003-02-29', '2003-02-29', '2003-02-29', '2003-02-29', '2003-02-29', '2003-02-29', '2003-02-29', '2003-02-29', '2003-02-29', '2003-02-29', '2003-02-29', '2003-02-29', '2003-02-29', '2003-02-29', '2003-02-29', '2003-02-29', '2003-02-29', '2003-02-29', '2003-02-29', '2003-02-29', '2003-02-29', '2003-02-29', '2003-02-29', '2003-02-29', '2003-02-29', '2003-02-29', '2003-02-29', '2003-02-29', '2003-02-29', '2003-02-29', '2003-02-29', '2003-02-29', '2003-02-29', '2003-02-29', '2003-02-29', '2003-02-29', '2003-02-29', '2003-02-29', '2003-02-29', '2003-02-29', '2003-02-29', '2003-02-29', '2003-02-29', '2003-02-29', '2003-02-29', '2003-02-29', '2003-02-29', '2003-02-29', '2003-02-29', '2003-02-29', '2003-02-29', '2003-02-29', '2003-02-29', '2003-02-29', '2003-02-29', '2003-02-29', '2003-02-29', '2003-02-29', '2003-02-29', '2003-02-29', '2003-02-29', '2003-02-29', '2003-02-29', '2003-02-29', '2003-02-29', '2003-02-29', '2003-02-29', '2003-02-29', '2003-02-29', '2003-02-29', '2003-02-29', '2003-02-29', '2003-02-29', '2003-02-29', '2003-02-29', '2003-02-29', '2003-02-29', '2003-02-29', '2003-02-29', '2003-02-29', '2003-02-29', '2003-02-29', '2003-02-29', '2003-02-29', '2003-02-29', '2003-02-29', '2003-02-29', '2003-02-29', '2003-02-29', '2003-02-29', '2003-02-29', '2003-02-29', '2003-02-29', '2003-02-29', '2003-02-29', '2003-02-29', '2003-02-29', '2003-02-29', '2003-02-29', '2003-02-29', '2003-02-29', '2003-02-29', '2003-02-29', '2003-02-29', '2003-02-29', '2003-02-29', '2003-02-29', '2003-02-29', '2003-02-29', '2003-02-29', '2003-02-29', '2003-02-29', '2003-02-29', '2003-02-29', '2003-02-29', '2003-02-29', '2003-02-29', '2003-02-29', '2003-02-29', '2003-02-29', '2003-02-29', '2003-02-29', '2003-02-29', '2003-02-29', '2003-02-29', '2003-02-29', '2003-02-29', '2003-02-29', '2003-02-29', '2003-02-29', '2003-02-29', '2003-02-29', '2003-02-29', '2003-02-29', '2003-02-29', '2003-02-29', '2003-02-29', '2003-02-29', '2003-02-29', '2003-02-29', '2003-02-29', '2003-02-29', '2003-02-29', '2003-02-29', '2003-02-29', '2003-02-29', '2003-02-29', '2003-02-29', '2003-02-29', '2003-02-29', '2003-02-29', '2003-02-29', '2003-02-29', '2003-02-29', '2003-02-29', '2003-02-29', '2003-02-29', '2003-02-29', '2003-02-29', '2003-02-29', '2003-02-29', '2003-02-29', '2003-02-29', '2003-02-29', '2003-02-29', '2003-02-29', '2003-02-29', '2003-02-29', '2003-02-29', '2003-02-29', '2003-02-29', '2003-02-29', '2003-02-29', '2003-02-29', '2003-02-29', '2003-02-29', '2003-02-29', '2003-02-29', '2003-02-29', '2003-02-29', '2003-02-29', '2003-02-29', '2003-02-29', '2003-02-29', '2003-02-29', '2003-02-29', '2003-02-29', '2003-02-29', '2003-02-29', '2003-02-29', '2003-02-29', '2003-02-29', '2003-02-29', '2003-02-29', '2003-02-29', '2003-02-29', '2003-02-29', '2003-02-29', '2003-02-29', '2003-02-29', '2003-02-29', '2003-02-29', '2003-02-29', '2003-02-29', '2003-02-29', '2003-02-29', '2003-02-29', '2003-02-29', '2003-02-29', '2003-02-29', '2003-02-29', '2003-02-29', '2003-02-29', '2003-02-29', '2003-02-29', '2003-02-29', '2003-02-29', '2003-02-29', '2003-02-29', '2003-02-29', '2003-02-29', '2003-02-29', '2003-02-29', '2003-02-29', '2003-02-29', '2003-02-29', '2003-02-29', '2003-02-29', '2003-02-29', '2003-02-29', '2003-02-29', '2003-02-29', '2003-02-29', '2003-02-29', '2003-02-29', '2003-02-29', '2003-02-29', '2003-02-29', '2003-02-29', '2003-02-29', '2003-02-29', '2003-02-29', '2003-02-29', '2003-02-29', '2003-02-29', '2003-02-29', '2003-02-29', '2003-02-29', '2003-02-29', '2003-02-29', '2003-02-29', '2003-02-29', '2003-02-29', '2003-02-29', '2003-02-29', '2003-02-29', '2003-02-29', '2003-02-29', '2003-02-29', '2003-02-29', '2003-02-29']\n",
            "['2003-02-29']\n"
          ]
        }
      ],
      "source": [
        "# Convert the column to datetime with errors='coerce'\n",
        "train_merged2['date_ext'] = pd.to_datetime(train_merged2['date_extracted'], errors='coerce')\n",
        "\n",
        "# Filter rows with NaT values and convert them to a list\n",
        "invalid_dates = train_merged2.loc[train_merged2['date_ext'].isna(), 'date_extracted'].tolist()\n",
        "\n",
        "print(invalid_dates) #get a list of invalid dates\n",
        "print(list(set(invalid_dates))) #unique invalid dates\n",
        "train_merged2.drop('date_ext', axis=1, inplace=True)"
      ]
    },
    {
      "attachments": {},
      "cell_type": "markdown",
      "metadata": {},
      "source": [
        "since the only invalid date is 2003-02-29, then when converting to datetime,\n",
        "\n",
        "we will first set invalid dates to NaT\n",
        "\n",
        "then fill them with 2003-02-29"
      ]
    },
    {
      "cell_type": "code",
      "execution_count": 41,
      "metadata": {},
      "outputs": [],
      "source": [
        "# create a function to check for missing extracted dates\n",
        "def get_missing_dates(df):\n",
        "  col = df['date_extracted']\n",
        "  missing_dates = (pd.date_range(\n",
        "      \n",
        "      start=col.min(), #start date\n",
        "      end=col.max())   #end_date\n",
        "      .difference(col))\n",
        "  print(f\"we have {len(missing_dates)} dates missing out of {len(col)}\")\n",
        "  return missing_dates"
      ]
    },
    {
      "cell_type": "code",
      "execution_count": 42,
      "metadata": {},
      "outputs": [
        {
          "name": "stdout",
          "output_type": "stream",
          "text": [
            "we have 1265 dates missing out of 2288088\n"
          ]
        }
      ],
      "source": [
        "missing_dates = get_missing_dates(train_merged2)"
      ]
    },
    {
      "attachments": {},
      "cell_type": "markdown",
      "metadata": {},
      "source": [
        "**cutoff**"
      ]
    },
    {
      "cell_type": "code",
      "execution_count": 43,
      "metadata": {},
      "outputs": [
        {
          "data": {
            "text/html": [
              "<div>\n",
              "<style scoped>\n",
              "    .dataframe tbody tr th:only-of-type {\n",
              "        vertical-align: middle;\n",
              "    }\n",
              "\n",
              "    .dataframe tbody tr th {\n",
              "        vertical-align: top;\n",
              "    }\n",
              "\n",
              "    .dataframe thead th {\n",
              "        text-align: right;\n",
              "    }\n",
              "</style>\n",
              "<table border=\"1\" class=\"dataframe\">\n",
              "  <thead>\n",
              "    <tr style=\"text-align: right;\">\n",
              "      <th></th>\n",
              "      <th>date</th>\n",
              "      <th>store_id</th>\n",
              "      <th>category_id</th>\n",
              "      <th>target</th>\n",
              "      <th>onpromotion</th>\n",
              "      <th>nbr_of_transactions</th>\n",
              "      <th>city</th>\n",
              "      <th>store_type</th>\n",
              "      <th>cluster</th>\n",
              "      <th>holiday_type</th>\n",
              "      <th>...</th>\n",
              "      <th>is_month_start</th>\n",
              "      <th>is_month_end</th>\n",
              "      <th>is_quarter_start</th>\n",
              "      <th>is_quarter_end</th>\n",
              "      <th>is_year_start</th>\n",
              "      <th>is_year_end</th>\n",
              "      <th>year_weekofyear</th>\n",
              "      <th>sin(dayofyear)</th>\n",
              "      <th>cos(dayofyear)</th>\n",
              "      <th>date_extracted</th>\n",
              "    </tr>\n",
              "  </thead>\n",
              "  <tbody>\n",
              "    <tr>\n",
              "      <th>0</th>\n",
              "      <td>365</td>\n",
              "      <td>store_1</td>\n",
              "      <td>category_24</td>\n",
              "      <td>0.0</td>\n",
              "      <td>0</td>\n",
              "      <td>0.0</td>\n",
              "      <td>city_0</td>\n",
              "      <td>store_0</td>\n",
              "      <td>cluster_0</td>\n",
              "      <td>holiday_0</td>\n",
              "      <td>...</td>\n",
              "      <td>True</td>\n",
              "      <td>False</td>\n",
              "      <td>True</td>\n",
              "      <td>False</td>\n",
              "      <td>True</td>\n",
              "      <td>False</td>\n",
              "      <td>101</td>\n",
              "      <td>0.841471</td>\n",
              "      <td>0.540302</td>\n",
              "      <td>2001-01-01</td>\n",
              "    </tr>\n",
              "    <tr>\n",
              "      <th>1</th>\n",
              "      <td>365</td>\n",
              "      <td>store_1</td>\n",
              "      <td>category_21</td>\n",
              "      <td>0.0</td>\n",
              "      <td>0</td>\n",
              "      <td>0.0</td>\n",
              "      <td>city_0</td>\n",
              "      <td>store_0</td>\n",
              "      <td>cluster_0</td>\n",
              "      <td>holiday_0</td>\n",
              "      <td>...</td>\n",
              "      <td>True</td>\n",
              "      <td>False</td>\n",
              "      <td>True</td>\n",
              "      <td>False</td>\n",
              "      <td>True</td>\n",
              "      <td>False</td>\n",
              "      <td>101</td>\n",
              "      <td>0.841471</td>\n",
              "      <td>0.540302</td>\n",
              "      <td>2001-01-01</td>\n",
              "    </tr>\n",
              "    <tr>\n",
              "      <th>2</th>\n",
              "      <td>365</td>\n",
              "      <td>store_1</td>\n",
              "      <td>category_32</td>\n",
              "      <td>0.0</td>\n",
              "      <td>0</td>\n",
              "      <td>0.0</td>\n",
              "      <td>city_0</td>\n",
              "      <td>store_0</td>\n",
              "      <td>cluster_0</td>\n",
              "      <td>holiday_0</td>\n",
              "      <td>...</td>\n",
              "      <td>True</td>\n",
              "      <td>False</td>\n",
              "      <td>True</td>\n",
              "      <td>False</td>\n",
              "      <td>True</td>\n",
              "      <td>False</td>\n",
              "      <td>101</td>\n",
              "      <td>0.841471</td>\n",
              "      <td>0.540302</td>\n",
              "      <td>2001-01-01</td>\n",
              "    </tr>\n",
              "    <tr>\n",
              "      <th>3</th>\n",
              "      <td>365</td>\n",
              "      <td>store_1</td>\n",
              "      <td>category_18</td>\n",
              "      <td>0.0</td>\n",
              "      <td>0</td>\n",
              "      <td>0.0</td>\n",
              "      <td>city_0</td>\n",
              "      <td>store_0</td>\n",
              "      <td>cluster_0</td>\n",
              "      <td>holiday_0</td>\n",
              "      <td>...</td>\n",
              "      <td>True</td>\n",
              "      <td>False</td>\n",
              "      <td>True</td>\n",
              "      <td>False</td>\n",
              "      <td>True</td>\n",
              "      <td>False</td>\n",
              "      <td>101</td>\n",
              "      <td>0.841471</td>\n",
              "      <td>0.540302</td>\n",
              "      <td>2001-01-01</td>\n",
              "    </tr>\n",
              "    <tr>\n",
              "      <th>4</th>\n",
              "      <td>365</td>\n",
              "      <td>store_1</td>\n",
              "      <td>category_26</td>\n",
              "      <td>0.0</td>\n",
              "      <td>0</td>\n",
              "      <td>0.0</td>\n",
              "      <td>city_0</td>\n",
              "      <td>store_0</td>\n",
              "      <td>cluster_0</td>\n",
              "      <td>holiday_0</td>\n",
              "      <td>...</td>\n",
              "      <td>True</td>\n",
              "      <td>False</td>\n",
              "      <td>True</td>\n",
              "      <td>False</td>\n",
              "      <td>True</td>\n",
              "      <td>False</td>\n",
              "      <td>101</td>\n",
              "      <td>0.841471</td>\n",
              "      <td>0.540302</td>\n",
              "      <td>2001-01-01</td>\n",
              "    </tr>\n",
              "    <tr>\n",
              "      <th>5</th>\n",
              "      <td>365</td>\n",
              "      <td>store_1</td>\n",
              "      <td>category_17</td>\n",
              "      <td>0.0</td>\n",
              "      <td>0</td>\n",
              "      <td>0.0</td>\n",
              "      <td>city_0</td>\n",
              "      <td>store_0</td>\n",
              "      <td>cluster_0</td>\n",
              "      <td>holiday_0</td>\n",
              "      <td>...</td>\n",
              "      <td>True</td>\n",
              "      <td>False</td>\n",
              "      <td>True</td>\n",
              "      <td>False</td>\n",
              "      <td>True</td>\n",
              "      <td>False</td>\n",
              "      <td>101</td>\n",
              "      <td>0.841471</td>\n",
              "      <td>0.540302</td>\n",
              "      <td>2001-01-01</td>\n",
              "    </tr>\n",
              "    <tr>\n",
              "      <th>6</th>\n",
              "      <td>365</td>\n",
              "      <td>store_1</td>\n",
              "      <td>category_3</td>\n",
              "      <td>0.0</td>\n",
              "      <td>0</td>\n",
              "      <td>0.0</td>\n",
              "      <td>city_0</td>\n",
              "      <td>store_0</td>\n",
              "      <td>cluster_0</td>\n",
              "      <td>holiday_0</td>\n",
              "      <td>...</td>\n",
              "      <td>True</td>\n",
              "      <td>False</td>\n",
              "      <td>True</td>\n",
              "      <td>False</td>\n",
              "      <td>True</td>\n",
              "      <td>False</td>\n",
              "      <td>101</td>\n",
              "      <td>0.841471</td>\n",
              "      <td>0.540302</td>\n",
              "      <td>2001-01-01</td>\n",
              "    </tr>\n",
              "    <tr>\n",
              "      <th>7</th>\n",
              "      <td>365</td>\n",
              "      <td>store_1</td>\n",
              "      <td>category_9</td>\n",
              "      <td>0.0</td>\n",
              "      <td>0</td>\n",
              "      <td>0.0</td>\n",
              "      <td>city_0</td>\n",
              "      <td>store_0</td>\n",
              "      <td>cluster_0</td>\n",
              "      <td>holiday_0</td>\n",
              "      <td>...</td>\n",
              "      <td>True</td>\n",
              "      <td>False</td>\n",
              "      <td>True</td>\n",
              "      <td>False</td>\n",
              "      <td>True</td>\n",
              "      <td>False</td>\n",
              "      <td>101</td>\n",
              "      <td>0.841471</td>\n",
              "      <td>0.540302</td>\n",
              "      <td>2001-01-01</td>\n",
              "    </tr>\n",
              "    <tr>\n",
              "      <th>8</th>\n",
              "      <td>365</td>\n",
              "      <td>store_1</td>\n",
              "      <td>category_14</td>\n",
              "      <td>0.0</td>\n",
              "      <td>0</td>\n",
              "      <td>0.0</td>\n",
              "      <td>city_0</td>\n",
              "      <td>store_0</td>\n",
              "      <td>cluster_0</td>\n",
              "      <td>holiday_0</td>\n",
              "      <td>...</td>\n",
              "      <td>True</td>\n",
              "      <td>False</td>\n",
              "      <td>True</td>\n",
              "      <td>False</td>\n",
              "      <td>True</td>\n",
              "      <td>False</td>\n",
              "      <td>101</td>\n",
              "      <td>0.841471</td>\n",
              "      <td>0.540302</td>\n",
              "      <td>2001-01-01</td>\n",
              "    </tr>\n",
              "    <tr>\n",
              "      <th>9</th>\n",
              "      <td>365</td>\n",
              "      <td>store_1</td>\n",
              "      <td>category_4</td>\n",
              "      <td>0.0</td>\n",
              "      <td>0</td>\n",
              "      <td>0.0</td>\n",
              "      <td>city_0</td>\n",
              "      <td>store_0</td>\n",
              "      <td>cluster_0</td>\n",
              "      <td>holiday_0</td>\n",
              "      <td>...</td>\n",
              "      <td>True</td>\n",
              "      <td>False</td>\n",
              "      <td>True</td>\n",
              "      <td>False</td>\n",
              "      <td>True</td>\n",
              "      <td>False</td>\n",
              "      <td>101</td>\n",
              "      <td>0.841471</td>\n",
              "      <td>0.540302</td>\n",
              "      <td>2001-01-01</td>\n",
              "    </tr>\n",
              "    <tr>\n",
              "      <th>10</th>\n",
              "      <td>365</td>\n",
              "      <td>store_1</td>\n",
              "      <td>category_16</td>\n",
              "      <td>0.0</td>\n",
              "      <td>0</td>\n",
              "      <td>0.0</td>\n",
              "      <td>city_0</td>\n",
              "      <td>store_0</td>\n",
              "      <td>cluster_0</td>\n",
              "      <td>holiday_0</td>\n",
              "      <td>...</td>\n",
              "      <td>True</td>\n",
              "      <td>False</td>\n",
              "      <td>True</td>\n",
              "      <td>False</td>\n",
              "      <td>True</td>\n",
              "      <td>False</td>\n",
              "      <td>101</td>\n",
              "      <td>0.841471</td>\n",
              "      <td>0.540302</td>\n",
              "      <td>2001-01-01</td>\n",
              "    </tr>\n",
              "    <tr>\n",
              "      <th>11</th>\n",
              "      <td>365</td>\n",
              "      <td>store_1</td>\n",
              "      <td>category_19</td>\n",
              "      <td>0.0</td>\n",
              "      <td>0</td>\n",
              "      <td>0.0</td>\n",
              "      <td>city_0</td>\n",
              "      <td>store_0</td>\n",
              "      <td>cluster_0</td>\n",
              "      <td>holiday_0</td>\n",
              "      <td>...</td>\n",
              "      <td>True</td>\n",
              "      <td>False</td>\n",
              "      <td>True</td>\n",
              "      <td>False</td>\n",
              "      <td>True</td>\n",
              "      <td>False</td>\n",
              "      <td>101</td>\n",
              "      <td>0.841471</td>\n",
              "      <td>0.540302</td>\n",
              "      <td>2001-01-01</td>\n",
              "    </tr>\n",
              "    <tr>\n",
              "      <th>12</th>\n",
              "      <td>365</td>\n",
              "      <td>store_1</td>\n",
              "      <td>category_7</td>\n",
              "      <td>0.0</td>\n",
              "      <td>0</td>\n",
              "      <td>0.0</td>\n",
              "      <td>city_0</td>\n",
              "      <td>store_0</td>\n",
              "      <td>cluster_0</td>\n",
              "      <td>holiday_0</td>\n",
              "      <td>...</td>\n",
              "      <td>True</td>\n",
              "      <td>False</td>\n",
              "      <td>True</td>\n",
              "      <td>False</td>\n",
              "      <td>True</td>\n",
              "      <td>False</td>\n",
              "      <td>101</td>\n",
              "      <td>0.841471</td>\n",
              "      <td>0.540302</td>\n",
              "      <td>2001-01-01</td>\n",
              "    </tr>\n",
              "    <tr>\n",
              "      <th>13</th>\n",
              "      <td>365</td>\n",
              "      <td>store_1</td>\n",
              "      <td>category_27</td>\n",
              "      <td>0.0</td>\n",
              "      <td>0</td>\n",
              "      <td>0.0</td>\n",
              "      <td>city_0</td>\n",
              "      <td>store_0</td>\n",
              "      <td>cluster_0</td>\n",
              "      <td>holiday_0</td>\n",
              "      <td>...</td>\n",
              "      <td>True</td>\n",
              "      <td>False</td>\n",
              "      <td>True</td>\n",
              "      <td>False</td>\n",
              "      <td>True</td>\n",
              "      <td>False</td>\n",
              "      <td>101</td>\n",
              "      <td>0.841471</td>\n",
              "      <td>0.540302</td>\n",
              "      <td>2001-01-01</td>\n",
              "    </tr>\n",
              "    <tr>\n",
              "      <th>14</th>\n",
              "      <td>365</td>\n",
              "      <td>store_1</td>\n",
              "      <td>category_1</td>\n",
              "      <td>0.0</td>\n",
              "      <td>0</td>\n",
              "      <td>0.0</td>\n",
              "      <td>city_0</td>\n",
              "      <td>store_0</td>\n",
              "      <td>cluster_0</td>\n",
              "      <td>holiday_0</td>\n",
              "      <td>...</td>\n",
              "      <td>True</td>\n",
              "      <td>False</td>\n",
              "      <td>True</td>\n",
              "      <td>False</td>\n",
              "      <td>True</td>\n",
              "      <td>False</td>\n",
              "      <td>101</td>\n",
              "      <td>0.841471</td>\n",
              "      <td>0.540302</td>\n",
              "      <td>2001-01-01</td>\n",
              "    </tr>\n",
              "    <tr>\n",
              "      <th>15</th>\n",
              "      <td>365</td>\n",
              "      <td>store_1</td>\n",
              "      <td>category_0</td>\n",
              "      <td>0.0</td>\n",
              "      <td>0</td>\n",
              "      <td>0.0</td>\n",
              "      <td>city_0</td>\n",
              "      <td>store_0</td>\n",
              "      <td>cluster_0</td>\n",
              "      <td>holiday_0</td>\n",
              "      <td>...</td>\n",
              "      <td>True</td>\n",
              "      <td>False</td>\n",
              "      <td>True</td>\n",
              "      <td>False</td>\n",
              "      <td>True</td>\n",
              "      <td>False</td>\n",
              "      <td>101</td>\n",
              "      <td>0.841471</td>\n",
              "      <td>0.540302</td>\n",
              "      <td>2001-01-01</td>\n",
              "    </tr>\n",
              "    <tr>\n",
              "      <th>16</th>\n",
              "      <td>365</td>\n",
              "      <td>store_1</td>\n",
              "      <td>category_28</td>\n",
              "      <td>0.0</td>\n",
              "      <td>0</td>\n",
              "      <td>0.0</td>\n",
              "      <td>city_0</td>\n",
              "      <td>store_0</td>\n",
              "      <td>cluster_0</td>\n",
              "      <td>holiday_0</td>\n",
              "      <td>...</td>\n",
              "      <td>True</td>\n",
              "      <td>False</td>\n",
              "      <td>True</td>\n",
              "      <td>False</td>\n",
              "      <td>True</td>\n",
              "      <td>False</td>\n",
              "      <td>101</td>\n",
              "      <td>0.841471</td>\n",
              "      <td>0.540302</td>\n",
              "      <td>2001-01-01</td>\n",
              "    </tr>\n",
              "    <tr>\n",
              "      <th>17</th>\n",
              "      <td>365</td>\n",
              "      <td>store_1</td>\n",
              "      <td>category_5</td>\n",
              "      <td>0.0</td>\n",
              "      <td>0</td>\n",
              "      <td>0.0</td>\n",
              "      <td>city_0</td>\n",
              "      <td>store_0</td>\n",
              "      <td>cluster_0</td>\n",
              "      <td>holiday_0</td>\n",
              "      <td>...</td>\n",
              "      <td>True</td>\n",
              "      <td>False</td>\n",
              "      <td>True</td>\n",
              "      <td>False</td>\n",
              "      <td>True</td>\n",
              "      <td>False</td>\n",
              "      <td>101</td>\n",
              "      <td>0.841471</td>\n",
              "      <td>0.540302</td>\n",
              "      <td>2001-01-01</td>\n",
              "    </tr>\n",
              "    <tr>\n",
              "      <th>18</th>\n",
              "      <td>365</td>\n",
              "      <td>store_1</td>\n",
              "      <td>category_31</td>\n",
              "      <td>0.0</td>\n",
              "      <td>0</td>\n",
              "      <td>0.0</td>\n",
              "      <td>city_0</td>\n",
              "      <td>store_0</td>\n",
              "      <td>cluster_0</td>\n",
              "      <td>holiday_0</td>\n",
              "      <td>...</td>\n",
              "      <td>True</td>\n",
              "      <td>False</td>\n",
              "      <td>True</td>\n",
              "      <td>False</td>\n",
              "      <td>True</td>\n",
              "      <td>False</td>\n",
              "      <td>101</td>\n",
              "      <td>0.841471</td>\n",
              "      <td>0.540302</td>\n",
              "      <td>2001-01-01</td>\n",
              "    </tr>\n",
              "    <tr>\n",
              "      <th>19</th>\n",
              "      <td>365</td>\n",
              "      <td>store_1</td>\n",
              "      <td>category_2</td>\n",
              "      <td>0.0</td>\n",
              "      <td>0</td>\n",
              "      <td>0.0</td>\n",
              "      <td>city_0</td>\n",
              "      <td>store_0</td>\n",
              "      <td>cluster_0</td>\n",
              "      <td>holiday_0</td>\n",
              "      <td>...</td>\n",
              "      <td>True</td>\n",
              "      <td>False</td>\n",
              "      <td>True</td>\n",
              "      <td>False</td>\n",
              "      <td>True</td>\n",
              "      <td>False</td>\n",
              "      <td>101</td>\n",
              "      <td>0.841471</td>\n",
              "      <td>0.540302</td>\n",
              "      <td>2001-01-01</td>\n",
              "    </tr>\n",
              "    <tr>\n",
              "      <th>20</th>\n",
              "      <td>365</td>\n",
              "      <td>store_1</td>\n",
              "      <td>category_25</td>\n",
              "      <td>0.0</td>\n",
              "      <td>0</td>\n",
              "      <td>0.0</td>\n",
              "      <td>city_0</td>\n",
              "      <td>store_0</td>\n",
              "      <td>cluster_0</td>\n",
              "      <td>holiday_0</td>\n",
              "      <td>...</td>\n",
              "      <td>True</td>\n",
              "      <td>False</td>\n",
              "      <td>True</td>\n",
              "      <td>False</td>\n",
              "      <td>True</td>\n",
              "      <td>False</td>\n",
              "      <td>101</td>\n",
              "      <td>0.841471</td>\n",
              "      <td>0.540302</td>\n",
              "      <td>2001-01-01</td>\n",
              "    </tr>\n",
              "    <tr>\n",
              "      <th>21</th>\n",
              "      <td>365</td>\n",
              "      <td>store_1</td>\n",
              "      <td>category_22</td>\n",
              "      <td>0.0</td>\n",
              "      <td>0</td>\n",
              "      <td>0.0</td>\n",
              "      <td>city_0</td>\n",
              "      <td>store_0</td>\n",
              "      <td>cluster_0</td>\n",
              "      <td>holiday_0</td>\n",
              "      <td>...</td>\n",
              "      <td>True</td>\n",
              "      <td>False</td>\n",
              "      <td>True</td>\n",
              "      <td>False</td>\n",
              "      <td>True</td>\n",
              "      <td>False</td>\n",
              "      <td>101</td>\n",
              "      <td>0.841471</td>\n",
              "      <td>0.540302</td>\n",
              "      <td>2001-01-01</td>\n",
              "    </tr>\n",
              "    <tr>\n",
              "      <th>22</th>\n",
              "      <td>365</td>\n",
              "      <td>store_1</td>\n",
              "      <td>category_8</td>\n",
              "      <td>0.0</td>\n",
              "      <td>0</td>\n",
              "      <td>0.0</td>\n",
              "      <td>city_0</td>\n",
              "      <td>store_0</td>\n",
              "      <td>cluster_0</td>\n",
              "      <td>holiday_0</td>\n",
              "      <td>...</td>\n",
              "      <td>True</td>\n",
              "      <td>False</td>\n",
              "      <td>True</td>\n",
              "      <td>False</td>\n",
              "      <td>True</td>\n",
              "      <td>False</td>\n",
              "      <td>101</td>\n",
              "      <td>0.841471</td>\n",
              "      <td>0.540302</td>\n",
              "      <td>2001-01-01</td>\n",
              "    </tr>\n",
              "    <tr>\n",
              "      <th>23</th>\n",
              "      <td>365</td>\n",
              "      <td>store_1</td>\n",
              "      <td>category_6</td>\n",
              "      <td>0.0</td>\n",
              "      <td>0</td>\n",
              "      <td>0.0</td>\n",
              "      <td>city_0</td>\n",
              "      <td>store_0</td>\n",
              "      <td>cluster_0</td>\n",
              "      <td>holiday_0</td>\n",
              "      <td>...</td>\n",
              "      <td>True</td>\n",
              "      <td>False</td>\n",
              "      <td>True</td>\n",
              "      <td>False</td>\n",
              "      <td>True</td>\n",
              "      <td>False</td>\n",
              "      <td>101</td>\n",
              "      <td>0.841471</td>\n",
              "      <td>0.540302</td>\n",
              "      <td>2001-01-01</td>\n",
              "    </tr>\n",
              "    <tr>\n",
              "      <th>24</th>\n",
              "      <td>365</td>\n",
              "      <td>store_1</td>\n",
              "      <td>category_12</td>\n",
              "      <td>0.0</td>\n",
              "      <td>0</td>\n",
              "      <td>0.0</td>\n",
              "      <td>city_0</td>\n",
              "      <td>store_0</td>\n",
              "      <td>cluster_0</td>\n",
              "      <td>holiday_0</td>\n",
              "      <td>...</td>\n",
              "      <td>True</td>\n",
              "      <td>False</td>\n",
              "      <td>True</td>\n",
              "      <td>False</td>\n",
              "      <td>True</td>\n",
              "      <td>False</td>\n",
              "      <td>101</td>\n",
              "      <td>0.841471</td>\n",
              "      <td>0.540302</td>\n",
              "      <td>2001-01-01</td>\n",
              "    </tr>\n",
              "    <tr>\n",
              "      <th>25</th>\n",
              "      <td>365</td>\n",
              "      <td>store_1</td>\n",
              "      <td>category_13</td>\n",
              "      <td>0.0</td>\n",
              "      <td>0</td>\n",
              "      <td>0.0</td>\n",
              "      <td>city_0</td>\n",
              "      <td>store_0</td>\n",
              "      <td>cluster_0</td>\n",
              "      <td>holiday_0</td>\n",
              "      <td>...</td>\n",
              "      <td>True</td>\n",
              "      <td>False</td>\n",
              "      <td>True</td>\n",
              "      <td>False</td>\n",
              "      <td>True</td>\n",
              "      <td>False</td>\n",
              "      <td>101</td>\n",
              "      <td>0.841471</td>\n",
              "      <td>0.540302</td>\n",
              "      <td>2001-01-01</td>\n",
              "    </tr>\n",
              "    <tr>\n",
              "      <th>26</th>\n",
              "      <td>365</td>\n",
              "      <td>store_1</td>\n",
              "      <td>category_11</td>\n",
              "      <td>0.0</td>\n",
              "      <td>0</td>\n",
              "      <td>0.0</td>\n",
              "      <td>city_0</td>\n",
              "      <td>store_0</td>\n",
              "      <td>cluster_0</td>\n",
              "      <td>holiday_0</td>\n",
              "      <td>...</td>\n",
              "      <td>True</td>\n",
              "      <td>False</td>\n",
              "      <td>True</td>\n",
              "      <td>False</td>\n",
              "      <td>True</td>\n",
              "      <td>False</td>\n",
              "      <td>101</td>\n",
              "      <td>0.841471</td>\n",
              "      <td>0.540302</td>\n",
              "      <td>2001-01-01</td>\n",
              "    </tr>\n",
              "    <tr>\n",
              "      <th>27</th>\n",
              "      <td>365</td>\n",
              "      <td>store_1</td>\n",
              "      <td>category_30</td>\n",
              "      <td>0.0</td>\n",
              "      <td>0</td>\n",
              "      <td>0.0</td>\n",
              "      <td>city_0</td>\n",
              "      <td>store_0</td>\n",
              "      <td>cluster_0</td>\n",
              "      <td>holiday_0</td>\n",
              "      <td>...</td>\n",
              "      <td>True</td>\n",
              "      <td>False</td>\n",
              "      <td>True</td>\n",
              "      <td>False</td>\n",
              "      <td>True</td>\n",
              "      <td>False</td>\n",
              "      <td>101</td>\n",
              "      <td>0.841471</td>\n",
              "      <td>0.540302</td>\n",
              "      <td>2001-01-01</td>\n",
              "    </tr>\n",
              "    <tr>\n",
              "      <th>28</th>\n",
              "      <td>365</td>\n",
              "      <td>store_1</td>\n",
              "      <td>category_23</td>\n",
              "      <td>0.0</td>\n",
              "      <td>0</td>\n",
              "      <td>0.0</td>\n",
              "      <td>city_0</td>\n",
              "      <td>store_0</td>\n",
              "      <td>cluster_0</td>\n",
              "      <td>holiday_0</td>\n",
              "      <td>...</td>\n",
              "      <td>True</td>\n",
              "      <td>False</td>\n",
              "      <td>True</td>\n",
              "      <td>False</td>\n",
              "      <td>True</td>\n",
              "      <td>False</td>\n",
              "      <td>101</td>\n",
              "      <td>0.841471</td>\n",
              "      <td>0.540302</td>\n",
              "      <td>2001-01-01</td>\n",
              "    </tr>\n",
              "    <tr>\n",
              "      <th>29</th>\n",
              "      <td>365</td>\n",
              "      <td>store_1</td>\n",
              "      <td>category_20</td>\n",
              "      <td>0.0</td>\n",
              "      <td>0</td>\n",
              "      <td>0.0</td>\n",
              "      <td>city_0</td>\n",
              "      <td>store_0</td>\n",
              "      <td>cluster_0</td>\n",
              "      <td>holiday_0</td>\n",
              "      <td>...</td>\n",
              "      <td>True</td>\n",
              "      <td>False</td>\n",
              "      <td>True</td>\n",
              "      <td>False</td>\n",
              "      <td>True</td>\n",
              "      <td>False</td>\n",
              "      <td>101</td>\n",
              "      <td>0.841471</td>\n",
              "      <td>0.540302</td>\n",
              "      <td>2001-01-01</td>\n",
              "    </tr>\n",
              "    <tr>\n",
              "      <th>30</th>\n",
              "      <td>365</td>\n",
              "      <td>store_1</td>\n",
              "      <td>category_15</td>\n",
              "      <td>0.0</td>\n",
              "      <td>0</td>\n",
              "      <td>0.0</td>\n",
              "      <td>city_0</td>\n",
              "      <td>store_0</td>\n",
              "      <td>cluster_0</td>\n",
              "      <td>holiday_0</td>\n",
              "      <td>...</td>\n",
              "      <td>True</td>\n",
              "      <td>False</td>\n",
              "      <td>True</td>\n",
              "      <td>False</td>\n",
              "      <td>True</td>\n",
              "      <td>False</td>\n",
              "      <td>101</td>\n",
              "      <td>0.841471</td>\n",
              "      <td>0.540302</td>\n",
              "      <td>2001-01-01</td>\n",
              "    </tr>\n",
              "    <tr>\n",
              "      <th>31</th>\n",
              "      <td>365</td>\n",
              "      <td>store_1</td>\n",
              "      <td>category_29</td>\n",
              "      <td>0.0</td>\n",
              "      <td>0</td>\n",
              "      <td>0.0</td>\n",
              "      <td>city_0</td>\n",
              "      <td>store_0</td>\n",
              "      <td>cluster_0</td>\n",
              "      <td>holiday_0</td>\n",
              "      <td>...</td>\n",
              "      <td>True</td>\n",
              "      <td>False</td>\n",
              "      <td>True</td>\n",
              "      <td>False</td>\n",
              "      <td>True</td>\n",
              "      <td>False</td>\n",
              "      <td>101</td>\n",
              "      <td>0.841471</td>\n",
              "      <td>0.540302</td>\n",
              "      <td>2001-01-01</td>\n",
              "    </tr>\n",
              "    <tr>\n",
              "      <th>32</th>\n",
              "      <td>365</td>\n",
              "      <td>store_1</td>\n",
              "      <td>category_10</td>\n",
              "      <td>0.0</td>\n",
              "      <td>0</td>\n",
              "      <td>0.0</td>\n",
              "      <td>city_0</td>\n",
              "      <td>store_0</td>\n",
              "      <td>cluster_0</td>\n",
              "      <td>holiday_0</td>\n",
              "      <td>...</td>\n",
              "      <td>True</td>\n",
              "      <td>False</td>\n",
              "      <td>True</td>\n",
              "      <td>False</td>\n",
              "      <td>True</td>\n",
              "      <td>False</td>\n",
              "      <td>101</td>\n",
              "      <td>0.841471</td>\n",
              "      <td>0.540302</td>\n",
              "      <td>2001-01-01</td>\n",
              "    </tr>\n",
              "    <tr>\n",
              "      <th>33</th>\n",
              "      <td>365</td>\n",
              "      <td>store_10</td>\n",
              "      <td>category_24</td>\n",
              "      <td>0.0</td>\n",
              "      <td>0</td>\n",
              "      <td>0.0</td>\n",
              "      <td>city_0</td>\n",
              "      <td>store_2</td>\n",
              "      <td>cluster_5</td>\n",
              "      <td>holiday_0</td>\n",
              "      <td>...</td>\n",
              "      <td>True</td>\n",
              "      <td>False</td>\n",
              "      <td>True</td>\n",
              "      <td>False</td>\n",
              "      <td>True</td>\n",
              "      <td>False</td>\n",
              "      <td>101</td>\n",
              "      <td>0.841471</td>\n",
              "      <td>0.540302</td>\n",
              "      <td>2001-01-01</td>\n",
              "    </tr>\n",
              "    <tr>\n",
              "      <th>34</th>\n",
              "      <td>365</td>\n",
              "      <td>store_10</td>\n",
              "      <td>category_21</td>\n",
              "      <td>0.0</td>\n",
              "      <td>0</td>\n",
              "      <td>0.0</td>\n",
              "      <td>city_0</td>\n",
              "      <td>store_2</td>\n",
              "      <td>cluster_5</td>\n",
              "      <td>holiday_0</td>\n",
              "      <td>...</td>\n",
              "      <td>True</td>\n",
              "      <td>False</td>\n",
              "      <td>True</td>\n",
              "      <td>False</td>\n",
              "      <td>True</td>\n",
              "      <td>False</td>\n",
              "      <td>101</td>\n",
              "      <td>0.841471</td>\n",
              "      <td>0.540302</td>\n",
              "      <td>2001-01-01</td>\n",
              "    </tr>\n",
              "    <tr>\n",
              "      <th>35</th>\n",
              "      <td>365</td>\n",
              "      <td>store_10</td>\n",
              "      <td>category_32</td>\n",
              "      <td>0.0</td>\n",
              "      <td>0</td>\n",
              "      <td>0.0</td>\n",
              "      <td>city_0</td>\n",
              "      <td>store_2</td>\n",
              "      <td>cluster_5</td>\n",
              "      <td>holiday_0</td>\n",
              "      <td>...</td>\n",
              "      <td>True</td>\n",
              "      <td>False</td>\n",
              "      <td>True</td>\n",
              "      <td>False</td>\n",
              "      <td>True</td>\n",
              "      <td>False</td>\n",
              "      <td>101</td>\n",
              "      <td>0.841471</td>\n",
              "      <td>0.540302</td>\n",
              "      <td>2001-01-01</td>\n",
              "    </tr>\n",
              "    <tr>\n",
              "      <th>36</th>\n",
              "      <td>365</td>\n",
              "      <td>store_10</td>\n",
              "      <td>category_18</td>\n",
              "      <td>0.0</td>\n",
              "      <td>0</td>\n",
              "      <td>0.0</td>\n",
              "      <td>city_0</td>\n",
              "      <td>store_2</td>\n",
              "      <td>cluster_5</td>\n",
              "      <td>holiday_0</td>\n",
              "      <td>...</td>\n",
              "      <td>True</td>\n",
              "      <td>False</td>\n",
              "      <td>True</td>\n",
              "      <td>False</td>\n",
              "      <td>True</td>\n",
              "      <td>False</td>\n",
              "      <td>101</td>\n",
              "      <td>0.841471</td>\n",
              "      <td>0.540302</td>\n",
              "      <td>2001-01-01</td>\n",
              "    </tr>\n",
              "    <tr>\n",
              "      <th>37</th>\n",
              "      <td>365</td>\n",
              "      <td>store_10</td>\n",
              "      <td>category_26</td>\n",
              "      <td>0.0</td>\n",
              "      <td>0</td>\n",
              "      <td>0.0</td>\n",
              "      <td>city_0</td>\n",
              "      <td>store_2</td>\n",
              "      <td>cluster_5</td>\n",
              "      <td>holiday_0</td>\n",
              "      <td>...</td>\n",
              "      <td>True</td>\n",
              "      <td>False</td>\n",
              "      <td>True</td>\n",
              "      <td>False</td>\n",
              "      <td>True</td>\n",
              "      <td>False</td>\n",
              "      <td>101</td>\n",
              "      <td>0.841471</td>\n",
              "      <td>0.540302</td>\n",
              "      <td>2001-01-01</td>\n",
              "    </tr>\n",
              "    <tr>\n",
              "      <th>38</th>\n",
              "      <td>365</td>\n",
              "      <td>store_10</td>\n",
              "      <td>category_17</td>\n",
              "      <td>0.0</td>\n",
              "      <td>0</td>\n",
              "      <td>0.0</td>\n",
              "      <td>city_0</td>\n",
              "      <td>store_2</td>\n",
              "      <td>cluster_5</td>\n",
              "      <td>holiday_0</td>\n",
              "      <td>...</td>\n",
              "      <td>True</td>\n",
              "      <td>False</td>\n",
              "      <td>True</td>\n",
              "      <td>False</td>\n",
              "      <td>True</td>\n",
              "      <td>False</td>\n",
              "      <td>101</td>\n",
              "      <td>0.841471</td>\n",
              "      <td>0.540302</td>\n",
              "      <td>2001-01-01</td>\n",
              "    </tr>\n",
              "    <tr>\n",
              "      <th>39</th>\n",
              "      <td>365</td>\n",
              "      <td>store_10</td>\n",
              "      <td>category_3</td>\n",
              "      <td>0.0</td>\n",
              "      <td>0</td>\n",
              "      <td>0.0</td>\n",
              "      <td>city_0</td>\n",
              "      <td>store_2</td>\n",
              "      <td>cluster_5</td>\n",
              "      <td>holiday_0</td>\n",
              "      <td>...</td>\n",
              "      <td>True</td>\n",
              "      <td>False</td>\n",
              "      <td>True</td>\n",
              "      <td>False</td>\n",
              "      <td>True</td>\n",
              "      <td>False</td>\n",
              "      <td>101</td>\n",
              "      <td>0.841471</td>\n",
              "      <td>0.540302</td>\n",
              "      <td>2001-01-01</td>\n",
              "    </tr>\n",
              "    <tr>\n",
              "      <th>40</th>\n",
              "      <td>365</td>\n",
              "      <td>store_10</td>\n",
              "      <td>category_9</td>\n",
              "      <td>0.0</td>\n",
              "      <td>0</td>\n",
              "      <td>0.0</td>\n",
              "      <td>city_0</td>\n",
              "      <td>store_2</td>\n",
              "      <td>cluster_5</td>\n",
              "      <td>holiday_0</td>\n",
              "      <td>...</td>\n",
              "      <td>True</td>\n",
              "      <td>False</td>\n",
              "      <td>True</td>\n",
              "      <td>False</td>\n",
              "      <td>True</td>\n",
              "      <td>False</td>\n",
              "      <td>101</td>\n",
              "      <td>0.841471</td>\n",
              "      <td>0.540302</td>\n",
              "      <td>2001-01-01</td>\n",
              "    </tr>\n",
              "    <tr>\n",
              "      <th>41</th>\n",
              "      <td>365</td>\n",
              "      <td>store_10</td>\n",
              "      <td>category_14</td>\n",
              "      <td>0.0</td>\n",
              "      <td>0</td>\n",
              "      <td>0.0</td>\n",
              "      <td>city_0</td>\n",
              "      <td>store_2</td>\n",
              "      <td>cluster_5</td>\n",
              "      <td>holiday_0</td>\n",
              "      <td>...</td>\n",
              "      <td>True</td>\n",
              "      <td>False</td>\n",
              "      <td>True</td>\n",
              "      <td>False</td>\n",
              "      <td>True</td>\n",
              "      <td>False</td>\n",
              "      <td>101</td>\n",
              "      <td>0.841471</td>\n",
              "      <td>0.540302</td>\n",
              "      <td>2001-01-01</td>\n",
              "    </tr>\n",
              "    <tr>\n",
              "      <th>42</th>\n",
              "      <td>365</td>\n",
              "      <td>store_10</td>\n",
              "      <td>category_4</td>\n",
              "      <td>0.0</td>\n",
              "      <td>0</td>\n",
              "      <td>0.0</td>\n",
              "      <td>city_0</td>\n",
              "      <td>store_2</td>\n",
              "      <td>cluster_5</td>\n",
              "      <td>holiday_0</td>\n",
              "      <td>...</td>\n",
              "      <td>True</td>\n",
              "      <td>False</td>\n",
              "      <td>True</td>\n",
              "      <td>False</td>\n",
              "      <td>True</td>\n",
              "      <td>False</td>\n",
              "      <td>101</td>\n",
              "      <td>0.841471</td>\n",
              "      <td>0.540302</td>\n",
              "      <td>2001-01-01</td>\n",
              "    </tr>\n",
              "    <tr>\n",
              "      <th>43</th>\n",
              "      <td>365</td>\n",
              "      <td>store_10</td>\n",
              "      <td>category_16</td>\n",
              "      <td>0.0</td>\n",
              "      <td>0</td>\n",
              "      <td>0.0</td>\n",
              "      <td>city_0</td>\n",
              "      <td>store_2</td>\n",
              "      <td>cluster_5</td>\n",
              "      <td>holiday_0</td>\n",
              "      <td>...</td>\n",
              "      <td>True</td>\n",
              "      <td>False</td>\n",
              "      <td>True</td>\n",
              "      <td>False</td>\n",
              "      <td>True</td>\n",
              "      <td>False</td>\n",
              "      <td>101</td>\n",
              "      <td>0.841471</td>\n",
              "      <td>0.540302</td>\n",
              "      <td>2001-01-01</td>\n",
              "    </tr>\n",
              "    <tr>\n",
              "      <th>44</th>\n",
              "      <td>365</td>\n",
              "      <td>store_10</td>\n",
              "      <td>category_19</td>\n",
              "      <td>0.0</td>\n",
              "      <td>0</td>\n",
              "      <td>0.0</td>\n",
              "      <td>city_0</td>\n",
              "      <td>store_2</td>\n",
              "      <td>cluster_5</td>\n",
              "      <td>holiday_0</td>\n",
              "      <td>...</td>\n",
              "      <td>True</td>\n",
              "      <td>False</td>\n",
              "      <td>True</td>\n",
              "      <td>False</td>\n",
              "      <td>True</td>\n",
              "      <td>False</td>\n",
              "      <td>101</td>\n",
              "      <td>0.841471</td>\n",
              "      <td>0.540302</td>\n",
              "      <td>2001-01-01</td>\n",
              "    </tr>\n",
              "    <tr>\n",
              "      <th>45</th>\n",
              "      <td>365</td>\n",
              "      <td>store_10</td>\n",
              "      <td>category_7</td>\n",
              "      <td>0.0</td>\n",
              "      <td>0</td>\n",
              "      <td>0.0</td>\n",
              "      <td>city_0</td>\n",
              "      <td>store_2</td>\n",
              "      <td>cluster_5</td>\n",
              "      <td>holiday_0</td>\n",
              "      <td>...</td>\n",
              "      <td>True</td>\n",
              "      <td>False</td>\n",
              "      <td>True</td>\n",
              "      <td>False</td>\n",
              "      <td>True</td>\n",
              "      <td>False</td>\n",
              "      <td>101</td>\n",
              "      <td>0.841471</td>\n",
              "      <td>0.540302</td>\n",
              "      <td>2001-01-01</td>\n",
              "    </tr>\n",
              "    <tr>\n",
              "      <th>46</th>\n",
              "      <td>365</td>\n",
              "      <td>store_10</td>\n",
              "      <td>category_27</td>\n",
              "      <td>0.0</td>\n",
              "      <td>0</td>\n",
              "      <td>0.0</td>\n",
              "      <td>city_0</td>\n",
              "      <td>store_2</td>\n",
              "      <td>cluster_5</td>\n",
              "      <td>holiday_0</td>\n",
              "      <td>...</td>\n",
              "      <td>True</td>\n",
              "      <td>False</td>\n",
              "      <td>True</td>\n",
              "      <td>False</td>\n",
              "      <td>True</td>\n",
              "      <td>False</td>\n",
              "      <td>101</td>\n",
              "      <td>0.841471</td>\n",
              "      <td>0.540302</td>\n",
              "      <td>2001-01-01</td>\n",
              "    </tr>\n",
              "    <tr>\n",
              "      <th>47</th>\n",
              "      <td>365</td>\n",
              "      <td>store_10</td>\n",
              "      <td>category_1</td>\n",
              "      <td>0.0</td>\n",
              "      <td>0</td>\n",
              "      <td>0.0</td>\n",
              "      <td>city_0</td>\n",
              "      <td>store_2</td>\n",
              "      <td>cluster_5</td>\n",
              "      <td>holiday_0</td>\n",
              "      <td>...</td>\n",
              "      <td>True</td>\n",
              "      <td>False</td>\n",
              "      <td>True</td>\n",
              "      <td>False</td>\n",
              "      <td>True</td>\n",
              "      <td>False</td>\n",
              "      <td>101</td>\n",
              "      <td>0.841471</td>\n",
              "      <td>0.540302</td>\n",
              "      <td>2001-01-01</td>\n",
              "    </tr>\n",
              "    <tr>\n",
              "      <th>48</th>\n",
              "      <td>365</td>\n",
              "      <td>store_10</td>\n",
              "      <td>category_0</td>\n",
              "      <td>0.0</td>\n",
              "      <td>0</td>\n",
              "      <td>0.0</td>\n",
              "      <td>city_0</td>\n",
              "      <td>store_2</td>\n",
              "      <td>cluster_5</td>\n",
              "      <td>holiday_0</td>\n",
              "      <td>...</td>\n",
              "      <td>True</td>\n",
              "      <td>False</td>\n",
              "      <td>True</td>\n",
              "      <td>False</td>\n",
              "      <td>True</td>\n",
              "      <td>False</td>\n",
              "      <td>101</td>\n",
              "      <td>0.841471</td>\n",
              "      <td>0.540302</td>\n",
              "      <td>2001-01-01</td>\n",
              "    </tr>\n",
              "    <tr>\n",
              "      <th>49</th>\n",
              "      <td>365</td>\n",
              "      <td>store_10</td>\n",
              "      <td>category_28</td>\n",
              "      <td>0.0</td>\n",
              "      <td>0</td>\n",
              "      <td>0.0</td>\n",
              "      <td>city_0</td>\n",
              "      <td>store_2</td>\n",
              "      <td>cluster_5</td>\n",
              "      <td>holiday_0</td>\n",
              "      <td>...</td>\n",
              "      <td>True</td>\n",
              "      <td>False</td>\n",
              "      <td>True</td>\n",
              "      <td>False</td>\n",
              "      <td>True</td>\n",
              "      <td>False</td>\n",
              "      <td>101</td>\n",
              "      <td>0.841471</td>\n",
              "      <td>0.540302</td>\n",
              "      <td>2001-01-01</td>\n",
              "    </tr>\n",
              "    <tr>\n",
              "      <th>50</th>\n",
              "      <td>365</td>\n",
              "      <td>store_10</td>\n",
              "      <td>category_5</td>\n",
              "      <td>0.0</td>\n",
              "      <td>0</td>\n",
              "      <td>0.0</td>\n",
              "      <td>city_0</td>\n",
              "      <td>store_2</td>\n",
              "      <td>cluster_5</td>\n",
              "      <td>holiday_0</td>\n",
              "      <td>...</td>\n",
              "      <td>True</td>\n",
              "      <td>False</td>\n",
              "      <td>True</td>\n",
              "      <td>False</td>\n",
              "      <td>True</td>\n",
              "      <td>False</td>\n",
              "      <td>101</td>\n",
              "      <td>0.841471</td>\n",
              "      <td>0.540302</td>\n",
              "      <td>2001-01-01</td>\n",
              "    </tr>\n",
              "    <tr>\n",
              "      <th>51</th>\n",
              "      <td>365</td>\n",
              "      <td>store_10</td>\n",
              "      <td>category_31</td>\n",
              "      <td>0.0</td>\n",
              "      <td>0</td>\n",
              "      <td>0.0</td>\n",
              "      <td>city_0</td>\n",
              "      <td>store_2</td>\n",
              "      <td>cluster_5</td>\n",
              "      <td>holiday_0</td>\n",
              "      <td>...</td>\n",
              "      <td>True</td>\n",
              "      <td>False</td>\n",
              "      <td>True</td>\n",
              "      <td>False</td>\n",
              "      <td>True</td>\n",
              "      <td>False</td>\n",
              "      <td>101</td>\n",
              "      <td>0.841471</td>\n",
              "      <td>0.540302</td>\n",
              "      <td>2001-01-01</td>\n",
              "    </tr>\n",
              "    <tr>\n",
              "      <th>52</th>\n",
              "      <td>365</td>\n",
              "      <td>store_10</td>\n",
              "      <td>category_2</td>\n",
              "      <td>0.0</td>\n",
              "      <td>0</td>\n",
              "      <td>0.0</td>\n",
              "      <td>city_0</td>\n",
              "      <td>store_2</td>\n",
              "      <td>cluster_5</td>\n",
              "      <td>holiday_0</td>\n",
              "      <td>...</td>\n",
              "      <td>True</td>\n",
              "      <td>False</td>\n",
              "      <td>True</td>\n",
              "      <td>False</td>\n",
              "      <td>True</td>\n",
              "      <td>False</td>\n",
              "      <td>101</td>\n",
              "      <td>0.841471</td>\n",
              "      <td>0.540302</td>\n",
              "      <td>2001-01-01</td>\n",
              "    </tr>\n",
              "    <tr>\n",
              "      <th>53</th>\n",
              "      <td>365</td>\n",
              "      <td>store_10</td>\n",
              "      <td>category_25</td>\n",
              "      <td>0.0</td>\n",
              "      <td>0</td>\n",
              "      <td>0.0</td>\n",
              "      <td>city_0</td>\n",
              "      <td>store_2</td>\n",
              "      <td>cluster_5</td>\n",
              "      <td>holiday_0</td>\n",
              "      <td>...</td>\n",
              "      <td>True</td>\n",
              "      <td>False</td>\n",
              "      <td>True</td>\n",
              "      <td>False</td>\n",
              "      <td>True</td>\n",
              "      <td>False</td>\n",
              "      <td>101</td>\n",
              "      <td>0.841471</td>\n",
              "      <td>0.540302</td>\n",
              "      <td>2001-01-01</td>\n",
              "    </tr>\n",
              "    <tr>\n",
              "      <th>54</th>\n",
              "      <td>365</td>\n",
              "      <td>store_10</td>\n",
              "      <td>category_22</td>\n",
              "      <td>0.0</td>\n",
              "      <td>0</td>\n",
              "      <td>0.0</td>\n",
              "      <td>city_0</td>\n",
              "      <td>store_2</td>\n",
              "      <td>cluster_5</td>\n",
              "      <td>holiday_0</td>\n",
              "      <td>...</td>\n",
              "      <td>True</td>\n",
              "      <td>False</td>\n",
              "      <td>True</td>\n",
              "      <td>False</td>\n",
              "      <td>True</td>\n",
              "      <td>False</td>\n",
              "      <td>101</td>\n",
              "      <td>0.841471</td>\n",
              "      <td>0.540302</td>\n",
              "      <td>2001-01-01</td>\n",
              "    </tr>\n",
              "    <tr>\n",
              "      <th>55</th>\n",
              "      <td>365</td>\n",
              "      <td>store_10</td>\n",
              "      <td>category_8</td>\n",
              "      <td>0.0</td>\n",
              "      <td>0</td>\n",
              "      <td>0.0</td>\n",
              "      <td>city_0</td>\n",
              "      <td>store_2</td>\n",
              "      <td>cluster_5</td>\n",
              "      <td>holiday_0</td>\n",
              "      <td>...</td>\n",
              "      <td>True</td>\n",
              "      <td>False</td>\n",
              "      <td>True</td>\n",
              "      <td>False</td>\n",
              "      <td>True</td>\n",
              "      <td>False</td>\n",
              "      <td>101</td>\n",
              "      <td>0.841471</td>\n",
              "      <td>0.540302</td>\n",
              "      <td>2001-01-01</td>\n",
              "    </tr>\n",
              "    <tr>\n",
              "      <th>56</th>\n",
              "      <td>365</td>\n",
              "      <td>store_10</td>\n",
              "      <td>category_6</td>\n",
              "      <td>0.0</td>\n",
              "      <td>0</td>\n",
              "      <td>0.0</td>\n",
              "      <td>city_0</td>\n",
              "      <td>store_2</td>\n",
              "      <td>cluster_5</td>\n",
              "      <td>holiday_0</td>\n",
              "      <td>...</td>\n",
              "      <td>True</td>\n",
              "      <td>False</td>\n",
              "      <td>True</td>\n",
              "      <td>False</td>\n",
              "      <td>True</td>\n",
              "      <td>False</td>\n",
              "      <td>101</td>\n",
              "      <td>0.841471</td>\n",
              "      <td>0.540302</td>\n",
              "      <td>2001-01-01</td>\n",
              "    </tr>\n",
              "    <tr>\n",
              "      <th>57</th>\n",
              "      <td>365</td>\n",
              "      <td>store_10</td>\n",
              "      <td>category_12</td>\n",
              "      <td>0.0</td>\n",
              "      <td>0</td>\n",
              "      <td>0.0</td>\n",
              "      <td>city_0</td>\n",
              "      <td>store_2</td>\n",
              "      <td>cluster_5</td>\n",
              "      <td>holiday_0</td>\n",
              "      <td>...</td>\n",
              "      <td>True</td>\n",
              "      <td>False</td>\n",
              "      <td>True</td>\n",
              "      <td>False</td>\n",
              "      <td>True</td>\n",
              "      <td>False</td>\n",
              "      <td>101</td>\n",
              "      <td>0.841471</td>\n",
              "      <td>0.540302</td>\n",
              "      <td>2001-01-01</td>\n",
              "    </tr>\n",
              "    <tr>\n",
              "      <th>58</th>\n",
              "      <td>365</td>\n",
              "      <td>store_10</td>\n",
              "      <td>category_13</td>\n",
              "      <td>0.0</td>\n",
              "      <td>0</td>\n",
              "      <td>0.0</td>\n",
              "      <td>city_0</td>\n",
              "      <td>store_2</td>\n",
              "      <td>cluster_5</td>\n",
              "      <td>holiday_0</td>\n",
              "      <td>...</td>\n",
              "      <td>True</td>\n",
              "      <td>False</td>\n",
              "      <td>True</td>\n",
              "      <td>False</td>\n",
              "      <td>True</td>\n",
              "      <td>False</td>\n",
              "      <td>101</td>\n",
              "      <td>0.841471</td>\n",
              "      <td>0.540302</td>\n",
              "      <td>2001-01-01</td>\n",
              "    </tr>\n",
              "    <tr>\n",
              "      <th>59</th>\n",
              "      <td>365</td>\n",
              "      <td>store_10</td>\n",
              "      <td>category_11</td>\n",
              "      <td>0.0</td>\n",
              "      <td>0</td>\n",
              "      <td>0.0</td>\n",
              "      <td>city_0</td>\n",
              "      <td>store_2</td>\n",
              "      <td>cluster_5</td>\n",
              "      <td>holiday_0</td>\n",
              "      <td>...</td>\n",
              "      <td>True</td>\n",
              "      <td>False</td>\n",
              "      <td>True</td>\n",
              "      <td>False</td>\n",
              "      <td>True</td>\n",
              "      <td>False</td>\n",
              "      <td>101</td>\n",
              "      <td>0.841471</td>\n",
              "      <td>0.540302</td>\n",
              "      <td>2001-01-01</td>\n",
              "    </tr>\n",
              "  </tbody>\n",
              "</table>\n",
              "<p>60 rows × 28 columns</p>\n",
              "</div>"
            ],
            "text/plain": [
              "    date  store_id  category_id  target  onpromotion  nbr_of_transactions  \\\n",
              "0    365   store_1  category_24     0.0            0                  0.0   \n",
              "1    365   store_1  category_21     0.0            0                  0.0   \n",
              "2    365   store_1  category_32     0.0            0                  0.0   \n",
              "3    365   store_1  category_18     0.0            0                  0.0   \n",
              "4    365   store_1  category_26     0.0            0                  0.0   \n",
              "5    365   store_1  category_17     0.0            0                  0.0   \n",
              "6    365   store_1   category_3     0.0            0                  0.0   \n",
              "7    365   store_1   category_9     0.0            0                  0.0   \n",
              "8    365   store_1  category_14     0.0            0                  0.0   \n",
              "9    365   store_1   category_4     0.0            0                  0.0   \n",
              "10   365   store_1  category_16     0.0            0                  0.0   \n",
              "11   365   store_1  category_19     0.0            0                  0.0   \n",
              "12   365   store_1   category_7     0.0            0                  0.0   \n",
              "13   365   store_1  category_27     0.0            0                  0.0   \n",
              "14   365   store_1   category_1     0.0            0                  0.0   \n",
              "15   365   store_1   category_0     0.0            0                  0.0   \n",
              "16   365   store_1  category_28     0.0            0                  0.0   \n",
              "17   365   store_1   category_5     0.0            0                  0.0   \n",
              "18   365   store_1  category_31     0.0            0                  0.0   \n",
              "19   365   store_1   category_2     0.0            0                  0.0   \n",
              "20   365   store_1  category_25     0.0            0                  0.0   \n",
              "21   365   store_1  category_22     0.0            0                  0.0   \n",
              "22   365   store_1   category_8     0.0            0                  0.0   \n",
              "23   365   store_1   category_6     0.0            0                  0.0   \n",
              "24   365   store_1  category_12     0.0            0                  0.0   \n",
              "25   365   store_1  category_13     0.0            0                  0.0   \n",
              "26   365   store_1  category_11     0.0            0                  0.0   \n",
              "27   365   store_1  category_30     0.0            0                  0.0   \n",
              "28   365   store_1  category_23     0.0            0                  0.0   \n",
              "29   365   store_1  category_20     0.0            0                  0.0   \n",
              "30   365   store_1  category_15     0.0            0                  0.0   \n",
              "31   365   store_1  category_29     0.0            0                  0.0   \n",
              "32   365   store_1  category_10     0.0            0                  0.0   \n",
              "33   365  store_10  category_24     0.0            0                  0.0   \n",
              "34   365  store_10  category_21     0.0            0                  0.0   \n",
              "35   365  store_10  category_32     0.0            0                  0.0   \n",
              "36   365  store_10  category_18     0.0            0                  0.0   \n",
              "37   365  store_10  category_26     0.0            0                  0.0   \n",
              "38   365  store_10  category_17     0.0            0                  0.0   \n",
              "39   365  store_10   category_3     0.0            0                  0.0   \n",
              "40   365  store_10   category_9     0.0            0                  0.0   \n",
              "41   365  store_10  category_14     0.0            0                  0.0   \n",
              "42   365  store_10   category_4     0.0            0                  0.0   \n",
              "43   365  store_10  category_16     0.0            0                  0.0   \n",
              "44   365  store_10  category_19     0.0            0                  0.0   \n",
              "45   365  store_10   category_7     0.0            0                  0.0   \n",
              "46   365  store_10  category_27     0.0            0                  0.0   \n",
              "47   365  store_10   category_1     0.0            0                  0.0   \n",
              "48   365  store_10   category_0     0.0            0                  0.0   \n",
              "49   365  store_10  category_28     0.0            0                  0.0   \n",
              "50   365  store_10   category_5     0.0            0                  0.0   \n",
              "51   365  store_10  category_31     0.0            0                  0.0   \n",
              "52   365  store_10   category_2     0.0            0                  0.0   \n",
              "53   365  store_10  category_25     0.0            0                  0.0   \n",
              "54   365  store_10  category_22     0.0            0                  0.0   \n",
              "55   365  store_10   category_8     0.0            0                  0.0   \n",
              "56   365  store_10   category_6     0.0            0                  0.0   \n",
              "57   365  store_10  category_12     0.0            0                  0.0   \n",
              "58   365  store_10  category_13     0.0            0                  0.0   \n",
              "59   365  store_10  category_11     0.0            0                  0.0   \n",
              "\n",
              "      city store_type    cluster holiday_type  ...  is_month_start  \\\n",
              "0   city_0    store_0  cluster_0    holiday_0  ...            True   \n",
              "1   city_0    store_0  cluster_0    holiday_0  ...            True   \n",
              "2   city_0    store_0  cluster_0    holiday_0  ...            True   \n",
              "3   city_0    store_0  cluster_0    holiday_0  ...            True   \n",
              "4   city_0    store_0  cluster_0    holiday_0  ...            True   \n",
              "5   city_0    store_0  cluster_0    holiday_0  ...            True   \n",
              "6   city_0    store_0  cluster_0    holiday_0  ...            True   \n",
              "7   city_0    store_0  cluster_0    holiday_0  ...            True   \n",
              "8   city_0    store_0  cluster_0    holiday_0  ...            True   \n",
              "9   city_0    store_0  cluster_0    holiday_0  ...            True   \n",
              "10  city_0    store_0  cluster_0    holiday_0  ...            True   \n",
              "11  city_0    store_0  cluster_0    holiday_0  ...            True   \n",
              "12  city_0    store_0  cluster_0    holiday_0  ...            True   \n",
              "13  city_0    store_0  cluster_0    holiday_0  ...            True   \n",
              "14  city_0    store_0  cluster_0    holiday_0  ...            True   \n",
              "15  city_0    store_0  cluster_0    holiday_0  ...            True   \n",
              "16  city_0    store_0  cluster_0    holiday_0  ...            True   \n",
              "17  city_0    store_0  cluster_0    holiday_0  ...            True   \n",
              "18  city_0    store_0  cluster_0    holiday_0  ...            True   \n",
              "19  city_0    store_0  cluster_0    holiday_0  ...            True   \n",
              "20  city_0    store_0  cluster_0    holiday_0  ...            True   \n",
              "21  city_0    store_0  cluster_0    holiday_0  ...            True   \n",
              "22  city_0    store_0  cluster_0    holiday_0  ...            True   \n",
              "23  city_0    store_0  cluster_0    holiday_0  ...            True   \n",
              "24  city_0    store_0  cluster_0    holiday_0  ...            True   \n",
              "25  city_0    store_0  cluster_0    holiday_0  ...            True   \n",
              "26  city_0    store_0  cluster_0    holiday_0  ...            True   \n",
              "27  city_0    store_0  cluster_0    holiday_0  ...            True   \n",
              "28  city_0    store_0  cluster_0    holiday_0  ...            True   \n",
              "29  city_0    store_0  cluster_0    holiday_0  ...            True   \n",
              "30  city_0    store_0  cluster_0    holiday_0  ...            True   \n",
              "31  city_0    store_0  cluster_0    holiday_0  ...            True   \n",
              "32  city_0    store_0  cluster_0    holiday_0  ...            True   \n",
              "33  city_0    store_2  cluster_5    holiday_0  ...            True   \n",
              "34  city_0    store_2  cluster_5    holiday_0  ...            True   \n",
              "35  city_0    store_2  cluster_5    holiday_0  ...            True   \n",
              "36  city_0    store_2  cluster_5    holiday_0  ...            True   \n",
              "37  city_0    store_2  cluster_5    holiday_0  ...            True   \n",
              "38  city_0    store_2  cluster_5    holiday_0  ...            True   \n",
              "39  city_0    store_2  cluster_5    holiday_0  ...            True   \n",
              "40  city_0    store_2  cluster_5    holiday_0  ...            True   \n",
              "41  city_0    store_2  cluster_5    holiday_0  ...            True   \n",
              "42  city_0    store_2  cluster_5    holiday_0  ...            True   \n",
              "43  city_0    store_2  cluster_5    holiday_0  ...            True   \n",
              "44  city_0    store_2  cluster_5    holiday_0  ...            True   \n",
              "45  city_0    store_2  cluster_5    holiday_0  ...            True   \n",
              "46  city_0    store_2  cluster_5    holiday_0  ...            True   \n",
              "47  city_0    store_2  cluster_5    holiday_0  ...            True   \n",
              "48  city_0    store_2  cluster_5    holiday_0  ...            True   \n",
              "49  city_0    store_2  cluster_5    holiday_0  ...            True   \n",
              "50  city_0    store_2  cluster_5    holiday_0  ...            True   \n",
              "51  city_0    store_2  cluster_5    holiday_0  ...            True   \n",
              "52  city_0    store_2  cluster_5    holiday_0  ...            True   \n",
              "53  city_0    store_2  cluster_5    holiday_0  ...            True   \n",
              "54  city_0    store_2  cluster_5    holiday_0  ...            True   \n",
              "55  city_0    store_2  cluster_5    holiday_0  ...            True   \n",
              "56  city_0    store_2  cluster_5    holiday_0  ...            True   \n",
              "57  city_0    store_2  cluster_5    holiday_0  ...            True   \n",
              "58  city_0    store_2  cluster_5    holiday_0  ...            True   \n",
              "59  city_0    store_2  cluster_5    holiday_0  ...            True   \n",
              "\n",
              "    is_month_end  is_quarter_start  is_quarter_end  is_year_start  \\\n",
              "0          False              True           False           True   \n",
              "1          False              True           False           True   \n",
              "2          False              True           False           True   \n",
              "3          False              True           False           True   \n",
              "4          False              True           False           True   \n",
              "5          False              True           False           True   \n",
              "6          False              True           False           True   \n",
              "7          False              True           False           True   \n",
              "8          False              True           False           True   \n",
              "9          False              True           False           True   \n",
              "10         False              True           False           True   \n",
              "11         False              True           False           True   \n",
              "12         False              True           False           True   \n",
              "13         False              True           False           True   \n",
              "14         False              True           False           True   \n",
              "15         False              True           False           True   \n",
              "16         False              True           False           True   \n",
              "17         False              True           False           True   \n",
              "18         False              True           False           True   \n",
              "19         False              True           False           True   \n",
              "20         False              True           False           True   \n",
              "21         False              True           False           True   \n",
              "22         False              True           False           True   \n",
              "23         False              True           False           True   \n",
              "24         False              True           False           True   \n",
              "25         False              True           False           True   \n",
              "26         False              True           False           True   \n",
              "27         False              True           False           True   \n",
              "28         False              True           False           True   \n",
              "29         False              True           False           True   \n",
              "30         False              True           False           True   \n",
              "31         False              True           False           True   \n",
              "32         False              True           False           True   \n",
              "33         False              True           False           True   \n",
              "34         False              True           False           True   \n",
              "35         False              True           False           True   \n",
              "36         False              True           False           True   \n",
              "37         False              True           False           True   \n",
              "38         False              True           False           True   \n",
              "39         False              True           False           True   \n",
              "40         False              True           False           True   \n",
              "41         False              True           False           True   \n",
              "42         False              True           False           True   \n",
              "43         False              True           False           True   \n",
              "44         False              True           False           True   \n",
              "45         False              True           False           True   \n",
              "46         False              True           False           True   \n",
              "47         False              True           False           True   \n",
              "48         False              True           False           True   \n",
              "49         False              True           False           True   \n",
              "50         False              True           False           True   \n",
              "51         False              True           False           True   \n",
              "52         False              True           False           True   \n",
              "53         False              True           False           True   \n",
              "54         False              True           False           True   \n",
              "55         False              True           False           True   \n",
              "56         False              True           False           True   \n",
              "57         False              True           False           True   \n",
              "58         False              True           False           True   \n",
              "59         False              True           False           True   \n",
              "\n",
              "    is_year_end  year_weekofyear  sin(dayofyear)  cos(dayofyear)  \\\n",
              "0         False              101        0.841471        0.540302   \n",
              "1         False              101        0.841471        0.540302   \n",
              "2         False              101        0.841471        0.540302   \n",
              "3         False              101        0.841471        0.540302   \n",
              "4         False              101        0.841471        0.540302   \n",
              "5         False              101        0.841471        0.540302   \n",
              "6         False              101        0.841471        0.540302   \n",
              "7         False              101        0.841471        0.540302   \n",
              "8         False              101        0.841471        0.540302   \n",
              "9         False              101        0.841471        0.540302   \n",
              "10        False              101        0.841471        0.540302   \n",
              "11        False              101        0.841471        0.540302   \n",
              "12        False              101        0.841471        0.540302   \n",
              "13        False              101        0.841471        0.540302   \n",
              "14        False              101        0.841471        0.540302   \n",
              "15        False              101        0.841471        0.540302   \n",
              "16        False              101        0.841471        0.540302   \n",
              "17        False              101        0.841471        0.540302   \n",
              "18        False              101        0.841471        0.540302   \n",
              "19        False              101        0.841471        0.540302   \n",
              "20        False              101        0.841471        0.540302   \n",
              "21        False              101        0.841471        0.540302   \n",
              "22        False              101        0.841471        0.540302   \n",
              "23        False              101        0.841471        0.540302   \n",
              "24        False              101        0.841471        0.540302   \n",
              "25        False              101        0.841471        0.540302   \n",
              "26        False              101        0.841471        0.540302   \n",
              "27        False              101        0.841471        0.540302   \n",
              "28        False              101        0.841471        0.540302   \n",
              "29        False              101        0.841471        0.540302   \n",
              "30        False              101        0.841471        0.540302   \n",
              "31        False              101        0.841471        0.540302   \n",
              "32        False              101        0.841471        0.540302   \n",
              "33        False              101        0.841471        0.540302   \n",
              "34        False              101        0.841471        0.540302   \n",
              "35        False              101        0.841471        0.540302   \n",
              "36        False              101        0.841471        0.540302   \n",
              "37        False              101        0.841471        0.540302   \n",
              "38        False              101        0.841471        0.540302   \n",
              "39        False              101        0.841471        0.540302   \n",
              "40        False              101        0.841471        0.540302   \n",
              "41        False              101        0.841471        0.540302   \n",
              "42        False              101        0.841471        0.540302   \n",
              "43        False              101        0.841471        0.540302   \n",
              "44        False              101        0.841471        0.540302   \n",
              "45        False              101        0.841471        0.540302   \n",
              "46        False              101        0.841471        0.540302   \n",
              "47        False              101        0.841471        0.540302   \n",
              "48        False              101        0.841471        0.540302   \n",
              "49        False              101        0.841471        0.540302   \n",
              "50        False              101        0.841471        0.540302   \n",
              "51        False              101        0.841471        0.540302   \n",
              "52        False              101        0.841471        0.540302   \n",
              "53        False              101        0.841471        0.540302   \n",
              "54        False              101        0.841471        0.540302   \n",
              "55        False              101        0.841471        0.540302   \n",
              "56        False              101        0.841471        0.540302   \n",
              "57        False              101        0.841471        0.540302   \n",
              "58        False              101        0.841471        0.540302   \n",
              "59        False              101        0.841471        0.540302   \n",
              "\n",
              "    date_extracted  \n",
              "0       2001-01-01  \n",
              "1       2001-01-01  \n",
              "2       2001-01-01  \n",
              "3       2001-01-01  \n",
              "4       2001-01-01  \n",
              "5       2001-01-01  \n",
              "6       2001-01-01  \n",
              "7       2001-01-01  \n",
              "8       2001-01-01  \n",
              "9       2001-01-01  \n",
              "10      2001-01-01  \n",
              "11      2001-01-01  \n",
              "12      2001-01-01  \n",
              "13      2001-01-01  \n",
              "14      2001-01-01  \n",
              "15      2001-01-01  \n",
              "16      2001-01-01  \n",
              "17      2001-01-01  \n",
              "18      2001-01-01  \n",
              "19      2001-01-01  \n",
              "20      2001-01-01  \n",
              "21      2001-01-01  \n",
              "22      2001-01-01  \n",
              "23      2001-01-01  \n",
              "24      2001-01-01  \n",
              "25      2001-01-01  \n",
              "26      2001-01-01  \n",
              "27      2001-01-01  \n",
              "28      2001-01-01  \n",
              "29      2001-01-01  \n",
              "30      2001-01-01  \n",
              "31      2001-01-01  \n",
              "32      2001-01-01  \n",
              "33      2001-01-01  \n",
              "34      2001-01-01  \n",
              "35      2001-01-01  \n",
              "36      2001-01-01  \n",
              "37      2001-01-01  \n",
              "38      2001-01-01  \n",
              "39      2001-01-01  \n",
              "40      2001-01-01  \n",
              "41      2001-01-01  \n",
              "42      2001-01-01  \n",
              "43      2001-01-01  \n",
              "44      2001-01-01  \n",
              "45      2001-01-01  \n",
              "46      2001-01-01  \n",
              "47      2001-01-01  \n",
              "48      2001-01-01  \n",
              "49      2001-01-01  \n",
              "50      2001-01-01  \n",
              "51      2001-01-01  \n",
              "52      2001-01-01  \n",
              "53      2001-01-01  \n",
              "54      2001-01-01  \n",
              "55      2001-01-01  \n",
              "56      2001-01-01  \n",
              "57      2001-01-01  \n",
              "58      2001-01-01  \n",
              "59      2001-01-01  \n",
              "\n",
              "[60 rows x 28 columns]"
            ]
          },
          "execution_count": 43,
          "metadata": {},
          "output_type": "execute_result"
        }
      ],
      "source": [
        "train_merged2.head(60)"
      ]
    },
    {
      "cell_type": "code",
      "execution_count": 44,
      "metadata": {},
      "outputs": [
        {
          "data": {
            "text/html": [
              "<div>\n",
              "<style scoped>\n",
              "    .dataframe tbody tr th:only-of-type {\n",
              "        vertical-align: middle;\n",
              "    }\n",
              "\n",
              "    .dataframe tbody tr th {\n",
              "        vertical-align: top;\n",
              "    }\n",
              "\n",
              "    .dataframe thead th {\n",
              "        text-align: right;\n",
              "    }\n",
              "</style>\n",
              "<table border=\"1\" class=\"dataframe\">\n",
              "  <thead>\n",
              "    <tr style=\"text-align: right;\">\n",
              "      <th></th>\n",
              "      <th>date</th>\n",
              "      <th>store_id</th>\n",
              "      <th>category_id</th>\n",
              "      <th>target</th>\n",
              "      <th>onpromotion</th>\n",
              "      <th>nbr_of_transactions</th>\n",
              "      <th>city</th>\n",
              "      <th>store_type</th>\n",
              "      <th>cluster</th>\n",
              "      <th>holiday_type</th>\n",
              "      <th>...</th>\n",
              "      <th>is_month_start</th>\n",
              "      <th>is_month_end</th>\n",
              "      <th>is_quarter_start</th>\n",
              "      <th>is_quarter_end</th>\n",
              "      <th>is_year_start</th>\n",
              "      <th>is_year_end</th>\n",
              "      <th>year_weekofyear</th>\n",
              "      <th>sin(dayofyear)</th>\n",
              "      <th>cos(dayofyear)</th>\n",
              "      <th>date_extracted</th>\n",
              "    </tr>\n",
              "  </thead>\n",
              "  <tbody>\n",
              "    <tr>\n",
              "      <th>0</th>\n",
              "      <td>365.0</td>\n",
              "      <td>store_1</td>\n",
              "      <td>category_24</td>\n",
              "      <td>0.0</td>\n",
              "      <td>0.0</td>\n",
              "      <td>0.0</td>\n",
              "      <td>city_0</td>\n",
              "      <td>store_0</td>\n",
              "      <td>cluster_0</td>\n",
              "      <td>holiday_0</td>\n",
              "      <td>...</td>\n",
              "      <td>True</td>\n",
              "      <td>False</td>\n",
              "      <td>True</td>\n",
              "      <td>False</td>\n",
              "      <td>True</td>\n",
              "      <td>False</td>\n",
              "      <td>101.0</td>\n",
              "      <td>0.841471</td>\n",
              "      <td>0.540302</td>\n",
              "      <td>2001-01-01</td>\n",
              "    </tr>\n",
              "    <tr>\n",
              "      <th>1</th>\n",
              "      <td>365.0</td>\n",
              "      <td>store_1</td>\n",
              "      <td>category_21</td>\n",
              "      <td>0.0</td>\n",
              "      <td>0.0</td>\n",
              "      <td>0.0</td>\n",
              "      <td>city_0</td>\n",
              "      <td>store_0</td>\n",
              "      <td>cluster_0</td>\n",
              "      <td>holiday_0</td>\n",
              "      <td>...</td>\n",
              "      <td>True</td>\n",
              "      <td>False</td>\n",
              "      <td>True</td>\n",
              "      <td>False</td>\n",
              "      <td>True</td>\n",
              "      <td>False</td>\n",
              "      <td>101.0</td>\n",
              "      <td>0.841471</td>\n",
              "      <td>0.540302</td>\n",
              "      <td>2001-01-01</td>\n",
              "    </tr>\n",
              "    <tr>\n",
              "      <th>2</th>\n",
              "      <td>365.0</td>\n",
              "      <td>store_1</td>\n",
              "      <td>category_32</td>\n",
              "      <td>0.0</td>\n",
              "      <td>0.0</td>\n",
              "      <td>0.0</td>\n",
              "      <td>city_0</td>\n",
              "      <td>store_0</td>\n",
              "      <td>cluster_0</td>\n",
              "      <td>holiday_0</td>\n",
              "      <td>...</td>\n",
              "      <td>True</td>\n",
              "      <td>False</td>\n",
              "      <td>True</td>\n",
              "      <td>False</td>\n",
              "      <td>True</td>\n",
              "      <td>False</td>\n",
              "      <td>101.0</td>\n",
              "      <td>0.841471</td>\n",
              "      <td>0.540302</td>\n",
              "      <td>2001-01-01</td>\n",
              "    </tr>\n",
              "    <tr>\n",
              "      <th>3</th>\n",
              "      <td>365.0</td>\n",
              "      <td>store_1</td>\n",
              "      <td>category_18</td>\n",
              "      <td>0.0</td>\n",
              "      <td>0.0</td>\n",
              "      <td>0.0</td>\n",
              "      <td>city_0</td>\n",
              "      <td>store_0</td>\n",
              "      <td>cluster_0</td>\n",
              "      <td>holiday_0</td>\n",
              "      <td>...</td>\n",
              "      <td>True</td>\n",
              "      <td>False</td>\n",
              "      <td>True</td>\n",
              "      <td>False</td>\n",
              "      <td>True</td>\n",
              "      <td>False</td>\n",
              "      <td>101.0</td>\n",
              "      <td>0.841471</td>\n",
              "      <td>0.540302</td>\n",
              "      <td>2001-01-01</td>\n",
              "    </tr>\n",
              "    <tr>\n",
              "      <th>4</th>\n",
              "      <td>365.0</td>\n",
              "      <td>store_1</td>\n",
              "      <td>category_26</td>\n",
              "      <td>0.0</td>\n",
              "      <td>0.0</td>\n",
              "      <td>0.0</td>\n",
              "      <td>city_0</td>\n",
              "      <td>store_0</td>\n",
              "      <td>cluster_0</td>\n",
              "      <td>holiday_0</td>\n",
              "      <td>...</td>\n",
              "      <td>True</td>\n",
              "      <td>False</td>\n",
              "      <td>True</td>\n",
              "      <td>False</td>\n",
              "      <td>True</td>\n",
              "      <td>False</td>\n",
              "      <td>101.0</td>\n",
              "      <td>0.841471</td>\n",
              "      <td>0.540302</td>\n",
              "      <td>2001-01-01</td>\n",
              "    </tr>\n",
              "  </tbody>\n",
              "</table>\n",
              "<p>5 rows × 28 columns</p>\n",
              "</div>"
            ],
            "text/plain": [
              "    date store_id  category_id  target  onpromotion  nbr_of_transactions  \\\n",
              "0  365.0  store_1  category_24     0.0          0.0                  0.0   \n",
              "1  365.0  store_1  category_21     0.0          0.0                  0.0   \n",
              "2  365.0  store_1  category_32     0.0          0.0                  0.0   \n",
              "3  365.0  store_1  category_18     0.0          0.0                  0.0   \n",
              "4  365.0  store_1  category_26     0.0          0.0                  0.0   \n",
              "\n",
              "     city store_type    cluster holiday_type  ... is_month_start  \\\n",
              "0  city_0    store_0  cluster_0    holiday_0  ...           True   \n",
              "1  city_0    store_0  cluster_0    holiday_0  ...           True   \n",
              "2  city_0    store_0  cluster_0    holiday_0  ...           True   \n",
              "3  city_0    store_0  cluster_0    holiday_0  ...           True   \n",
              "4  city_0    store_0  cluster_0    holiday_0  ...           True   \n",
              "\n",
              "   is_month_end  is_quarter_start  is_quarter_end  is_year_start  is_year_end  \\\n",
              "0         False              True           False           True        False   \n",
              "1         False              True           False           True        False   \n",
              "2         False              True           False           True        False   \n",
              "3         False              True           False           True        False   \n",
              "4         False              True           False           True        False   \n",
              "\n",
              "   year_weekofyear  sin(dayofyear) cos(dayofyear) date_extracted  \n",
              "0            101.0        0.841471       0.540302     2001-01-01  \n",
              "1            101.0        0.841471       0.540302     2001-01-01  \n",
              "2            101.0        0.841471       0.540302     2001-01-01  \n",
              "3            101.0        0.841471       0.540302     2001-01-01  \n",
              "4            101.0        0.841471       0.540302     2001-01-01  \n",
              "\n",
              "[5 rows x 28 columns]"
            ]
          },
          "execution_count": 44,
          "metadata": {},
          "output_type": "execute_result"
        }
      ],
      "source": [
        "# Convert missing dates to DataFrame\n",
        "missing_dates_df = pd.DataFrame({'date_extracted': missing_dates})\n",
        "\n",
        "# Fill missing dates in the DataFrame\n",
        "train_filled = pd.concat([train_merged2, missing_dates_df], ignore_index=True)\n",
        "train_filled['date_extracted'] = pd.to_datetime(train_filled['date_extracted'], errors='coerce')\n",
        "train_filled['date_extracted'].fillna('2003-02-29')\n",
        "\n",
        "train_filled.head()"
      ]
    },
    {
      "cell_type": "code",
      "execution_count": 45,
      "metadata": {},
      "outputs": [],
      "source": [
        "# # create a function to check for missing extracted dates\n",
        "# def get_missing_dates(df):\n",
        "#   col = pd.to_datetime(df['date_extracted'], errors='coerce')\n",
        "#   missing_dates = (pd.date_range(\n",
        "      \n",
        "#       start=col.min(), #start date\n",
        "#       end=col.max())   #end_date\n",
        "#       .difference(col))\n",
        "#   print(f\"we have {len(missing_dates)} dates missing out of {len(col)}\")\n",
        "#   df['date_extracted'].fillna('2003-02-29')\n",
        "#   return missing_dates\n",
        "\n",
        "# get_missing_dates(train_filled)"
      ]
    },
    {
      "cell_type": "code",
      "execution_count": 46,
      "metadata": {},
      "outputs": [
        {
          "ename": "SyntaxError",
          "evalue": "invalid syntax (2292284187.py, line 1)",
          "output_type": "error",
          "traceback": [
            "\u001b[1;36m  File \u001b[1;32m\"C:\\Users\\LENOVO\\AppData\\Local\\Temp\\ipykernel_1020\\2292284187.py\"\u001b[1;36m, line \u001b[1;32m1\u001b[0m\n\u001b[1;33m    train_filled.isna().sum()mmmm\u001b[0m\n\u001b[1;37m                             ^\u001b[0m\n\u001b[1;31mSyntaxError\u001b[0m\u001b[1;31m:\u001b[0m invalid syntax\n"
          ]
        }
      ],
      "source": [
        "train_filled.isna().sum()"
      ]
    },
    {
      "cell_type": "code",
      "execution_count": null,
      "metadata": {},
      "outputs": [],
      "source": [
        "def set_index(df):\n",
        "  df.drop('date', inplace=True, axis=1)\n",
        "  df.set_index('date_extracted', inplace=True)\n",
        "set_index(train_merged2)\n",
        "set_index(test_merged2)"
      ]
    },
    {
      "attachments": {},
      "cell_type": "markdown",
      "metadata": {
        "id": "nmZ1QBT54N0P"
      },
      "source": [
        "## Drop Duplicates"
      ]
    },
    {
      "cell_type": "code",
      "execution_count": null,
      "metadata": {
        "id": "f_muKXb1DvRi"
      },
      "outputs": [],
      "source": [
        "train_merged2.drop_duplicates(inplace=True)\n",
        "test_merged2.drop_duplicates(inplace=True)"
      ]
    },
    {
      "cell_type": "code",
      "execution_count": null,
      "metadata": {},
      "outputs": [],
      "source": [
        "train = train_merged2\n",
        "test = test_merged2"
      ]
    },
    {
      "attachments": {},
      "cell_type": "markdown",
      "metadata": {
        "id": "AGnoifAP4N0P"
      },
      "source": [
        "## Impute Missing Values"
      ]
    },
    {
      "cell_type": "code",
      "execution_count": null,
      "metadata": {
        "colab": {
          "base_uri": "https://localhost:8080/"
        },
        "id": "d57DfF5_Jhaw",
        "outputId": "b13a20ff-902c-4a93-f925-18023dd58541"
      },
      "outputs": [
        {
          "name": "stdout",
          "output_type": "stream",
          "text": [
            "store_id               0\n",
            "category_id            0\n",
            "target                 0\n",
            "onpromotion            0\n",
            "nbr_of_transactions    0\n",
            "city                   0\n",
            "store_type             0\n",
            "cluster                0\n",
            "holiday_type           0\n",
            "is_holiday             0\n",
            "year                   0\n",
            "month                  0\n",
            "dayofmonth             0\n",
            "dayofweek              0\n",
            "dayofyear              0\n",
            "weekofyear             0\n",
            "quarter                0\n",
            "is_month_start         0\n",
            "is_month_end           0\n",
            "is_quarter_start       0\n",
            "is_quarter_end         0\n",
            "is_year_start          0\n",
            "is_year_end            0\n",
            "year_weekofyear        0\n",
            "sin(dayofyear)         0\n",
            "cos(dayofyear)         0\n",
            "dtype: int64\n",
            "store_id            0\n",
            "category_id         0\n",
            "onpromotion         0\n",
            "city                0\n",
            "store_type          0\n",
            "cluster             0\n",
            "holiday_type        0\n",
            "is_holiday          0\n",
            "year                0\n",
            "month               0\n",
            "dayofmonth          0\n",
            "dayofweek           0\n",
            "dayofyear           0\n",
            "weekofyear          0\n",
            "quarter             0\n",
            "is_month_start      0\n",
            "is_month_end        0\n",
            "is_quarter_start    0\n",
            "is_quarter_end      0\n",
            "is_year_start       0\n",
            "is_year_end         0\n",
            "year_weekofyear     0\n",
            "sin(dayofyear)      0\n",
            "cos(dayofyear)      0\n",
            "dtype: int64\n"
          ]
        }
      ],
      "source": [
        "print(train.isnull().sum())\n",
        "print(test.isnull().sum())"
      ]
    },
    {
      "attachments": {},
      "cell_type": "markdown",
      "metadata": {
        "id": "sIWpPR144N0Q"
      },
      "source": [
        "# Exploratory Data Analysis: EDA"
      ]
    },
    {
      "attachments": {},
      "cell_type": "markdown",
      "metadata": {
        "id": "RD0uSjg0Mcck"
      },
      "source": [
        "## Hypothesis Validation\n",
        "**H0**: holidays have a big effect on sales, hence the sales data is seasonal.\n",
        "\n",
        "**H1**: holidays don't affect sales, hence sales data is stationary."
      ]
    },
    {
      "cell_type": "code",
      "execution_count": null,
      "metadata": {
        "colab": {
          "base_uri": "https://localhost:8080/",
          "height": 661
        },
        "id": "NeviX6Jfsd1o",
        "outputId": "e624e6c9-7e1f-48df-857f-6d9529cf70b6"
      },
      "outputs": [
        {
          "data": {
            "text/html": [
              "<div>\n",
              "<style scoped>\n",
              "    .dataframe tbody tr th:only-of-type {\n",
              "        vertical-align: middle;\n",
              "    }\n",
              "\n",
              "    .dataframe tbody tr th {\n",
              "        vertical-align: top;\n",
              "    }\n",
              "\n",
              "    .dataframe thead th {\n",
              "        text-align: right;\n",
              "    }\n",
              "</style>\n",
              "<table border=\"1\" class=\"dataframe\">\n",
              "  <thead>\n",
              "    <tr style=\"text-align: right;\">\n",
              "      <th></th>\n",
              "      <th>store_id</th>\n",
              "      <th>category_id</th>\n",
              "      <th>target</th>\n",
              "      <th>onpromotion</th>\n",
              "      <th>nbr_of_transactions</th>\n",
              "      <th>city</th>\n",
              "      <th>store_type</th>\n",
              "      <th>cluster</th>\n",
              "      <th>holiday_type</th>\n",
              "      <th>is_holiday</th>\n",
              "      <th>...</th>\n",
              "      <th>quarter</th>\n",
              "      <th>is_month_start</th>\n",
              "      <th>is_month_end</th>\n",
              "      <th>is_quarter_start</th>\n",
              "      <th>is_quarter_end</th>\n",
              "      <th>is_year_start</th>\n",
              "      <th>is_year_end</th>\n",
              "      <th>year_weekofyear</th>\n",
              "      <th>sin(dayofyear)</th>\n",
              "      <th>cos(dayofyear)</th>\n",
              "    </tr>\n",
              "    <tr>\n",
              "      <th>date_extracted</th>\n",
              "      <th></th>\n",
              "      <th></th>\n",
              "      <th></th>\n",
              "      <th></th>\n",
              "      <th></th>\n",
              "      <th></th>\n",
              "      <th></th>\n",
              "      <th></th>\n",
              "      <th></th>\n",
              "      <th></th>\n",
              "      <th></th>\n",
              "      <th></th>\n",
              "      <th></th>\n",
              "      <th></th>\n",
              "      <th></th>\n",
              "      <th></th>\n",
              "      <th></th>\n",
              "      <th></th>\n",
              "      <th></th>\n",
              "      <th></th>\n",
              "      <th></th>\n",
              "    </tr>\n",
              "  </thead>\n",
              "  <tbody>\n",
              "    <tr>\n",
              "      <th>2004-06-18</th>\n",
              "      <td>store_9</td>\n",
              "      <td>category_23</td>\n",
              "      <td>539.725</td>\n",
              "      <td>0</td>\n",
              "      <td>2141.0</td>\n",
              "      <td>city_0</td>\n",
              "      <td>store_1</td>\n",
              "      <td>cluster_4</td>\n",
              "      <td>Workday</td>\n",
              "      <td>False</td>\n",
              "      <td>...</td>\n",
              "      <td>2</td>\n",
              "      <td>False</td>\n",
              "      <td>False</td>\n",
              "      <td>False</td>\n",
              "      <td>False</td>\n",
              "      <td>False</td>\n",
              "      <td>False</td>\n",
              "      <td>424</td>\n",
              "      <td>-0.602</td>\n",
              "      <td>0.798496</td>\n",
              "    </tr>\n",
              "    <tr>\n",
              "      <th>2004-06-18</th>\n",
              "      <td>store_9</td>\n",
              "      <td>category_20</td>\n",
              "      <td>84.177</td>\n",
              "      <td>0</td>\n",
              "      <td>2141.0</td>\n",
              "      <td>city_0</td>\n",
              "      <td>store_1</td>\n",
              "      <td>cluster_4</td>\n",
              "      <td>Workday</td>\n",
              "      <td>False</td>\n",
              "      <td>...</td>\n",
              "      <td>2</td>\n",
              "      <td>False</td>\n",
              "      <td>False</td>\n",
              "      <td>False</td>\n",
              "      <td>False</td>\n",
              "      <td>False</td>\n",
              "      <td>False</td>\n",
              "      <td>424</td>\n",
              "      <td>-0.602</td>\n",
              "      <td>0.798496</td>\n",
              "    </tr>\n",
              "    <tr>\n",
              "      <th>2004-06-18</th>\n",
              "      <td>store_9</td>\n",
              "      <td>category_15</td>\n",
              "      <td>1973.760</td>\n",
              "      <td>3</td>\n",
              "      <td>2141.0</td>\n",
              "      <td>city_0</td>\n",
              "      <td>store_1</td>\n",
              "      <td>cluster_4</td>\n",
              "      <td>Workday</td>\n",
              "      <td>False</td>\n",
              "      <td>...</td>\n",
              "      <td>2</td>\n",
              "      <td>False</td>\n",
              "      <td>False</td>\n",
              "      <td>False</td>\n",
              "      <td>False</td>\n",
              "      <td>False</td>\n",
              "      <td>False</td>\n",
              "      <td>424</td>\n",
              "      <td>-0.602</td>\n",
              "      <td>0.798496</td>\n",
              "    </tr>\n",
              "    <tr>\n",
              "      <th>2004-06-18</th>\n",
              "      <td>store_9</td>\n",
              "      <td>category_29</td>\n",
              "      <td>2.000</td>\n",
              "      <td>0</td>\n",
              "      <td>2141.0</td>\n",
              "      <td>city_0</td>\n",
              "      <td>store_1</td>\n",
              "      <td>cluster_4</td>\n",
              "      <td>Workday</td>\n",
              "      <td>False</td>\n",
              "      <td>...</td>\n",
              "      <td>2</td>\n",
              "      <td>False</td>\n",
              "      <td>False</td>\n",
              "      <td>False</td>\n",
              "      <td>False</td>\n",
              "      <td>False</td>\n",
              "      <td>False</td>\n",
              "      <td>424</td>\n",
              "      <td>-0.602</td>\n",
              "      <td>0.798496</td>\n",
              "    </tr>\n",
              "    <tr>\n",
              "      <th>2004-06-18</th>\n",
              "      <td>store_9</td>\n",
              "      <td>category_10</td>\n",
              "      <td>27.076</td>\n",
              "      <td>0</td>\n",
              "      <td>2141.0</td>\n",
              "      <td>city_0</td>\n",
              "      <td>store_1</td>\n",
              "      <td>cluster_4</td>\n",
              "      <td>Workday</td>\n",
              "      <td>False</td>\n",
              "      <td>...</td>\n",
              "      <td>2</td>\n",
              "      <td>False</td>\n",
              "      <td>False</td>\n",
              "      <td>False</td>\n",
              "      <td>False</td>\n",
              "      <td>False</td>\n",
              "      <td>False</td>\n",
              "      <td>424</td>\n",
              "      <td>-0.602</td>\n",
              "      <td>0.798496</td>\n",
              "    </tr>\n",
              "  </tbody>\n",
              "</table>\n",
              "<p>5 rows × 26 columns</p>\n",
              "</div>"
            ],
            "text/plain": [
              "               store_id  category_id    target  onpromotion  \\\n",
              "date_extracted                                                \n",
              "2004-06-18      store_9  category_23   539.725            0   \n",
              "2004-06-18      store_9  category_20    84.177            0   \n",
              "2004-06-18      store_9  category_15  1973.760            3   \n",
              "2004-06-18      store_9  category_29     2.000            0   \n",
              "2004-06-18      store_9  category_10    27.076            0   \n",
              "\n",
              "                nbr_of_transactions    city store_type    cluster  \\\n",
              "date_extracted                                                      \n",
              "2004-06-18                   2141.0  city_0    store_1  cluster_4   \n",
              "2004-06-18                   2141.0  city_0    store_1  cluster_4   \n",
              "2004-06-18                   2141.0  city_0    store_1  cluster_4   \n",
              "2004-06-18                   2141.0  city_0    store_1  cluster_4   \n",
              "2004-06-18                   2141.0  city_0    store_1  cluster_4   \n",
              "\n",
              "               holiday_type  is_holiday  ...  quarter  is_month_start  \\\n",
              "date_extracted                           ...                            \n",
              "2004-06-18          Workday       False  ...        2           False   \n",
              "2004-06-18          Workday       False  ...        2           False   \n",
              "2004-06-18          Workday       False  ...        2           False   \n",
              "2004-06-18          Workday       False  ...        2           False   \n",
              "2004-06-18          Workday       False  ...        2           False   \n",
              "\n",
              "                is_month_end  is_quarter_start  is_quarter_end  is_year_start  \\\n",
              "date_extracted                                                                  \n",
              "2004-06-18             False             False           False          False   \n",
              "2004-06-18             False             False           False          False   \n",
              "2004-06-18             False             False           False          False   \n",
              "2004-06-18             False             False           False          False   \n",
              "2004-06-18             False             False           False          False   \n",
              "\n",
              "                is_year_end  year_weekofyear  sin(dayofyear)  cos(dayofyear)  \n",
              "date_extracted                                                                \n",
              "2004-06-18            False              424          -0.602        0.798496  \n",
              "2004-06-18            False              424          -0.602        0.798496  \n",
              "2004-06-18            False              424          -0.602        0.798496  \n",
              "2004-06-18            False              424          -0.602        0.798496  \n",
              "2004-06-18            False              424          -0.602        0.798496  \n",
              "\n",
              "[5 rows x 26 columns]"
            ]
          },
          "execution_count": 43,
          "metadata": {},
          "output_type": "execute_result"
        }
      ],
      "source": [
        "train.tail()"
      ]
    },
    {
      "cell_type": "code",
      "execution_count": null,
      "metadata": {
        "colab": {
          "base_uri": "https://localhost:8080/"
        },
        "id": "ntlxx3X58KbB",
        "outputId": "300c84f6-9a13-492a-ae43-664105b20bd9"
      },
      "outputs": [
        {
          "data": {
            "text/plain": [
              "Index(['store_id', 'category_id', 'target', 'onpromotion',\n",
              "       'nbr_of_transactions', 'city', 'store_type', 'cluster', 'holiday_type',\n",
              "       'is_holiday', 'year', 'month', 'dayofmonth', 'dayofweek', 'dayofyear',\n",
              "       'weekofyear', 'quarter', 'is_month_start', 'is_month_end',\n",
              "       'is_quarter_start', 'is_quarter_end', 'is_year_start', 'is_year_end',\n",
              "       'year_weekofyear', 'sin(dayofyear)', 'cos(dayofyear)'],\n",
              "      dtype='object')"
            ]
          },
          "execution_count": 44,
          "metadata": {},
          "output_type": "execute_result"
        }
      ],
      "source": [
        "train.columns"
      ]
    },
    {
      "attachments": {},
      "cell_type": "markdown",
      "metadata": {
        "id": "z6nLfhO94N0Q"
      },
      "source": [
        "## Answering Questions"
      ]
    },
    {
      "attachments": {},
      "cell_type": "markdown",
      "metadata": {
        "id": "_6tpLgwhK20R"
      },
      "source": [
        "1. Is the train data complete?"
      ]
    },
    {
      "attachments": {},
      "cell_type": "markdown",
      "metadata": {
        "id": "7Kf4QrNjLFSj"
      },
      "source": [
        "Yes. The output below shows that our train data is incomplete."
      ]
    },
    {
      "cell_type": "code",
      "execution_count": null,
      "metadata": {},
      "outputs": [],
      "source": [
        "# create a function to check for missing extracted dates\n",
        "def get_missing_dates(df):\n",
        "  col = df.index\n",
        "  missing_dates = (pd.date_range(\n",
        "      \n",
        "      start=col.min(), #start date\n",
        "      end=col.max())   #end_date\n",
        "      .difference(col))\n",
        "  print(f\"we have {len(missing_dates)} dates missing out of {len(col)}\")\n",
        "  return missing_dates"
      ]
    },
    {
      "cell_type": "code",
      "execution_count": null,
      "metadata": {
        "colab": {
          "base_uri": "https://localhost:8080/"
        },
        "id": "JTdaJT8wK4gb",
        "outputId": "98ebcc6e-72c2-4c57-b9ff-31db1579f2b4"
      },
      "outputs": [
        {
          "name": "stdout",
          "output_type": "stream",
          "text": [
            "we have 1265 dates missing out of 2268486\n"
          ]
        },
        {
          "data": {
            "text/plain": [
              "DatetimeIndex(['2001-01-01', '2001-01-02', '2001-01-03', '2001-01-04',\n",
              "               '2001-01-05', '2001-01-06', '2001-01-07', '2001-01-08',\n",
              "               '2001-01-09', '2001-01-10',\n",
              "               ...\n",
              "               '2004-06-09', '2004-06-10', '2004-06-11', '2004-06-12',\n",
              "               '2004-06-13', '2004-06-14', '2004-06-15', '2004-06-16',\n",
              "               '2004-06-17', '2004-06-18'],\n",
              "              dtype='datetime64[ns]', length=1265, freq=None)"
            ]
          },
          "execution_count": 46,
          "metadata": {},
          "output_type": "execute_result"
        }
      ],
      "source": [
        "get_missing_dates(train)"
      ]
    },
    {
      "cell_type": "code",
      "execution_count": null,
      "metadata": {},
      "outputs": [
        {
          "name": "stdout",
          "output_type": "stream",
          "text": [
            "we have 56 dates missing out of 99792\n"
          ]
        },
        {
          "data": {
            "text/plain": [
              "DatetimeIndex(['2004-06-19', '2004-06-20', '2004-06-21', '2004-06-22',\n",
              "               '2004-06-23', '2004-06-24', '2004-06-25', '2004-06-26',\n",
              "               '2004-06-27', '2004-06-28', '2004-06-29', '2004-06-30',\n",
              "               '2004-07-01', '2004-07-02', '2004-07-03', '2004-07-04',\n",
              "               '2004-07-05', '2004-07-06', '2004-07-07', '2004-07-08',\n",
              "               '2004-07-09', '2004-07-10', '2004-07-11', '2004-07-12',\n",
              "               '2004-07-13', '2004-07-14', '2004-07-15', '2004-07-16',\n",
              "               '2004-07-17', '2004-07-18', '2004-07-19', '2004-07-20',\n",
              "               '2004-07-21', '2004-07-22', '2004-07-23', '2004-07-24',\n",
              "               '2004-07-25', '2004-07-26', '2004-07-27', '2004-07-28',\n",
              "               '2004-07-29', '2004-07-30', '2004-07-31', '2004-08-01',\n",
              "               '2004-08-02', '2004-08-03', '2004-08-04', '2004-08-05',\n",
              "               '2004-08-06', '2004-08-07', '2004-08-08', '2004-08-09',\n",
              "               '2004-08-10', '2004-08-11', '2004-08-12', '2004-08-13'],\n",
              "              dtype='datetime64[ns]', freq=None)"
            ]
          },
          "execution_count": 59,
          "metadata": {},
          "output_type": "execute_result"
        }
      ],
      "source": [
        "get_missing_dates(test)"
      ]
    },
    {
      "attachments": {},
      "cell_type": "markdown",
      "metadata": {
        "id": "ua7G3f6VK1hu"
      },
      "source": [
        "2. Do we have seasonality in our sales?"
      ]
    },
    {
      "cell_type": "code",
      "execution_count": null,
      "metadata": {
        "id": "jNTmmpjQC9d2"
      },
      "outputs": [],
      "source": [
        "# Assuming your time series data is stored in the variable 'sales_data'\n",
        "sales_data = train['target']"
      ]
    },
    {
      "cell_type": "code",
      "execution_count": null,
      "metadata": {
        "id": "7udcLL2CDLjy"
      },
      "outputs": [],
      "source": [
        "# Perform KPSS test\n",
        "kpss_result = kpss(sales_data)\n",
        "kpss_statistic = kpss_result[0]\n",
        "kpss_pvalue = kpss_result[1]\n",
        "kpss_critical_values = kpss_result[3]"
      ]
    },
    {
      "cell_type": "code",
      "execution_count": null,
      "metadata": {
        "id": "OD16D9Ka_1DZ"
      },
      "outputs": [
        {
          "name": "stdout",
          "output_type": "stream",
          "text": [
            "\n",
            "KPSS Test:\n",
            "KPSS Statistic: 64.85234409929284\n",
            "p-value: 0.01\n"
          ]
        }
      ],
      "source": [
        "print(\"\\nKPSS Test:\")\n",
        "print(\"KPSS Statistic:\", kpss_statistic)\n",
        "print(\"p-value:\", kpss_pvalue)"
      ]
    },
    {
      "attachments": {},
      "cell_type": "markdown",
      "metadata": {},
      "source": [
        "stationary if p-value > 0.05\n",
        "\n",
        "series is stationary since 0.01 < 0.05"
      ]
    },
    {
      "cell_type": "code",
      "execution_count": null,
      "metadata": {
        "id": "C-k2e6-gDEZP"
      },
      "outputs": [
        {
          "data": {
            "image/png": "[encoded data removed]",
            "text/plain": [
              "<Figure size 1000x600 with 1 Axes>"
            ]
          },
          "metadata": {},
          "output_type": "display_data"
        }
      ],
      "source": [
        "def check_stationarity(df, date_col, target_col, window=12):\n",
        "    # Calculate rolling statistics\n",
        "    rolling_std = df[target_col].rolling(window=window).std()\n",
        "    rolling_mean = df[target_col].rolling(window=window).mean()\n",
        "\n",
        "    # Plot original series and rolling statistics\n",
        "    plt.figure(figsize=(10, 6))\n",
        "    plt.plot(df.index, df[target_col], color='blue', label='Original Series')\n",
        "    plt.plot(df.index, rolling_std, color='green', label='Rolling Std')\n",
        "    plt.plot(df.index, rolling_mean, color='red', label='Rolling Mean')\n",
        "    plt.legend()\n",
        "    plt.title('Rolling Statistics')\n",
        "    plt.xlabel('Date')\n",
        "    plt.ylabel('Target(sales)')\n",
        "    plt.tight_layout()  # Adjusts plot spacing\n",
        "    plt.show()\n",
        "\n",
        "# Example usage\n",
        "df = sales_data  # Assuming the sales data is stored in a dataframe called sales_data\n",
        "target_col = 'sales'  # Column containing the sales data\n",
        "\n",
        "check_stationarity(train, 'date_extracted', 'target')"
      ]
    },
    {
      "attachments": {},
      "cell_type": "markdown",
      "metadata": {},
      "source": [
        "series is stationary from the above plot, since the statistic(standard deviation) remains similar to the original series"
      ]
    },
    {
      "cell_type": "code",
      "execution_count": null,
      "metadata": {},
      "outputs": [],
      "source": [
        "# pacf = plot_pacf(series,lags = 10)"
      ]
    },
    {
      "attachments": {},
      "cell_type": "markdown",
      "metadata": {
        "id": "BRYQFGKGK0Ny"
      },
      "source": [
        "3. Are there outliers in our dataset?"
      ]
    },
    {
      "attachments": {},
      "cell_type": "markdown",
      "metadata": {
        "id": "DO8E9bunKxvg"
      },
      "source": [
        "4. What is the difference between RMSLE, RMSE and MSE?"
      ]
    },
    {
      "attachments": {},
      "cell_type": "markdown",
      "metadata": {
        "id": "S0ASY2Id4N0T"
      },
      "source": [
        "## Univariate Analysis"
      ]
    },
    {
      "attachments": {},
      "cell_type": "markdown",
      "metadata": {
        "id": "lycj1Mjo4N0U"
      },
      "source": [
        "## Bivariate Analysis"
      ]
    },
    {
      "cell_type": "code",
      "execution_count": null,
      "metadata": {},
      "outputs": [
        {
          "name": "stdout",
          "output_type": "stream",
          "text": [
            "is_month_start and is_quarter_start are moderately correlated (correlation value: 0.563987502804259)\n",
            "is_month_end and is_quarter_end are moderately correlated (correlation value: 0.5568007725128954)\n",
            "is_quarter_start and is_month_start are moderately correlated (correlation value: 0.563987502804259)\n",
            "is_quarter_start and is_year_start are moderately correlated (correlation value: 0.5324122407506269)\n",
            "is_quarter_end and is_month_end are moderately correlated (correlation value: 0.5568007725128954)\n",
            "is_year_start and is_quarter_start are moderately correlated (correlation value: 0.5324122407506269)\n"
          ]
        }
      ],
      "source": [
        "# Calculate the correlation matrix\n",
        "correlation_matrix = train.corr()\n",
        "\n",
        "# Find the moderately correlated variables\n",
        "moderate_correlation = (correlation_matrix.abs() > 0.5) & (correlation_matrix != 1) & (correlation_matrix <0.8)\n",
        "\n",
        "# Get the variable pairs with moderate correlation\n",
        "moderate_correlation_pairs = [(i, j) for i in moderate_correlation.columns for j in moderate_correlation.columns if moderate_correlation.loc[i, j]]\n",
        "\n",
        "# Print the moderately correlated variables\n",
        "for pair in moderate_correlation_pairs:\n",
        "    var1, var2 = pair\n",
        "    correlation_value = correlation_matrix.loc[var1, var2]\n",
        "    print(f\"{var1} and {var2} are moderately correlated (correlation value: {correlation_value})\")"
      ]
    },
    {
      "attachments": {},
      "cell_type": "markdown",
      "metadata": {},
      "source": [
        "These columns are all boolean, so let's look at others"
      ]
    },
    {
      "cell_type": "code",
      "execution_count": null,
      "metadata": {},
      "outputs": [
        {
          "name": "stdout",
          "output_type": "stream",
          "text": [
            "year and year_weekofyear are highly correlated (correlation value: 0.9884229388238451)\n",
            "month and dayofyear are highly correlated (correlation value: 0.9964919406599103)\n",
            "month and weekofyear are highly correlated (correlation value: 0.9658303008707717)\n",
            "month and quarter are highly correlated (correlation value: 0.9713815220940318)\n",
            "dayofyear and month are highly correlated (correlation value: 0.9964919406599103)\n",
            "dayofyear and weekofyear are highly correlated (correlation value: 0.9669203951023091)\n",
            "dayofyear and quarter are highly correlated (correlation value: 0.9685365398989686)\n",
            "weekofyear and month are highly correlated (correlation value: 0.9658303008707717)\n",
            "weekofyear and dayofyear are highly correlated (correlation value: 0.9669203951023091)\n",
            "weekofyear and quarter are highly correlated (correlation value: 0.9426460215490194)\n",
            "quarter and month are highly correlated (correlation value: 0.9713815220940318)\n",
            "quarter and dayofyear are highly correlated (correlation value: 0.9685365398989686)\n",
            "quarter and weekofyear are highly correlated (correlation value: 0.9426460215490194)\n",
            "year_weekofyear and year are highly correlated (correlation value: 0.9884229388238451)\n"
          ]
        }
      ],
      "source": [
        "# Set the threshold for high correlation\n",
        "threshold = 0.8\n",
        "\n",
        "# Find the highly correlated variables\n",
        "high_correlation = (correlation_matrix.abs() > threshold) & (correlation_matrix != 1)\n",
        "\n",
        "# Get the variable pairs with high correlation\n",
        "high_correlation_pairs = [(i, j) for i in high_correlation.columns for j in high_correlation.columns if high_correlation.loc[i, j]]\n",
        "\n",
        "# Print the highly correlated variables\n",
        "for pair in high_correlation_pairs:\n",
        "    var1, var2 = pair\n",
        "    correlation_value = correlation_matrix.loc[var1, var2]\n",
        "    print(f\"{var1} and {var2} are highly correlated (correlation value: {correlation_value})\")"
      ]
    },
    {
      "cell_type": "code",
      "execution_count": null,
      "metadata": {},
      "outputs": [
        {
          "data": {
            "image/png": "[encoded data removed]",
            "text/plain": [
              "<Figure size 1200x1200 with 15 Axes>"
            ]
          },
          "metadata": {},
          "output_type": "display_data"
        }
      ],
      "source": [
        "# Specify the column pairs and their correlation values\n",
        "column_pairs = [('year', 'year_weekofyear', 0.9884229388238451),\n",
        "                ('month', 'dayofyear', 0.9964919406599103),\n",
        "                ('month', 'weekofyear', 0.9658303008707717),\n",
        "                ('month', 'quarter', 0.9713815220940318),\n",
        "                ('dayofyear', 'month', 0.9964919406599103),\n",
        "                ('dayofyear', 'weekofyear', 0.9669203951023091),\n",
        "                ('dayofyear', 'quarter', 0.9685365398989686),\n",
        "                ('weekofyear', 'month', 0.9658303008707717),\n",
        "                ('weekofyear', 'dayofyear', 0.9669203951023091),\n",
        "                ('weekofyear', 'quarter', 0.9426460215490194),\n",
        "                ('quarter', 'month', 0.9713815220940318),\n",
        "                ('quarter', 'dayofyear', 0.9685365398989686),\n",
        "                ('quarter', 'weekofyear', 0.9426460215490194),\n",
        "                ('year_weekofyear', 'year', 0.9884229388238451)]\n",
        "\n",
        "# Create a grid layout for the scatter plots\n",
        "num_pairs = len(column_pairs)\n",
        "num_cols = 3  # Number of columns in the grid layout\n",
        "num_rows = (num_pairs + num_cols - 1) // num_cols  # Number of rows in the grid layout\n",
        "\n",
        "fig, axes = plt.subplots(num_rows, num_cols, figsize=(12, 12))\n",
        "\n",
        "# Create scatter plots for each column pair\n",
        "for i, pair in enumerate(column_pairs):\n",
        "    x_col, y_col, correlation_value = pair\n",
        "    row = i // num_cols\n",
        "    col = i % num_cols\n",
        "\n",
        "    # Select the appropriate subplot for the scatter plot\n",
        "    ax = axes[row, col] if num_rows > 1 else axes[col]\n",
        "\n",
        "    # Create the scatter plot\n",
        "    ax.scatter(train[x_col], train[y_col], alpha=0.5)\n",
        "    ax.set_xlabel(x_col)\n",
        "    ax.set_ylabel(y_col)\n",
        "    ax.set_title(f\"Scatter plot: {x_col} vs {y_col}\\nCorrelation value: {correlation_value:.4f}\")\n",
        "\n",
        "# Adjust the spacing between subplots\n",
        "fig.tight_layout()\n",
        "\n",
        "# Display the grid of scatter plots\n",
        "plt.show()"
      ]
    },
    {
      "attachments": {},
      "cell_type": "markdown",
      "metadata": {
        "id": "lQyOpX6dM6Ig"
      },
      "source": [
        "## Multivariate Analysis"
      ]
    },
    {
      "attachments": {},
      "cell_type": "markdown",
      "metadata": {
        "id": "6GmpRhjT4N0V"
      },
      "source": [
        "# Feature Engineering"
      ]
    },
    {
      "attachments": {},
      "cell_type": "markdown",
      "metadata": {
        "id": "nDXigCJl4N0V"
      },
      "source": [
        "## Creating New Features"
      ]
    },
    {
      "cell_type": "code",
      "execution_count": null,
      "metadata": {
        "id": "ZnnEQBN9HfL3"
      },
      "outputs": [],
      "source": [
        "def getDateFeatures(df):\n",
        "    \n",
        "    df[\"is_weekend\"] = df[\"dayofweek\"] > 4\n",
        "\n",
        "    # Define the criteria for each season\n",
        "    seasons = {'Winter': [12, 1, 2], 'Spring': [3, 4, 5], 'Summer': [6, 7, 8], 'Autumn': [9, 10, 11]}\n",
        "\n",
        "    # Create the 'season' column based on the 'date' column\n",
        "    df['season'] = df[\"month\"].map({month: season for season, months in seasons.items() for month in months})\n",
        "\n",
        "    return df"
      ]
    },
    {
      "cell_type": "code",
      "execution_count": null,
      "metadata": {
        "id": "qBC3kYEiHkEA"
      },
      "outputs": [
        {
          "data": {
            "text/html": [
              "<div>\n",
              "<style scoped>\n",
              "    .dataframe tbody tr th:only-of-type {\n",
              "        vertical-align: middle;\n",
              "    }\n",
              "\n",
              "    .dataframe tbody tr th {\n",
              "        vertical-align: top;\n",
              "    }\n",
              "\n",
              "    .dataframe thead th {\n",
              "        text-align: right;\n",
              "    }\n",
              "</style>\n",
              "<table border=\"1\" class=\"dataframe\">\n",
              "  <thead>\n",
              "    <tr style=\"text-align: right;\">\n",
              "      <th></th>\n",
              "      <th>store_id</th>\n",
              "      <th>category_id</th>\n",
              "      <th>onpromotion</th>\n",
              "      <th>city</th>\n",
              "      <th>store_type</th>\n",
              "      <th>cluster</th>\n",
              "      <th>holiday_type</th>\n",
              "      <th>is_holiday</th>\n",
              "      <th>year</th>\n",
              "      <th>month</th>\n",
              "      <th>...</th>\n",
              "      <th>is_month_end</th>\n",
              "      <th>is_quarter_start</th>\n",
              "      <th>is_quarter_end</th>\n",
              "      <th>is_year_start</th>\n",
              "      <th>is_year_end</th>\n",
              "      <th>year_weekofyear</th>\n",
              "      <th>sin(dayofyear)</th>\n",
              "      <th>cos(dayofyear)</th>\n",
              "      <th>is_weekend</th>\n",
              "      <th>season</th>\n",
              "    </tr>\n",
              "    <tr>\n",
              "      <th>date_extracted</th>\n",
              "      <th></th>\n",
              "      <th></th>\n",
              "      <th></th>\n",
              "      <th></th>\n",
              "      <th></th>\n",
              "      <th></th>\n",
              "      <th></th>\n",
              "      <th></th>\n",
              "      <th></th>\n",
              "      <th></th>\n",
              "      <th></th>\n",
              "      <th></th>\n",
              "      <th></th>\n",
              "      <th></th>\n",
              "      <th></th>\n",
              "      <th></th>\n",
              "      <th></th>\n",
              "      <th></th>\n",
              "      <th></th>\n",
              "      <th></th>\n",
              "      <th></th>\n",
              "    </tr>\n",
              "  </thead>\n",
              "  <tbody>\n",
              "    <tr>\n",
              "      <th>2004-06-19</th>\n",
              "      <td>store_1</td>\n",
              "      <td>category_24</td>\n",
              "      <td>0</td>\n",
              "      <td>city_0</td>\n",
              "      <td>store_0</td>\n",
              "      <td>cluster_0</td>\n",
              "      <td>Workday</td>\n",
              "      <td>False</td>\n",
              "      <td>4</td>\n",
              "      <td>6</td>\n",
              "      <td>...</td>\n",
              "      <td>False</td>\n",
              "      <td>False</td>\n",
              "      <td>False</td>\n",
              "      <td>False</td>\n",
              "      <td>False</td>\n",
              "      <td>425</td>\n",
              "      <td>0.346649</td>\n",
              "      <td>0.937995</td>\n",
              "      <td>False</td>\n",
              "      <td>Summer</td>\n",
              "    </tr>\n",
              "    <tr>\n",
              "      <th>2004-06-19</th>\n",
              "      <td>store_1</td>\n",
              "      <td>category_21</td>\n",
              "      <td>0</td>\n",
              "      <td>city_0</td>\n",
              "      <td>store_0</td>\n",
              "      <td>cluster_0</td>\n",
              "      <td>Workday</td>\n",
              "      <td>False</td>\n",
              "      <td>4</td>\n",
              "      <td>6</td>\n",
              "      <td>...</td>\n",
              "      <td>False</td>\n",
              "      <td>False</td>\n",
              "      <td>False</td>\n",
              "      <td>False</td>\n",
              "      <td>False</td>\n",
              "      <td>425</td>\n",
              "      <td>0.346649</td>\n",
              "      <td>0.937995</td>\n",
              "      <td>False</td>\n",
              "      <td>Summer</td>\n",
              "    </tr>\n",
              "    <tr>\n",
              "      <th>2004-06-19</th>\n",
              "      <td>store_1</td>\n",
              "      <td>category_32</td>\n",
              "      <td>0</td>\n",
              "      <td>city_0</td>\n",
              "      <td>store_0</td>\n",
              "      <td>cluster_0</td>\n",
              "      <td>Workday</td>\n",
              "      <td>False</td>\n",
              "      <td>4</td>\n",
              "      <td>6</td>\n",
              "      <td>...</td>\n",
              "      <td>False</td>\n",
              "      <td>False</td>\n",
              "      <td>False</td>\n",
              "      <td>False</td>\n",
              "      <td>False</td>\n",
              "      <td>425</td>\n",
              "      <td>0.346649</td>\n",
              "      <td>0.937995</td>\n",
              "      <td>False</td>\n",
              "      <td>Summer</td>\n",
              "    </tr>\n",
              "    <tr>\n",
              "      <th>2004-06-19</th>\n",
              "      <td>store_1</td>\n",
              "      <td>category_18</td>\n",
              "      <td>16</td>\n",
              "      <td>city_0</td>\n",
              "      <td>store_0</td>\n",
              "      <td>cluster_0</td>\n",
              "      <td>Workday</td>\n",
              "      <td>False</td>\n",
              "      <td>4</td>\n",
              "      <td>6</td>\n",
              "      <td>...</td>\n",
              "      <td>False</td>\n",
              "      <td>False</td>\n",
              "      <td>False</td>\n",
              "      <td>False</td>\n",
              "      <td>False</td>\n",
              "      <td>425</td>\n",
              "      <td>0.346649</td>\n",
              "      <td>0.937995</td>\n",
              "      <td>False</td>\n",
              "      <td>Summer</td>\n",
              "    </tr>\n",
              "    <tr>\n",
              "      <th>2004-06-19</th>\n",
              "      <td>store_1</td>\n",
              "      <td>category_26</td>\n",
              "      <td>0</td>\n",
              "      <td>city_0</td>\n",
              "      <td>store_0</td>\n",
              "      <td>cluster_0</td>\n",
              "      <td>Workday</td>\n",
              "      <td>False</td>\n",
              "      <td>4</td>\n",
              "      <td>6</td>\n",
              "      <td>...</td>\n",
              "      <td>False</td>\n",
              "      <td>False</td>\n",
              "      <td>False</td>\n",
              "      <td>False</td>\n",
              "      <td>False</td>\n",
              "      <td>425</td>\n",
              "      <td>0.346649</td>\n",
              "      <td>0.937995</td>\n",
              "      <td>False</td>\n",
              "      <td>Summer</td>\n",
              "    </tr>\n",
              "    <tr>\n",
              "      <th>...</th>\n",
              "      <td>...</td>\n",
              "      <td>...</td>\n",
              "      <td>...</td>\n",
              "      <td>...</td>\n",
              "      <td>...</td>\n",
              "      <td>...</td>\n",
              "      <td>...</td>\n",
              "      <td>...</td>\n",
              "      <td>...</td>\n",
              "      <td>...</td>\n",
              "      <td>...</td>\n",
              "      <td>...</td>\n",
              "      <td>...</td>\n",
              "      <td>...</td>\n",
              "      <td>...</td>\n",
              "      <td>...</td>\n",
              "      <td>...</td>\n",
              "      <td>...</td>\n",
              "      <td>...</td>\n",
              "      <td>...</td>\n",
              "      <td>...</td>\n",
              "    </tr>\n",
              "    <tr>\n",
              "      <th>2004-08-13</th>\n",
              "      <td>store_9</td>\n",
              "      <td>category_23</td>\n",
              "      <td>0</td>\n",
              "      <td>city_0</td>\n",
              "      <td>store_1</td>\n",
              "      <td>cluster_4</td>\n",
              "      <td>Workday</td>\n",
              "      <td>False</td>\n",
              "      <td>4</td>\n",
              "      <td>8</td>\n",
              "      <td>...</td>\n",
              "      <td>False</td>\n",
              "      <td>False</td>\n",
              "      <td>False</td>\n",
              "      <td>False</td>\n",
              "      <td>False</td>\n",
              "      <td>432</td>\n",
              "      <td>-0.930095</td>\n",
              "      <td>0.367319</td>\n",
              "      <td>True</td>\n",
              "      <td>Summer</td>\n",
              "    </tr>\n",
              "    <tr>\n",
              "      <th>2004-08-13</th>\n",
              "      <td>store_9</td>\n",
              "      <td>category_20</td>\n",
              "      <td>1</td>\n",
              "      <td>city_0</td>\n",
              "      <td>store_1</td>\n",
              "      <td>cluster_4</td>\n",
              "      <td>Workday</td>\n",
              "      <td>False</td>\n",
              "      <td>4</td>\n",
              "      <td>8</td>\n",
              "      <td>...</td>\n",
              "      <td>False</td>\n",
              "      <td>False</td>\n",
              "      <td>False</td>\n",
              "      <td>False</td>\n",
              "      <td>False</td>\n",
              "      <td>432</td>\n",
              "      <td>-0.930095</td>\n",
              "      <td>0.367319</td>\n",
              "      <td>True</td>\n",
              "      <td>Summer</td>\n",
              "    </tr>\n",
              "    <tr>\n",
              "      <th>2004-08-13</th>\n",
              "      <td>store_9</td>\n",
              "      <td>category_15</td>\n",
              "      <td>7</td>\n",
              "      <td>city_0</td>\n",
              "      <td>store_1</td>\n",
              "      <td>cluster_4</td>\n",
              "      <td>Workday</td>\n",
              "      <td>False</td>\n",
              "      <td>4</td>\n",
              "      <td>8</td>\n",
              "      <td>...</td>\n",
              "      <td>False</td>\n",
              "      <td>False</td>\n",
              "      <td>False</td>\n",
              "      <td>False</td>\n",
              "      <td>False</td>\n",
              "      <td>432</td>\n",
              "      <td>-0.930095</td>\n",
              "      <td>0.367319</td>\n",
              "      <td>True</td>\n",
              "      <td>Summer</td>\n",
              "    </tr>\n",
              "    <tr>\n",
              "      <th>2004-08-13</th>\n",
              "      <td>store_9</td>\n",
              "      <td>category_29</td>\n",
              "      <td>8</td>\n",
              "      <td>city_0</td>\n",
              "      <td>store_1</td>\n",
              "      <td>cluster_4</td>\n",
              "      <td>Workday</td>\n",
              "      <td>False</td>\n",
              "      <td>4</td>\n",
              "      <td>8</td>\n",
              "      <td>...</td>\n",
              "      <td>False</td>\n",
              "      <td>False</td>\n",
              "      <td>False</td>\n",
              "      <td>False</td>\n",
              "      <td>False</td>\n",
              "      <td>432</td>\n",
              "      <td>-0.930095</td>\n",
              "      <td>0.367319</td>\n",
              "      <td>True</td>\n",
              "      <td>Summer</td>\n",
              "    </tr>\n",
              "    <tr>\n",
              "      <th>2004-08-13</th>\n",
              "      <td>store_9</td>\n",
              "      <td>category_10</td>\n",
              "      <td>0</td>\n",
              "      <td>city_0</td>\n",
              "      <td>store_1</td>\n",
              "      <td>cluster_4</td>\n",
              "      <td>Workday</td>\n",
              "      <td>False</td>\n",
              "      <td>4</td>\n",
              "      <td>8</td>\n",
              "      <td>...</td>\n",
              "      <td>False</td>\n",
              "      <td>False</td>\n",
              "      <td>False</td>\n",
              "      <td>False</td>\n",
              "      <td>False</td>\n",
              "      <td>432</td>\n",
              "      <td>-0.930095</td>\n",
              "      <td>0.367319</td>\n",
              "      <td>True</td>\n",
              "      <td>Summer</td>\n",
              "    </tr>\n",
              "  </tbody>\n",
              "</table>\n",
              "<p>99792 rows × 26 columns</p>\n",
              "</div>"
            ],
            "text/plain": [
              "               store_id  category_id  onpromotion    city store_type  \\\n",
              "date_extracted                                                         \n",
              "2004-06-19      store_1  category_24            0  city_0    store_0   \n",
              "2004-06-19      store_1  category_21            0  city_0    store_0   \n",
              "2004-06-19      store_1  category_32            0  city_0    store_0   \n",
              "2004-06-19      store_1  category_18           16  city_0    store_0   \n",
              "2004-06-19      store_1  category_26            0  city_0    store_0   \n",
              "...                 ...          ...          ...     ...        ...   \n",
              "2004-08-13      store_9  category_23            0  city_0    store_1   \n",
              "2004-08-13      store_9  category_20            1  city_0    store_1   \n",
              "2004-08-13      store_9  category_15            7  city_0    store_1   \n",
              "2004-08-13      store_9  category_29            8  city_0    store_1   \n",
              "2004-08-13      store_9  category_10            0  city_0    store_1   \n",
              "\n",
              "                  cluster holiday_type  is_holiday  year  month  ...  \\\n",
              "date_extracted                                                   ...   \n",
              "2004-06-19      cluster_0      Workday       False     4      6  ...   \n",
              "2004-06-19      cluster_0      Workday       False     4      6  ...   \n",
              "2004-06-19      cluster_0      Workday       False     4      6  ...   \n",
              "2004-06-19      cluster_0      Workday       False     4      6  ...   \n",
              "2004-06-19      cluster_0      Workday       False     4      6  ...   \n",
              "...                   ...          ...         ...   ...    ...  ...   \n",
              "2004-08-13      cluster_4      Workday       False     4      8  ...   \n",
              "2004-08-13      cluster_4      Workday       False     4      8  ...   \n",
              "2004-08-13      cluster_4      Workday       False     4      8  ...   \n",
              "2004-08-13      cluster_4      Workday       False     4      8  ...   \n",
              "2004-08-13      cluster_4      Workday       False     4      8  ...   \n",
              "\n",
              "                is_month_end  is_quarter_start  is_quarter_end  is_year_start  \\\n",
              "date_extracted                                                                  \n",
              "2004-06-19             False             False           False          False   \n",
              "2004-06-19             False             False           False          False   \n",
              "2004-06-19             False             False           False          False   \n",
              "2004-06-19             False             False           False          False   \n",
              "2004-06-19             False             False           False          False   \n",
              "...                      ...               ...             ...            ...   \n",
              "2004-08-13             False             False           False          False   \n",
              "2004-08-13             False             False           False          False   \n",
              "2004-08-13             False             False           False          False   \n",
              "2004-08-13             False             False           False          False   \n",
              "2004-08-13             False             False           False          False   \n",
              "\n",
              "                is_year_end  year_weekofyear  sin(dayofyear)  cos(dayofyear)  \\\n",
              "date_extracted                                                                 \n",
              "2004-06-19            False              425        0.346649        0.937995   \n",
              "2004-06-19            False              425        0.346649        0.937995   \n",
              "2004-06-19            False              425        0.346649        0.937995   \n",
              "2004-06-19            False              425        0.346649        0.937995   \n",
              "2004-06-19            False              425        0.346649        0.937995   \n",
              "...                     ...              ...             ...             ...   \n",
              "2004-08-13            False              432       -0.930095        0.367319   \n",
              "2004-08-13            False              432       -0.930095        0.367319   \n",
              "2004-08-13            False              432       -0.930095        0.367319   \n",
              "2004-08-13            False              432       -0.930095        0.367319   \n",
              "2004-08-13            False              432       -0.930095        0.367319   \n",
              "\n",
              "                is_weekend  season  \n",
              "date_extracted                      \n",
              "2004-06-19           False  Summer  \n",
              "2004-06-19           False  Summer  \n",
              "2004-06-19           False  Summer  \n",
              "2004-06-19           False  Summer  \n",
              "2004-06-19           False  Summer  \n",
              "...                    ...     ...  \n",
              "2004-08-13            True  Summer  \n",
              "2004-08-13            True  Summer  \n",
              "2004-08-13            True  Summer  \n",
              "2004-08-13            True  Summer  \n",
              "2004-08-13            True  Summer  \n",
              "\n",
              "[99792 rows x 26 columns]"
            ]
          },
          "execution_count": 56,
          "metadata": {},
          "output_type": "execute_result"
        }
      ],
      "source": [
        "getDateFeatures(train)\n",
        "getDateFeatures(test)"
      ]
    },
    {
      "attachments": {},
      "cell_type": "markdown",
      "metadata": {},
      "source": [
        "## Resampling"
      ]
    },
    {
      "cell_type": "code",
      "execution_count": null,
      "metadata": {},
      "outputs": [
        {
          "ename": "TypeError",
          "evalue": "Only valid with DatetimeIndex, TimedeltaIndex or PeriodIndex, but got an instance of 'Index'",
          "output_type": "error",
          "traceback": [
            "\u001b[1;31m---------------------------------------------------------------------------\u001b[0m",
            "\u001b[1;31mTypeError\u001b[0m                                 Traceback (most recent call last)",
            "\u001b[1;32m~\\AppData\\Local\\Temp\\ipykernel_3740\\3559793627.py\u001b[0m in \u001b[0;36m<module>\u001b[1;34m\u001b[0m\n\u001b[1;32m----> 1\u001b[1;33m \u001b[0mresampled\u001b[0m \u001b[1;33m=\u001b[0m \u001b[0mtrain\u001b[0m\u001b[1;33m.\u001b[0m\u001b[0mresample\u001b[0m\u001b[1;33m(\u001b[0m\u001b[1;34m'W'\u001b[0m\u001b[1;33m)\u001b[0m\u001b[1;33m.\u001b[0m\u001b[0msum\u001b[0m\u001b[1;33m(\u001b[0m\u001b[1;33m)\u001b[0m\u001b[1;33m\u001b[0m\u001b[1;33m\u001b[0m\u001b[0m\n\u001b[0m",
            "\u001b[1;32mc:\\Users\\LENOVO\\anaconda3\\lib\\site-packages\\pandas\\core\\frame.py\u001b[0m in \u001b[0;36mresample\u001b[1;34m(self, rule, axis, closed, label, convention, kind, loffset, base, on, level, origin, offset)\u001b[0m\n\u001b[0;32m  10345\u001b[0m         \u001b[0moffset\u001b[0m\u001b[1;33m:\u001b[0m \u001b[0mTimedeltaConvertibleTypes\u001b[0m \u001b[1;33m|\u001b[0m \u001b[1;32mNone\u001b[0m \u001b[1;33m=\u001b[0m \u001b[1;32mNone\u001b[0m\u001b[1;33m,\u001b[0m\u001b[1;33m\u001b[0m\u001b[1;33m\u001b[0m\u001b[0m\n\u001b[0;32m  10346\u001b[0m     ) -> Resampler:\n\u001b[1;32m> 10347\u001b[1;33m         return super().resample(\n\u001b[0m\u001b[0;32m  10348\u001b[0m             \u001b[0mrule\u001b[0m\u001b[1;33m=\u001b[0m\u001b[0mrule\u001b[0m\u001b[1;33m,\u001b[0m\u001b[1;33m\u001b[0m\u001b[1;33m\u001b[0m\u001b[0m\n\u001b[0;32m  10349\u001b[0m             \u001b[0maxis\u001b[0m\u001b[1;33m=\u001b[0m\u001b[0maxis\u001b[0m\u001b[1;33m,\u001b[0m\u001b[1;33m\u001b[0m\u001b[1;33m\u001b[0m\u001b[0m\n",
            "\u001b[1;32mc:\\Users\\LENOVO\\anaconda3\\lib\\site-packages\\pandas\\core\\generic.py\u001b[0m in \u001b[0;36mresample\u001b[1;34m(self, rule, axis, closed, label, convention, kind, loffset, base, on, level, origin, offset)\u001b[0m\n\u001b[0;32m   8115\u001b[0m \u001b[1;33m\u001b[0m\u001b[0m\n\u001b[0;32m   8116\u001b[0m         \u001b[0maxis\u001b[0m \u001b[1;33m=\u001b[0m \u001b[0mself\u001b[0m\u001b[1;33m.\u001b[0m\u001b[0m_get_axis_number\u001b[0m\u001b[1;33m(\u001b[0m\u001b[0maxis\u001b[0m\u001b[1;33m)\u001b[0m\u001b[1;33m\u001b[0m\u001b[1;33m\u001b[0m\u001b[0m\n\u001b[1;32m-> 8117\u001b[1;33m         return get_resampler(\n\u001b[0m\u001b[0;32m   8118\u001b[0m             \u001b[0mself\u001b[0m\u001b[1;33m,\u001b[0m\u001b[1;33m\u001b[0m\u001b[1;33m\u001b[0m\u001b[0m\n\u001b[0;32m   8119\u001b[0m             \u001b[0mfreq\u001b[0m\u001b[1;33m=\u001b[0m\u001b[0mrule\u001b[0m\u001b[1;33m,\u001b[0m\u001b[1;33m\u001b[0m\u001b[1;33m\u001b[0m\u001b[0m\n",
            "\u001b[1;32mc:\\Users\\LENOVO\\anaconda3\\lib\\site-packages\\pandas\\core\\resample.py\u001b[0m in \u001b[0;36mget_resampler\u001b[1;34m(obj, kind, **kwds)\u001b[0m\n\u001b[0;32m   1377\u001b[0m     \"\"\"\n\u001b[0;32m   1378\u001b[0m     \u001b[0mtg\u001b[0m \u001b[1;33m=\u001b[0m \u001b[0mTimeGrouper\u001b[0m\u001b[1;33m(\u001b[0m\u001b[1;33m**\u001b[0m\u001b[0mkwds\u001b[0m\u001b[1;33m)\u001b[0m\u001b[1;33m\u001b[0m\u001b[1;33m\u001b[0m\u001b[0m\n\u001b[1;32m-> 1379\u001b[1;33m     \u001b[1;32mreturn\u001b[0m \u001b[0mtg\u001b[0m\u001b[1;33m.\u001b[0m\u001b[0m_get_resampler\u001b[0m\u001b[1;33m(\u001b[0m\u001b[0mobj\u001b[0m\u001b[1;33m,\u001b[0m \u001b[0mkind\u001b[0m\u001b[1;33m=\u001b[0m\u001b[0mkind\u001b[0m\u001b[1;33m)\u001b[0m\u001b[1;33m\u001b[0m\u001b[1;33m\u001b[0m\u001b[0m\n\u001b[0m\u001b[0;32m   1380\u001b[0m \u001b[1;33m\u001b[0m\u001b[0m\n\u001b[0;32m   1381\u001b[0m \u001b[1;33m\u001b[0m\u001b[0m\n",
            "\u001b[1;32mc:\\Users\\LENOVO\\anaconda3\\lib\\site-packages\\pandas\\core\\resample.py\u001b[0m in \u001b[0;36m_get_resampler\u001b[1;34m(self, obj, kind)\u001b[0m\n\u001b[0;32m   1553\u001b[0m             \u001b[1;32mreturn\u001b[0m \u001b[0mTimedeltaIndexResampler\u001b[0m\u001b[1;33m(\u001b[0m\u001b[0mobj\u001b[0m\u001b[1;33m,\u001b[0m \u001b[0mgroupby\u001b[0m\u001b[1;33m=\u001b[0m\u001b[0mself\u001b[0m\u001b[1;33m,\u001b[0m \u001b[0maxis\u001b[0m\u001b[1;33m=\u001b[0m\u001b[0mself\u001b[0m\u001b[1;33m.\u001b[0m\u001b[0maxis\u001b[0m\u001b[1;33m)\u001b[0m\u001b[1;33m\u001b[0m\u001b[1;33m\u001b[0m\u001b[0m\n\u001b[0;32m   1554\u001b[0m \u001b[1;33m\u001b[0m\u001b[0m\n\u001b[1;32m-> 1555\u001b[1;33m         raise TypeError(\n\u001b[0m\u001b[0;32m   1556\u001b[0m             \u001b[1;34m\"Only valid with DatetimeIndex, \"\u001b[0m\u001b[1;33m\u001b[0m\u001b[1;33m\u001b[0m\u001b[0m\n\u001b[0;32m   1557\u001b[0m             \u001b[1;34m\"TimedeltaIndex or PeriodIndex, \"\u001b[0m\u001b[1;33m\u001b[0m\u001b[1;33m\u001b[0m\u001b[0m\n",
            "\u001b[1;31mTypeError\u001b[0m: Only valid with DatetimeIndex, TimedeltaIndex or PeriodIndex, but got an instance of 'Index'"
          ]
        }
      ],
      "source": [
        "resampled = train.resample('W').sum()"
      ]
    },
    {
      "attachments": {},
      "cell_type": "markdown",
      "metadata": {
        "id": "3FVGY23N4N0c"
      },
      "source": [
        "## Features Encoding & scaling"
      ]
    },
    {
      "cell_type": "code",
      "execution_count": null,
      "metadata": {
        "id": "Ub1-OAYM4N0d"
      },
      "outputs": [],
      "source": [
        "numeric_columns = train.select_dtypes(include=['int64', 'float64']).columns.tolist()\n",
        "categoric_columns = train.select_dtypes(include=['object', 'category']).columns.tolist()"
      ]
    },
    {
      "cell_type": "code",
      "execution_count": null,
      "metadata": {
        "id": "_Tv6yroc4N0d"
      },
      "outputs": [
        {
          "name": "stdout",
          "output_type": "stream",
          "text": [
            "['onpromotion', 'year', 'month', 'dayofmonth', 'dayofweek', 'dayofyear', 'weekofyear', 'quarter', 'year_weekofyear', 'sin(dayofyear)', 'cos(dayofyear)']\n"
          ]
        }
      ],
      "source": [
        "numeric_columns.remove('target')\n",
        "numeric_columns.remove('nbr_of_transactions')\n",
        "print(numeric_columns)"
      ]
    },
    {
      "cell_type": "code",
      "execution_count": null,
      "metadata": {
        "id": "VYA-XIKY4N0d"
      },
      "outputs": [
        {
          "data": {
            "text/html": [
              "<style>#sk-container-id-1 {color: black;background-color: white;}#sk-container-id-1 pre{padding: 0;}#sk-container-id-1 div.sk-toggleable {background-color: white;}#sk-container-id-1 label.sk-toggleable__label {cursor: pointer;display: block;width: 100%;margin-bottom: 0;padding: 0.3em;box-sizing: border-box;text-align: center;}#sk-container-id-1 label.sk-toggleable__label-arrow:before {content: \"▸\";float: left;margin-right: 0.25em;color: #696969;}#sk-container-id-1 label.sk-toggleable__label-arrow:hover:before {color: black;}#sk-container-id-1 div.sk-estimator:hover label.sk-toggleable__label-arrow:before {color: black;}#sk-container-id-1 div.sk-toggleable__content {max-height: 0;max-width: 0;overflow: hidden;text-align: left;background-color: #f0f8ff;}#sk-container-id-1 div.sk-toggleable__content pre {margin: 0.2em;color: black;border-radius: 0.25em;background-color: #f0f8ff;}#sk-container-id-1 input.sk-toggleable__control:checked~div.sk-toggleable__content {max-height: 200px;max-width: 100%;overflow: auto;}#sk-container-id-1 input.sk-toggleable__control:checked~label.sk-toggleable__label-arrow:before {content: \"▾\";}#sk-container-id-1 div.sk-estimator input.sk-toggleable__control:checked~label.sk-toggleable__label {background-color: #d4ebff;}#sk-container-id-1 div.sk-label input.sk-toggleable__control:checked~label.sk-toggleable__label {background-color: #d4ebff;}#sk-container-id-1 input.sk-hidden--visually {border: 0;clip: rect(1px 1px 1px 1px);clip: rect(1px, 1px, 1px, 1px);height: 1px;margin: -1px;overflow: hidden;padding: 0;position: absolute;width: 1px;}#sk-container-id-1 div.sk-estimator {font-family: monospace;background-color: #f0f8ff;border: 1px dotted black;border-radius: 0.25em;box-sizing: border-box;margin-bottom: 0.5em;}#sk-container-id-1 div.sk-estimator:hover {background-color: #d4ebff;}#sk-container-id-1 div.sk-parallel-item::after {content: \"\";width: 100%;border-bottom: 1px solid gray;flex-grow: 1;}#sk-container-id-1 div.sk-label:hover label.sk-toggleable__label {background-color: #d4ebff;}#sk-container-id-1 div.sk-serial::before {content: \"\";position: absolute;border-left: 1px solid gray;box-sizing: border-box;top: 0;bottom: 0;left: 50%;z-index: 0;}#sk-container-id-1 div.sk-serial {display: flex;flex-direction: column;align-items: center;background-color: white;padding-right: 0.2em;padding-left: 0.2em;position: relative;}#sk-container-id-1 div.sk-item {position: relative;z-index: 1;}#sk-container-id-1 div.sk-parallel {display: flex;align-items: stretch;justify-content: center;background-color: white;position: relative;}#sk-container-id-1 div.sk-item::before, #sk-container-id-1 div.sk-parallel-item::before {content: \"\";position: absolute;border-left: 1px solid gray;box-sizing: border-box;top: 0;bottom: 0;left: 50%;z-index: -1;}#sk-container-id-1 div.sk-parallel-item {display: flex;flex-direction: column;z-index: 1;position: relative;background-color: white;}#sk-container-id-1 div.sk-parallel-item:first-child::after {align-self: flex-end;width: 50%;}#sk-container-id-1 div.sk-parallel-item:last-child::after {align-self: flex-start;width: 50%;}#sk-container-id-1 div.sk-parallel-item:only-child::after {width: 0;}#sk-container-id-1 div.sk-dashed-wrapped {border: 1px dashed gray;margin: 0 0.4em 0.5em 0.4em;box-sizing: border-box;padding-bottom: 0.4em;background-color: white;}#sk-container-id-1 div.sk-label label {font-family: monospace;font-weight: bold;display: inline-block;line-height: 1.2em;}#sk-container-id-1 div.sk-label-container {text-align: center;}#sk-container-id-1 div.sk-container {/* jupyter's `normalize.less` sets `[hidden] { display: none; }` but bootstrap.min.css set `[hidden] { display: none !important; }` so we also need the `!important` here to be able to override the default hidden behavior on the sphinx rendered scikit-learn.org. See: https://github.com/scikit-learn/scikit-learn/issues/21755 */display: inline-block !important;position: relative;}#sk-container-id-1 div.sk-text-repr-fallback {display: none;}</style><div id=\"sk-container-id-1\" class=\"sk-top-container\"><div class=\"sk-text-repr-fallback\"><pre>BinaryEncoder(cols=[&#x27;store_id&#x27;, &#x27;category_id&#x27;, &#x27;city&#x27;, &#x27;store_type&#x27;, &#x27;cluster&#x27;,\n",
              "                    &#x27;holiday_type&#x27;, &#x27;season&#x27;],\n",
              "              mapping=[{&#x27;col&#x27;: &#x27;store_id&#x27;,\n",
              "                        &#x27;mapping&#x27;:      store_id_0  store_id_1  store_id_2  store_id_3  store_id_4  store_id_5\n",
              " 1            0           0           0           0           0           1\n",
              " 2            0           0           0           0           1           0\n",
              " 3            0           0           0           0           1           1\n",
              " 4            0           0           0           1           0           0\n",
              " 5            0           0           0           1           0           1\n",
              " 6            0           0           0           1           1           0\n",
              " 7            0           0           0           1           1           1\n",
              " 8            0           0           1           0           0           0\n",
              " 9            0           0           1           0           0           1\n",
              " 10           0           0           1           0           1           0\n",
              " 11           0           0           1           0           1           1\n",
              " 12           0           0           1           1           0           0\n",
              " 13           0           0           1           1           0           1\n",
              " 14           0           0           1           1           1           0\n",
              " 15           0           0           1           1           1           1\n",
              " 16           0           1           0           0           0           0\n",
              " 17           0           1           0           0           0           1\n",
              " 18           0           1           0           0           1           0\n",
              " 19           0           1           0           0           1           1\n",
              " 20           0           1           0           1           0           0\n",
              " 21...\n",
              "                        &#x27;mapping&#x27;:      cluster_0  cluster_1  cluster_2  cluster_3  cluster_4\n",
              " 1           0          0          0          0          1\n",
              " 2           0          0          0          1          0\n",
              " 3           0          0          0          1          1\n",
              " 4           0          0          1          0          0\n",
              " 5           0          0          1          0          1\n",
              " 6           0          0          1          1          0\n",
              " 7           0          0          1          1          1\n",
              " 8           0          1          0          0          0\n",
              " 9           0          1          0          0          1\n",
              " 10          0          1          0          1          0\n",
              " 11          0          1          0          1          1\n",
              " 12          0          1          1          0          0\n",
              " 13          0          1          1          0          1\n",
              " 14          0          1          1          1          0\n",
              " 15          0          1          1          1          1\n",
              " 16          1          0          0          0          0\n",
              " 17          1          0          0          0          1\n",
              "-1           0          0          0          0          0\n",
              "-2           0          0          0          0          0},\n",
              "                       {&#x27;col&#x27;: &#x27;holiday_type&#x27;,\n",
              "                        &#x27;mapping&#x27;:     holiday_type_0  holiday_type_1  holiday_type_2\n",
              " 1               0               0               1\n",
              " 2               0               1               0\n",
              " 3               0               1               1\n",
              " 4               1               0               0\n",
              " 5               1               0               1\n",
              " 6               1               1               0\n",
              " 7               1               1               1\n",
              "-1               0               0               0\n",
              "-2               0               0               0},\n",
              "                       {&#x27;col&#x27;: &#x27;season&#x27;,\n",
              "                        &#x27;mapping&#x27;:     season_0  season_1  season_2\n",
              " 1         0         0         1\n",
              " 2         0         1         0\n",
              " 3         0         1         1\n",
              " 4         1         0         0\n",
              "-1         0         0         0\n",
              "-2         0         0         0}])</pre><b>In a Jupyter environment, please rerun this cell to show the HTML representation or trust the notebook. <br />On GitHub, the HTML representation is unable to render, please try loading this page with nbviewer.org.</b></div><div class=\"sk-container\" hidden><div class=\"sk-item\"><div class=\"sk-estimator sk-toggleable\"><input class=\"sk-toggleable__control sk-hidden--visually\" id=\"sk-estimator-id-1\" type=\"checkbox\" checked><label for=\"sk-estimator-id-1\" class=\"sk-toggleable__label sk-toggleable__label-arrow\">BinaryEncoder</label><div class=\"sk-toggleable__content\"><pre>BinaryEncoder(cols=[&#x27;store_id&#x27;, &#x27;category_id&#x27;, &#x27;city&#x27;, &#x27;store_type&#x27;, &#x27;cluster&#x27;,\n",
              "                    &#x27;holiday_type&#x27;, &#x27;season&#x27;],\n",
              "              mapping=[{&#x27;col&#x27;: &#x27;store_id&#x27;,\n",
              "                        &#x27;mapping&#x27;:      store_id_0  store_id_1  store_id_2  store_id_3  store_id_4  store_id_5\n",
              " 1            0           0           0           0           0           1\n",
              " 2            0           0           0           0           1           0\n",
              " 3            0           0           0           0           1           1\n",
              " 4            0           0           0           1           0           0\n",
              " 5            0           0           0           1           0           1\n",
              " 6            0           0           0           1           1           0\n",
              " 7            0           0           0           1           1           1\n",
              " 8            0           0           1           0           0           0\n",
              " 9            0           0           1           0           0           1\n",
              " 10           0           0           1           0           1           0\n",
              " 11           0           0           1           0           1           1\n",
              " 12           0           0           1           1           0           0\n",
              " 13           0           0           1           1           0           1\n",
              " 14           0           0           1           1           1           0\n",
              " 15           0           0           1           1           1           1\n",
              " 16           0           1           0           0           0           0\n",
              " 17           0           1           0           0           0           1\n",
              " 18           0           1           0           0           1           0\n",
              " 19           0           1           0           0           1           1\n",
              " 20           0           1           0           1           0           0\n",
              " 21...\n",
              "                        &#x27;mapping&#x27;:      cluster_0  cluster_1  cluster_2  cluster_3  cluster_4\n",
              " 1           0          0          0          0          1\n",
              " 2           0          0          0          1          0\n",
              " 3           0          0          0          1          1\n",
              " 4           0          0          1          0          0\n",
              " 5           0          0          1          0          1\n",
              " 6           0          0          1          1          0\n",
              " 7           0          0          1          1          1\n",
              " 8           0          1          0          0          0\n",
              " 9           0          1          0          0          1\n",
              " 10          0          1          0          1          0\n",
              " 11          0          1          0          1          1\n",
              " 12          0          1          1          0          0\n",
              " 13          0          1          1          0          1\n",
              " 14          0          1          1          1          0\n",
              " 15          0          1          1          1          1\n",
              " 16          1          0          0          0          0\n",
              " 17          1          0          0          0          1\n",
              "-1           0          0          0          0          0\n",
              "-2           0          0          0          0          0},\n",
              "                       {&#x27;col&#x27;: &#x27;holiday_type&#x27;,\n",
              "                        &#x27;mapping&#x27;:     holiday_type_0  holiday_type_1  holiday_type_2\n",
              " 1               0               0               1\n",
              " 2               0               1               0\n",
              " 3               0               1               1\n",
              " 4               1               0               0\n",
              " 5               1               0               1\n",
              " 6               1               1               0\n",
              " 7               1               1               1\n",
              "-1               0               0               0\n",
              "-2               0               0               0},\n",
              "                       {&#x27;col&#x27;: &#x27;season&#x27;,\n",
              "                        &#x27;mapping&#x27;:     season_0  season_1  season_2\n",
              " 1         0         0         1\n",
              " 2         0         1         0\n",
              " 3         0         1         1\n",
              " 4         1         0         0\n",
              "-1         0         0         0\n",
              "-2         0         0         0}])</pre></div></div></div></div></div>"
            ],
            "text/plain": [
              "BinaryEncoder(cols=['store_id', 'category_id', 'city', 'store_type', 'cluster',\n",
              "                    'holiday_type', 'season'],\n",
              "              mapping=[{'col': 'store_id',\n",
              "                        'mapping':      store_id_0  store_id_1  store_id_2  store_id_3  store_id_4  store_id_5\n",
              " 1            0           0           0           0           0           1\n",
              " 2            0           0           0           0           1           0\n",
              " 3            0           0           0           0           1           1\n",
              " 4            0           0           0           1           0           0\n",
              " 5            0           0           0           1           0           1\n",
              " 6            0           0           0           1           1           0\n",
              " 7            0           0           0           1           1           1\n",
              " 8            0           0           1           0           0           0\n",
              " 9            0           0           1           0           0           1\n",
              " 10           0           0           1           0           1           0\n",
              " 11           0           0           1           0           1           1\n",
              " 12           0           0           1           1           0           0\n",
              " 13           0           0           1           1           0           1\n",
              " 14           0           0           1           1           1           0\n",
              " 15           0           0           1           1           1           1\n",
              " 16           0           1           0           0           0           0\n",
              " 17           0           1           0           0           0           1\n",
              " 18           0           1           0           0           1           0\n",
              " 19           0           1           0           0           1           1\n",
              " 20           0           1           0           1           0           0\n",
              " 21...\n",
              "                        'mapping':      cluster_0  cluster_1  cluster_2  cluster_3  cluster_4\n",
              " 1           0          0          0          0          1\n",
              " 2           0          0          0          1          0\n",
              " 3           0          0          0          1          1\n",
              " 4           0          0          1          0          0\n",
              " 5           0          0          1          0          1\n",
              " 6           0          0          1          1          0\n",
              " 7           0          0          1          1          1\n",
              " 8           0          1          0          0          0\n",
              " 9           0          1          0          0          1\n",
              " 10          0          1          0          1          0\n",
              " 11          0          1          0          1          1\n",
              " 12          0          1          1          0          0\n",
              " 13          0          1          1          0          1\n",
              " 14          0          1          1          1          0\n",
              " 15          0          1          1          1          1\n",
              " 16          1          0          0          0          0\n",
              " 17          1          0          0          0          1\n",
              "-1           0          0          0          0          0\n",
              "-2           0          0          0          0          0},\n",
              "                       {'col': 'holiday_type',\n",
              "                        'mapping':     holiday_type_0  holiday_type_1  holiday_type_2\n",
              " 1               0               0               1\n",
              " 2               0               1               0\n",
              " 3               0               1               1\n",
              " 4               1               0               0\n",
              " 5               1               0               1\n",
              " 6               1               1               0\n",
              " 7               1               1               1\n",
              "-1               0               0               0\n",
              "-2               0               0               0},\n",
              "                       {'col': 'season',\n",
              "                        'mapping':     season_0  season_1  season_2\n",
              " 1         0         0         1\n",
              " 2         0         1         0\n",
              " 3         0         1         1\n",
              " 4         1         0         0\n",
              "-1         0         0         0\n",
              "-2         0         0         0}])"
            ]
          },
          "execution_count": 59,
          "metadata": {},
          "output_type": "execute_result"
        }
      ],
      "source": [
        "encoder = BinaryEncoder(drop_invariant=False, return_df=True,)\n",
        "encoder.fit(train[categoric_columns])"
      ]
    },
    {
      "cell_type": "code",
      "execution_count": null,
      "metadata": {
        "id": "SisH2rrw4N0e"
      },
      "outputs": [
        {
          "data": {
            "text/html": [
              "<style>#sk-container-id-2 {color: black;background-color: white;}#sk-container-id-2 pre{padding: 0;}#sk-container-id-2 div.sk-toggleable {background-color: white;}#sk-container-id-2 label.sk-toggleable__label {cursor: pointer;display: block;width: 100%;margin-bottom: 0;padding: 0.3em;box-sizing: border-box;text-align: center;}#sk-container-id-2 label.sk-toggleable__label-arrow:before {content: \"▸\";float: left;margin-right: 0.25em;color: #696969;}#sk-container-id-2 label.sk-toggleable__label-arrow:hover:before {color: black;}#sk-container-id-2 div.sk-estimator:hover label.sk-toggleable__label-arrow:before {color: black;}#sk-container-id-2 div.sk-toggleable__content {max-height: 0;max-width: 0;overflow: hidden;text-align: left;background-color: #f0f8ff;}#sk-container-id-2 div.sk-toggleable__content pre {margin: 0.2em;color: black;border-radius: 0.25em;background-color: #f0f8ff;}#sk-container-id-2 input.sk-toggleable__control:checked~div.sk-toggleable__content {max-height: 200px;max-width: 100%;overflow: auto;}#sk-container-id-2 input.sk-toggleable__control:checked~label.sk-toggleable__label-arrow:before {content: \"▾\";}#sk-container-id-2 div.sk-estimator input.sk-toggleable__control:checked~label.sk-toggleable__label {background-color: #d4ebff;}#sk-container-id-2 div.sk-label input.sk-toggleable__control:checked~label.sk-toggleable__label {background-color: #d4ebff;}#sk-container-id-2 input.sk-hidden--visually {border: 0;clip: rect(1px 1px 1px 1px);clip: rect(1px, 1px, 1px, 1px);height: 1px;margin: -1px;overflow: hidden;padding: 0;position: absolute;width: 1px;}#sk-container-id-2 div.sk-estimator {font-family: monospace;background-color: #f0f8ff;border: 1px dotted black;border-radius: 0.25em;box-sizing: border-box;margin-bottom: 0.5em;}#sk-container-id-2 div.sk-estimator:hover {background-color: #d4ebff;}#sk-container-id-2 div.sk-parallel-item::after {content: \"\";width: 100%;border-bottom: 1px solid gray;flex-grow: 1;}#sk-container-id-2 div.sk-label:hover label.sk-toggleable__label {background-color: #d4ebff;}#sk-container-id-2 div.sk-serial::before {content: \"\";position: absolute;border-left: 1px solid gray;box-sizing: border-box;top: 0;bottom: 0;left: 50%;z-index: 0;}#sk-container-id-2 div.sk-serial {display: flex;flex-direction: column;align-items: center;background-color: white;padding-right: 0.2em;padding-left: 0.2em;position: relative;}#sk-container-id-2 div.sk-item {position: relative;z-index: 1;}#sk-container-id-2 div.sk-parallel {display: flex;align-items: stretch;justify-content: center;background-color: white;position: relative;}#sk-container-id-2 div.sk-item::before, #sk-container-id-2 div.sk-parallel-item::before {content: \"\";position: absolute;border-left: 1px solid gray;box-sizing: border-box;top: 0;bottom: 0;left: 50%;z-index: -1;}#sk-container-id-2 div.sk-parallel-item {display: flex;flex-direction: column;z-index: 1;position: relative;background-color: white;}#sk-container-id-2 div.sk-parallel-item:first-child::after {align-self: flex-end;width: 50%;}#sk-container-id-2 div.sk-parallel-item:last-child::after {align-self: flex-start;width: 50%;}#sk-container-id-2 div.sk-parallel-item:only-child::after {width: 0;}#sk-container-id-2 div.sk-dashed-wrapped {border: 1px dashed gray;margin: 0 0.4em 0.5em 0.4em;box-sizing: border-box;padding-bottom: 0.4em;background-color: white;}#sk-container-id-2 div.sk-label label {font-family: monospace;font-weight: bold;display: inline-block;line-height: 1.2em;}#sk-container-id-2 div.sk-label-container {text-align: center;}#sk-container-id-2 div.sk-container {/* jupyter's `normalize.less` sets `[hidden] { display: none; }` but bootstrap.min.css set `[hidden] { display: none !important; }` so we also need the `!important` here to be able to override the default hidden behavior on the sphinx rendered scikit-learn.org. See: https://github.com/scikit-learn/scikit-learn/issues/21755 */display: inline-block !important;position: relative;}#sk-container-id-2 div.sk-text-repr-fallback {display: none;}</style><div id=\"sk-container-id-2\" class=\"sk-top-container\"><div class=\"sk-text-repr-fallback\"><pre>StandardScaler()</pre><b>In a Jupyter environment, please rerun this cell to show the HTML representation or trust the notebook. <br />On GitHub, the HTML representation is unable to render, please try loading this page with nbviewer.org.</b></div><div class=\"sk-container\" hidden><div class=\"sk-item\"><div class=\"sk-estimator sk-toggleable\"><input class=\"sk-toggleable__control sk-hidden--visually\" id=\"sk-estimator-id-2\" type=\"checkbox\" checked><label for=\"sk-estimator-id-2\" class=\"sk-toggleable__label sk-toggleable__label-arrow\">StandardScaler</label><div class=\"sk-toggleable__content\"><pre>StandardScaler()</pre></div></div></div></div></div>"
            ],
            "text/plain": [
              "StandardScaler()"
            ]
          },
          "execution_count": 60,
          "metadata": {},
          "output_type": "execute_result"
        }
      ],
      "source": [
        "scaler = StandardScaler()\n",
        "scaler.set_output(transform=\"pandas\")\n",
        "scaler.fit(train[numeric_columns])"
      ]
    },
    {
      "cell_type": "code",
      "execution_count": null,
      "metadata": {
        "id": "kM4aITtn4N0e"
      },
      "outputs": [],
      "source": [
        "# import pickle\n",
        "\n",
        "# with open('encoder.pkl', 'wb') as f:\n",
        "#     pickle.dump(encoder, f)\n",
        "\n",
        "# with open('scaler.pkl', 'wb') as f:\n",
        "#     pickle.dump(scaler, f)"
      ]
    },
    {
      "cell_type": "code",
      "execution_count": null,
      "metadata": {},
      "outputs": [],
      "source": [
        "scaled_num = scaler.transform(train[numeric_columns])\n",
        "scaled_num_test = scaler.transform(test[numeric_columns])"
      ]
    },
    {
      "cell_type": "code",
      "execution_count": null,
      "metadata": {},
      "outputs": [],
      "source": [
        "encoded_cat = encoder.transform(train[categoric_columns])\n",
        "encoded_cat_test = encoder.transform(test[categoric_columns])"
      ]
    },
    {
      "cell_type": "code",
      "execution_count": null,
      "metadata": {
        "id": "6C2kf5Zs4N0f"
      },
      "outputs": [],
      "source": [
        "train = pd.concat([scaled_num, encoded_cat, train['target']], axis=1)\n",
        "test = pd.concat([scaled_num_test, encoded_cat_test], axis=1)"
      ]
    },
    {
      "cell_type": "code",
      "execution_count": null,
      "metadata": {
        "id": "VbKNe5Cg4N0g"
      },
      "outputs": [],
      "source": [
        "trainn, evall = train[2168694:], train[:2168694]"
      ]
    },
    {
      "cell_type": "code",
      "execution_count": null,
      "metadata": {
        "id": "7fMYBWHB4N0g"
      },
      "outputs": [],
      "source": [
        "# Split data into parts\n",
        "x = trainn.drop(['target'], axis = 1)\n",
        "y = trainn['target']"
      ]
    },
    {
      "cell_type": "code",
      "execution_count": null,
      "metadata": {
        "id": "oeHRmt8n4N0h"
      },
      "outputs": [],
      "source": [
        "# Split data into Train Test\n",
        "X_train, X_test, y_train, y_test = x[200:], x[:200], y[200:], y[:200]"
      ]
    },
    {
      "attachments": {},
      "cell_type": "markdown",
      "metadata": {
        "id": "kpll6xDz4N0h"
      },
      "source": [
        "# Machine Learning Modeling "
      ]
    },
    {
      "attachments": {},
      "cell_type": "markdown",
      "metadata": {
        "id": "--b5dI1L4N0h"
      },
      "source": [
        "# Traditional Machine Learning Models"
      ]
    },
    {
      "attachments": {},
      "cell_type": "markdown",
      "metadata": {
        "id": "p-MG5g2V4N0h"
      },
      "source": [
        "### DecisionTreeRegressor"
      ]
    },
    {
      "cell_type": "code",
      "execution_count": null,
      "metadata": {
        "id": "7jV3ZqL64N0i"
      },
      "outputs": [],
      "source": [
        "from sklearn.tree import DecisionTreeRegressor\n",
        "tree = DecisionTreeRegressor()\n",
        "model_tree = tree.fit(X_train, y_train)\n",
        "\n",
        "# Make prediction on X_test\n",
        "tree_pred = model_tree.predict(X_test)"
      ]
    },
    {
      "cell_type": "code",
      "execution_count": null,
      "metadata": {
        "id": "Hk1yTop04N0i"
      },
      "outputs": [
        {
          "data": {
            "text/plain": [
              "<BarContainer object of 42 artists>"
            ]
          },
          "execution_count": 72,
          "metadata": {},
          "output_type": "execute_result"
        },
        {
          "data": {
            "image/png": "[encoded data removed]",
            "text/plain": [
              "<Figure size 1200x700 with 1 Axes>"
            ]
          },
          "metadata": {},
          "output_type": "display_data"
        }
      ],
      "source": [
        "# feature importance for decision tree\n",
        "plt.figure(figsize=(12,7))\n",
        "plt.barh(x.columns, model_tree.feature_importances_)"
      ]
    },
    {
      "cell_type": "code",
      "execution_count": null,
      "metadata": {
        "id": "FGVD4sAy4N0i"
      },
      "outputs": [
        {
          "data": {
            "image/png": "[encoded data removed]",
            "text/plain": [
              "<Figure size 800x400 with 1 Axes>"
            ]
          },
          "metadata": {},
          "output_type": "display_data"
        }
      ],
      "source": [
        "plt.figure(figsize=(8,4))\n",
        "plt.plot(y_test, label ='Actual Sales')\n",
        "plt.plot(tree_pred, label='DecisionTreeRegressor')\n",
        "plt.legend(loc='best')\n",
        "plt.title('DecisionTreeRegressor Prediction')\n",
        "plt.show()"
      ]
    },
    {
      "cell_type": "code",
      "execution_count": null,
      "metadata": {
        "id": "yRIq48Od4N0j"
      },
      "outputs": [
        {
          "data": {
            "text/html": [
              "<div>\n",
              "<style scoped>\n",
              "    .dataframe tbody tr th:only-of-type {\n",
              "        vertical-align: middle;\n",
              "    }\n",
              "\n",
              "    .dataframe tbody tr th {\n",
              "        vertical-align: top;\n",
              "    }\n",
              "\n",
              "    .dataframe thead th {\n",
              "        text-align: right;\n",
              "    }\n",
              "</style>\n",
              "<table border=\"1\" class=\"dataframe\">\n",
              "  <thead>\n",
              "    <tr style=\"text-align: right;\">\n",
              "      <th></th>\n",
              "      <th>Model</th>\n",
              "      <th>MSE</th>\n",
              "      <th>MSLE</th>\n",
              "      <th>RMSE</th>\n",
              "      <th>RMSLE</th>\n",
              "    </tr>\n",
              "  </thead>\n",
              "  <tbody>\n",
              "    <tr>\n",
              "      <th>0</th>\n",
              "      <td>DecisionTree</td>\n",
              "      <td>22418.588126</td>\n",
              "      <td>0.44</td>\n",
              "      <td>149.73</td>\n",
              "      <td>0.66</td>\n",
              "    </tr>\n",
              "  </tbody>\n",
              "</table>\n",
              "</div>"
            ],
            "text/plain": [
              "          Model           MSE  MSLE    RMSE  RMSLE\n",
              "0  DecisionTree  22418.588126  0.44  149.73   0.66"
            ]
          },
          "execution_count": 74,
          "metadata": {},
          "output_type": "execute_result"
        }
      ],
      "source": [
        "mse = mean_squared_error(y_test, tree_pred )\n",
        "rmse = np.sqrt(mean_squared_error(y_test, tree_pred )).round(2)\n",
        "rmsle = np.sqrt(mean_squared_log_error(y_test, tree_pred)).round(2)\n",
        "msle = mean_squared_log_error(y_test, tree_pred).round(2)\n",
        "\n",
        "\n",
        "results = pd.DataFrame([['DecisionTree', mse, msle, rmse, rmsle]], columns = ['Model', 'MSE', 'MSLE', 'RMSE', 'RMSLE'])\n",
        "# results = results.append(model_results, ignore_index = True)\n",
        "results"
      ]
    },
    {
      "attachments": {},
      "cell_type": "markdown",
      "metadata": {
        "id": "M_f0-Hnr4N0j"
      },
      "source": [
        "### KNN"
      ]
    },
    {
      "cell_type": "code",
      "execution_count": null,
      "metadata": {
        "id": "03R8eIEg4N0k"
      },
      "outputs": [],
      "source": [
        "from sklearn.neighbors import KNeighborsRegressor\n",
        "neigh = KNeighborsRegressor(n_neighbors=1)\n",
        "# fit model no training data\n",
        "neigh.fit(X_train, y_train)\n",
        "\n",
        "# make predictions for test data\n",
        "neigh_pred = neigh.predict(X_test)"
      ]
    },
    {
      "cell_type": "code",
      "execution_count": null,
      "metadata": {
        "id": "ORSI8VNk4N0k"
      },
      "outputs": [
        {
          "data": {
            "text/html": [
              "<div>\n",
              "<style scoped>\n",
              "    .dataframe tbody tr th:only-of-type {\n",
              "        vertical-align: middle;\n",
              "    }\n",
              "\n",
              "    .dataframe tbody tr th {\n",
              "        vertical-align: top;\n",
              "    }\n",
              "\n",
              "    .dataframe thead th {\n",
              "        text-align: right;\n",
              "    }\n",
              "</style>\n",
              "<table border=\"1\" class=\"dataframe\">\n",
              "  <thead>\n",
              "    <tr style=\"text-align: right;\">\n",
              "      <th></th>\n",
              "      <th>Model</th>\n",
              "      <th>MSE</th>\n",
              "      <th>MSLE</th>\n",
              "      <th>RMSE</th>\n",
              "      <th>RMSLE</th>\n",
              "    </tr>\n",
              "  </thead>\n",
              "  <tbody>\n",
              "    <tr>\n",
              "      <th>0</th>\n",
              "      <td>DecisionTree</td>\n",
              "      <td>22418.588126</td>\n",
              "      <td>0.440000</td>\n",
              "      <td>149.73</td>\n",
              "      <td>0.66000</td>\n",
              "    </tr>\n",
              "    <tr>\n",
              "      <th>1</th>\n",
              "      <td>KNN</td>\n",
              "      <td>10117.853886</td>\n",
              "      <td>0.262599</td>\n",
              "      <td>100.59</td>\n",
              "      <td>0.51244</td>\n",
              "    </tr>\n",
              "  </tbody>\n",
              "</table>\n",
              "</div>"
            ],
            "text/plain": [
              "          Model           MSE      MSLE    RMSE    RMSLE\n",
              "0  DecisionTree  22418.588126  0.440000  149.73  0.66000\n",
              "1           KNN  10117.853886  0.262599  100.59  0.51244"
            ]
          },
          "execution_count": 76,
          "metadata": {},
          "output_type": "execute_result"
        }
      ],
      "source": [
        "mse = mean_squared_error(y_test, neigh_pred )\n",
        "msle = mean_squared_log_error(y_test, neigh_pred)\n",
        "rmse = np.sqrt(mean_squared_error(y_test, neigh_pred )).round(2)\n",
        "rmsle = np.sqrt(mean_squared_log_error(y_test, neigh_pred)).round(5)\n",
        "\n",
        "# model_results = pd.DataFrame([['lightGBM', mse, rmse]], columns = ['Model', 'MSE', 'RMSE'])\n",
        "model_results = pd.DataFrame([['KNN', mse, msle, rmse, rmsle]], columns = ['Model', 'MSE', 'MSLE', 'RMSE', 'RMSLE'])\n",
        "results = results.append(model_results, ignore_index = True)\n",
        "results"
      ]
    },
    {
      "attachments": {},
      "cell_type": "markdown",
      "metadata": {
        "id": "px5fQiLs4N0k"
      },
      "source": [
        "# Models Comparison"
      ]
    },
    {
      "attachments": {},
      "cell_type": "markdown",
      "metadata": {
        "id": "pqIJI8kx4N0l"
      },
      "source": [
        "# Model Evaluation (Backtests)"
      ]
    },
    {
      "cell_type": "code",
      "execution_count": null,
      "metadata": {
        "id": "llWmEqcz4N0l"
      },
      "outputs": [],
      "source": [
        "backtests = {\n",
        "    1: ('2017-07-01', '2017-07-15'),\n",
        "    2: ('2017-07-15', '2017-07-30'),\n",
        "    3: ('2017-08-01', '2017-08-15')\n",
        "}"
      ]
    },
    {
      "cell_type": "code",
      "execution_count": null,
      "metadata": {
        "id": "bJzyU-dP4N0l"
      },
      "outputs": [
        {
          "ename": "KeyError",
          "evalue": "'date'",
          "output_type": "error",
          "traceback": [
            "\u001b[1;31m---------------------------------------------------------------------------\u001b[0m",
            "\u001b[1;31mKeyError\u001b[0m                                  Traceback (most recent call last)",
            "\u001b[1;32mc:\\Users\\LENOVO\\anaconda3\\lib\\site-packages\\pandas\\core\\indexes\\base.py\u001b[0m in \u001b[0;36mget_loc\u001b[1;34m(self, key, method, tolerance)\u001b[0m\n\u001b[0;32m   3360\u001b[0m             \u001b[1;32mtry\u001b[0m\u001b[1;33m:\u001b[0m\u001b[1;33m\u001b[0m\u001b[1;33m\u001b[0m\u001b[0m\n\u001b[1;32m-> 3361\u001b[1;33m                 \u001b[1;32mreturn\u001b[0m \u001b[0mself\u001b[0m\u001b[1;33m.\u001b[0m\u001b[0m_engine\u001b[0m\u001b[1;33m.\u001b[0m\u001b[0mget_loc\u001b[0m\u001b[1;33m(\u001b[0m\u001b[0mcasted_key\u001b[0m\u001b[1;33m)\u001b[0m\u001b[1;33m\u001b[0m\u001b[1;33m\u001b[0m\u001b[0m\n\u001b[0m\u001b[0;32m   3362\u001b[0m             \u001b[1;32mexcept\u001b[0m \u001b[0mKeyError\u001b[0m \u001b[1;32mas\u001b[0m \u001b[0merr\u001b[0m\u001b[1;33m:\u001b[0m\u001b[1;33m\u001b[0m\u001b[1;33m\u001b[0m\u001b[0m\n",
            "\u001b[1;32mc:\\Users\\LENOVO\\anaconda3\\lib\\site-packages\\pandas\\_libs\\index.pyx\u001b[0m in \u001b[0;36mpandas._libs.index.IndexEngine.get_loc\u001b[1;34m()\u001b[0m\n",
            "\u001b[1;32mc:\\Users\\LENOVO\\anaconda3\\lib\\site-packages\\pandas\\_libs\\index.pyx\u001b[0m in \u001b[0;36mpandas._libs.index.IndexEngine.get_loc\u001b[1;34m()\u001b[0m\n",
            "\u001b[1;32mpandas\\_libs\\hashtable_class_helper.pxi\u001b[0m in \u001b[0;36mpandas._libs.hashtable.PyObjectHashTable.get_item\u001b[1;34m()\u001b[0m\n",
            "\u001b[1;32mpandas\\_libs\\hashtable_class_helper.pxi\u001b[0m in \u001b[0;36mpandas._libs.hashtable.PyObjectHashTable.get_item\u001b[1;34m()\u001b[0m\n",
            "\u001b[1;31mKeyError\u001b[0m: 'date'",
            "\nThe above exception was the direct cause of the following exception:\n",
            "\u001b[1;31mKeyError\u001b[0m                                  Traceback (most recent call last)",
            "\u001b[1;32m~\\AppData\\Local\\Temp\\ipykernel_14224\\1698812806.py\u001b[0m in \u001b[0;36m<module>\u001b[1;34m\u001b[0m\n\u001b[0;32m      4\u001b[0m \u001b[1;32mfor\u001b[0m \u001b[0midx\u001b[0m\u001b[1;33m,\u001b[0m \u001b[0mperiod\u001b[0m \u001b[1;32min\u001b[0m \u001b[0menumerate\u001b[0m\u001b[1;33m(\u001b[0m\u001b[0mbacktests\u001b[0m\u001b[1;33m)\u001b[0m\u001b[1;33m:\u001b[0m\u001b[1;33m\u001b[0m\u001b[1;33m\u001b[0m\u001b[0m\n\u001b[0;32m      5\u001b[0m \u001b[1;33m\u001b[0m\u001b[0m\n\u001b[1;32m----> 6\u001b[1;33m     \u001b[0m_train\u001b[0m \u001b[1;33m=\u001b[0m \u001b[0mtrainn\u001b[0m\u001b[1;33m.\u001b[0m\u001b[0mreset_index\u001b[0m\u001b[1;33m(\u001b[0m\u001b[1;33m)\u001b[0m\u001b[1;33m[\u001b[0m\u001b[0mtrainn\u001b[0m\u001b[1;33m.\u001b[0m\u001b[0mreset_index\u001b[0m\u001b[1;33m(\u001b[0m\u001b[1;33m)\u001b[0m\u001b[1;33m[\u001b[0m\u001b[1;34m'date'\u001b[0m\u001b[1;33m]\u001b[0m \u001b[1;33m<\u001b[0m \u001b[0mbacktests\u001b[0m\u001b[1;33m[\u001b[0m\u001b[0mperiod\u001b[0m\u001b[1;33m]\u001b[0m\u001b[1;33m[\u001b[0m\u001b[1;36m0\u001b[0m\u001b[1;33m]\u001b[0m\u001b[1;33m]\u001b[0m\u001b[1;33m\u001b[0m\u001b[1;33m\u001b[0m\u001b[0m\n\u001b[0m\u001b[0;32m      7\u001b[0m     \u001b[0m_test\u001b[0m \u001b[1;33m=\u001b[0m \u001b[0mtrainn\u001b[0m\u001b[1;33m.\u001b[0m\u001b[0mreset_index\u001b[0m\u001b[1;33m(\u001b[0m\u001b[1;33m)\u001b[0m\u001b[1;33m[\u001b[0m\u001b[1;33m(\u001b[0m\u001b[0mtrainn\u001b[0m\u001b[1;33m.\u001b[0m\u001b[0mreset_index\u001b[0m\u001b[1;33m(\u001b[0m\u001b[1;33m)\u001b[0m\u001b[1;33m[\u001b[0m\u001b[1;34m'date'\u001b[0m\u001b[1;33m]\u001b[0m \u001b[1;33m>=\u001b[0m \u001b[0mbacktests\u001b[0m\u001b[1;33m[\u001b[0m\u001b[0mperiod\u001b[0m\u001b[1;33m]\u001b[0m\u001b[1;33m[\u001b[0m\u001b[1;36m0\u001b[0m\u001b[1;33m]\u001b[0m\u001b[1;33m)\u001b[0m \u001b[1;33m&\u001b[0m \u001b[1;33m(\u001b[0m\u001b[0mtrainn\u001b[0m\u001b[1;33m.\u001b[0m\u001b[0mreset_index\u001b[0m\u001b[1;33m(\u001b[0m\u001b[1;33m)\u001b[0m\u001b[1;33m[\u001b[0m\u001b[1;34m'date'\u001b[0m\u001b[1;33m]\u001b[0m \u001b[1;33m<=\u001b[0m \u001b[0mbacktests\u001b[0m\u001b[1;33m[\u001b[0m\u001b[0mperiod\u001b[0m\u001b[1;33m]\u001b[0m\u001b[1;33m[\u001b[0m\u001b[1;36m1\u001b[0m\u001b[1;33m]\u001b[0m\u001b[1;33m)\u001b[0m\u001b[1;33m]\u001b[0m\u001b[1;33m\u001b[0m\u001b[1;33m\u001b[0m\u001b[0m\n\u001b[0;32m      8\u001b[0m \u001b[1;33m\u001b[0m\u001b[0m\n",
            "\u001b[1;32mc:\\Users\\LENOVO\\anaconda3\\lib\\site-packages\\pandas\\core\\frame.py\u001b[0m in \u001b[0;36m__getitem__\u001b[1;34m(self, key)\u001b[0m\n\u001b[0;32m   3453\u001b[0m             \u001b[1;32mif\u001b[0m \u001b[0mself\u001b[0m\u001b[1;33m.\u001b[0m\u001b[0mcolumns\u001b[0m\u001b[1;33m.\u001b[0m\u001b[0mnlevels\u001b[0m \u001b[1;33m>\u001b[0m \u001b[1;36m1\u001b[0m\u001b[1;33m:\u001b[0m\u001b[1;33m\u001b[0m\u001b[1;33m\u001b[0m\u001b[0m\n\u001b[0;32m   3454\u001b[0m                 \u001b[1;32mreturn\u001b[0m \u001b[0mself\u001b[0m\u001b[1;33m.\u001b[0m\u001b[0m_getitem_multilevel\u001b[0m\u001b[1;33m(\u001b[0m\u001b[0mkey\u001b[0m\u001b[1;33m)\u001b[0m\u001b[1;33m\u001b[0m\u001b[1;33m\u001b[0m\u001b[0m\n\u001b[1;32m-> 3455\u001b[1;33m             \u001b[0mindexer\u001b[0m \u001b[1;33m=\u001b[0m \u001b[0mself\u001b[0m\u001b[1;33m.\u001b[0m\u001b[0mcolumns\u001b[0m\u001b[1;33m.\u001b[0m\u001b[0mget_loc\u001b[0m\u001b[1;33m(\u001b[0m\u001b[0mkey\u001b[0m\u001b[1;33m)\u001b[0m\u001b[1;33m\u001b[0m\u001b[1;33m\u001b[0m\u001b[0m\n\u001b[0m\u001b[0;32m   3456\u001b[0m             \u001b[1;32mif\u001b[0m \u001b[0mis_integer\u001b[0m\u001b[1;33m(\u001b[0m\u001b[0mindexer\u001b[0m\u001b[1;33m)\u001b[0m\u001b[1;33m:\u001b[0m\u001b[1;33m\u001b[0m\u001b[1;33m\u001b[0m\u001b[0m\n\u001b[0;32m   3457\u001b[0m                 \u001b[0mindexer\u001b[0m \u001b[1;33m=\u001b[0m \u001b[1;33m[\u001b[0m\u001b[0mindexer\u001b[0m\u001b[1;33m]\u001b[0m\u001b[1;33m\u001b[0m\u001b[1;33m\u001b[0m\u001b[0m\n",
            "\u001b[1;32mc:\\Users\\LENOVO\\anaconda3\\lib\\site-packages\\pandas\\core\\indexes\\base.py\u001b[0m in \u001b[0;36mget_loc\u001b[1;34m(self, key, method, tolerance)\u001b[0m\n\u001b[0;32m   3361\u001b[0m                 \u001b[1;32mreturn\u001b[0m \u001b[0mself\u001b[0m\u001b[1;33m.\u001b[0m\u001b[0m_engine\u001b[0m\u001b[1;33m.\u001b[0m\u001b[0mget_loc\u001b[0m\u001b[1;33m(\u001b[0m\u001b[0mcasted_key\u001b[0m\u001b[1;33m)\u001b[0m\u001b[1;33m\u001b[0m\u001b[1;33m\u001b[0m\u001b[0m\n\u001b[0;32m   3362\u001b[0m             \u001b[1;32mexcept\u001b[0m \u001b[0mKeyError\u001b[0m \u001b[1;32mas\u001b[0m \u001b[0merr\u001b[0m\u001b[1;33m:\u001b[0m\u001b[1;33m\u001b[0m\u001b[1;33m\u001b[0m\u001b[0m\n\u001b[1;32m-> 3363\u001b[1;33m                 \u001b[1;32mraise\u001b[0m \u001b[0mKeyError\u001b[0m\u001b[1;33m(\u001b[0m\u001b[0mkey\u001b[0m\u001b[1;33m)\u001b[0m \u001b[1;32mfrom\u001b[0m \u001b[0merr\u001b[0m\u001b[1;33m\u001b[0m\u001b[1;33m\u001b[0m\u001b[0m\n\u001b[0m\u001b[0;32m   3364\u001b[0m \u001b[1;33m\u001b[0m\u001b[0m\n\u001b[0;32m   3365\u001b[0m         \u001b[1;32mif\u001b[0m \u001b[0mis_scalar\u001b[0m\u001b[1;33m(\u001b[0m\u001b[0mkey\u001b[0m\u001b[1;33m)\u001b[0m \u001b[1;32mand\u001b[0m \u001b[0misna\u001b[0m\u001b[1;33m(\u001b[0m\u001b[0mkey\u001b[0m\u001b[1;33m)\u001b[0m \u001b[1;32mand\u001b[0m \u001b[1;32mnot\u001b[0m \u001b[0mself\u001b[0m\u001b[1;33m.\u001b[0m\u001b[0mhasnans\u001b[0m\u001b[1;33m:\u001b[0m\u001b[1;33m\u001b[0m\u001b[1;33m\u001b[0m\u001b[0m\n",
            "\u001b[1;31mKeyError\u001b[0m: 'date'"
          ]
        }
      ],
      "source": [
        "# Backtests with Decision Tree\n",
        "scores = {}\n",
        "\n",
        "for idx, period in enumerate(backtests):\n",
        "    \n",
        "    _train = trainn.reset_index()[trainn.reset_index()['date'] < backtests[period][0]]\n",
        "    _test = trainn.reset_index()[(trainn.reset_index()['date'] >= backtests[period][0]) & (trainn.reset_index()['date'] <= backtests[period][1])]\n",
        "    \n",
        "    Xtrain, ytrain = _train.set_index(['date']).drop(columns=['sales']).values, _train.sales.values\n",
        "    Xtest, ytest = _test.set_index(['date']).drop(columns=['sales']).values, _test.sales.values\n",
        "    \n",
        "    lgbm_model = DecisionTreeRegressor().fit(Xtrain, ytrain)\n",
        "    \n",
        "    ypred = lgbm_model.predict(Xtest)\n",
        "    \n",
        "    scores[period] = np.sqrt(mean_squared_log_error(ytest, ypred))\n",
        "\n",
        "print(scores)"
      ]
    },
    {
      "cell_type": "code",
      "execution_count": null,
      "metadata": {
        "id": "m2xkF2LZ4N0l"
      },
      "outputs": [],
      "source": [
        "# Split data into parts\n",
        "x = evall.drop(['sales'], axis = 1)\n",
        "y = evall['sales']"
      ]
    },
    {
      "cell_type": "code",
      "execution_count": null,
      "metadata": {
        "id": "O420mntK4N0m"
      },
      "outputs": [],
      "source": [
        "# Make prediction on X_test\n",
        "tree_pred = neigh.predict(x)"
      ]
    },
    {
      "cell_type": "code",
      "execution_count": null,
      "metadata": {
        "id": "WmJ-YyPA4N0m"
      },
      "outputs": [],
      "source": [
        "mse = mean_squared_error(y, tree_pred )\n",
        "rmse = np.sqrt(mean_squared_error(y, tree_pred )).round(2)\n",
        "rmsle = np.sqrt(mean_squared_log_error(y, tree_pred)).round(6)\n",
        "msle = mean_squared_log_error(y, tree_pred).round(2)\n",
        "\n",
        "\n",
        "results = pd.DataFrame([['DecisionTree', mse, msle, rmse, rmsle]], columns = ['Model', 'MSE', 'MSLE', 'RMSE', 'RMSLE'])\n",
        "results"
      ]
    },
    {
      "attachments": {},
      "cell_type": "markdown",
      "metadata": {
        "id": "lfuyZwMQ4N0p"
      },
      "source": [
        "### predicting sales in our test"
      ]
    },
    {
      "cell_type": "code",
      "execution_count": null,
      "metadata": {
        "id": "VdiY19CV4N0q"
      },
      "outputs": [],
      "source": [
        "# test_pred = armodel.predict(merged3_test_resampled)\n",
        "test_pred = armodel.predict(\n",
        "    start=len(x),\n",
        "    end=len(x)+ len(test_date) -1,\n",
        "    dynamic=False\n",
        ")\n",
        "test_pred[np.isnan(test_pred)] = 0\n",
        "test_pred"
      ]
    },
    {
      "cell_type": "code",
      "execution_count": null,
      "metadata": {
        "id": "ITLT-LuC4N0r"
      },
      "outputs": [],
      "source": [
        "test_sales = pd.DataFrame(test_pred, columns=['sales'])\n",
        "test_sales.head(30)"
      ]
    },
    {
      "cell_type": "code",
      "execution_count": null,
      "metadata": {
        "id": "_9M_q1aq4N0r"
      },
      "outputs": [],
      "source": [
        "# Save sample submission\n",
        "# test_sales[[ 'sales']].to_csv('submission.csv', index=False)"
      ]
    },
    {
      "cell_type": "code",
      "execution_count": null,
      "metadata": {
        "id": "7JtHj2gv4N0s"
      },
      "outputs": [],
      "source": []
    }
  ],
  "metadata": {
    "accelerator": "GPU",
    "colab": {
      "gpuType": "T4",
      "provenance": [],
      "toc_visible": true
    },
    "kernelspec": {
      "display_name": "Python 3",
      "name": "python3"
    },
    "language_info": {
      "codemirror_mode": {
        "name": "ipython",
        "version": 3
      },
      "file_extension": ".py",
      "mimetype": "text/x-python",
      "name": "python",
      "nbconvert_exporter": "python",
      "pygments_lexer": "ipython3",
      "version": "3.9.13"
    },
    "vscode": {
      "interpreter": {
        "hash": "7679c2132d3f6ce38c9df14d554b39c06862b36a4e6689c81f9ae15bd0911d7d"
      }
    }
  },
  "nbformat": 4,
  "nbformat_minor": 0
}
