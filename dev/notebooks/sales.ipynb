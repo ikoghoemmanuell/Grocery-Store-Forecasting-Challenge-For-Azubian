{
  "cells": [
    {
      "cell_type": "markdown",
      "metadata": {
        "id": "G0W08xH04Nzv"
      },
      "source": [
        "# Title"
      ]
    },
    {
      "cell_type": "markdown",
      "metadata": {
        "id": "jLTuR-lo4Nzx"
      },
      "source": [
        "# Description"
      ]
    },
    {
      "cell_type": "markdown",
      "metadata": {
        "id": "h76n_a9e4Nzy"
      },
      "source": [
        "# Importation"
      ]
    },
    {
      "cell_type": "code",
      "source": [
        "pip install category_encoders"
      ],
      "metadata": {
        "colab": {
          "base_uri": "https://localhost:8080/"
        },
        "id": "ckd2Odbb5pVh",
        "outputId": "7e8c7363-2fee-4e10-8491-d37da6fc44f9"
      },
      "execution_count": 1,
      "outputs": [
        {
          "output_type": "stream",
          "name": "stdout",
          "text": [
            "Looking in indexes: https://pypi.org/simple, https://us-python.pkg.dev/colab-wheels/public/simple/\n",
            "Requirement already satisfied: category_encoders in /usr/local/lib/python3.10/dist-packages (2.6.1)\n",
            "Requirement already satisfied: numpy>=1.14.0 in /usr/local/lib/python3.10/dist-packages (from category_encoders) (1.22.4)\n",
            "Requirement already satisfied: scikit-learn>=0.20.0 in /usr/local/lib/python3.10/dist-packages (from category_encoders) (1.2.2)\n",
            "Requirement already satisfied: scipy>=1.0.0 in /usr/local/lib/python3.10/dist-packages (from category_encoders) (1.10.1)\n",
            "Requirement already satisfied: statsmodels>=0.9.0 in /usr/local/lib/python3.10/dist-packages (from category_encoders) (0.13.5)\n",
            "Requirement already satisfied: pandas>=1.0.5 in /usr/local/lib/python3.10/dist-packages (from category_encoders) (1.5.3)\n",
            "Requirement already satisfied: patsy>=0.5.1 in /usr/local/lib/python3.10/dist-packages (from category_encoders) (0.5.3)\n",
            "Requirement already satisfied: python-dateutil>=2.8.1 in /usr/local/lib/python3.10/dist-packages (from pandas>=1.0.5->category_encoders) (2.8.2)\n",
            "Requirement already satisfied: pytz>=2020.1 in /usr/local/lib/python3.10/dist-packages (from pandas>=1.0.5->category_encoders) (2022.7.1)\n",
            "Requirement already satisfied: six in /usr/local/lib/python3.10/dist-packages (from patsy>=0.5.1->category_encoders) (1.16.0)\n",
            "Requirement already satisfied: joblib>=1.1.1 in /usr/local/lib/python3.10/dist-packages (from scikit-learn>=0.20.0->category_encoders) (1.2.0)\n",
            "Requirement already satisfied: threadpoolctl>=2.0.0 in /usr/local/lib/python3.10/dist-packages (from scikit-learn>=0.20.0->category_encoders) (3.1.0)\n",
            "Requirement already satisfied: packaging>=21.3 in /usr/local/lib/python3.10/dist-packages (from statsmodels>=0.9.0->category_encoders) (23.1)\n"
          ]
        }
      ]
    },
    {
      "cell_type": "code",
      "execution_count": 2,
      "metadata": {
        "id": "h9KtdvmP4Nzz"
      },
      "outputs": [],
      "source": [
        "import pandas as pd\n",
        "import numpy as np\n",
        "import matplotlib.pyplot as plt\n",
        "import seaborn as sns\n",
        "import plotly.express as px\n",
        "import plotly.graph_objects as go\n",
        "\n",
        "import matplotlib.dates as mdates\n",
        "%matplotlib inline\n",
        "from itertools import product\n",
        "\n",
        "from statsmodels.tsa.stattools import adfuller\n",
        "from statsmodels.tsa.stattools import kpss\n",
        "\n",
        "from sklearn.impute import SimpleImputer\n",
        "from sklearn.preprocessing import OneHotEncoder, LabelEncoder\n",
        "from category_encoders.binary import BinaryEncoder\n",
        "from sklearn.preprocessing import StandardScaler\n",
        "\n",
        "from sklearn.metrics import mean_squared_error\n",
        "from sklearn.metrics import mean_squared_log_error\n",
        "\n",
        "import warnings\n",
        "warnings.filterwarnings(\"ignore\")"
      ]
    },
    {
      "cell_type": "markdown",
      "metadata": {
        "id": "3kfbniiz4Nz0"
      },
      "source": [
        "# Data Loading"
      ]
    },
    {
      "cell_type": "code",
      "execution_count": 3,
      "metadata": {
        "id": "xM0oSuiS4Nz1"
      },
      "outputs": [],
      "source": [
        "import pandas as pd\n",
        "\n",
        "files = [\n",
        "    \"holidays.csv\",\n",
        "    \"dates.csv\",\n",
        "    \"SampleSubmission.csv\",\n",
        "    \"stores.csv\",\n",
        "    \"test.csv\",\n",
        "    \"train.csv\"\n",
        "]\n",
        "\n",
        "base_url = \"https://raw.githubusercontent.com/ikoghoemmanuell/Grocery-Store-Forecasting-Challenge-For-Azubian/main/assets/data/\"\n",
        "\n",
        "data = {}\n",
        "\n",
        "for file in files:\n",
        "    url = base_url + file\n",
        "    # if file == \"train.csv\":\n",
        "    #     data[file] = pd.read_csv(url, parse_dates=[\"date\"])\n",
        "    # else:\n",
        "    data[file] = pd.read_csv(url)\n",
        "\n",
        "# Access the data using dictionary keys\n",
        "holidays = data[\"holidays.csv\"]\n",
        "dates = data[\"dates.csv\"]\n",
        "sample = data[\"SampleSubmission.csv\"]\n",
        "stores = data[\"stores.csv\"]\n",
        "test = data[\"test.csv\"]\n",
        "train = data[\"train.csv\"]"
      ]
    },
    {
      "cell_type": "markdown",
      "metadata": {
        "id": "Mz9VjJVx4Nz3"
      },
      "source": [
        "# Dataset overview"
      ]
    },
    {
      "cell_type": "code",
      "source": [
        "train.head()"
      ],
      "metadata": {
        "colab": {
          "base_uri": "https://localhost:8080/",
          "height": 206
        },
        "id": "kajd5nDC490n",
        "outputId": "69235399-cb51-4032-b377-b5c8ef3e28c4"
      },
      "execution_count": 4,
      "outputs": [
        {
          "output_type": "execute_result",
          "data": {
            "text/plain": [
              "   date store_id  category_id  target  onpromotion  nbr_of_transactions\n",
              "0   365  store_1  category_24     0.0            0                  0.0\n",
              "1   365  store_1  category_21     0.0            0                  0.0\n",
              "2   365  store_1  category_32     0.0            0                  0.0\n",
              "3   365  store_1  category_18     0.0            0                  0.0\n",
              "4   365  store_1  category_26     0.0            0                  0.0"
            ],
            "text/html": [
              "\n",
              "  <div id=\"df-2fa5d809-07f8-49ae-b72d-b3087df24d9b\">\n",
              "    <div class=\"colab-df-container\">\n",
              "      <div>\n",
              "<style scoped>\n",
              "    .dataframe tbody tr th:only-of-type {\n",
              "        vertical-align: middle;\n",
              "    }\n",
              "\n",
              "    .dataframe tbody tr th {\n",
              "        vertical-align: top;\n",
              "    }\n",
              "\n",
              "    .dataframe thead th {\n",
              "        text-align: right;\n",
              "    }\n",
              "</style>\n",
              "<table border=\"1\" class=\"dataframe\">\n",
              "  <thead>\n",
              "    <tr style=\"text-align: right;\">\n",
              "      <th></th>\n",
              "      <th>date</th>\n",
              "      <th>store_id</th>\n",
              "      <th>category_id</th>\n",
              "      <th>target</th>\n",
              "      <th>onpromotion</th>\n",
              "      <th>nbr_of_transactions</th>\n",
              "    </tr>\n",
              "  </thead>\n",
              "  <tbody>\n",
              "    <tr>\n",
              "      <th>0</th>\n",
              "      <td>365</td>\n",
              "      <td>store_1</td>\n",
              "      <td>category_24</td>\n",
              "      <td>0.0</td>\n",
              "      <td>0</td>\n",
              "      <td>0.0</td>\n",
              "    </tr>\n",
              "    <tr>\n",
              "      <th>1</th>\n",
              "      <td>365</td>\n",
              "      <td>store_1</td>\n",
              "      <td>category_21</td>\n",
              "      <td>0.0</td>\n",
              "      <td>0</td>\n",
              "      <td>0.0</td>\n",
              "    </tr>\n",
              "    <tr>\n",
              "      <th>2</th>\n",
              "      <td>365</td>\n",
              "      <td>store_1</td>\n",
              "      <td>category_32</td>\n",
              "      <td>0.0</td>\n",
              "      <td>0</td>\n",
              "      <td>0.0</td>\n",
              "    </tr>\n",
              "    <tr>\n",
              "      <th>3</th>\n",
              "      <td>365</td>\n",
              "      <td>store_1</td>\n",
              "      <td>category_18</td>\n",
              "      <td>0.0</td>\n",
              "      <td>0</td>\n",
              "      <td>0.0</td>\n",
              "    </tr>\n",
              "    <tr>\n",
              "      <th>4</th>\n",
              "      <td>365</td>\n",
              "      <td>store_1</td>\n",
              "      <td>category_26</td>\n",
              "      <td>0.0</td>\n",
              "      <td>0</td>\n",
              "      <td>0.0</td>\n",
              "    </tr>\n",
              "  </tbody>\n",
              "</table>\n",
              "</div>\n",
              "      <button class=\"colab-df-convert\" onclick=\"convertToInteractive('df-2fa5d809-07f8-49ae-b72d-b3087df24d9b')\"\n",
              "              title=\"Convert this dataframe to an interactive table.\"\n",
              "              style=\"display:none;\">\n",
              "        \n",
              "  <svg xmlns=\"http://www.w3.org/2000/svg\" height=\"24px\"viewBox=\"0 0 24 24\"\n",
              "       width=\"24px\">\n",
              "    <path d=\"M0 0h24v24H0V0z\" fill=\"none\"/>\n",
              "    <path d=\"M18.56 5.44l.94 2.06.94-2.06 2.06-.94-2.06-.94-.94-2.06-.94 2.06-2.06.94zm-11 1L8.5 8.5l.94-2.06 2.06-.94-2.06-.94L8.5 2.5l-.94 2.06-2.06.94zm10 10l.94 2.06.94-2.06 2.06-.94-2.06-.94-.94-2.06-.94 2.06-2.06.94z\"/><path d=\"M17.41 7.96l-1.37-1.37c-.4-.4-.92-.59-1.43-.59-.52 0-1.04.2-1.43.59L10.3 9.45l-7.72 7.72c-.78.78-.78 2.05 0 2.83L4 21.41c.39.39.9.59 1.41.59.51 0 1.02-.2 1.41-.59l7.78-7.78 2.81-2.81c.8-.78.8-2.07 0-2.86zM5.41 20L4 18.59l7.72-7.72 1.47 1.35L5.41 20z\"/>\n",
              "  </svg>\n",
              "      </button>\n",
              "      \n",
              "  <style>\n",
              "    .colab-df-container {\n",
              "      display:flex;\n",
              "      flex-wrap:wrap;\n",
              "      gap: 12px;\n",
              "    }\n",
              "\n",
              "    .colab-df-convert {\n",
              "      background-color: #E8F0FE;\n",
              "      border: none;\n",
              "      border-radius: 50%;\n",
              "      cursor: pointer;\n",
              "      display: none;\n",
              "      fill: #1967D2;\n",
              "      height: 32px;\n",
              "      padding: 0 0 0 0;\n",
              "      width: 32px;\n",
              "    }\n",
              "\n",
              "    .colab-df-convert:hover {\n",
              "      background-color: #E2EBFA;\n",
              "      box-shadow: 0px 1px 2px rgba(60, 64, 67, 0.3), 0px 1px 3px 1px rgba(60, 64, 67, 0.15);\n",
              "      fill: #174EA6;\n",
              "    }\n",
              "\n",
              "    [theme=dark] .colab-df-convert {\n",
              "      background-color: #3B4455;\n",
              "      fill: #D2E3FC;\n",
              "    }\n",
              "\n",
              "    [theme=dark] .colab-df-convert:hover {\n",
              "      background-color: #434B5C;\n",
              "      box-shadow: 0px 1px 3px 1px rgba(0, 0, 0, 0.15);\n",
              "      filter: drop-shadow(0px 1px 2px rgba(0, 0, 0, 0.3));\n",
              "      fill: #FFFFFF;\n",
              "    }\n",
              "  </style>\n",
              "\n",
              "      <script>\n",
              "        const buttonEl =\n",
              "          document.querySelector('#df-2fa5d809-07f8-49ae-b72d-b3087df24d9b button.colab-df-convert');\n",
              "        buttonEl.style.display =\n",
              "          google.colab.kernel.accessAllowed ? 'block' : 'none';\n",
              "\n",
              "        async function convertToInteractive(key) {\n",
              "          const element = document.querySelector('#df-2fa5d809-07f8-49ae-b72d-b3087df24d9b');\n",
              "          const dataTable =\n",
              "            await google.colab.kernel.invokeFunction('convertToInteractive',\n",
              "                                                     [key], {});\n",
              "          if (!dataTable) return;\n",
              "\n",
              "          const docLinkHtml = 'Like what you see? Visit the ' +\n",
              "            '<a target=\"_blank\" href=https://colab.research.google.com/notebooks/data_table.ipynb>data table notebook</a>'\n",
              "            + ' to learn more about interactive tables.';\n",
              "          element.innerHTML = '';\n",
              "          dataTable['output_type'] = 'display_data';\n",
              "          await google.colab.output.renderOutput(dataTable, element);\n",
              "          const docLink = document.createElement('div');\n",
              "          docLink.innerHTML = docLinkHtml;\n",
              "          element.appendChild(docLink);\n",
              "        }\n",
              "      </script>\n",
              "    </div>\n",
              "  </div>\n",
              "  "
            ]
          },
          "metadata": {},
          "execution_count": 4
        }
      ]
    },
    {
      "cell_type": "markdown",
      "source": [
        "the target column to sales, so change it"
      ],
      "metadata": {
        "id": "ZyPaU_qmHhWp"
      }
    },
    {
      "cell_type": "code",
      "source": [
        "# renaming target column in train\n",
        "train.rename(columns={'target': 'sales'}, inplace=True)"
      ],
      "metadata": {
        "id": "B-uTIbsEHvnh"
      },
      "execution_count": 5,
      "outputs": []
    },
    {
      "cell_type": "code",
      "source": [
        "train.info()"
      ],
      "metadata": {
        "colab": {
          "base_uri": "https://localhost:8080/"
        },
        "id": "GdzvIuCO81Do",
        "outputId": "fdf04f29-fdee-4716-fb52-763792360669"
      },
      "execution_count": 6,
      "outputs": [
        {
          "output_type": "stream",
          "name": "stdout",
          "text": [
            "<class 'pandas.core.frame.DataFrame'>\n",
            "RangeIndex: 2248884 entries, 0 to 2248883\n",
            "Data columns (total 6 columns):\n",
            " #   Column               Dtype  \n",
            "---  ------               -----  \n",
            " 0   date                 int64  \n",
            " 1   store_id             object \n",
            " 2   category_id          object \n",
            " 3   sales                float64\n",
            " 4   onpromotion          int64  \n",
            " 5   nbr_of_transactions  float64\n",
            "dtypes: float64(2), int64(2), object(2)\n",
            "memory usage: 102.9+ MB\n"
          ]
        }
      ]
    },
    {
      "cell_type": "markdown",
      "source": [
        "train date is in numerical format. We'll have to convert it to Datetime format later"
      ],
      "metadata": {
        "id": "UKsCG3Cr5058"
      }
    },
    {
      "cell_type": "code",
      "source": [
        "test.head()"
      ],
      "metadata": {
        "colab": {
          "base_uri": "https://localhost:8080/",
          "height": 206
        },
        "id": "BBssAeqaAYbs",
        "outputId": "64e6b33d-8f95-4893-82a9-fab4fd180a08"
      },
      "execution_count": 7,
      "outputs": [
        {
          "output_type": "execute_result",
          "data": {
            "text/plain": [
              "   date store_id  category_id  onpromotion\n",
              "0  1627  store_1  category_24            0\n",
              "1  1627  store_1  category_21            0\n",
              "2  1627  store_1  category_32            0\n",
              "3  1627  store_1  category_18           16\n",
              "4  1627  store_1  category_26            0"
            ],
            "text/html": [
              "\n",
              "  <div id=\"df-e026b0ca-f580-4b8b-9581-974e3cc49691\">\n",
              "    <div class=\"colab-df-container\">\n",
              "      <div>\n",
              "<style scoped>\n",
              "    .dataframe tbody tr th:only-of-type {\n",
              "        vertical-align: middle;\n",
              "    }\n",
              "\n",
              "    .dataframe tbody tr th {\n",
              "        vertical-align: top;\n",
              "    }\n",
              "\n",
              "    .dataframe thead th {\n",
              "        text-align: right;\n",
              "    }\n",
              "</style>\n",
              "<table border=\"1\" class=\"dataframe\">\n",
              "  <thead>\n",
              "    <tr style=\"text-align: right;\">\n",
              "      <th></th>\n",
              "      <th>date</th>\n",
              "      <th>store_id</th>\n",
              "      <th>category_id</th>\n",
              "      <th>onpromotion</th>\n",
              "    </tr>\n",
              "  </thead>\n",
              "  <tbody>\n",
              "    <tr>\n",
              "      <th>0</th>\n",
              "      <td>1627</td>\n",
              "      <td>store_1</td>\n",
              "      <td>category_24</td>\n",
              "      <td>0</td>\n",
              "    </tr>\n",
              "    <tr>\n",
              "      <th>1</th>\n",
              "      <td>1627</td>\n",
              "      <td>store_1</td>\n",
              "      <td>category_21</td>\n",
              "      <td>0</td>\n",
              "    </tr>\n",
              "    <tr>\n",
              "      <th>2</th>\n",
              "      <td>1627</td>\n",
              "      <td>store_1</td>\n",
              "      <td>category_32</td>\n",
              "      <td>0</td>\n",
              "    </tr>\n",
              "    <tr>\n",
              "      <th>3</th>\n",
              "      <td>1627</td>\n",
              "      <td>store_1</td>\n",
              "      <td>category_18</td>\n",
              "      <td>16</td>\n",
              "    </tr>\n",
              "    <tr>\n",
              "      <th>4</th>\n",
              "      <td>1627</td>\n",
              "      <td>store_1</td>\n",
              "      <td>category_26</td>\n",
              "      <td>0</td>\n",
              "    </tr>\n",
              "  </tbody>\n",
              "</table>\n",
              "</div>\n",
              "      <button class=\"colab-df-convert\" onclick=\"convertToInteractive('df-e026b0ca-f580-4b8b-9581-974e3cc49691')\"\n",
              "              title=\"Convert this dataframe to an interactive table.\"\n",
              "              style=\"display:none;\">\n",
              "        \n",
              "  <svg xmlns=\"http://www.w3.org/2000/svg\" height=\"24px\"viewBox=\"0 0 24 24\"\n",
              "       width=\"24px\">\n",
              "    <path d=\"M0 0h24v24H0V0z\" fill=\"none\"/>\n",
              "    <path d=\"M18.56 5.44l.94 2.06.94-2.06 2.06-.94-2.06-.94-.94-2.06-.94 2.06-2.06.94zm-11 1L8.5 8.5l.94-2.06 2.06-.94-2.06-.94L8.5 2.5l-.94 2.06-2.06.94zm10 10l.94 2.06.94-2.06 2.06-.94-2.06-.94-.94-2.06-.94 2.06-2.06.94z\"/><path d=\"M17.41 7.96l-1.37-1.37c-.4-.4-.92-.59-1.43-.59-.52 0-1.04.2-1.43.59L10.3 9.45l-7.72 7.72c-.78.78-.78 2.05 0 2.83L4 21.41c.39.39.9.59 1.41.59.51 0 1.02-.2 1.41-.59l7.78-7.78 2.81-2.81c.8-.78.8-2.07 0-2.86zM5.41 20L4 18.59l7.72-7.72 1.47 1.35L5.41 20z\"/>\n",
              "  </svg>\n",
              "      </button>\n",
              "      \n",
              "  <style>\n",
              "    .colab-df-container {\n",
              "      display:flex;\n",
              "      flex-wrap:wrap;\n",
              "      gap: 12px;\n",
              "    }\n",
              "\n",
              "    .colab-df-convert {\n",
              "      background-color: #E8F0FE;\n",
              "      border: none;\n",
              "      border-radius: 50%;\n",
              "      cursor: pointer;\n",
              "      display: none;\n",
              "      fill: #1967D2;\n",
              "      height: 32px;\n",
              "      padding: 0 0 0 0;\n",
              "      width: 32px;\n",
              "    }\n",
              "\n",
              "    .colab-df-convert:hover {\n",
              "      background-color: #E2EBFA;\n",
              "      box-shadow: 0px 1px 2px rgba(60, 64, 67, 0.3), 0px 1px 3px 1px rgba(60, 64, 67, 0.15);\n",
              "      fill: #174EA6;\n",
              "    }\n",
              "\n",
              "    [theme=dark] .colab-df-convert {\n",
              "      background-color: #3B4455;\n",
              "      fill: #D2E3FC;\n",
              "    }\n",
              "\n",
              "    [theme=dark] .colab-df-convert:hover {\n",
              "      background-color: #434B5C;\n",
              "      box-shadow: 0px 1px 3px 1px rgba(0, 0, 0, 0.15);\n",
              "      filter: drop-shadow(0px 1px 2px rgba(0, 0, 0, 0.3));\n",
              "      fill: #FFFFFF;\n",
              "    }\n",
              "  </style>\n",
              "\n",
              "      <script>\n",
              "        const buttonEl =\n",
              "          document.querySelector('#df-e026b0ca-f580-4b8b-9581-974e3cc49691 button.colab-df-convert');\n",
              "        buttonEl.style.display =\n",
              "          google.colab.kernel.accessAllowed ? 'block' : 'none';\n",
              "\n",
              "        async function convertToInteractive(key) {\n",
              "          const element = document.querySelector('#df-e026b0ca-f580-4b8b-9581-974e3cc49691');\n",
              "          const dataTable =\n",
              "            await google.colab.kernel.invokeFunction('convertToInteractive',\n",
              "                                                     [key], {});\n",
              "          if (!dataTable) return;\n",
              "\n",
              "          const docLinkHtml = 'Like what you see? Visit the ' +\n",
              "            '<a target=\"_blank\" href=https://colab.research.google.com/notebooks/data_table.ipynb>data table notebook</a>'\n",
              "            + ' to learn more about interactive tables.';\n",
              "          element.innerHTML = '';\n",
              "          dataTable['output_type'] = 'display_data';\n",
              "          await google.colab.output.renderOutput(dataTable, element);\n",
              "          const docLink = document.createElement('div');\n",
              "          docLink.innerHTML = docLinkHtml;\n",
              "          element.appendChild(docLink);\n",
              "        }\n",
              "      </script>\n",
              "    </div>\n",
              "  </div>\n",
              "  "
            ]
          },
          "metadata": {},
          "execution_count": 7
        }
      ]
    },
    {
      "cell_type": "code",
      "source": [
        "test.info()"
      ],
      "metadata": {
        "colab": {
          "base_uri": "https://localhost:8080/"
        },
        "id": "wuTqIthgAuqV",
        "outputId": "d619fd3d-cbd1-4baf-87cb-a76a84e142a7"
      },
      "execution_count": 8,
      "outputs": [
        {
          "output_type": "stream",
          "name": "stdout",
          "text": [
            "<class 'pandas.core.frame.DataFrame'>\n",
            "RangeIndex: 99792 entries, 0 to 99791\n",
            "Data columns (total 4 columns):\n",
            " #   Column       Non-Null Count  Dtype \n",
            "---  ------       --------------  ----- \n",
            " 0   date         99792 non-null  int64 \n",
            " 1   store_id     99792 non-null  object\n",
            " 2   category_id  99792 non-null  object\n",
            " 3   onpromotion  99792 non-null  int64 \n",
            "dtypes: int64(2), object(2)\n",
            "memory usage: 3.0+ MB\n"
          ]
        }
      ]
    },
    {
      "cell_type": "code",
      "source": [
        "stores.head()"
      ],
      "metadata": {
        "colab": {
          "base_uri": "https://localhost:8080/",
          "height": 206
        },
        "id": "M0DDPOuEBLHK",
        "outputId": "d1683b0f-b424-47a9-f50f-2f1e32e5b188"
      },
      "execution_count": 9,
      "outputs": [
        {
          "output_type": "execute_result",
          "data": {
            "text/plain": [
              "  store_id  city  type  cluster\n",
              "0  store_1     0     0        0\n",
              "1  store_2     0     0        0\n",
              "2  store_3     0     0        1\n",
              "3  store_4     0     0        2\n",
              "4  store_5     1     0        3"
            ],
            "text/html": [
              "\n",
              "  <div id=\"df-3893860e-e261-4663-8e24-20279a54335f\">\n",
              "    <div class=\"colab-df-container\">\n",
              "      <div>\n",
              "<style scoped>\n",
              "    .dataframe tbody tr th:only-of-type {\n",
              "        vertical-align: middle;\n",
              "    }\n",
              "\n",
              "    .dataframe tbody tr th {\n",
              "        vertical-align: top;\n",
              "    }\n",
              "\n",
              "    .dataframe thead th {\n",
              "        text-align: right;\n",
              "    }\n",
              "</style>\n",
              "<table border=\"1\" class=\"dataframe\">\n",
              "  <thead>\n",
              "    <tr style=\"text-align: right;\">\n",
              "      <th></th>\n",
              "      <th>store_id</th>\n",
              "      <th>city</th>\n",
              "      <th>type</th>\n",
              "      <th>cluster</th>\n",
              "    </tr>\n",
              "  </thead>\n",
              "  <tbody>\n",
              "    <tr>\n",
              "      <th>0</th>\n",
              "      <td>store_1</td>\n",
              "      <td>0</td>\n",
              "      <td>0</td>\n",
              "      <td>0</td>\n",
              "    </tr>\n",
              "    <tr>\n",
              "      <th>1</th>\n",
              "      <td>store_2</td>\n",
              "      <td>0</td>\n",
              "      <td>0</td>\n",
              "      <td>0</td>\n",
              "    </tr>\n",
              "    <tr>\n",
              "      <th>2</th>\n",
              "      <td>store_3</td>\n",
              "      <td>0</td>\n",
              "      <td>0</td>\n",
              "      <td>1</td>\n",
              "    </tr>\n",
              "    <tr>\n",
              "      <th>3</th>\n",
              "      <td>store_4</td>\n",
              "      <td>0</td>\n",
              "      <td>0</td>\n",
              "      <td>2</td>\n",
              "    </tr>\n",
              "    <tr>\n",
              "      <th>4</th>\n",
              "      <td>store_5</td>\n",
              "      <td>1</td>\n",
              "      <td>0</td>\n",
              "      <td>3</td>\n",
              "    </tr>\n",
              "  </tbody>\n",
              "</table>\n",
              "</div>\n",
              "      <button class=\"colab-df-convert\" onclick=\"convertToInteractive('df-3893860e-e261-4663-8e24-20279a54335f')\"\n",
              "              title=\"Convert this dataframe to an interactive table.\"\n",
              "              style=\"display:none;\">\n",
              "        \n",
              "  <svg xmlns=\"http://www.w3.org/2000/svg\" height=\"24px\"viewBox=\"0 0 24 24\"\n",
              "       width=\"24px\">\n",
              "    <path d=\"M0 0h24v24H0V0z\" fill=\"none\"/>\n",
              "    <path d=\"M18.56 5.44l.94 2.06.94-2.06 2.06-.94-2.06-.94-.94-2.06-.94 2.06-2.06.94zm-11 1L8.5 8.5l.94-2.06 2.06-.94-2.06-.94L8.5 2.5l-.94 2.06-2.06.94zm10 10l.94 2.06.94-2.06 2.06-.94-2.06-.94-.94-2.06-.94 2.06-2.06.94z\"/><path d=\"M17.41 7.96l-1.37-1.37c-.4-.4-.92-.59-1.43-.59-.52 0-1.04.2-1.43.59L10.3 9.45l-7.72 7.72c-.78.78-.78 2.05 0 2.83L4 21.41c.39.39.9.59 1.41.59.51 0 1.02-.2 1.41-.59l7.78-7.78 2.81-2.81c.8-.78.8-2.07 0-2.86zM5.41 20L4 18.59l7.72-7.72 1.47 1.35L5.41 20z\"/>\n",
              "  </svg>\n",
              "      </button>\n",
              "      \n",
              "  <style>\n",
              "    .colab-df-container {\n",
              "      display:flex;\n",
              "      flex-wrap:wrap;\n",
              "      gap: 12px;\n",
              "    }\n",
              "\n",
              "    .colab-df-convert {\n",
              "      background-color: #E8F0FE;\n",
              "      border: none;\n",
              "      border-radius: 50%;\n",
              "      cursor: pointer;\n",
              "      display: none;\n",
              "      fill: #1967D2;\n",
              "      height: 32px;\n",
              "      padding: 0 0 0 0;\n",
              "      width: 32px;\n",
              "    }\n",
              "\n",
              "    .colab-df-convert:hover {\n",
              "      background-color: #E2EBFA;\n",
              "      box-shadow: 0px 1px 2px rgba(60, 64, 67, 0.3), 0px 1px 3px 1px rgba(60, 64, 67, 0.15);\n",
              "      fill: #174EA6;\n",
              "    }\n",
              "\n",
              "    [theme=dark] .colab-df-convert {\n",
              "      background-color: #3B4455;\n",
              "      fill: #D2E3FC;\n",
              "    }\n",
              "\n",
              "    [theme=dark] .colab-df-convert:hover {\n",
              "      background-color: #434B5C;\n",
              "      box-shadow: 0px 1px 3px 1px rgba(0, 0, 0, 0.15);\n",
              "      filter: drop-shadow(0px 1px 2px rgba(0, 0, 0, 0.3));\n",
              "      fill: #FFFFFF;\n",
              "    }\n",
              "  </style>\n",
              "\n",
              "      <script>\n",
              "        const buttonEl =\n",
              "          document.querySelector('#df-3893860e-e261-4663-8e24-20279a54335f button.colab-df-convert');\n",
              "        buttonEl.style.display =\n",
              "          google.colab.kernel.accessAllowed ? 'block' : 'none';\n",
              "\n",
              "        async function convertToInteractive(key) {\n",
              "          const element = document.querySelector('#df-3893860e-e261-4663-8e24-20279a54335f');\n",
              "          const dataTable =\n",
              "            await google.colab.kernel.invokeFunction('convertToInteractive',\n",
              "                                                     [key], {});\n",
              "          if (!dataTable) return;\n",
              "\n",
              "          const docLinkHtml = 'Like what you see? Visit the ' +\n",
              "            '<a target=\"_blank\" href=https://colab.research.google.com/notebooks/data_table.ipynb>data table notebook</a>'\n",
              "            + ' to learn more about interactive tables.';\n",
              "          element.innerHTML = '';\n",
              "          dataTable['output_type'] = 'display_data';\n",
              "          await google.colab.output.renderOutput(dataTable, element);\n",
              "          const docLink = document.createElement('div');\n",
              "          docLink.innerHTML = docLinkHtml;\n",
              "          element.appendChild(docLink);\n",
              "        }\n",
              "      </script>\n",
              "    </div>\n",
              "  </div>\n",
              "  "
            ]
          },
          "metadata": {},
          "execution_count": 9
        }
      ]
    },
    {
      "cell_type": "code",
      "source": [
        "stores.city.unique()"
      ],
      "metadata": {
        "colab": {
          "base_uri": "https://localhost:8080/"
        },
        "id": "S5QQd5WeKBfK",
        "outputId": "870c2389-4bd7-4cd2-d616-a69f4e0a544a"
      },
      "execution_count": 10,
      "outputs": [
        {
          "output_type": "execute_result",
          "data": {
            "text/plain": [
              "array([ 0,  1,  2,  3,  4,  5,  6,  7,  8,  9, 10, 11, 12, 13, 14, 15, 16,\n",
              "       17, 18, 19, 20, 21])"
            ]
          },
          "metadata": {},
          "execution_count": 10
        }
      ]
    },
    {
      "cell_type": "code",
      "source": [
        "stores.type.unique()"
      ],
      "metadata": {
        "colab": {
          "base_uri": "https://localhost:8080/"
        },
        "id": "gabPr-lxKQ6Y",
        "outputId": "37ffdc5f-f36b-482b-c8df-c117568822fb"
      },
      "execution_count": 11,
      "outputs": [
        {
          "output_type": "execute_result",
          "data": {
            "text/plain": [
              "array([0, 1, 2, 3, 4])"
            ]
          },
          "metadata": {},
          "execution_count": 11
        }
      ]
    },
    {
      "cell_type": "code",
      "source": [
        "stores.cluster.unique()"
      ],
      "metadata": {
        "colab": {
          "base_uri": "https://localhost:8080/"
        },
        "id": "YHDEnCEAKUPZ",
        "outputId": "5a45e00f-43fd-400f-9151-e2cf07902db8"
      },
      "execution_count": 12,
      "outputs": [
        {
          "output_type": "execute_result",
          "data": {
            "text/plain": [
              "array([ 0,  1,  2,  3,  4,  5,  6,  7,  8,  9, 10, 11, 12, 13, 14, 15, 16])"
            ]
          },
          "metadata": {},
          "execution_count": 12
        }
      ]
    },
    {
      "cell_type": "code",
      "source": [
        "stores.info()"
      ],
      "metadata": {
        "colab": {
          "base_uri": "https://localhost:8080/"
        },
        "id": "_Z_M2UuaBE_P",
        "outputId": "0ed7891f-ff52-4caa-f446-251660076a8a"
      },
      "execution_count": 13,
      "outputs": [
        {
          "output_type": "stream",
          "name": "stdout",
          "text": [
            "<class 'pandas.core.frame.DataFrame'>\n",
            "RangeIndex: 54 entries, 0 to 53\n",
            "Data columns (total 4 columns):\n",
            " #   Column    Non-Null Count  Dtype \n",
            "---  ------    --------------  ----- \n",
            " 0   store_id  54 non-null     object\n",
            " 1   city      54 non-null     int64 \n",
            " 2   type      54 non-null     int64 \n",
            " 3   cluster   54 non-null     int64 \n",
            "dtypes: int64(3), object(1)\n",
            "memory usage: 1.8+ KB\n"
          ]
        }
      ]
    },
    {
      "cell_type": "markdown",
      "source": [
        "city, type & cluster are categoric variables, so they are not supposed to be in number datatype(int64) \n",
        "\n",
        "furthermore, cities do not have an ordinal relationship with one another. Ordinal variables have a natural order. Just like \"good-better-best\" or \"positive-neutral-negative\". Nominal variables don't.\n",
        "\n",
        "We don't want our machine learning models to think that one city-0 comes before city-1, which is before city-3. \n",
        "\n",
        "Therefore, we'll have to change the datatypes to obect or string to make it more descriptive, for example: 'London', 'Tokyo', 'Rome' and so on.\n",
        "\n",
        "Same goes for type and cluster."
      ],
      "metadata": {
        "id": "ZJ_K9MGkLqCH"
      }
    },
    {
      "cell_type": "code",
      "source": [
        "dates.head()"
      ],
      "metadata": {
        "colab": {
          "base_uri": "https://localhost:8080/",
          "height": 270
        },
        "id": "YAL7k5ynBny8",
        "outputId": "44d2f819-ba25-4405-b3d2-d3d80f39991a"
      },
      "execution_count": 14,
      "outputs": [
        {
          "output_type": "execute_result",
          "data": {
            "text/plain": [
              "   date  year  month  dayofmonth  dayofweek  dayofyear  weekofyear  quarter  \\\n",
              "0   365     1      1           1          2          1           1        1   \n",
              "1   366     1      1           2          3          2           1        1   \n",
              "2   367     1      1           3          4          3           1        1   \n",
              "3   368     1      1           4          5          4           1        1   \n",
              "4   369     1      1           5          6          5           1        1   \n",
              "\n",
              "   is_month_start  is_month_end  is_quarter_start  is_quarter_end  \\\n",
              "0            True         False              True           False   \n",
              "1           False         False             False           False   \n",
              "2           False         False             False           False   \n",
              "3           False         False             False           False   \n",
              "4           False         False             False           False   \n",
              "\n",
              "   is_year_start  is_year_end  year_weekofyear  \n",
              "0           True        False              101  \n",
              "1          False        False              101  \n",
              "2          False        False              101  \n",
              "3          False        False              101  \n",
              "4          False        False              101  "
            ],
            "text/html": [
              "\n",
              "  <div id=\"df-6953001c-382a-4130-aa00-24ce0e716315\">\n",
              "    <div class=\"colab-df-container\">\n",
              "      <div>\n",
              "<style scoped>\n",
              "    .dataframe tbody tr th:only-of-type {\n",
              "        vertical-align: middle;\n",
              "    }\n",
              "\n",
              "    .dataframe tbody tr th {\n",
              "        vertical-align: top;\n",
              "    }\n",
              "\n",
              "    .dataframe thead th {\n",
              "        text-align: right;\n",
              "    }\n",
              "</style>\n",
              "<table border=\"1\" class=\"dataframe\">\n",
              "  <thead>\n",
              "    <tr style=\"text-align: right;\">\n",
              "      <th></th>\n",
              "      <th>date</th>\n",
              "      <th>year</th>\n",
              "      <th>month</th>\n",
              "      <th>dayofmonth</th>\n",
              "      <th>dayofweek</th>\n",
              "      <th>dayofyear</th>\n",
              "      <th>weekofyear</th>\n",
              "      <th>quarter</th>\n",
              "      <th>is_month_start</th>\n",
              "      <th>is_month_end</th>\n",
              "      <th>is_quarter_start</th>\n",
              "      <th>is_quarter_end</th>\n",
              "      <th>is_year_start</th>\n",
              "      <th>is_year_end</th>\n",
              "      <th>year_weekofyear</th>\n",
              "    </tr>\n",
              "  </thead>\n",
              "  <tbody>\n",
              "    <tr>\n",
              "      <th>0</th>\n",
              "      <td>365</td>\n",
              "      <td>1</td>\n",
              "      <td>1</td>\n",
              "      <td>1</td>\n",
              "      <td>2</td>\n",
              "      <td>1</td>\n",
              "      <td>1</td>\n",
              "      <td>1</td>\n",
              "      <td>True</td>\n",
              "      <td>False</td>\n",
              "      <td>True</td>\n",
              "      <td>False</td>\n",
              "      <td>True</td>\n",
              "      <td>False</td>\n",
              "      <td>101</td>\n",
              "    </tr>\n",
              "    <tr>\n",
              "      <th>1</th>\n",
              "      <td>366</td>\n",
              "      <td>1</td>\n",
              "      <td>1</td>\n",
              "      <td>2</td>\n",
              "      <td>3</td>\n",
              "      <td>2</td>\n",
              "      <td>1</td>\n",
              "      <td>1</td>\n",
              "      <td>False</td>\n",
              "      <td>False</td>\n",
              "      <td>False</td>\n",
              "      <td>False</td>\n",
              "      <td>False</td>\n",
              "      <td>False</td>\n",
              "      <td>101</td>\n",
              "    </tr>\n",
              "    <tr>\n",
              "      <th>2</th>\n",
              "      <td>367</td>\n",
              "      <td>1</td>\n",
              "      <td>1</td>\n",
              "      <td>3</td>\n",
              "      <td>4</td>\n",
              "      <td>3</td>\n",
              "      <td>1</td>\n",
              "      <td>1</td>\n",
              "      <td>False</td>\n",
              "      <td>False</td>\n",
              "      <td>False</td>\n",
              "      <td>False</td>\n",
              "      <td>False</td>\n",
              "      <td>False</td>\n",
              "      <td>101</td>\n",
              "    </tr>\n",
              "    <tr>\n",
              "      <th>3</th>\n",
              "      <td>368</td>\n",
              "      <td>1</td>\n",
              "      <td>1</td>\n",
              "      <td>4</td>\n",
              "      <td>5</td>\n",
              "      <td>4</td>\n",
              "      <td>1</td>\n",
              "      <td>1</td>\n",
              "      <td>False</td>\n",
              "      <td>False</td>\n",
              "      <td>False</td>\n",
              "      <td>False</td>\n",
              "      <td>False</td>\n",
              "      <td>False</td>\n",
              "      <td>101</td>\n",
              "    </tr>\n",
              "    <tr>\n",
              "      <th>4</th>\n",
              "      <td>369</td>\n",
              "      <td>1</td>\n",
              "      <td>1</td>\n",
              "      <td>5</td>\n",
              "      <td>6</td>\n",
              "      <td>5</td>\n",
              "      <td>1</td>\n",
              "      <td>1</td>\n",
              "      <td>False</td>\n",
              "      <td>False</td>\n",
              "      <td>False</td>\n",
              "      <td>False</td>\n",
              "      <td>False</td>\n",
              "      <td>False</td>\n",
              "      <td>101</td>\n",
              "    </tr>\n",
              "  </tbody>\n",
              "</table>\n",
              "</div>\n",
              "      <button class=\"colab-df-convert\" onclick=\"convertToInteractive('df-6953001c-382a-4130-aa00-24ce0e716315')\"\n",
              "              title=\"Convert this dataframe to an interactive table.\"\n",
              "              style=\"display:none;\">\n",
              "        \n",
              "  <svg xmlns=\"http://www.w3.org/2000/svg\" height=\"24px\"viewBox=\"0 0 24 24\"\n",
              "       width=\"24px\">\n",
              "    <path d=\"M0 0h24v24H0V0z\" fill=\"none\"/>\n",
              "    <path d=\"M18.56 5.44l.94 2.06.94-2.06 2.06-.94-2.06-.94-.94-2.06-.94 2.06-2.06.94zm-11 1L8.5 8.5l.94-2.06 2.06-.94-2.06-.94L8.5 2.5l-.94 2.06-2.06.94zm10 10l.94 2.06.94-2.06 2.06-.94-2.06-.94-.94-2.06-.94 2.06-2.06.94z\"/><path d=\"M17.41 7.96l-1.37-1.37c-.4-.4-.92-.59-1.43-.59-.52 0-1.04.2-1.43.59L10.3 9.45l-7.72 7.72c-.78.78-.78 2.05 0 2.83L4 21.41c.39.39.9.59 1.41.59.51 0 1.02-.2 1.41-.59l7.78-7.78 2.81-2.81c.8-.78.8-2.07 0-2.86zM5.41 20L4 18.59l7.72-7.72 1.47 1.35L5.41 20z\"/>\n",
              "  </svg>\n",
              "      </button>\n",
              "      \n",
              "  <style>\n",
              "    .colab-df-container {\n",
              "      display:flex;\n",
              "      flex-wrap:wrap;\n",
              "      gap: 12px;\n",
              "    }\n",
              "\n",
              "    .colab-df-convert {\n",
              "      background-color: #E8F0FE;\n",
              "      border: none;\n",
              "      border-radius: 50%;\n",
              "      cursor: pointer;\n",
              "      display: none;\n",
              "      fill: #1967D2;\n",
              "      height: 32px;\n",
              "      padding: 0 0 0 0;\n",
              "      width: 32px;\n",
              "    }\n",
              "\n",
              "    .colab-df-convert:hover {\n",
              "      background-color: #E2EBFA;\n",
              "      box-shadow: 0px 1px 2px rgba(60, 64, 67, 0.3), 0px 1px 3px 1px rgba(60, 64, 67, 0.15);\n",
              "      fill: #174EA6;\n",
              "    }\n",
              "\n",
              "    [theme=dark] .colab-df-convert {\n",
              "      background-color: #3B4455;\n",
              "      fill: #D2E3FC;\n",
              "    }\n",
              "\n",
              "    [theme=dark] .colab-df-convert:hover {\n",
              "      background-color: #434B5C;\n",
              "      box-shadow: 0px 1px 3px 1px rgba(0, 0, 0, 0.15);\n",
              "      filter: drop-shadow(0px 1px 2px rgba(0, 0, 0, 0.3));\n",
              "      fill: #FFFFFF;\n",
              "    }\n",
              "  </style>\n",
              "\n",
              "      <script>\n",
              "        const buttonEl =\n",
              "          document.querySelector('#df-6953001c-382a-4130-aa00-24ce0e716315 button.colab-df-convert');\n",
              "        buttonEl.style.display =\n",
              "          google.colab.kernel.accessAllowed ? 'block' : 'none';\n",
              "\n",
              "        async function convertToInteractive(key) {\n",
              "          const element = document.querySelector('#df-6953001c-382a-4130-aa00-24ce0e716315');\n",
              "          const dataTable =\n",
              "            await google.colab.kernel.invokeFunction('convertToInteractive',\n",
              "                                                     [key], {});\n",
              "          if (!dataTable) return;\n",
              "\n",
              "          const docLinkHtml = 'Like what you see? Visit the ' +\n",
              "            '<a target=\"_blank\" href=https://colab.research.google.com/notebooks/data_table.ipynb>data table notebook</a>'\n",
              "            + ' to learn more about interactive tables.';\n",
              "          element.innerHTML = '';\n",
              "          dataTable['output_type'] = 'display_data';\n",
              "          await google.colab.output.renderOutput(dataTable, element);\n",
              "          const docLink = document.createElement('div');\n",
              "          docLink.innerHTML = docLinkHtml;\n",
              "          element.appendChild(docLink);\n",
              "        }\n",
              "      </script>\n",
              "    </div>\n",
              "  </div>\n",
              "  "
            ]
          },
          "metadata": {},
          "execution_count": 14
        }
      ]
    },
    {
      "cell_type": "markdown",
      "source": [
        "This dataset contains dates and the features that have already been extracted from it"
      ],
      "metadata": {
        "id": "G77f6HeABrDe"
      }
    },
    {
      "cell_type": "code",
      "source": [
        "dates.info()"
      ],
      "metadata": {
        "colab": {
          "base_uri": "https://localhost:8080/"
        },
        "id": "ZR8aIxjxB26C",
        "outputId": "d23a8231-1fb0-4cc9-85a4-38372f99b284"
      },
      "execution_count": 15,
      "outputs": [
        {
          "output_type": "stream",
          "name": "stdout",
          "text": [
            "<class 'pandas.core.frame.DataFrame'>\n",
            "RangeIndex: 1320 entries, 0 to 1319\n",
            "Data columns (total 15 columns):\n",
            " #   Column            Non-Null Count  Dtype\n",
            "---  ------            --------------  -----\n",
            " 0   date              1320 non-null   int64\n",
            " 1   year              1320 non-null   int64\n",
            " 2   month             1320 non-null   int64\n",
            " 3   dayofmonth        1320 non-null   int64\n",
            " 4   dayofweek         1320 non-null   int64\n",
            " 5   dayofyear         1320 non-null   int64\n",
            " 6   weekofyear        1320 non-null   int64\n",
            " 7   quarter           1320 non-null   int64\n",
            " 8   is_month_start    1320 non-null   bool \n",
            " 9   is_month_end      1320 non-null   bool \n",
            " 10  is_quarter_start  1320 non-null   bool \n",
            " 11  is_quarter_end    1320 non-null   bool \n",
            " 12  is_year_start     1320 non-null   bool \n",
            " 13  is_year_end       1320 non-null   bool \n",
            " 14  year_weekofyear   1320 non-null   int64\n",
            "dtypes: bool(6), int64(9)\n",
            "memory usage: 100.7 KB\n"
          ]
        }
      ]
    },
    {
      "cell_type": "markdown",
      "source": [
        "in this case, these categories have an ordinal relationship with one another, meaning one naturally comes before the other, \n",
        "\n",
        "so we can leave them as they are."
      ],
      "metadata": {
        "id": "MWWEGqOHPmeh"
      }
    },
    {
      "cell_type": "code",
      "source": [
        "dates.dayofweek.unique()"
      ],
      "metadata": {
        "colab": {
          "base_uri": "https://localhost:8080/"
        },
        "id": "fab3r315PSsW",
        "outputId": "72cddb23-16c3-4937-98e4-080fa82aeae8"
      },
      "execution_count": 16,
      "outputs": [
        {
          "output_type": "execute_result",
          "data": {
            "text/plain": [
              "array([2, 3, 4, 5, 6, 0, 1])"
            ]
          },
          "metadata": {},
          "execution_count": 16
        }
      ]
    },
    {
      "cell_type": "markdown",
      "source": [
        "there are 7days in a week, so this is fine."
      ],
      "metadata": {
        "id": "shOHh6jYPfbs"
      }
    },
    {
      "cell_type": "code",
      "source": [
        "dates.dayofyear.unique()"
      ],
      "metadata": {
        "colab": {
          "base_uri": "https://localhost:8080/"
        },
        "id": "Db9Zn7fVQUI7",
        "outputId": "97e3f4e8-aec4-4b86-9bba-ad2902080c79"
      },
      "execution_count": 17,
      "outputs": [
        {
          "output_type": "execute_result",
          "data": {
            "text/plain": [
              "array([  1,   2,   3,   4,   5,   6,   7,   8,   9,  10,  11,  12,  13,\n",
              "        14,  15,  16,  17,  18,  19,  20,  21,  22,  23,  24,  25,  26,\n",
              "        27,  28,  29,  30,  31,  32,  33,  34,  35,  36,  37,  38,  39,\n",
              "        40,  41,  42,  43,  44,  45,  46,  47,  48,  49,  50,  51,  52,\n",
              "        53,  54,  55,  56,  57,  58,  59,  60,  61,  62,  63,  64,  65,\n",
              "        66,  67,  68,  69,  70,  71,  72,  73,  74,  75,  76,  77,  78,\n",
              "        79,  80,  81,  82,  83,  84,  85,  86,  87,  88,  89,  90,  91,\n",
              "        92,  93,  94,  95,  96,  97,  98,  99, 100, 101, 102, 103, 104,\n",
              "       105, 106, 107, 108, 109, 110, 111, 112, 113, 114, 115, 116, 117,\n",
              "       118, 119, 120, 121, 122, 123, 124, 125, 126, 127, 128, 129, 130,\n",
              "       131, 132, 133, 134, 135, 136, 137, 138, 139, 140, 141, 142, 143,\n",
              "       144, 145, 146, 147, 148, 149, 150, 151, 152, 153, 154, 155, 156,\n",
              "       157, 158, 159, 160, 161, 162, 163, 164, 165, 166, 167, 168, 169,\n",
              "       170, 171, 172, 173, 174, 175, 176, 177, 178, 179, 180, 181, 182,\n",
              "       183, 184, 185, 186, 187, 188, 189, 190, 191, 192, 193, 194, 195,\n",
              "       196, 197, 198, 199, 200, 201, 202, 203, 204, 205, 206, 207, 208,\n",
              "       209, 210, 211, 212, 213, 214, 215, 216, 217, 218, 219, 220, 221,\n",
              "       222, 223, 224, 225, 226, 227, 228, 229, 230, 231, 232, 233, 234,\n",
              "       235, 236, 237, 238, 239, 240, 241, 242, 243, 244, 245, 246, 247,\n",
              "       248, 249, 250, 251, 252, 253, 254, 255, 256, 257, 258, 259, 260,\n",
              "       261, 262, 263, 264, 265, 266, 267, 268, 269, 270, 271, 272, 273,\n",
              "       274, 275, 276, 277, 278, 279, 280, 281, 282, 283, 284, 285, 286,\n",
              "       287, 288, 289, 290, 291, 292, 293, 294, 295, 296, 297, 298, 299,\n",
              "       300, 301, 302, 303, 304, 305, 306, 307, 308, 309, 310, 311, 312,\n",
              "       313, 314, 315, 316, 317, 318, 319, 320, 321, 322, 323, 324, 325,\n",
              "       326, 327, 328, 329, 330, 331, 332, 333, 334, 335, 336, 337, 338,\n",
              "       339, 340, 341, 342, 343, 344, 345, 346, 347, 348, 349, 350, 351,\n",
              "       352, 353, 354, 355, 356, 357, 358, 360, 361, 362, 363, 364, 365,\n",
              "       359, 366])"
            ]
          },
          "metadata": {},
          "execution_count": 17
        }
      ]
    },
    {
      "cell_type": "markdown",
      "source": [
        "we have 365 days in a year, 366 days is for a loop year. This is a problem for us. Let me explain why.\n",
        "\n",
        "**Problem**:\n",
        "When you have a loop year, then new year's eve would fall on day 366\n",
        "\n",
        "otherwise, it would fall on day 365. So everyday might not fall on the appropriate number for each year.\n",
        "\n",
        "**Solution**:\n",
        "we will later convert two new columns called \"sin(dayofyear)\" & \"cos(dayofyear)\". These new columns will help our machine learning models to understand the cyclic nature of a year. \n",
        "\n",
        "Cyclic means that a year usually starts and ends in a similar way."
      ],
      "metadata": {
        "id": "pOXxqaXsRn5M"
      }
    },
    {
      "cell_type": "code",
      "source": [
        "holidays.head()"
      ],
      "metadata": {
        "colab": {
          "base_uri": "https://localhost:8080/",
          "height": 206
        },
        "id": "UoPNhzliCQmv",
        "outputId": "5597f312-9e5a-466a-daaf-6a09553abbfb"
      },
      "execution_count": 18,
      "outputs": [
        {
          "output_type": "execute_result",
          "data": {
            "text/plain": [
              "   date  type\n",
              "0     1     0\n",
              "1     5     4\n",
              "2    12     4\n",
              "3    42     0\n",
              "4    43     0"
            ],
            "text/html": [
              "\n",
              "  <div id=\"df-b5c8ca3c-358c-4c62-bbf6-d761efe20fb8\">\n",
              "    <div class=\"colab-df-container\">\n",
              "      <div>\n",
              "<style scoped>\n",
              "    .dataframe tbody tr th:only-of-type {\n",
              "        vertical-align: middle;\n",
              "    }\n",
              "\n",
              "    .dataframe tbody tr th {\n",
              "        vertical-align: top;\n",
              "    }\n",
              "\n",
              "    .dataframe thead th {\n",
              "        text-align: right;\n",
              "    }\n",
              "</style>\n",
              "<table border=\"1\" class=\"dataframe\">\n",
              "  <thead>\n",
              "    <tr style=\"text-align: right;\">\n",
              "      <th></th>\n",
              "      <th>date</th>\n",
              "      <th>type</th>\n",
              "    </tr>\n",
              "  </thead>\n",
              "  <tbody>\n",
              "    <tr>\n",
              "      <th>0</th>\n",
              "      <td>1</td>\n",
              "      <td>0</td>\n",
              "    </tr>\n",
              "    <tr>\n",
              "      <th>1</th>\n",
              "      <td>5</td>\n",
              "      <td>4</td>\n",
              "    </tr>\n",
              "    <tr>\n",
              "      <th>2</th>\n",
              "      <td>12</td>\n",
              "      <td>4</td>\n",
              "    </tr>\n",
              "    <tr>\n",
              "      <th>3</th>\n",
              "      <td>42</td>\n",
              "      <td>0</td>\n",
              "    </tr>\n",
              "    <tr>\n",
              "      <th>4</th>\n",
              "      <td>43</td>\n",
              "      <td>0</td>\n",
              "    </tr>\n",
              "  </tbody>\n",
              "</table>\n",
              "</div>\n",
              "      <button class=\"colab-df-convert\" onclick=\"convertToInteractive('df-b5c8ca3c-358c-4c62-bbf6-d761efe20fb8')\"\n",
              "              title=\"Convert this dataframe to an interactive table.\"\n",
              "              style=\"display:none;\">\n",
              "        \n",
              "  <svg xmlns=\"http://www.w3.org/2000/svg\" height=\"24px\"viewBox=\"0 0 24 24\"\n",
              "       width=\"24px\">\n",
              "    <path d=\"M0 0h24v24H0V0z\" fill=\"none\"/>\n",
              "    <path d=\"M18.56 5.44l.94 2.06.94-2.06 2.06-.94-2.06-.94-.94-2.06-.94 2.06-2.06.94zm-11 1L8.5 8.5l.94-2.06 2.06-.94-2.06-.94L8.5 2.5l-.94 2.06-2.06.94zm10 10l.94 2.06.94-2.06 2.06-.94-2.06-.94-.94-2.06-.94 2.06-2.06.94z\"/><path d=\"M17.41 7.96l-1.37-1.37c-.4-.4-.92-.59-1.43-.59-.52 0-1.04.2-1.43.59L10.3 9.45l-7.72 7.72c-.78.78-.78 2.05 0 2.83L4 21.41c.39.39.9.59 1.41.59.51 0 1.02-.2 1.41-.59l7.78-7.78 2.81-2.81c.8-.78.8-2.07 0-2.86zM5.41 20L4 18.59l7.72-7.72 1.47 1.35L5.41 20z\"/>\n",
              "  </svg>\n",
              "      </button>\n",
              "      \n",
              "  <style>\n",
              "    .colab-df-container {\n",
              "      display:flex;\n",
              "      flex-wrap:wrap;\n",
              "      gap: 12px;\n",
              "    }\n",
              "\n",
              "    .colab-df-convert {\n",
              "      background-color: #E8F0FE;\n",
              "      border: none;\n",
              "      border-radius: 50%;\n",
              "      cursor: pointer;\n",
              "      display: none;\n",
              "      fill: #1967D2;\n",
              "      height: 32px;\n",
              "      padding: 0 0 0 0;\n",
              "      width: 32px;\n",
              "    }\n",
              "\n",
              "    .colab-df-convert:hover {\n",
              "      background-color: #E2EBFA;\n",
              "      box-shadow: 0px 1px 2px rgba(60, 64, 67, 0.3), 0px 1px 3px 1px rgba(60, 64, 67, 0.15);\n",
              "      fill: #174EA6;\n",
              "    }\n",
              "\n",
              "    [theme=dark] .colab-df-convert {\n",
              "      background-color: #3B4455;\n",
              "      fill: #D2E3FC;\n",
              "    }\n",
              "\n",
              "    [theme=dark] .colab-df-convert:hover {\n",
              "      background-color: #434B5C;\n",
              "      box-shadow: 0px 1px 3px 1px rgba(0, 0, 0, 0.15);\n",
              "      filter: drop-shadow(0px 1px 2px rgba(0, 0, 0, 0.3));\n",
              "      fill: #FFFFFF;\n",
              "    }\n",
              "  </style>\n",
              "\n",
              "      <script>\n",
              "        const buttonEl =\n",
              "          document.querySelector('#df-b5c8ca3c-358c-4c62-bbf6-d761efe20fb8 button.colab-df-convert');\n",
              "        buttonEl.style.display =\n",
              "          google.colab.kernel.accessAllowed ? 'block' : 'none';\n",
              "\n",
              "        async function convertToInteractive(key) {\n",
              "          const element = document.querySelector('#df-b5c8ca3c-358c-4c62-bbf6-d761efe20fb8');\n",
              "          const dataTable =\n",
              "            await google.colab.kernel.invokeFunction('convertToInteractive',\n",
              "                                                     [key], {});\n",
              "          if (!dataTable) return;\n",
              "\n",
              "          const docLinkHtml = 'Like what you see? Visit the ' +\n",
              "            '<a target=\"_blank\" href=https://colab.research.google.com/notebooks/data_table.ipynb>data table notebook</a>'\n",
              "            + ' to learn more about interactive tables.';\n",
              "          element.innerHTML = '';\n",
              "          dataTable['output_type'] = 'display_data';\n",
              "          await google.colab.output.renderOutput(dataTable, element);\n",
              "          const docLink = document.createElement('div');\n",
              "          docLink.innerHTML = docLinkHtml;\n",
              "          element.appendChild(docLink);\n",
              "        }\n",
              "      </script>\n",
              "    </div>\n",
              "  </div>\n",
              "  "
            ]
          },
          "metadata": {},
          "execution_count": 18
        }
      ]
    },
    {
      "cell_type": "code",
      "source": [
        "holidays.info()"
      ],
      "metadata": {
        "colab": {
          "base_uri": "https://localhost:8080/"
        },
        "id": "aWuH4aYBCX5s",
        "outputId": "468e2efa-6451-471e-dc1a-15aae343cc99"
      },
      "execution_count": 19,
      "outputs": [
        {
          "output_type": "stream",
          "name": "stdout",
          "text": [
            "<class 'pandas.core.frame.DataFrame'>\n",
            "RangeIndex: 281 entries, 0 to 280\n",
            "Data columns (total 2 columns):\n",
            " #   Column  Non-Null Count  Dtype\n",
            "---  ------  --------------  -----\n",
            " 0   date    281 non-null    int64\n",
            " 1   type    281 non-null    int64\n",
            "dtypes: int64(2)\n",
            "memory usage: 4.5 KB\n"
          ]
        }
      ]
    },
    {
      "cell_type": "code",
      "source": [
        "holidays.type.unique()"
      ],
      "metadata": {
        "colab": {
          "base_uri": "https://localhost:8080/"
        },
        "id": "cPnRlmkEdYHz",
        "outputId": "5c3c4564-d7a6-43b9-f03f-08115fd0377c"
      },
      "execution_count": 20,
      "outputs": [
        {
          "output_type": "execute_result",
          "data": {
            "text/plain": [
              "array([0, 4, 2, 5, 1, 3])"
            ]
          },
          "metadata": {},
          "execution_count": 20
        }
      ]
    },
    {
      "cell_type": "markdown",
      "source": [
        "The type column is a categoric variable, and each type of holiday does not have an ordinal relationship, since a holiday like new year is not higher or better than Christmas for example.\n",
        "\n",
        "so we'll later convert them to string type to make it more descriptive"
      ],
      "metadata": {
        "id": "iv1aEjzVc3Th"
      }
    },
    {
      "cell_type": "code",
      "source": [
        "train.describe()"
      ],
      "metadata": {
        "colab": {
          "base_uri": "https://localhost:8080/",
          "height": 300
        },
        "id": "Slj_ROrsD0V4",
        "outputId": "b8758f58-2176-4286-cedc-4a430e5a8409"
      },
      "execution_count": 21,
      "outputs": [
        {
          "output_type": "execute_result",
          "data": {
            "text/plain": [
              "               date         sales   onpromotion  nbr_of_transactions\n",
              "count  2.248884e+06  2.248884e+06  2.248884e+06         2.248884e+06\n",
              "mean   9.955000e+02  3.932649e+02  3.142002e+00         1.573591e+03\n",
              "std    3.643080e+02  1.174938e+03  1.343616e+01         1.027832e+03\n",
              "min    3.650000e+02  0.000000e+00  0.000000e+00         0.000000e+00\n",
              "25%    6.800000e+02  0.000000e+00  0.000000e+00         9.440000e+02\n",
              "50%    9.955000e+02  1.500000e+01  0.000000e+00         1.338000e+03\n",
              "75%    1.311000e+03  2.230000e+02  1.000000e+00         1.979000e+03\n",
              "max    1.626000e+03  1.247170e+05  7.410000e+02         8.359000e+03"
            ],
            "text/html": [
              "\n",
              "  <div id=\"df-8834ce1e-0f8a-450c-b9f7-1c757f75fd82\">\n",
              "    <div class=\"colab-df-container\">\n",
              "      <div>\n",
              "<style scoped>\n",
              "    .dataframe tbody tr th:only-of-type {\n",
              "        vertical-align: middle;\n",
              "    }\n",
              "\n",
              "    .dataframe tbody tr th {\n",
              "        vertical-align: top;\n",
              "    }\n",
              "\n",
              "    .dataframe thead th {\n",
              "        text-align: right;\n",
              "    }\n",
              "</style>\n",
              "<table border=\"1\" class=\"dataframe\">\n",
              "  <thead>\n",
              "    <tr style=\"text-align: right;\">\n",
              "      <th></th>\n",
              "      <th>date</th>\n",
              "      <th>sales</th>\n",
              "      <th>onpromotion</th>\n",
              "      <th>nbr_of_transactions</th>\n",
              "    </tr>\n",
              "  </thead>\n",
              "  <tbody>\n",
              "    <tr>\n",
              "      <th>count</th>\n",
              "      <td>2.248884e+06</td>\n",
              "      <td>2.248884e+06</td>\n",
              "      <td>2.248884e+06</td>\n",
              "      <td>2.248884e+06</td>\n",
              "    </tr>\n",
              "    <tr>\n",
              "      <th>mean</th>\n",
              "      <td>9.955000e+02</td>\n",
              "      <td>3.932649e+02</td>\n",
              "      <td>3.142002e+00</td>\n",
              "      <td>1.573591e+03</td>\n",
              "    </tr>\n",
              "    <tr>\n",
              "      <th>std</th>\n",
              "      <td>3.643080e+02</td>\n",
              "      <td>1.174938e+03</td>\n",
              "      <td>1.343616e+01</td>\n",
              "      <td>1.027832e+03</td>\n",
              "    </tr>\n",
              "    <tr>\n",
              "      <th>min</th>\n",
              "      <td>3.650000e+02</td>\n",
              "      <td>0.000000e+00</td>\n",
              "      <td>0.000000e+00</td>\n",
              "      <td>0.000000e+00</td>\n",
              "    </tr>\n",
              "    <tr>\n",
              "      <th>25%</th>\n",
              "      <td>6.800000e+02</td>\n",
              "      <td>0.000000e+00</td>\n",
              "      <td>0.000000e+00</td>\n",
              "      <td>9.440000e+02</td>\n",
              "    </tr>\n",
              "    <tr>\n",
              "      <th>50%</th>\n",
              "      <td>9.955000e+02</td>\n",
              "      <td>1.500000e+01</td>\n",
              "      <td>0.000000e+00</td>\n",
              "      <td>1.338000e+03</td>\n",
              "    </tr>\n",
              "    <tr>\n",
              "      <th>75%</th>\n",
              "      <td>1.311000e+03</td>\n",
              "      <td>2.230000e+02</td>\n",
              "      <td>1.000000e+00</td>\n",
              "      <td>1.979000e+03</td>\n",
              "    </tr>\n",
              "    <tr>\n",
              "      <th>max</th>\n",
              "      <td>1.626000e+03</td>\n",
              "      <td>1.247170e+05</td>\n",
              "      <td>7.410000e+02</td>\n",
              "      <td>8.359000e+03</td>\n",
              "    </tr>\n",
              "  </tbody>\n",
              "</table>\n",
              "</div>\n",
              "      <button class=\"colab-df-convert\" onclick=\"convertToInteractive('df-8834ce1e-0f8a-450c-b9f7-1c757f75fd82')\"\n",
              "              title=\"Convert this dataframe to an interactive table.\"\n",
              "              style=\"display:none;\">\n",
              "        \n",
              "  <svg xmlns=\"http://www.w3.org/2000/svg\" height=\"24px\"viewBox=\"0 0 24 24\"\n",
              "       width=\"24px\">\n",
              "    <path d=\"M0 0h24v24H0V0z\" fill=\"none\"/>\n",
              "    <path d=\"M18.56 5.44l.94 2.06.94-2.06 2.06-.94-2.06-.94-.94-2.06-.94 2.06-2.06.94zm-11 1L8.5 8.5l.94-2.06 2.06-.94-2.06-.94L8.5 2.5l-.94 2.06-2.06.94zm10 10l.94 2.06.94-2.06 2.06-.94-2.06-.94-.94-2.06-.94 2.06-2.06.94z\"/><path d=\"M17.41 7.96l-1.37-1.37c-.4-.4-.92-.59-1.43-.59-.52 0-1.04.2-1.43.59L10.3 9.45l-7.72 7.72c-.78.78-.78 2.05 0 2.83L4 21.41c.39.39.9.59 1.41.59.51 0 1.02-.2 1.41-.59l7.78-7.78 2.81-2.81c.8-.78.8-2.07 0-2.86zM5.41 20L4 18.59l7.72-7.72 1.47 1.35L5.41 20z\"/>\n",
              "  </svg>\n",
              "      </button>\n",
              "      \n",
              "  <style>\n",
              "    .colab-df-container {\n",
              "      display:flex;\n",
              "      flex-wrap:wrap;\n",
              "      gap: 12px;\n",
              "    }\n",
              "\n",
              "    .colab-df-convert {\n",
              "      background-color: #E8F0FE;\n",
              "      border: none;\n",
              "      border-radius: 50%;\n",
              "      cursor: pointer;\n",
              "      display: none;\n",
              "      fill: #1967D2;\n",
              "      height: 32px;\n",
              "      padding: 0 0 0 0;\n",
              "      width: 32px;\n",
              "    }\n",
              "\n",
              "    .colab-df-convert:hover {\n",
              "      background-color: #E2EBFA;\n",
              "      box-shadow: 0px 1px 2px rgba(60, 64, 67, 0.3), 0px 1px 3px 1px rgba(60, 64, 67, 0.15);\n",
              "      fill: #174EA6;\n",
              "    }\n",
              "\n",
              "    [theme=dark] .colab-df-convert {\n",
              "      background-color: #3B4455;\n",
              "      fill: #D2E3FC;\n",
              "    }\n",
              "\n",
              "    [theme=dark] .colab-df-convert:hover {\n",
              "      background-color: #434B5C;\n",
              "      box-shadow: 0px 1px 3px 1px rgba(0, 0, 0, 0.15);\n",
              "      filter: drop-shadow(0px 1px 2px rgba(0, 0, 0, 0.3));\n",
              "      fill: #FFFFFF;\n",
              "    }\n",
              "  </style>\n",
              "\n",
              "      <script>\n",
              "        const buttonEl =\n",
              "          document.querySelector('#df-8834ce1e-0f8a-450c-b9f7-1c757f75fd82 button.colab-df-convert');\n",
              "        buttonEl.style.display =\n",
              "          google.colab.kernel.accessAllowed ? 'block' : 'none';\n",
              "\n",
              "        async function convertToInteractive(key) {\n",
              "          const element = document.querySelector('#df-8834ce1e-0f8a-450c-b9f7-1c757f75fd82');\n",
              "          const dataTable =\n",
              "            await google.colab.kernel.invokeFunction('convertToInteractive',\n",
              "                                                     [key], {});\n",
              "          if (!dataTable) return;\n",
              "\n",
              "          const docLinkHtml = 'Like what you see? Visit the ' +\n",
              "            '<a target=\"_blank\" href=https://colab.research.google.com/notebooks/data_table.ipynb>data table notebook</a>'\n",
              "            + ' to learn more about interactive tables.';\n",
              "          element.innerHTML = '';\n",
              "          dataTable['output_type'] = 'display_data';\n",
              "          await google.colab.output.renderOutput(dataTable, element);\n",
              "          const docLink = document.createElement('div');\n",
              "          docLink.innerHTML = docLinkHtml;\n",
              "          element.appendChild(docLink);\n",
              "        }\n",
              "      </script>\n",
              "    </div>\n",
              "  </div>\n",
              "  "
            ]
          },
          "metadata": {},
          "execution_count": 21
        }
      ]
    },
    {
      "cell_type": "markdown",
      "source": [
        "train dates range from **365** to **1626**"
      ],
      "metadata": {
        "id": "-8ol2MBtEDkc"
      }
    },
    {
      "cell_type": "code",
      "source": [
        "test.describe()"
      ],
      "metadata": {
        "colab": {
          "base_uri": "https://localhost:8080/",
          "height": 300
        },
        "id": "gefkrStbD9sK",
        "outputId": "c2ccd3d2-f994-4df9-a9b0-684276af3c3c"
      },
      "execution_count": 22,
      "outputs": [
        {
          "output_type": "execute_result",
          "data": {
            "text/plain": [
              "               date   onpromotion\n",
              "count  99792.000000  99792.000000\n",
              "mean    1654.500000      7.274892\n",
              "std       16.163311     18.504041\n",
              "min     1627.000000      0.000000\n",
              "25%     1640.750000      0.000000\n",
              "50%     1654.500000      0.000000\n",
              "75%     1668.250000      6.000000\n",
              "max     1682.000000    591.000000"
            ],
            "text/html": [
              "\n",
              "  <div id=\"df-212f815d-497c-456e-ad4a-db0823a3975b\">\n",
              "    <div class=\"colab-df-container\">\n",
              "      <div>\n",
              "<style scoped>\n",
              "    .dataframe tbody tr th:only-of-type {\n",
              "        vertical-align: middle;\n",
              "    }\n",
              "\n",
              "    .dataframe tbody tr th {\n",
              "        vertical-align: top;\n",
              "    }\n",
              "\n",
              "    .dataframe thead th {\n",
              "        text-align: right;\n",
              "    }\n",
              "</style>\n",
              "<table border=\"1\" class=\"dataframe\">\n",
              "  <thead>\n",
              "    <tr style=\"text-align: right;\">\n",
              "      <th></th>\n",
              "      <th>date</th>\n",
              "      <th>onpromotion</th>\n",
              "    </tr>\n",
              "  </thead>\n",
              "  <tbody>\n",
              "    <tr>\n",
              "      <th>count</th>\n",
              "      <td>99792.000000</td>\n",
              "      <td>99792.000000</td>\n",
              "    </tr>\n",
              "    <tr>\n",
              "      <th>mean</th>\n",
              "      <td>1654.500000</td>\n",
              "      <td>7.274892</td>\n",
              "    </tr>\n",
              "    <tr>\n",
              "      <th>std</th>\n",
              "      <td>16.163311</td>\n",
              "      <td>18.504041</td>\n",
              "    </tr>\n",
              "    <tr>\n",
              "      <th>min</th>\n",
              "      <td>1627.000000</td>\n",
              "      <td>0.000000</td>\n",
              "    </tr>\n",
              "    <tr>\n",
              "      <th>25%</th>\n",
              "      <td>1640.750000</td>\n",
              "      <td>0.000000</td>\n",
              "    </tr>\n",
              "    <tr>\n",
              "      <th>50%</th>\n",
              "      <td>1654.500000</td>\n",
              "      <td>0.000000</td>\n",
              "    </tr>\n",
              "    <tr>\n",
              "      <th>75%</th>\n",
              "      <td>1668.250000</td>\n",
              "      <td>6.000000</td>\n",
              "    </tr>\n",
              "    <tr>\n",
              "      <th>max</th>\n",
              "      <td>1682.000000</td>\n",
              "      <td>591.000000</td>\n",
              "    </tr>\n",
              "  </tbody>\n",
              "</table>\n",
              "</div>\n",
              "      <button class=\"colab-df-convert\" onclick=\"convertToInteractive('df-212f815d-497c-456e-ad4a-db0823a3975b')\"\n",
              "              title=\"Convert this dataframe to an interactive table.\"\n",
              "              style=\"display:none;\">\n",
              "        \n",
              "  <svg xmlns=\"http://www.w3.org/2000/svg\" height=\"24px\"viewBox=\"0 0 24 24\"\n",
              "       width=\"24px\">\n",
              "    <path d=\"M0 0h24v24H0V0z\" fill=\"none\"/>\n",
              "    <path d=\"M18.56 5.44l.94 2.06.94-2.06 2.06-.94-2.06-.94-.94-2.06-.94 2.06-2.06.94zm-11 1L8.5 8.5l.94-2.06 2.06-.94-2.06-.94L8.5 2.5l-.94 2.06-2.06.94zm10 10l.94 2.06.94-2.06 2.06-.94-2.06-.94-.94-2.06-.94 2.06-2.06.94z\"/><path d=\"M17.41 7.96l-1.37-1.37c-.4-.4-.92-.59-1.43-.59-.52 0-1.04.2-1.43.59L10.3 9.45l-7.72 7.72c-.78.78-.78 2.05 0 2.83L4 21.41c.39.39.9.59 1.41.59.51 0 1.02-.2 1.41-.59l7.78-7.78 2.81-2.81c.8-.78.8-2.07 0-2.86zM5.41 20L4 18.59l7.72-7.72 1.47 1.35L5.41 20z\"/>\n",
              "  </svg>\n",
              "      </button>\n",
              "      \n",
              "  <style>\n",
              "    .colab-df-container {\n",
              "      display:flex;\n",
              "      flex-wrap:wrap;\n",
              "      gap: 12px;\n",
              "    }\n",
              "\n",
              "    .colab-df-convert {\n",
              "      background-color: #E8F0FE;\n",
              "      border: none;\n",
              "      border-radius: 50%;\n",
              "      cursor: pointer;\n",
              "      display: none;\n",
              "      fill: #1967D2;\n",
              "      height: 32px;\n",
              "      padding: 0 0 0 0;\n",
              "      width: 32px;\n",
              "    }\n",
              "\n",
              "    .colab-df-convert:hover {\n",
              "      background-color: #E2EBFA;\n",
              "      box-shadow: 0px 1px 2px rgba(60, 64, 67, 0.3), 0px 1px 3px 1px rgba(60, 64, 67, 0.15);\n",
              "      fill: #174EA6;\n",
              "    }\n",
              "\n",
              "    [theme=dark] .colab-df-convert {\n",
              "      background-color: #3B4455;\n",
              "      fill: #D2E3FC;\n",
              "    }\n",
              "\n",
              "    [theme=dark] .colab-df-convert:hover {\n",
              "      background-color: #434B5C;\n",
              "      box-shadow: 0px 1px 3px 1px rgba(0, 0, 0, 0.15);\n",
              "      filter: drop-shadow(0px 1px 2px rgba(0, 0, 0, 0.3));\n",
              "      fill: #FFFFFF;\n",
              "    }\n",
              "  </style>\n",
              "\n",
              "      <script>\n",
              "        const buttonEl =\n",
              "          document.querySelector('#df-212f815d-497c-456e-ad4a-db0823a3975b button.colab-df-convert');\n",
              "        buttonEl.style.display =\n",
              "          google.colab.kernel.accessAllowed ? 'block' : 'none';\n",
              "\n",
              "        async function convertToInteractive(key) {\n",
              "          const element = document.querySelector('#df-212f815d-497c-456e-ad4a-db0823a3975b');\n",
              "          const dataTable =\n",
              "            await google.colab.kernel.invokeFunction('convertToInteractive',\n",
              "                                                     [key], {});\n",
              "          if (!dataTable) return;\n",
              "\n",
              "          const docLinkHtml = 'Like what you see? Visit the ' +\n",
              "            '<a target=\"_blank\" href=https://colab.research.google.com/notebooks/data_table.ipynb>data table notebook</a>'\n",
              "            + ' to learn more about interactive tables.';\n",
              "          element.innerHTML = '';\n",
              "          dataTable['output_type'] = 'display_data';\n",
              "          await google.colab.output.renderOutput(dataTable, element);\n",
              "          const docLink = document.createElement('div');\n",
              "          docLink.innerHTML = docLinkHtml;\n",
              "          element.appendChild(docLink);\n",
              "        }\n",
              "      </script>\n",
              "    </div>\n",
              "  </div>\n",
              "  "
            ]
          },
          "metadata": {},
          "execution_count": 22
        }
      ]
    },
    {
      "cell_type": "markdown",
      "source": [
        "test dates range from **1627** to **1682**\n",
        "\n",
        "this is a continuation from train. This makes sense since we are to predict future transactions based on past data\n",
        "\n",
        "**note**: we will not be using transaction data to train our models, since transaction data was not provided for our test data."
      ],
      "metadata": {
        "id": "3NOEaiGeFM5f"
      }
    },
    {
      "cell_type": "code",
      "source": [
        "dates.describe(),"
      ],
      "metadata": {
        "colab": {
          "base_uri": "https://localhost:8080/"
        },
        "id": "Z1dIXNBJF2vX",
        "outputId": "48c729ee-b63d-453f-97cf-215f73a5b0ab"
      },
      "execution_count": 23,
      "outputs": [
        {
          "output_type": "execute_result",
          "data": {
            "text/plain": [
              "(              date         year        month   dayofmonth    dayofweek  \\\n",
              " count  1320.000000  1320.000000  1320.000000  1320.000000  1320.000000   \n",
              " mean   1024.500000     2.344697     6.124242    15.612121     2.996970   \n",
              " std     381.195488     1.059333     3.366835     8.798020     2.001135   \n",
              " min     365.000000     1.000000     1.000000     1.000000     0.000000   \n",
              " 25%     694.750000     1.000000     3.000000     8.000000     1.000000   \n",
              " 50%    1024.500000     2.000000     6.000000    15.500000     3.000000   \n",
              " 75%    1354.250000     3.000000     9.000000    23.000000     5.000000   \n",
              " max    1684.000000     4.000000    12.000000    31.000000     6.000000   \n",
              " \n",
              "          dayofyear   weekofyear      quarter  year_weekofyear  \n",
              " count  1320.000000  1320.000000  1320.000000      1320.000000  \n",
              " mean    170.871970    24.934848     2.384091       259.101515  \n",
              " std     102.870939    14.726066     1.094568       104.162039  \n",
              " min       1.000000     1.000000     1.000000       101.000000  \n",
              " 25%      83.000000    12.000000     1.000000       147.750000  \n",
              " 50%     165.500000    24.000000     2.000000       243.000000  \n",
              " 75%     255.000000    37.000000     3.000000       337.250000  \n",
              " max     366.000000    53.000000     4.000000       433.000000  ,)"
            ]
          },
          "metadata": {},
          "execution_count": 23
        }
      ]
    },
    {
      "cell_type": "markdown",
      "source": [
        "dates are from **365** till **1684** which covers the train and test dates\n",
        "\n",
        "so, we'll be able to add the features from here to both the train and test data based on the date"
      ],
      "metadata": {
        "id": "nJq6eM6nGE8f"
      }
    },
    {
      "cell_type": "code",
      "source": [
        " holidays.describe()"
      ],
      "metadata": {
        "colab": {
          "base_uri": "https://localhost:8080/",
          "height": 300
        },
        "id": "8QPbCGdGGlIZ",
        "outputId": "784d7f68-a2e5-4ed8-f0ec-1ecc7b828890"
      },
      "execution_count": 24,
      "outputs": [
        {
          "output_type": "execute_result",
          "data": {
            "text/plain": [
              "              date        type\n",
              "count   281.000000  281.000000\n",
              "mean    901.896797    1.402135\n",
              "std     461.359327    1.996031\n",
              "min       1.000000    0.000000\n",
              "25%     540.000000    0.000000\n",
              "50%     934.000000    0.000000\n",
              "75%    1237.000000    2.000000\n",
              "max    1684.000000    5.000000"
            ],
            "text/html": [
              "\n",
              "  <div id=\"df-314f5a2e-5737-45dc-b5c3-93e156a530b7\">\n",
              "    <div class=\"colab-df-container\">\n",
              "      <div>\n",
              "<style scoped>\n",
              "    .dataframe tbody tr th:only-of-type {\n",
              "        vertical-align: middle;\n",
              "    }\n",
              "\n",
              "    .dataframe tbody tr th {\n",
              "        vertical-align: top;\n",
              "    }\n",
              "\n",
              "    .dataframe thead th {\n",
              "        text-align: right;\n",
              "    }\n",
              "</style>\n",
              "<table border=\"1\" class=\"dataframe\">\n",
              "  <thead>\n",
              "    <tr style=\"text-align: right;\">\n",
              "      <th></th>\n",
              "      <th>date</th>\n",
              "      <th>type</th>\n",
              "    </tr>\n",
              "  </thead>\n",
              "  <tbody>\n",
              "    <tr>\n",
              "      <th>count</th>\n",
              "      <td>281.000000</td>\n",
              "      <td>281.000000</td>\n",
              "    </tr>\n",
              "    <tr>\n",
              "      <th>mean</th>\n",
              "      <td>901.896797</td>\n",
              "      <td>1.402135</td>\n",
              "    </tr>\n",
              "    <tr>\n",
              "      <th>std</th>\n",
              "      <td>461.359327</td>\n",
              "      <td>1.996031</td>\n",
              "    </tr>\n",
              "    <tr>\n",
              "      <th>min</th>\n",
              "      <td>1.000000</td>\n",
              "      <td>0.000000</td>\n",
              "    </tr>\n",
              "    <tr>\n",
              "      <th>25%</th>\n",
              "      <td>540.000000</td>\n",
              "      <td>0.000000</td>\n",
              "    </tr>\n",
              "    <tr>\n",
              "      <th>50%</th>\n",
              "      <td>934.000000</td>\n",
              "      <td>0.000000</td>\n",
              "    </tr>\n",
              "    <tr>\n",
              "      <th>75%</th>\n",
              "      <td>1237.000000</td>\n",
              "      <td>2.000000</td>\n",
              "    </tr>\n",
              "    <tr>\n",
              "      <th>max</th>\n",
              "      <td>1684.000000</td>\n",
              "      <td>5.000000</td>\n",
              "    </tr>\n",
              "  </tbody>\n",
              "</table>\n",
              "</div>\n",
              "      <button class=\"colab-df-convert\" onclick=\"convertToInteractive('df-314f5a2e-5737-45dc-b5c3-93e156a530b7')\"\n",
              "              title=\"Convert this dataframe to an interactive table.\"\n",
              "              style=\"display:none;\">\n",
              "        \n",
              "  <svg xmlns=\"http://www.w3.org/2000/svg\" height=\"24px\"viewBox=\"0 0 24 24\"\n",
              "       width=\"24px\">\n",
              "    <path d=\"M0 0h24v24H0V0z\" fill=\"none\"/>\n",
              "    <path d=\"M18.56 5.44l.94 2.06.94-2.06 2.06-.94-2.06-.94-.94-2.06-.94 2.06-2.06.94zm-11 1L8.5 8.5l.94-2.06 2.06-.94-2.06-.94L8.5 2.5l-.94 2.06-2.06.94zm10 10l.94 2.06.94-2.06 2.06-.94-2.06-.94-.94-2.06-.94 2.06-2.06.94z\"/><path d=\"M17.41 7.96l-1.37-1.37c-.4-.4-.92-.59-1.43-.59-.52 0-1.04.2-1.43.59L10.3 9.45l-7.72 7.72c-.78.78-.78 2.05 0 2.83L4 21.41c.39.39.9.59 1.41.59.51 0 1.02-.2 1.41-.59l7.78-7.78 2.81-2.81c.8-.78.8-2.07 0-2.86zM5.41 20L4 18.59l7.72-7.72 1.47 1.35L5.41 20z\"/>\n",
              "  </svg>\n",
              "      </button>\n",
              "      \n",
              "  <style>\n",
              "    .colab-df-container {\n",
              "      display:flex;\n",
              "      flex-wrap:wrap;\n",
              "      gap: 12px;\n",
              "    }\n",
              "\n",
              "    .colab-df-convert {\n",
              "      background-color: #E8F0FE;\n",
              "      border: none;\n",
              "      border-radius: 50%;\n",
              "      cursor: pointer;\n",
              "      display: none;\n",
              "      fill: #1967D2;\n",
              "      height: 32px;\n",
              "      padding: 0 0 0 0;\n",
              "      width: 32px;\n",
              "    }\n",
              "\n",
              "    .colab-df-convert:hover {\n",
              "      background-color: #E2EBFA;\n",
              "      box-shadow: 0px 1px 2px rgba(60, 64, 67, 0.3), 0px 1px 3px 1px rgba(60, 64, 67, 0.15);\n",
              "      fill: #174EA6;\n",
              "    }\n",
              "\n",
              "    [theme=dark] .colab-df-convert {\n",
              "      background-color: #3B4455;\n",
              "      fill: #D2E3FC;\n",
              "    }\n",
              "\n",
              "    [theme=dark] .colab-df-convert:hover {\n",
              "      background-color: #434B5C;\n",
              "      box-shadow: 0px 1px 3px 1px rgba(0, 0, 0, 0.15);\n",
              "      filter: drop-shadow(0px 1px 2px rgba(0, 0, 0, 0.3));\n",
              "      fill: #FFFFFF;\n",
              "    }\n",
              "  </style>\n",
              "\n",
              "      <script>\n",
              "        const buttonEl =\n",
              "          document.querySelector('#df-314f5a2e-5737-45dc-b5c3-93e156a530b7 button.colab-df-convert');\n",
              "        buttonEl.style.display =\n",
              "          google.colab.kernel.accessAllowed ? 'block' : 'none';\n",
              "\n",
              "        async function convertToInteractive(key) {\n",
              "          const element = document.querySelector('#df-314f5a2e-5737-45dc-b5c3-93e156a530b7');\n",
              "          const dataTable =\n",
              "            await google.colab.kernel.invokeFunction('convertToInteractive',\n",
              "                                                     [key], {});\n",
              "          if (!dataTable) return;\n",
              "\n",
              "          const docLinkHtml = 'Like what you see? Visit the ' +\n",
              "            '<a target=\"_blank\" href=https://colab.research.google.com/notebooks/data_table.ipynb>data table notebook</a>'\n",
              "            + ' to learn more about interactive tables.';\n",
              "          element.innerHTML = '';\n",
              "          dataTable['output_type'] = 'display_data';\n",
              "          await google.colab.output.renderOutput(dataTable, element);\n",
              "          const docLink = document.createElement('div');\n",
              "          docLink.innerHTML = docLinkHtml;\n",
              "          element.appendChild(docLink);\n",
              "        }\n",
              "      </script>\n",
              "    </div>\n",
              "  </div>\n",
              "  "
            ]
          },
          "metadata": {},
          "execution_count": 24
        }
      ]
    },
    {
      "cell_type": "code",
      "source": [
        "# count the number of dates in the holidays dataset\n",
        "holidays.date.nunique()"
      ],
      "metadata": {
        "colab": {
          "base_uri": "https://localhost:8080/"
        },
        "id": "IjD4RclhaNLn",
        "outputId": "17f7a023-4d74-48c7-d685-18408ed81369"
      },
      "execution_count": 25,
      "outputs": [
        {
          "output_type": "execute_result",
          "data": {
            "text/plain": [
              "251"
            ]
          },
          "metadata": {},
          "execution_count": 25
        }
      ]
    },
    {
      "cell_type": "markdown",
      "source": [
        "notice that the dates in the holiday dataset are not complete\n",
        "\n",
        "so, we will later create a column for holidays in our train and test dataset based on the following logic:\n",
        "\n",
        "if a date is in the holidays table, then its a holiday, else that date is not a holiday"
      ],
      "metadata": {
        "id": "0vzexdncCW7J"
      }
    },
    {
      "cell_type": "markdown",
      "metadata": {
        "id": "0PSAf8TQ4Nz6"
      },
      "source": [
        "## Hypothesis\n",
        "**H0**: holidays have a big effect on sales, hence the sales data is seasonal.\n",
        "\n",
        "**H1**: holidays don't affect sales, hence sales data is stationary."
      ]
    },
    {
      "cell_type": "markdown",
      "metadata": {
        "id": "9m8lZeet4Nz6"
      },
      "source": [
        "## Questions\n",
        "\n",
        "1. Is the train data complete?\n",
        "2. Do we have seasonality in our transactions?\n",
        "3. Are there outliers in our dataset?\n",
        "4. What is the difference between RMSLE, RMSE and MSE?"
      ]
    },
    {
      "cell_type": "markdown",
      "metadata": {
        "id": "O9UlAxTD4Nz7"
      },
      "source": [
        "## Issues with the data - how we intend to solve them:\n",
        "\n",
        "1. The Dates in our train, test, dates & holidays dataset are in number format - convert them to Date type.\n",
        "2. City, type & cluster in our stores dataset are mumerical - convert to string and make the categories more descriptive.\n",
        "3. The dayofyear column in our dates dataset ranges from 1 to 366. This will make some days fall on the wrong number - find the sine and cosine of this column to represent the cyclic nature of a year. We can also include weather conditions, holidays and events to this."
      ]
    },
    {
      "cell_type": "markdown",
      "source": [
        "| Issues                                  | how we intend to solve them                                                                                                   |\n",
        "|----------------------------------------|------------------------------------------------------------------------------------------------------------|\n",
        "| 1. The Dates in our train, test, dates & holidays dataset are in number format         | Convert them to Date type.                                                                          |\n",
        "| 2. City, type & cluster in our stores dataset are mumerical | convert to string and make the categories more descriptive.                                            |\n",
        "| 3. The dayofyear column in our dates dataset ranges from 1 to 366. This will make some days fall on the wrong number | find the sine and cosine of this column to represent the cyclic nature of a year. | We can also include weather conditions, holidays and events to this.                        |\n"
      ],
      "metadata": {
        "id": "hqYE8pYDyiT5"
      }
    },
    {
      "cell_type": "markdown",
      "metadata": {
        "id": "KZnWtLbK4Nz7"
      },
      "source": [
        "# Data Cleaning\n",
        "\n",
        "Here, we will prepare our data for Univariate and Bivariate analysis. "
      ]
    },
    {
      "cell_type": "markdown",
      "metadata": {
        "id": "VND4jVpS4Nz7"
      },
      "source": [
        "## Fixing our issues"
      ]
    },
    {
      "cell_type": "markdown",
      "metadata": {
        "id": "nXOJIfY-4Nz7"
      },
      "source": [
        "1. The Dates in our train dataset are in number format\n",
        "\n",
        "Solution: convert them to Date."
      ]
    },
    {
      "cell_type": "code",
      "execution_count": 26,
      "metadata": {
        "id": "lHFl45sd4Nz8"
      },
      "outputs": [],
      "source": [
        "#converting date columns to date format\n",
        "def to_dateTime(df):\n",
        "    df['datetime'] = pd.to_datetime(df['date'])\n",
        "\n",
        "to_dateTime(train)"
      ]
    },
    {
      "cell_type": "code",
      "source": [
        "# confirming that the date column is in date format\n",
        "print(train.datetime.dt.date.unique())"
      ],
      "metadata": {
        "colab": {
          "base_uri": "https://localhost:8080/"
        },
        "id": "pyMruYQY35sV",
        "outputId": "84795428-2ec6-4160-81eb-c382d81a05f8"
      },
      "execution_count": 27,
      "outputs": [
        {
          "output_type": "stream",
          "name": "stdout",
          "text": [
            "[datetime.date(1970, 1, 1)]\n"
          ]
        }
      ]
    },
    {
      "cell_type": "markdown",
      "source": [
        "all the resulting dates have the same date, \n",
        "\n",
        "so we won't extract any date_features from here since they will all give the same value\n",
        "\n",
        "instead, we'll get all the date_features from the dates dataset, \n",
        "\n",
        "but we will do this in the \"merging our data\" section, so not yet."
      ],
      "metadata": {
        "id": "3bz9by5rld_V"
      }
    },
    {
      "cell_type": "markdown",
      "source": [
        "2. City, type & cluster in our stores dataset are mumerical \n",
        "\n",
        "Solution: convert to string and make the categories more descriptive."
      ],
      "metadata": {
        "id": "nCQignpE4a_O"
      }
    },
    {
      "cell_type": "markdown",
      "source": [
        "**city**"
      ],
      "metadata": {
        "id": "0qEJuYQI-q2Q"
      }
    },
    {
      "cell_type": "code",
      "source": [
        "# creating a list of cities from the United States\n",
        "us_cities = [\n",
        "    \"New York\",\n",
        "    \"Los Angeles\",\n",
        "    \"Chicago\",\n",
        "    \"Houston\",\n",
        "    \"Phoenix\",\n",
        "    \"Philadelphia\",\n",
        "    \"San Antonio\",\n",
        "    \"San Diego\",\n",
        "    \"Dallas\",\n",
        "    \"San Jose\",\n",
        "    \"Austin\",\n",
        "    \"Jacksonville\",\n",
        "    \"San Francisco\",\n",
        "    \"Columbus\",\n",
        "    \"Fort Worth\",\n",
        "    \"Indianapolis\",\n",
        "    \"Charlotte\",\n",
        "    \"Seattle\",\n",
        "    \"Denver\",\n",
        "    \"Washington, D.C.\",\n",
        "    \"Boston\",\n",
        "    \"Miami\"\n",
        "]"
      ],
      "metadata": {
        "id": "935MmwsW6VAe"
      },
      "execution_count": 28,
      "outputs": []
    },
    {
      "cell_type": "code",
      "source": [
        "stores.city.unique()"
      ],
      "metadata": {
        "colab": {
          "base_uri": "https://localhost:8080/"
        },
        "id": "ORS8-rnS4hSA",
        "outputId": "1aa31f1d-aca8-43c6-a5ff-1884ff76c8b6"
      },
      "execution_count": 29,
      "outputs": [
        {
          "output_type": "execute_result",
          "data": {
            "text/plain": [
              "array([ 0,  1,  2,  3,  4,  5,  6,  7,  8,  9, 10, 11, 12, 13, 14, 15, 16,\n",
              "       17, 18, 19, 20, 21])"
            ]
          },
          "metadata": {},
          "execution_count": 29
        }
      ]
    },
    {
      "cell_type": "code",
      "source": [
        "# using each city number as index, \n",
        "# convert each city number to the corresponding city from a list of us_cities\n",
        "stores.city = stores.city.apply(lambda x: us_cities[x])"
      ],
      "metadata": {
        "id": "NNBx10S-5XiM"
      },
      "execution_count": 30,
      "outputs": []
    },
    {
      "cell_type": "code",
      "source": [
        "stores.city.unique()"
      ],
      "metadata": {
        "colab": {
          "base_uri": "https://localhost:8080/"
        },
        "id": "_K5CD29G-mip",
        "outputId": "404f38e7-dd3e-4612-ac6b-6e823a836414"
      },
      "execution_count": 31,
      "outputs": [
        {
          "output_type": "execute_result",
          "data": {
            "text/plain": [
              "array(['New York', 'Los Angeles', 'Chicago', 'Houston', 'Phoenix',\n",
              "       'Philadelphia', 'San Antonio', 'San Diego', 'Dallas', 'San Jose',\n",
              "       'Austin', 'Jacksonville', 'San Francisco', 'Columbus',\n",
              "       'Fort Worth', 'Indianapolis', 'Charlotte', 'Seattle', 'Denver',\n",
              "       'Washington, D.C.', 'Boston', 'Miami'], dtype=object)"
            ]
          },
          "metadata": {},
          "execution_count": 31
        }
      ]
    },
    {
      "cell_type": "markdown",
      "source": [
        "**type**"
      ],
      "metadata": {
        "id": "0qIQ4Vcm-8yF"
      }
    },
    {
      "cell_type": "code",
      "source": [
        "stores.type.unique()"
      ],
      "metadata": {
        "colab": {
          "base_uri": "https://localhost:8080/"
        },
        "id": "mkHa2RMC--vR",
        "outputId": "0733b901-3818-48cf-cc84-24edbbf07356"
      },
      "execution_count": 32,
      "outputs": [
        {
          "output_type": "execute_result",
          "data": {
            "text/plain": [
              "array([0, 1, 2, 3, 4])"
            ]
          },
          "metadata": {},
          "execution_count": 32
        }
      ]
    },
    {
      "cell_type": "code",
      "source": [
        "# create a list of 5 common types of grocery stores\n",
        "grocery_store_types = [\n",
        "    \"Supermarket\",\n",
        "    \"Hypermarket\",\n",
        "    \"Convenience Store\",\n",
        "    \"Discount Store\",\n",
        "    \"Organic Market\",\n",
        "]"
      ],
      "metadata": {
        "id": "pboiYrS0_LA2"
      },
      "execution_count": 33,
      "outputs": []
    },
    {
      "cell_type": "code",
      "source": [
        "# using each store_type number as index, \n",
        "# convert each store_type number to the corresponding store_type from a list of grocery_store_types\n",
        "stores.type = stores.type.apply(lambda x: grocery_store_types[x])"
      ],
      "metadata": {
        "id": "COckj6Bd_h0e"
      },
      "execution_count": 34,
      "outputs": []
    },
    {
      "cell_type": "code",
      "source": [
        "stores.type.unique()"
      ],
      "metadata": {
        "colab": {
          "base_uri": "https://localhost:8080/"
        },
        "id": "JDtCVODkAEkP",
        "outputId": "675abf25-ffb7-41f9-83a2-81803ba42e9b"
      },
      "execution_count": 35,
      "outputs": [
        {
          "output_type": "execute_result",
          "data": {
            "text/plain": [
              "array(['Supermarket', 'Hypermarket', 'Convenience Store',\n",
              "       'Discount Store', 'Organic Market'], dtype=object)"
            ]
          },
          "metadata": {},
          "execution_count": 35
        }
      ]
    },
    {
      "cell_type": "markdown",
      "source": [
        "**cluster**"
      ],
      "metadata": {
        "id": "D5TqopxkAf1r"
      }
    },
    {
      "cell_type": "code",
      "source": [
        "stores.cluster.unique()"
      ],
      "metadata": {
        "colab": {
          "base_uri": "https://localhost:8080/"
        },
        "id": "9dH8INMmAiBC",
        "outputId": "60616e3d-9d14-435d-a389-5bea047e0615"
      },
      "execution_count": 36,
      "outputs": [
        {
          "output_type": "execute_result",
          "data": {
            "text/plain": [
              "array([ 0,  1,  2,  3,  4,  5,  6,  7,  8,  9, 10, 11, 12, 13, 14, 15, 16])"
            ]
          },
          "metadata": {},
          "execution_count": 36
        }
      ]
    },
    {
      "cell_type": "code",
      "source": [
        "# create a list of 17 cluster of grocery store\n",
        "grocery_store_clusters = [\n",
        "    \"Urban\",\n",
        "    \"Suburban\",\n",
        "    \"Rural\",\n",
        "    \"Neighborhood\",\n",
        "    \"Downtown\",\n",
        "    \"Shopping Center\",\n",
        "    \"Mall\",\n",
        "    \"High-end\",\n",
        "    \"Budget\",\n",
        "    \"Specialty\",\n",
        "    \"Ethnic\",\n",
        "    \"Health-focused\",\n",
        "    \"Convenience\",\n",
        "    \"Gourmet\",\n",
        "    \"Online\",\n",
        "    \"Wholesale\",\n",
        "    \"Farmers' Market\",\n",
        "]"
      ],
      "metadata": {
        "id": "1LNUuNQbBAjV"
      },
      "execution_count": 37,
      "outputs": []
    },
    {
      "cell_type": "code",
      "source": [
        "# using each cluster number as index, \n",
        "# convert each cluster number to the corresponding cluster from a list of us_cities\n",
        "stores.cluster = stores.cluster.apply(lambda x: grocery_store_clusters[x])"
      ],
      "metadata": {
        "id": "1OM3bwR6BOyF"
      },
      "execution_count": 38,
      "outputs": []
    },
    {
      "cell_type": "code",
      "source": [
        "stores.cluster.unique()"
      ],
      "metadata": {
        "colab": {
          "base_uri": "https://localhost:8080/"
        },
        "id": "kwik8MGXBuFp",
        "outputId": "e95a5edd-8108-4dad-bbb8-945bfcf819c3"
      },
      "execution_count": 39,
      "outputs": [
        {
          "output_type": "execute_result",
          "data": {
            "text/plain": [
              "array(['Urban', 'Suburban', 'Rural', 'Neighborhood', 'Downtown',\n",
              "       'Shopping Center', 'Mall', 'High-end', 'Budget', 'Specialty',\n",
              "       'Ethnic', 'Health-focused', 'Convenience', 'Gourmet', 'Online',\n",
              "       'Wholesale', \"Farmers' Market\"], dtype=object)"
            ]
          },
          "metadata": {},
          "execution_count": 39
        }
      ]
    },
    {
      "cell_type": "code",
      "source": [
        "holidays.type.unique()"
      ],
      "metadata": {
        "colab": {
          "base_uri": "https://localhost:8080/"
        },
        "id": "r5we9TFqwQel",
        "outputId": "9423bf99-c215-4b48-a700-f08602371fe4"
      },
      "execution_count": 40,
      "outputs": [
        {
          "output_type": "execute_result",
          "data": {
            "text/plain": [
              "array([0, 4, 2, 5, 1, 3])"
            ]
          },
          "metadata": {},
          "execution_count": 40
        }
      ]
    },
    {
      "cell_type": "markdown",
      "source": [
        "3. The dayofyear column in our dates dataset ranges from 1 to 366. This will make some days fall on the wrong number \n",
        "\n",
        "Solution: find the sine and cosine of this column to represent the cyclic nature of a year. We can also include weather conditions, holidays and events to this."
      ],
      "metadata": {
        "id": "TSbfsjQKByfc"
      }
    },
    {
      "cell_type": "code",
      "source": [
        "dates.dayofyear.info()"
      ],
      "metadata": {
        "colab": {
          "base_uri": "https://localhost:8080/"
        },
        "id": "05Z73hvCC2FN",
        "outputId": "9f3d205f-77db-4f50-ba1b-42ddc36ccc80"
      },
      "execution_count": 41,
      "outputs": [
        {
          "output_type": "stream",
          "name": "stdout",
          "text": [
            "<class 'pandas.core.series.Series'>\n",
            "RangeIndex: 1320 entries, 0 to 1319\n",
            "Series name: dayofyear\n",
            "Non-Null Count  Dtype\n",
            "--------------  -----\n",
            "1320 non-null   int64\n",
            "dtypes: int64(1)\n",
            "memory usage: 10.4 KB\n"
          ]
        }
      ]
    },
    {
      "cell_type": "code",
      "source": [
        "# create new coolumns to represent the cyclic nature of a year\n",
        "dates[\"sin(dayofyear)\"] = np.sin(dates[\"dayofyear\"])\n",
        "dates[\"cos(dayofyear)\"] = np.cos(dates[\"dayofyear\"])"
      ],
      "metadata": {
        "id": "AJFpNxN1B5xJ"
      },
      "execution_count": 42,
      "outputs": []
    },
    {
      "cell_type": "markdown",
      "source": [
        "### fill all missing dates"
      ],
      "metadata": {
        "id": "BThWetcxLFj6"
      }
    },
    {
      "cell_type": "markdown",
      "source": [
        "let's create a function that returns all missing dates"
      ],
      "metadata": {
        "id": "nUE57NFdIaPV"
      }
    },
    {
      "cell_type": "code",
      "execution_count": 43,
      "metadata": {
        "id": "xaRihAg34Nz_"
      },
      "outputs": [],
      "source": [
        "# create a function to check for missing dates\n",
        "def get_missing_dates(df):\n",
        "\n",
        "  missing_dates = (pd.date_range(\n",
        "      \n",
        "      start=df['date'].min(), #start date\n",
        "      end=df['date'].max())   #end_date\n",
        "      .difference(df['date']))\n",
        "  \n",
        "  return missing_dates"
      ]
    },
    {
      "cell_type": "code",
      "source": [
        "get_missing_dates(train)"
      ],
      "metadata": {
        "colab": {
          "base_uri": "https://localhost:8080/"
        },
        "id": "YOuc2V0izjwz",
        "outputId": "267d8e02-cdbb-4149-91df-4bb13ab94d51"
      },
      "execution_count": 44,
      "outputs": [
        {
          "output_type": "execute_result",
          "data": {
            "text/plain": [
              "DatetimeIndex(['1970-01-01 00:00:00.000000365'], dtype='datetime64[ns]', freq='D')"
            ]
          },
          "metadata": {},
          "execution_count": 44
        }
      ]
    },
    {
      "cell_type": "code",
      "source": [
        "get_missing_dates(test)"
      ],
      "metadata": {
        "colab": {
          "base_uri": "https://localhost:8080/"
        },
        "id": "-HHIl3HEzmnz",
        "outputId": "d5499a28-5d74-4d3b-c945-922570ee9def"
      },
      "execution_count": 45,
      "outputs": [
        {
          "output_type": "execute_result",
          "data": {
            "text/plain": [
              "DatetimeIndex(['1970-01-01 00:00:00.000001627'], dtype='datetime64[ns]', freq='D')"
            ]
          },
          "metadata": {},
          "execution_count": 45
        }
      ]
    },
    {
      "cell_type": "code",
      "source": [
        "get_missing_dates(dates)"
      ],
      "metadata": {
        "colab": {
          "base_uri": "https://localhost:8080/"
        },
        "id": "mNx3VlpJzp0o",
        "outputId": "5f7f9d7f-b962-42cc-a6e1-f3f8d55fa1c6"
      },
      "execution_count": 46,
      "outputs": [
        {
          "output_type": "execute_result",
          "data": {
            "text/plain": [
              "DatetimeIndex(['1970-01-01 00:00:00.000000365'], dtype='datetime64[ns]', freq='D')"
            ]
          },
          "metadata": {},
          "execution_count": 46
        }
      ]
    },
    {
      "cell_type": "code",
      "source": [
        "get_missing_dates(holidays)"
      ],
      "metadata": {
        "colab": {
          "base_uri": "https://localhost:8080/"
        },
        "id": "Ho0rppfgzrWE",
        "outputId": "0dce8386-2b24-40de-9f16-e072a6cbcfee"
      },
      "execution_count": 47,
      "outputs": [
        {
          "output_type": "execute_result",
          "data": {
            "text/plain": [
              "DatetimeIndex(['1970-01-01 00:00:00.000000001'], dtype='datetime64[ns]', freq='D')"
            ]
          },
          "metadata": {},
          "execution_count": 47
        }
      ]
    },
    {
      "cell_type": "markdown",
      "metadata": {
        "id": "8C1fBehp4N0A"
      },
      "source": [
        "if there were missing dates in train, the commented code below would get them and fill all missing values with zero."
      ]
    },
    {
      "cell_type": "markdown",
      "source": [
        "comented explanation, don't delete this cell\n",
        "\n",
        "<!-- every date iterates or loops over every unique store_id\n",
        "\n",
        "every store_id also iterates or loops over every unique category_id, so we will use itertools.product() function to get all missing dates from our train dataset -->\n",
        "\n",
        "<!-- Why this function? We must get every possible combination of 3 columns: date, store_id & category_id. This function does that for us. \n",
        "\n",
        "Read more about it [here](https://www.educative.io/answers/what-is-the-itertoolsproduct-method-in-python) -->"
      ],
      "metadata": {
        "id": "084zNih-06Gn"
      }
    },
    {
      "cell_type": "code",
      "execution_count": 48,
      "metadata": {
        "id": "UuWmaPEO4N0B"
      },
      "outputs": [],
      "source": [
        "# # getting all train dates\n",
        "# all_train_dates = (pd.date_range(\n",
        "#     start=train.date.min(),\n",
        "#     end=train.date.max()))\n",
        "\n",
        "# # get a list of all possible combinations of (date, store_id, category_id) for all_train_dates\n",
        "# all_train_combinations = list(\n",
        "#     product(\n",
        "#         all_train_dates, \n",
        "#         train.store_id.unique(), \n",
        "#         train.category_id.unique()))\n",
        "\n",
        "# # convert to a dataframe\n",
        "# all_train_combinations_df = pd.DataFrame(\n",
        "#     all_train_combinations, \n",
        "#     columns=['date', 'store_id', 'category_id'])"
      ]
    },
    {
      "cell_type": "code",
      "execution_count": 49,
      "metadata": {
        "id": "tGxe5ICZ4N0B"
      },
      "outputs": [],
      "source": [
        "# # adding all dates to train\n",
        "# train__with_all_dates = pd.concat(\n",
        "#     [train, all_train_combinations_df], \n",
        "#     ignore_index=True)\n",
        "\n",
        "# # fill missing sales, onpromotion and nbr_of_transactions with zero\n",
        "# train.sales.fillna(0, inplace=True)\n",
        "# train.onpromotion.fillna(0, inplace=True)\n",
        "# train.nbr_of_transactions.fillna(0, inplace=True)"
      ]
    },
    {
      "cell_type": "markdown",
      "source": [
        "### merging our data"
      ],
      "metadata": {
        "id": "vjFCEucJjUnj"
      }
    },
    {
      "cell_type": "markdown",
      "source": [
        "first, we will get the date features\n",
        "for each date in train & test\n",
        "\n",
        "by checking the value from the dates dataset"
      ],
      "metadata": {
        "id": "Hf2j2PJ-jnRX"
      }
    },
    {
      "cell_type": "code",
      "source": [
        "dates.set_index('date', inplace=True)"
      ],
      "metadata": {
        "id": "M3F3Y5FJh1CN"
      },
      "execution_count": 50,
      "outputs": []
    },
    {
      "cell_type": "code",
      "source": [
        "dates.columns.drop('year')"
      ],
      "metadata": {
        "id": "XMqqXxUZiExx",
        "outputId": "a10928aa-68ad-4b86-9b1b-822ff0953d09",
        "colab": {
          "base_uri": "https://localhost:8080/"
        }
      },
      "execution_count": 51,
      "outputs": [
        {
          "output_type": "execute_result",
          "data": {
            "text/plain": [
              "Index(['month', 'dayofmonth', 'dayofweek', 'dayofyear', 'weekofyear',\n",
              "       'quarter', 'is_month_start', 'is_month_end', 'is_quarter_start',\n",
              "       'is_quarter_end', 'is_year_start', 'is_year_end', 'year_weekofyear',\n",
              "       'sin(dayofyear)', 'cos(dayofyear)'],\n",
              "      dtype='object')"
            ]
          },
          "metadata": {},
          "execution_count": 51
        }
      ]
    },
    {
      "cell_type": "code",
      "source": [
        "for col in dates.columns.drop('year'):\n",
        "  train[col] = train['date'].map(dates[col])\n",
        "  test[col] = test['date'].map(dates[col])"
      ],
      "metadata": {
        "id": "9Plu4afabTz2"
      },
      "execution_count": 52,
      "outputs": []
    },
    {
      "cell_type": "code",
      "source": [
        "train.columns"
      ],
      "metadata": {
        "id": "IMCiD-4akF7C",
        "outputId": "fbb8108d-dff4-4e61-d197-0f08eed1acd7",
        "colab": {
          "base_uri": "https://localhost:8080/"
        }
      },
      "execution_count": 53,
      "outputs": [
        {
          "output_type": "execute_result",
          "data": {
            "text/plain": [
              "Index(['date', 'store_id', 'category_id', 'sales', 'onpromotion',\n",
              "       'nbr_of_transactions', 'datetime', 'month', 'dayofmonth', 'dayofweek',\n",
              "       'dayofyear', 'weekofyear', 'quarter', 'is_month_start', 'is_month_end',\n",
              "       'is_quarter_start', 'is_quarter_end', 'is_year_start', 'is_year_end',\n",
              "       'year_weekofyear', 'sin(dayofyear)', 'cos(dayofyear)'],\n",
              "      dtype='object')"
            ]
          },
          "metadata": {},
          "execution_count": 53
        }
      ]
    },
    {
      "cell_type": "markdown",
      "metadata": {
        "id": "N-sbv4RU4N0M"
      },
      "source": [
        "we want to merge the train & test data with the stores dataset\n",
        "\n",
        "we will use left join. Read about it [here](https://www.stratascratch.com/blog/types-of-pandas-joins-and-how-to-use-them-in-python/)"
      ]
    },
    {
      "cell_type": "code",
      "execution_count": 54,
      "metadata": {
        "id": "EHZ9UERz4N0N"
      },
      "outputs": [],
      "source": [
        "#merging train and test with stores dataset\n",
        "\n",
        "def merge_stores(df):\n",
        "\n",
        "  stores.rename(  # rename type to store_type to make it more descriptive\n",
        "      columns={'type': 'store_type'}, \n",
        "      inplace=True) \n",
        "  \n",
        "  merged_df = pd.merge( #left join with stores as 2nd df\n",
        "      df,\n",
        "      stores,\n",
        "      how='left', \n",
        "      on=['store_id'])\n",
        "  return merged_df\n",
        "\n",
        "train_with_stores = merge_stores(train)\n",
        "test_with_stores = merge_stores(test)"
      ]
    },
    {
      "cell_type": "code",
      "source": [
        "print(train_with_stores.shape, train.shape)"
      ],
      "metadata": {
        "colab": {
          "base_uri": "https://localhost:8080/"
        },
        "id": "prJiAyx7UYvW",
        "outputId": "c4312af7-fc87-4329-e62c-a8b25e9ed8f8"
      },
      "execution_count": 55,
      "outputs": [
        {
          "output_type": "stream",
          "name": "stdout",
          "text": [
            "(2248884, 25) (2248884, 22)\n"
          ]
        }
      ]
    },
    {
      "cell_type": "code",
      "source": [
        "print(test_with_stores.shape, test.shape)"
      ],
      "metadata": {
        "colab": {
          "base_uri": "https://localhost:8080/"
        },
        "id": "hfkVDInlVmY2",
        "outputId": "0b4d9f36-3af2-4f25-bf53-a59db7cd3d7c"
      },
      "execution_count": 56,
      "outputs": [
        {
          "output_type": "stream",
          "name": "stdout",
          "text": [
            "(99792, 22) (99792, 19)\n"
          ]
        }
      ]
    },
    {
      "cell_type": "markdown",
      "source": [
        "from the above, we can see that our left join has worked\n",
        "\n",
        "it joins everything from the left df with corresponding rows in the right df"
      ],
      "metadata": {
        "id": "WpurAp7K30NU"
      }
    },
    {
      "cell_type": "code",
      "source": [
        "holidays.type.unique()"
      ],
      "metadata": {
        "colab": {
          "base_uri": "https://localhost:8080/"
        },
        "id": "7I4iMHs7W6TZ",
        "outputId": "ceb174a5-2c46-4164-c1a0-663b1b6780a5"
      },
      "execution_count": 57,
      "outputs": [
        {
          "output_type": "execute_result",
          "data": {
            "text/plain": [
              "array([0, 4, 2, 5, 1, 3])"
            ]
          },
          "metadata": {},
          "execution_count": 57
        }
      ]
    },
    {
      "cell_type": "markdown",
      "source": [
        "we want to add one to every holiday_type:\n",
        "\n",
        "new_column = holiday_type + 1"
      ],
      "metadata": {
        "id": "NlJuHK3-786Z"
      }
    },
    {
      "cell_type": "code",
      "source": [
        "# add one to every holiday type\n",
        "holidays.holiday_type = holidays.type.apply(lambda x: x + 1)\n",
        "holidays.drop('type', \n",
        "              axis = 1, \n",
        "              inplace=True)\n",
        "\n",
        "holidays.holiday_type.unique()"
      ],
      "metadata": {
        "id": "HbKwntRr7zDa",
        "outputId": "3352683a-6e02-4fdd-cde4-a43b15b31aad",
        "colab": {
          "base_uri": "https://localhost:8080/"
        }
      },
      "execution_count": 58,
      "outputs": [
        {
          "output_type": "execute_result",
          "data": {
            "text/plain": [
              "array([1, 5, 3, 6, 2, 4])"
            ]
          },
          "metadata": {},
          "execution_count": 58
        }
      ]
    },
    {
      "cell_type": "markdown",
      "source": [
        "we did this so our non-holidays can be zeros"
      ],
      "metadata": {
        "id": "3Ua6F_k68ZzQ"
      }
    },
    {
      "cell_type": "markdown",
      "source": [
        "now we must merge holidays with the merged data"
      ],
      "metadata": {
        "id": "rEWAGxsV10J1"
      }
    },
    {
      "cell_type": "markdown",
      "source": [
        "since non-holidays are zeros, we don't want our ML Models to think that non-holidays(zeros) have an ordinal relationship with other holidays(1,2,3,4,) \n",
        "\n",
        "in other words, non-holidays(zeros) don't always come before holidays(1,2,3,4,)\n",
        "\n",
        "so, we must create a new column to show whether or not."
      ],
      "metadata": {
        "id": "UNnEVhP063uD"
      }
    },
    {
      "cell_type": "code",
      "source": [
        "#merging merged data with holidays dataset\n",
        "\n",
        "def merge_holidays(df):\n",
        "  df['holiday_type'] = 0  #creating a new column for holidays\n",
        "\n",
        "  merged_df = pd.merge(   #filling all missing holidays, non-holidays will be zeros\n",
        "      df,\n",
        "      holidays,\n",
        "      how='left', \n",
        "      on=['date'])\n",
        "  \n",
        "  # another column to show if its a holiday or not (non-holidays are zeros)\n",
        "  merged_df['is_holiday'] = merged_df['holiday_type'].apply(lambda x: False if x==0 else True)\n",
        "  return merged_df\n",
        "  \n",
        "train_with_stores_holidays = merge_holidays(train_with_stores)\n",
        "test_with_stores_holidays = merge_holidays(test_with_stores)"
      ],
      "metadata": {
        "id": "TWY-xK-e1-Cj"
      },
      "execution_count": 59,
      "outputs": []
    },
    {
      "cell_type": "code",
      "source": [
        "print(test_with_stores_holidays.shape, test_with_stores.shape)"
      ],
      "metadata": {
        "id": "J_Oi-GTD3Zer",
        "outputId": "b10f9ee7-921b-45d4-fe51-913e305b82db",
        "colab": {
          "base_uri": "https://localhost:8080/"
        }
      },
      "execution_count": 60,
      "outputs": [
        {
          "output_type": "stream",
          "name": "stdout",
          "text": [
            "(105138, 24) (99792, 23)\n"
          ]
        }
      ]
    },
    {
      "cell_type": "code",
      "source": [
        "test_with_stores_holidays.is_holiday.unique()"
      ],
      "metadata": {
        "id": "kUZN9Ygp8p62",
        "outputId": "a15b75b1-647b-4675-ed97-84c64ab5eeb6",
        "colab": {
          "base_uri": "https://localhost:8080/"
        }
      },
      "execution_count": 81,
      "outputs": [
        {
          "output_type": "execute_result",
          "data": {
            "text/plain": [
              "array([False])"
            ]
          },
          "metadata": {},
          "execution_count": 81
        }
      ]
    },
    {
      "cell_type": "markdown",
      "metadata": {
        "id": "nmZ1QBT54N0P"
      },
      "source": [
        "## Drop Duplicates"
      ]
    },
    {
      "cell_type": "code",
      "source": [
        "train_with_stores_holidays.drop_duplicates(inplace=True)\n",
        "test_with_stores_holidays.drop_duplicates(inplace=True)"
      ],
      "metadata": {
        "id": "f_muKXb1DvRi"
      },
      "execution_count": 62,
      "outputs": []
    },
    {
      "cell_type": "markdown",
      "metadata": {
        "id": "AGnoifAP4N0P"
      },
      "source": [
        "## Impute Missing Values"
      ]
    },
    {
      "cell_type": "code",
      "source": [
        "print(train_with_stores_holidays.isnull().sum())\n",
        "print(test_with_stores_holidays.isnull().sum())"
      ],
      "metadata": {
        "id": "d57DfF5_Jhaw",
        "outputId": "8e58b83b-3af2-4a8d-90aa-f97144acceed",
        "colab": {
          "base_uri": "https://localhost:8080/"
        }
      },
      "execution_count": 63,
      "outputs": [
        {
          "output_type": "stream",
          "name": "stdout",
          "text": [
            "date                   0\n",
            "store_id               0\n",
            "category_id            0\n",
            "sales                  0\n",
            "onpromotion            0\n",
            "nbr_of_transactions    0\n",
            "datetime               0\n",
            "month                  0\n",
            "dayofmonth             0\n",
            "dayofweek              0\n",
            "dayofyear              0\n",
            "weekofyear             0\n",
            "quarter                0\n",
            "is_month_start         0\n",
            "is_month_end           0\n",
            "is_quarter_start       0\n",
            "is_quarter_end         0\n",
            "is_year_start          0\n",
            "is_year_end            0\n",
            "year_weekofyear        0\n",
            "sin(dayofyear)         0\n",
            "cos(dayofyear)         0\n",
            "city                   0\n",
            "store_type             0\n",
            "cluster                0\n",
            "holiday_type           0\n",
            "is_holiday             0\n",
            "dtype: int64\n",
            "date                0\n",
            "store_id            0\n",
            "category_id         0\n",
            "onpromotion         0\n",
            "month               0\n",
            "dayofmonth          0\n",
            "dayofweek           0\n",
            "dayofyear           0\n",
            "weekofyear          0\n",
            "quarter             0\n",
            "is_month_start      0\n",
            "is_month_end        0\n",
            "is_quarter_start    0\n",
            "is_quarter_end      0\n",
            "is_year_start       0\n",
            "is_year_end         0\n",
            "year_weekofyear     0\n",
            "sin(dayofyear)      0\n",
            "cos(dayofyear)      0\n",
            "city                0\n",
            "store_type          0\n",
            "cluster             0\n",
            "holiday_type        0\n",
            "is_holiday          0\n",
            "dtype: int64\n"
          ]
        }
      ]
    },
    {
      "cell_type": "markdown",
      "source": [
        "no missing values"
      ],
      "metadata": {
        "id": "M6JEMjC4KEUa"
      }
    },
    {
      "cell_type": "markdown",
      "metadata": {
        "id": "sIWpPR144N0Q"
      },
      "source": [
        "# Exploratory Data Analysis: EDA"
      ]
    },
    {
      "cell_type": "markdown",
      "source": [
        "## Hypothesis Validation\n",
        "**H0**: holidays have a big effect on sales, hence the sales data is seasonal.\n",
        "\n",
        "**H1**: holidays don't affect sales, hence sales data is stationary."
      ],
      "metadata": {
        "id": "RD0uSjg0Mcck"
      }
    },
    {
      "cell_type": "code",
      "source": [
        "train_with_stores_holidays"
      ],
      "metadata": {
        "id": "NeviX6Jfsd1o",
        "outputId": "de9d07aa-6296-4a5c-b0bb-6af9eb67b43a",
        "colab": {
          "base_uri": "https://localhost:8080/",
          "height": 661
        }
      },
      "execution_count": 79,
      "outputs": [
        {
          "output_type": "execute_result",
          "data": {
            "text/plain": [
              "         date store_id  category_id     sales  onpromotion  \\\n",
              "0         365  store_1  category_24     0.000            0   \n",
              "1         365  store_1  category_21     0.000            0   \n",
              "2         365  store_1  category_32     0.000            0   \n",
              "3         365  store_1  category_18     0.000            0   \n",
              "4         365  store_1  category_26     0.000            0   \n",
              "...       ...      ...          ...       ...          ...   \n",
              "2288083  1626  store_9  category_23   539.725            0   \n",
              "2288084  1626  store_9  category_20    84.177            0   \n",
              "2288085  1626  store_9  category_15  1973.760            3   \n",
              "2288086  1626  store_9  category_29     2.000            0   \n",
              "2288087  1626  store_9  category_10    27.076            0   \n",
              "\n",
              "         nbr_of_transactions                      datetime  month  dayofmonth  \\\n",
              "0                        0.0 1970-01-01 00:00:00.000000365      1           1   \n",
              "1                        0.0 1970-01-01 00:00:00.000000365      1           1   \n",
              "2                        0.0 1970-01-01 00:00:00.000000365      1           1   \n",
              "3                        0.0 1970-01-01 00:00:00.000000365      1           1   \n",
              "4                        0.0 1970-01-01 00:00:00.000000365      1           1   \n",
              "...                      ...                           ...    ...         ...   \n",
              "2288083               2141.0 1970-01-01 00:00:00.000001626      6          18   \n",
              "2288084               2141.0 1970-01-01 00:00:00.000001626      6          18   \n",
              "2288085               2141.0 1970-01-01 00:00:00.000001626      6          18   \n",
              "2288086               2141.0 1970-01-01 00:00:00.000001626      6          18   \n",
              "2288087               2141.0 1970-01-01 00:00:00.000001626      6          18   \n",
              "\n",
              "         dayofweek  ...  is_year_start  is_year_end  year_weekofyear  \\\n",
              "0                2  ...           True        False              101   \n",
              "1                2  ...           True        False              101   \n",
              "2                2  ...           True        False              101   \n",
              "3                2  ...           True        False              101   \n",
              "4                2  ...           True        False              101   \n",
              "...            ...  ...            ...          ...              ...   \n",
              "2288083          6  ...          False        False              424   \n",
              "2288084          6  ...          False        False              424   \n",
              "2288085          6  ...          False        False              424   \n",
              "2288086          6  ...          False        False              424   \n",
              "2288087          6  ...          False        False              424   \n",
              "\n",
              "         sin(dayofyear)  cos(dayofyear)      city   store_type   cluster  \\\n",
              "0              0.841471        0.540302  New York  Supermarket     Urban   \n",
              "1              0.841471        0.540302  New York  Supermarket     Urban   \n",
              "2              0.841471        0.540302  New York  Supermarket     Urban   \n",
              "3              0.841471        0.540302  New York  Supermarket     Urban   \n",
              "4              0.841471        0.540302  New York  Supermarket     Urban   \n",
              "...                 ...             ...       ...          ...       ...   \n",
              "2288083       -0.602000        0.798496  New York  Hypermarket  Downtown   \n",
              "2288084       -0.602000        0.798496  New York  Hypermarket  Downtown   \n",
              "2288085       -0.602000        0.798496  New York  Hypermarket  Downtown   \n",
              "2288086       -0.602000        0.798496  New York  Hypermarket  Downtown   \n",
              "2288087       -0.602000        0.798496  New York  Hypermarket  Downtown   \n",
              "\n",
              "         holiday_type  is_holiday  \n",
              "0                   0       False  \n",
              "1                   0       False  \n",
              "2                   0       False  \n",
              "3                   0       False  \n",
              "4                   0       False  \n",
              "...               ...         ...  \n",
              "2288083             0       False  \n",
              "2288084             0       False  \n",
              "2288085             0       False  \n",
              "2288086             0       False  \n",
              "2288087             0       False  \n",
              "\n",
              "[2248884 rows x 27 columns]"
            ],
            "text/html": [
              "\n",
              "  <div id=\"df-1da90f55-7b02-4824-875b-35170ac78d68\">\n",
              "    <div class=\"colab-df-container\">\n",
              "      <div>\n",
              "<style scoped>\n",
              "    .dataframe tbody tr th:only-of-type {\n",
              "        vertical-align: middle;\n",
              "    }\n",
              "\n",
              "    .dataframe tbody tr th {\n",
              "        vertical-align: top;\n",
              "    }\n",
              "\n",
              "    .dataframe thead th {\n",
              "        text-align: right;\n",
              "    }\n",
              "</style>\n",
              "<table border=\"1\" class=\"dataframe\">\n",
              "  <thead>\n",
              "    <tr style=\"text-align: right;\">\n",
              "      <th></th>\n",
              "      <th>date</th>\n",
              "      <th>store_id</th>\n",
              "      <th>category_id</th>\n",
              "      <th>sales</th>\n",
              "      <th>onpromotion</th>\n",
              "      <th>nbr_of_transactions</th>\n",
              "      <th>datetime</th>\n",
              "      <th>month</th>\n",
              "      <th>dayofmonth</th>\n",
              "      <th>dayofweek</th>\n",
              "      <th>...</th>\n",
              "      <th>is_year_start</th>\n",
              "      <th>is_year_end</th>\n",
              "      <th>year_weekofyear</th>\n",
              "      <th>sin(dayofyear)</th>\n",
              "      <th>cos(dayofyear)</th>\n",
              "      <th>city</th>\n",
              "      <th>store_type</th>\n",
              "      <th>cluster</th>\n",
              "      <th>holiday_type</th>\n",
              "      <th>is_holiday</th>\n",
              "    </tr>\n",
              "  </thead>\n",
              "  <tbody>\n",
              "    <tr>\n",
              "      <th>0</th>\n",
              "      <td>365</td>\n",
              "      <td>store_1</td>\n",
              "      <td>category_24</td>\n",
              "      <td>0.000</td>\n",
              "      <td>0</td>\n",
              "      <td>0.0</td>\n",
              "      <td>1970-01-01 00:00:00.000000365</td>\n",
              "      <td>1</td>\n",
              "      <td>1</td>\n",
              "      <td>2</td>\n",
              "      <td>...</td>\n",
              "      <td>True</td>\n",
              "      <td>False</td>\n",
              "      <td>101</td>\n",
              "      <td>0.841471</td>\n",
              "      <td>0.540302</td>\n",
              "      <td>New York</td>\n",
              "      <td>Supermarket</td>\n",
              "      <td>Urban</td>\n",
              "      <td>0</td>\n",
              "      <td>False</td>\n",
              "    </tr>\n",
              "    <tr>\n",
              "      <th>1</th>\n",
              "      <td>365</td>\n",
              "      <td>store_1</td>\n",
              "      <td>category_21</td>\n",
              "      <td>0.000</td>\n",
              "      <td>0</td>\n",
              "      <td>0.0</td>\n",
              "      <td>1970-01-01 00:00:00.000000365</td>\n",
              "      <td>1</td>\n",
              "      <td>1</td>\n",
              "      <td>2</td>\n",
              "      <td>...</td>\n",
              "      <td>True</td>\n",
              "      <td>False</td>\n",
              "      <td>101</td>\n",
              "      <td>0.841471</td>\n",
              "      <td>0.540302</td>\n",
              "      <td>New York</td>\n",
              "      <td>Supermarket</td>\n",
              "      <td>Urban</td>\n",
              "      <td>0</td>\n",
              "      <td>False</td>\n",
              "    </tr>\n",
              "    <tr>\n",
              "      <th>2</th>\n",
              "      <td>365</td>\n",
              "      <td>store_1</td>\n",
              "      <td>category_32</td>\n",
              "      <td>0.000</td>\n",
              "      <td>0</td>\n",
              "      <td>0.0</td>\n",
              "      <td>1970-01-01 00:00:00.000000365</td>\n",
              "      <td>1</td>\n",
              "      <td>1</td>\n",
              "      <td>2</td>\n",
              "      <td>...</td>\n",
              "      <td>True</td>\n",
              "      <td>False</td>\n",
              "      <td>101</td>\n",
              "      <td>0.841471</td>\n",
              "      <td>0.540302</td>\n",
              "      <td>New York</td>\n",
              "      <td>Supermarket</td>\n",
              "      <td>Urban</td>\n",
              "      <td>0</td>\n",
              "      <td>False</td>\n",
              "    </tr>\n",
              "    <tr>\n",
              "      <th>3</th>\n",
              "      <td>365</td>\n",
              "      <td>store_1</td>\n",
              "      <td>category_18</td>\n",
              "      <td>0.000</td>\n",
              "      <td>0</td>\n",
              "      <td>0.0</td>\n",
              "      <td>1970-01-01 00:00:00.000000365</td>\n",
              "      <td>1</td>\n",
              "      <td>1</td>\n",
              "      <td>2</td>\n",
              "      <td>...</td>\n",
              "      <td>True</td>\n",
              "      <td>False</td>\n",
              "      <td>101</td>\n",
              "      <td>0.841471</td>\n",
              "      <td>0.540302</td>\n",
              "      <td>New York</td>\n",
              "      <td>Supermarket</td>\n",
              "      <td>Urban</td>\n",
              "      <td>0</td>\n",
              "      <td>False</td>\n",
              "    </tr>\n",
              "    <tr>\n",
              "      <th>4</th>\n",
              "      <td>365</td>\n",
              "      <td>store_1</td>\n",
              "      <td>category_26</td>\n",
              "      <td>0.000</td>\n",
              "      <td>0</td>\n",
              "      <td>0.0</td>\n",
              "      <td>1970-01-01 00:00:00.000000365</td>\n",
              "      <td>1</td>\n",
              "      <td>1</td>\n",
              "      <td>2</td>\n",
              "      <td>...</td>\n",
              "      <td>True</td>\n",
              "      <td>False</td>\n",
              "      <td>101</td>\n",
              "      <td>0.841471</td>\n",
              "      <td>0.540302</td>\n",
              "      <td>New York</td>\n",
              "      <td>Supermarket</td>\n",
              "      <td>Urban</td>\n",
              "      <td>0</td>\n",
              "      <td>False</td>\n",
              "    </tr>\n",
              "    <tr>\n",
              "      <th>...</th>\n",
              "      <td>...</td>\n",
              "      <td>...</td>\n",
              "      <td>...</td>\n",
              "      <td>...</td>\n",
              "      <td>...</td>\n",
              "      <td>...</td>\n",
              "      <td>...</td>\n",
              "      <td>...</td>\n",
              "      <td>...</td>\n",
              "      <td>...</td>\n",
              "      <td>...</td>\n",
              "      <td>...</td>\n",
              "      <td>...</td>\n",
              "      <td>...</td>\n",
              "      <td>...</td>\n",
              "      <td>...</td>\n",
              "      <td>...</td>\n",
              "      <td>...</td>\n",
              "      <td>...</td>\n",
              "      <td>...</td>\n",
              "      <td>...</td>\n",
              "    </tr>\n",
              "    <tr>\n",
              "      <th>2288083</th>\n",
              "      <td>1626</td>\n",
              "      <td>store_9</td>\n",
              "      <td>category_23</td>\n",
              "      <td>539.725</td>\n",
              "      <td>0</td>\n",
              "      <td>2141.0</td>\n",
              "      <td>1970-01-01 00:00:00.000001626</td>\n",
              "      <td>6</td>\n",
              "      <td>18</td>\n",
              "      <td>6</td>\n",
              "      <td>...</td>\n",
              "      <td>False</td>\n",
              "      <td>False</td>\n",
              "      <td>424</td>\n",
              "      <td>-0.602000</td>\n",
              "      <td>0.798496</td>\n",
              "      <td>New York</td>\n",
              "      <td>Hypermarket</td>\n",
              "      <td>Downtown</td>\n",
              "      <td>0</td>\n",
              "      <td>False</td>\n",
              "    </tr>\n",
              "    <tr>\n",
              "      <th>2288084</th>\n",
              "      <td>1626</td>\n",
              "      <td>store_9</td>\n",
              "      <td>category_20</td>\n",
              "      <td>84.177</td>\n",
              "      <td>0</td>\n",
              "      <td>2141.0</td>\n",
              "      <td>1970-01-01 00:00:00.000001626</td>\n",
              "      <td>6</td>\n",
              "      <td>18</td>\n",
              "      <td>6</td>\n",
              "      <td>...</td>\n",
              "      <td>False</td>\n",
              "      <td>False</td>\n",
              "      <td>424</td>\n",
              "      <td>-0.602000</td>\n",
              "      <td>0.798496</td>\n",
              "      <td>New York</td>\n",
              "      <td>Hypermarket</td>\n",
              "      <td>Downtown</td>\n",
              "      <td>0</td>\n",
              "      <td>False</td>\n",
              "    </tr>\n",
              "    <tr>\n",
              "      <th>2288085</th>\n",
              "      <td>1626</td>\n",
              "      <td>store_9</td>\n",
              "      <td>category_15</td>\n",
              "      <td>1973.760</td>\n",
              "      <td>3</td>\n",
              "      <td>2141.0</td>\n",
              "      <td>1970-01-01 00:00:00.000001626</td>\n",
              "      <td>6</td>\n",
              "      <td>18</td>\n",
              "      <td>6</td>\n",
              "      <td>...</td>\n",
              "      <td>False</td>\n",
              "      <td>False</td>\n",
              "      <td>424</td>\n",
              "      <td>-0.602000</td>\n",
              "      <td>0.798496</td>\n",
              "      <td>New York</td>\n",
              "      <td>Hypermarket</td>\n",
              "      <td>Downtown</td>\n",
              "      <td>0</td>\n",
              "      <td>False</td>\n",
              "    </tr>\n",
              "    <tr>\n",
              "      <th>2288086</th>\n",
              "      <td>1626</td>\n",
              "      <td>store_9</td>\n",
              "      <td>category_29</td>\n",
              "      <td>2.000</td>\n",
              "      <td>0</td>\n",
              "      <td>2141.0</td>\n",
              "      <td>1970-01-01 00:00:00.000001626</td>\n",
              "      <td>6</td>\n",
              "      <td>18</td>\n",
              "      <td>6</td>\n",
              "      <td>...</td>\n",
              "      <td>False</td>\n",
              "      <td>False</td>\n",
              "      <td>424</td>\n",
              "      <td>-0.602000</td>\n",
              "      <td>0.798496</td>\n",
              "      <td>New York</td>\n",
              "      <td>Hypermarket</td>\n",
              "      <td>Downtown</td>\n",
              "      <td>0</td>\n",
              "      <td>False</td>\n",
              "    </tr>\n",
              "    <tr>\n",
              "      <th>2288087</th>\n",
              "      <td>1626</td>\n",
              "      <td>store_9</td>\n",
              "      <td>category_10</td>\n",
              "      <td>27.076</td>\n",
              "      <td>0</td>\n",
              "      <td>2141.0</td>\n",
              "      <td>1970-01-01 00:00:00.000001626</td>\n",
              "      <td>6</td>\n",
              "      <td>18</td>\n",
              "      <td>6</td>\n",
              "      <td>...</td>\n",
              "      <td>False</td>\n",
              "      <td>False</td>\n",
              "      <td>424</td>\n",
              "      <td>-0.602000</td>\n",
              "      <td>0.798496</td>\n",
              "      <td>New York</td>\n",
              "      <td>Hypermarket</td>\n",
              "      <td>Downtown</td>\n",
              "      <td>0</td>\n",
              "      <td>False</td>\n",
              "    </tr>\n",
              "  </tbody>\n",
              "</table>\n",
              "<p>2248884 rows × 27 columns</p>\n",
              "</div>\n",
              "      <button class=\"colab-df-convert\" onclick=\"convertToInteractive('df-1da90f55-7b02-4824-875b-35170ac78d68')\"\n",
              "              title=\"Convert this dataframe to an interactive table.\"\n",
              "              style=\"display:none;\">\n",
              "        \n",
              "  <svg xmlns=\"http://www.w3.org/2000/svg\" height=\"24px\"viewBox=\"0 0 24 24\"\n",
              "       width=\"24px\">\n",
              "    <path d=\"M0 0h24v24H0V0z\" fill=\"none\"/>\n",
              "    <path d=\"M18.56 5.44l.94 2.06.94-2.06 2.06-.94-2.06-.94-.94-2.06-.94 2.06-2.06.94zm-11 1L8.5 8.5l.94-2.06 2.06-.94-2.06-.94L8.5 2.5l-.94 2.06-2.06.94zm10 10l.94 2.06.94-2.06 2.06-.94-2.06-.94-.94-2.06-.94 2.06-2.06.94z\"/><path d=\"M17.41 7.96l-1.37-1.37c-.4-.4-.92-.59-1.43-.59-.52 0-1.04.2-1.43.59L10.3 9.45l-7.72 7.72c-.78.78-.78 2.05 0 2.83L4 21.41c.39.39.9.59 1.41.59.51 0 1.02-.2 1.41-.59l7.78-7.78 2.81-2.81c.8-.78.8-2.07 0-2.86zM5.41 20L4 18.59l7.72-7.72 1.47 1.35L5.41 20z\"/>\n",
              "  </svg>\n",
              "      </button>\n",
              "      \n",
              "  <style>\n",
              "    .colab-df-container {\n",
              "      display:flex;\n",
              "      flex-wrap:wrap;\n",
              "      gap: 12px;\n",
              "    }\n",
              "\n",
              "    .colab-df-convert {\n",
              "      background-color: #E8F0FE;\n",
              "      border: none;\n",
              "      border-radius: 50%;\n",
              "      cursor: pointer;\n",
              "      display: none;\n",
              "      fill: #1967D2;\n",
              "      height: 32px;\n",
              "      padding: 0 0 0 0;\n",
              "      width: 32px;\n",
              "    }\n",
              "\n",
              "    .colab-df-convert:hover {\n",
              "      background-color: #E2EBFA;\n",
              "      box-shadow: 0px 1px 2px rgba(60, 64, 67, 0.3), 0px 1px 3px 1px rgba(60, 64, 67, 0.15);\n",
              "      fill: #174EA6;\n",
              "    }\n",
              "\n",
              "    [theme=dark] .colab-df-convert {\n",
              "      background-color: #3B4455;\n",
              "      fill: #D2E3FC;\n",
              "    }\n",
              "\n",
              "    [theme=dark] .colab-df-convert:hover {\n",
              "      background-color: #434B5C;\n",
              "      box-shadow: 0px 1px 3px 1px rgba(0, 0, 0, 0.15);\n",
              "      filter: drop-shadow(0px 1px 2px rgba(0, 0, 0, 0.3));\n",
              "      fill: #FFFFFF;\n",
              "    }\n",
              "  </style>\n",
              "\n",
              "      <script>\n",
              "        const buttonEl =\n",
              "          document.querySelector('#df-1da90f55-7b02-4824-875b-35170ac78d68 button.colab-df-convert');\n",
              "        buttonEl.style.display =\n",
              "          google.colab.kernel.accessAllowed ? 'block' : 'none';\n",
              "\n",
              "        async function convertToInteractive(key) {\n",
              "          const element = document.querySelector('#df-1da90f55-7b02-4824-875b-35170ac78d68');\n",
              "          const dataTable =\n",
              "            await google.colab.kernel.invokeFunction('convertToInteractive',\n",
              "                                                     [key], {});\n",
              "          if (!dataTable) return;\n",
              "\n",
              "          const docLinkHtml = 'Like what you see? Visit the ' +\n",
              "            '<a target=\"_blank\" href=https://colab.research.google.com/notebooks/data_table.ipynb>data table notebook</a>'\n",
              "            + ' to learn more about interactive tables.';\n",
              "          element.innerHTML = '';\n",
              "          dataTable['output_type'] = 'display_data';\n",
              "          await google.colab.output.renderOutput(dataTable, element);\n",
              "          const docLink = document.createElement('div');\n",
              "          docLink.innerHTML = docLinkHtml;\n",
              "          element.appendChild(docLink);\n",
              "        }\n",
              "      </script>\n",
              "    </div>\n",
              "  </div>\n",
              "  "
            ]
          },
          "metadata": {},
          "execution_count": 79
        }
      ]
    },
    {
      "cell_type": "code",
      "source": [
        "import matplotlib.pyplot as plt\n",
        "\n",
        "# Filter the data for rows where is_holiday is True\n",
        "holiday_data = df[df['is_holiday']]\n",
        "\n",
        "# Plot the sales vs date\n",
        "plt.plot(df['date'], df['sales'])\n",
        "\n",
        "# Plot red line for holiday dates\n",
        "plt.plot(holiday_data['date'], holiday_data['sales'], color='red')\n",
        "\n",
        "# Set plot labels and title\n",
        "plt.xlabel('Date')\n",
        "plt.ylabel('Sales')\n",
        "plt.title('Sales vs Date')\n",
        "\n",
        "# Display the plot\n",
        "plt.show()"
      ],
      "metadata": {
        "id": "0gyxnjzWtWvh",
        "outputId": "a4020d36-7f22-4950-8911-96b8553c4836",
        "colab": {
          "base_uri": "https://localhost:8080/",
          "height": 472
        }
      },
      "execution_count": 80,
      "outputs": [
        {
          "output_type": "display_data",
          "data": {
            "text/plain": [
              "<Figure size 640x480 with 1 Axes>"
            ],
            "image/png": "[encoded data removed]"
          },
          "metadata": {}
        }
      ]
    },
    {
      "cell_type": "code",
      "source": [
        "# Filter the data for holiday dates\n",
        "holiday_data = train_with_stores_holidays[train_with_stores_holidays['is_holiday']]\n",
        "\n",
        "# Plot the sales data\n",
        "ax = sns.lineplot(x='date', y='sales', data=train_with_stores_holidays, linewidth=2)\n",
        "\n",
        "# Plot lines for holiday dates\n",
        "sns.lineplot(x='date', y='sales', data=holiday_data, color='red', linewidth=2)\n",
        "\n",
        "plt.show()"
      ],
      "metadata": {
        "id": "pQaeqtMNrZK-",
        "outputId": "f2301ebd-8e59-4588-a485-f0a6126328b5",
        "colab": {
          "base_uri": "https://localhost:8080/",
          "height": 449
        }
      },
      "execution_count": 77,
      "outputs": [
        {
          "output_type": "display_data",
          "data": {
            "text/plain": [
              "<Figure size 640x480 with 1 Axes>"
            ],
            "image/png": "[encoded data removed]"
          },
          "metadata": {}
        }
      ]
    },
    {
      "cell_type": "code",
      "source": [
        "ax = train_with_stores_holidays.plot(x='date', y='sales', figsize=(12,6))"
      ],
      "metadata": {
        "id": "U58_D0H7qIya",
        "outputId": "bb00af06-2487-44a1-9b7a-133c1de0b7b7",
        "colab": {
          "base_uri": "https://localhost:8080/",
          "height": 542
        }
      },
      "execution_count": 76,
      "outputs": [
        {
          "output_type": "display_data",
          "data": {
            "text/plain": [
              "<Figure size 1200x600 with 1 Axes>"
            ],
            "image/png": "[encoded data removed]"
          },
          "metadata": {}
        }
      ]
    },
    {
      "cell_type": "code",
      "source": [
        "# .plot(x='date', y='transaction', figsize=(12,6))\n",
        "def plot_over_time(df, column):\n",
        "\n",
        "  ax = df.set_index('date').plot(x=df.index, y=column, figsize=(12,6))\n",
        "  ax.title = 'Sales over time'\n",
        "  return ax"
      ],
      "metadata": {
        "id": "b2vJd5vOSTcK"
      },
      "execution_count": 71,
      "outputs": []
    },
    {
      "cell_type": "code",
      "source": [
        "plot_over_time(train, 'sales')"
      ],
      "metadata": {
        "id": "uMr3xILzpocv",
        "outputId": "1591b930-aafa-4b9e-c1d4-3cc7894665a5",
        "colab": {
          "base_uri": "https://localhost:8080/",
          "height": 311
        }
      },
      "execution_count": 74,
      "outputs": [
        {
          "output_type": "error",
          "ename": "KeyError",
          "evalue": "ignored",
          "traceback": [
            "\u001b[0;31m---------------------------------------------------------------------------\u001b[0m",
            "\u001b[0;31mKeyError\u001b[0m                                  Traceback (most recent call last)",
            "\u001b[0;32m<ipython-input-74-edc2711782d6>\u001b[0m in \u001b[0;36m<cell line: 1>\u001b[0;34m()\u001b[0m\n\u001b[0;32m----> 1\u001b[0;31m \u001b[0mplot_over_time\u001b[0m\u001b[0;34m(\u001b[0m\u001b[0mtrain\u001b[0m\u001b[0;34m,\u001b[0m \u001b[0;34m'sales'\u001b[0m\u001b[0;34m)\u001b[0m\u001b[0;34m\u001b[0m\u001b[0;34m\u001b[0m\u001b[0m\n\u001b[0m",
            "\u001b[0;32m<ipython-input-71-912e8f195857>\u001b[0m in \u001b[0;36mplot_over_time\u001b[0;34m(df, column)\u001b[0m\n\u001b[1;32m      2\u001b[0m \u001b[0;32mdef\u001b[0m \u001b[0mplot_over_time\u001b[0m\u001b[0;34m(\u001b[0m\u001b[0mdf\u001b[0m\u001b[0;34m,\u001b[0m \u001b[0mcolumn\u001b[0m\u001b[0;34m)\u001b[0m\u001b[0;34m:\u001b[0m\u001b[0;34m\u001b[0m\u001b[0;34m\u001b[0m\u001b[0m\n\u001b[1;32m      3\u001b[0m \u001b[0;34m\u001b[0m\u001b[0m\n\u001b[0;32m----> 4\u001b[0;31m   \u001b[0max\u001b[0m \u001b[0;34m=\u001b[0m \u001b[0mdf\u001b[0m\u001b[0;34m.\u001b[0m\u001b[0mset_index\u001b[0m\u001b[0;34m(\u001b[0m\u001b[0;34m'date'\u001b[0m\u001b[0;34m)\u001b[0m\u001b[0;34m.\u001b[0m\u001b[0mplot\u001b[0m\u001b[0;34m(\u001b[0m\u001b[0mx\u001b[0m\u001b[0;34m=\u001b[0m\u001b[0mdf\u001b[0m\u001b[0;34m.\u001b[0m\u001b[0mindex\u001b[0m\u001b[0;34m,\u001b[0m \u001b[0my\u001b[0m\u001b[0;34m=\u001b[0m\u001b[0mcolumn\u001b[0m\u001b[0;34m,\u001b[0m \u001b[0mfigsize\u001b[0m\u001b[0;34m=\u001b[0m\u001b[0;34m(\u001b[0m\u001b[0;36m12\u001b[0m\u001b[0;34m,\u001b[0m\u001b[0;36m6\u001b[0m\u001b[0;34m)\u001b[0m\u001b[0;34m)\u001b[0m\u001b[0;34m\u001b[0m\u001b[0;34m\u001b[0m\u001b[0m\n\u001b[0m\u001b[1;32m      5\u001b[0m   \u001b[0max\u001b[0m\u001b[0;34m.\u001b[0m\u001b[0mtitle\u001b[0m \u001b[0;34m=\u001b[0m \u001b[0;34m'Sales over time'\u001b[0m\u001b[0;34m\u001b[0m\u001b[0;34m\u001b[0m\u001b[0m\n\u001b[1;32m      6\u001b[0m   \u001b[0;32mreturn\u001b[0m \u001b[0max\u001b[0m\u001b[0;34m\u001b[0m\u001b[0;34m\u001b[0m\u001b[0m\n",
            "\u001b[0;32m/usr/local/lib/python3.10/dist-packages/pandas/plotting/_core.py\u001b[0m in \u001b[0;36m__call__\u001b[0;34m(self, *args, **kwargs)\u001b[0m\n\u001b[1;32m    963\u001b[0m                 \u001b[0;32mif\u001b[0m \u001b[0mis_integer\u001b[0m\u001b[0;34m(\u001b[0m\u001b[0mx\u001b[0m\u001b[0;34m)\u001b[0m \u001b[0;32mand\u001b[0m \u001b[0;32mnot\u001b[0m \u001b[0mdata\u001b[0m\u001b[0;34m.\u001b[0m\u001b[0mcolumns\u001b[0m\u001b[0;34m.\u001b[0m\u001b[0mholds_integer\u001b[0m\u001b[0;34m(\u001b[0m\u001b[0;34m)\u001b[0m\u001b[0;34m:\u001b[0m\u001b[0;34m\u001b[0m\u001b[0;34m\u001b[0m\u001b[0m\n\u001b[1;32m    964\u001b[0m                     \u001b[0mx\u001b[0m \u001b[0;34m=\u001b[0m \u001b[0mdata_cols\u001b[0m\u001b[0;34m[\u001b[0m\u001b[0mx\u001b[0m\u001b[0;34m]\u001b[0m\u001b[0;34m\u001b[0m\u001b[0;34m\u001b[0m\u001b[0m\n\u001b[0;32m--> 965\u001b[0;31m                 \u001b[0;32melif\u001b[0m \u001b[0;32mnot\u001b[0m \u001b[0misinstance\u001b[0m\u001b[0;34m(\u001b[0m\u001b[0mdata\u001b[0m\u001b[0;34m[\u001b[0m\u001b[0mx\u001b[0m\u001b[0;34m]\u001b[0m\u001b[0;34m,\u001b[0m \u001b[0mABCSeries\u001b[0m\u001b[0;34m)\u001b[0m\u001b[0;34m:\u001b[0m\u001b[0;34m\u001b[0m\u001b[0;34m\u001b[0m\u001b[0m\n\u001b[0m\u001b[1;32m    966\u001b[0m                     \u001b[0;32mraise\u001b[0m \u001b[0mValueError\u001b[0m\u001b[0;34m(\u001b[0m\u001b[0;34m\"x must be a label or position\"\u001b[0m\u001b[0;34m)\u001b[0m\u001b[0;34m\u001b[0m\u001b[0;34m\u001b[0m\u001b[0m\n\u001b[1;32m    967\u001b[0m                 \u001b[0mdata\u001b[0m \u001b[0;34m=\u001b[0m \u001b[0mdata\u001b[0m\u001b[0;34m.\u001b[0m\u001b[0mset_index\u001b[0m\u001b[0;34m(\u001b[0m\u001b[0mx\u001b[0m\u001b[0;34m)\u001b[0m\u001b[0;34m\u001b[0m\u001b[0;34m\u001b[0m\u001b[0m\n",
            "\u001b[0;32m/usr/local/lib/python3.10/dist-packages/pandas/core/frame.py\u001b[0m in \u001b[0;36m__getitem__\u001b[0;34m(self, key)\u001b[0m\n\u001b[1;32m   3811\u001b[0m             \u001b[0;32mif\u001b[0m \u001b[0mis_iterator\u001b[0m\u001b[0;34m(\u001b[0m\u001b[0mkey\u001b[0m\u001b[0;34m)\u001b[0m\u001b[0;34m:\u001b[0m\u001b[0;34m\u001b[0m\u001b[0;34m\u001b[0m\u001b[0m\n\u001b[1;32m   3812\u001b[0m                 \u001b[0mkey\u001b[0m \u001b[0;34m=\u001b[0m \u001b[0mlist\u001b[0m\u001b[0;34m(\u001b[0m\u001b[0mkey\u001b[0m\u001b[0;34m)\u001b[0m\u001b[0;34m\u001b[0m\u001b[0;34m\u001b[0m\u001b[0m\n\u001b[0;32m-> 3813\u001b[0;31m             \u001b[0mindexer\u001b[0m \u001b[0;34m=\u001b[0m \u001b[0mself\u001b[0m\u001b[0;34m.\u001b[0m\u001b[0mcolumns\u001b[0m\u001b[0;34m.\u001b[0m\u001b[0m_get_indexer_strict\u001b[0m\u001b[0;34m(\u001b[0m\u001b[0mkey\u001b[0m\u001b[0;34m,\u001b[0m \u001b[0;34m\"columns\"\u001b[0m\u001b[0;34m)\u001b[0m\u001b[0;34m[\u001b[0m\u001b[0;36m1\u001b[0m\u001b[0;34m]\u001b[0m\u001b[0;34m\u001b[0m\u001b[0;34m\u001b[0m\u001b[0m\n\u001b[0m\u001b[1;32m   3814\u001b[0m \u001b[0;34m\u001b[0m\u001b[0m\n\u001b[1;32m   3815\u001b[0m         \u001b[0;31m# take() does not accept boolean indexers\u001b[0m\u001b[0;34m\u001b[0m\u001b[0;34m\u001b[0m\u001b[0m\n",
            "\u001b[0;32m/usr/local/lib/python3.10/dist-packages/pandas/core/indexes/base.py\u001b[0m in \u001b[0;36m_get_indexer_strict\u001b[0;34m(self, key, axis_name)\u001b[0m\n\u001b[1;32m   6068\u001b[0m             \u001b[0mkeyarr\u001b[0m\u001b[0;34m,\u001b[0m \u001b[0mindexer\u001b[0m\u001b[0;34m,\u001b[0m \u001b[0mnew_indexer\u001b[0m \u001b[0;34m=\u001b[0m \u001b[0mself\u001b[0m\u001b[0;34m.\u001b[0m\u001b[0m_reindex_non_unique\u001b[0m\u001b[0;34m(\u001b[0m\u001b[0mkeyarr\u001b[0m\u001b[0;34m)\u001b[0m\u001b[0;34m\u001b[0m\u001b[0;34m\u001b[0m\u001b[0m\n\u001b[1;32m   6069\u001b[0m \u001b[0;34m\u001b[0m\u001b[0m\n\u001b[0;32m-> 6070\u001b[0;31m         \u001b[0mself\u001b[0m\u001b[0;34m.\u001b[0m\u001b[0m_raise_if_missing\u001b[0m\u001b[0;34m(\u001b[0m\u001b[0mkeyarr\u001b[0m\u001b[0;34m,\u001b[0m \u001b[0mindexer\u001b[0m\u001b[0;34m,\u001b[0m \u001b[0maxis_name\u001b[0m\u001b[0;34m)\u001b[0m\u001b[0;34m\u001b[0m\u001b[0;34m\u001b[0m\u001b[0m\n\u001b[0m\u001b[1;32m   6071\u001b[0m \u001b[0;34m\u001b[0m\u001b[0m\n\u001b[1;32m   6072\u001b[0m         \u001b[0mkeyarr\u001b[0m \u001b[0;34m=\u001b[0m \u001b[0mself\u001b[0m\u001b[0;34m.\u001b[0m\u001b[0mtake\u001b[0m\u001b[0;34m(\u001b[0m\u001b[0mindexer\u001b[0m\u001b[0;34m)\u001b[0m\u001b[0;34m\u001b[0m\u001b[0;34m\u001b[0m\u001b[0m\n",
            "\u001b[0;32m/usr/local/lib/python3.10/dist-packages/pandas/core/indexes/base.py\u001b[0m in \u001b[0;36m_raise_if_missing\u001b[0;34m(self, key, indexer, axis_name)\u001b[0m\n\u001b[1;32m   6128\u001b[0m                 \u001b[0;32mif\u001b[0m \u001b[0muse_interval_msg\u001b[0m\u001b[0;34m:\u001b[0m\u001b[0;34m\u001b[0m\u001b[0;34m\u001b[0m\u001b[0m\n\u001b[1;32m   6129\u001b[0m                     \u001b[0mkey\u001b[0m \u001b[0;34m=\u001b[0m \u001b[0mlist\u001b[0m\u001b[0;34m(\u001b[0m\u001b[0mkey\u001b[0m\u001b[0;34m)\u001b[0m\u001b[0;34m\u001b[0m\u001b[0;34m\u001b[0m\u001b[0m\n\u001b[0;32m-> 6130\u001b[0;31m                 \u001b[0;32mraise\u001b[0m \u001b[0mKeyError\u001b[0m\u001b[0;34m(\u001b[0m\u001b[0;34mf\"None of [{key}] are in the [{axis_name}]\"\u001b[0m\u001b[0;34m)\u001b[0m\u001b[0;34m\u001b[0m\u001b[0;34m\u001b[0m\u001b[0m\n\u001b[0m\u001b[1;32m   6131\u001b[0m \u001b[0;34m\u001b[0m\u001b[0m\n\u001b[1;32m   6132\u001b[0m             \u001b[0mnot_found\u001b[0m \u001b[0;34m=\u001b[0m \u001b[0mlist\u001b[0m\u001b[0;34m(\u001b[0m\u001b[0mensure_index\u001b[0m\u001b[0;34m(\u001b[0m\u001b[0mkey\u001b[0m\u001b[0;34m)\u001b[0m\u001b[0;34m[\u001b[0m\u001b[0mmissing_mask\u001b[0m\u001b[0;34m.\u001b[0m\u001b[0mnonzero\u001b[0m\u001b[0;34m(\u001b[0m\u001b[0;34m)\u001b[0m\u001b[0;34m[\u001b[0m\u001b[0;36m0\u001b[0m\u001b[0;34m]\u001b[0m\u001b[0;34m]\u001b[0m\u001b[0;34m.\u001b[0m\u001b[0munique\u001b[0m\u001b[0;34m(\u001b[0m\u001b[0;34m)\u001b[0m\u001b[0;34m)\u001b[0m\u001b[0;34m\u001b[0m\u001b[0;34m\u001b[0m\u001b[0m\n",
            "\u001b[0;31mKeyError\u001b[0m: 'None of [RangeIndex(start=0, stop=2248884, step=1)] are in the [columns]'"
          ]
        }
      ]
    },
    {
      "cell_type": "code",
      "source": [
        "df = train_with_stores_holidays\n",
        "df['dayofyear'] = df['date'].dt.dayofyear\n",
        "df[\"sin(dayofyear)\"] = np.sin(df[\"dayofyear\"])\n",
        "df[\"cos(dayofyear)\"] = np.cos(df[\"dayofyear\"])"
      ],
      "metadata": {
        "id": "sxJxqIb5ThUB",
        "outputId": "b1056cfe-1485-4e7c-85e3-fdf3293f22d8",
        "colab": {
          "base_uri": "https://localhost:8080/",
          "height": 328
        }
      },
      "execution_count": 67,
      "outputs": [
        {
          "output_type": "error",
          "ename": "AttributeError",
          "evalue": "ignored",
          "traceback": [
            "\u001b[0;31m---------------------------------------------------------------------------\u001b[0m",
            "\u001b[0;31mAttributeError\u001b[0m                            Traceback (most recent call last)",
            "\u001b[0;32m<ipython-input-67-f4818088703f>\u001b[0m in \u001b[0;36m<cell line: 2>\u001b[0;34m()\u001b[0m\n\u001b[1;32m      1\u001b[0m \u001b[0mdf\u001b[0m \u001b[0;34m=\u001b[0m \u001b[0mtrain_with_stores_holidays\u001b[0m\u001b[0;34m\u001b[0m\u001b[0;34m\u001b[0m\u001b[0m\n\u001b[0;32m----> 2\u001b[0;31m \u001b[0mdf\u001b[0m\u001b[0;34m[\u001b[0m\u001b[0;34m'dayofyear'\u001b[0m\u001b[0;34m]\u001b[0m \u001b[0;34m=\u001b[0m \u001b[0mdf\u001b[0m\u001b[0;34m[\u001b[0m\u001b[0;34m'date'\u001b[0m\u001b[0;34m]\u001b[0m\u001b[0;34m.\u001b[0m\u001b[0mdt\u001b[0m\u001b[0;34m.\u001b[0m\u001b[0mdayofyear\u001b[0m\u001b[0;34m\u001b[0m\u001b[0;34m\u001b[0m\u001b[0m\n\u001b[0m\u001b[1;32m      3\u001b[0m \u001b[0mdf\u001b[0m\u001b[0;34m[\u001b[0m\u001b[0;34m\"sin(dayofyear)\"\u001b[0m\u001b[0;34m]\u001b[0m \u001b[0;34m=\u001b[0m \u001b[0mnp\u001b[0m\u001b[0;34m.\u001b[0m\u001b[0msin\u001b[0m\u001b[0;34m(\u001b[0m\u001b[0mdf\u001b[0m\u001b[0;34m[\u001b[0m\u001b[0;34m\"dayofyear\"\u001b[0m\u001b[0;34m]\u001b[0m\u001b[0;34m)\u001b[0m\u001b[0;34m\u001b[0m\u001b[0;34m\u001b[0m\u001b[0m\n\u001b[1;32m      4\u001b[0m \u001b[0mdf\u001b[0m\u001b[0;34m[\u001b[0m\u001b[0;34m\"cos(dayofyear)\"\u001b[0m\u001b[0;34m]\u001b[0m \u001b[0;34m=\u001b[0m \u001b[0mnp\u001b[0m\u001b[0;34m.\u001b[0m\u001b[0mcos\u001b[0m\u001b[0;34m(\u001b[0m\u001b[0mdf\u001b[0m\u001b[0;34m[\u001b[0m\u001b[0;34m\"dayofyear\"\u001b[0m\u001b[0;34m]\u001b[0m\u001b[0;34m)\u001b[0m\u001b[0;34m\u001b[0m\u001b[0;34m\u001b[0m\u001b[0m\n",
            "\u001b[0;32m/usr/local/lib/python3.10/dist-packages/pandas/core/generic.py\u001b[0m in \u001b[0;36m__getattr__\u001b[0;34m(self, name)\u001b[0m\n\u001b[1;32m   5900\u001b[0m         ):\n\u001b[1;32m   5901\u001b[0m             \u001b[0;32mreturn\u001b[0m \u001b[0mself\u001b[0m\u001b[0;34m[\u001b[0m\u001b[0mname\u001b[0m\u001b[0;34m]\u001b[0m\u001b[0;34m\u001b[0m\u001b[0;34m\u001b[0m\u001b[0m\n\u001b[0;32m-> 5902\u001b[0;31m         \u001b[0;32mreturn\u001b[0m \u001b[0mobject\u001b[0m\u001b[0;34m.\u001b[0m\u001b[0m__getattribute__\u001b[0m\u001b[0;34m(\u001b[0m\u001b[0mself\u001b[0m\u001b[0;34m,\u001b[0m \u001b[0mname\u001b[0m\u001b[0;34m)\u001b[0m\u001b[0;34m\u001b[0m\u001b[0;34m\u001b[0m\u001b[0m\n\u001b[0m\u001b[1;32m   5903\u001b[0m \u001b[0;34m\u001b[0m\u001b[0m\n\u001b[1;32m   5904\u001b[0m     \u001b[0;32mdef\u001b[0m \u001b[0m__setattr__\u001b[0m\u001b[0;34m(\u001b[0m\u001b[0mself\u001b[0m\u001b[0;34m,\u001b[0m \u001b[0mname\u001b[0m\u001b[0;34m:\u001b[0m \u001b[0mstr\u001b[0m\u001b[0;34m,\u001b[0m \u001b[0mvalue\u001b[0m\u001b[0;34m)\u001b[0m \u001b[0;34m->\u001b[0m \u001b[0;32mNone\u001b[0m\u001b[0;34m:\u001b[0m\u001b[0;34m\u001b[0m\u001b[0;34m\u001b[0m\u001b[0m\n",
            "\u001b[0;32m/usr/local/lib/python3.10/dist-packages/pandas/core/accessor.py\u001b[0m in \u001b[0;36m__get__\u001b[0;34m(self, obj, cls)\u001b[0m\n\u001b[1;32m    180\u001b[0m             \u001b[0;31m# we're accessing the attribute of the class, i.e., Dataset.geo\u001b[0m\u001b[0;34m\u001b[0m\u001b[0;34m\u001b[0m\u001b[0m\n\u001b[1;32m    181\u001b[0m             \u001b[0;32mreturn\u001b[0m \u001b[0mself\u001b[0m\u001b[0;34m.\u001b[0m\u001b[0m_accessor\u001b[0m\u001b[0;34m\u001b[0m\u001b[0;34m\u001b[0m\u001b[0m\n\u001b[0;32m--> 182\u001b[0;31m         \u001b[0maccessor_obj\u001b[0m \u001b[0;34m=\u001b[0m \u001b[0mself\u001b[0m\u001b[0;34m.\u001b[0m\u001b[0m_accessor\u001b[0m\u001b[0;34m(\u001b[0m\u001b[0mobj\u001b[0m\u001b[0;34m)\u001b[0m\u001b[0;34m\u001b[0m\u001b[0;34m\u001b[0m\u001b[0m\n\u001b[0m\u001b[1;32m    183\u001b[0m         \u001b[0;31m# Replace the property with the accessor object. Inspired by:\u001b[0m\u001b[0;34m\u001b[0m\u001b[0;34m\u001b[0m\u001b[0m\n\u001b[1;32m    184\u001b[0m         \u001b[0;31m# https://www.pydanny.com/cached-property.html\u001b[0m\u001b[0;34m\u001b[0m\u001b[0;34m\u001b[0m\u001b[0m\n",
            "\u001b[0;32m/usr/local/lib/python3.10/dist-packages/pandas/core/indexes/accessors.py\u001b[0m in \u001b[0;36m__new__\u001b[0;34m(cls, data)\u001b[0m\n\u001b[1;32m    510\u001b[0m             \u001b[0;32mreturn\u001b[0m \u001b[0mPeriodProperties\u001b[0m\u001b[0;34m(\u001b[0m\u001b[0mdata\u001b[0m\u001b[0;34m,\u001b[0m \u001b[0morig\u001b[0m\u001b[0;34m)\u001b[0m\u001b[0;34m\u001b[0m\u001b[0;34m\u001b[0m\u001b[0m\n\u001b[1;32m    511\u001b[0m \u001b[0;34m\u001b[0m\u001b[0m\n\u001b[0;32m--> 512\u001b[0;31m         \u001b[0;32mraise\u001b[0m \u001b[0mAttributeError\u001b[0m\u001b[0;34m(\u001b[0m\u001b[0;34m\"Can only use .dt accessor with datetimelike values\"\u001b[0m\u001b[0;34m)\u001b[0m\u001b[0;34m\u001b[0m\u001b[0;34m\u001b[0m\u001b[0m\n\u001b[0m",
            "\u001b[0;31mAttributeError\u001b[0m: Can only use .dt accessor with datetimelike values"
          ]
        }
      ]
    },
    {
      "cell_type": "code",
      "source": [
        "xcoords = ['1970-01-01', '2016-01-01','2017-01-01', '2018-01-01', '2019-01-01', '2020-01-01',\n",
        "          '2021-01-01']\n",
        "for xc in xcoords:\n",
        "    plt.axvline(x=xc, color='black', linestyle='--')"
      ],
      "metadata": {
        "id": "avMtXM7fS9Pt"
      },
      "execution_count": null,
      "outputs": []
    },
    {
      "cell_type": "markdown",
      "metadata": {
        "id": "z6nLfhO94N0Q"
      },
      "source": [
        "## Answering Questions"
      ]
    },
    {
      "cell_type": "markdown",
      "source": [
        "1. Is the train data complete?"
      ],
      "metadata": {
        "id": "_6tpLgwhK20R"
      }
    },
    {
      "cell_type": "markdown",
      "source": [
        "Yes. The output below shows that our train data is complete."
      ],
      "metadata": {
        "id": "7Kf4QrNjLFSj"
      }
    },
    {
      "cell_type": "code",
      "source": [
        "get_missing_dates(train)"
      ],
      "metadata": {
        "id": "JTdaJT8wK4gb"
      },
      "execution_count": null,
      "outputs": []
    },
    {
      "cell_type": "markdown",
      "source": [
        "2. Do we have seasonality in our transactions?"
      ],
      "metadata": {
        "id": "ua7G3f6VK1hu"
      }
    },
    {
      "cell_type": "markdown",
      "source": [],
      "metadata": {
        "id": "_AeqZEIrLW65"
      }
    },
    {
      "cell_type": "markdown",
      "source": [
        "3. Are there outliers in our dataset?"
      ],
      "metadata": {
        "id": "BRYQFGKGK0Ny"
      }
    },
    {
      "cell_type": "markdown",
      "source": [
        "4. What is the difference between RMSLE, RMSE and MSE?"
      ],
      "metadata": {
        "id": "DO8E9bunKxvg"
      }
    },
    {
      "cell_type": "markdown",
      "metadata": {
        "id": "S0ASY2Id4N0T"
      },
      "source": [
        "## Univariate Analysis"
      ]
    },
    {
      "cell_type": "markdown",
      "metadata": {
        "id": "lycj1Mjo4N0U"
      },
      "source": [
        "## Bivariate Analysis"
      ]
    },
    {
      "cell_type": "markdown",
      "source": [
        "## Multivariate Analysis"
      ],
      "metadata": {
        "id": "lQyOpX6dM6Ig"
      }
    },
    {
      "cell_type": "markdown",
      "metadata": {
        "id": "6GmpRhjT4N0V"
      },
      "source": [
        "# Feature Engineering"
      ]
    },
    {
      "cell_type": "markdown",
      "metadata": {
        "id": "nDXigCJl4N0V"
      },
      "source": [
        "## Creating New Features"
      ]
    },
    {
      "cell_type": "code",
      "source": [
        "dates.columns"
      ],
      "metadata": {
        "id": "ZaEFOTi4JPev"
      },
      "execution_count": null,
      "outputs": []
    },
    {
      "cell_type": "code",
      "source": [
        "def getDateFeatures(df):\n",
        "    \n",
        "    df['year'] = df['date'].dt.year\n",
        "    df['month'] = df['date'].dt.month\n",
        "    df['dayofmonth'] = df['date'].dt.day\n",
        "    df['dayofweek'] = df['date'].dt.dayofweek\n",
        "    df['weekofyear'] = df['date'].dt.isocalendar().week\n",
        "\n",
        "    df['quarter'] = df['date'].dt.quarter\n",
        "    df['is_month_start'] = df['date'].dt.is_month_start.astype(int)\n",
        "    df['is_month_end'] = df['date'].dt.is_month_end.astype(int)\n",
        "    df['is_quarter_start'] = df['date'].dt.is_quarter_start.astype(int)\n",
        "    \n",
        "    df['is_quarter_end'] = df['date'].dt.is_quarter_end.astype(int)\n",
        "    df['is_year_start'] = df['date'].dt.is_year_start.astype(int)\n",
        "    df['is_year_end'] = df['date'].dt.is_year_end.astype(int)\n",
        "\n",
        "    # Extract the 'year' and 'weekofyear' components from the 'date' column\n",
        "    df['year_weekofyear'] = df['date'].dt.year * 100 + df['date'].dt.weekofyear\n",
        "    # create new coolumns to represent the cyclic nature of a year\n",
        "    df['dayofyear'] = df['date'].dt.dayofyear\n",
        "    df[\"sin(dayofyear)\"] = np.sin(df[\"dayofyear\"])\n",
        "    df[\"cos(dayofyear)\"] = np.cos(df[\"dayofyear\"])\n",
        "\n",
        "    df['week_of_year'] = df['week_of_year'].astype(float)\n",
        "    df[\"is_weekend\"] = np.where(df['day_of_week'] > 4, 1, 0)\n",
        "\n",
        "    # Define the criteria for each season\n",
        "    seasons = {'Winter': [12, 1, 2], 'Spring': [3, 4, 5], 'Summer': [6, 7, 8], 'Autumn': [9, 10, 11]}\n",
        "\n",
        "    # Create the 'season' column based on the 'date' column\n",
        "    df['season'] = df['date'].dt.month.map({month: season for season, months in seasons.items() for month in months})\n",
        "\n",
        "    return df"
      ],
      "metadata": {
        "id": "ZnnEQBN9HfL3"
      },
      "execution_count": null,
      "outputs": []
    },
    {
      "cell_type": "code",
      "source": [
        "getDateFeatures(train)"
      ],
      "metadata": {
        "id": "qBC3kYEiHkEA"
      },
      "execution_count": null,
      "outputs": []
    },
    {
      "cell_type": "code",
      "source": [
        "getDateFeatures(test)"
      ],
      "metadata": {
        "id": "XcEXT8PMQFaS"
      },
      "execution_count": null,
      "outputs": []
    },
    {
      "cell_type": "code",
      "source": [
        "train.columns"
      ],
      "metadata": {
        "id": "3Nkkx0D4JE21"
      },
      "execution_count": null,
      "outputs": []
    },
    {
      "cell_type": "markdown",
      "metadata": {
        "id": "6-WAYo9N4N0V"
      },
      "source": [
        "first, lets have a quick overview before deciding how to handle missing values"
      ]
    },
    {
      "cell_type": "code",
      "execution_count": null,
      "metadata": {
        "id": "MBJb8ugd4N0V"
      },
      "outputs": [],
      "source": [
        "merged3.isnull().sum()"
      ]
    },
    {
      "cell_type": "markdown",
      "metadata": {
        "id": "Mg8SQunF4N0W"
      },
      "source": [
        "since non-holidays are work days, let's impute the last column"
      ]
    },
    {
      "cell_type": "code",
      "execution_count": null,
      "metadata": {
        "id": "0d5pYi3v4N0W"
      },
      "outputs": [],
      "source": [
        "merged3['type_y'].unique()"
      ]
    },
    {
      "cell_type": "code",
      "execution_count": null,
      "metadata": {
        "id": "l-crgy_C4N0W"
      },
      "outputs": [],
      "source": [
        "work_days = merged3[merged3['type_y'] == 'Work Day']\n",
        "print(work_days.nunique())\n",
        "work_days"
      ]
    },
    {
      "cell_type": "code",
      "execution_count": null,
      "metadata": {
        "id": "DlNaKcRQ4N0Z"
      },
      "outputs": [],
      "source": [
        "# Fill missing holiday rows with work days\n",
        "imputer = SimpleImputer(missing_values=np.NaN, strategy='constant', fill_value='Work Day')\n",
        "merged3['type_y'] = imputer.fit_transform(merged3[['type_y']])"
      ]
    },
    {
      "cell_type": "code",
      "execution_count": null,
      "metadata": {
        "id": "et8E0GDI4N0Z"
      },
      "outputs": [],
      "source": [
        "merged3.isna().sum()"
      ]
    },
    {
      "cell_type": "code",
      "execution_count": null,
      "metadata": {
        "id": "oSzFHBXp4N0a"
      },
      "outputs": [],
      "source": [
        "merged3.to_csv('merged_train_data.csv', index=False)"
      ]
    },
    {
      "cell_type": "code",
      "execution_count": null,
      "metadata": {
        "id": "0DxpQyzp4N0b"
      },
      "outputs": [],
      "source": [
        "merged3 = getDateFeatures(merged3)"
      ]
    },
    {
      "cell_type": "markdown",
      "metadata": {
        "id": "6yAl29rO4N0b"
      },
      "source": [
        "let's make the date column the index"
      ]
    },
    {
      "cell_type": "code",
      "execution_count": null,
      "metadata": {
        "id": "gt9GgyhZ4N0b"
      },
      "outputs": [],
      "source": [
        "merged3=merged3.set_index(['date'])"
      ]
    },
    {
      "cell_type": "markdown",
      "metadata": {
        "id": "3FVGY23N4N0c"
      },
      "source": [
        "## Features Encoding & scaling"
      ]
    },
    {
      "cell_type": "code",
      "execution_count": null,
      "metadata": {
        "id": "g95HLWUI4N0c"
      },
      "outputs": [],
      "source": [
        "merged3.head(2)"
      ]
    },
    {
      "cell_type": "code",
      "execution_count": null,
      "metadata": {
        "id": "OgFyyY0p4N0c"
      },
      "outputs": [],
      "source": [
        "merged3.oil_price.unique()"
      ]
    },
    {
      "cell_type": "code",
      "execution_count": null,
      "metadata": {
        "id": "Ub1-OAYM4N0d"
      },
      "outputs": [],
      "source": [
        "categoric_columns = ['family', 'city', 'state', 'type_y', 'type_x']\n",
        "columns = list(merged3.columns) \n",
        "numeric_columns = [i for i in columns if i not in categoric_columns]"
      ]
    },
    {
      "cell_type": "code",
      "execution_count": null,
      "metadata": {
        "id": "_Tv6yroc4N0d"
      },
      "outputs": [],
      "source": [
        "numeric_columns.remove('sales')\n",
        "print(numeric_columns)"
      ]
    },
    {
      "cell_type": "code",
      "execution_count": null,
      "metadata": {
        "id": "VYA-XIKY4N0d"
      },
      "outputs": [],
      "source": [
        "encoder = BinaryEncoder(drop_invariant=False, return_df=True,)\n",
        "encoder.fit(merged3[categoric_columns])"
      ]
    },
    {
      "cell_type": "code",
      "execution_count": null,
      "metadata": {
        "id": "SisH2rrw4N0e"
      },
      "outputs": [],
      "source": [
        "scaler = StandardScaler()\n",
        "scaler.set_output(transform=\"pandas\")\n",
        "scaler.fit(merged3[numeric_columns])"
      ]
    },
    {
      "cell_type": "code",
      "execution_count": null,
      "metadata": {
        "id": "kM4aITtn4N0e"
      },
      "outputs": [],
      "source": [
        "import pickle\n",
        "\n",
        "with open('encoder.pkl', 'wb') as f:\n",
        "    pickle.dump(encoder, f)\n",
        "\n",
        "with open('scaler.pkl', 'wb') as f:\n",
        "    pickle.dump(scaler, f)"
      ]
    },
    {
      "cell_type": "code",
      "execution_count": null,
      "metadata": {
        "id": "6C2kf5Zs4N0f"
      },
      "outputs": [],
      "source": [
        "scaled_num = scaler.transform(merged3[numeric_columns])\n",
        "encoded_cat = encoder.transform(merged3[categoric_columns])\n",
        "merged3 = pd.concat([scaled_num, encoded_cat, merged3.sales], axis=1)"
      ]
    },
    {
      "cell_type": "markdown",
      "metadata": {
        "id": "zaBT4ZJG4N0f"
      },
      "source": [
        "## Resampling"
      ]
    },
    {
      "cell_type": "code",
      "execution_count": null,
      "metadata": {
        "id": "yK68t9r94N0f"
      },
      "outputs": [],
      "source": [
        "train_daily_mean = (\n",
        "    train__with_all_dates\n",
        "    .set_index('date')\n",
        "    .resample('D').mean()\n",
        ")\n",
        "print(train_daily_mean.shape)\n",
        "train_daily_mean.head(3)"
      ]
    },
    {
      "cell_type": "code",
      "execution_count": null,
      "metadata": {
        "id": "iOGLpEva4N0f"
      },
      "outputs": [],
      "source": [
        "# sales_data = train_daily_mean.drop(columns=['store_nbr', 'onpromotion'])\n",
        "sales_data = train_daily_mean['sales']\n",
        "sales_data = sales_data.fillna(0)"
      ]
    },
    {
      "cell_type": "code",
      "execution_count": null,
      "metadata": {
        "id": "EjOd2BF24N0g"
      },
      "outputs": [],
      "source": [
        "train1=train_daily_mean"
      ]
    },
    {
      "cell_type": "code",
      "execution_count": null,
      "metadata": {
        "id": "VbKNe5Cg4N0g"
      },
      "outputs": [],
      "source": [
        "trainn, evall = merged3[30000:], merged3[:30000]"
      ]
    },
    {
      "cell_type": "code",
      "execution_count": null,
      "metadata": {
        "id": "7fMYBWHB4N0g"
      },
      "outputs": [],
      "source": [
        "# Split data into parts\n",
        "x = trainn.drop(['sales'], axis = 1)\n",
        "y = trainn['sales']"
      ]
    },
    {
      "cell_type": "code",
      "execution_count": null,
      "metadata": {
        "id": "oeHRmt8n4N0h"
      },
      "outputs": [],
      "source": [
        "# Split data into Train Test\n",
        "X_train, X_test, y_train, y_test = x[200:], x[:200], y[200:], y[:200]"
      ]
    },
    {
      "cell_type": "markdown",
      "metadata": {
        "id": "kpll6xDz4N0h"
      },
      "source": [
        "# Machine Learning Modeling "
      ]
    },
    {
      "cell_type": "markdown",
      "metadata": {
        "id": "--b5dI1L4N0h"
      },
      "source": [
        "# Traditional Machine Learning Models"
      ]
    },
    {
      "cell_type": "markdown",
      "metadata": {
        "id": "p-MG5g2V4N0h"
      },
      "source": [
        "### DecisionTreeRegressor"
      ]
    },
    {
      "cell_type": "code",
      "execution_count": null,
      "metadata": {
        "id": "7jV3ZqL64N0i"
      },
      "outputs": [],
      "source": [
        "from sklearn.tree import DecisionTreeRegressor\n",
        "tree = DecisionTreeRegressor()\n",
        "model_tree = tree.fit(X_train, y_train)\n",
        "\n",
        "# Make prediction on X_test\n",
        "tree_pred = model_tree.predict(X_test)"
      ]
    },
    {
      "cell_type": "code",
      "execution_count": null,
      "metadata": {
        "id": "bLY7MAnI4N0i"
      },
      "outputs": [],
      "source": [
        "with open(\"model.pkl\", \"wb\") as f:\n",
        "    pickle.dump(model_tree, f)"
      ]
    },
    {
      "cell_type": "code",
      "execution_count": null,
      "metadata": {
        "id": "Hk1yTop04N0i"
      },
      "outputs": [],
      "source": [
        "# feature importance for decision tree\n",
        "plt.figure(figsize=(12,7))\n",
        "plt.barh(x.columns, model_tree.feature_importances_)"
      ]
    },
    {
      "cell_type": "code",
      "execution_count": null,
      "metadata": {
        "id": "FGVD4sAy4N0i"
      },
      "outputs": [],
      "source": [
        "plt.figure(figsize=(8,4))\n",
        "plt.plot(y_test, label ='Actual Sales')\n",
        "plt.plot(tree_pred, label='DecisionTreeRegressor')\n",
        "plt.legend(loc='best')\n",
        "plt.title('DecisionTreeRegressor Prediction')\n",
        "plt.show()"
      ]
    },
    {
      "cell_type": "code",
      "execution_count": null,
      "metadata": {
        "id": "yRIq48Od4N0j"
      },
      "outputs": [],
      "source": [
        "mse = mean_squared_error(y_test, tree_pred )\n",
        "rmse = np.sqrt(mean_squared_error(y_test, tree_pred )).round(2)\n",
        "rmsle = np.sqrt(mean_squared_log_error(y_test, tree_pred)).round(2)\n",
        "msle = mean_squared_log_error(y_test, tree_pred).round(2)\n",
        "\n",
        "\n",
        "results = pd.DataFrame([['DecisionTree', mse, msle, rmse, rmsle]], columns = ['Model', 'MSE', 'MSLE', 'RMSE', 'RMSLE'])\n",
        "# results = results.append(model_results, ignore_index = True)\n",
        "results"
      ]
    },
    {
      "cell_type": "markdown",
      "metadata": {
        "id": "M_f0-Hnr4N0j"
      },
      "source": [
        "### KNN"
      ]
    },
    {
      "cell_type": "code",
      "execution_count": null,
      "metadata": {
        "id": "03R8eIEg4N0k"
      },
      "outputs": [],
      "source": [
        "from sklearn.neighbors import KNeighborsRegressor\n",
        "neigh = KNeighborsRegressor(n_neighbors=1)\n",
        "# fit model no training data\n",
        "neigh.fit(X_train, y_train)\n",
        "\n",
        "# make predictions for test data\n",
        "neigh_pred = neigh.predict(X_test)"
      ]
    },
    {
      "cell_type": "code",
      "execution_count": null,
      "metadata": {
        "id": "ORSI8VNk4N0k"
      },
      "outputs": [],
      "source": [
        "mse = mean_squared_error(y_test, neigh_pred )\n",
        "msle = mean_squared_log_error(y_test, neigh_pred)\n",
        "rmse = np.sqrt(mean_squared_error(y_test, neigh_pred )).round(2)\n",
        "rmsle = np.sqrt(mean_squared_log_error(y_test, neigh_pred)).round(5)\n",
        "\n",
        "# model_results = pd.DataFrame([['lightGBM', mse, rmse]], columns = ['Model', 'MSE', 'RMSE'])\n",
        "model_results = pd.DataFrame([['KNN', mse, msle, rmse, rmsle]], columns = ['Model', 'MSE', 'MSLE', 'RMSE', 'RMSLE'])\n",
        "results = results.append(model_results, ignore_index = True)\n",
        "results"
      ]
    },
    {
      "cell_type": "markdown",
      "metadata": {
        "id": "px5fQiLs4N0k"
      },
      "source": [
        "# Models Comparison"
      ]
    },
    {
      "cell_type": "markdown",
      "metadata": {
        "id": "pqIJI8kx4N0l"
      },
      "source": [
        "# Model Evaluation (Backtests)"
      ]
    },
    {
      "cell_type": "code",
      "execution_count": null,
      "metadata": {
        "id": "llWmEqcz4N0l"
      },
      "outputs": [],
      "source": [
        "backtests = {\n",
        "    1: ('2017-07-01', '2017-07-15'),\n",
        "    2: ('2017-07-15', '2017-07-30'),\n",
        "    3: ('2017-08-01', '2017-08-15')\n",
        "}"
      ]
    },
    {
      "cell_type": "code",
      "execution_count": null,
      "metadata": {
        "id": "bJzyU-dP4N0l"
      },
      "outputs": [],
      "source": [
        "# Backtests with Decision Tree\n",
        "scores = {}\n",
        "\n",
        "for idx, period in enumerate(backtests):\n",
        "    \n",
        "    _train = trainn.reset_index()[trainn.reset_index()['date'] < backtests[period][0]]\n",
        "    _test = trainn.reset_index()[(trainn.reset_index()['date'] >= backtests[period][0]) & (trainn.reset_index()['date'] <= backtests[period][1])]\n",
        "    \n",
        "    Xtrain, ytrain = _train.set_index(['date']).drop(columns=['sales']).values, _train.sales.values\n",
        "    Xtest, ytest = _test.set_index(['date']).drop(columns=['sales']).values, _test.sales.values\n",
        "    \n",
        "    lgbm_model = DecisionTreeRegressor().fit(Xtrain, ytrain)\n",
        "    \n",
        "    ypred = lgbm_model.predict(Xtest)\n",
        "    \n",
        "    scores[period] = np.sqrt(mean_squared_log_error(ytest, ypred))\n",
        "\n",
        "print(scores)"
      ]
    },
    {
      "cell_type": "code",
      "execution_count": null,
      "metadata": {
        "id": "m2xkF2LZ4N0l"
      },
      "outputs": [],
      "source": [
        "# Split data into parts\n",
        "x = evall.drop(['sales'], axis = 1)\n",
        "y = evall['sales']"
      ]
    },
    {
      "cell_type": "code",
      "execution_count": null,
      "metadata": {
        "id": "O420mntK4N0m"
      },
      "outputs": [],
      "source": [
        "# Make prediction on X_test\n",
        "tree_pred = neigh.predict(x)"
      ]
    },
    {
      "cell_type": "code",
      "execution_count": null,
      "metadata": {
        "id": "WmJ-YyPA4N0m"
      },
      "outputs": [],
      "source": [
        "mse = mean_squared_error(y, tree_pred )\n",
        "rmse = np.sqrt(mean_squared_error(y, tree_pred )).round(2)\n",
        "rmsle = np.sqrt(mean_squared_log_error(y, tree_pred)).round(6)\n",
        "msle = mean_squared_log_error(y, tree_pred).round(2)\n",
        "\n",
        "\n",
        "results = pd.DataFrame([['DecisionTree', mse, msle, rmse, rmsle]], columns = ['Model', 'MSE', 'MSLE', 'RMSE', 'RMSLE'])\n",
        "results"
      ]
    },
    {
      "cell_type": "code",
      "execution_count": null,
      "metadata": {
        "id": "I0aZLryG4N0m"
      },
      "outputs": [],
      "source": [
        "test"
      ]
    },
    {
      "cell_type": "markdown",
      "metadata": {
        "id": "XWwv-0dT4N0n"
      },
      "source": [
        "for our test data, we merge just like for our train data"
      ]
    },
    {
      "cell_type": "code",
      "execution_count": null,
      "metadata": {
        "id": "W9tnrQuK4N0n"
      },
      "outputs": [],
      "source": [
        "mer_test = test.merge(\n",
        "    stores, \n",
        "    how='left', \n",
        "    on=['store_nbr'])\n",
        "#merging merged with oil data\n",
        "merged2_test=mer_test.merge(\n",
        "    oil,\n",
        "    how='left', \n",
        "    on=['date'])\n",
        "#merging merged2 with holidays\n",
        "merged3_test=merged2_test.merge(holidays,\n",
        "    how='left', \n",
        "    on=['date'])"
      ]
    },
    {
      "cell_type": "code",
      "execution_count": null,
      "metadata": {
        "id": "D4KDEVDH4N0o"
      },
      "outputs": [],
      "source": [
        "merged3.isnull().sum()"
      ]
    },
    {
      "cell_type": "markdown",
      "metadata": {
        "id": "lfuyZwMQ4N0p"
      },
      "source": [
        "### predicting sales in our test"
      ]
    },
    {
      "cell_type": "code",
      "execution_count": null,
      "metadata": {
        "id": "VdiY19CV4N0q"
      },
      "outputs": [],
      "source": [
        "# test_pred = armodel.predict(merged3_test_resampled)\n",
        "test_pred = armodel.predict(\n",
        "    start=len(x),\n",
        "    end=len(x)+ len(test_date) -1,\n",
        "    dynamic=False\n",
        ")\n",
        "test_pred[np.isnan(test_pred)] = 0\n",
        "test_pred"
      ]
    },
    {
      "cell_type": "code",
      "execution_count": null,
      "metadata": {
        "id": "ITLT-LuC4N0r"
      },
      "outputs": [],
      "source": [
        "test_sales = pd.DataFrame(test_pred, columns=['sales'])\n",
        "test_sales.head(30)"
      ]
    },
    {
      "cell_type": "code",
      "execution_count": null,
      "metadata": {
        "id": "_9M_q1aq4N0r"
      },
      "outputs": [],
      "source": [
        "# Save sample submission\n",
        "# test_sales[[ 'sales']].to_csv('submission.csv', index=False)"
      ]
    },
    {
      "cell_type": "code",
      "execution_count": null,
      "metadata": {
        "id": "7JtHj2gv4N0s"
      },
      "outputs": [],
      "source": []
    }
  ],
  "metadata": {
    "kernelspec": {
      "display_name": "base",
      "language": "python",
      "name": "python3"
    },
    "language_info": {
      "codemirror_mode": {
        "name": "ipython",
        "version": 3
      },
      "file_extension": ".py",
      "mimetype": "text/x-python",
      "name": "python",
      "nbconvert_exporter": "python",
      "pygments_lexer": "ipython3",
      "version": "3.9.13"
    },
    "vscode": {
      "interpreter": {
        "hash": "7679c2132d3f6ce38c9df14d554b39c06862b36a4e6689c81f9ae15bd0911d7d"
      }
    },
    "colab": {
      "provenance": [],
      "toc_visible": true
    }
  },
  "nbformat": 4,
  "nbformat_minor": 0
}