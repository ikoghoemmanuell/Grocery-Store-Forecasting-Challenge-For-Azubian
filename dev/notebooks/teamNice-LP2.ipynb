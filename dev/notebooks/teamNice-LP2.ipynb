{
  "cells": [
    {
      "cell_type": "code",
      "execution_count": 1,
      "metadata": {},
      "outputs": [],
      "source": [
        "import pandas as pd\n",
        "import numpy as np\n",
        "import matplotlib.pyplot as plt\n",
        "import seaborn as sns\n",
        "import plotly.express as px\n",
        "import plotly.graph_objects as go\n",
        "\n",
        "import matplotlib.dates as mdates\n",
        "from pandas_profiling import ProfileReport\n",
        "%matplotlib inline\n",
        "\n",
        "from statsmodels.tsa.stattools import adfuller\n",
        "from statsmodels.tsa.stattools import kpss\n",
        "\n",
        "from sklearn.impute import SimpleImputer\n",
        "from sklearn.preprocessing import OneHotEncoder, LabelEncoder\n",
        "from category_encoders.binary import BinaryEncoder\n",
        "from sklearn.preprocessing import StandardScaler\n",
        "\n",
        "from sklearn.metrics import mean_squared_error\n",
        "from sklearn.metrics import mean_squared_log_error\n",
        "\n",
        "import warnings\n",
        "warnings.filterwarnings(\"ignore\")"
      ]
    },
    {
      "cell_type": "markdown",
      "metadata": {},
      "source": [
        "# Data Loading"
      ]
    },
    {
      "cell_type": "code",
      "execution_count": 2,
      "metadata": {},
      "outputs": [],
      "source": [
        "holidays=pd.read_csv(\"store-sales-time-series-forecasting/holidays_events.csv\")\n",
        "oil=pd.read_csv(\"store-sales-time-series-forecasting/oil.csv\")\n",
        "sample=pd.read_csv(\"store-sales-time-series-forecasting/sample_submission.csv\")\n",
        "stores=pd.read_csv(\"store-sales-time-series-forecasting/stores.csv\")\n",
        "test=pd.read_csv(\"store-sales-time-series-forecasting/test.csv\")\n",
        "train=pd.read_csv(\"store-sales-time-series-forecasting/train.csv\", parse_dates =['date'])\n",
        "transactions=pd.read_csv(\"store-sales-time-series-forecasting/transactions.csv\")"
      ]
    },
    {
      "cell_type": "markdown",
      "metadata": {},
      "source": [
        "# Exploratory Data Analysis: EDA\n",
        "# Dataset overview"
      ]
    },
    {
      "cell_type": "code",
      "execution_count": 3,
      "metadata": {},
      "outputs": [],
      "source": [
        "# profile_data = ProfileReport(train, title =\"train Profiling Report\")\n",
        "# profile_data"
      ]
    },
    {
      "attachments": {},
      "cell_type": "markdown",
      "metadata": {},
      "source": [
        "Our date starts from January 2013 till October 2017 in our train data\n",
        "\n",
        "Also in our train dataset, Sales has a strong positive correlation with onpromotion, so we'll focus on sales and onpromotion\n",
        "\n",
        "since they correlate with one another the most\n",
        "\n",
        "No missing values in both our train and test data"
      ]
    },
    {
      "cell_type": "code",
      "execution_count": 4,
      "metadata": {},
      "outputs": [
        {
          "name": "stdout",
          "output_type": "stream",
          "text": [
            "<class 'pandas.core.frame.DataFrame'>\n",
            "RangeIndex: 28512 entries, 0 to 28511\n",
            "Data columns (total 5 columns):\n",
            " #   Column       Non-Null Count  Dtype \n",
            "---  ------       --------------  ----- \n",
            " 0   id           28512 non-null  int64 \n",
            " 1   date         28512 non-null  object\n",
            " 2   store_nbr    28512 non-null  int64 \n",
            " 3   family       28512 non-null  object\n",
            " 4   onpromotion  28512 non-null  int64 \n",
            "dtypes: int64(3), object(2)\n",
            "memory usage: 1.1+ MB\n"
          ]
        }
      ],
      "source": [
        "test.info()"
      ]
    },
    {
      "cell_type": "code",
      "execution_count": 5,
      "metadata": {},
      "outputs": [
        {
          "name": "stdout",
          "output_type": "stream",
          "text": [
            "<class 'pandas.core.frame.DataFrame'>\n",
            "RangeIndex: 83488 entries, 0 to 83487\n",
            "Data columns (total 3 columns):\n",
            " #   Column        Non-Null Count  Dtype \n",
            "---  ------        --------------  ----- \n",
            " 0   date          83488 non-null  object\n",
            " 1   store_nbr     83488 non-null  int64 \n",
            " 2   transactions  83488 non-null  int64 \n",
            "dtypes: int64(2), object(1)\n",
            "memory usage: 1.9+ MB\n"
          ]
        }
      ],
      "source": [
        "transactions.info()"
      ]
    },
    {
      "attachments": {},
      "cell_type": "markdown",
      "metadata": {},
      "source": [
        "we can see that the date column is in object instead of datetime\n",
        "\n",
        "so we will convert the datatypes"
      ]
    },
    {
      "attachments": {},
      "cell_type": "markdown",
      "metadata": {},
      "source": [
        "# Data Preparation and Processing"
      ]
    },
    {
      "attachments": {},
      "cell_type": "markdown",
      "metadata": {},
      "source": [
        "converting date columns to datetime"
      ]
    },
    {
      "cell_type": "code",
      "execution_count": 6,
      "metadata": {},
      "outputs": [],
      "source": [
        "#converting date columns to datetime\n",
        "def to_dateTime(df):\n",
        "    df['date'] = pd.to_datetime(df['date'])\n",
        "\n",
        "to_dateTime(transactions)\n",
        "to_dateTime(test)\n",
        "to_dateTime(oil)\n",
        "to_dateTime(holidays)"
      ]
    },
    {
      "attachments": {},
      "cell_type": "markdown",
      "metadata": {},
      "source": [
        "### check for missing dates"
      ]
    },
    {
      "cell_type": "code",
      "execution_count": 7,
      "metadata": {},
      "outputs": [
        {
          "data": {
            "text/plain": [
              "DatetimeIndex(['2013-12-25', '2014-12-25', '2015-12-25', '2016-01-01',\n",
              "               '2016-01-03', '2016-12-25'],\n",
              "              dtype='datetime64[ns]', freq=None)"
            ]
          },
          "execution_count": 7,
          "metadata": {},
          "output_type": "execute_result"
        }
      ],
      "source": [
        "missing_transaction_dates = (pd.date_range(\n",
        "    start=transactions.date.min(),\n",
        "    end=transactions.date.max())\n",
        "    .difference(transactions.date)\n",
        ")\n",
        "missing_transaction_dates"
      ]
    },
    {
      "attachments": {},
      "cell_type": "markdown",
      "metadata": {},
      "source": [
        "transactions has missing dates, so we first check the transactions data to see how best to fill them"
      ]
    },
    {
      "cell_type": "code",
      "execution_count": 8,
      "metadata": {},
      "outputs": [
        {
          "data": {
            "text/html": [
              "<div>\n",
              "<style scoped>\n",
              "    .dataframe tbody tr th:only-of-type {\n",
              "        vertical-align: middle;\n",
              "    }\n",
              "\n",
              "    .dataframe tbody tr th {\n",
              "        vertical-align: top;\n",
              "    }\n",
              "\n",
              "    .dataframe thead th {\n",
              "        text-align: right;\n",
              "    }\n",
              "</style>\n",
              "<table border=\"1\" class=\"dataframe\">\n",
              "  <thead>\n",
              "    <tr style=\"text-align: right;\">\n",
              "      <th></th>\n",
              "      <th>date</th>\n",
              "      <th>store_nbr</th>\n",
              "      <th>transactions</th>\n",
              "    </tr>\n",
              "  </thead>\n",
              "  <tbody>\n",
              "    <tr>\n",
              "      <th>0</th>\n",
              "      <td>2013-01-01</td>\n",
              "      <td>25</td>\n",
              "      <td>770</td>\n",
              "    </tr>\n",
              "    <tr>\n",
              "      <th>1</th>\n",
              "      <td>2013-01-02</td>\n",
              "      <td>1</td>\n",
              "      <td>2111</td>\n",
              "    </tr>\n",
              "    <tr>\n",
              "      <th>2</th>\n",
              "      <td>2013-01-02</td>\n",
              "      <td>2</td>\n",
              "      <td>2358</td>\n",
              "    </tr>\n",
              "    <tr>\n",
              "      <th>3</th>\n",
              "      <td>2013-01-02</td>\n",
              "      <td>3</td>\n",
              "      <td>3487</td>\n",
              "    </tr>\n",
              "    <tr>\n",
              "      <th>4</th>\n",
              "      <td>2013-01-02</td>\n",
              "      <td>4</td>\n",
              "      <td>1922</td>\n",
              "    </tr>\n",
              "    <tr>\n",
              "      <th>...</th>\n",
              "      <td>...</td>\n",
              "      <td>...</td>\n",
              "      <td>...</td>\n",
              "    </tr>\n",
              "    <tr>\n",
              "      <th>83483</th>\n",
              "      <td>2017-08-15</td>\n",
              "      <td>50</td>\n",
              "      <td>2804</td>\n",
              "    </tr>\n",
              "    <tr>\n",
              "      <th>83484</th>\n",
              "      <td>2017-08-15</td>\n",
              "      <td>51</td>\n",
              "      <td>1573</td>\n",
              "    </tr>\n",
              "    <tr>\n",
              "      <th>83485</th>\n",
              "      <td>2017-08-15</td>\n",
              "      <td>52</td>\n",
              "      <td>2255</td>\n",
              "    </tr>\n",
              "    <tr>\n",
              "      <th>83486</th>\n",
              "      <td>2017-08-15</td>\n",
              "      <td>53</td>\n",
              "      <td>932</td>\n",
              "    </tr>\n",
              "    <tr>\n",
              "      <th>83487</th>\n",
              "      <td>2017-08-15</td>\n",
              "      <td>54</td>\n",
              "      <td>802</td>\n",
              "    </tr>\n",
              "  </tbody>\n",
              "</table>\n",
              "<p>83488 rows × 3 columns</p>\n",
              "</div>"
            ],
            "text/plain": [
              "            date  store_nbr  transactions\n",
              "0     2013-01-01         25           770\n",
              "1     2013-01-02          1          2111\n",
              "2     2013-01-02          2          2358\n",
              "3     2013-01-02          3          3487\n",
              "4     2013-01-02          4          1922\n",
              "...          ...        ...           ...\n",
              "83483 2017-08-15         50          2804\n",
              "83484 2017-08-15         51          1573\n",
              "83485 2017-08-15         52          2255\n",
              "83486 2017-08-15         53           932\n",
              "83487 2017-08-15         54           802\n",
              "\n",
              "[83488 rows x 3 columns]"
            ]
          },
          "execution_count": 8,
          "metadata": {},
          "output_type": "execute_result"
        }
      ],
      "source": [
        "transactions"
      ]
    },
    {
      "attachments": {},
      "cell_type": "markdown",
      "metadata": {},
      "source": [
        "each date in transactions is iterated with each store_nbr, so we'll use itertools.product() function\n",
        "\n",
        "transactions on missing dates will be zero"
      ]
    },
    {
      "cell_type": "code",
      "execution_count": 9,
      "metadata": {},
      "outputs": [],
      "source": [
        "from itertools import product\n",
        "missing_transactions = list(product(missing_transaction_dates, transactions.store_nbr.unique()))\n",
        "transactions_extra = pd.DataFrame(missing_transactions, columns=['date', 'store_nbr'])"
      ]
    },
    {
      "attachments": {},
      "cell_type": "markdown",
      "metadata": {},
      "source": [
        "merge transactions with missing ones and fill missing transactions with 0"
      ]
    },
    {
      "cell_type": "code",
      "execution_count": 10,
      "metadata": {},
      "outputs": [],
      "source": [
        "transactions = pd.concat([transactions, transactions_extra], ignore_index=True)\n",
        "transactions.transactions.fillna(0, inplace=True)"
      ]
    },
    {
      "attachments": {},
      "cell_type": "markdown",
      "metadata": {},
      "source": [
        "## 1. Is the train dataset complete (has all the required dates)?\n",
        "\n",
        "From the information below you can see the train dataset has missing dates"
      ]
    },
    {
      "cell_type": "code",
      "execution_count": 11,
      "metadata": {},
      "outputs": [
        {
          "data": {
            "text/plain": [
              "DatetimeIndex(['2013-12-25', '2014-12-25', '2015-12-25', '2016-12-25'], dtype='datetime64[ns]', freq=None)"
            ]
          },
          "execution_count": 11,
          "metadata": {},
          "output_type": "execute_result"
        }
      ],
      "source": [
        "missing_train_dates = (pd.date_range(\n",
        "    start=train.date.min(),\n",
        "    end=train.date.max())\n",
        "    .difference(train.date)\n",
        ")\n",
        "missing_train_dates"
      ]
    },
    {
      "cell_type": "code",
      "execution_count": 12,
      "metadata": {},
      "outputs": [
        {
          "data": {
            "text/html": [
              "<div>\n",
              "<style scoped>\n",
              "    .dataframe tbody tr th:only-of-type {\n",
              "        vertical-align: middle;\n",
              "    }\n",
              "\n",
              "    .dataframe tbody tr th {\n",
              "        vertical-align: top;\n",
              "    }\n",
              "\n",
              "    .dataframe thead th {\n",
              "        text-align: right;\n",
              "    }\n",
              "</style>\n",
              "<table border=\"1\" class=\"dataframe\">\n",
              "  <thead>\n",
              "    <tr style=\"text-align: right;\">\n",
              "      <th></th>\n",
              "      <th>id</th>\n",
              "      <th>date</th>\n",
              "      <th>store_nbr</th>\n",
              "      <th>family</th>\n",
              "      <th>sales</th>\n",
              "      <th>onpromotion</th>\n",
              "    </tr>\n",
              "  </thead>\n",
              "  <tbody>\n",
              "    <tr>\n",
              "      <th>0</th>\n",
              "      <td>0</td>\n",
              "      <td>2013-01-01</td>\n",
              "      <td>1</td>\n",
              "      <td>AUTOMOTIVE</td>\n",
              "      <td>0.000</td>\n",
              "      <td>0</td>\n",
              "    </tr>\n",
              "    <tr>\n",
              "      <th>1</th>\n",
              "      <td>1</td>\n",
              "      <td>2013-01-01</td>\n",
              "      <td>1</td>\n",
              "      <td>BABY CARE</td>\n",
              "      <td>0.000</td>\n",
              "      <td>0</td>\n",
              "    </tr>\n",
              "    <tr>\n",
              "      <th>2</th>\n",
              "      <td>2</td>\n",
              "      <td>2013-01-01</td>\n",
              "      <td>1</td>\n",
              "      <td>BEAUTY</td>\n",
              "      <td>0.000</td>\n",
              "      <td>0</td>\n",
              "    </tr>\n",
              "    <tr>\n",
              "      <th>3</th>\n",
              "      <td>3</td>\n",
              "      <td>2013-01-01</td>\n",
              "      <td>1</td>\n",
              "      <td>BEVERAGES</td>\n",
              "      <td>0.000</td>\n",
              "      <td>0</td>\n",
              "    </tr>\n",
              "    <tr>\n",
              "      <th>4</th>\n",
              "      <td>4</td>\n",
              "      <td>2013-01-01</td>\n",
              "      <td>1</td>\n",
              "      <td>BOOKS</td>\n",
              "      <td>0.000</td>\n",
              "      <td>0</td>\n",
              "    </tr>\n",
              "    <tr>\n",
              "      <th>...</th>\n",
              "      <td>...</td>\n",
              "      <td>...</td>\n",
              "      <td>...</td>\n",
              "      <td>...</td>\n",
              "      <td>...</td>\n",
              "      <td>...</td>\n",
              "    </tr>\n",
              "    <tr>\n",
              "      <th>3000883</th>\n",
              "      <td>3000883</td>\n",
              "      <td>2017-08-15</td>\n",
              "      <td>9</td>\n",
              "      <td>POULTRY</td>\n",
              "      <td>438.133</td>\n",
              "      <td>0</td>\n",
              "    </tr>\n",
              "    <tr>\n",
              "      <th>3000884</th>\n",
              "      <td>3000884</td>\n",
              "      <td>2017-08-15</td>\n",
              "      <td>9</td>\n",
              "      <td>PREPARED FOODS</td>\n",
              "      <td>154.553</td>\n",
              "      <td>1</td>\n",
              "    </tr>\n",
              "    <tr>\n",
              "      <th>3000885</th>\n",
              "      <td>3000885</td>\n",
              "      <td>2017-08-15</td>\n",
              "      <td>9</td>\n",
              "      <td>PRODUCE</td>\n",
              "      <td>2419.729</td>\n",
              "      <td>148</td>\n",
              "    </tr>\n",
              "    <tr>\n",
              "      <th>3000886</th>\n",
              "      <td>3000886</td>\n",
              "      <td>2017-08-15</td>\n",
              "      <td>9</td>\n",
              "      <td>SCHOOL AND OFFICE SUPPLIES</td>\n",
              "      <td>121.000</td>\n",
              "      <td>8</td>\n",
              "    </tr>\n",
              "    <tr>\n",
              "      <th>3000887</th>\n",
              "      <td>3000887</td>\n",
              "      <td>2017-08-15</td>\n",
              "      <td>9</td>\n",
              "      <td>SEAFOOD</td>\n",
              "      <td>16.000</td>\n",
              "      <td>0</td>\n",
              "    </tr>\n",
              "  </tbody>\n",
              "</table>\n",
              "<p>3000888 rows × 6 columns</p>\n",
              "</div>"
            ],
            "text/plain": [
              "              id       date  store_nbr                      family     sales  \\\n",
              "0              0 2013-01-01          1                  AUTOMOTIVE     0.000   \n",
              "1              1 2013-01-01          1                   BABY CARE     0.000   \n",
              "2              2 2013-01-01          1                      BEAUTY     0.000   \n",
              "3              3 2013-01-01          1                   BEVERAGES     0.000   \n",
              "4              4 2013-01-01          1                       BOOKS     0.000   \n",
              "...          ...        ...        ...                         ...       ...   \n",
              "3000883  3000883 2017-08-15          9                     POULTRY   438.133   \n",
              "3000884  3000884 2017-08-15          9              PREPARED FOODS   154.553   \n",
              "3000885  3000885 2017-08-15          9                     PRODUCE  2419.729   \n",
              "3000886  3000886 2017-08-15          9  SCHOOL AND OFFICE SUPPLIES   121.000   \n",
              "3000887  3000887 2017-08-15          9                     SEAFOOD    16.000   \n",
              "\n",
              "         onpromotion  \n",
              "0                  0  \n",
              "1                  0  \n",
              "2                  0  \n",
              "3                  0  \n",
              "4                  0  \n",
              "...              ...  \n",
              "3000883            0  \n",
              "3000884            1  \n",
              "3000885          148  \n",
              "3000886            8  \n",
              "3000887            0  \n",
              "\n",
              "[3000888 rows x 6 columns]"
            ]
          },
          "execution_count": 12,
          "metadata": {},
          "output_type": "execute_result"
        }
      ],
      "source": [
        "train"
      ]
    },
    {
      "attachments": {},
      "cell_type": "markdown",
      "metadata": {},
      "source": [
        "each date iterates across each unique store_nbr\n",
        "\n",
        "each store_nbr also iterates across every family, so we use itertools.product() function again"
      ]
    },
    {
      "cell_type": "code",
      "execution_count": 13,
      "metadata": {},
      "outputs": [],
      "source": [
        "from itertools import product\n",
        "missing_train = list(product(missing_train_dates, train.store_nbr.unique(), train.family.unique()))\n",
        "train_extra = pd.DataFrame(missing_train, columns=['date', 'store_nbr', 'family'])"
      ]
    },
    {
      "attachments": {},
      "cell_type": "markdown",
      "metadata": {},
      "source": [
        "getting all train dates"
      ]
    },
    {
      "cell_type": "code",
      "execution_count": 14,
      "metadata": {},
      "outputs": [],
      "source": [
        "train_dates = (pd.date_range(\n",
        "    start=train.date.min(),\n",
        "    end=train.date.max())\n",
        ")\n",
        "from itertools import product\n",
        "missing_trainn = list(product(train_dates, train.store_nbr.unique(), train.family.unique()))\n",
        "train_extra1 = pd.DataFrame(missing_train, columns=['date', 'store_nbr', 'family'])"
      ]
    },
    {
      "cell_type": "code",
      "execution_count": 15,
      "metadata": {},
      "outputs": [],
      "source": [
        "# adding all dates to train\n",
        "train__with_all_dates = pd.concat([train, train_extra1], ignore_index=True)\n",
        "# fill missing sales and onpromotion with zero, just like with train\n",
        "train.sales.fillna(0, inplace=True)\n",
        "train.onpromotion.fillna(0, inplace=True)"
      ]
    },
    {
      "cell_type": "code",
      "execution_count": 16,
      "metadata": {},
      "outputs": [],
      "source": [
        "# adding missing dates to train\n",
        "train = pd.concat([train, train_extra], ignore_index=True)\n",
        "# fill missing sales and onpromotion with zero, just like with train\n",
        "train.sales.fillna(0, inplace=True)\n",
        "train.onpromotion.fillna(0, inplace=True)"
      ]
    },
    {
      "cell_type": "code",
      "execution_count": 17,
      "metadata": {},
      "outputs": [
        {
          "data": {
            "text/plain": [
              "DatetimeIndex([], dtype='datetime64[ns]', freq=None)"
            ]
          },
          "execution_count": 17,
          "metadata": {},
          "output_type": "execute_result"
        }
      ],
      "source": [
        "missing_test_dates = (pd.date_range(\n",
        "    start=test.date.min(),\n",
        "    end=test.date.max())\n",
        "    .difference(test.date)\n",
        ")\n",
        "missing_test_dates"
      ]
    },
    {
      "attachments": {},
      "cell_type": "markdown",
      "metadata": {},
      "source": [
        "test data has no missing dates"
      ]
    },
    {
      "cell_type": "code",
      "execution_count": 18,
      "metadata": {},
      "outputs": [
        {
          "data": {
            "text/html": [
              "<div>\n",
              "<style scoped>\n",
              "    .dataframe tbody tr th:only-of-type {\n",
              "        vertical-align: middle;\n",
              "    }\n",
              "\n",
              "    .dataframe tbody tr th {\n",
              "        vertical-align: top;\n",
              "    }\n",
              "\n",
              "    .dataframe thead th {\n",
              "        text-align: right;\n",
              "    }\n",
              "</style>\n",
              "<table border=\"1\" class=\"dataframe\">\n",
              "  <thead>\n",
              "    <tr style=\"text-align: right;\">\n",
              "      <th></th>\n",
              "      <th>date</th>\n",
              "    </tr>\n",
              "  </thead>\n",
              "  <tbody>\n",
              "    <tr>\n",
              "      <th>0</th>\n",
              "      <td>2013-01-05</td>\n",
              "    </tr>\n",
              "    <tr>\n",
              "      <th>1</th>\n",
              "      <td>2013-01-06</td>\n",
              "    </tr>\n",
              "    <tr>\n",
              "      <th>2</th>\n",
              "      <td>2013-01-12</td>\n",
              "    </tr>\n",
              "    <tr>\n",
              "      <th>3</th>\n",
              "      <td>2013-01-13</td>\n",
              "    </tr>\n",
              "    <tr>\n",
              "      <th>4</th>\n",
              "      <td>2013-01-19</td>\n",
              "    </tr>\n",
              "    <tr>\n",
              "      <th>...</th>\n",
              "      <td>...</td>\n",
              "    </tr>\n",
              "    <tr>\n",
              "      <th>481</th>\n",
              "      <td>2017-08-13</td>\n",
              "    </tr>\n",
              "    <tr>\n",
              "      <th>482</th>\n",
              "      <td>2017-08-19</td>\n",
              "    </tr>\n",
              "    <tr>\n",
              "      <th>483</th>\n",
              "      <td>2017-08-20</td>\n",
              "    </tr>\n",
              "    <tr>\n",
              "      <th>484</th>\n",
              "      <td>2017-08-26</td>\n",
              "    </tr>\n",
              "    <tr>\n",
              "      <th>485</th>\n",
              "      <td>2017-08-27</td>\n",
              "    </tr>\n",
              "  </tbody>\n",
              "</table>\n",
              "<p>486 rows × 1 columns</p>\n",
              "</div>"
            ],
            "text/plain": [
              "          date\n",
              "0   2013-01-05\n",
              "1   2013-01-06\n",
              "2   2013-01-12\n",
              "3   2013-01-13\n",
              "4   2013-01-19\n",
              "..         ...\n",
              "481 2017-08-13\n",
              "482 2017-08-19\n",
              "483 2017-08-20\n",
              "484 2017-08-26\n",
              "485 2017-08-27\n",
              "\n",
              "[486 rows x 1 columns]"
            ]
          },
          "execution_count": 18,
          "metadata": {},
          "output_type": "execute_result"
        }
      ],
      "source": [
        "missing_oil_dates = (pd.DataFrame(\n",
        "    pd.date_range(\n",
        "    start=oil.date.min(),\n",
        "    end=oil.date.max())\n",
        "    .difference(oil.date)\n",
        ", columns=['date']))\n",
        "\n",
        "missing_oil_dates"
      ]
    },
    {
      "cell_type": "code",
      "execution_count": 19,
      "metadata": {},
      "outputs": [
        {
          "data": {
            "text/html": [
              "<div>\n",
              "<style scoped>\n",
              "    .dataframe tbody tr th:only-of-type {\n",
              "        vertical-align: middle;\n",
              "    }\n",
              "\n",
              "    .dataframe tbody tr th {\n",
              "        vertical-align: top;\n",
              "    }\n",
              "\n",
              "    .dataframe thead th {\n",
              "        text-align: right;\n",
              "    }\n",
              "</style>\n",
              "<table border=\"1\" class=\"dataframe\">\n",
              "  <thead>\n",
              "    <tr style=\"text-align: right;\">\n",
              "      <th></th>\n",
              "      <th>date</th>\n",
              "      <th>dcoilwtico</th>\n",
              "    </tr>\n",
              "  </thead>\n",
              "  <tbody>\n",
              "    <tr>\n",
              "      <th>0</th>\n",
              "      <td>2013-01-01</td>\n",
              "      <td>NaN</td>\n",
              "    </tr>\n",
              "    <tr>\n",
              "      <th>1</th>\n",
              "      <td>2013-01-02</td>\n",
              "      <td>93.14</td>\n",
              "    </tr>\n",
              "    <tr>\n",
              "      <th>2</th>\n",
              "      <td>2013-01-03</td>\n",
              "      <td>92.97</td>\n",
              "    </tr>\n",
              "    <tr>\n",
              "      <th>3</th>\n",
              "      <td>2013-01-04</td>\n",
              "      <td>93.12</td>\n",
              "    </tr>\n",
              "    <tr>\n",
              "      <th>4</th>\n",
              "      <td>2013-01-07</td>\n",
              "      <td>93.20</td>\n",
              "    </tr>\n",
              "    <tr>\n",
              "      <th>...</th>\n",
              "      <td>...</td>\n",
              "      <td>...</td>\n",
              "    </tr>\n",
              "    <tr>\n",
              "      <th>1213</th>\n",
              "      <td>2017-08-25</td>\n",
              "      <td>47.65</td>\n",
              "    </tr>\n",
              "    <tr>\n",
              "      <th>1214</th>\n",
              "      <td>2017-08-28</td>\n",
              "      <td>46.40</td>\n",
              "    </tr>\n",
              "    <tr>\n",
              "      <th>1215</th>\n",
              "      <td>2017-08-29</td>\n",
              "      <td>46.46</td>\n",
              "    </tr>\n",
              "    <tr>\n",
              "      <th>1216</th>\n",
              "      <td>2017-08-30</td>\n",
              "      <td>45.96</td>\n",
              "    </tr>\n",
              "    <tr>\n",
              "      <th>1217</th>\n",
              "      <td>2017-08-31</td>\n",
              "      <td>47.26</td>\n",
              "    </tr>\n",
              "  </tbody>\n",
              "</table>\n",
              "<p>1218 rows × 2 columns</p>\n",
              "</div>"
            ],
            "text/plain": [
              "           date  dcoilwtico\n",
              "0    2013-01-01         NaN\n",
              "1    2013-01-02       93.14\n",
              "2    2013-01-03       92.97\n",
              "3    2013-01-04       93.12\n",
              "4    2013-01-07       93.20\n",
              "...         ...         ...\n",
              "1213 2017-08-25       47.65\n",
              "1214 2017-08-28       46.40\n",
              "1215 2017-08-29       46.46\n",
              "1216 2017-08-30       45.96\n",
              "1217 2017-08-31       47.26\n",
              "\n",
              "[1218 rows x 2 columns]"
            ]
          },
          "execution_count": 19,
          "metadata": {},
          "output_type": "execute_result"
        }
      ],
      "source": [
        "oil"
      ]
    },
    {
      "attachments": {},
      "cell_type": "markdown",
      "metadata": {},
      "source": [
        "for our oil data, we'll first fill missing dates, then we'll interpplate and bfill to fix missing oil prices"
      ]
    },
    {
      "cell_type": "code",
      "execution_count": 20,
      "metadata": {},
      "outputs": [],
      "source": [
        "#add missing oil dates\n",
        "oil = pd.concat([oil, missing_oil_dates], ignore_index=True)\n",
        "\n",
        "#filling missing oil values\n",
        "oil['dcoilwtico'] = oil['dcoilwtico'].interpolate(method='linear').ffill().bfill()"
      ]
    },
    {
      "cell_type": "code",
      "execution_count": 21,
      "metadata": {},
      "outputs": [
        {
          "data": {
            "text/html": [
              "<div>\n",
              "<style scoped>\n",
              "    .dataframe tbody tr th:only-of-type {\n",
              "        vertical-align: middle;\n",
              "    }\n",
              "\n",
              "    .dataframe tbody tr th {\n",
              "        vertical-align: top;\n",
              "    }\n",
              "\n",
              "    .dataframe thead th {\n",
              "        text-align: right;\n",
              "    }\n",
              "</style>\n",
              "<table border=\"1\" class=\"dataframe\">\n",
              "  <thead>\n",
              "    <tr style=\"text-align: right;\">\n",
              "      <th></th>\n",
              "      <th>date</th>\n",
              "    </tr>\n",
              "  </thead>\n",
              "  <tbody>\n",
              "    <tr>\n",
              "      <th>0</th>\n",
              "      <td>2012-03-03</td>\n",
              "    </tr>\n",
              "    <tr>\n",
              "      <th>1</th>\n",
              "      <td>2012-03-04</td>\n",
              "    </tr>\n",
              "    <tr>\n",
              "      <th>2</th>\n",
              "      <td>2012-03-05</td>\n",
              "    </tr>\n",
              "    <tr>\n",
              "      <th>3</th>\n",
              "      <td>2012-03-06</td>\n",
              "    </tr>\n",
              "    <tr>\n",
              "      <th>4</th>\n",
              "      <td>2012-03-07</td>\n",
              "    </tr>\n",
              "    <tr>\n",
              "      <th>...</th>\n",
              "      <td>...</td>\n",
              "    </tr>\n",
              "    <tr>\n",
              "      <th>1809</th>\n",
              "      <td>2017-12-16</td>\n",
              "    </tr>\n",
              "    <tr>\n",
              "      <th>1810</th>\n",
              "      <td>2017-12-17</td>\n",
              "    </tr>\n",
              "    <tr>\n",
              "      <th>1811</th>\n",
              "      <td>2017-12-18</td>\n",
              "    </tr>\n",
              "    <tr>\n",
              "      <th>1812</th>\n",
              "      <td>2017-12-19</td>\n",
              "    </tr>\n",
              "    <tr>\n",
              "      <th>1813</th>\n",
              "      <td>2017-12-20</td>\n",
              "    </tr>\n",
              "  </tbody>\n",
              "</table>\n",
              "<p>1814 rows × 1 columns</p>\n",
              "</div>"
            ],
            "text/plain": [
              "           date\n",
              "0    2012-03-03\n",
              "1    2012-03-04\n",
              "2    2012-03-05\n",
              "3    2012-03-06\n",
              "4    2012-03-07\n",
              "...         ...\n",
              "1809 2017-12-16\n",
              "1810 2017-12-17\n",
              "1811 2017-12-18\n",
              "1812 2017-12-19\n",
              "1813 2017-12-20\n",
              "\n",
              "[1814 rows x 1 columns]"
            ]
          },
          "execution_count": 21,
          "metadata": {},
          "output_type": "execute_result"
        }
      ],
      "source": [
        "missing_holiday_dates = (pd.DataFrame(\n",
        "    pd.date_range(\n",
        "    start=holidays.date.min(),\n",
        "    end=holidays.date.max())\n",
        "    .difference(holidays.date)\n",
        ", columns=['date']))\n",
        "\n",
        "missing_holiday_dates"
      ]
    },
    {
      "cell_type": "code",
      "execution_count": 22,
      "metadata": {},
      "outputs": [],
      "source": [
        "holidays = pd.concat([holidays, missing_holiday_dates], ignore_index=True)"
      ]
    },
    {
      "cell_type": "code",
      "execution_count": 23,
      "metadata": {},
      "outputs": [
        {
          "data": {
            "text/plain": [
              "array(['AUTOMOTIVE', 'BABY CARE', 'BEAUTY', 'BEVERAGES', 'BOOKS',\n",
              "       'BREAD/BAKERY', 'CELEBRATION', 'CLEANING', 'DAIRY', 'DELI', 'EGGS',\n",
              "       'FROZEN FOODS', 'GROCERY I', 'GROCERY II', 'HARDWARE',\n",
              "       'HOME AND KITCHEN I', 'HOME AND KITCHEN II', 'HOME APPLIANCES',\n",
              "       'HOME CARE', 'LADIESWEAR', 'LAWN AND GARDEN', 'LINGERIE',\n",
              "       'LIQUOR,WINE,BEER', 'MAGAZINES', 'MEATS', 'PERSONAL CARE',\n",
              "       'PET SUPPLIES', 'PLAYERS AND ELECTRONICS', 'POULTRY',\n",
              "       'PREPARED FOODS', 'PRODUCE', 'SCHOOL AND OFFICE SUPPLIES',\n",
              "       'SEAFOOD'], dtype=object)"
            ]
          },
          "execution_count": 23,
          "metadata": {},
          "output_type": "execute_result"
        }
      ],
      "source": [
        "train['family'].unique()"
      ]
    },
    {
      "attachments": {},
      "cell_type": "markdown",
      "metadata": {},
      "source": [
        "the family column has too many categories. This could complicate our machine learning model later on\n",
        "\n",
        "so we'll group them into smaller categories later"
      ]
    },
    {
      "cell_type": "code",
      "execution_count": 24,
      "metadata": {},
      "outputs": [
        {
          "data": {
            "text/plain": [
              "(           date type locale locale_name description transferred\n",
              " 2159 2017-12-16  NaN    NaN         NaN         NaN         NaN\n",
              " 2160 2017-12-17  NaN    NaN         NaN         NaN         NaN\n",
              " 2161 2017-12-18  NaN    NaN         NaN         NaN         NaN\n",
              " 2162 2017-12-19  NaN    NaN         NaN         NaN         NaN\n",
              " 2163 2017-12-20  NaN    NaN         NaN         NaN         NaN,\n",
              " (2164, 6))"
            ]
          },
          "execution_count": 24,
          "metadata": {},
          "output_type": "execute_result"
        }
      ],
      "source": [
        "holidays.tail(),holidays.shape"
      ]
    },
    {
      "attachments": {},
      "cell_type": "markdown",
      "metadata": {},
      "source": [
        "if the holiday was transferred, then its no longer an holiday\n",
        "\n",
        "so we'll delete the rows with transferred as true"
      ]
    },
    {
      "cell_type": "code",
      "execution_count": 25,
      "metadata": {},
      "outputs": [],
      "source": [
        "# delete rows with transferred as true\n",
        "transferred_true = holidays[ (holidays['transferred'] == True)].index\n",
        "holidays.drop(transferred_true , inplace=True)"
      ]
    },
    {
      "cell_type": "code",
      "execution_count": 26,
      "metadata": {},
      "outputs": [],
      "source": [
        "#drop unnecessary columns in holidays\n",
        "holidays.drop(\n",
        "    columns=['locale', 'locale_name', 'description', 'transferred'],\n",
        "    inplace=True\n",
        "    )"
      ]
    },
    {
      "cell_type": "code",
      "execution_count": 27,
      "metadata": {},
      "outputs": [],
      "source": [
        "#the id column doesn't give additional info, so we drop it\n",
        "train.drop(columns=['id'], inplace=True)\n",
        "test.drop(columns=['id'], inplace=True)"
      ]
    },
    {
      "cell_type": "code",
      "execution_count": 28,
      "metadata": {},
      "outputs": [
        {
          "data": {
            "text/html": [
              "<div>\n",
              "<style scoped>\n",
              "    .dataframe tbody tr th:only-of-type {\n",
              "        vertical-align: middle;\n",
              "    }\n",
              "\n",
              "    .dataframe tbody tr th {\n",
              "        vertical-align: top;\n",
              "    }\n",
              "\n",
              "    .dataframe thead th {\n",
              "        text-align: right;\n",
              "    }\n",
              "</style>\n",
              "<table border=\"1\" class=\"dataframe\">\n",
              "  <thead>\n",
              "    <tr style=\"text-align: right;\">\n",
              "      <th></th>\n",
              "      <th>date</th>\n",
              "      <th>dcoilwtico</th>\n",
              "    </tr>\n",
              "  </thead>\n",
              "  <tbody>\n",
              "    <tr>\n",
              "      <th>0</th>\n",
              "      <td>2013-01-01</td>\n",
              "      <td>93.14</td>\n",
              "    </tr>\n",
              "    <tr>\n",
              "      <th>1</th>\n",
              "      <td>2013-01-02</td>\n",
              "      <td>93.14</td>\n",
              "    </tr>\n",
              "    <tr>\n",
              "      <th>2</th>\n",
              "      <td>2013-01-03</td>\n",
              "      <td>92.97</td>\n",
              "    </tr>\n",
              "    <tr>\n",
              "      <th>3</th>\n",
              "      <td>2013-01-04</td>\n",
              "      <td>93.12</td>\n",
              "    </tr>\n",
              "    <tr>\n",
              "      <th>4</th>\n",
              "      <td>2013-01-07</td>\n",
              "      <td>93.20</td>\n",
              "    </tr>\n",
              "  </tbody>\n",
              "</table>\n",
              "</div>"
            ],
            "text/plain": [
              "        date  dcoilwtico\n",
              "0 2013-01-01       93.14\n",
              "1 2013-01-02       93.14\n",
              "2 2013-01-03       92.97\n",
              "3 2013-01-04       93.12\n",
              "4 2013-01-07       93.20"
            ]
          },
          "execution_count": 28,
          "metadata": {},
          "output_type": "execute_result"
        }
      ],
      "source": [
        "oil.head()"
      ]
    },
    {
      "cell_type": "code",
      "execution_count": 29,
      "metadata": {},
      "outputs": [],
      "source": [
        "# renaming our dcoilwtico column in oil data\n",
        "oil.rename(\n",
        "    columns = {'dcoilwtico':'oil_price'}, \n",
        "    inplace = True\n",
        "    )"
      ]
    },
    {
      "cell_type": "code",
      "execution_count": 30,
      "metadata": {},
      "outputs": [
        {
          "data": {
            "text/html": [
              "<div>\n",
              "<style scoped>\n",
              "    .dataframe tbody tr th:only-of-type {\n",
              "        vertical-align: middle;\n",
              "    }\n",
              "\n",
              "    .dataframe tbody tr th {\n",
              "        vertical-align: top;\n",
              "    }\n",
              "\n",
              "    .dataframe thead th {\n",
              "        text-align: right;\n",
              "    }\n",
              "</style>\n",
              "<table border=\"1\" class=\"dataframe\">\n",
              "  <thead>\n",
              "    <tr style=\"text-align: right;\">\n",
              "      <th></th>\n",
              "      <th>store_nbr</th>\n",
              "      <th>city</th>\n",
              "      <th>state</th>\n",
              "      <th>type</th>\n",
              "      <th>cluster</th>\n",
              "    </tr>\n",
              "  </thead>\n",
              "  <tbody>\n",
              "    <tr>\n",
              "      <th>0</th>\n",
              "      <td>1</td>\n",
              "      <td>Quito</td>\n",
              "      <td>Pichincha</td>\n",
              "      <td>D</td>\n",
              "      <td>13</td>\n",
              "    </tr>\n",
              "    <tr>\n",
              "      <th>1</th>\n",
              "      <td>2</td>\n",
              "      <td>Quito</td>\n",
              "      <td>Pichincha</td>\n",
              "      <td>D</td>\n",
              "      <td>13</td>\n",
              "    </tr>\n",
              "    <tr>\n",
              "      <th>2</th>\n",
              "      <td>3</td>\n",
              "      <td>Quito</td>\n",
              "      <td>Pichincha</td>\n",
              "      <td>D</td>\n",
              "      <td>8</td>\n",
              "    </tr>\n",
              "    <tr>\n",
              "      <th>3</th>\n",
              "      <td>4</td>\n",
              "      <td>Quito</td>\n",
              "      <td>Pichincha</td>\n",
              "      <td>D</td>\n",
              "      <td>9</td>\n",
              "    </tr>\n",
              "    <tr>\n",
              "      <th>4</th>\n",
              "      <td>5</td>\n",
              "      <td>Santo Domingo</td>\n",
              "      <td>Santo Domingo de los Tsachilas</td>\n",
              "      <td>D</td>\n",
              "      <td>4</td>\n",
              "    </tr>\n",
              "  </tbody>\n",
              "</table>\n",
              "</div>"
            ],
            "text/plain": [
              "   store_nbr           city                           state type  cluster\n",
              "0          1          Quito                       Pichincha    D       13\n",
              "1          2          Quito                       Pichincha    D       13\n",
              "2          3          Quito                       Pichincha    D        8\n",
              "3          4          Quito                       Pichincha    D        9\n",
              "4          5  Santo Domingo  Santo Domingo de los Tsachilas    D        4"
            ]
          },
          "execution_count": 30,
          "metadata": {},
          "output_type": "execute_result"
        }
      ],
      "source": [
        "stores.head()"
      ]
    },
    {
      "cell_type": "markdown",
      "metadata": {},
      "source": [
        "### merging our data\n",
        "we want to merge the transactions with our train data, so we can use it to train our model"
      ]
    },
    {
      "cell_type": "code",
      "execution_count": 31,
      "metadata": {},
      "outputs": [],
      "source": [
        "mer = train.merge(\n",
        "    stores, \n",
        "    how='left', \n",
        "    on=['store_nbr'])\n",
        "\n",
        "merged=mer.merge(\n",
        "    transactions, \n",
        "    how='left', \n",
        "    on=['date', 'store_nbr'])"
      ]
    },
    {
      "cell_type": "code",
      "execution_count": 32,
      "metadata": {},
      "outputs": [
        {
          "data": {
            "text/html": [
              "<div>\n",
              "<style scoped>\n",
              "    .dataframe tbody tr th:only-of-type {\n",
              "        vertical-align: middle;\n",
              "    }\n",
              "\n",
              "    .dataframe tbody tr th {\n",
              "        vertical-align: top;\n",
              "    }\n",
              "\n",
              "    .dataframe thead th {\n",
              "        text-align: right;\n",
              "    }\n",
              "</style>\n",
              "<table border=\"1\" class=\"dataframe\">\n",
              "  <thead>\n",
              "    <tr style=\"text-align: right;\">\n",
              "      <th></th>\n",
              "      <th>date</th>\n",
              "      <th>store_nbr</th>\n",
              "      <th>family</th>\n",
              "      <th>sales</th>\n",
              "      <th>onpromotion</th>\n",
              "      <th>city</th>\n",
              "      <th>state</th>\n",
              "      <th>type</th>\n",
              "      <th>cluster</th>\n",
              "      <th>oil_price</th>\n",
              "    </tr>\n",
              "  </thead>\n",
              "  <tbody>\n",
              "    <tr>\n",
              "      <th>0</th>\n",
              "      <td>2013-01-01</td>\n",
              "      <td>1</td>\n",
              "      <td>AUTOMOTIVE</td>\n",
              "      <td>0.0</td>\n",
              "      <td>0.0</td>\n",
              "      <td>Quito</td>\n",
              "      <td>Pichincha</td>\n",
              "      <td>D</td>\n",
              "      <td>13</td>\n",
              "      <td>93.14</td>\n",
              "    </tr>\n",
              "    <tr>\n",
              "      <th>1</th>\n",
              "      <td>2013-01-01</td>\n",
              "      <td>1</td>\n",
              "      <td>BABY CARE</td>\n",
              "      <td>0.0</td>\n",
              "      <td>0.0</td>\n",
              "      <td>Quito</td>\n",
              "      <td>Pichincha</td>\n",
              "      <td>D</td>\n",
              "      <td>13</td>\n",
              "      <td>93.14</td>\n",
              "    </tr>\n",
              "    <tr>\n",
              "      <th>2</th>\n",
              "      <td>2013-01-01</td>\n",
              "      <td>1</td>\n",
              "      <td>BEAUTY</td>\n",
              "      <td>0.0</td>\n",
              "      <td>0.0</td>\n",
              "      <td>Quito</td>\n",
              "      <td>Pichincha</td>\n",
              "      <td>D</td>\n",
              "      <td>13</td>\n",
              "      <td>93.14</td>\n",
              "    </tr>\n",
              "    <tr>\n",
              "      <th>3</th>\n",
              "      <td>2013-01-01</td>\n",
              "      <td>1</td>\n",
              "      <td>BEVERAGES</td>\n",
              "      <td>0.0</td>\n",
              "      <td>0.0</td>\n",
              "      <td>Quito</td>\n",
              "      <td>Pichincha</td>\n",
              "      <td>D</td>\n",
              "      <td>13</td>\n",
              "      <td>93.14</td>\n",
              "    </tr>\n",
              "    <tr>\n",
              "      <th>4</th>\n",
              "      <td>2013-01-01</td>\n",
              "      <td>1</td>\n",
              "      <td>BOOKS</td>\n",
              "      <td>0.0</td>\n",
              "      <td>0.0</td>\n",
              "      <td>Quito</td>\n",
              "      <td>Pichincha</td>\n",
              "      <td>D</td>\n",
              "      <td>13</td>\n",
              "      <td>93.14</td>\n",
              "    </tr>\n",
              "  </tbody>\n",
              "</table>\n",
              "</div>"
            ],
            "text/plain": [
              "        date  store_nbr      family  sales  onpromotion   city      state  \\\n",
              "0 2013-01-01          1  AUTOMOTIVE    0.0          0.0  Quito  Pichincha   \n",
              "1 2013-01-01          1   BABY CARE    0.0          0.0  Quito  Pichincha   \n",
              "2 2013-01-01          1      BEAUTY    0.0          0.0  Quito  Pichincha   \n",
              "3 2013-01-01          1   BEVERAGES    0.0          0.0  Quito  Pichincha   \n",
              "4 2013-01-01          1       BOOKS    0.0          0.0  Quito  Pichincha   \n",
              "\n",
              "  type  cluster  oil_price  \n",
              "0    D       13      93.14  \n",
              "1    D       13      93.14  \n",
              "2    D       13      93.14  \n",
              "3    D       13      93.14  \n",
              "4    D       13      93.14  "
            ]
          },
          "execution_count": 32,
          "metadata": {},
          "output_type": "execute_result"
        }
      ],
      "source": [
        "#merging merged with oil data\n",
        "merged2=mer.merge(\n",
        "    oil,\n",
        "    how='left', \n",
        "    on=['date'])\n",
        "\n",
        "\n",
        "merged2.head()"
      ]
    },
    {
      "cell_type": "code",
      "execution_count": 33,
      "metadata": {},
      "outputs": [
        {
          "name": "stdout",
          "output_type": "stream",
          "text": [
            "(3061476, 11)\n"
          ]
        },
        {
          "data": {
            "text/html": [
              "<div>\n",
              "<style scoped>\n",
              "    .dataframe tbody tr th:only-of-type {\n",
              "        vertical-align: middle;\n",
              "    }\n",
              "\n",
              "    .dataframe tbody tr th {\n",
              "        vertical-align: top;\n",
              "    }\n",
              "\n",
              "    .dataframe thead th {\n",
              "        text-align: right;\n",
              "    }\n",
              "</style>\n",
              "<table border=\"1\" class=\"dataframe\">\n",
              "  <thead>\n",
              "    <tr style=\"text-align: right;\">\n",
              "      <th></th>\n",
              "      <th>date</th>\n",
              "      <th>store_nbr</th>\n",
              "      <th>family</th>\n",
              "      <th>sales</th>\n",
              "      <th>onpromotion</th>\n",
              "      <th>city</th>\n",
              "      <th>state</th>\n",
              "      <th>type_x</th>\n",
              "      <th>cluster</th>\n",
              "      <th>oil_price</th>\n",
              "      <th>type_y</th>\n",
              "    </tr>\n",
              "  </thead>\n",
              "  <tbody>\n",
              "    <tr>\n",
              "      <th>0</th>\n",
              "      <td>2013-01-01</td>\n",
              "      <td>1</td>\n",
              "      <td>AUTOMOTIVE</td>\n",
              "      <td>0.0</td>\n",
              "      <td>0.0</td>\n",
              "      <td>Quito</td>\n",
              "      <td>Pichincha</td>\n",
              "      <td>D</td>\n",
              "      <td>13</td>\n",
              "      <td>93.14</td>\n",
              "      <td>Holiday</td>\n",
              "    </tr>\n",
              "    <tr>\n",
              "      <th>1</th>\n",
              "      <td>2013-01-01</td>\n",
              "      <td>1</td>\n",
              "      <td>BABY CARE</td>\n",
              "      <td>0.0</td>\n",
              "      <td>0.0</td>\n",
              "      <td>Quito</td>\n",
              "      <td>Pichincha</td>\n",
              "      <td>D</td>\n",
              "      <td>13</td>\n",
              "      <td>93.14</td>\n",
              "      <td>Holiday</td>\n",
              "    </tr>\n",
              "    <tr>\n",
              "      <th>2</th>\n",
              "      <td>2013-01-01</td>\n",
              "      <td>1</td>\n",
              "      <td>BEAUTY</td>\n",
              "      <td>0.0</td>\n",
              "      <td>0.0</td>\n",
              "      <td>Quito</td>\n",
              "      <td>Pichincha</td>\n",
              "      <td>D</td>\n",
              "      <td>13</td>\n",
              "      <td>93.14</td>\n",
              "      <td>Holiday</td>\n",
              "    </tr>\n",
              "    <tr>\n",
              "      <th>3</th>\n",
              "      <td>2013-01-01</td>\n",
              "      <td>1</td>\n",
              "      <td>BEVERAGES</td>\n",
              "      <td>0.0</td>\n",
              "      <td>0.0</td>\n",
              "      <td>Quito</td>\n",
              "      <td>Pichincha</td>\n",
              "      <td>D</td>\n",
              "      <td>13</td>\n",
              "      <td>93.14</td>\n",
              "      <td>Holiday</td>\n",
              "    </tr>\n",
              "    <tr>\n",
              "      <th>4</th>\n",
              "      <td>2013-01-01</td>\n",
              "      <td>1</td>\n",
              "      <td>BOOKS</td>\n",
              "      <td>0.0</td>\n",
              "      <td>0.0</td>\n",
              "      <td>Quito</td>\n",
              "      <td>Pichincha</td>\n",
              "      <td>D</td>\n",
              "      <td>13</td>\n",
              "      <td>93.14</td>\n",
              "      <td>Holiday</td>\n",
              "    </tr>\n",
              "  </tbody>\n",
              "</table>\n",
              "</div>"
            ],
            "text/plain": [
              "        date  store_nbr      family  sales  onpromotion   city      state  \\\n",
              "0 2013-01-01          1  AUTOMOTIVE    0.0          0.0  Quito  Pichincha   \n",
              "1 2013-01-01          1   BABY CARE    0.0          0.0  Quito  Pichincha   \n",
              "2 2013-01-01          1      BEAUTY    0.0          0.0  Quito  Pichincha   \n",
              "3 2013-01-01          1   BEVERAGES    0.0          0.0  Quito  Pichincha   \n",
              "4 2013-01-01          1       BOOKS    0.0          0.0  Quito  Pichincha   \n",
              "\n",
              "  type_x  cluster  oil_price   type_y  \n",
              "0      D       13      93.14  Holiday  \n",
              "1      D       13      93.14  Holiday  \n",
              "2      D       13      93.14  Holiday  \n",
              "3      D       13      93.14  Holiday  \n",
              "4      D       13      93.14  Holiday  "
            ]
          },
          "execution_count": 33,
          "metadata": {},
          "output_type": "execute_result"
        }
      ],
      "source": [
        "#merging merged2 with holidays\n",
        "merged3=merged2.merge(holidays,\n",
        "    how='left', \n",
        "    on=['date'])\n",
        "\n",
        "print(merged3.shape)\n",
        "merged3.head()"
      ]
    },
    {
      "attachments": {},
      "cell_type": "markdown",
      "metadata": {},
      "source": [
        "## 6.What analysis can we get from the date and its extractable features?"
      ]
    },
    {
      "cell_type": "code",
      "execution_count": 34,
      "metadata": {},
      "outputs": [],
      "source": [
        "def getDateFeatures(df):\n",
        "    \n",
        "    df['month'] = df['date'].dt.month\n",
        "    df['day_of_month'] = df['date'].dt.day\n",
        "    df['day_of_year'] = df['date'].dt.dayofyear\n",
        "    df['week_of_year'] = df['date'].dt.isocalendar().week\n",
        "    df['week_of_year'] = df['week_of_year'].astype(float)\n",
        "    df['day_of_week'] = df['date'].dt.dayofweek\n",
        "    df['year'] = df['date'].dt.year\n",
        "    df[\"is_weekend\"] = np.where(df['day_of_week'] > 4, 1, 0)\n",
        "    df['is_month_start'] = df['date'].dt.is_month_start.astype(int)\n",
        "    df['quarter'] = df['date'].dt.quarter\n",
        "    df['is_month_end'] = df['date'].dt.is_month_end.astype(int)\n",
        "    df['is_quarter_start'] = df['date'].dt.is_quarter_start.astype(int)\n",
        "    df['is_quarter_end'] = df['date'].dt.is_quarter_end.astype(int)\n",
        "    df['is_year_start'] = df['date'].dt.is_year_start.astype(int)\n",
        "    df['is_year_end'] = df['date'].dt.is_year_end.astype(int)\n",
        "\n",
        "    df[\"season\"] = np.where(df.month.isin([12,1,2]), 0, 1)\n",
        "    df[\"season\"] = np.where(df.month.isin([6,7,8]), 2, df[\"season\"])\n",
        "    df[\"season\"] = pd.Series(np.where(df.month.isin([9, 10, 11]), 3, df[\"season\"])).astype(\"int8\")\n",
        "    df['pay_day'] = np.where((df['day_of_month']==15) | (df['is_month_end']==1), 1, 0)\n",
        "    df['earthquake_impact'] = np.where(df['date'].isin(\n",
        "        pd.date_range(start='2016-04-16', end='2016-12-31', freq='D')), 1, 0)\n",
        "\n",
        "    return df"
      ]
    },
    {
      "attachments": {},
      "cell_type": "markdown",
      "metadata": {},
      "source": [
        "## 7.  What is the difference between RMSLE, RMSE, MSE (or why is the MAE greater than all of them?)\n",
        "MSLE value will only consider the relative error between Predicted \n",
        "\n",
        "and the actual value neglecting the scale of data. \n",
        "\n",
        "But RMSE value will increase in magnitude if the scale of error increases\n",
        "\n",
        "RMSE returns the error in terms of the target it is predicting, \n",
        "\n",
        "whereas MSE does not and is thus much more difficult to interpret.\n",
        "\n",
        "MSE is more sensitive to outliers in absolute terms as it is the mean of the squared difference."
      ]
    },
    {
      "cell_type": "markdown",
      "metadata": {},
      "source": [
        "## Issues with the data\n",
        "1. missing values in our oil data before merging\n",
        "2. We need some categorical columns for our model\n",
        "3. The data has a lot of missing values after merging"
      ]
    },
    {
      "cell_type": "markdown",
      "metadata": {},
      "source": [
        "## How to fix them\n",
        "1. We leave them for now\n",
        "2. We have to do some encoding\n",
        "3. For time series data, we most likely fill with the value closest to it, but overall, we have to be very careful"
      ]
    },
    {
      "attachments": {},
      "cell_type": "markdown",
      "metadata": {},
      "source": [
        "# Feature Processing & Engineering"
      ]
    },
    {
      "cell_type": "markdown",
      "metadata": {},
      "source": [
        "## Impute Missing Values"
      ]
    },
    {
      "cell_type": "markdown",
      "metadata": {},
      "source": [
        "first, lets have a quick overview before deciding how to handle missing values"
      ]
    },
    {
      "cell_type": "code",
      "execution_count": 35,
      "metadata": {},
      "outputs": [
        {
          "data": {
            "text/plain": [
              "date                 0\n",
              "store_nbr            0\n",
              "family               0\n",
              "sales                0\n",
              "onpromotion          0\n",
              "city                 0\n",
              "state                0\n",
              "type_x               0\n",
              "cluster              0\n",
              "oil_price            0\n",
              "type_y         2567862\n",
              "dtype: int64"
            ]
          },
          "execution_count": 35,
          "metadata": {},
          "output_type": "execute_result"
        }
      ],
      "source": [
        "merged3.isnull().sum()"
      ]
    },
    {
      "attachments": {},
      "cell_type": "markdown",
      "metadata": {},
      "source": [
        "since non-holidays are work days, let's impute the last column"
      ]
    },
    {
      "cell_type": "code",
      "execution_count": 36,
      "metadata": {},
      "outputs": [
        {
          "data": {
            "text/plain": [
              "array(['Holiday', nan, 'Work Day', 'Additional', 'Event', 'Transfer',\n",
              "       'Bridge'], dtype=object)"
            ]
          },
          "execution_count": 36,
          "metadata": {},
          "output_type": "execute_result"
        }
      ],
      "source": [
        "merged3['type_y'].unique()"
      ]
    },
    {
      "cell_type": "code",
      "execution_count": 37,
      "metadata": {},
      "outputs": [
        {
          "name": "stdout",
          "output_type": "stream",
          "text": [
            "date              5\n",
            "store_nbr        54\n",
            "family           33\n",
            "sales          2524\n",
            "onpromotion      91\n",
            "city             22\n",
            "state            16\n",
            "type_x            5\n",
            "cluster          17\n",
            "oil_price         1\n",
            "type_y            1\n",
            "dtype: int64\n"
          ]
        },
        {
          "data": {
            "text/html": [
              "<div>\n",
              "<style scoped>\n",
              "    .dataframe tbody tr th:only-of-type {\n",
              "        vertical-align: middle;\n",
              "    }\n",
              "\n",
              "    .dataframe tbody tr th {\n",
              "        vertical-align: top;\n",
              "    }\n",
              "\n",
              "    .dataframe thead th {\n",
              "        text-align: right;\n",
              "    }\n",
              "</style>\n",
              "<table border=\"1\" class=\"dataframe\">\n",
              "  <thead>\n",
              "    <tr style=\"text-align: right;\">\n",
              "      <th></th>\n",
              "      <th>date</th>\n",
              "      <th>store_nbr</th>\n",
              "      <th>family</th>\n",
              "      <th>sales</th>\n",
              "      <th>onpromotion</th>\n",
              "      <th>city</th>\n",
              "      <th>state</th>\n",
              "      <th>type_x</th>\n",
              "      <th>cluster</th>\n",
              "      <th>oil_price</th>\n",
              "      <th>type_y</th>\n",
              "    </tr>\n",
              "  </thead>\n",
              "  <tbody>\n",
              "    <tr>\n",
              "      <th>7128</th>\n",
              "      <td>2013-01-05</td>\n",
              "      <td>1</td>\n",
              "      <td>AUTOMOTIVE</td>\n",
              "      <td>5.000</td>\n",
              "      <td>0.0</td>\n",
              "      <td>Quito</td>\n",
              "      <td>Pichincha</td>\n",
              "      <td>D</td>\n",
              "      <td>13</td>\n",
              "      <td>47.26</td>\n",
              "      <td>Work Day</td>\n",
              "    </tr>\n",
              "    <tr>\n",
              "      <th>7129</th>\n",
              "      <td>2013-01-05</td>\n",
              "      <td>1</td>\n",
              "      <td>BABY CARE</td>\n",
              "      <td>0.000</td>\n",
              "      <td>0.0</td>\n",
              "      <td>Quito</td>\n",
              "      <td>Pichincha</td>\n",
              "      <td>D</td>\n",
              "      <td>13</td>\n",
              "      <td>47.26</td>\n",
              "      <td>Work Day</td>\n",
              "    </tr>\n",
              "    <tr>\n",
              "      <th>7130</th>\n",
              "      <td>2013-01-05</td>\n",
              "      <td>1</td>\n",
              "      <td>BEAUTY</td>\n",
              "      <td>3.000</td>\n",
              "      <td>0.0</td>\n",
              "      <td>Quito</td>\n",
              "      <td>Pichincha</td>\n",
              "      <td>D</td>\n",
              "      <td>13</td>\n",
              "      <td>47.26</td>\n",
              "      <td>Work Day</td>\n",
              "    </tr>\n",
              "    <tr>\n",
              "      <th>7131</th>\n",
              "      <td>2013-01-05</td>\n",
              "      <td>1</td>\n",
              "      <td>BEVERAGES</td>\n",
              "      <td>1160.000</td>\n",
              "      <td>0.0</td>\n",
              "      <td>Quito</td>\n",
              "      <td>Pichincha</td>\n",
              "      <td>D</td>\n",
              "      <td>13</td>\n",
              "      <td>47.26</td>\n",
              "      <td>Work Day</td>\n",
              "    </tr>\n",
              "    <tr>\n",
              "      <th>7132</th>\n",
              "      <td>2013-01-05</td>\n",
              "      <td>1</td>\n",
              "      <td>BOOKS</td>\n",
              "      <td>0.000</td>\n",
              "      <td>0.0</td>\n",
              "      <td>Quito</td>\n",
              "      <td>Pichincha</td>\n",
              "      <td>D</td>\n",
              "      <td>13</td>\n",
              "      <td>47.26</td>\n",
              "      <td>Work Day</td>\n",
              "    </tr>\n",
              "    <tr>\n",
              "      <th>...</th>\n",
              "      <td>...</td>\n",
              "      <td>...</td>\n",
              "      <td>...</td>\n",
              "      <td>...</td>\n",
              "      <td>...</td>\n",
              "      <td>...</td>\n",
              "      <td>...</td>\n",
              "      <td>...</td>\n",
              "      <td>...</td>\n",
              "      <td>...</td>\n",
              "      <td>...</td>\n",
              "    </tr>\n",
              "    <tr>\n",
              "      <th>2555379</th>\n",
              "      <td>2016-11-12</td>\n",
              "      <td>9</td>\n",
              "      <td>POULTRY</td>\n",
              "      <td>529.684</td>\n",
              "      <td>1.0</td>\n",
              "      <td>Quito</td>\n",
              "      <td>Pichincha</td>\n",
              "      <td>B</td>\n",
              "      <td>6</td>\n",
              "      <td>47.26</td>\n",
              "      <td>Work Day</td>\n",
              "    </tr>\n",
              "    <tr>\n",
              "      <th>2555381</th>\n",
              "      <td>2016-11-12</td>\n",
              "      <td>9</td>\n",
              "      <td>PREPARED FOODS</td>\n",
              "      <td>158.774</td>\n",
              "      <td>2.0</td>\n",
              "      <td>Quito</td>\n",
              "      <td>Pichincha</td>\n",
              "      <td>B</td>\n",
              "      <td>6</td>\n",
              "      <td>47.26</td>\n",
              "      <td>Work Day</td>\n",
              "    </tr>\n",
              "    <tr>\n",
              "      <th>2555383</th>\n",
              "      <td>2016-11-12</td>\n",
              "      <td>9</td>\n",
              "      <td>PRODUCE</td>\n",
              "      <td>1618.001</td>\n",
              "      <td>2.0</td>\n",
              "      <td>Quito</td>\n",
              "      <td>Pichincha</td>\n",
              "      <td>B</td>\n",
              "      <td>6</td>\n",
              "      <td>47.26</td>\n",
              "      <td>Work Day</td>\n",
              "    </tr>\n",
              "    <tr>\n",
              "      <th>2555385</th>\n",
              "      <td>2016-11-12</td>\n",
              "      <td>9</td>\n",
              "      <td>SCHOOL AND OFFICE SUPPLIES</td>\n",
              "      <td>3.000</td>\n",
              "      <td>0.0</td>\n",
              "      <td>Quito</td>\n",
              "      <td>Pichincha</td>\n",
              "      <td>B</td>\n",
              "      <td>6</td>\n",
              "      <td>47.26</td>\n",
              "      <td>Work Day</td>\n",
              "    </tr>\n",
              "    <tr>\n",
              "      <th>2555387</th>\n",
              "      <td>2016-11-12</td>\n",
              "      <td>9</td>\n",
              "      <td>SEAFOOD</td>\n",
              "      <td>18.678</td>\n",
              "      <td>3.0</td>\n",
              "      <td>Quito</td>\n",
              "      <td>Pichincha</td>\n",
              "      <td>B</td>\n",
              "      <td>6</td>\n",
              "      <td>47.26</td>\n",
              "      <td>Work Day</td>\n",
              "    </tr>\n",
              "  </tbody>\n",
              "</table>\n",
              "<p>8910 rows × 11 columns</p>\n",
              "</div>"
            ],
            "text/plain": [
              "              date  store_nbr                      family     sales  \\\n",
              "7128    2013-01-05          1                  AUTOMOTIVE     5.000   \n",
              "7129    2013-01-05          1                   BABY CARE     0.000   \n",
              "7130    2013-01-05          1                      BEAUTY     3.000   \n",
              "7131    2013-01-05          1                   BEVERAGES  1160.000   \n",
              "7132    2013-01-05          1                       BOOKS     0.000   \n",
              "...            ...        ...                         ...       ...   \n",
              "2555379 2016-11-12          9                     POULTRY   529.684   \n",
              "2555381 2016-11-12          9              PREPARED FOODS   158.774   \n",
              "2555383 2016-11-12          9                     PRODUCE  1618.001   \n",
              "2555385 2016-11-12          9  SCHOOL AND OFFICE SUPPLIES     3.000   \n",
              "2555387 2016-11-12          9                     SEAFOOD    18.678   \n",
              "\n",
              "         onpromotion   city      state type_x  cluster  oil_price    type_y  \n",
              "7128             0.0  Quito  Pichincha      D       13      47.26  Work Day  \n",
              "7129             0.0  Quito  Pichincha      D       13      47.26  Work Day  \n",
              "7130             0.0  Quito  Pichincha      D       13      47.26  Work Day  \n",
              "7131             0.0  Quito  Pichincha      D       13      47.26  Work Day  \n",
              "7132             0.0  Quito  Pichincha      D       13      47.26  Work Day  \n",
              "...              ...    ...        ...    ...      ...        ...       ...  \n",
              "2555379          1.0  Quito  Pichincha      B        6      47.26  Work Day  \n",
              "2555381          2.0  Quito  Pichincha      B        6      47.26  Work Day  \n",
              "2555383          2.0  Quito  Pichincha      B        6      47.26  Work Day  \n",
              "2555385          0.0  Quito  Pichincha      B        6      47.26  Work Day  \n",
              "2555387          3.0  Quito  Pichincha      B        6      47.26  Work Day  \n",
              "\n",
              "[8910 rows x 11 columns]"
            ]
          },
          "execution_count": 37,
          "metadata": {},
          "output_type": "execute_result"
        }
      ],
      "source": [
        "work_days = merged3[merged3['type_y'] == 'Work Day']\n",
        "print(work_days.nunique())\n",
        "work_days"
      ]
    },
    {
      "cell_type": "code",
      "execution_count": 38,
      "metadata": {},
      "outputs": [],
      "source": [
        "# Fill missing holiday rows with work days\n",
        "imputer = SimpleImputer(missing_values=np.NaN, strategy='constant', fill_value='Work Day')\n",
        "merged3['type_y'] = imputer.fit_transform(merged3[['type_y']])"
      ]
    },
    {
      "cell_type": "code",
      "execution_count": 39,
      "metadata": {},
      "outputs": [
        {
          "data": {
            "text/plain": [
              "date           0\n",
              "store_nbr      0\n",
              "family         0\n",
              "sales          0\n",
              "onpromotion    0\n",
              "city           0\n",
              "state          0\n",
              "type_x         0\n",
              "cluster        0\n",
              "oil_price      0\n",
              "type_y         0\n",
              "dtype: int64"
            ]
          },
          "execution_count": 39,
          "metadata": {},
          "output_type": "execute_result"
        }
      ],
      "source": [
        "merged3.isna().sum()"
      ]
    },
    {
      "cell_type": "markdown",
      "metadata": {},
      "source": [
        "## New Features Creation"
      ]
    },
    {
      "cell_type": "code",
      "execution_count": null,
      "metadata": {},
      "outputs": [],
      "source": [
        "merged3.to_csv('merged_train_data.csv', index=False)"
      ]
    },
    {
      "cell_type": "code",
      "execution_count": 40,
      "metadata": {},
      "outputs": [],
      "source": [
        "merged3 = getDateFeatures(merged3)"
      ]
    },
    {
      "attachments": {},
      "cell_type": "markdown",
      "metadata": {},
      "source": [
        "let's make the date column the index"
      ]
    },
    {
      "cell_type": "code",
      "execution_count": 41,
      "metadata": {},
      "outputs": [],
      "source": [
        "merged3=merged3.set_index(['date'])"
      ]
    },
    {
      "attachments": {},
      "cell_type": "markdown",
      "metadata": {},
      "source": [
        "## Features Encoding & scaling"
      ]
    },
    {
      "cell_type": "code",
      "execution_count": 42,
      "metadata": {},
      "outputs": [
        {
          "data": {
            "text/html": [
              "<div>\n",
              "<style scoped>\n",
              "    .dataframe tbody tr th:only-of-type {\n",
              "        vertical-align: middle;\n",
              "    }\n",
              "\n",
              "    .dataframe tbody tr th {\n",
              "        vertical-align: top;\n",
              "    }\n",
              "\n",
              "    .dataframe thead th {\n",
              "        text-align: right;\n",
              "    }\n",
              "</style>\n",
              "<table border=\"1\" class=\"dataframe\">\n",
              "  <thead>\n",
              "    <tr style=\"text-align: right;\">\n",
              "      <th></th>\n",
              "      <th>store_nbr</th>\n",
              "      <th>family</th>\n",
              "      <th>sales</th>\n",
              "      <th>onpromotion</th>\n",
              "      <th>city</th>\n",
              "      <th>state</th>\n",
              "      <th>type_x</th>\n",
              "      <th>cluster</th>\n",
              "      <th>oil_price</th>\n",
              "      <th>type_y</th>\n",
              "      <th>...</th>\n",
              "      <th>is_month_start</th>\n",
              "      <th>quarter</th>\n",
              "      <th>is_month_end</th>\n",
              "      <th>is_quarter_start</th>\n",
              "      <th>is_quarter_end</th>\n",
              "      <th>is_year_start</th>\n",
              "      <th>is_year_end</th>\n",
              "      <th>season</th>\n",
              "      <th>pay_day</th>\n",
              "      <th>earthquake_impact</th>\n",
              "    </tr>\n",
              "    <tr>\n",
              "      <th>date</th>\n",
              "      <th></th>\n",
              "      <th></th>\n",
              "      <th></th>\n",
              "      <th></th>\n",
              "      <th></th>\n",
              "      <th></th>\n",
              "      <th></th>\n",
              "      <th></th>\n",
              "      <th></th>\n",
              "      <th></th>\n",
              "      <th></th>\n",
              "      <th></th>\n",
              "      <th></th>\n",
              "      <th></th>\n",
              "      <th></th>\n",
              "      <th></th>\n",
              "      <th></th>\n",
              "      <th></th>\n",
              "      <th></th>\n",
              "      <th></th>\n",
              "      <th></th>\n",
              "    </tr>\n",
              "  </thead>\n",
              "  <tbody>\n",
              "    <tr>\n",
              "      <th>2013-01-01</th>\n",
              "      <td>1</td>\n",
              "      <td>AUTOMOTIVE</td>\n",
              "      <td>0.0</td>\n",
              "      <td>0.0</td>\n",
              "      <td>Quito</td>\n",
              "      <td>Pichincha</td>\n",
              "      <td>D</td>\n",
              "      <td>13</td>\n",
              "      <td>93.14</td>\n",
              "      <td>Holiday</td>\n",
              "      <td>...</td>\n",
              "      <td>1</td>\n",
              "      <td>1</td>\n",
              "      <td>0</td>\n",
              "      <td>1</td>\n",
              "      <td>0</td>\n",
              "      <td>1</td>\n",
              "      <td>0</td>\n",
              "      <td>0</td>\n",
              "      <td>0</td>\n",
              "      <td>0</td>\n",
              "    </tr>\n",
              "    <tr>\n",
              "      <th>2013-01-01</th>\n",
              "      <td>1</td>\n",
              "      <td>BABY CARE</td>\n",
              "      <td>0.0</td>\n",
              "      <td>0.0</td>\n",
              "      <td>Quito</td>\n",
              "      <td>Pichincha</td>\n",
              "      <td>D</td>\n",
              "      <td>13</td>\n",
              "      <td>93.14</td>\n",
              "      <td>Holiday</td>\n",
              "      <td>...</td>\n",
              "      <td>1</td>\n",
              "      <td>1</td>\n",
              "      <td>0</td>\n",
              "      <td>1</td>\n",
              "      <td>0</td>\n",
              "      <td>1</td>\n",
              "      <td>0</td>\n",
              "      <td>0</td>\n",
              "      <td>0</td>\n",
              "      <td>0</td>\n",
              "    </tr>\n",
              "  </tbody>\n",
              "</table>\n",
              "<p>2 rows × 27 columns</p>\n",
              "</div>"
            ],
            "text/plain": [
              "            store_nbr      family  sales  onpromotion   city      state  \\\n",
              "date                                                                      \n",
              "2013-01-01          1  AUTOMOTIVE    0.0          0.0  Quito  Pichincha   \n",
              "2013-01-01          1   BABY CARE    0.0          0.0  Quito  Pichincha   \n",
              "\n",
              "           type_x  cluster  oil_price   type_y  ...  is_month_start  quarter  \\\n",
              "date                                            ...                            \n",
              "2013-01-01      D       13      93.14  Holiday  ...               1        1   \n",
              "2013-01-01      D       13      93.14  Holiday  ...               1        1   \n",
              "\n",
              "            is_month_end  is_quarter_start  is_quarter_end  is_year_start  \\\n",
              "date                                                                        \n",
              "2013-01-01             0                 1               0              1   \n",
              "2013-01-01             0                 1               0              1   \n",
              "\n",
              "            is_year_end  season  pay_day  earthquake_impact  \n",
              "date                                                         \n",
              "2013-01-01            0       0        0                  0  \n",
              "2013-01-01            0       0        0                  0  \n",
              "\n",
              "[2 rows x 27 columns]"
            ]
          },
          "execution_count": 42,
          "metadata": {},
          "output_type": "execute_result"
        }
      ],
      "source": [
        "merged3.head(2)"
      ]
    },
    {
      "cell_type": "code",
      "execution_count": 43,
      "metadata": {},
      "outputs": [
        {
          "data": {
            "text/plain": [
              "array([93.14 , 92.97 , 93.12 , ..., 99.025, 55.145, 36.99 ])"
            ]
          },
          "execution_count": 43,
          "metadata": {},
          "output_type": "execute_result"
        }
      ],
      "source": [
        "merged3.oil_price.unique()"
      ]
    },
    {
      "cell_type": "code",
      "execution_count": 44,
      "metadata": {},
      "outputs": [],
      "source": [
        "categoric_columns = ['family', 'city', 'state', 'type_y', 'type_x']\n",
        "columns = list(merged3.columns) \n",
        "numeric_columns = [i for i in columns if i not in categoric_columns]"
      ]
    },
    {
      "cell_type": "code",
      "execution_count": 45,
      "metadata": {},
      "outputs": [
        {
          "name": "stdout",
          "output_type": "stream",
          "text": [
            "['store_nbr', 'onpromotion', 'cluster', 'oil_price', 'month', 'day_of_month', 'day_of_year', 'week_of_year', 'day_of_week', 'year', 'is_weekend', 'is_month_start', 'quarter', 'is_month_end', 'is_quarter_start', 'is_quarter_end', 'is_year_start', 'is_year_end', 'season', 'pay_day', 'earthquake_impact']\n"
          ]
        }
      ],
      "source": [
        "numeric_columns.remove('sales')\n",
        "print(numeric_columns)"
      ]
    },
    {
      "cell_type": "code",
      "execution_count": 46,
      "metadata": {},
      "outputs": [
        {
          "data": {
            "text/html": [
              "<style>#sk-container-id-1 {color: black;background-color: white;}#sk-container-id-1 pre{padding: 0;}#sk-container-id-1 div.sk-toggleable {background-color: white;}#sk-container-id-1 label.sk-toggleable__label {cursor: pointer;display: block;width: 100%;margin-bottom: 0;padding: 0.3em;box-sizing: border-box;text-align: center;}#sk-container-id-1 label.sk-toggleable__label-arrow:before {content: \"▸\";float: left;margin-right: 0.25em;color: #696969;}#sk-container-id-1 label.sk-toggleable__label-arrow:hover:before {color: black;}#sk-container-id-1 div.sk-estimator:hover label.sk-toggleable__label-arrow:before {color: black;}#sk-container-id-1 div.sk-toggleable__content {max-height: 0;max-width: 0;overflow: hidden;text-align: left;background-color: #f0f8ff;}#sk-container-id-1 div.sk-toggleable__content pre {margin: 0.2em;color: black;border-radius: 0.25em;background-color: #f0f8ff;}#sk-container-id-1 input.sk-toggleable__control:checked~div.sk-toggleable__content {max-height: 200px;max-width: 100%;overflow: auto;}#sk-container-id-1 input.sk-toggleable__control:checked~label.sk-toggleable__label-arrow:before {content: \"▾\";}#sk-container-id-1 div.sk-estimator input.sk-toggleable__control:checked~label.sk-toggleable__label {background-color: #d4ebff;}#sk-container-id-1 div.sk-label input.sk-toggleable__control:checked~label.sk-toggleable__label {background-color: #d4ebff;}#sk-container-id-1 input.sk-hidden--visually {border: 0;clip: rect(1px 1px 1px 1px);clip: rect(1px, 1px, 1px, 1px);height: 1px;margin: -1px;overflow: hidden;padding: 0;position: absolute;width: 1px;}#sk-container-id-1 div.sk-estimator {font-family: monospace;background-color: #f0f8ff;border: 1px dotted black;border-radius: 0.25em;box-sizing: border-box;margin-bottom: 0.5em;}#sk-container-id-1 div.sk-estimator:hover {background-color: #d4ebff;}#sk-container-id-1 div.sk-parallel-item::after {content: \"\";width: 100%;border-bottom: 1px solid gray;flex-grow: 1;}#sk-container-id-1 div.sk-label:hover label.sk-toggleable__label {background-color: #d4ebff;}#sk-container-id-1 div.sk-serial::before {content: \"\";position: absolute;border-left: 1px solid gray;box-sizing: border-box;top: 0;bottom: 0;left: 50%;z-index: 0;}#sk-container-id-1 div.sk-serial {display: flex;flex-direction: column;align-items: center;background-color: white;padding-right: 0.2em;padding-left: 0.2em;position: relative;}#sk-container-id-1 div.sk-item {position: relative;z-index: 1;}#sk-container-id-1 div.sk-parallel {display: flex;align-items: stretch;justify-content: center;background-color: white;position: relative;}#sk-container-id-1 div.sk-item::before, #sk-container-id-1 div.sk-parallel-item::before {content: \"\";position: absolute;border-left: 1px solid gray;box-sizing: border-box;top: 0;bottom: 0;left: 50%;z-index: -1;}#sk-container-id-1 div.sk-parallel-item {display: flex;flex-direction: column;z-index: 1;position: relative;background-color: white;}#sk-container-id-1 div.sk-parallel-item:first-child::after {align-self: flex-end;width: 50%;}#sk-container-id-1 div.sk-parallel-item:last-child::after {align-self: flex-start;width: 50%;}#sk-container-id-1 div.sk-parallel-item:only-child::after {width: 0;}#sk-container-id-1 div.sk-dashed-wrapped {border: 1px dashed gray;margin: 0 0.4em 0.5em 0.4em;box-sizing: border-box;padding-bottom: 0.4em;background-color: white;}#sk-container-id-1 div.sk-label label {font-family: monospace;font-weight: bold;display: inline-block;line-height: 1.2em;}#sk-container-id-1 div.sk-label-container {text-align: center;}#sk-container-id-1 div.sk-container {/* jupyter's `normalize.less` sets `[hidden] { display: none; }` but bootstrap.min.css set `[hidden] { display: none !important; }` so we also need the `!important` here to be able to override the default hidden behavior on the sphinx rendered scikit-learn.org. See: https://github.com/scikit-learn/scikit-learn/issues/21755 */display: inline-block !important;position: relative;}#sk-container-id-1 div.sk-text-repr-fallback {display: none;}</style><div id=\"sk-container-id-1\" class=\"sk-top-container\"><div class=\"sk-text-repr-fallback\"><pre>BinaryEncoder(cols=[&#x27;family&#x27;, &#x27;city&#x27;, &#x27;state&#x27;, &#x27;type_y&#x27;, &#x27;type_x&#x27;],\n",
              "              mapping=[{&#x27;col&#x27;: &#x27;family&#x27;,\n",
              "                        &#x27;mapping&#x27;:      family_0  family_1  family_2  family_3  family_4  family_5\n",
              " 1          0         0         0         0         0         1\n",
              " 2          0         0         0         0         1         0\n",
              " 3          0         0         0         0         1         1\n",
              " 4          0         0         0         1         0         0\n",
              " 5          0         0         0         1         0         1\n",
              " 6          0         0         0         1         1         0\n",
              " 7          0         0         0         1         1         1\n",
              " 8          0         0         1         0         0         0\n",
              " 9          0         0         1         0         0         1\n",
              " 10         0         0         1         0         1         0\n",
              " 11         0         0         1         0         1         1\n",
              " 12         0         0         1         1         0         0\n",
              " 13         0         0         1         1         0         1\n",
              " 14         0         0         1         1         1         0\n",
              " 15         0         0         1         1         1         1\n",
              " 16         0         1         0         0         0         0\n",
              " 17         0         1         0         0         0         1\n",
              " 18         0         1         0         0         1         0\n",
              " 19         0         1         0         0         1         1\n",
              " 20         0         1         0         1         0         0\n",
              " 21         0         1         0         1         0         1\n",
              " 22         0         1         0         1         1         0\n",
              " 23         0         1         0         1         1         1\n",
              " 24         0         1         1         0         0         0\n",
              " 25         0         1         1         0         0         1\n",
              " 26         0         1         1         0         1         0\n",
              " 27         0         1         1...\n",
              "-2        0       0       0       0       0},\n",
              "                       {&#x27;col&#x27;: &#x27;state&#x27;,\n",
              "                        &#x27;mapping&#x27;:      state_0  state_1  state_2  state_3  state_4\n",
              " 1         0        0        0        0        1\n",
              " 2         0        0        0        1        0\n",
              " 3         0        0        0        1        1\n",
              " 4         0        0        1        0        0\n",
              " 5         0        0        1        0        1\n",
              " 6         0        0        1        1        0\n",
              " 7         0        0        1        1        1\n",
              " 8         0        1        0        0        0\n",
              " 9         0        1        0        0        1\n",
              " 10        0        1        0        1        0\n",
              " 11        0        1        0        1        1\n",
              " 12        0        1        1        0        0\n",
              " 13        0        1        1        0        1\n",
              " 14        0        1        1        1        0\n",
              " 15        0        1        1        1        1\n",
              " 16        1        0        0        0        0\n",
              "-1         0        0        0        0        0\n",
              "-2         0        0        0        0        0},\n",
              "                       {&#x27;col&#x27;: &#x27;type_y&#x27;,\n",
              "                        &#x27;mapping&#x27;:     type_y_0  type_y_1  type_y_2\n",
              " 1         0         0         1\n",
              " 2         0         1         0\n",
              " 3         0         1         1\n",
              " 4         1         0         0\n",
              " 5         1         0         1\n",
              " 6         1         1         0\n",
              "-1         0         0         0\n",
              "-2         0         0         0},\n",
              "                       {&#x27;col&#x27;: &#x27;type_x&#x27;,\n",
              "                        &#x27;mapping&#x27;:     type_x_0  type_x_1  type_x_2\n",
              " 1         0         0         1\n",
              " 2         0         1         0\n",
              " 3         0         1         1\n",
              " 4         1         0         0\n",
              " 5         1         0         1\n",
              "-1         0         0         0\n",
              "-2         0         0         0}])</pre><b>In a Jupyter environment, please rerun this cell to show the HTML representation or trust the notebook. <br />On GitHub, the HTML representation is unable to render, please try loading this page with nbviewer.org.</b></div><div class=\"sk-container\" hidden><div class=\"sk-item\"><div class=\"sk-estimator sk-toggleable\"><input class=\"sk-toggleable__control sk-hidden--visually\" id=\"sk-estimator-id-1\" type=\"checkbox\" checked><label for=\"sk-estimator-id-1\" class=\"sk-toggleable__label sk-toggleable__label-arrow\">BinaryEncoder</label><div class=\"sk-toggleable__content\"><pre>BinaryEncoder(cols=[&#x27;family&#x27;, &#x27;city&#x27;, &#x27;state&#x27;, &#x27;type_y&#x27;, &#x27;type_x&#x27;],\n",
              "              mapping=[{&#x27;col&#x27;: &#x27;family&#x27;,\n",
              "                        &#x27;mapping&#x27;:      family_0  family_1  family_2  family_3  family_4  family_5\n",
              " 1          0         0         0         0         0         1\n",
              " 2          0         0         0         0         1         0\n",
              " 3          0         0         0         0         1         1\n",
              " 4          0         0         0         1         0         0\n",
              " 5          0         0         0         1         0         1\n",
              " 6          0         0         0         1         1         0\n",
              " 7          0         0         0         1         1         1\n",
              " 8          0         0         1         0         0         0\n",
              " 9          0         0         1         0         0         1\n",
              " 10         0         0         1         0         1         0\n",
              " 11         0         0         1         0         1         1\n",
              " 12         0         0         1         1         0         0\n",
              " 13         0         0         1         1         0         1\n",
              " 14         0         0         1         1         1         0\n",
              " 15         0         0         1         1         1         1\n",
              " 16         0         1         0         0         0         0\n",
              " 17         0         1         0         0         0         1\n",
              " 18         0         1         0         0         1         0\n",
              " 19         0         1         0         0         1         1\n",
              " 20         0         1         0         1         0         0\n",
              " 21         0         1         0         1         0         1\n",
              " 22         0         1         0         1         1         0\n",
              " 23         0         1         0         1         1         1\n",
              " 24         0         1         1         0         0         0\n",
              " 25         0         1         1         0         0         1\n",
              " 26         0         1         1         0         1         0\n",
              " 27         0         1         1...\n",
              "-2        0       0       0       0       0},\n",
              "                       {&#x27;col&#x27;: &#x27;state&#x27;,\n",
              "                        &#x27;mapping&#x27;:      state_0  state_1  state_2  state_3  state_4\n",
              " 1         0        0        0        0        1\n",
              " 2         0        0        0        1        0\n",
              " 3         0        0        0        1        1\n",
              " 4         0        0        1        0        0\n",
              " 5         0        0        1        0        1\n",
              " 6         0        0        1        1        0\n",
              " 7         0        0        1        1        1\n",
              " 8         0        1        0        0        0\n",
              " 9         0        1        0        0        1\n",
              " 10        0        1        0        1        0\n",
              " 11        0        1        0        1        1\n",
              " 12        0        1        1        0        0\n",
              " 13        0        1        1        0        1\n",
              " 14        0        1        1        1        0\n",
              " 15        0        1        1        1        1\n",
              " 16        1        0        0        0        0\n",
              "-1         0        0        0        0        0\n",
              "-2         0        0        0        0        0},\n",
              "                       {&#x27;col&#x27;: &#x27;type_y&#x27;,\n",
              "                        &#x27;mapping&#x27;:     type_y_0  type_y_1  type_y_2\n",
              " 1         0         0         1\n",
              " 2         0         1         0\n",
              " 3         0         1         1\n",
              " 4         1         0         0\n",
              " 5         1         0         1\n",
              " 6         1         1         0\n",
              "-1         0         0         0\n",
              "-2         0         0         0},\n",
              "                       {&#x27;col&#x27;: &#x27;type_x&#x27;,\n",
              "                        &#x27;mapping&#x27;:     type_x_0  type_x_1  type_x_2\n",
              " 1         0         0         1\n",
              " 2         0         1         0\n",
              " 3         0         1         1\n",
              " 4         1         0         0\n",
              " 5         1         0         1\n",
              "-1         0         0         0\n",
              "-2         0         0         0}])</pre></div></div></div></div></div>"
            ],
            "text/plain": [
              "BinaryEncoder(cols=['family', 'city', 'state', 'type_y', 'type_x'],\n",
              "              mapping=[{'col': 'family',\n",
              "                        'mapping':      family_0  family_1  family_2  family_3  family_4  family_5\n",
              " 1          0         0         0         0         0         1\n",
              " 2          0         0         0         0         1         0\n",
              " 3          0         0         0         0         1         1\n",
              " 4          0         0         0         1         0         0\n",
              " 5          0         0         0         1         0         1\n",
              " 6          0         0         0         1         1         0\n",
              " 7          0         0         0         1         1         1\n",
              " 8          0         0         1         0         0         0\n",
              " 9          0         0         1         0         0         1\n",
              " 10         0         0         1         0         1         0\n",
              " 11         0         0         1         0         1         1\n",
              " 12         0         0         1         1         0         0\n",
              " 13         0         0         1         1         0         1\n",
              " 14         0         0         1         1         1         0\n",
              " 15         0         0         1         1         1         1\n",
              " 16         0         1         0         0         0         0\n",
              " 17         0         1         0         0         0         1\n",
              " 18         0         1         0         0         1         0\n",
              " 19         0         1         0         0         1         1\n",
              " 20         0         1         0         1         0         0\n",
              " 21         0         1         0         1         0         1\n",
              " 22         0         1         0         1         1         0\n",
              " 23         0         1         0         1         1         1\n",
              " 24         0         1         1         0         0         0\n",
              " 25         0         1         1         0         0         1\n",
              " 26         0         1         1         0         1         0\n",
              " 27         0         1         1...\n",
              "-2        0       0       0       0       0},\n",
              "                       {'col': 'state',\n",
              "                        'mapping':      state_0  state_1  state_2  state_3  state_4\n",
              " 1         0        0        0        0        1\n",
              " 2         0        0        0        1        0\n",
              " 3         0        0        0        1        1\n",
              " 4         0        0        1        0        0\n",
              " 5         0        0        1        0        1\n",
              " 6         0        0        1        1        0\n",
              " 7         0        0        1        1        1\n",
              " 8         0        1        0        0        0\n",
              " 9         0        1        0        0        1\n",
              " 10        0        1        0        1        0\n",
              " 11        0        1        0        1        1\n",
              " 12        0        1        1        0        0\n",
              " 13        0        1        1        0        1\n",
              " 14        0        1        1        1        0\n",
              " 15        0        1        1        1        1\n",
              " 16        1        0        0        0        0\n",
              "-1         0        0        0        0        0\n",
              "-2         0        0        0        0        0},\n",
              "                       {'col': 'type_y',\n",
              "                        'mapping':     type_y_0  type_y_1  type_y_2\n",
              " 1         0         0         1\n",
              " 2         0         1         0\n",
              " 3         0         1         1\n",
              " 4         1         0         0\n",
              " 5         1         0         1\n",
              " 6         1         1         0\n",
              "-1         0         0         0\n",
              "-2         0         0         0},\n",
              "                       {'col': 'type_x',\n",
              "                        'mapping':     type_x_0  type_x_1  type_x_2\n",
              " 1         0         0         1\n",
              " 2         0         1         0\n",
              " 3         0         1         1\n",
              " 4         1         0         0\n",
              " 5         1         0         1\n",
              "-1         0         0         0\n",
              "-2         0         0         0}])"
            ]
          },
          "execution_count": 46,
          "metadata": {},
          "output_type": "execute_result"
        }
      ],
      "source": [
        "encoder = BinaryEncoder(drop_invariant=False, return_df=True,)\n",
        "encoder.fit(merged3[categoric_columns])"
      ]
    },
    {
      "cell_type": "code",
      "execution_count": 47,
      "metadata": {},
      "outputs": [
        {
          "data": {
            "text/html": [
              "<style>#sk-container-id-2 {color: black;background-color: white;}#sk-container-id-2 pre{padding: 0;}#sk-container-id-2 div.sk-toggleable {background-color: white;}#sk-container-id-2 label.sk-toggleable__label {cursor: pointer;display: block;width: 100%;margin-bottom: 0;padding: 0.3em;box-sizing: border-box;text-align: center;}#sk-container-id-2 label.sk-toggleable__label-arrow:before {content: \"▸\";float: left;margin-right: 0.25em;color: #696969;}#sk-container-id-2 label.sk-toggleable__label-arrow:hover:before {color: black;}#sk-container-id-2 div.sk-estimator:hover label.sk-toggleable__label-arrow:before {color: black;}#sk-container-id-2 div.sk-toggleable__content {max-height: 0;max-width: 0;overflow: hidden;text-align: left;background-color: #f0f8ff;}#sk-container-id-2 div.sk-toggleable__content pre {margin: 0.2em;color: black;border-radius: 0.25em;background-color: #f0f8ff;}#sk-container-id-2 input.sk-toggleable__control:checked~div.sk-toggleable__content {max-height: 200px;max-width: 100%;overflow: auto;}#sk-container-id-2 input.sk-toggleable__control:checked~label.sk-toggleable__label-arrow:before {content: \"▾\";}#sk-container-id-2 div.sk-estimator input.sk-toggleable__control:checked~label.sk-toggleable__label {background-color: #d4ebff;}#sk-container-id-2 div.sk-label input.sk-toggleable__control:checked~label.sk-toggleable__label {background-color: #d4ebff;}#sk-container-id-2 input.sk-hidden--visually {border: 0;clip: rect(1px 1px 1px 1px);clip: rect(1px, 1px, 1px, 1px);height: 1px;margin: -1px;overflow: hidden;padding: 0;position: absolute;width: 1px;}#sk-container-id-2 div.sk-estimator {font-family: monospace;background-color: #f0f8ff;border: 1px dotted black;border-radius: 0.25em;box-sizing: border-box;margin-bottom: 0.5em;}#sk-container-id-2 div.sk-estimator:hover {background-color: #d4ebff;}#sk-container-id-2 div.sk-parallel-item::after {content: \"\";width: 100%;border-bottom: 1px solid gray;flex-grow: 1;}#sk-container-id-2 div.sk-label:hover label.sk-toggleable__label {background-color: #d4ebff;}#sk-container-id-2 div.sk-serial::before {content: \"\";position: absolute;border-left: 1px solid gray;box-sizing: border-box;top: 0;bottom: 0;left: 50%;z-index: 0;}#sk-container-id-2 div.sk-serial {display: flex;flex-direction: column;align-items: center;background-color: white;padding-right: 0.2em;padding-left: 0.2em;position: relative;}#sk-container-id-2 div.sk-item {position: relative;z-index: 1;}#sk-container-id-2 div.sk-parallel {display: flex;align-items: stretch;justify-content: center;background-color: white;position: relative;}#sk-container-id-2 div.sk-item::before, #sk-container-id-2 div.sk-parallel-item::before {content: \"\";position: absolute;border-left: 1px solid gray;box-sizing: border-box;top: 0;bottom: 0;left: 50%;z-index: -1;}#sk-container-id-2 div.sk-parallel-item {display: flex;flex-direction: column;z-index: 1;position: relative;background-color: white;}#sk-container-id-2 div.sk-parallel-item:first-child::after {align-self: flex-end;width: 50%;}#sk-container-id-2 div.sk-parallel-item:last-child::after {align-self: flex-start;width: 50%;}#sk-container-id-2 div.sk-parallel-item:only-child::after {width: 0;}#sk-container-id-2 div.sk-dashed-wrapped {border: 1px dashed gray;margin: 0 0.4em 0.5em 0.4em;box-sizing: border-box;padding-bottom: 0.4em;background-color: white;}#sk-container-id-2 div.sk-label label {font-family: monospace;font-weight: bold;display: inline-block;line-height: 1.2em;}#sk-container-id-2 div.sk-label-container {text-align: center;}#sk-container-id-2 div.sk-container {/* jupyter's `normalize.less` sets `[hidden] { display: none; }` but bootstrap.min.css set `[hidden] { display: none !important; }` so we also need the `!important` here to be able to override the default hidden behavior on the sphinx rendered scikit-learn.org. See: https://github.com/scikit-learn/scikit-learn/issues/21755 */display: inline-block !important;position: relative;}#sk-container-id-2 div.sk-text-repr-fallback {display: none;}</style><div id=\"sk-container-id-2\" class=\"sk-top-container\"><div class=\"sk-text-repr-fallback\"><pre>StandardScaler()</pre><b>In a Jupyter environment, please rerun this cell to show the HTML representation or trust the notebook. <br />On GitHub, the HTML representation is unable to render, please try loading this page with nbviewer.org.</b></div><div class=\"sk-container\" hidden><div class=\"sk-item\"><div class=\"sk-estimator sk-toggleable\"><input class=\"sk-toggleable__control sk-hidden--visually\" id=\"sk-estimator-id-2\" type=\"checkbox\" checked><label for=\"sk-estimator-id-2\" class=\"sk-toggleable__label sk-toggleable__label-arrow\">StandardScaler</label><div class=\"sk-toggleable__content\"><pre>StandardScaler()</pre></div></div></div></div></div>"
            ],
            "text/plain": [
              "StandardScaler()"
            ]
          },
          "execution_count": 47,
          "metadata": {},
          "output_type": "execute_result"
        }
      ],
      "source": [
        "scaler = StandardScaler()\n",
        "scaler.set_output(transform=\"pandas\")\n",
        "scaler.fit(merged3[numeric_columns])"
      ]
    },
    {
      "cell_type": "code",
      "execution_count": 48,
      "metadata": {},
      "outputs": [],
      "source": [
        "import pickle\n",
        "\n",
        "with open('encoder.pkl', 'wb') as f:\n",
        "    pickle.dump(encoder, f)\n",
        "\n",
        "with open('scaler.pkl', 'wb') as f:\n",
        "    pickle.dump(scaler, f)"
      ]
    },
    {
      "cell_type": "code",
      "execution_count": 49,
      "metadata": {},
      "outputs": [],
      "source": [
        "scaled_num = scaler.transform(merged3[numeric_columns])\n",
        "encoded_cat = encoder.transform(merged3[categoric_columns])\n",
        "merged3 = pd.concat([scaled_num, encoded_cat, merged3.sales], axis=1)"
      ]
    },
    {
      "attachments": {},
      "cell_type": "markdown",
      "metadata": {},
      "source": [
        "Resampling by Day"
      ]
    },
    {
      "cell_type": "code",
      "execution_count": 51,
      "metadata": {},
      "outputs": [
        {
          "name": "stdout",
          "output_type": "stream",
          "text": [
            "(1688, 4)\n"
          ]
        },
        {
          "data": {
            "text/html": [
              "<div>\n",
              "<style scoped>\n",
              "    .dataframe tbody tr th:only-of-type {\n",
              "        vertical-align: middle;\n",
              "    }\n",
              "\n",
              "    .dataframe tbody tr th {\n",
              "        vertical-align: top;\n",
              "    }\n",
              "\n",
              "    .dataframe thead th {\n",
              "        text-align: right;\n",
              "    }\n",
              "</style>\n",
              "<table border=\"1\" class=\"dataframe\">\n",
              "  <thead>\n",
              "    <tr style=\"text-align: right;\">\n",
              "      <th></th>\n",
              "      <th>id</th>\n",
              "      <th>store_nbr</th>\n",
              "      <th>sales</th>\n",
              "      <th>onpromotion</th>\n",
              "    </tr>\n",
              "    <tr>\n",
              "      <th>date</th>\n",
              "      <th></th>\n",
              "      <th></th>\n",
              "      <th></th>\n",
              "      <th></th>\n",
              "    </tr>\n",
              "  </thead>\n",
              "  <tbody>\n",
              "    <tr>\n",
              "      <th>2013-01-01</th>\n",
              "      <td>890.5</td>\n",
              "      <td>27.5</td>\n",
              "      <td>1.409438</td>\n",
              "      <td>0.0</td>\n",
              "    </tr>\n",
              "    <tr>\n",
              "      <th>2013-01-02</th>\n",
              "      <td>2672.5</td>\n",
              "      <td>27.5</td>\n",
              "      <td>278.390807</td>\n",
              "      <td>0.0</td>\n",
              "    </tr>\n",
              "    <tr>\n",
              "      <th>2013-01-03</th>\n",
              "      <td>4454.5</td>\n",
              "      <td>27.5</td>\n",
              "      <td>202.840197</td>\n",
              "      <td>0.0</td>\n",
              "    </tr>\n",
              "  </tbody>\n",
              "</table>\n",
              "</div>"
            ],
            "text/plain": [
              "                id  store_nbr       sales  onpromotion\n",
              "date                                                  \n",
              "2013-01-01   890.5       27.5    1.409438          0.0\n",
              "2013-01-02  2672.5       27.5  278.390807          0.0\n",
              "2013-01-03  4454.5       27.5  202.840197          0.0"
            ]
          },
          "execution_count": 51,
          "metadata": {},
          "output_type": "execute_result"
        }
      ],
      "source": [
        "train_daily_mean = (\n",
        "    train__with_all_dates\n",
        "    .set_index('date')\n",
        "    .resample('D').mean()\n",
        ")\n",
        "print(train_daily_mean.shape)\n",
        "train_daily_mean.head(3)"
      ]
    },
    {
      "cell_type": "code",
      "execution_count": 52,
      "metadata": {},
      "outputs": [],
      "source": [
        "# sales_data = train_daily_mean.drop(columns=['store_nbr', 'onpromotion'])\n",
        "sales_data = train_daily_mean['sales']\n",
        "sales_data = sales_data.fillna(0)"
      ]
    },
    {
      "cell_type": "code",
      "execution_count": 53,
      "metadata": {},
      "outputs": [],
      "source": [
        "train1=train_daily_mean"
      ]
    },
    {
      "cell_type": "code",
      "execution_count": 54,
      "metadata": {},
      "outputs": [],
      "source": [
        "trainn, evall = merged3[30000:], merged3[:30000]"
      ]
    },
    {
      "cell_type": "code",
      "execution_count": 55,
      "metadata": {},
      "outputs": [],
      "source": [
        "# Split data into parts\n",
        "x = trainn.drop(['sales'], axis = 1)\n",
        "y = trainn['sales']"
      ]
    },
    {
      "cell_type": "code",
      "execution_count": 56,
      "metadata": {},
      "outputs": [],
      "source": [
        "# Split data into Train Test\n",
        "X_train, X_test, y_train, y_test = x[200:], x[:200], y[200:], y[:200]"
      ]
    },
    {
      "cell_type": "markdown",
      "metadata": {},
      "source": [
        "# Machine Learning Modeling "
      ]
    },
    {
      "attachments": {},
      "cell_type": "markdown",
      "metadata": {},
      "source": [
        "# Traditional Machine Learning Models"
      ]
    },
    {
      "attachments": {},
      "cell_type": "markdown",
      "metadata": {},
      "source": [
        "### DecisionTreeRegressor"
      ]
    },
    {
      "cell_type": "code",
      "execution_count": 57,
      "metadata": {},
      "outputs": [],
      "source": [
        "from sklearn.tree import DecisionTreeRegressor\n",
        "tree = DecisionTreeRegressor()\n",
        "model_tree = tree.fit(X_train, y_train)\n",
        "\n",
        "# Make prediction on X_test\n",
        "tree_pred = model_tree.predict(X_test)"
      ]
    },
    {
      "cell_type": "code",
      "execution_count": 59,
      "metadata": {},
      "outputs": [],
      "source": [
        "with open(\"model.pkl\", \"wb\") as f:\n",
        "    pickle.dump(model_tree, f)"
      ]
    },
    {
      "cell_type": "code",
      "execution_count": null,
      "metadata": {},
      "outputs": [
        {
          "data": {
            "text/plain": [
              "<BarContainer object of 26 artists>"
            ]
          },
          "execution_count": 70,
          "metadata": {},
          "output_type": "execute_result"
        },
        {
          "data": {
            "image/png": "[encoded data removed]",
            "text/plain": [
              "<Figure size 1200x700 with 1 Axes>"
            ]
          },
          "metadata": {},
          "output_type": "display_data"
        }
      ],
      "source": [
        "# feature importance for decision tree\n",
        "plt.figure(figsize=(12,7))\n",
        "plt.barh(x.columns, model_tree.feature_importances_)"
      ]
    },
    {
      "cell_type": "code",
      "execution_count": null,
      "metadata": {},
      "outputs": [
        {
          "data": {
            "image/png": "[encoded data removed]",
            "text/plain": [
              "<Figure size 800x400 with 1 Axes>"
            ]
          },
          "metadata": {},
          "output_type": "display_data"
        }
      ],
      "source": [
        "plt.figure(figsize=(8,4))\n",
        "plt.plot(y_test, label ='Actual Sales')\n",
        "plt.plot(tree_pred, label='DecisionTreeRegressor')\n",
        "plt.legend(loc='best')\n",
        "plt.title('DecisionTreeRegressor Prediction')\n",
        "plt.show()"
      ]
    },
    {
      "cell_type": "code",
      "execution_count": null,
      "metadata": {},
      "outputs": [
        {
          "data": {
            "text/html": [
              "<div>\n",
              "<style scoped>\n",
              "    .dataframe tbody tr th:only-of-type {\n",
              "        vertical-align: middle;\n",
              "    }\n",
              "\n",
              "    .dataframe tbody tr th {\n",
              "        vertical-align: top;\n",
              "    }\n",
              "\n",
              "    .dataframe thead th {\n",
              "        text-align: right;\n",
              "    }\n",
              "</style>\n",
              "<table border=\"1\" class=\"dataframe\">\n",
              "  <thead>\n",
              "    <tr style=\"text-align: right;\">\n",
              "      <th></th>\n",
              "      <th>Model</th>\n",
              "      <th>MSE</th>\n",
              "      <th>RMSE</th>\n",
              "      <th>MSLE</th>\n",
              "      <th>RMSLE</th>\n",
              "    </tr>\n",
              "  </thead>\n",
              "  <tbody>\n",
              "    <tr>\n",
              "      <th>0</th>\n",
              "      <td>Linear</td>\n",
              "      <td>230030.436642</td>\n",
              "      <td>479.61</td>\n",
              "      <td>NaN</td>\n",
              "      <td>NaN</td>\n",
              "    </tr>\n",
              "    <tr>\n",
              "      <th>1</th>\n",
              "      <td>DecisionTree</td>\n",
              "      <td>5384.248293</td>\n",
              "      <td>73.38</td>\n",
              "      <td>0.07</td>\n",
              "      <td>0.27</td>\n",
              "    </tr>\n",
              "  </tbody>\n",
              "</table>\n",
              "</div>"
            ],
            "text/plain": [
              "          Model            MSE    RMSE  MSLE  RMSLE\n",
              "0        Linear  230030.436642  479.61   NaN    NaN\n",
              "1  DecisionTree    5384.248293   73.38  0.07   0.27"
            ]
          },
          "execution_count": 72,
          "metadata": {},
          "output_type": "execute_result"
        }
      ],
      "source": [
        "mse = mean_squared_error(y_test, tree_pred )\n",
        "rmse = np.sqrt(mean_squared_error(y_test, tree_pred )).round(2)\n",
        "rmsle = np.sqrt(mean_squared_log_error(y_test, tree_pred)).round(2)\n",
        "msle = mean_squared_log_error(y_test, tree_pred).round(2)\n",
        "\n",
        "\n",
        "results = pd.DataFrame([['DecisionTree', mse, msle, rmse, rmsle]], columns = ['Model', 'MSE', 'MSLE', 'RMSE', 'RMSLE'])\n",
        "# results = results.append(model_results, ignore_index = True)\n",
        "results"
      ]
    },
    {
      "attachments": {},
      "cell_type": "markdown",
      "metadata": {},
      "source": [
        "### KNN"
      ]
    },
    {
      "cell_type": "code",
      "execution_count": null,
      "metadata": {},
      "outputs": [],
      "source": [
        "from sklearn.neighbors import KNeighborsRegressor\n",
        "neigh = KNeighborsRegressor(n_neighbors=1)\n",
        "# fit model no training data\n",
        "neigh.fit(X_train, y_train)\n",
        "\n",
        "# make predictions for test data\n",
        "neigh_pred = neigh.predict(X_test)"
      ]
    },
    {
      "cell_type": "code",
      "execution_count": null,
      "metadata": {},
      "outputs": [
        {
          "data": {
            "text/html": [
              "<div>\n",
              "<style scoped>\n",
              "    .dataframe tbody tr th:only-of-type {\n",
              "        vertical-align: middle;\n",
              "    }\n",
              "\n",
              "    .dataframe tbody tr th {\n",
              "        vertical-align: top;\n",
              "    }\n",
              "\n",
              "    .dataframe thead th {\n",
              "        text-align: right;\n",
              "    }\n",
              "</style>\n",
              "<table border=\"1\" class=\"dataframe\">\n",
              "  <thead>\n",
              "    <tr style=\"text-align: right;\">\n",
              "      <th></th>\n",
              "      <th>Model</th>\n",
              "      <th>MSE</th>\n",
              "      <th>RMSE</th>\n",
              "      <th>MSLE</th>\n",
              "      <th>RMSLE</th>\n",
              "    </tr>\n",
              "  </thead>\n",
              "  <tbody>\n",
              "    <tr>\n",
              "      <th>0</th>\n",
              "      <td>Linear</td>\n",
              "      <td>230030.436642</td>\n",
              "      <td>479.61</td>\n",
              "      <td>NaN</td>\n",
              "      <td>NaN</td>\n",
              "    </tr>\n",
              "    <tr>\n",
              "      <th>1</th>\n",
              "      <td>KNN</td>\n",
              "      <td>2628.070195</td>\n",
              "      <td>51.26</td>\n",
              "      <td>0.293239</td>\n",
              "      <td>0.54152</td>\n",
              "    </tr>\n",
              "  </tbody>\n",
              "</table>\n",
              "</div>"
            ],
            "text/plain": [
              "    Model            MSE    RMSE      MSLE    RMSLE\n",
              "0  Linear  230030.436642  479.61       NaN      NaN\n",
              "1     KNN    2628.070195   51.26  0.293239  0.54152"
            ]
          },
          "execution_count": 54,
          "metadata": {},
          "output_type": "execute_result"
        }
      ],
      "source": [
        "mse = mean_squared_error(y_test, neigh_pred )\n",
        "msle = mean_squared_log_error(y_test, neigh_pred)\n",
        "rmse = np.sqrt(mean_squared_error(y_test, neigh_pred )).round(2)\n",
        "rmsle = np.sqrt(mean_squared_log_error(y_test, neigh_pred)).round(5)\n",
        "\n",
        "# model_results = pd.DataFrame([['lightGBM', mse, rmse]], columns = ['Model', 'MSE', 'RMSE'])\n",
        "model_results = pd.DataFrame([['KNN', mse, msle, rmse, rmsle]], columns = ['Model', 'MSE', 'MSLE', 'RMSE', 'RMSLE'])\n",
        "results = results.append(model_results, ignore_index = True)\n",
        "results"
      ]
    },
    {
      "attachments": {},
      "cell_type": "markdown",
      "metadata": {},
      "source": [
        "## BackTest"
      ]
    },
    {
      "cell_type": "code",
      "execution_count": null,
      "metadata": {},
      "outputs": [],
      "source": [
        "backtests = {\n",
        "    1: ('2017-07-01', '2017-07-15'),\n",
        "    2: ('2017-07-15', '2017-07-30'),\n",
        "    3: ('2017-08-01', '2017-08-15')\n",
        "}"
      ]
    },
    {
      "cell_type": "code",
      "execution_count": null,
      "metadata": {},
      "outputs": [],
      "source": [
        "# Backtests with Decision Tree\n",
        "scores = {}\n",
        "\n",
        "for idx, period in enumerate(backtests):\n",
        "    \n",
        "    _train = trainn.reset_index()[trainn.reset_index()['date'] < backtests[period][0]]\n",
        "    _test = trainn.reset_index()[(trainn.reset_index()['date'] >= backtests[period][0]) & (trainn.reset_index()['date'] <= backtests[period][1])]\n",
        "    \n",
        "    Xtrain, ytrain = _train.set_index(['date']).drop(columns=['sales']).values, _train.sales.values\n",
        "    Xtest, ytest = _test.set_index(['date']).drop(columns=['sales']).values, _test.sales.values\n",
        "    \n",
        "    lgbm_model = DecisionTreeRegressor().fit(Xtrain, ytrain)\n",
        "    \n",
        "    ypred = lgbm_model.predict(Xtest)\n",
        "    \n",
        "    scores[period] = np.sqrt(mean_squared_log_error(ytest, ypred))\n",
        "\n",
        "print(scores)"
      ]
    },
    {
      "attachments": {},
      "cell_type": "markdown",
      "metadata": {},
      "source": [
        "## trying our validation set on DecisionTeee Model (overfitting or underfitting)"
      ]
    },
    {
      "cell_type": "code",
      "execution_count": null,
      "metadata": {},
      "outputs": [],
      "source": [
        "# Split data into parts\n",
        "x = evall.drop(['sales'], axis = 1)\n",
        "y = evall['sales']"
      ]
    },
    {
      "cell_type": "code",
      "execution_count": null,
      "metadata": {},
      "outputs": [],
      "source": [
        "# Make prediction on X_test\n",
        "tree_pred = neigh.predict(x)"
      ]
    },
    {
      "cell_type": "code",
      "execution_count": null,
      "metadata": {},
      "outputs": [
        {
          "data": {
            "text/html": [
              "<div>\n",
              "<style scoped>\n",
              "    .dataframe tbody tr th:only-of-type {\n",
              "        vertical-align: middle;\n",
              "    }\n",
              "\n",
              "    .dataframe tbody tr th {\n",
              "        vertical-align: top;\n",
              "    }\n",
              "\n",
              "    .dataframe thead th {\n",
              "        text-align: right;\n",
              "    }\n",
              "</style>\n",
              "<table border=\"1\" class=\"dataframe\">\n",
              "  <thead>\n",
              "    <tr style=\"text-align: right;\">\n",
              "      <th></th>\n",
              "      <th>Model</th>\n",
              "      <th>MSE</th>\n",
              "      <th>MSLE</th>\n",
              "      <th>RMSE</th>\n",
              "      <th>RMSLE</th>\n",
              "    </tr>\n",
              "  </thead>\n",
              "  <tbody>\n",
              "    <tr>\n",
              "      <th>0</th>\n",
              "      <td>DecisionTree</td>\n",
              "      <td>526781.23984</td>\n",
              "      <td>3.43</td>\n",
              "      <td>725.8</td>\n",
              "      <td>1.851066</td>\n",
              "    </tr>\n",
              "  </tbody>\n",
              "</table>\n",
              "</div>"
            ],
            "text/plain": [
              "          Model           MSE  MSLE   RMSE     RMSLE\n",
              "0  DecisionTree  526781.23984  3.43  725.8  1.851066"
            ]
          },
          "execution_count": 58,
          "metadata": {},
          "output_type": "execute_result"
        }
      ],
      "source": [
        "mse = mean_squared_error(y, tree_pred )\n",
        "rmse = np.sqrt(mean_squared_error(y, tree_pred )).round(2)\n",
        "rmsle = np.sqrt(mean_squared_log_error(y, tree_pred)).round(6)\n",
        "msle = mean_squared_log_error(y, tree_pred).round(2)\n",
        "\n",
        "\n",
        "results = pd.DataFrame([['DecisionTree', mse, msle, rmse, rmsle]], columns = ['Model', 'MSE', 'MSLE', 'RMSE', 'RMSLE'])\n",
        "results"
      ]
    },
    {
      "attachments": {},
      "cell_type": "markdown",
      "metadata": {},
      "source": [
        "## Preparing our test data"
      ]
    },
    {
      "cell_type": "code",
      "execution_count": null,
      "metadata": {},
      "outputs": [
        {
          "data": {
            "text/html": [
              "<div>\n",
              "<style scoped>\n",
              "    .dataframe tbody tr th:only-of-type {\n",
              "        vertical-align: middle;\n",
              "    }\n",
              "\n",
              "    .dataframe tbody tr th {\n",
              "        vertical-align: top;\n",
              "    }\n",
              "\n",
              "    .dataframe thead th {\n",
              "        text-align: right;\n",
              "    }\n",
              "</style>\n",
              "<table border=\"1\" class=\"dataframe\">\n",
              "  <thead>\n",
              "    <tr style=\"text-align: right;\">\n",
              "      <th></th>\n",
              "      <th>date</th>\n",
              "      <th>store_nbr</th>\n",
              "      <th>family</th>\n",
              "      <th>onpromotion</th>\n",
              "    </tr>\n",
              "  </thead>\n",
              "  <tbody>\n",
              "    <tr>\n",
              "      <th>0</th>\n",
              "      <td>2017-08-16</td>\n",
              "      <td>1</td>\n",
              "      <td>AUTOMOTIVE</td>\n",
              "      <td>0</td>\n",
              "    </tr>\n",
              "    <tr>\n",
              "      <th>1</th>\n",
              "      <td>2017-08-16</td>\n",
              "      <td>1</td>\n",
              "      <td>BABY CARE</td>\n",
              "      <td>0</td>\n",
              "    </tr>\n",
              "    <tr>\n",
              "      <th>2</th>\n",
              "      <td>2017-08-16</td>\n",
              "      <td>1</td>\n",
              "      <td>BEAUTY</td>\n",
              "      <td>2</td>\n",
              "    </tr>\n",
              "    <tr>\n",
              "      <th>3</th>\n",
              "      <td>2017-08-16</td>\n",
              "      <td>1</td>\n",
              "      <td>BEVERAGES</td>\n",
              "      <td>20</td>\n",
              "    </tr>\n",
              "    <tr>\n",
              "      <th>4</th>\n",
              "      <td>2017-08-16</td>\n",
              "      <td>1</td>\n",
              "      <td>BOOKS</td>\n",
              "      <td>0</td>\n",
              "    </tr>\n",
              "    <tr>\n",
              "      <th>...</th>\n",
              "      <td>...</td>\n",
              "      <td>...</td>\n",
              "      <td>...</td>\n",
              "      <td>...</td>\n",
              "    </tr>\n",
              "    <tr>\n",
              "      <th>28507</th>\n",
              "      <td>2017-08-31</td>\n",
              "      <td>9</td>\n",
              "      <td>POULTRY</td>\n",
              "      <td>1</td>\n",
              "    </tr>\n",
              "    <tr>\n",
              "      <th>28508</th>\n",
              "      <td>2017-08-31</td>\n",
              "      <td>9</td>\n",
              "      <td>PREPARED FOODS</td>\n",
              "      <td>0</td>\n",
              "    </tr>\n",
              "    <tr>\n",
              "      <th>28509</th>\n",
              "      <td>2017-08-31</td>\n",
              "      <td>9</td>\n",
              "      <td>PRODUCE</td>\n",
              "      <td>1</td>\n",
              "    </tr>\n",
              "    <tr>\n",
              "      <th>28510</th>\n",
              "      <td>2017-08-31</td>\n",
              "      <td>9</td>\n",
              "      <td>SCHOOL AND OFFICE SUPPLIES</td>\n",
              "      <td>9</td>\n",
              "    </tr>\n",
              "    <tr>\n",
              "      <th>28511</th>\n",
              "      <td>2017-08-31</td>\n",
              "      <td>9</td>\n",
              "      <td>SEAFOOD</td>\n",
              "      <td>0</td>\n",
              "    </tr>\n",
              "  </tbody>\n",
              "</table>\n",
              "<p>28512 rows × 4 columns</p>\n",
              "</div>"
            ],
            "text/plain": [
              "            date  store_nbr                      family  onpromotion\n",
              "0     2017-08-16          1                  AUTOMOTIVE            0\n",
              "1     2017-08-16          1                   BABY CARE            0\n",
              "2     2017-08-16          1                      BEAUTY            2\n",
              "3     2017-08-16          1                   BEVERAGES           20\n",
              "4     2017-08-16          1                       BOOKS            0\n",
              "...          ...        ...                         ...          ...\n",
              "28507 2017-08-31          9                     POULTRY            1\n",
              "28508 2017-08-31          9              PREPARED FOODS            0\n",
              "28509 2017-08-31          9                     PRODUCE            1\n",
              "28510 2017-08-31          9  SCHOOL AND OFFICE SUPPLIES            9\n",
              "28511 2017-08-31          9                     SEAFOOD            0\n",
              "\n",
              "[28512 rows x 4 columns]"
            ]
          },
          "execution_count": 162,
          "metadata": {},
          "output_type": "execute_result"
        }
      ],
      "source": [
        "test"
      ]
    },
    {
      "attachments": {},
      "cell_type": "markdown",
      "metadata": {},
      "source": [
        "for our test data, we merge just like for our train data"
      ]
    },
    {
      "cell_type": "code",
      "execution_count": null,
      "metadata": {},
      "outputs": [
        {
          "name": "stdout",
          "output_type": "stream",
          "text": [
            "(16, 2)\n"
          ]
        },
        {
          "data": {
            "text/html": [
              "<div>\n",
              "<style scoped>\n",
              "    .dataframe tbody tr th:only-of-type {\n",
              "        vertical-align: middle;\n",
              "    }\n",
              "\n",
              "    .dataframe tbody tr th {\n",
              "        vertical-align: top;\n",
              "    }\n",
              "\n",
              "    .dataframe thead th {\n",
              "        text-align: right;\n",
              "    }\n",
              "</style>\n",
              "<table border=\"1\" class=\"dataframe\">\n",
              "  <thead>\n",
              "    <tr style=\"text-align: right;\">\n",
              "      <th></th>\n",
              "      <th>store_nbr</th>\n",
              "      <th>onpromotion</th>\n",
              "    </tr>\n",
              "    <tr>\n",
              "      <th>date</th>\n",
              "      <th></th>\n",
              "      <th></th>\n",
              "    </tr>\n",
              "  </thead>\n",
              "  <tbody>\n",
              "    <tr>\n",
              "      <th>2017-08-16</th>\n",
              "      <td>27.5</td>\n",
              "      <td>17.137486</td>\n",
              "    </tr>\n",
              "    <tr>\n",
              "      <th>2017-08-17</th>\n",
              "      <td>27.5</td>\n",
              "      <td>4.211560</td>\n",
              "    </tr>\n",
              "    <tr>\n",
              "      <th>2017-08-18</th>\n",
              "      <td>27.5</td>\n",
              "      <td>7.731201</td>\n",
              "    </tr>\n",
              "  </tbody>\n",
              "</table>\n",
              "</div>"
            ],
            "text/plain": [
              "            store_nbr  onpromotion\n",
              "date                              \n",
              "2017-08-16       27.5    17.137486\n",
              "2017-08-17       27.5     4.211560\n",
              "2017-08-18       27.5     7.731201"
            ]
          },
          "execution_count": 163,
          "metadata": {},
          "output_type": "execute_result"
        }
      ],
      "source": [
        "mer_test = test.merge(\n",
        "    stores, \n",
        "    how='left', \n",
        "    on=['store_nbr'])\n",
        "#merging merged with oil data\n",
        "merged2_test=mer_test.merge(\n",
        "    oil,\n",
        "    how='left', \n",
        "    on=['date'])\n",
        "#merging merged2 with holidays\n",
        "merged3_test=merged2_test.merge(holidays,\n",
        "    how='left', \n",
        "    on=['date'])"
      ]
    },
    {
      "cell_type": "code",
      "execution_count": null,
      "metadata": {},
      "outputs": [],
      "source": [
        "merged3.isnull().sum()"
      ]
    },
    {
      "attachments": {},
      "cell_type": "markdown",
      "metadata": {},
      "source": [
        "### predicting sales in our test"
      ]
    },
    {
      "cell_type": "code",
      "execution_count": null,
      "metadata": {},
      "outputs": [
        {
          "data": {
            "text/plain": [
              "2017-08-16    418.225351\n",
              "2017-08-17    414.127187\n",
              "2017-08-18    446.862944\n",
              "2017-08-19    503.986936\n",
              "2017-08-20    510.704314\n",
              "2017-08-21    456.135285\n",
              "2017-08-22    418.585445\n",
              "2017-08-23    414.614947\n",
              "2017-08-24    414.650586\n",
              "2017-08-25    440.043247\n",
              "2017-08-26    483.082974\n",
              "2017-08-27    486.541744\n",
              "2017-08-28    444.431947\n",
              "2017-08-29    414.629915\n",
              "2017-08-30    411.255707\n",
              "2017-08-31    413.387713\n",
              "Freq: D, dtype: float64"
            ]
          },
          "execution_count": 167,
          "metadata": {},
          "output_type": "execute_result"
        }
      ],
      "source": [
        "# test_pred = armodel.predict(merged3_test_resampled)\n",
        "test_pred = armodel.predict(\n",
        "    start=len(x),\n",
        "    end=len(x)+ len(test_date) -1,\n",
        "    dynamic=False\n",
        ")\n",
        "test_pred[np.isnan(test_pred)] = 0\n",
        "test_pred"
      ]
    },
    {
      "cell_type": "code",
      "execution_count": null,
      "metadata": {},
      "outputs": [
        {
          "data": {
            "text/html": [
              "<div>\n",
              "<style scoped>\n",
              "    .dataframe tbody tr th:only-of-type {\n",
              "        vertical-align: middle;\n",
              "    }\n",
              "\n",
              "    .dataframe tbody tr th {\n",
              "        vertical-align: top;\n",
              "    }\n",
              "\n",
              "    .dataframe thead th {\n",
              "        text-align: right;\n",
              "    }\n",
              "</style>\n",
              "<table border=\"1\" class=\"dataframe\">\n",
              "  <thead>\n",
              "    <tr style=\"text-align: right;\">\n",
              "      <th></th>\n",
              "      <th>sales</th>\n",
              "    </tr>\n",
              "  </thead>\n",
              "  <tbody>\n",
              "    <tr>\n",
              "      <th>2017-08-16</th>\n",
              "      <td>418.225351</td>\n",
              "    </tr>\n",
              "    <tr>\n",
              "      <th>2017-08-17</th>\n",
              "      <td>414.127187</td>\n",
              "    </tr>\n",
              "    <tr>\n",
              "      <th>2017-08-18</th>\n",
              "      <td>446.862944</td>\n",
              "    </tr>\n",
              "    <tr>\n",
              "      <th>2017-08-19</th>\n",
              "      <td>503.986936</td>\n",
              "    </tr>\n",
              "    <tr>\n",
              "      <th>2017-08-20</th>\n",
              "      <td>510.704314</td>\n",
              "    </tr>\n",
              "    <tr>\n",
              "      <th>2017-08-21</th>\n",
              "      <td>456.135285</td>\n",
              "    </tr>\n",
              "    <tr>\n",
              "      <th>2017-08-22</th>\n",
              "      <td>418.585445</td>\n",
              "    </tr>\n",
              "    <tr>\n",
              "      <th>2017-08-23</th>\n",
              "      <td>414.614947</td>\n",
              "    </tr>\n",
              "    <tr>\n",
              "      <th>2017-08-24</th>\n",
              "      <td>414.650586</td>\n",
              "    </tr>\n",
              "    <tr>\n",
              "      <th>2017-08-25</th>\n",
              "      <td>440.043247</td>\n",
              "    </tr>\n",
              "    <tr>\n",
              "      <th>2017-08-26</th>\n",
              "      <td>483.082974</td>\n",
              "    </tr>\n",
              "    <tr>\n",
              "      <th>2017-08-27</th>\n",
              "      <td>486.541744</td>\n",
              "    </tr>\n",
              "    <tr>\n",
              "      <th>2017-08-28</th>\n",
              "      <td>444.431947</td>\n",
              "    </tr>\n",
              "    <tr>\n",
              "      <th>2017-08-29</th>\n",
              "      <td>414.629915</td>\n",
              "    </tr>\n",
              "    <tr>\n",
              "      <th>2017-08-30</th>\n",
              "      <td>411.255707</td>\n",
              "    </tr>\n",
              "    <tr>\n",
              "      <th>2017-08-31</th>\n",
              "      <td>413.387713</td>\n",
              "    </tr>\n",
              "  </tbody>\n",
              "</table>\n",
              "</div>"
            ],
            "text/plain": [
              "                 sales\n",
              "2017-08-16  418.225351\n",
              "2017-08-17  414.127187\n",
              "2017-08-18  446.862944\n",
              "2017-08-19  503.986936\n",
              "2017-08-20  510.704314\n",
              "2017-08-21  456.135285\n",
              "2017-08-22  418.585445\n",
              "2017-08-23  414.614947\n",
              "2017-08-24  414.650586\n",
              "2017-08-25  440.043247\n",
              "2017-08-26  483.082974\n",
              "2017-08-27  486.541744\n",
              "2017-08-28  444.431947\n",
              "2017-08-29  414.629915\n",
              "2017-08-30  411.255707\n",
              "2017-08-31  413.387713"
            ]
          },
          "execution_count": 168,
          "metadata": {},
          "output_type": "execute_result"
        }
      ],
      "source": [
        "test_sales = pd.DataFrame(test_pred, columns=['sales'])\n",
        "test_sales.head(30)"
      ]
    },
    {
      "cell_type": "code",
      "execution_count": null,
      "metadata": {},
      "outputs": [],
      "source": [
        "# Save sample submission\n",
        "# test_sales[[ 'sales']].to_csv('submission.csv', index=False)"
      ]
    },
    {
      "cell_type": "code",
      "execution_count": null,
      "metadata": {},
      "outputs": [],
      "source": []
    }
  ],
  "metadata": {
    "kernelspec": {
      "display_name": "base",
      "language": "python",
      "name": "python3"
    },
    "language_info": {
      "codemirror_mode": {
        "name": "ipython",
        "version": 3
      },
      "file_extension": ".py",
      "mimetype": "text/x-python",
      "name": "python",
      "nbconvert_exporter": "python",
      "pygments_lexer": "ipython3",
      "version": "3.9.13"
    },
    "vscode": {
      "interpreter": {
        "hash": "7679c2132d3f6ce38c9df14d554b39c06862b36a4e6689c81f9ae15bd0911d7d"
      }
    }
  },
  "nbformat": 4,
  "nbformat_minor": 2
}
